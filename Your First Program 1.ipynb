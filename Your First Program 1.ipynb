{
 "cells": [
  {
   "cell_type": "code",
   "execution_count": 1,
   "id": "687dfb5b-4d2d-4ca2-abf7-6c7980084c26",
   "metadata": {},
   "outputs": [
    {
     "name": "stdout",
     "output_type": "stream",
     "text": [
      "Hello\n",
      "World!\n"
     ]
    }
   ],
   "source": [
    "print(\"Hello\\nWorld!\")"
   ]
  },
  {
   "cell_type": "code",
   "execution_count": 2,
   "id": "1536fd0f-5983-4c3b-9ad3-f974bea26bf2",
   "metadata": {},
   "outputs": [],
   "source": [
    "# print('Hello World!')"
   ]
  },
  {
   "cell_type": "code",
   "execution_count": 3,
   "id": "9d8aacae-e548-4bae-8a4f-2c7a13ac108e",
   "metadata": {},
   "outputs": [
    {
     "data": {
      "text/plain": [
       "int"
      ]
     },
     "execution_count": 3,
     "metadata": {},
     "output_type": "execute_result"
    }
   ],
   "source": [
    "type(int(1.0))"
   ]
  },
  {
   "cell_type": "code",
   "execution_count": 4,
   "id": "ae60420d-57be-4b0d-a6ee-92708aec39ef",
   "metadata": {},
   "outputs": [
    {
     "data": {
      "text/plain": [
       "True"
      ]
     },
     "execution_count": 4,
     "metadata": {},
     "output_type": "execute_result"
    }
   ],
   "source": [
    "bool(1)"
   ]
  },
  {
   "cell_type": "code",
   "execution_count": 5,
   "id": "ccfa17e9-d642-42c1-aa9f-03b173cebe75",
   "metadata": {},
   "outputs": [
    {
     "data": {
      "text/plain": [
       "'Michael Jackson'"
      ]
     },
     "execution_count": 5,
     "metadata": {},
     "output_type": "execute_result"
    }
   ],
   "source": [
    "name = \"Michael Jackson\"\n",
    "name"
   ]
  },
  {
   "cell_type": "code",
   "execution_count": 6,
   "id": "d03b5c02-cc62-4672-b07e-2aec76faab6f",
   "metadata": {},
   "outputs": [
    {
     "data": {
      "text/plain": [
       "'Mich'"
      ]
     },
     "execution_count": 6,
     "metadata": {},
     "output_type": "execute_result"
    }
   ],
   "source": [
    "name[0:4]"
   ]
  },
  {
   "cell_type": "code",
   "execution_count": 7,
   "id": "bd375eb9-64a0-4dd1-8a7b-3bfd501e38bc",
   "metadata": {},
   "outputs": [
    {
     "data": {
      "text/plain": [
       "'Jack'"
      ]
     },
     "execution_count": 7,
     "metadata": {},
     "output_type": "execute_result"
    }
   ],
   "source": [
    "name[8:12]"
   ]
  },
  {
   "cell_type": "code",
   "execution_count": 8,
   "id": "2d96f26d-b9e4-45a5-b707-3141d6dc1ed8",
   "metadata": {},
   "outputs": [
    {
     "data": {
      "text/plain": [
       "'Mca'"
      ]
     },
     "execution_count": 8,
     "metadata": {},
     "output_type": "execute_result"
    }
   ],
   "source": [
    "name[0:5:2]"
   ]
  },
  {
   "cell_type": "code",
   "execution_count": 9,
   "id": "e8c79abd-38e1-4f78-bd8e-68a666ec9989",
   "metadata": {},
   "outputs": [
    {
     "data": {
      "text/plain": [
       "15"
      ]
     },
     "execution_count": 9,
     "metadata": {},
     "output_type": "execute_result"
    }
   ],
   "source": [
    "len(name)"
   ]
  },
  {
   "cell_type": "code",
   "execution_count": 10,
   "id": "b2e98597-a117-45fb-bd80-2454a0b807ad",
   "metadata": {},
   "outputs": [
    {
     "data": {
      "text/plain": [
       "'Michael Jackson Is the best'"
      ]
     },
     "execution_count": 10,
     "metadata": {},
     "output_type": "execute_result"
    }
   ],
   "source": [
    "statement = name + \" Is the best\"\n",
    "statement"
   ]
  },
  {
   "cell_type": "code",
   "execution_count": 11,
   "id": "476d228a-cd22-49af-937e-65af28b2096a",
   "metadata": {},
   "outputs": [
    {
     "data": {
      "text/plain": [
       "'Michael Jackson Michael Jackson Michael Jackson '"
      ]
     },
     "execution_count": 11,
     "metadata": {},
     "output_type": "execute_result"
    }
   ],
   "source": [
    "replicated = (name +\" \")*3\n",
    "replicated"
   ]
  },
  {
   "cell_type": "code",
   "execution_count": 12,
   "id": "1df28705-121c-4672-a015-a04aef3042bc",
   "metadata": {},
   "outputs": [],
   "source": [
    "name = name + \" Is the best\""
   ]
  },
  {
   "cell_type": "code",
   "execution_count": 13,
   "id": "0b6df49b-849f-463a-9b05-c02c060b428c",
   "metadata": {},
   "outputs": [
    {
     "data": {
      "text/plain": [
       "'Michael Jackson Is the best'"
      ]
     },
     "execution_count": 13,
     "metadata": {},
     "output_type": "execute_result"
    }
   ],
   "source": [
    "name"
   ]
  },
  {
   "cell_type": "code",
   "execution_count": 14,
   "id": "e5ab5511-d2f3-4a12-9d3e-073ba4fbf585",
   "metadata": {},
   "outputs": [
    {
     "name": "stdout",
     "output_type": "stream",
     "text": [
      "Michael Jackson \n",
      " is the best\n"
     ]
    }
   ],
   "source": [
    "print(\"Michael Jackson \\n is the best\")"
   ]
  },
  {
   "cell_type": "code",
   "execution_count": 15,
   "id": "40e458aa-f575-4fad-a6a2-0e57123a73d4",
   "metadata": {},
   "outputs": [
    {
     "name": "stdout",
     "output_type": "stream",
     "text": [
      "Michael Jackson \t is the best\n"
     ]
    }
   ],
   "source": [
    "print(\"Michael Jackson \\t is the best\")"
   ]
  },
  {
   "cell_type": "code",
   "execution_count": 16,
   "id": "757c9a18-05b0-4f2a-8c93-1cfff682cd3d",
   "metadata": {},
   "outputs": [
    {
     "name": "stdout",
     "output_type": "stream",
     "text": [
      "Michael Jackson \\ is the best\n"
     ]
    }
   ],
   "source": [
    "print(\"Michael Jackson \\\\ is the best\")"
   ]
  },
  {
   "cell_type": "code",
   "execution_count": 17,
   "id": "13a01480-abf2-409b-ae9b-ec0b99954f7c",
   "metadata": {},
   "outputs": [
    {
     "name": "stdout",
     "output_type": "stream",
     "text": [
      "Michael Jackson \\ is the best\n"
     ]
    }
   ],
   "source": [
    "print(r\"Michael Jackson \\ is the best\")"
   ]
  },
  {
   "cell_type": "code",
   "execution_count": 18,
   "id": "11670439-95b1-4685-a47a-1b887c100260",
   "metadata": {},
   "outputs": [],
   "source": [
    "a = \"thriller is the sixth studio album\""
   ]
  },
  {
   "cell_type": "code",
   "execution_count": 19,
   "id": "54fc3b7c-09eb-4b1d-b637-3d90f70f4987",
   "metadata": {},
   "outputs": [
    {
     "data": {
      "text/plain": [
       "'THRILLER IS THE SIXTH STUDIO ALBUM'"
      ]
     },
     "execution_count": 19,
     "metadata": {},
     "output_type": "execute_result"
    }
   ],
   "source": [
    "a.upper()"
   ]
  },
  {
   "cell_type": "code",
   "execution_count": 20,
   "id": "37baa6d4-d9fa-4318-a82c-f16a225b708a",
   "metadata": {},
   "outputs": [],
   "source": [
    "a = \"Michael Jackson is the best\""
   ]
  },
  {
   "cell_type": "code",
   "execution_count": 21,
   "id": "67265c71-b338-4f62-b2d1-0d0889814b18",
   "metadata": {},
   "outputs": [
    {
     "data": {
      "text/plain": [
       "'Janet Jackson is the best'"
      ]
     },
     "execution_count": 21,
     "metadata": {},
     "output_type": "execute_result"
    }
   ],
   "source": [
    "b = a.replace('Michael', \"Janet\")\n",
    "b"
   ]
  },
  {
   "cell_type": "code",
   "execution_count": 22,
   "id": "6dc32e0a-6f9d-43b6-b223-fc6aaaa0ad81",
   "metadata": {},
   "outputs": [
    {
     "data": {
      "text/plain": [
       "'Michael Jackson Is the best'"
      ]
     },
     "execution_count": 22,
     "metadata": {},
     "output_type": "execute_result"
    }
   ],
   "source": [
    "name"
   ]
  },
  {
   "cell_type": "code",
   "execution_count": 23,
   "id": "39331e98-0af7-4916-a37c-30a17532e5ea",
   "metadata": {},
   "outputs": [
    {
     "data": {
      "text/plain": [
       "5"
      ]
     },
     "execution_count": 23,
     "metadata": {},
     "output_type": "execute_result"
    }
   ],
   "source": [
    "name.find(\"el\")"
   ]
  },
  {
   "cell_type": "code",
   "execution_count": 24,
   "id": "515387d5-339b-4899-b871-083a50e90ff9",
   "metadata": {},
   "outputs": [
    {
     "data": {
      "text/plain": [
       "8"
      ]
     },
     "execution_count": 24,
     "metadata": {},
     "output_type": "execute_result"
    }
   ],
   "source": [
    "name.upper().find(\"JACK\")"
   ]
  },
  {
   "cell_type": "code",
   "execution_count": 25,
   "id": "d5f5ca0c-6568-4b50-93c2-abcb3f9caff9",
   "metadata": {},
   "outputs": [],
   "source": [
    "Numbers = \"0123456\""
   ]
  },
  {
   "cell_type": "code",
   "execution_count": 26,
   "id": "b134a1f7-7ea7-476d-bf19-87a4b1d945a1",
   "metadata": {},
   "outputs": [
    {
     "data": {
      "text/plain": [
       "'0246'"
      ]
     },
     "execution_count": 26,
     "metadata": {},
     "output_type": "execute_result"
    }
   ],
   "source": [
    "Numbers[::2]"
   ]
  },
  {
   "cell_type": "code",
   "execution_count": 27,
   "id": "f29eee58-75de-43b2-b373-0f88f258271c",
   "metadata": {},
   "outputs": [
    {
     "data": {
      "text/plain": [
       "1"
      ]
     },
     "execution_count": 27,
     "metadata": {},
     "output_type": "execute_result"
    }
   ],
   "source": [
    "\"0123456\".find('1')"
   ]
  },
  {
   "cell_type": "code",
   "execution_count": 28,
   "id": "593b3cfc-cc19-43bd-9823-835f1f5c7956",
   "metadata": {},
   "outputs": [
    {
     "data": {
      "text/plain": [
       "7"
      ]
     },
     "execution_count": 28,
     "metadata": {},
     "output_type": "execute_result"
    }
   ],
   "source": [
    "3 + 2 * 2"
   ]
  },
  {
   "cell_type": "code",
   "execution_count": 29,
   "id": "e457b143-0887-4fcb-9640-b428554adfd1",
   "metadata": {},
   "outputs": [],
   "source": [
    "name = 'Lizz'"
   ]
  },
  {
   "cell_type": "code",
   "execution_count": 30,
   "id": "1e53829e-d540-46ef-92d0-412d3b08e94c",
   "metadata": {},
   "outputs": [
    {
     "name": "stdout",
     "output_type": "stream",
     "text": [
      "Li\n"
     ]
    }
   ],
   "source": [
    "print(name[0:2])"
   ]
  },
  {
   "cell_type": "code",
   "execution_count": 31,
   "id": "99d4be99-7e8c-4080-a18c-c9ef33b6ccff",
   "metadata": {},
   "outputs": [],
   "source": [
    "var = '01234567'"
   ]
  },
  {
   "cell_type": "code",
   "execution_count": 32,
   "id": "9f3ac84f-2cfc-4da2-8bdb-52722bb3004b",
   "metadata": {},
   "outputs": [
    {
     "name": "stdout",
     "output_type": "stream",
     "text": [
      "0246\n"
     ]
    }
   ],
   "source": [
    "print(var[::2])"
   ]
  },
  {
   "cell_type": "code",
   "execution_count": 33,
   "id": "2462158d-a810-4fbf-af27-6461b1ded0bd",
   "metadata": {},
   "outputs": [
    {
     "data": {
      "text/plain": [
       "'12'"
      ]
     },
     "execution_count": 33,
     "metadata": {},
     "output_type": "execute_result"
    }
   ],
   "source": [
    "'1'+'2'"
   ]
  },
  {
   "cell_type": "code",
   "execution_count": 34,
   "id": "ce2b4454-847d-4348-bf2a-e50642ed1f09",
   "metadata": {},
   "outputs": [],
   "source": [
    "myvar = 'hello'"
   ]
  },
  {
   "cell_type": "code",
   "execution_count": 35,
   "id": "b3297da8-7fb5-47ff-a6dc-687cb5d5776a",
   "metadata": {},
   "outputs": [
    {
     "data": {
      "text/plain": [
       "'HELLO'"
      ]
     },
     "execution_count": 35,
     "metadata": {},
     "output_type": "execute_result"
    }
   ],
   "source": [
    "myvar.upper()"
   ]
  },
  {
   "cell_type": "code",
   "execution_count": 36,
   "id": "677422ed-31fc-4b33-9ea4-bdb145a1f444",
   "metadata": {},
   "outputs": [],
   "source": [
    "tuple1 = (\"disco\", 10, 1.2)"
   ]
  },
  {
   "cell_type": "code",
   "execution_count": 37,
   "id": "8569144d-555a-43c2-8b4b-bf180abb6d52",
   "metadata": {},
   "outputs": [
    {
     "data": {
      "text/plain": [
       "('disco', 10, 1.2)"
      ]
     },
     "execution_count": 37,
     "metadata": {},
     "output_type": "execute_result"
    }
   ],
   "source": [
    "tuple1"
   ]
  },
  {
   "cell_type": "code",
   "execution_count": 38,
   "id": "501d2a45-1421-4c1d-bb2f-b261f126c7dc",
   "metadata": {},
   "outputs": [
    {
     "data": {
      "text/plain": [
       "('disco', 10, 1.2)"
      ]
     },
     "execution_count": 38,
     "metadata": {},
     "output_type": "execute_result"
    }
   ],
   "source": [
    "tuple1[::1]"
   ]
  },
  {
   "cell_type": "code",
   "execution_count": 39,
   "id": "3d6a7cb0-7c90-4417-a7a6-c0d0c6d3a5ae",
   "metadata": {},
   "outputs": [],
   "source": [
    "tuple2 = tuple1 + (\"Hard Rock\", 13)"
   ]
  },
  {
   "cell_type": "code",
   "execution_count": 40,
   "id": "6730bc45-9b10-423b-978b-2b9bd6490e11",
   "metadata": {},
   "outputs": [
    {
     "data": {
      "text/plain": [
       "('disco', 10, 1.2, 'Hard Rock', 13)"
      ]
     },
     "execution_count": 40,
     "metadata": {},
     "output_type": "execute_result"
    }
   ],
   "source": [
    "tuple2"
   ]
  },
  {
   "cell_type": "code",
   "execution_count": 41,
   "id": "84f41005-8859-41ca-915e-19236df6a37d",
   "metadata": {},
   "outputs": [
    {
     "data": {
      "text/plain": [
       "('disco', 10, 1.2)"
      ]
     },
     "execution_count": 41,
     "metadata": {},
     "output_type": "execute_result"
    }
   ],
   "source": [
    "tuple2[0:3]"
   ]
  },
  {
   "cell_type": "code",
   "execution_count": 42,
   "id": "38bfb58d-f1c9-4fd5-b089-43f8e7ba315e",
   "metadata": {},
   "outputs": [
    {
     "data": {
      "text/plain": [
       "('Hard Rock', 13)"
      ]
     },
     "execution_count": 42,
     "metadata": {},
     "output_type": "execute_result"
    }
   ],
   "source": [
    "\n",
    "tuple2[3:5]"
   ]
  },
  {
   "cell_type": "code",
   "execution_count": 43,
   "id": "0f4cc761-ce4b-4cd9-958d-9cb98d069ff7",
   "metadata": {},
   "outputs": [
    {
     "data": {
      "text/plain": [
       "5"
      ]
     },
     "execution_count": 43,
     "metadata": {},
     "output_type": "execute_result"
    }
   ],
   "source": [
    "len(tuple2)"
   ]
  },
  {
   "cell_type": "code",
   "execution_count": null,
   "id": "00555237-347f-4ed0-aeb6-3acc4dda0a28",
   "metadata": {},
   "outputs": [],
   "source": [
    "Ratings = (2,10,1)"
   ]
  },
  {
   "cell_type": "code",
   "execution_count": null,
   "id": "24edf3cb-6c45-493c-8102-a2f158e81c11",
   "metadata": {},
   "outputs": [],
   "source": [
    "Ratings = (10,9,6,5,10,8,9,6,2)"
   ]
  },
  {
   "cell_type": "code",
   "execution_count": null,
   "id": "969b9838-385f-484d-b1b9-be2749fbb7b5",
   "metadata": {},
   "outputs": [],
   "source": [
    "RatingsSorted = sorted(Ratings)"
   ]
  },
  {
   "cell_type": "code",
   "execution_count": null,
   "id": "52cae107-bbd8-4f33-943e-cea313deb0b7",
   "metadata": {},
   "outputs": [
    {
     "data": {
      "text/plain": [
       "[2, 5, 6, 6, 8, 9, 9, 10, 10]"
      ]
     },
     "execution_count": 97,
     "metadata": {},
     "output_type": "execute_result"
    }
   ],
   "source": [
    "RatingsSorted"
   ]
  },
  {
   "cell_type": "code",
   "execution_count": null,
   "id": "98366701-d98f-4c60-ac46-18d98b77ecad",
   "metadata": {},
   "outputs": [],
   "source": [
    "NT = (1,2,(\"pop\",\"rock\"),(3,4),(\"disco\",(1,2)))"
   ]
  },
  {
   "cell_type": "code",
   "execution_count": null,
   "id": "56ea00be-816b-4c83-9f7c-479868d17079",
   "metadata": {},
   "outputs": [
    {
     "data": {
      "text/plain": [
       "(1, 2, ('pop', 'rock'), (3, 4), ('disco', (1, 2)))"
      ]
     },
     "execution_count": 99,
     "metadata": {},
     "output_type": "execute_result"
    }
   ],
   "source": [
    "NT"
   ]
  },
  {
   "cell_type": "code",
   "execution_count": null,
   "id": "16307249-2867-4c26-be40-5a5c30bdac5c",
   "metadata": {},
   "outputs": [
    {
     "data": {
      "text/plain": [
       "'pop'"
      ]
     },
     "execution_count": 108,
     "metadata": {},
     "output_type": "execute_result"
    }
   ],
   "source": [
    "NT[2][0]"
   ]
  },
  {
   "cell_type": "code",
   "execution_count": null,
   "id": "bdce9745-8fd8-4a93-8257-04552feb9961",
   "metadata": {},
   "outputs": [
    {
     "data": {
      "text/plain": [
       "'roc'"
      ]
     },
     "execution_count": 111,
     "metadata": {},
     "output_type": "execute_result"
    }
   ],
   "source": [
    "NT[2][1][0:3]"
   ]
  },
  {
   "cell_type": "code",
   "execution_count": null,
   "id": "69ffd6b9-8dc3-4d88-af51-19c102d0b75f",
   "metadata": {},
   "outputs": [
    {
     "data": {
      "text/plain": [
       "(1, 2)"
      ]
     },
     "execution_count": 113,
     "metadata": {},
     "output_type": "execute_result"
    }
   ],
   "source": [
    "NT[4][1]"
   ]
  },
  {
   "cell_type": "code",
   "execution_count": null,
   "id": "2964d3aa-7788-467d-97ec-afd4593c213c",
   "metadata": {},
   "outputs": [
    {
     "data": {
      "text/plain": [
       "2"
      ]
     },
     "execution_count": 114,
     "metadata": {},
     "output_type": "execute_result"
    }
   ],
   "source": [
    "NT[4][1][1]"
   ]
  },
  {
   "attachments": {
    "c87270bd-1b4d-401b-b989-1626f2241b7b.png": {
     "image/png": "[encoded data removed]"
    }
   },
   "cell_type": "markdown",
   "id": "a2ac7280-0146-4731-ad2e-13634fa9a448",
   "metadata": {},
   "source": [
    "![image.png](attachment:c87270bd-1b4d-401b-b989-1626f2241b7b.png)"
   ]
  },
  {
   "cell_type": "code",
   "execution_count": null,
   "id": "73938262-4fa4-47cf-9bfe-1ddc83a7ce10",
   "metadata": {},
   "outputs": [],
   "source": [
    "L = ['Michael Jackson',10.1,1982]"
   ]
  },
  {
   "cell_type": "code",
   "execution_count": null,
   "id": "f0d91f56-91d3-4937-8487-5bfb9402510e",
   "metadata": {},
   "outputs": [
    {
     "data": {
      "text/plain": [
       "['Michael Jackson', 10.1, 1982]"
      ]
     },
     "execution_count": 116,
     "metadata": {},
     "output_type": "execute_result"
    }
   ],
   "source": [
    "L"
   ]
  },
  {
   "cell_type": "code",
   "execution_count": null,
   "id": "ed313fe4-3a1a-4b4d-9546-ff4ade875a17",
   "metadata": {},
   "outputs": [
    {
     "data": {
      "text/plain": [
       "'Michael Jackson'"
      ]
     },
     "execution_count": 117,
     "metadata": {},
     "output_type": "execute_result"
    }
   ],
   "source": [
    "L[0]"
   ]
  },
  {
   "cell_type": "code",
   "execution_count": null,
   "id": "a392bde1-f4e6-4987-a1b8-4da7f4376e3b",
   "metadata": {},
   "outputs": [],
   "source": [
    "L = L + [\"MJ\",1]"
   ]
  },
  {
   "cell_type": "code",
   "execution_count": null,
   "id": "17237ce0-2832-4f1f-aad3-718d11a90a59",
   "metadata": {},
   "outputs": [
    {
     "data": {
      "text/plain": [
       "['Michael Jackson', 10.1, 1982, 'MJ', 1]"
      ]
     },
     "execution_count": 119,
     "metadata": {},
     "output_type": "execute_result"
    }
   ],
   "source": [
    "L"
   ]
  },
  {
   "cell_type": "code",
   "execution_count": null,
   "id": "f3605af2-2c80-4151-8da2-01c193629c00",
   "metadata": {},
   "outputs": [
    {
     "data": {
      "text/plain": [
       "['MJ', 1]"
      ]
     },
     "execution_count": 120,
     "metadata": {},
     "output_type": "execute_result"
    }
   ],
   "source": [
    "L[3:5]"
   ]
  },
  {
   "cell_type": "code",
   "execution_count": null,
   "id": "3817a00c-ba8e-445a-b669-b67d2ca9e0ac",
   "metadata": {},
   "outputs": [],
   "source": [
    "L1 = L+ [\"pop\",10]"
   ]
  },
  {
   "cell_type": "code",
   "execution_count": null,
   "id": "defb1413-25b3-493b-937a-a76e9253d5cc",
   "metadata": {},
   "outputs": [
    {
     "data": {
      "text/plain": [
       "['Michael Jackson', 10.1, 1982, 'pop', 10]"
      ]
     },
     "execution_count": 123,
     "metadata": {},
     "output_type": "execute_result"
    }
   ],
   "source": [
    "L1"
   ]
  },
  {
   "cell_type": "code",
   "execution_count": null,
   "id": "dc48267f-534d-4bd2-a496-8c373e67f39b",
   "metadata": {},
   "outputs": [
    {
     "data": {
      "text/plain": [
       "['Michael Jackson', 10.1, 1982, 'pop', 12]"
      ]
     },
     "execution_count": 131,
     "metadata": {},
     "output_type": "execute_result"
    }
   ],
   "source": [
    "L.extend([\"pop\",12])\n",
    "L"
   ]
  },
  {
   "cell_type": "code",
   "execution_count": null,
   "id": "6bb765f7-5078-4e0e-9a6d-5e5692b9c676",
   "metadata": {},
   "outputs": [],
   "source": [
    "L.append(['pop',17])"
   ]
  },
  {
   "cell_type": "code",
   "execution_count": null,
   "id": "7cce5c0d-ceaf-465d-b37d-42ec255f27a1",
   "metadata": {},
   "outputs": [
    {
     "data": {
      "text/plain": [
       "['Michael Jackson', 10.1, 1982, ['pop', 17]]"
      ]
     },
     "execution_count": 134,
     "metadata": {},
     "output_type": "execute_result"
    }
   ],
   "source": [
    "L"
   ]
  },
  {
   "cell_type": "code",
   "execution_count": null,
   "id": "113cb048-8977-4f78-9bb0-e7f7e58cdf6c",
   "metadata": {},
   "outputs": [
    {
     "data": {
      "text/plain": [
       "4"
      ]
     },
     "execution_count": 135,
     "metadata": {},
     "output_type": "execute_result"
    }
   ],
   "source": [
    "len(L)"
   ]
  },
  {
   "cell_type": "code",
   "execution_count": null,
   "id": "990335ea-d3b9-46de-965b-d471850bdae2",
   "metadata": {},
   "outputs": [],
   "source": [
    "L.append(\"A\")"
   ]
  },
  {
   "cell_type": "code",
   "execution_count": null,
   "id": "19e46b1c-ed8a-4b7e-8716-11262c5f0d9e",
   "metadata": {},
   "outputs": [
    {
     "data": {
      "text/plain": [
       "['Michael Jackson', 10.1, 1982, ['pop', 17], 'A']"
      ]
     },
     "execution_count": 143,
     "metadata": {},
     "output_type": "execute_result"
    }
   ],
   "source": [
    "L"
   ]
  },
  {
   "cell_type": "code",
   "execution_count": null,
   "id": "36c919d2-dcb2-407e-802a-bb2a0a58c224",
   "metadata": {},
   "outputs": [
    {
     "data": {
      "text/plain": [
       "['Michael Jackson', 10.1, 1982]"
      ]
     },
     "execution_count": 144,
     "metadata": {},
     "output_type": "execute_result"
    }
   ],
   "source": [
    "del(L[3::1])\n",
    "L"
   ]
  },
  {
   "cell_type": "code",
   "execution_count": null,
   "id": "8189db48-cfb9-446e-bc8a-ad2cfc658572",
   "metadata": {},
   "outputs": [],
   "source": [
    "A = [\"disco\",10, 1.2]"
   ]
  },
  {
   "cell_type": "code",
   "execution_count": null,
   "id": "010d1a49-dda4-4274-8d00-b802775c09de",
   "metadata": {},
   "outputs": [],
   "source": [
    "A[0] = \"hard rock\""
   ]
  },
  {
   "cell_type": "code",
   "execution_count": null,
   "id": "c76ff342-769c-49aa-bb1c-e9899ce1f52f",
   "metadata": {},
   "outputs": [
    {
     "data": {
      "text/plain": [
       "['hard rock', 10, 1.2]"
      ]
     },
     "execution_count": 140,
     "metadata": {},
     "output_type": "execute_result"
    }
   ],
   "source": [
    "A"
   ]
  },
  {
   "cell_type": "code",
   "execution_count": null,
   "id": "b90069c4-03e0-4b50-b341-b84b6be66c68",
   "metadata": {},
   "outputs": [
    {
     "data": {
      "text/plain": [
       "['hard', 'rock']"
      ]
     },
     "execution_count": 146,
     "metadata": {},
     "output_type": "execute_result"
    }
   ],
   "source": [
    "\"hard rock\".split()"
   ]
  },
  {
   "cell_type": "code",
   "execution_count": null,
   "id": "1a4e8ac9-f344-40d4-835e-97bcc03bba3c",
   "metadata": {},
   "outputs": [
    {
     "data": {
      "text/plain": [
       "['A', 'B', 'C', 'D']"
      ]
     },
     "execution_count": 148,
     "metadata": {},
     "output_type": "execute_result"
    }
   ],
   "source": [
    "\"A,B,C,D\".split(\",\")"
   ]
  },
  {
   "cell_type": "markdown",
   "id": "2c120df0-4509-4a0c-bb98-3e25d08130b4",
   "metadata": {},
   "source": [
    "<img src=\"attachment:25495960-edf4-47cb-829a-fb45b9c43473.png\" alt=\"image\" width=\"50%\" height=\"50%\">"
   ]
  },
  {
   "cell_type": "code",
   "execution_count": null,
   "id": "ef56c4ea-7a8d-4d98-900d-0d7481eddd50",
   "metadata": {},
   "outputs": [],
   "source": [
    "A = [\"hard rock\",10,1.2]"
   ]
  },
  {
   "cell_type": "code",
   "execution_count": null,
   "id": "d5ce71ee-601d-4e05-9b55-7b7e9cdcdf87",
   "metadata": {},
   "outputs": [],
   "source": [
    "B = A"
   ]
  },
  {
   "cell_type": "code",
   "execution_count": null,
   "id": "c44ffb3e-f7bd-4ac1-81ad-cfe51f0956b4",
   "metadata": {},
   "outputs": [
    {
     "data": {
      "text/plain": [
       "'hard rock'"
      ]
     },
     "execution_count": 170,
     "metadata": {},
     "output_type": "execute_result"
    }
   ],
   "source": [
    "B[0]"
   ]
  },
  {
   "cell_type": "code",
   "execution_count": null,
   "id": "937d9575-dc05-45ff-84dc-438fe4313021",
   "metadata": {},
   "outputs": [],
   "source": [
    "A[0] = \"Banana\""
   ]
  },
  {
   "cell_type": "code",
   "execution_count": null,
   "id": "c4d95f2c-4466-434a-ba62-643bb9de32e4",
   "metadata": {},
   "outputs": [
    {
     "data": {
      "text/plain": [
       "['Banana', 10, 1.2]"
      ]
     },
     "execution_count": 172,
     "metadata": {},
     "output_type": "execute_result"
    }
   ],
   "source": [
    "B"
   ]
  },
  {
   "cell_type": "code",
   "execution_count": null,
   "id": "dd1ea267-3df5-453c-b4d6-7d71f7bfcea5",
   "metadata": {},
   "outputs": [
    {
     "data": {
      "text/plain": [
       "['Banana', 10, 1.2]"
      ]
     },
     "execution_count": 173,
     "metadata": {},
     "output_type": "execute_result"
    }
   ],
   "source": [
    "A"
   ]
  },
  {
   "cell_type": "markdown",
   "id": "eadd0bd6-a411-48fa-bc0f-0532cdd34f06",
   "metadata": {},
   "source": [
    "<img src=\"attachment:f4ba61f4-4bdb-4259-889f-8bbfe17bbafa.png\" alt=\"image\" width=\"50%\" height=\"50%\">"
   ]
  },
  {
   "cell_type": "code",
   "execution_count": null,
   "id": "c052415c-2078-4d44-bf3f-be868c67c49a",
   "metadata": {},
   "outputs": [],
   "source": [
    "A = [\"hard rock\",10,1.2]"
   ]
  },
  {
   "cell_type": "code",
   "execution_count": null,
   "id": "113a3f1c-345a-4286-bf05-3f322f59600e",
   "metadata": {},
   "outputs": [],
   "source": [
    "B = A[:]"
   ]
  },
  {
   "cell_type": "code",
   "execution_count": null,
   "id": "93772883-48ea-41a4-9699-ed228314b55d",
   "metadata": {},
   "outputs": [
    {
     "data": {
      "text/plain": [
       "'hard rock'"
      ]
     },
     "execution_count": 151,
     "metadata": {},
     "output_type": "execute_result"
    }
   ],
   "source": [
    "B[0]"
   ]
  },
  {
   "cell_type": "code",
   "execution_count": null,
   "id": "e8790127-2b94-40e7-99c0-e40ce50ea16a",
   "metadata": {},
   "outputs": [],
   "source": [
    "A[0] = \"Banana\""
   ]
  },
  {
   "cell_type": "code",
   "execution_count": null,
   "id": "7c6e6a21-7cd3-4c87-9544-71b57989e158",
   "metadata": {},
   "outputs": [
    {
     "data": {
      "text/plain": [
       "['hard rock', 10, 1.2]"
      ]
     },
     "execution_count": 160,
     "metadata": {},
     "output_type": "execute_result"
    }
   ],
   "source": [
    "B"
   ]
  },
  {
   "cell_type": "code",
   "execution_count": null,
   "id": "240281ab-5847-4157-b409-2d550502e6dc",
   "metadata": {},
   "outputs": [
    {
     "data": {
      "text/plain": [
       "['Banana', 10, 1.2]"
      ]
     },
     "execution_count": 174,
     "metadata": {},
     "output_type": "execute_result"
    }
   ],
   "source": [
    "A"
   ]
  },
  {
   "cell_type": "code",
   "execution_count": null,
   "id": "6f47680b-ef1d-41f2-b98b-9c687170d6cf",
   "metadata": {},
   "outputs": [],
   "source": [
    "B=[\"a\",\"b\",\"c\"]"
   ]
  },
  {
   "cell_type": "code",
   "execution_count": null,
   "id": "3ab3cf45-2999-4caf-9c8c-680997958724",
   "metadata": {},
   "outputs": [
    {
     "data": {
      "text/plain": [
       "['b', 'c']"
      ]
     },
     "execution_count": 183,
     "metadata": {},
     "output_type": "execute_result"
    }
   ],
   "source": [
    "B[1:]"
   ]
  },
  {
   "cell_type": "markdown",
   "id": "44c5af78-96b2-4ecb-a809-5a5ebdfe3834",
   "metadata": {},
   "source": [
    "# Creating A set"
   ]
  },
  {
   "cell_type": "markdown",
   "id": "3c03edc6-d5da-431f-9493-2e032c15e73e",
   "metadata": {},
   "source": [
    "<img src=\"attachment:d260b3fa-5ca1-4f38-8c10-96640186bffb.png\" alt=\"image\" width=\"50%\" height=\"50%\">"
   ]
  },
  {
   "cell_type": "code",
   "execution_count": null,
   "id": "0df6cd50-913a-458e-b321-bf9c53f23e6f",
   "metadata": {},
   "outputs": [],
   "source": [
    "set1 = {\"pop\",\"rock\",\"soul\",\"hard rock\",\"rock\",\"R&B\",\"rock\",\"disco\"}\n",
    "set1"
   ]
  },
  {
   "cell_type": "markdown",
   "id": "0e87fbf6-41ef-4b6d-9033-323ed118a55c",
   "metadata": {
    "jp-MarkdownHeadingCollapsed": true
   },
   "source": [
    "### You can convert a list to a set using the set() function, which is known as type-casting."
   ]
  },
  {
   "cell_type": "code",
   "execution_count": null,
   "id": "df5c33e0-a49a-4acf-a2be-87ee8116b22f",
   "metadata": {},
   "outputs": [],
   "source": [
    "Album_list = [\"Michael Jackson\",\"Thriller\",\"Thriller\",1892]\n",
    "Album_list"
   ]
  },
  {
   "cell_type": "code",
   "execution_count": null,
   "id": "155b2bb9-2300-494a-8b47-24024966a1c9",
   "metadata": {},
   "outputs": [],
   "source": [
    "Album_set = set(Album_list)"
   ]
  },
  {
   "cell_type": "code",
   "execution_count": null,
   "id": "c29665c4-4fab-4a10-a994-95d46c7ef1d0",
   "metadata": {},
   "outputs": [],
   "source": [
    "Album_set"
   ]
  },
  {
   "cell_type": "markdown",
   "id": "e9e78c38-fb0f-41f0-920e-72e29d62bf32",
   "metadata": {},
   "source": [
    "<img src=\"attachment:7fc91d18-47c3-4454-a1f6-5e6315e1fbd1.png\" alt=\"image\" width=\"50%\" height=\"50%\">"
   ]
  },
  {
   "cell_type": "code",
   "execution_count": null,
   "id": "d8ec4785-809b-4980-9643-811a8e280d09",
   "metadata": {},
   "outputs": [],
   "source": [
    "A = {\"Thriller\", \"Back to Black\",\"AC/DC\"}"
   ]
  },
  {
   "cell_type": "code",
   "execution_count": null,
   "id": "03a3ca3e-1d14-4ae6-8e8f-f82b628fafe4",
   "metadata": {},
   "outputs": [],
   "source": [
    "A.add(\"NSYNC\")"
   ]
  },
  {
   "cell_type": "code",
   "execution_count": null,
   "id": "f0bcc096-e23e-46fc-8028-990b575b8872",
   "metadata": {},
   "outputs": [],
   "source": [
    "A"
   ]
  },
  {
   "cell_type": "markdown",
   "id": "9eaa33e6-c909-4bd1-8337-bfdae56f5c55",
   "metadata": {
    "jp-MarkdownHeadingCollapsed": true
   },
   "source": [
    "#### if we add this item \"NSYNC\" twice nothing will happend because there is no duplicate in a set"
   ]
  },
  {
   "cell_type": "code",
   "execution_count": null,
   "id": "ad608db2-3f43-46ea-86ce-5e439dd34b7e",
   "metadata": {},
   "outputs": [],
   "source": [
    "A.add(\"NSYNC\")"
   ]
  },
  {
   "cell_type": "code",
   "execution_count": null,
   "id": "024e2a3f-0f1d-45ae-9fa8-e5c9db2958a3",
   "metadata": {},
   "outputs": [],
   "source": [
    "A"
   ]
  },
  {
   "cell_type": "markdown",
   "id": "b502c11d-a358-437f-8a2b-cde26dc40079",
   "metadata": {
    "jp-MarkdownHeadingCollapsed": true
   },
   "source": [
    "#### Let's say we want to remove \"NSYNC\" from A set. we can use remove an item from a set using a remove method "
   ]
  },
  {
   "cell_type": "code",
   "execution_count": null,
   "id": "1633fda7-3071-4448-9850-1b8bc1de4561",
   "metadata": {},
   "outputs": [],
   "source": [
    "A.remove(\"NSYNC\")\n",
    "A"
   ]
  },
  {
   "cell_type": "markdown",
   "id": "6f2be592-c960-4681-92cf-d92786938597",
   "metadata": {
    "jp-MarkdownHeadingCollapsed": true
   },
   "source": [
    "#### we can verify if an element is in the set using in command"
   ]
  },
  {
   "cell_type": "code",
   "execution_count": null,
   "id": "fe5114d1-7ab4-46d4-8c3c-72a277f3a3c0",
   "metadata": {},
   "outputs": [],
   "source": [
    "\"AC/DC\" in A"
   ]
  },
  {
   "cell_type": "code",
   "execution_count": null,
   "id": "e57e7c51-f706-475b-bae8-c26cf0ce6894",
   "metadata": {},
   "outputs": [],
   "source": [
    "\"Who\" in A"
   ]
  },
  {
   "cell_type": "markdown",
   "id": "8dbb0ec2-0ca3-4e87-95a3-6fe522eba32f",
   "metadata": {
    "jp-MarkdownHeadingCollapsed": true
   },
   "source": [
    "## Sets: Mathematical set Operations"
   ]
  },
  {
   "cell_type": "markdown",
   "id": "fcaceb4e-3709-4fbb-a28a-0c4fba0b3c30",
   "metadata": {},
   "source": [
    "#### Intersect of two sets album_set_1 & album_set_2"
   ]
  },
  {
   "cell_type": "markdown",
   "id": "dc1e846f-681c-4b12-8101-2d68c9921697",
   "metadata": {},
   "source": [
    "<img src=\"attachment:87c2b803-88ae-4df2-8eec-016b41630f08.png\" alt=\"image\" width=\"50%\" height=\"50%\">\n",
    "<img src=\"attachment:462d40ef-3a13-4fc9-a3c5-90ad9a8a355c.png\" alt=\"image\" width=\"50%\" height=\"50%\">"
   ]
  },
  {
   "cell_type": "code",
   "execution_count": null,
   "id": "a254a7c2-dd08-4e70-a62e-258a8734b7d7",
   "metadata": {},
   "outputs": [],
   "source": [
    "album_set_1 = {\"Thriller\", \"Back to Black\",\"AC/DC\"}"
   ]
  },
  {
   "cell_type": "code",
   "execution_count": null,
   "id": "28809b24-f486-4746-a336-e9e598d02d6c",
   "metadata": {},
   "outputs": [],
   "source": [
    "album_set_2 = {\"AC/DC\", \"Back to Black\", \"The Dark Side of the Moon\"}"
   ]
  },
  {
   "cell_type": "code",
   "execution_count": null,
   "id": "f7a72e55-c902-432f-9e29-91db7063c44d",
   "metadata": {},
   "outputs": [
    {
     "data": {
      "text/plain": [
       "{'AC/DC', 'Back to Black'}"
      ]
     },
     "execution_count": 227,
     "metadata": {},
     "output_type": "execute_result"
    }
   ],
   "source": [
    "album_set_3 = album_set_1 & album_set_2\n",
    "album_set_3"
   ]
  },
  {
   "cell_type": "markdown",
   "id": "e4f11b8d-6f5e-4ec5-8a3e-58b246b8ea69",
   "metadata": {},
   "source": [
    "#### the Union of two sets album_set_1 & album_set_2 will contain the element of two sets"
   ]
  },
  {
   "cell_type": "markdown",
   "id": "59ffed08-a40d-4a05-baab-be5571eb13b2",
   "metadata": {},
   "source": [
    "<img src=\"attachment:5b935aae-fc98-4e9c-92e5-d4739ed30b3b.png\" alt=\"image\" width=\"50%\" height=\"50%\">"
   ]
  },
  {
   "cell_type": "code",
   "execution_count": null,
   "id": "8ec6f41f-1f91-4e2c-926f-972ec7c61fc8",
   "metadata": {},
   "outputs": [
    {
     "data": {
      "text/plain": [
       "{'AC/DC', 'Back to Black', 'The Dark Side of the Moon', 'Thriller'}"
      ]
     },
     "execution_count": 228,
     "metadata": {},
     "output_type": "execute_result"
    }
   ],
   "source": [
    "album_set_4 = album_set_1.union(album_set_2)\n",
    "album_set_4"
   ]
  },
  {
   "cell_type": "markdown",
   "id": "8237eae6-0a67-4511-b75e-81e72b347a10",
   "metadata": {},
   "source": [
    "#### we can check is album_set_3 is subset of album_set_1 with issubset() method"
   ]
  },
  {
   "cell_type": "markdown",
   "id": "b9819ae6-d577-4ac2-a03a-5a89edf0faa5",
   "metadata": {},
   "source": [
    "<img src=\"attachment:f6963f47-4e03-4875-95b3-8eec6e70aecb.png\" alt=\"image\" width=\"50%\" height=\"50%\">"
   ]
  },
  {
   "cell_type": "code",
   "execution_count": null,
   "id": "9d68bfc9-abe2-4475-82ab-ceeff26daaf3",
   "metadata": {},
   "outputs": [
    {
     "data": {
      "text/plain": [
       "True"
      ]
     },
     "execution_count": 230,
     "metadata": {},
     "output_type": "execute_result"
    }
   ],
   "source": [
    "album_set_3.issubset(album_set_1)"
   ]
  },
  {
   "cell_type": "markdown",
   "id": "b8bb85fb-9533-4cf4-911d-b772c36d7fa5",
   "metadata": {},
   "source": [
    "# Dictionaries in Python"
   ]
  },
  {
   "cell_type": "markdown",
   "id": "1d34a14f-9806-4ffd-b858-f4b730dd4189",
   "metadata": {},
   "source": [
    "#### dictionaries:\n",
    "    is a type of collection in python"
   ]
  },
  {
   "cell_type": "markdown",
   "id": "0987c6e4-0371-4a19-8c7a-6ee7a837eea1",
   "metadata": {},
   "source": [
    "if you recall, a list has integer indexes. these are like addresses\n",
    "A list also has elements. A dictionary has keys and values.\n",
    "The key is analogous to the index, they are like addresses but they don’t have to be\n",
    "integers. They are usually characters; the values are\n",
    "similar to the elements in a list and contain information."
   ]
  },
  {
   "cell_type": "markdown",
   "id": "e6928a3c-4d77-4ef7-81f9-544998e66d7a",
   "metadata": {},
   "source": [
    "<img src=\"attachment:13f32a0b-d3af-4fbe-896e-855af7bba0ab.png\" alt=\"image\" width=\"50%\" height=\"50%\">"
   ]
  },
  {
   "cell_type": "markdown",
   "id": "759f46da-9726-467c-86f3-b889efdae512",
   "metadata": {},
   "source": [
    "To create a dictionary, we use curly brackets. The keys are the first elements; they must be immutable and unique. Each key is followed by a value separated by a colon. The values can be immutable, mutable and duplicates. Each key and value pair is separated by a comma."
   ]
  },
  {
   "cell_type": "markdown",
   "id": "95d1a5e3-fb7b-4f78-a485-5fe2b9a6853f",
   "metadata": {},
   "source": [
    "<img src=\"attachment:a22e76c8-6ed6-45dd-a226-71b9f41022ce.png\" alt=\"image\" width=\"50%\" height=\"50%\">"
   ]
  },
  {
   "cell_type": "code",
   "execution_count": null,
   "id": "ae707e67-dc27-457b-9b75-6777df3afa48",
   "metadata": {},
   "outputs": [
    {
     "data": {
      "text/plain": [
       "{'thriller': 1982,\n",
       " 'Back in Black': 1980,\n",
       " 'The Dark Side of the Moon': 1973,\n",
       " 'The BodyGuard': 1992,\n",
       " 'Bat Out of Hell': 1977,\n",
       " 'Their Greatest...': 1976,\n",
       " 'Saturday Night Fever': 1977,\n",
       " 'Rumours': 1977}"
      ]
     },
     "execution_count": 164,
     "metadata": {},
     "output_type": "execute_result"
    }
   ],
   "source": [
    "dic_1 = {\"thriller\" : 1982, \"Back in Black\": 1980, \"The Dark Side of the Moon\": 1973, \"The BodyGuard\": 1992, \"Bat Out of Hell\": 1977, \"Their Greatest...\": 1976, \"Saturday Night Fever\": 1977, \"Rumours\": 1977}\n",
    "dic_1"
   ]
  },
  {
   "cell_type": "markdown",
   "id": "7923485b-8548-4228-9fcb-f9cc85cd9f33",
   "metadata": {},
   "source": [
    "the key is used to look up the value. we use squarebrakets [] the argument is the key. this outputs the value"
   ]
  },
  {
   "cell_type": "markdown",
   "id": "b458e394-2d1a-42fa-be04-e05fe8ffc6a7",
   "metadata": {},
   "source": [
    "<img src=\"attachment:d3041265-1246-48fd-8826-9541e5fb01a9.png\" alt=\"image\" width=\"50%\" height=\"50%\">"
   ]
  },
  {
   "cell_type": "code",
   "execution_count": null,
   "id": "a20b3e25-ab28-4d05-8900-e390fe992584",
   "metadata": {},
   "outputs": [
    {
     "data": {
      "text/plain": [
       "1977"
      ]
     },
     "execution_count": 165,
     "metadata": {},
     "output_type": "execute_result"
    }
   ],
   "source": [
    "dic_1[\"Rumours\"]"
   ]
  },
  {
   "cell_type": "markdown",
   "id": "c966ffff-88c0-4326-8f23-c791eac6ac47",
   "metadata": {},
   "source": [
    "We can add a new Entery of Dictionary as follows"
   ]
  },
  {
   "cell_type": "code",
   "execution_count": null,
   "id": "14f266c2-1ff0-4f64-a55e-e380b8c36ece",
   "metadata": {},
   "outputs": [
    {
     "data": {
      "text/plain": [
       "{'thriller': 1982,\n",
       " 'Back in Black': 1980,\n",
       " 'The Dark Side of the Moon': 1973,\n",
       " 'The BodyGuard': 1992,\n",
       " 'Bat Out of Hell': 1977,\n",
       " 'Their Greatest...': 1976,\n",
       " 'Saturday Night Fever': 1977,\n",
       " 'Rumours': 1977,\n",
       " 'Graduation': 2007}"
      ]
     },
     "execution_count": 166,
     "metadata": {},
     "output_type": "execute_result"
    }
   ],
   "source": [
    "dic_1[\"Graduation\"] = 2007\n",
    "dic_1"
   ]
  },
  {
   "cell_type": "code",
   "execution_count": null,
   "id": "4a3792bc-8faf-4d5a-bda8-87e0406ef534",
   "metadata": {},
   "outputs": [],
   "source": [
    "dic_1[\"thriller\"] = 1980"
   ]
  },
  {
   "cell_type": "markdown",
   "id": "395d886c-6a4c-4acf-afa2-238b4224a184",
   "metadata": {},
   "source": [
    "We can Delete the Entry as follows "
   ]
  },
  {
   "cell_type": "code",
   "execution_count": null,
   "id": "ad4c45da-f511-4b5f-a9c9-9aa1fd48619d",
   "metadata": {},
   "outputs": [
    {
     "data": {
      "text/plain": [
       "{'Back in Black': 1980,\n",
       " 'The Dark Side of the Moon': 1973,\n",
       " 'The BodyGuard': 1992,\n",
       " 'Bat Out of Hell': 1977,\n",
       " 'Their Greatest...': 1976,\n",
       " 'Saturday Night Fever': 1977,\n",
       " 'Rumours': 1977,\n",
       " 'Graduation': 2007}"
      ]
     },
     "execution_count": 168,
     "metadata": {},
     "output_type": "execute_result"
    }
   ],
   "source": [
    "del(dic_1['thriller'])\n",
    "dic_1"
   ]
  },
  {
   "cell_type": "code",
   "execution_count": null,
   "id": "ccd1ff14-989e-4daf-8b17-a9e3011ac46c",
   "metadata": {},
   "outputs": [
    {
     "data": {
      "text/plain": [
       "True"
      ]
     },
     "execution_count": 169,
     "metadata": {},
     "output_type": "execute_result"
    }
   ],
   "source": [
    "'The BodyGuard' in dic_1"
   ]
  },
  {
   "cell_type": "code",
   "execution_count": null,
   "id": "0080aafd-2e21-4391-a0a4-a5a756d671b0",
   "metadata": {},
   "outputs": [
    {
     "data": {
      "text/plain": [
       "False"
      ]
     },
     "execution_count": 170,
     "metadata": {},
     "output_type": "execute_result"
    }
   ],
   "source": [
    "'Starboy' in dic_1"
   ]
  },
  {
   "cell_type": "markdown",
   "id": "6713a345-fcd6-4cad-a54f-23e71dd9dd99",
   "metadata": {},
   "source": [
    "in order to see all the keys in the dictionary we can use:"
   ]
  },
  {
   "cell_type": "code",
   "execution_count": null,
   "id": "6a497a5e-4dd6-4063-acc1-318f30feebab",
   "metadata": {},
   "outputs": [
    {
     "data": {
      "text/plain": [
       "dict_keys(['Back in Black', 'The Dark Side of the Moon', 'The BodyGuard', 'Bat Out of Hell', 'Their Greatest...', 'Saturday Night Fever', 'Rumours', 'Graduation'])"
      ]
     },
     "execution_count": 175,
     "metadata": {},
     "output_type": "execute_result"
    }
   ],
   "source": [
    "dic_1.keys()"
   ]
  },
  {
   "cell_type": "code",
   "execution_count": null,
   "id": "26f1d683-7ae4-4e02-bf7b-ceb7c6c8ebb1",
   "metadata": {},
   "outputs": [
    {
     "data": {
      "text/plain": [
       "dict_values([1980, 1973, 1992, 1977, 1976, 1977, 1977, 2007])"
      ]
     },
     "execution_count": 176,
     "metadata": {},
     "output_type": "execute_result"
    }
   ],
   "source": [
    "dic_1.values()"
   ]
  },
  {
   "cell_type": "code",
   "execution_count": null,
   "id": "eacb6d4a-1c66-4a7b-a3da-8c2c63e8d62c",
   "metadata": {},
   "outputs": [],
   "source": [
    "Dict={\"A\":1,\"B\":\"2\",\"C\":[3,3,3],\"D\":(4,4,4),'E':5,'F':6}"
   ]
  },
  {
   "cell_type": "code",
   "execution_count": null,
   "id": "d1f94805-e09a-4b00-8cab-ffe04a79a124",
   "metadata": {},
   "outputs": [
    {
     "data": {
      "text/plain": [
       "(4, 4, 4)"
      ]
     },
     "execution_count": 254,
     "metadata": {},
     "output_type": "execute_result"
    }
   ],
   "source": [
    "Dict[\"D\"]"
   ]
  },
  {
   "cell_type": "markdown",
   "id": "8a301de7-e3db-4f2c-90e9-a16aaaa1cb90",
   "metadata": {},
   "source": [
    "# Python Programming Fundamental"
   ]
  },
  {
   "cell_type": "markdown",
   "id": "3b553da0-65e6-4faa-9bec-c8063bc48307",
   "metadata": {},
   "source": [
    "## 1. Condition and Branching"
   ]
  },
  {
   "cell_type": "markdown",
   "id": "d4e67b4c-f8ce-42ae-ac9f-13472d27a62f",
   "metadata": {},
   "source": [
    "### Comparison Operations:\n",
    "        Compare some value or operand, then, based on some conditions produce a boolean\n",
    "\n",
    "let's say we assign \"a\" value of \"a\" to equal 6"
   ]
  },
  {
   "cell_type": "code",
   "execution_count": null,
   "id": "006554db-4fe6-4e82-ba44-ee60467a3759",
   "metadata": {},
   "outputs": [],
   "source": [
    "a = 6"
   ]
  },
  {
   "cell_type": "markdown",
   "id": "0d368e02-fa41-4f56-93c4-59378a79147c",
   "metadata": {},
   "source": [
    "we can use equality operator denoted with two equal signs to determine if two values are equal, "
   ]
  },
  {
   "cell_type": "code",
   "execution_count": null,
   "id": "17d12f6b-33d9-4eda-8792-f43c446f263c",
   "metadata": {},
   "outputs": [
    {
     "data": {
      "text/plain": [
       "False"
      ]
     },
     "execution_count": 256,
     "metadata": {},
     "output_type": "execute_result"
    }
   ],
   "source": [
    "a == 7"
   ]
  },
  {
   "cell_type": "markdown",
   "id": "582c5f7b-071d-4220-a2ff-2a9a46a524fc",
   "metadata": {},
   "source": [
    "if 7 is equal to 6, in this case, as 6 is not equal to 7, the result is false"
   ]
  },
  {
   "cell_type": "markdown",
   "id": "d9635e01-cf7e-4f44-a7a9-4928b4d05397",
   "metadata": {},
   "source": [
    "if we reassign a to be equal to 6 and we performed an equality test for the value 6, then, the two values will would be equal. "
   ]
  },
  {
   "cell_type": "code",
   "execution_count": null,
   "id": "420a56ab-b1ae-417e-8b5c-9fe32ed6e058",
   "metadata": {},
   "outputs": [],
   "source": [
    "a = 6"
   ]
  },
  {
   "cell_type": "code",
   "execution_count": null,
   "id": "8aea6663-7b0f-44d1-9aad-5afb624fe890",
   "metadata": {},
   "outputs": [
    {
     "data": {
      "text/plain": [
       "True"
      ]
     },
     "execution_count": 258,
     "metadata": {},
     "output_type": "execute_result"
    }
   ],
   "source": [
    "a ==6"
   ]
  },
  {
   "cell_type": "markdown",
   "id": "181915b0-2550-409a-805a-64b85914b00b",
   "metadata": {},
   "source": [
    "### Comparison Operators"
   ]
  },
  {
   "cell_type": "markdown",
   "id": "3b980109-e819-42b9-a2b8-22160d4e70f0",
   "metadata": {},
   "source": [
    "i> 6 that's mean if variable \"i\" is greater than 6.\n",
    "\n",
    "i>= 6 that's mean if variable \"i\" is greater than or equal to 6.\n",
    "\n",
    "i<= 6 that's mean if variable \"i\" is less than or equal to 6\n",
    "\n",
    "i> 6 that's mean if variable \"i\" is less than 6\n",
    "\n",
    "i!=6 that's mean if a variable \"i\" not equal to 6"
   ]
  },
  {
   "cell_type": "code",
   "execution_count": null,
   "id": "e7e98254-3df9-4c7a-87ec-abf4a01c761a",
   "metadata": {},
   "outputs": [],
   "source": [
    "A_list = [1,2,3,4,5,6]"
   ]
  },
  {
   "cell_type": "code",
   "execution_count": null,
   "id": "99aa7480-ce90-4c2b-9ee3-fcea7fcd4325",
   "metadata": {},
   "outputs": [
    {
     "name": "stdout",
     "output_type": "stream",
     "text": [
      "1\n",
      "False\n",
      "2\n",
      "False\n",
      "3\n",
      "False\n",
      "4\n",
      "False\n",
      "5\n",
      "False\n",
      "6\n",
      "True\n"
     ]
    }
   ],
   "source": [
    "for i in A_list:\n",
    "    print(i)\n",
    "    print(i == 6)\n",
    "     "
   ]
  },
  {
   "cell_type": "code",
   "execution_count": null,
   "id": "ba56fc91-124d-4296-b0eb-4fc80431a0fe",
   "metadata": {},
   "outputs": [
    {
     "data": {
      "text/plain": [
       "False"
      ]
     },
     "execution_count": 275,
     "metadata": {},
     "output_type": "execute_result"
    }
   ],
   "source": [
    "\"AC/DC\" == \"Michael Jackson\""
   ]
  },
  {
   "cell_type": "code",
   "execution_count": null,
   "id": "045be8f9-9df4-49de-9cfb-97acab1fdbc5",
   "metadata": {},
   "outputs": [
    {
     "data": {
      "text/plain": [
       "True"
      ]
     },
     "execution_count": 276,
     "metadata": {},
     "output_type": "execute_result"
    }
   ],
   "source": [
    "\"AC/DC\" != \"Michael Jackson\""
   ]
  },
  {
   "cell_type": "markdown",
   "id": "7b9c0afd-bd43-490f-afa9-d1b4e29485d2",
   "metadata": {},
   "source": [
    "### Branshing:\n",
    "    allow us to run different statements for a different input"
   ]
  },
  {
   "cell_type": "markdown",
   "id": "e7e63616-b2e5-4f45-b6bb-1f0738a90c2a",
   "metadata": {},
   "source": [
    "#### IF Statement: "
   ]
  },
  {
   "cell_type": "code",
   "execution_count": null,
   "id": "02977143-09b7-4eff-a8f4-e22cb220ecd6",
   "metadata": {},
   "outputs": [],
   "source": [
    "age = 18"
   ]
  },
  {
   "cell_type": "code",
   "execution_count": null,
   "id": "25316ce6-135a-4a54-903c-7c6c3bdc2471",
   "metadata": {},
   "outputs": [
    {
     "name": "stdout",
     "output_type": "stream",
     "text": [
      "go see pink floyd\n",
      "Move on\n"
     ]
    }
   ],
   "source": [
    "if (age> 18):\n",
    "    print(\"you can enter AC/DC\")\n",
    "elif(age == 18):\n",
    "    print(\"go see pink floyd\")\n",
    "else:\n",
    "    print(\"Go see meat Loaf\")\n",
    "print(\"Move on\")"
   ]
  },
  {
   "cell_type": "code",
   "execution_count": null,
   "id": "f3995d4e-7658-41c6-a227-74e8e48d32d8",
   "metadata": {},
   "outputs": [],
   "source": [
    "A_list = [1,2,3,4,5,6,7,8,9,10,11,12,13,14,15,16,17,18,19,20]"
   ]
  },
  {
   "cell_type": "code",
   "execution_count": null,
   "id": "c4181ebc-2ccf-4445-a21e-d6e6e6793bb2",
   "metadata": {},
   "outputs": [
    {
     "name": "stdout",
     "output_type": "stream",
     "text": [
      "1\n",
      "Go see meat Loaf\n",
      "2\n",
      "Go see meat Loaf\n",
      "3\n",
      "Go see meat Loaf\n",
      "4\n",
      "Go see meat Loaf\n",
      "5\n",
      "Go see meat Loaf\n",
      "6\n",
      "Go see meat Loaf\n",
      "7\n",
      "Go see meat Loaf\n",
      "8\n",
      "Go see meat Loaf\n",
      "9\n",
      "Go see meat Loaf\n",
      "10\n",
      "go see pink floyd\n",
      "11\n",
      "you can enter AC/DC\n",
      "12\n",
      "you can enter AC/DC\n",
      "13\n",
      "you can enter AC/DC\n",
      "14\n",
      "you can enter AC/DC\n",
      "15\n",
      "you can enter AC/DC\n",
      "16\n",
      "you can enter AC/DC\n",
      "17\n",
      "you can enter AC/DC\n",
      "18\n",
      "you can enter AC/DC\n",
      "19\n",
      "you can enter AC/DC\n",
      "20\n",
      "you can enter AC/DC\n"
     ]
    }
   ],
   "source": [
    "for age in A_list:\n",
    "    print(age)\n",
    "    if (age> 10):\n",
    "        print(\"you can enter AC/DC\")\n",
    "    elif(age == 10):\n",
    "        print(\"go see pink floyd\")\n",
    "    else:\n",
    "        print(\"Go see meat Loaf\")\n"
   ]
  },
  {
   "cell_type": "markdown",
   "id": "d253cb6c-c73d-4051-9fe3-aabc3ea86c90",
   "metadata": {},
   "source": [
    "### Logic Operators:\n",
    "    Logic operations take boolean values and produce different boolean values"
   ]
  },
  {
   "cell_type": "markdown",
   "id": "acfe68b4-763f-4979-bf51-ddc8d4e2f428",
   "metadata": {},
   "source": [
    "#### 1. Logical \"not\" Operator"
   ]
  },
  {
   "cell_type": "code",
   "execution_count": null,
   "id": "d78fc342-ce63-4005-be68-2eaa60b97302",
   "metadata": {},
   "outputs": [
    {
     "data": {
      "text/plain": [
       "True"
      ]
     },
     "execution_count": 306,
     "metadata": {},
     "output_type": "execute_result"
    }
   ],
   "source": [
    "not(False)"
   ]
  },
  {
   "cell_type": "markdown",
   "id": "ddc5c4c0-8e2e-4f7f-8c6d-f1fd84ee507f",
   "metadata": {},
   "source": [
    "#### 2. Logical \"OR\" operator:"
   ]
  },
  {
   "cell_type": "markdown",
   "id": "21c1c231-df5a-4046-9dd4-b0fb88a3bfeb",
   "metadata": {},
   "source": [
    "<img src=\"attachment:aad1b6c7-bdcb-4193-beab-a53162b80190.png\" alt=\"image\" width=\"50%\" height=\"50%\">"
   ]
  },
  {
   "cell_type": "code",
   "execution_count": null,
   "id": "1dd9273d-11f2-4bee-b438-c5146ec2276a",
   "metadata": {},
   "outputs": [],
   "source": [
    "album_year = 1990"
   ]
  },
  {
   "cell_type": "code",
   "execution_count": null,
   "id": "c19e8ed6-439c-49b9-8b59-46465794c2ad",
   "metadata": {},
   "outputs": [
    {
     "name": "stdout",
     "output_type": "stream",
     "text": [
      "The Album was made in the 1980's\n"
     ]
    }
   ],
   "source": [
    "if(album_year < 1980) or (album_year > 1989):\n",
    "    print(\"The album was made in the 70's or 90's\")\n",
    "else:\n",
    "    print(\"The Album was made in the 1980's\")"
   ]
  },
  {
   "cell_type": "markdown",
   "id": "7c443dac-46f4-4ee3-b7f7-64935d210f90",
   "metadata": {},
   "source": [
    "<img src=\"attachment:ad68f656-19bd-46c3-b4f6-279b5fe14e5c.png\" alt=\"image\" width=\"50%\" height=\"50%\">"
   ]
  },
  {
   "cell_type": "markdown",
   "id": "dc9ab38d-0160-473e-a220-2d51284d217d",
   "metadata": {},
   "source": [
    "#### 2. Logical \"And\" operator:"
   ]
  },
  {
   "cell_type": "markdown",
   "id": "1bcdb470-23f2-401d-8a5b-cb1e9df09816",
   "metadata": {},
   "source": [
    "<img src=\"attachment:4a6fba6d-d4bb-48e0-aa6a-cdc3f9956130.png\" alt=\"image\" width=\"50%\" height=\"50%\">"
   ]
  },
  {
   "cell_type": "code",
   "execution_count": null,
   "id": "08b8d722-b9ca-422a-bfea-4ac01f03f162",
   "metadata": {},
   "outputs": [],
   "source": [
    "album_year = 1983"
   ]
  },
  {
   "cell_type": "code",
   "execution_count": null,
   "id": "8eadfae1-e392-44d9-8afd-7808c4d231e4",
   "metadata": {},
   "outputs": [
    {
     "name": "stdout",
     "output_type": "stream",
     "text": [
      "The album was made in the 80's\n"
     ]
    }
   ],
   "source": [
    "if(album_year > 1979) and (album_year < 1990):\n",
    "    print(\"The album was made in the 80's\")\n",
    "else:\n",
    "    print(\"The album was not made in the 80's\")"
   ]
  },
  {
   "cell_type": "markdown",
   "id": "6fb132d3-8d9f-4f5d-a733-39faa1e2c1e3",
   "metadata": {},
   "source": [
    "<img src=\"attachment:2a77c159-f5ca-46c0-9c74-b2360cbb878d.png\" alt=\"image\" width=\"50%\" height=\"50%\">"
   ]
  },
  {
   "cell_type": "markdown",
   "id": "2a1e40aa-c886-43a2-9279-8e30cb6b66b3",
   "metadata": {},
   "source": [
    "## Loops"
   ]
  },
  {
   "cell_type": "markdown",
   "id": "c1215bc4-5602-4191-b1d7-016b09c2debd",
   "metadata": {},
   "source": [
    "### For Loop:"
   ]
  },
  {
   "cell_type": "markdown",
   "id": "fb53f17e-0f89-445d-b917-6b2c748b2c43",
   "metadata": {},
   "source": [
    "<img src=\"attachment:3435e8da-48b2-48e1-8802-a72125ca927a.png\" alt=\"image\" width=\"50%\" height=\"50%\">"
   ]
  },
  {
   "cell_type": "code",
   "execution_count": null,
   "id": "716fc44b-addc-4969-a0c8-68aacdd40125",
   "metadata": {},
   "outputs": [],
   "source": [
    "squares = [\"red\",\"yellow\",\"green\",\"purple\",\"blue\"]"
   ]
  },
  {
   "cell_type": "code",
   "execution_count": null,
   "id": "e54be2f7-5794-4f69-9dfe-2a30cbbc6592",
   "metadata": {},
   "outputs": [
    {
     "name": "stdout",
     "output_type": "stream",
     "text": [
      "red\n",
      "white\n",
      "yellow\n",
      "white\n",
      "green\n",
      "white\n",
      "purple\n",
      "white\n",
      "blue\n",
      "white\n"
     ]
    }
   ],
   "source": [
    "for i in range(0,5):\n",
    "    print(squares[i])\n",
    "    squares[i] = \"white\"\n",
    "    print(squares[i])"
   ]
  },
  {
   "cell_type": "code",
   "execution_count": null,
   "id": "cc69717f-607f-4cae-9901-c58fdbb45aca",
   "metadata": {},
   "outputs": [
    {
     "data": {
      "text/plain": [
       "['white', 'white', 'white', 'white', 'blue']"
      ]
     },
     "execution_count": 21,
     "metadata": {},
     "output_type": "execute_result"
    }
   ],
   "source": [
    "squares"
   ]
  },
  {
   "cell_type": "code",
   "execution_count": null,
   "id": "c8f71423-b234-43f4-8dd0-8813587d3f36",
   "metadata": {},
   "outputs": [],
   "source": [
    "squares = [\"Red\",\"Yellow\",\"Green\"]"
   ]
  },
  {
   "cell_type": "code",
   "execution_count": null,
   "id": "ddc221dd-12be-4928-ac00-61fe051c0c4a",
   "metadata": {},
   "outputs": [
    {
     "name": "stdout",
     "output_type": "stream",
     "text": [
      "Red\n",
      "0\n",
      "Yellow\n",
      "1\n",
      "Green\n",
      "2\n"
     ]
    }
   ],
   "source": [
    "for i,square in enumerate(squares):\n",
    "    print(square)\n",
    "    print(i)"
   ]
  },
  {
   "cell_type": "code",
   "execution_count": null,
   "id": "95787666-dc24-47d0-ba15-17b5e59f8ad0",
   "metadata": {},
   "outputs": [
    {
     "name": "stdout",
     "output_type": "stream",
     "text": [
      "4\n"
     ]
    }
   ],
   "source": [
    "print (i)"
   ]
  },
  {
   "cell_type": "code",
   "execution_count": null,
   "id": "921b7e32-55b3-4320-9d4c-32edd4629e82",
   "metadata": {},
   "outputs": [
    {
     "name": "stdout",
     "output_type": "stream",
     "text": [
      "blue\n"
     ]
    }
   ],
   "source": [
    "print(square)"
   ]
  },
  {
   "cell_type": "code",
   "execution_count": null,
   "id": "0179fb23-cc49-4137-821b-6843ca1bb7f7",
   "metadata": {},
   "outputs": [],
   "source": [
    "square"
   ]
  },
  {
   "cell_type": "markdown",
   "id": "356a1ff9-a8a1-44ae-89e6-c543f566a6bf",
   "metadata": {},
   "source": [
    "### While Loop"
   ]
  },
  {
   "cell_type": "code",
   "execution_count": null,
   "id": "8c884d78-c0b0-4d58-af1d-289047f85909",
   "metadata": {},
   "outputs": [],
   "source": [
    "squares = [\"orange\",\"orange\",\"purple\",\"blue\"]"
   ]
  },
  {
   "cell_type": "code",
   "execution_count": null,
   "id": "c0e8cae4-2db9-4727-83c7-1d2489b84188",
   "metadata": {},
   "outputs": [],
   "source": [
    "newsquares = []"
   ]
  },
  {
   "cell_type": "code",
   "execution_count": null,
   "id": "6b64cce2-693f-4fa7-9f44-abd9fe858a5f",
   "metadata": {},
   "outputs": [],
   "source": [
    "i = 0"
   ]
  },
  {
   "cell_type": "code",
   "execution_count": null,
   "id": "506b4c63-f68e-4dd2-90c9-40a0f7783697",
   "metadata": {},
   "outputs": [],
   "source": [
    "while (squares[i] == \"orange\"):\n",
    "    newsquares.append(squares[i])\n",
    "    i = i+1"
   ]
  },
  {
   "cell_type": "code",
   "execution_count": null,
   "id": "d5884fd2-1345-4ab9-a677-ee40bd1f853e",
   "metadata": {},
   "outputs": [
    {
     "data": {
      "text/plain": [
       "['orange', 'orange']"
      ]
     },
     "execution_count": 42,
     "metadata": {},
     "output_type": "execute_result"
    }
   ],
   "source": [
    "newsquares"
   ]
  },
  {
   "cell_type": "code",
   "execution_count": null,
   "id": "0ba04737-ff67-45dc-8008-5646d4928ae3",
   "metadata": {},
   "outputs": [],
   "source": [
    "A=[3,4,5]"
   ]
  },
  {
   "cell_type": "code",
   "execution_count": null,
   "id": "0afd7402-0668-4401-99e9-38074a21af56",
   "metadata": {},
   "outputs": [
    {
     "name": "stdout",
     "output_type": "stream",
     "text": [
      "3\n",
      "4\n",
      "5\n"
     ]
    }
   ],
   "source": [
    "for a in A:\n",
    "    print(a)\n"
   ]
  },
  {
   "cell_type": "code",
   "execution_count": null,
   "id": "12d83ffe-203e-4006-b0d2-d4cd7d73613b",
   "metadata": {},
   "outputs": [],
   "source": [
    "x=3\n",
    "y=1"
   ]
  },
  {
   "cell_type": "code",
   "execution_count": null,
   "id": "0ccdb1bd-e0f3-485c-9b13-633ac98807f0",
   "metadata": {},
   "outputs": [],
   "source": [
    "\n",
    "while(y!=x):\n",
    "    print(y)\n",
    "    y=y+1"
   ]
  },
  {
   "cell_type": "markdown",
   "id": "a5ac3524-c0c9-4e9f-ba4a-4070449ee03a",
   "metadata": {},
   "source": [
    "## Functions"
   ]
  },
  {
   "cell_type": "code",
   "execution_count": null,
   "id": "e83b8873-ffa6-4e98-855a-54f6e44b9fb0",
   "metadata": {},
   "outputs": [
    {
     "name": "stdout",
     "output_type": "stream",
     "text": [
      "Length: 6, Sum: 47, Sorted (using sorted()): [3, 4, 7, 8, 10, 15], Original list after .sort(): [3, 4, 7, 8, 10, 15]\n"
     ]
    }
   ],
   "source": [
    "# Example code to start with\n",
    "numbers = [10, 4, 8, 3, 15, 7]\n",
    "\n",
    "# 1. Find the length of the list\n",
    "length = len(numbers)\n",
    "\n",
    "# 2. Find the sum of the list elements\n",
    "total = sum(numbers)\n",
    "\n",
    "# 3. Sort the list\n",
    "sorted_numbers = sorted(numbers)\n",
    "numbers.sort()\n",
    "\n",
    "print(f\"Length: {length}, Sum: {total}, Sorted (using sorted()): {sorted_numbers}, Original list after .sort(): {numbers}\")\n"
   ]
  },
  {
   "cell_type": "code",
   "execution_count": null,
   "id": "1a8e5b41-11e3-4ef5-b6a2-2fef67444b1f",
   "metadata": {},
   "outputs": [],
   "source": [
    "def add_one(number):\n",
    "    \"\"\"This function returns the input number plus one.\"\"\"\n",
    "    return number + 1\n",
    "\n"
   ]
  },
  {
   "cell_type": "code",
   "execution_count": null,
   "id": "8807733e-f7c3-49dc-8d77-ae9b90e0493a",
   "metadata": {},
   "outputs": [
    {
     "data": {
      "text/plain": [
       "6"
      ]
     },
     "execution_count": 54,
     "metadata": {},
     "output_type": "execute_result"
    }
   ],
   "source": [
    "result = add_one(5)  # Returns 6\n",
    "result"
   ]
  },
  {
   "cell_type": "code",
   "execution_count": null,
   "id": "cf7ae93f-16be-44e2-a8d3-f631016d8a76",
   "metadata": {},
   "outputs": [],
   "source": [
    "# Example code to start with\n",
    "\n",
    "# 1. Multiply function\n",
    "def multiply(a, b):\n",
    "    return a * b\n",
    "\n",
    "\n"
   ]
  },
  {
   "cell_type": "code",
   "execution_count": null,
   "id": "4737df91-ae7e-4af4-8ef9-6df2def8ac07",
   "metadata": {},
   "outputs": [
    {
     "data": {
      "text/plain": [
       "20"
      ]
     },
     "execution_count": 68,
     "metadata": {},
     "output_type": "execute_result"
    }
   ],
   "source": [
    "multiply( 4, 5)"
   ]
  },
  {
   "cell_type": "code",
   "execution_count": null,
   "id": "fde952eb-fd68-4b72-8003-2077e42f7dca",
   "metadata": {},
   "outputs": [],
   "source": [
    "# 2. Greet function\n",
    "def greet(name):\n",
    "    print(f\"Hello, {name}!\")\n"
   ]
  },
  {
   "cell_type": "code",
   "execution_count": null,
   "id": "aaff29e6-3149-4a9a-b202-82156b950248",
   "metadata": {},
   "outputs": [
    {
     "name": "stdout",
     "output_type": "stream",
     "text": [
      "Hello, Mohamed!\n"
     ]
    }
   ],
   "source": [
    "greet(\"Mohamed\")"
   ]
  },
  {
   "cell_type": "code",
   "execution_count": null,
   "id": "1a863c5c-2c26-49bb-b054-d3101134e208",
   "metadata": {},
   "outputs": [],
   "source": [
    "\n",
    "# 3. Find max function\n",
    "def find_max(numbers):\n",
    "    return max(numbers)\n",
    "\n",
    "parameters = [1,3, 56,12,443,12]\n"
   ]
  },
  {
   "cell_type": "code",
   "execution_count": null,
   "id": "13c83da4-9325-4ad3-b870-f4a72e010775",
   "metadata": {},
   "outputs": [
    {
     "data": {
      "text/plain": [
       "443"
      ]
     },
     "execution_count": 66,
     "metadata": {},
     "output_type": "execute_result"
    }
   ],
   "source": [
    "find_max(parameters)"
   ]
  },
  {
   "cell_type": "code",
   "execution_count": null,
   "id": "64e7608e-c509-4d7d-9c59-606dd902824c",
   "metadata": {},
   "outputs": [],
   "source": [
    "def circle_radius(c):\n",
    "    return c/(2*3.14159)"
   ]
  },
  {
   "cell_type": "code",
   "execution_count": null,
   "id": "91ebfea3-aa4b-4e38-8a82-c0584b4d4f9f",
   "metadata": {},
   "outputs": [
    {
     "data": {
      "text/plain": [
       "98.0"
      ]
     },
     "execution_count": 120,
     "metadata": {},
     "output_type": "execute_result"
    }
   ],
   "source": [
    "circle_radius(615.75164)"
   ]
  },
  {
   "cell_type": "code",
   "execution_count": null,
   "id": "3b7d0d5b-2829-4543-ab9e-8307cf5ad91f",
   "metadata": {},
   "outputs": [],
   "source": [
    "def circle_area(a):\n",
    "    return 3.14159*a**2"
   ]
  },
  {
   "cell_type": "code",
   "execution_count": null,
   "id": "e38b5705-a375-49d4-9caa-36d42e341576",
   "metadata": {},
   "outputs": [
    {
     "data": {
      "text/plain": [
       "615.75164"
      ]
     },
     "execution_count": 117,
     "metadata": {},
     "output_type": "execute_result"
    }
   ],
   "source": [
    "circle_area(14)"
   ]
  },
  {
   "cell_type": "code",
   "execution_count": null,
   "id": "d8fd63e5-6c48-4817-8467-84cb802243ec",
   "metadata": {},
   "outputs": [],
   "source": [
    "# Example code to start with\n",
    "\n",
    "# 1. Print message function\n",
    "def print_message():\n",
    "    print(\"This is a message!\")\n",
    "\n"
   ]
  },
  {
   "cell_type": "code",
   "execution_count": null,
   "id": "5f64bd3d-ad1f-47db-a2a5-577dca0341fc",
   "metadata": {},
   "outputs": [
    {
     "name": "stdout",
     "output_type": "stream",
     "text": [
      "This is a message!\n"
     ]
    }
   ],
   "source": [
    "print_message()"
   ]
  },
  {
   "cell_type": "code",
   "execution_count": null,
   "id": "227d9727-2950-40b1-a5cb-4da55b1dd46f",
   "metadata": {},
   "outputs": [],
   "source": [
    "# 2. No operation function\n",
    "def no_operation():\n",
    "    pass\n"
   ]
  },
  {
   "cell_type": "code",
   "execution_count": null,
   "id": "9bb738d3-27ee-4d37-a280-0b9991745289",
   "metadata": {},
   "outputs": [],
   "source": [
    "no_operation()"
   ]
  },
  {
   "cell_type": "code",
   "execution_count": null,
   "id": "1fdde25b-9a06-4ca4-9a0a-2c90fb3248af",
   "metadata": {},
   "outputs": [],
   "source": [
    "# Example code to start with\n",
    "\n",
    "# 1. Print elements with index\n",
    "def print_elements(elements):\n",
    "    for i, element in enumerate(elements):\n",
    "        print(f\"Index {i}: {element}\")\n",
    "\n"
   ]
  },
  {
   "cell_type": "code",
   "execution_count": null,
   "id": "f01db841-2faf-4c12-94db-44c6395f7c2f",
   "metadata": {},
   "outputs": [
    {
     "name": "stdout",
     "output_type": "stream",
     "text": [
      "Index 0: apple\n",
      "Index 1: orange\n",
      "Index 2: banana\n"
     ]
    }
   ],
   "source": [
    "print_elements([\"apple\",\"orange\",\"banana\"])"
   ]
  },
  {
   "cell_type": "code",
   "execution_count": null,
   "id": "c7abc00e-4edf-401b-a2e0-5d844a1db080",
   "metadata": {},
   "outputs": [],
   "source": [
    "# 2. Sum numbers using a loop\n",
    "def sum_numbers(numbers):\n",
    "    total = 0\n",
    "    for num in numbers:\n",
    "        total += num\n",
    "    return total\n",
    "\n"
   ]
  },
  {
   "cell_type": "code",
   "execution_count": null,
   "id": "a1d00855-7426-450e-a36e-06be1debe3e3",
   "metadata": {},
   "outputs": [
    {
     "data": {
      "text/plain": [
       "437"
      ]
     },
     "execution_count": 99,
     "metadata": {},
     "output_type": "execute_result"
    }
   ],
   "source": [
    "sum_numbers([14,21,334,56,12])"
   ]
  },
  {
   "cell_type": "code",
   "execution_count": null,
   "id": "b8819903-efbc-4779-ace6-7678401b4848",
   "metadata": {},
   "outputs": [
    {
     "name": "stdout",
     "output_type": "stream",
     "text": [
      "Index 0: Apple\n",
      "Index 1: Banana\n",
      "Index 2: Cherry\n",
      "100\n"
     ]
    }
   ],
   "source": [
    "print_elements([\"Apple\", \"Banana\", \"Cherry\"])\n",
    "print(sum_numbers([10, 20, 30, 40]))"
   ]
  },
  {
   "cell_type": "code",
   "execution_count": null,
   "id": "de9a0cd6-d9a2-4f17-8fee-2fc0b6f2bfde",
   "metadata": {},
   "outputs": [],
   "source": [
    "x = 10\n",
    "\n",
    "def modify_x():\n",
    "    x = 5  # Local variable\n",
    "    print(f\"Inside function: x = {x}\")"
   ]
  },
  {
   "cell_type": "code",
   "execution_count": null,
   "id": "33c962e0-8954-426e-938e-83e84f8e3e56",
   "metadata": {},
   "outputs": [
    {
     "name": "stdout",
     "output_type": "stream",
     "text": [
      "Inside function: x = 5\n"
     ]
    }
   ],
   "source": [
    "modify_x()"
   ]
  },
  {
   "cell_type": "code",
   "execution_count": null,
   "id": "54a55594-8e1f-414f-893b-9171b0bcd8bf",
   "metadata": {},
   "outputs": [],
   "source": [
    "def use_global():\n",
    "    global x\n",
    "    x = 20"
   ]
  },
  {
   "cell_type": "code",
   "execution_count": null,
   "id": "a09e3e76-aff5-47d7-9b19-550c5a761935",
   "metadata": {},
   "outputs": [
    {
     "name": "stdout",
     "output_type": "stream",
     "text": [
      "None\n"
     ]
    }
   ],
   "source": [
    "print(use_global())"
   ]
  },
  {
   "cell_type": "code",
   "execution_count": null,
   "id": "c19003f0-126d-48a6-bd9e-cc2b440bf400",
   "metadata": {},
   "outputs": [
    {
     "name": "stdout",
     "output_type": "stream",
     "text": [
      "Inside function: x = 5\n"
     ]
    }
   ],
   "source": [
    "# Example code to start with\n",
    "\n",
    "# 1. Global and local variables\n",
    "x = 10\n",
    "\n",
    "def modify_x():\n",
    "    x = 5  # Local variable\n",
    "    print(f\"Inside function: x = {x}\")\n",
    "\n",
    "modify_x()\n"
   ]
  },
  {
   "cell_type": "code",
   "execution_count": null,
   "id": "09371151-eece-40b6-9061-6a0d5519317d",
   "metadata": {},
   "outputs": [
    {
     "name": "stdout",
     "output_type": "stream",
     "text": [
      "Outside function: x = 10\n"
     ]
    }
   ],
   "source": [
    "print(f\"Outside function: x = {x}\")\n",
    "\n"
   ]
  },
  {
   "cell_type": "code",
   "execution_count": null,
   "id": "4c0d95a8-115b-4373-9151-e9b1903a4741",
   "metadata": {},
   "outputs": [
    {
     "name": "stdout",
     "output_type": "stream",
     "text": [
      "After use_global(): x = 20\n"
     ]
    }
   ],
   "source": [
    "# 2. Modifying a global variable\n",
    "def use_global():\n",
    "    global x\n",
    "    x = 20\n",
    "\n",
    "use_global()\n",
    "print(f\"After use_global(): x = {x}\")\n"
   ]
  },
  {
   "cell_type": "code",
   "execution_count": null,
   "id": "74b878be-870c-4e94-8fe8-2a47ae41f677",
   "metadata": {},
   "outputs": [],
   "source": [
    "def rectangle_area(a,b):\n",
    "    return a*b"
   ]
  },
  {
   "cell_type": "code",
   "execution_count": null,
   "id": "d977ddfd-2156-44ae-a169-fe42df9144c3",
   "metadata": {},
   "outputs": [
    {
     "data": {
      "text/plain": [
       "'michael Jackson <3  michael Jackson <3  '"
      ]
     },
     "execution_count": 126,
     "metadata": {},
     "output_type": "execute_result"
    }
   ],
   "source": [
    "rectangle_area(2,\"michael Jackson <3  \")"
   ]
  },
  {
   "cell_type": "code",
   "execution_count": null,
   "id": "b1dbd0d2-c609-40b7-9920-d0634db02457",
   "metadata": {},
   "outputs": [],
   "source": [
    "def mj():\n",
    "    print(\"Michael Jackson is the best\")"
   ]
  },
  {
   "cell_type": "code",
   "execution_count": null,
   "id": "3ae06504-8090-4693-bca8-5ea0c9357612",
   "metadata": {},
   "outputs": [
    {
     "name": "stdout",
     "output_type": "stream",
     "text": [
      "Michael Jackson is the best\n"
     ]
    }
   ],
   "source": [
    "mj()"
   ]
  },
  {
   "cell_type": "code",
   "execution_count": null,
   "id": "9ff91c78-4a6c-4df9-a3be-4f6cb191f504",
   "metadata": {},
   "outputs": [],
   "source": [
    "def no_work():\n",
    "    pass"
   ]
  },
  {
   "cell_type": "code",
   "execution_count": null,
   "id": "4ea9cdc9-72df-44d2-9f88-bb18d2d4c21c",
   "metadata": {},
   "outputs": [
    {
     "name": "stdout",
     "output_type": "stream",
     "text": [
      "None\n"
     ]
    }
   ],
   "source": [
    "print(no_work())"
   ]
  },
  {
   "cell_type": "code",
   "execution_count": null,
   "id": "12e1dacc-5ba2-4b64-a64c-08da100f5b92",
   "metadata": {},
   "outputs": [],
   "source": [
    "def add1(a):\n",
    "    b = 1+a\n",
    "    return print(a, \" plus 1 equals \",b)"
   ]
  },
  {
   "cell_type": "code",
   "execution_count": null,
   "id": "c3c47ca8-b1a7-48f5-b51d-8de085f3482f",
   "metadata": {},
   "outputs": [
    {
     "name": "stdout",
     "output_type": "stream",
     "text": [
      "3  plus 1 equals  4\n"
     ]
    }
   ],
   "source": [
    "add1(3)"
   ]
  },
  {
   "cell_type": "code",
   "execution_count": null,
   "id": "e5dbda03-5b9b-4069-ac81-07d4548959b1",
   "metadata": {},
   "outputs": [
    {
     "name": "stdout",
     "output_type": "stream",
     "text": [
      "Album 0  Rating is 10.0\n",
      "Album 1  Rating is 8.5\n",
      "Album 2  Rating is 9.5\n"
     ]
    }
   ],
   "source": [
    "def printStuff(stuff):\n",
    "    for i,s in enumerate(stuff):\n",
    "        print(\"Album\",i,\" Rating is\", s)\n",
    "\n",
    "albums_ratings = [10.0, 8.5, 9.5]\n",
    "printStuff(albums_ratings)"
   ]
  },
  {
   "cell_type": "code",
   "execution_count": null,
   "id": "d72f5b18-6e0b-4b0b-90e4-d5d480a8d4ce",
   "metadata": {},
   "outputs": [
    {
     "name": "stdout",
     "output_type": "stream",
     "text": [
      "Album: thriller, produced in Year: 1982\n",
      "Album: Back in Black, produced in Year: 1980\n",
      "Album: The Dark Side of the Moon, produced in Year: 1973\n",
      "Album: The BodyGuard, produced in Year: 1992\n",
      "Album: Bat Out of Hell, produced in Year: 1977\n",
      "Album: Their Greatest..., produced in Year: 1976\n",
      "Album: Saturday Night Fever, produced in Year: 1977\n",
      "Album: Rumours, produced in Year: 1977\n"
     ]
    }
   ],
   "source": [
    "albums_year = {\"thriller\" : 1982, \"Back in Black\": 1980, \"The Dark Side of the Moon\": 1973, \"The BodyGuard\": 1992, \"Bat Out of Hell\": 1977, \"Their Greatest...\": 1976, \"Saturday Night Fever\": 1977, \"Rumours\": 1977}\n",
    "\n",
    "\n",
    "def printStuff(stuff):\n",
    "    for album, year in stuff.items():\n",
    "        print(\"Album:\", album+\",\", \"produced in Year:\", year)\n",
    "\n",
    "\n",
    "printStuff(albums_year)"
   ]
  },
  {
   "cell_type": "markdown",
   "id": "a8144794-4b63-4d66-8d00-d5541ef79f95",
   "metadata": {},
   "source": [
    "#### Global Scope"
   ]
  },
  {
   "cell_type": "code",
   "execution_count": null,
   "id": "29f2af02-2a9a-4249-9743-a44d5521a7ba",
   "metadata": {},
   "outputs": [
    {
     "data": {
      "text/plain": [
       "'ACDC'"
      ]
     },
     "execution_count": 218,
     "metadata": {},
     "output_type": "execute_result"
    }
   ],
   "source": [
    "def addDC(y):\n",
    "    x = \"AC\"\n",
    "    x = x+\"DC\"\n",
    "    return(x)\n",
    "\n",
    "\n",
    "addDC(x)"
   ]
  },
  {
   "cell_type": "code",
   "execution_count": null,
   "id": "23d300af-de32-45b8-b5fd-ee0bdc9d0138",
   "metadata": {},
   "outputs": [
    {
     "data": {
      "text/plain": [
       "'ACDC'"
      ]
     },
     "execution_count": 249,
     "metadata": {},
     "output_type": "execute_result"
    }
   ],
   "source": [
    "x = \"AC\"\n",
    "\n",
    "def addDC(y):\n",
    "    global x\n",
    "    x = x+\"DC\"\n",
    "    return(x)\n",
    "\n",
    "\n",
    "addDC(x)"
   ]
  },
  {
   "cell_type": "code",
   "execution_count": 46,
   "id": "ad25294f-1885-46c5-813c-2dc34c093485",
   "metadata": {},
   "outputs": [
    {
     "name": "stdout",
     "output_type": "stream",
     "text": [
      "ACDC\n"
     ]
    }
   ],
   "source": [
    "def addDC(y):\n",
    "    global x\n",
    "    x = x + \"DC\"\n",
    "    print(x)\n",
    "    return(x)\n",
    "\n",
    "x = \"AC\"\n",
    "z = addDC(x)"
   ]
  },
  {
   "cell_type": "code",
   "execution_count": 47,
   "id": "f5fa9e95-e96d-4a45-b8ff-59dc7ce2e430",
   "metadata": {},
   "outputs": [
    {
     "name": "stdout",
     "output_type": "stream",
     "text": [
      "1982\n",
      "1982\n"
     ]
    }
   ],
   "source": [
    "\n",
    "def Thriller():\n",
    "    global Date\n",
    "    Date = 1982\n",
    "    return Date\n",
    "\n",
    "Date = 2017\n",
    "print(Thriller())\n",
    "print(Date)"
   ]
  },
  {
   "cell_type": "code",
   "execution_count": null,
   "id": "04f95e30-078a-40f7-abdb-4df57cd296cf",
   "metadata": {},
   "outputs": [
    {
     "name": "stdout",
     "output_type": "stream",
     "text": [
      "1982\n",
      "2017\n"
     ]
    }
   ],
   "source": [
    "global scope\n",
    "def Thriller():\n",
    "    Date = 1982\n",
    "    return Date\n",
    "\n",
    "Date = 2017\n",
    "print(Thriller())\n",
    "print(Date)"
   ]
  },
  {
   "cell_type": "code",
   "execution_count": null,
   "id": "0ee442b3-d9b6-4441-a229-e010146f6905",
   "metadata": {},
   "outputs": [
    {
     "name": "stdout",
     "output_type": "stream",
     "text": [
      "9\n"
     ]
    },
    {
     "data": {
      "text/plain": [
       "13"
      ]
     },
     "execution_count": 262,
     "metadata": {},
     "output_type": "execute_result"
    }
   ],
   "source": [
    "global Scope\n",
    "\n",
    "def ACDC(y):\n",
    "    print(Rating)\n",
    "    return(Rating + y)\n",
    "\n",
    "Rating = 9\n",
    "\n",
    "z = ACDC(4)\n",
    "z\n"
   ]
  },
  {
   "cell_type": "code",
   "execution_count": null,
   "id": "1205d839-6efb-4308-8b05-38b9af1f06d0",
   "metadata": {},
   "outputs": [
    {
     "data": {
      "text/plain": [
       "'45 million'"
      ]
     },
     "execution_count": 264,
     "metadata": {},
     "output_type": "execute_result"
    }
   ],
   "source": [
    "global scope\n",
    "def pinkfloyd():\n",
    "    global ClaimSales\n",
    "    ClaimSales = \"45 million\"\n",
    "    return ClaimSales\n",
    "\n",
    "pinkfloyd()"
   ]
  },
  {
   "cell_type": "code",
   "execution_count": null,
   "id": "b605adc9-a537-414a-b9ec-0fac998bcb64",
   "metadata": {},
   "outputs": [
    {
     "data": {
      "text/plain": [
       "11"
      ]
     },
     "execution_count": 265,
     "metadata": {},
     "output_type": "execute_result"
    }
   ],
   "source": [
    "a=1\n",
    "\n",
    "def add(b):\n",
    "    return a+b\n",
    "\n",
    "c=add(10)\n",
    "c"
   ]
  },
  {
   "cell_type": "code",
   "execution_count": null,
   "id": "df4bcf20-fb25-43ae-8bf9-8361200d4327",
   "metadata": {},
   "outputs": [],
   "source": [
    "def f(*x):\n",
    "    return sum(x)"
   ]
  },
  {
   "cell_type": "code",
   "execution_count": null,
   "id": "d8f82f6a-2d23-41e3-b110-21e4f1180d3b",
   "metadata": {},
   "outputs": [
    {
     "data": {
      "text/plain": [
       "18"
      ]
     },
     "execution_count": 272,
     "metadata": {},
     "output_type": "execute_result"
    }
   ],
   "source": [
    "f(3,2,13)"
   ]
  },
  {
   "cell_type": "code",
   "execution_count": null,
   "id": "68350467-46b0-46c1-aa81-b0e30e126a16",
   "metadata": {},
   "outputs": [],
   "source": [
    "l1 = [1,2,3,4,5]\n",
    "l2 = [4,5,6,7,8]\n",
    "def t_or(l1,l2):\n",
    "    result = {}\n",
    "    for x in l1: result[x] = 0\n",
    "    for x in l2: result[x] = 0\n",
    "    print(result)"
   ]
  },
  {
   "cell_type": "code",
   "execution_count": null,
   "id": "07e68b4e-3c9c-45c0-8b9d-2778c7b816ab",
   "metadata": {},
   "outputs": [
    {
     "name": "stdout",
     "output_type": "stream",
     "text": [
      "{1: 0, 2: 0, 3: 0, 4: 0, 5: 0, 6: 0, 7: 0, 8: 0}\n"
     ]
    }
   ],
   "source": [
    "t_or(l1,l2)"
   ]
  },
  {
   "cell_type": "markdown",
   "id": "0d7449d3-d1ae-4ef3-9e53-ba4e2125c102",
   "metadata": {},
   "source": [
    "### Objects and Classes in Python"
   ]
  },
  {
   "cell_type": "code",
   "execution_count": null,
   "id": "7d346d60-c42c-4fb0-a486-0ffa9a66adec",
   "metadata": {},
   "outputs": [
    {
     "name": "stdout",
     "output_type": "stream",
     "text": [
      "[1, 2, 3]\n"
     ]
    }
   ],
   "source": [
    "# Creating objects of different types\n",
    "integer_object = 10\n",
    "list_object = [3, 1, 2]\n",
    "\n",
    "# Using methods on these objects\n",
    "list_object.sort()\n",
    "print(list_object)  # Output: [1, 2, 3]\n"
   ]
  },
  {
   "cell_type": "code",
   "execution_count": null,
   "id": "9eaebc8b-8b53-4025-90f4-022caf5bb8f2",
   "metadata": {},
   "outputs": [],
   "source": [
    "# Import the library\n",
    "\n",
    "import matplotlib.pyplot as plt\n",
    "%matplotlib inline  "
   ]
  },
  {
   "cell_type": "code",
   "execution_count": null,
   "id": "4bf68b23-2d1d-4d17-ae6d-fb0644e24288",
   "metadata": {},
   "outputs": [],
   "source": [
    "class Circle (object):\n",
    "    def __init__(self, radius=3 ,color= 'red'):\n",
    "        self.radius = radius\n",
    "        self.color = color\n",
    "\n",
    "    def add_radius(self,r):\n",
    "        self.radius = self.radius + r\n",
    "        return (self.radius)\n",
    "\n",
    "    def drawCircle(self):\n",
    "        plt.gca().add_patch(plt.Circle((0, 0), radius=self.radius, fc=self.color))\n",
    "        plt.axis('scaled')\n",
    "        plt.show()  "
   ]
  },
  {
   "cell_type": "code",
   "execution_count": null,
   "id": "0c2678f9-7c2c-48ae-ae2c-48ffe8a764fe",
   "metadata": {},
   "outputs": [],
   "source": [
    "my_car = Circle(2,'b')\n"
   ]
  },
  {
   "cell_type": "code",
   "execution_count": null,
   "id": "db019a3b-2c44-4bb4-bbe1-7145c5d91014",
   "metadata": {},
   "outputs": [
    {
     "data": {
      "image/png": "[encoded data removed]",
      "text/plain": [
       "<Figure size 640x480 with 1 Axes>"
      ]
     },
     "metadata": {},
     "output_type": "display_data"
    }
   ],
   "source": [
    "my_car.drawCircle()"
   ]
  },
  {
   "cell_type": "code",
   "execution_count": null,
   "id": "3dcaa94e-caf7-49a4-81e6-8ffcb9e8aeab",
   "metadata": {},
   "outputs": [],
   "source": [
    "class Rectangle (object):\n",
    "    def __init__(self, color, height, width):\n",
    "        self.hieght = height;\n",
    "        self.width = width;\n",
    "        self.color = color;"
   ]
  },
  {
   "cell_type": "code",
   "execution_count": null,
   "id": "bc692c63-d65e-456b-a527-deaedabf4c6f",
   "metadata": {},
   "outputs": [
    {
     "name": "stdout",
     "output_type": "stream",
     "text": [
      "Honda\n"
     ]
    }
   ],
   "source": [
    "class Car (object):\n",
    "    def __init__(self, make, model, color):\n",
    "        self.make = make;\n",
    "        self.model = model;\n",
    "        self.color = color;\n",
    "\n",
    "my_car = Car(model=\"Accord\",make=\"Honda\",color=\"blue\")\n",
    "print(my_car.make)"
   ]
  },
  {
   "cell_type": "markdown",
   "id": "e05fcbf5-e8c3-4d57-923d-54c0214d65f1",
   "metadata": {},
   "source": [
    "### Exercise:"
   ]
  },
  {
   "cell_type": "code",
   "execution_count": null,
   "id": "3fd9a31e-5d15-46d9-a6b3-d5ee44ac4b42",
   "metadata": {},
   "outputs": [
    {
     "name": "stdout",
     "output_type": "stream",
     "text": [
      "Hi\n",
      "Mike\n"
     ]
    }
   ],
   "source": [
    "x=1\n",
    "\n",
    "if(x!=1):\n",
    "    print('Hello')\n",
    "else:\n",
    "    print('Hi')\n",
    "\n",
    "print('Mike')"
   ]
  },
  {
   "cell_type": "code",
   "execution_count": null,
   "id": "8cd37a81-5123-4944-82cc-e168a345ca58",
   "metadata": {},
   "outputs": [
    {
     "name": "stdout",
     "output_type": "stream",
     "text": [
      "11\n",
      "22\n",
      "33\n"
     ]
    }
   ],
   "source": [
    "A = ['1','2','3']\n",
    "\n",
    "for a in A:\n",
    "    print(2*a)"
   ]
  },
  {
   "cell_type": "code",
   "execution_count": null,
   "id": "c574bbca-5ba5-4349-9285-e9c6de11081b",
   "metadata": {},
   "outputs": [],
   "source": [
    "def Delta(x):\n",
    "    if x==0:\n",
    "        y=1;\n",
    "    else:\n",
    "        y=0;\n",
    "    return(y)"
   ]
  },
  {
   "cell_type": "code",
   "execution_count": null,
   "id": "f4e5fcd1-61ea-4a0a-8a8d-9cec2670292b",
   "metadata": {},
   "outputs": [
    {
     "data": {
      "text/plain": [
       "1"
      ]
     },
     "execution_count": 394,
     "metadata": {},
     "output_type": "execute_result"
    }
   ],
   "source": [
    "Delta(0)"
   ]
  },
  {
   "cell_type": "code",
   "execution_count": null,
   "id": "03e0ad78-9bff-4120-8be0-ddd65f396b2b",
   "metadata": {},
   "outputs": [],
   "source": [
    "B = [1,4,1,2,33,4,2,56]\n",
    "B.sort()"
   ]
  },
  {
   "cell_type": "code",
   "execution_count": null,
   "id": "f6f36a7a-f30e-4fbc-9223-9b92b584a2a9",
   "metadata": {},
   "outputs": [
    {
     "data": {
      "text/plain": [
       "[1, 1, 2, 2, 4, 4, 33, 56]"
      ]
     },
     "execution_count": 397,
     "metadata": {},
     "output_type": "execute_result"
    }
   ],
   "source": [
    "B"
   ]
  },
  {
   "cell_type": "markdown",
   "id": "3394fead-3c28-4aa7-b335-c6db99efabc2",
   "metadata": {},
   "source": [
    "## Module 4 - Working with Data in Python"
   ]
  },
  {
   "cell_type": "markdown",
   "id": "68454f20-7f65-476b-8fcd-b7d60b014136",
   "metadata": {},
   "source": [
    "### Reading Files with Open"
   ]
  },
  {
   "cell_type": "code",
   "execution_count": 2,
   "id": "ae8a9bee-2854-414d-b367-55f81cb6577d",
   "metadata": {},
   "outputs": [],
   "source": [
    "file = open(\"D:/Labtop Sharing/exchange_rate_data.csv\",'r')"
   ]
  },
  {
   "cell_type": "code",
   "execution_count": 3,
   "id": "300d8c04-8661-4d92-8100-99c313772913",
   "metadata": {},
   "outputs": [
    {
     "data": {
      "text/plain": [
       "'Min,Max,Price,Month,Year,day\\n,,15.702,4,2021,1\\n,,15.733,4,2021,2\\n,,15.734,4,2021,3\\n,,15.729,4,2021,4\\n,,15.619,4,2021,5\\n,,15.709,4,2021,6\\n,,15.701,4,2021,7\\n,,15.705,4,2021,8\\n,,15.706,4,2021,9\\n,,15.707,4,2021,10\\n,,15.711,4,2021,11\\n,,15.69,4,2021,12\\n,,15.686,4,2021,13\\n,,15.677,4,2021,14\\n,,15.681,4,2021,15\\n,,15.684,4,2021,16\\n,,15.69,4,2021,17\\n,,15.696,4,2021,18\\n,,15.694,4,2021,19\\n,,15.706,4,2021,20\\n,,15.679,4,2021,21\\n,,15.695,4,2021,22\\n,,15.703,4,2021,23\\n,,15.703,4,2021,24\\n,,15.711,4,2021,25\\n,,15.694,4,2021,26\\n,,15.674,4,2021,27\\n,,15.66,4,2021,28\\n,,15.659,4,2021,29\\n,,15.659,4,2021,30\\n,,15.66,5,2021,1\\n,,15.65,5,2021,2\\n,,15.659,5,2021,3\\n,,15.666,5,2021,4\\n,,15.669,5,2021,5\\n,,15.669,5,2021,6\\n,,15.671,5,2021,7\\n,,15.671,5,2021,8\\n,,15.666,5,2021,9\\n,,15.668,5,2021,10\\n,,15.684,5,2021,11\\n,,15.684,5,2021,12\\n,,15.664,5,2021,13\\n,,15.655,5,2021,14\\n,,15.655,5,2021,15\\n,,15.654,5,2021,16\\n,,15.689,5,2021,17\\n,,15.681,5,2021,18\\n,,15.682,5,2021,19\\n,,15.683,5,2021,20\\n,,15.66,5,2021,21\\n,,15.66,5,2021,22\\n,,15.662,5,2021,23\\n,,15.668,5,2021,24\\n,,15.668,5,2021,25\\n,,15.683,5,2021,26\\n,,15.683,5,2021,27\\n,,15.658,5,2021,28\\n,,15.658,5,2021,29\\n,,15.656,5,2021,30\\n,,15.693,5,2021,31\\n,,15.676,6,2021,1\\n,,15.69,6,2021,2\\n,,15.686,6,2021,3\\n,,15.69,6,2021,4\\n,,15.69,6,2021,5\\n,,15.694,6,2021,6\\n,,15.687,6,2021,7\\n,,15.65,6,2021,8\\n,,15.682,6,2021,9\\n,,15.67,6,2021,10\\n,,15.639,6,2021,11\\n,,15.639,6,2021,12\\n,,15.638,6,2021,13\\n,,15.66,6,2021,14\\n,,15.667,6,2021,15\\n,,15.651,6,2021,16\\n,,15.665,6,2021,17\\n,,15.647,6,2021,18\\n,,15.646,6,2021,19\\n,,15.636,6,2021,20\\n,,15.659,6,2021,21\\n,,15.679,6,2021,22\\n,,15.658,6,2021,23\\n,,15.671,6,2021,24\\n,,15.668,6,2021,25\\n,,15.668,6,2021,26\\n,,15.665,6,2021,27\\n,,15.67,6,2021,28\\n,,15.668,6,2021,29\\n,,15.696,6,2021,30\\n,,15.697,7,2021,1\\n,,15.67,7,2021,2\\n,,15.669,7,2021,3\\n,,15.674,7,2021,4\\n,,15.68,7,2021,5\\n,,15.69,7,2021,6\\n,,15.666,7,2021,7\\n,,15.691,7,2021,8\\n,,15.688,7,2021,9\\n,,15.689,7,2021,10\\n,,15.665,7,2021,11\\n,,15.678,7,2021,12\\n,,15.692,7,2021,13\\n,,15.696,7,2021,14\\n,,15.705,7,2021,15\\n,,15.706,7,2021,16\\n,,15.706,7,2021,17\\n,,15.704,7,2021,18\\n,,15.673,7,2021,19\\n,,15.671,7,2021,20\\n,,15.673,7,2021,21\\n,,15.671,7,2021,22\\n,,15.672,7,2021,23\\n,,15.671,7,2021,24\\n,,15.669,7,2021,25\\n,,15.695,7,2021,26\\n,,15.689,7,2021,27\\n,,15.699,7,2021,28\\n,,15.704,7,2021,29\\n,,15.71,7,2021,30\\n,,15.71,7,2021,31\\n,,15.71,8,2021,1\\n,,15.708,8,2021,2\\n,,15.698,8,2021,3\\n,,15.7,8,2021,4\\n,,15.706,8,2021,5\\n,,15.7,8,2021,6\\n,,15.706,8,2021,7\\n,,15.713,8,2021,8\\n,,15.698,8,2021,9\\n,,15.699,8,2021,10\\n,,15.697,8,2021,11\\n,,15.699,8,2021,12\\n,,15.695,8,2021,13\\n,,15.695,8,2021,14\\n,,15.7,8,2021,15\\n,,15.688,8,2021,16\\n,,15.71,8,2021,17\\n,,15.706,8,2021,18\\n,,15.697,8,2021,19\\n,,15.699,8,2021,20\\n,,15.7,8,2021,21\\n,,15.703,8,2021,22\\n,,15.7,8,2021,23\\n,,15.702,8,2021,24\\n,,15.704,8,2021,25\\n,,15.699,8,2021,26\\n,,15.699,8,2021,27\\n,,15.699,8,2021,28\\n,,15.696,8,2021,29\\n,,15.698,8,2021,30\\n,,15.699,8,2021,31\\n,,15.706,9,2021,1\\n,,15.703,9,2021,2\\n,,15.705,9,2021,3\\n,,15.704,9,2021,4\\n,,15.708,9,2021,5\\n,,15.704,9,2021,6\\n,,15.712,9,2021,7\\n,,15.724,9,2021,8\\n,,15.71,9,2021,9\\n,,15.71,9,2021,10\\n,,15.71,9,2021,11\\n,,15.716,9,2021,12\\n,,15.721,9,2021,13\\n,,15.713,9,2021,14\\n,,15.711,9,2021,15\\n,,15.717,9,2021,16\\n,,15.717,9,2021,17\\n,,15.717,9,2021,18\\n,,15.713,9,2021,19\\n,,15.722,9,2021,20\\n,,15.698,9,2021,21\\n,,15.708,9,2021,22\\n,,15.701,9,2021,23\\n,,15.695,9,2021,24\\n,,15.694,9,2021,25\\n,,15.693,9,2021,26\\n,,15.712,9,2021,27\\n,,15.712,9,2021,28\\n,,15.708,9,2021,29\\n,,15.714,9,2021,30\\n,,15.72,10,2021,1\\n,,15.72,10,2021,2\\n,,15.703,10,2021,3\\n,,15.709,10,2021,4\\n,,15.711,10,2021,5\\n,,15.699,10,2021,6\\n,,15.703,10,2021,7\\n,,15.7,10,2021,8\\n,,15.7,10,2021,9\\n,,15.697,10,2021,10\\n,,15.727,10,2021,11\\n,,15.712,10,2021,12\\n,,15.715,10,2021,13\\n,,15.721,10,2021,14\\n,,15.72,10,2021,15\\n,,15.72,10,2021,16\\n,,15.724,10,2021,17\\n,,15.74,10,2021,18\\n,,15.717,10,2021,19\\n,,15.705,10,2021,20\\n,,15.697,10,2021,21\\n,,15.705,10,2021,22\\n,,15.706,10,2021,23\\n,,15.708,10,2021,24\\n,,15.732,10,2021,25\\n,,15.714,10,2021,26\\n,,15.713,10,2021,27\\n,,15.703,10,2021,28\\n,,15.712,10,2021,29\\n,,15.712,10,2021,30\\n,,15.714,10,2021,31\\n,,15.736,11,2021,1\\n,,15.697,11,2021,2\\n,,15.726,11,2021,3\\n,,15.698,11,2021,4\\n,,15.72,11,2021,5\\n,,15.72,11,2021,6\\n,,15.702,11,2021,7\\n,,15.728,11,2021,8\\n,,15.707,11,2021,9\\n,,15.699,11,2021,10\\n,,15.72,11,2021,11\\n,,15.73,11,2021,12\\n,,15.73,11,2021,13\\n,,15.734,11,2021,14\\n,,15.747,11,2021,15\\n,,15.706,11,2021,16\\n,,15.734,11,2021,17\\n,,15.703,11,2021,18\\n,,15.706,11,2021,19\\n,,15.706,11,2021,20\\n,,15.72,11,2021,21\\n,,15.72,11,2021,22\\n,,15.728,11,2021,23\\n,,15.72,11,2021,24\\n,,15.731,11,2021,25\\n,,15.726,11,2021,26\\n,,15.725,11,2021,27\\n,,15.757,11,2021,28\\n,,15.723,11,2021,29\\n,,15.759,11,2021,30\\n,,15.712,12,2021,1\\n,,15.712,12,2021,2\\n,,15.71,12,2021,3\\n,,15.71,12,2021,4\\n,,15.725,12,2021,5\\n,,15.723,12,2021,6\\n,,15.711,12,2021,7\\n,,15.717,12,2021,8\\n,,15.711,12,2021,9\\n,,15.707,12,2021,10\\n,,15.707,12,2021,11\\n,,15.709,12,2021,12\\n,,15.71,12,2021,13\\n,,15.735,12,2021,14\\n,,15.746,12,2021,15\\n,,15.738,12,2021,16\\n,,15.741,12,2021,17\\n,,15.741,12,2021,18\\n,,15.736,12,2021,19\\n,,15.703,12,2021,20\\n,,15.713,12,2021,21\\n,,15.752,12,2021,22\\n,,15.714,12,2021,23\\n,,15.705,12,2021,24\\n,,15.706,12,2021,25\\n,,15.704,12,2021,26\\n,,15.72,12,2021,27\\n,,15.733,12,2021,28\\n,,15.704,12,2021,29\\n,,15.709,12,2021,30\\n,,15.709,12,2021,31\\n,,15.709,1,2022,1\\n,,15.707,1,2022,2\\n,,15.746,1,2022,3\\n,,15.731,1,2022,4\\n,,15.716,1,2022,5\\n,,15.716,1,2022,6\\n,,15.716,1,2022,7\\n,,15.716,1,2022,8\\n,,15.722,1,2022,9\\n,,15.73,1,2022,10\\n,,15.714,1,2022,11\\n,,15.724,1,2022,12\\n,,15.689,1,2022,13\\n,,15.692,1,2022,14\\n,,15.692,1,2022,15\\n,,15.696,1,2022,16\\n,,15.71,1,2022,17\\n,,15.736,1,2022,18\\n,,15.709,1,2022,19\\n,,15.737,1,2022,20\\n,,15.709,1,2022,21\\n,,15.709,1,2022,22\\n,,15.716,1,2022,23\\n,,15.708,1,2022,24\\n,,15.735,1,2022,25\\n,,15.74,1,2022,26\\n,,15.741,1,2022,27\\n,,15.733,1,2022,28\\n,,15.734,1,2022,29\\n,,15.736,1,2022,30\\n,,15.725,1,2022,31\\n,,15.712,2,2022,1\\n,,15.714,2,2022,2\\n,,15.737,2,2022,3\\n,,15.731,2,2022,4\\n,,15.732,2,2022,5\\n,,15.726,2,2022,6\\n,,15.709,2,2022,7\\n,,15.721,2,2022,8\\n,,15.738,2,2022,9\\n,,15.712,2,2022,10\\n,,15.712,2,2022,11\\n,,15.711,2,2022,12\\n,,15.691,2,2022,13\\n,,15.719,2,2022,14\\n,,15.724,2,2022,15\\n,,15.707,2,2022,16\\n,,15.741,2,2022,17\\n,,15.737,2,2022,18\\n,,15.737,2,2022,19\\n,,15.743,2,2022,20\\n,,15.713,2,2022,21\\n,,15.715,2,2022,22\\n,,15.724,2,2022,23\\n,,15.744,2,2022,24\\n,,15.746,2,2022,25\\n,,15.746,2,2022,26\\n,,15.745,2,2022,27\\n,,15.712,2,2022,28\\n,,15.703,3,2022,1\\n,,15.716,3,2022,2\\n,,15.73,3,2022,3\\n,,15.696,3,2022,4\\n,,15.696,3,2022,5\\n,,15.771,3,2022,6\\n,,15.737,3,2022,7\\n,,15.732,3,2022,8\\n,,15.737,3,2022,9\\n,,15.711,3,2022,10\\n,,15.683,3,2022,11\\n,,15.682,3,2022,12\\n,,15.654,3,2022,13\\n,,15.735,3,2022,14\\n,,15.715,3,2022,15\\n,,15.722,3,2022,16\\n,,15.718,3,2022,17\\n,,15.7,3,2022,18\\n,,15.7,3,2022,19\\n,,15.744,3,2022,20\\n,,18.219,3,2022,21\\n,,18.541,3,2022,22\\n,,18.371,3,2022,23\\n,,18.331,3,2022,24\\n,,18.497,3,2022,25\\n,,18.556,3,2022,26\\n,,18.561,3,2022,27\\n,,18.303,3,2022,28\\n,,18.324,3,2022,29\\n,,18.271,3,2022,30\\n,,18.278,3,2022,31\\n,,18.293,4,2022,1\\n,,18.294,4,2022,2\\n,,18.299,4,2022,3\\n,,18.243,4,2022,4\\n,,18.237,4,2022,5\\n,,18.312,4,2022,6\\n,,18.345,4,2022,7\\n,,18.342,4,2022,8\\n,,18.342,4,2022,9\\n,,18.321,4,2022,10\\n,,18.443,4,2022,11\\n,,18.501,4,2022,12\\n,,18.412,4,2022,13\\n,,18.409,4,2022,14\\n,,18.435,4,2022,15\\n,,18.435,4,2022,16\\n,,18.418,4,2022,17\\n,,18.61,4,2022,18\\n,,18.469,4,2022,19\\n,,18.476,4,2022,20\\n,,18.57,4,2022,21\\n,,18.594,4,2022,22\\n,,18.595,4,2022,23\\n,,18.572,4,2022,24\\n,,18.558,4,2022,25\\n,,18.513,4,2022,26\\n,,18.498,4,2022,27\\n,,18.498,4,2022,28\\n,,18.487,4,2022,29\\n,,18.487,4,2022,30\\n,,18.489,5,2022,1\\n,,18.476,5,2022,2\\n,,18.475,5,2022,3\\n,,18.473,5,2022,4\\n,,18.48,5,2022,5\\n,,18.489,5,2022,6\\n,,18.488,5,2022,7\\n,,18.508,5,2022,8\\n,,18.482,5,2022,9\\n,,18.482,5,2022,10\\n,,18.39,5,2022,11\\n,,18.317,5,2022,12\\n,,18.314,5,2022,13\\n,,18.315,5,2022,14\\n,,18.331,5,2022,15\\n,,18.276,5,2022,16\\n,,18.282,5,2022,17\\n,,18.255,5,2022,18\\n,,18.279,5,2022,19\\n,,18.274,5,2022,20\\n,,18.274,5,2022,21\\n,,18.253,5,2022,22\\n,,18.402,5,2022,23\\n,,18.527,5,2022,24\\n,,18.603,5,2022,25\\n,,18.608,5,2022,26\\n,,18.594,5,2022,27\\n,,18.594,5,2022,28\\n,,18.605,5,2022,29\\n,,18.608,5,2022,30\\n,,18.602,5,2022,31\\n,,18.629,6,2022,1\\n,,18.651,6,2022,2\\n,,18.63,6,2022,3\\n,,18.631,6,2022,4\\n,,18.621,6,2022,5\\n,,18.654,6,2022,6\\n,,18.682,6,2022,7\\n,,18.693,6,2022,8\\n,,18.713,6,2022,9\\n,,18.707,6,2022,10\\n,,18.709,6,2022,11\\n,,18.724,6,2022,12\\n,,18.722,6,2022,13\\n,,18.734,6,2022,14\\n,,18.762,6,2022,15\\n,,18.741,6,2022,16\\n,,18.742,6,2022,17\\n,,18.741,6,2022,18\\n,,18.76,6,2022,19\\n,,18.769,6,2022,20\\n,,18.744,6,2022,21\\n,,18.743,6,2022,22\\n,,18.773,6,2022,23\\n,,18.777,6,2022,24\\n,,18.777,6,2022,25\\n,,18.764,6,2022,26\\n,,18.77,6,2022,27\\n,,18.787,6,2022,28\\n,,18.799,6,2022,29\\n,,18.804,6,2022,30\\n,,18.807,7,2022,1\\n,,18.807,7,2022,2\\n,,18.788,7,2022,3\\n,,18.866,7,2022,4\\n,,18.857,7,2022,5\\n,,18.878,7,2022,6\\n,,18.874,7,2022,7\\n,,18.859,7,2022,8\\n,,18.861,7,2022,9\\n,,18.867,7,2022,10\\n,,18.882,7,2022,11\\n,,18.881,7,2022,12\\n,,18.876,7,2022,13\\n,,18.883,7,2022,14\\n,,18.901,7,2022,15\\n,,18.879,7,2022,16\\n,,18.886,7,2022,17\\n,,18.925,7,2022,18\\n,,18.91,7,2022,19\\n,,18.952,7,2022,20\\n,,18.916,7,2022,21\\n,,18.91,7,2022,22\\n,,18.915,7,2022,23\\n,,18.92,7,2022,24\\n,,18.956,7,2022,25\\n,,18.96,7,2022,26\\n,,18.939,7,2022,27\\n,,18.92,7,2022,28\\n,,18.905,7,2022,29\\n,,18.911,7,2022,30\\n,,18.929,7,2022,31\\n,,18.98,8,2022,1\\n,,19.045,8,2022,2\\n,,19.082,8,2022,3\\n,,19.198,8,2022,4\\n,,19.11,8,2022,5\\n,,19.11,8,2022,6\\n,,19.127,8,2022,7\\n,,19.172,8,2022,8\\n,,19.159,8,2022,9\\n,,19.128,8,2022,10\\n,,19.149,8,2022,11\\n,,19.143,8,2022,12\\n,,19.143,8,2022,13\\n,,19.15,8,2022,14\\n,,19.148,8,2022,15\\n,,19.152,8,2022,16\\n,,19.134,8,2022,17\\n,,19.154,8,2022,18\\n,,19.139,8,2022,19\\n,,19.138,8,2022,20\\n,,19.146,8,2022,21\\n,,19.172,8,2022,22\\n,,19.161,8,2022,23\\n,,19.202,8,2022,24\\n,,19.198,8,2022,25\\n,,19.19,8,2022,26\\n,,19.189,8,2022,27\\n,,19.221,8,2022,28\\n,,19.207,8,2022,29\\n,,19.235,8,2022,30\\n,,19.236,8,2022,31\\n,,19.237,9,2022,1\\n,,19.22,9,2022,2\\n,,19.228,9,2022,3\\n,,19.282,9,2022,4\\n,,19.241,9,2022,5\\n,,19.273,9,2022,6\\n,,19.273,9,2022,7\\n,,19.331,9,2022,8\\n,,19.119,9,2022,9\\n,,19.234,9,2022,10\\n,,19.274,9,2022,11\\n,,19.361,9,2022,12\\n,,19.344,9,2022,13\\n,,19.367,9,2022,14\\n,,19.428,9,2022,15\\n,,19.429,9,2022,16\\n,,19.429,9,2022,17\\n,,19.251,9,2022,18\\n,,19.419,9,2022,19\\n,,19.44,9,2022,20\\n,,19.483,9,2022,21\\n,,19.494,9,2022,22\\n,,19.496,9,2022,23\\n,,19.491,9,2022,24\\n,,19.6,9,2022,25\\n,,19.581,9,2022,26\\n,,19.496,9,2022,27\\n,,19.539,9,2022,28\\n,,19.548,9,2022,29\\n,,19.577,9,2022,30\\n,,19.538,10,2022,1\\n,,19.555,10,2022,2\\n,,19.627,10,2022,3\\n,,19.661,10,2022,4\\n,,19.65,10,2022,5\\n,,19.642,10,2022,6\\n,,19.665,10,2022,7\\n,,19.665,10,2022,8\\n,,19.776,10,2022,9\\n,,19.656,10,2022,10\\n,,19.693,10,2022,11\\n,,19.692,10,2022,12\\n,,19.651,10,2022,13\\n,,19.664,10,2022,14\\n,,19.664,10,2022,15\\n,,19.626,10,2022,16\\n,,19.688,10,2022,17\\n,,19.651,10,2022,18\\n,,19.687,10,2022,19\\n,,19.612,10,2022,20\\n,,19.618,10,2022,21\\n,,19.618,10,2022,22\\n,,19.633,10,2022,23\\n,,19.644,10,2022,24\\n,,19.721,10,2022,25\\n,,19.712,10,2022,26\\n,,20.262,10,2022,27\\n,,23.148,10,2022,28\\n,,23.15,10,2022,29\\n,,23.167,10,2022,30\\n,,24.179,10,2022,31\\n,,24.189,11,2022,1\\n,,24.073,11,2022,2\\n,,24.245,11,2022,3\\n,,24.18,11,2022,4\\n,,24.251,11,2022,5\\n,,23.922,11,2022,6\\n,,24.316,11,2022,7\\n,,24.338,11,2022,8\\n,,24.386,11,2022,9\\n,,24.382,11,2022,10\\n,,24.376,11,2022,11\\n,,24.347,11,2022,12\\n,,24.453,11,2022,13\\n,,24.463,11,2022,14\\n,,24.44,11,2022,15\\n,,24.481,11,2022,16\\n,,24.52,11,2022,17\\n,,24.478,11,2022,18\\n,,24.477,11,2022,19\\n,,24.607,11,2022,20\\n,,24.521,11,2022,21\\n,,24.508,11,2022,22\\n,,24.547,11,2022,23\\n,,24.585,11,2022,24\\n,,24.546,11,2022,25\\n,,24.546,11,2022,26\\n,,24.641,11,2022,27\\n,,24.572,11,2022,28\\n,,24.552,11,2022,29\\n,,24.554,11,2022,30\\n,,24.562,12,2022,1\\n,,24.572,12,2022,2\\n,,24.571,12,2022,3\\n,,24.559,12,2022,4\\n,,24.564,12,2022,5\\n,,24.6,12,2022,6\\n,,24.638,12,2022,7\\n,,24.602,12,2022,8\\n,,24.578,12,2022,9\\n,,24.565,12,2022,10\\n,,24.629,12,2022,11\\n,,24.647,12,2022,12\\n,,24.658,12,2022,13\\n,,24.706,12,2022,14\\n,,24.652,12,2022,15\\n,,24.654,12,2022,16\\n,,24.649,12,2022,17\\n,,24.688,12,2022,18\\n,,24.738,12,2022,19\\n,,24.697,12,2022,20\\n,,24.738,12,2022,21\\n,,24.752,12,2022,22\\n,,24.649,12,2022,23\\n,,24.649,12,2022,24\\n,,24.753,12,2022,25\\n,,24.694,12,2022,26\\n,,24.7,12,2022,27\\n,,24.737,12,2022,28\\n,,24.77,12,2022,29\\n,,24.719,12,2022,30\\n,,24.719,12,2022,31\\n,,24.751,1,2023,1\\n,,24.715,1,2023,2\\n,,24.766,1,2023,3\\n,,26.298,1,2023,4\\n,,26.305,1,2023,5\\n,,26.305,1,2023,6\\n,,26.305,1,2023,7\\n,,27.172,1,2023,8\\n,,27.586,1,2023,9\\n,,27.67,1,2023,10\\n,,27.681,1,2023,11\\n,,29.544,1,2023,12\\n,,29.5,1,2023,13\\n,,29.5,1,2023,14\\n,,29.567,1,2023,15\\n,,29.645,1,2023,16\\n,,29.589,1,2023,17\\n,,29.648,1,2023,18\\n,,29.848,1,2023,19\\n,,29.778,1,2023,20\\n,,29.778,1,2023,21\\n,,29.811,1,2023,22\\n,,29.876,1,2023,23\\n,,29.851,1,2023,24\\n,,29.892,1,2023,25\\n,,29.896,1,2023,26\\n,,29.88,1,2023,27\\n,,29.877,1,2023,28\\n,,29.879,1,2023,29\\n,,30.08,1,2023,30\\n,,30.188,1,2023,31\\n,,30.206,2,2023,1\\n,,30.287,2,2023,2\\n,,30.198,2,2023,3\\n,,30.266,2,2023,4\\n,,30.28,2,2023,5\\n,,30.191,2,2023,6\\n,,30.298,2,2023,7\\n,,30.375,2,2023,8\\n,,30.505,2,2023,9\\n,,30.427,2,2023,10\\n,,30.427,2,2023,11\\n,,30.499,2,2023,12\\n47.604,48.702,48.25,4,2024,15\\n47.449,47.584,47.541,4,2024,14\\n47.434,47.58,47.58,4,2024,13\\n47.541,47.547,47.528,4,2024,12\\n47.55,47.547,47.552,4,2024,11\\n47.553,47.546,47.542,4,2024,10\\n47.552,47.549,47.551,4,2024,9\\n47.427,47.563,47.552,4,2024,8\\n47.367,47.38,47.422,4,2024,7\\n47.326,47.38,47.38,4,2024,6\\n47.378,47.38,47.322,4,2024,5\\n47.347,47.38,47.34,4,2024,4\\n47.148,47.357,47.354,4,2024,3\\n47.152,47.519,47.17,4,2024,2\\n47.265,47.407,47.627,4,2024,1\\n47.35,47.432,47.449,3,2024,31\\n47.35,47.386,47.386,3,2024,30\\n47.403,47.408,47.388,3,2024,29\\n47.155,47.383,47.4,3,2024,28\\n47.209,47.834,47.249,3,2024,27\\n47.449,47.883,47.801,3,2024,26\\n46.583,47.396,47.396,3,2024,25\\n46.571,46.79,46.785,3,2024,24\\n46.505,46.75,46.75,3,2024,23\\n46.593,46.646,46.505,3,2024,22\\n46.648,47.076,46.651,3,2024,21\\n46.95,46.9,46.9,3,2024,20\\n47.085,47.137,47.043,3,2024,19\\n47.108,47.797,47.11,3,2024,18\\n47.78,47.815,47.851,3,2024,17\\n47.777,47.807,47.777,3,2024,16\\n47.765,47.802,47.776,3,2024,15\\n47.814,48.437,47.801,3,2024,14\\n48.389,48.835,48.452,3,2024,13\\n48.818,49.126,48.794,3,2024,12\\n49.061,49.356,49.034,3,2024,11\\n49.374,49.379,49.367,3,2024,10\\n49.35,49.408,49.35,3,2024,9\\n49.353,49.399,49.408,3,2024,8\\n49.451,49.381,49.349,3,2024,7\\n30.926,49.557,49.549,3,2024,6\\n30.901,30.896,30.907,3,2024,5\\n30.819,30.902,30.909,3,2024,4\\n30.862,30.89,30.88,3,2024,3\\n30.867,30.9,30.9,3,2024,2\\n30.896,30.901,30.867,3,2024,1\\n30.898,30.918,30.898,2,2024,29\\n30.877,30.904,30.941,2,2024,28\\n30.907,30.944,30.902,2,2024,27\\n30.825,30.935,30.944,2,2024,26\\n30.848,30.885,30.893,2,2024,25\\n30.847,30.898,30.9,2,2024,24\\n30.896,30.907,30.869,2,2024,23\\n30.903,30.892,30.902,2,2024,22\\n30.905,30.93,30.901,2,2024,21\\n30.894,30.938,30.936,2,2024,20\\n30.853,30.927,30.902,2,2024,19\\n30.892,30.898,30.882,2,2024,18\\n30.779,30.904,30.9,2,2024,17\\n30.893,30.904,30.903,2,2024,16\\n30.864,30.9,30.899,2,2024,15\\n30.872,30.915,30.901,2,2024,14\\n30.903,30.941,30.899,2,2024,13\\n30.836,30.883,30.898,2,2024,12\\n30.854,30.88,30.826,2,2024,11\\n30.894,30.91,30.9,2,2024,10\\n30.895,30.903,30.91,2,2024,9\\n30.895,30.931,30.897,2,2024,8\\n30.901,30.919,30.896,2,2024,7\\n30.9,30.9,30.899,2,2024,6\\n30.906,31.18,30.9,2,2024,5\\n30.9,31.182,31.198,2,2024,4\\n30.847,30.893,30.893,2,2024,3\\n30.889,30.885,30.85,2,2024,2\\n30.782,30.904,30.896,2,2024,1\\n30.916,30.885,30.906,1,2024,31\\n30.925,30.901,30.941,1,2024,30\\n30.896,30.96,30.9,1,2024,29\\n30.901,30.966,30.986,1,2024,28\\n30.869,30.9,30.9,1,2024,27\\n30.896,30.89,30.877,1,2024,26\\n30.904,30.897,30.893,1,2024,25\\n30.899,30.896,30.902,1,2024,24\\n30.901,30.945,30.908,1,2024,23\\n30.859,30.932,30.901,1,2024,22\\n30.876,30.875,30.89,1,2024,21\\n30.849,30.867,30.867,1,2024,20\\n30.898,30.901,30.845,1,2024,19\\n30.901,30.901,30.898,1,2024,18\\n30.906,30.895,30.898,1,2024,17\\n30.9,30.94,30.895,1,2024,16\\n30.904,30.929,30.941,1,2024,15\\n30.911,30.9,30.918,1,2024,14\\n30.859,30.9,30.9,1,2024,13\\n30.904,30.898,30.851,1,2024,12\\n30.924,30.926,30.893,1,2024,11\\n30.902,30.897,30.895,1,2024,10\\n30.898,30.904,30.897,1,2024,9\\n30.792,30.901,30.904,1,2024,8\\n30.687,30.757,30.722,1,2024,7\\n30.757,30.801,30.757,1,2024,6\\n30.799,30.8,30.757,1,2024,5\\n30.839,30.919,30.797,1,2024,4\\n30.903,30.929,30.924,1,2024,3\\n30.908,31.004,30.925,1,2024,2\\n30.938,31.015,31.036,1,2024,1\\n30.947,31.009,30.968,12,2023,31\\n30.862,30.925,30.925,12,2023,30\\n30.924,30.923,30.857,12,2023,29\\n30.918,30.899,30.924,12,2023,28\\n30.85,30.938,30.803,12,2023,27\\n30.87,30.826,30.802,12,2023,26\\n30.844,30.899,30.868,12,2023,25\\n30.848,30.933,30.883,12,2023,24\\n30.809,30.901,30.9,12,2023,23\\n30.893,30.899,30.872,12,2023,22\\n30.903,30.896,30.913,12,2023,21\\n30.902,30.926,30.901,12,2023,20\\n30.904,30.924,30.922,12,2023,19\\n30.91,31.073,30.896,12,2023,18\\n30.928,30.904,30.923,12,2023,17\\n30.883,30.923,30.883,12,2023,16\\n30.921,30.93,30.886,12,2023,15\\n30.907,30.924,30.933,12,2023,14\\n30.899,30.896,30.897,12,2023,13\\n30.891,30.914,30.924,12,2023,12\\n30.906,30.9,30.926,12,2023,11\\n30.926,30.971,30.944,12,2023,10\\n30.887,30.9,30.887,12,2023,9\\n30.892,30.905,30.887,12,2023,8\\n30.908,30.901,30.902,12,2023,7\\n30.899,30.937,30.952,12,2023,6\\n30.807,30.912,30.798,12,2023,5\\n30.905,30.933,30.919,12,2023,4\\n30.93,30.918,30.924,12,2023,3\\n30.895,30.906,30.9,12,2023,2\\n30.892,30.977,30.906,12,2023,1\\n30.898,30.955,30.898,11,2023,30\\n30.907,30.93,30.948,11,2023,29\\n30.903,30.92,30.918,11,2023,28\\n30.827,30.899,30.897,11,2023,27\\n30.805,30.885,30.828,11,2023,26\\n30.897,30.957,30.9,11,2023,25\\n30.899,30.932,30.897,11,2023,24\\n30.9,30.93,30.902,11,2023,23\\n30.9,30.894,30.906,11,2023,22\\n30.934,30.891,30.905,11,2023,21\\n30.832,30.936,30.935,11,2023,20\\n30.791,30.917,30.813,11,2023,19\\n30.913,30.925,30.925,11,2023,18\\n30.92,30.921,30.913,11,2023,17\\n30.896,30.922,30.929,11,2023,16\\n30.91,30.905,30.918,11,2023,15\\n30.899,30.898,30.907,11,2023,14\\n30.874,30.902,30.901,11,2023,13\\n30.809,30.88,30.862,11,2023,12\\n30.824,30.9,30.9,11,2023,11\\n30.891,30.899,30.815,11,2023,10\\n30.898,30.905,30.895,11,2023,9\\n30.883,30.907,30.898,11,2023,8\\n30.806,30.902,30.8,11,2023,7\\n30.731,30.915,30.909,11,2023,6\\n30.667,30.875,30.659,11,2023,5\\n30.647,30.901,30.9,11,2023,4\\n30.904,30.903,30.9,11,2023,3\\n30.901,30.941,30.899,11,2023,2\\n30.902,30.896,30.89,11,2023,1\\n30.914,30.934,30.92,10,2023,31\\n30.9,30.897,30.899,10,2023,30\\n30.855,30.882,30.882,10,2023,29\\n30.856,30.9,30.9,10,2023,28\\n30.894,30.896,30.875,10,2023,27\\n30.881,30.903,30.901,10,2023,26\\n30.899,30.936,30.899,10,2023,25\\n30.923,30.937,30.919,10,2023,24\\n30.902,30.898,30.905,10,2023,23\\n30.879,30.892,30.902,10,2023,22\\n30.864,30.9,30.9,10,2023,21\\n30.909,30.889,30.862,10,2023,20\\n30.926,30.884,30.897,10,2023,19\\n48.333,48.6,48.348,4,2024,18\\n48.494,48.786,48.49,4,2024,17\\n48.271,48.658,48.497,4,2024,16\\n47.865,47.863,47.86,4,2024,28\\n47.862,48.431,47.861,4,2024,27\\n47.902,47.865,47.861,4,2024,26\\n47.904,47.902,47.901,4,2024,25\\n47.846,48.022,47.9,4,2024,24\\n48.117,48.048,48.046,4,2024,23\\n48.163,48.432,48.16,4,2024,22\\n48.225,48.295,48.275,4,2024,21\\n48.269,48.33,48.268,4,2024,20\\n48.266,48.433,48.266,4,2024,19\\n47.852,47.877,47.858,4,2024,30\\n47.64,47.85,47.851,4,2024,29\\n47.991,47.996,47.937,7,2024,5\\n30.897,48.098,47.984,7,2024,4\\n48.157,48.141,48.132,7,2024,3\\n48.136,48.168,48.151,7,2024,2\\n47.899,48.207,48.299,7,2024,1\\n47.899,47.941,47.91,6,2024,30\\n47.977,47.977,47.977,6,2024,29\\n48.035,48.003,47.977,6,2024,28\\n48.053,48.081,48.03,6,2024,27\\n48.049,48.658,48.045,6,2024,26\\n48.257,48.363,48.386,6,2024,25\\n47.717,48.431,48.322,6,2024,24\\n47.717,47.708,47.706,6,2024,23\\n47.66,47.708,47.708,6,2024,22\\n47.706,47.686,47.69,6,2024,21\\n47.712,47.713,47.711,6,2024,20\\n47.719,47.701,47.711,6,2024,19\\n47.712,47.704,47.7,6,2024,18\\n47.704,47.709,47.713,6,2024,17\\n47.635,47.749,47.713,6,2024,16\\n47.586,47.699,47.71,6,2024,15\\n47.682,47.704,47.655,6,2024,14\\n47.682,47.756,47.709,6,2024,13\\n47.558,47.711,47.698,6,2024,12\\n47.573,47.689,47.563,6,2024,11\\n47.634,47.742,47.7,6,2024,10\\n47.532,47.754,47.718,6,2024,9\\n47.435,47.53,47.53,6,2024,8\\n47.518,47.522,47.53,6,2024,7\\n47.465,47.593,47.51,6,2024,6\\n47.456,47.652,47.588,6,2024,5\\n47.259,47.374,47.451,6,2024,4\\n47.178,47.102,47.102,6,2024,3\\n47.213,47.24,47.189,6,2024,2\\n47.033,47.27,47.27,6,2024,1\\n47.243,47.272,47.218,5,2024,31\\n47.216,47.338,47.241,5,2024,30\\n47.303,47.558,47.351,5,2024,29\\n47.22,47.542,47.581,5,2024,28\\n46.917,47.187,47.167,5,2024,27\\n47.127,47.156,47.139,5,2024,26\\n46.846,47.144,47.125,5,2024,25\\n47.143,47.148,47.121,5,2024,24\\n46.891,47.244,47.151,5,2024,23\\n46.63,46.752,46.782,5,2024,22\\n46.656,46.689,46.729,5,2024,21\\n46.619,46.861,46.637,5,2024,20\\n46.819,46.918,46.925,5,2024,19\\n46.679,46.91,46.91,5,2024,18\\n46.906,46.913,46.852,5,2024,17\\n46.886,47.425,46.908,5,2024,16\\n46.843,46.832,46.832,5,2024,15\\n46.925,46.976,46.846,5,2024,14\\n47.065,47.241,47.065,5,2024,13\\n47.32,47.387,47.393,5,2024,12\\n47.135,47.322,47.322,5,2024,11\\n47.393,47.4,47.322,5,2024,10\\n47.324,47.508,47.398,5,2024,9\\n47.559,47.711,47.557,5,2024,8\\n47.72,47.947,47.726,5,2024,7\\n47.95,47.944,47.946,5,2024,6\\n47.894,47.931,47.942,5,2024,5\\n47.894,48.087,47.894,5,2024,4\\n47.949,47.952,47.896,5,2024,3\\n47.847,47.978,47.938,5,2024,2\\n47.886,47.729,47.671,5,2024,1\\n'"
      ]
     },
     "execution_count": 3,
     "metadata": {},
     "output_type": "execute_result"
    }
   ],
   "source": [
    "file.read()"
   ]
  },
  {
   "cell_type": "code",
   "execution_count": 5,
   "id": "722f37c7",
   "metadata": {},
   "outputs": [
    {
     "data": {
      "text/plain": [
       "_io.TextIOWrapper"
      ]
     },
     "execution_count": 5,
     "metadata": {},
     "output_type": "execute_result"
    }
   ],
   "source": [
    "type(file)"
   ]
  },
  {
   "cell_type": "markdown",
   "id": "875f85c3",
   "metadata": {},
   "source": [
    "## Module 4 - Working with Data in Python"
   ]
  },
  {
   "cell_type": "markdown",
   "id": "67f67185",
   "metadata": {},
   "source": [
    "###  Learning Objectives\n",
    "In this lesson you will learn about:\n",
    "* Reading files with open\n",
    "* Writing files with open\n",
    "* Loading data with Pandas\n",
    "* Working with and Saving data with Pandas"
   ]
  },
  {
   "cell_type": "markdown",
   "id": "65315f6c",
   "metadata": {},
   "source": [
    "### Reading Files with Open"
   ]
  },
  {
   "cell_type": "code",
   "execution_count": 59,
   "id": "e4c524bd",
   "metadata": {},
   "outputs": [],
   "source": [
    "file = open(\"C:/Users/MohamedAhmed/Downloads/3F448400.xlsx\",\"r\")"
   ]
  },
  {
   "cell_type": "code",
   "execution_count": 60,
   "id": "9d401e36",
   "metadata": {},
   "outputs": [
    {
     "name": "stdout",
     "output_type": "stream",
     "text": [
      "['Min,Max,Price,Month,Year,day\\n', ',,15.702,4,2021,1\\n', ',,15.733,4,2021,2\\n', ',,15.734,4,2021,3\\n', ',,15.729,4,2021,4\\n', ',,15.619,4,2021,5\\n', ',,15.709,4,2021,6\\n', ',,15.701,4,2021,7\\n', ',,15.705,4,2021,8\\n', ',,15.706,4,2021,9\\n', ',,15.707,4,2021,10\\n', ',,15.711,4,2021,11\\n', ',,15.69,4,2021,12\\n', ',,15.686,4,2021,13\\n', ',,15.677,4,2021,14\\n', ',,15.681,4,2021,15\\n', ',,15.684,4,2021,16\\n', ',,15.69,4,2021,17\\n', ',,15.696,4,2021,18\\n', ',,15.694,4,2021,19\\n', ',,15.706,4,2021,20\\n', ',,15.679,4,2021,21\\n', ',,15.695,4,2021,22\\n', ',,15.703,4,2021,23\\n', ',,15.703,4,2021,24\\n', ',,15.711,4,2021,25\\n', ',,15.694,4,2021,26\\n', ',,15.674,4,2021,27\\n', ',,15.66,4,2021,28\\n', ',,15.659,4,2021,29\\n', ',,15.659,4,2021,30\\n', ',,15.66,5,2021,1\\n', ',,15.65,5,2021,2\\n', ',,15.659,5,2021,3\\n', ',,15.666,5,2021,4\\n', ',,15.669,5,2021,5\\n', ',,15.669,5,2021,6\\n', ',,15.671,5,2021,7\\n', ',,15.671,5,2021,8\\n', ',,15.666,5,2021,9\\n', ',,15.668,5,2021,10\\n', ',,15.684,5,2021,11\\n', ',,15.684,5,2021,12\\n', ',,15.664,5,2021,13\\n', ',,15.655,5,2021,14\\n', ',,15.655,5,2021,15\\n', ',,15.654,5,2021,16\\n', ',,15.689,5,2021,17\\n', ',,15.681,5,2021,18\\n', ',,15.682,5,2021,19\\n', ',,15.683,5,2021,20\\n', ',,15.66,5,2021,21\\n', ',,15.66,5,2021,22\\n', ',,15.662,5,2021,23\\n', ',,15.668,5,2021,24\\n', ',,15.668,5,2021,25\\n', ',,15.683,5,2021,26\\n', ',,15.683,5,2021,27\\n', ',,15.658,5,2021,28\\n', ',,15.658,5,2021,29\\n', ',,15.656,5,2021,30\\n', ',,15.693,5,2021,31\\n', ',,15.676,6,2021,1\\n', ',,15.69,6,2021,2\\n', ',,15.686,6,2021,3\\n', ',,15.69,6,2021,4\\n', ',,15.69,6,2021,5\\n', ',,15.694,6,2021,6\\n', ',,15.687,6,2021,7\\n', ',,15.65,6,2021,8\\n', ',,15.682,6,2021,9\\n', ',,15.67,6,2021,10\\n', ',,15.639,6,2021,11\\n', ',,15.639,6,2021,12\\n', ',,15.638,6,2021,13\\n', ',,15.66,6,2021,14\\n', ',,15.667,6,2021,15\\n', ',,15.651,6,2021,16\\n', ',,15.665,6,2021,17\\n', ',,15.647,6,2021,18\\n', ',,15.646,6,2021,19\\n', ',,15.636,6,2021,20\\n', ',,15.659,6,2021,21\\n', ',,15.679,6,2021,22\\n', ',,15.658,6,2021,23\\n', ',,15.671,6,2021,24\\n', ',,15.668,6,2021,25\\n', ',,15.668,6,2021,26\\n', ',,15.665,6,2021,27\\n', ',,15.67,6,2021,28\\n', ',,15.668,6,2021,29\\n', ',,15.696,6,2021,30\\n', ',,15.697,7,2021,1\\n', ',,15.67,7,2021,2\\n', ',,15.669,7,2021,3\\n', ',,15.674,7,2021,4\\n', ',,15.68,7,2021,5\\n', ',,15.69,7,2021,6\\n', ',,15.666,7,2021,7\\n', ',,15.691,7,2021,8\\n', ',,15.688,7,2021,9\\n', ',,15.689,7,2021,10\\n', ',,15.665,7,2021,11\\n', ',,15.678,7,2021,12\\n', ',,15.692,7,2021,13\\n', ',,15.696,7,2021,14\\n', ',,15.705,7,2021,15\\n', ',,15.706,7,2021,16\\n', ',,15.706,7,2021,17\\n', ',,15.704,7,2021,18\\n', ',,15.673,7,2021,19\\n', ',,15.671,7,2021,20\\n', ',,15.673,7,2021,21\\n', ',,15.671,7,2021,22\\n', ',,15.672,7,2021,23\\n', ',,15.671,7,2021,24\\n', ',,15.669,7,2021,25\\n', ',,15.695,7,2021,26\\n', ',,15.689,7,2021,27\\n', ',,15.699,7,2021,28\\n', ',,15.704,7,2021,29\\n', ',,15.71,7,2021,30\\n', ',,15.71,7,2021,31\\n', ',,15.71,8,2021,1\\n', ',,15.708,8,2021,2\\n', ',,15.698,8,2021,3\\n', ',,15.7,8,2021,4\\n', ',,15.706,8,2021,5\\n', ',,15.7,8,2021,6\\n', ',,15.706,8,2021,7\\n', ',,15.713,8,2021,8\\n', ',,15.698,8,2021,9\\n', ',,15.699,8,2021,10\\n', ',,15.697,8,2021,11\\n', ',,15.699,8,2021,12\\n', ',,15.695,8,2021,13\\n', ',,15.695,8,2021,14\\n', ',,15.7,8,2021,15\\n', ',,15.688,8,2021,16\\n', ',,15.71,8,2021,17\\n', ',,15.706,8,2021,18\\n', ',,15.697,8,2021,19\\n', ',,15.699,8,2021,20\\n', ',,15.7,8,2021,21\\n', ',,15.703,8,2021,22\\n', ',,15.7,8,2021,23\\n', ',,15.702,8,2021,24\\n', ',,15.704,8,2021,25\\n', ',,15.699,8,2021,26\\n', ',,15.699,8,2021,27\\n', ',,15.699,8,2021,28\\n', ',,15.696,8,2021,29\\n', ',,15.698,8,2021,30\\n', ',,15.699,8,2021,31\\n', ',,15.706,9,2021,1\\n', ',,15.703,9,2021,2\\n', ',,15.705,9,2021,3\\n', ',,15.704,9,2021,4\\n', ',,15.708,9,2021,5\\n', ',,15.704,9,2021,6\\n', ',,15.712,9,2021,7\\n', ',,15.724,9,2021,8\\n', ',,15.71,9,2021,9\\n', ',,15.71,9,2021,10\\n', ',,15.71,9,2021,11\\n', ',,15.716,9,2021,12\\n', ',,15.721,9,2021,13\\n', ',,15.713,9,2021,14\\n', ',,15.711,9,2021,15\\n', ',,15.717,9,2021,16\\n', ',,15.717,9,2021,17\\n', ',,15.717,9,2021,18\\n', ',,15.713,9,2021,19\\n', ',,15.722,9,2021,20\\n', ',,15.698,9,2021,21\\n', ',,15.708,9,2021,22\\n', ',,15.701,9,2021,23\\n', ',,15.695,9,2021,24\\n', ',,15.694,9,2021,25\\n', ',,15.693,9,2021,26\\n', ',,15.712,9,2021,27\\n', ',,15.712,9,2021,28\\n', ',,15.708,9,2021,29\\n', ',,15.714,9,2021,30\\n', ',,15.72,10,2021,1\\n', ',,15.72,10,2021,2\\n', ',,15.703,10,2021,3\\n', ',,15.709,10,2021,4\\n', ',,15.711,10,2021,5\\n', ',,15.699,10,2021,6\\n', ',,15.703,10,2021,7\\n', ',,15.7,10,2021,8\\n', ',,15.7,10,2021,9\\n', ',,15.697,10,2021,10\\n', ',,15.727,10,2021,11\\n', ',,15.712,10,2021,12\\n', ',,15.715,10,2021,13\\n', ',,15.721,10,2021,14\\n', ',,15.72,10,2021,15\\n', ',,15.72,10,2021,16\\n', ',,15.724,10,2021,17\\n', ',,15.74,10,2021,18\\n', ',,15.717,10,2021,19\\n', ',,15.705,10,2021,20\\n', ',,15.697,10,2021,21\\n', ',,15.705,10,2021,22\\n', ',,15.706,10,2021,23\\n', ',,15.708,10,2021,24\\n', ',,15.732,10,2021,25\\n', ',,15.714,10,2021,26\\n', ',,15.713,10,2021,27\\n', ',,15.703,10,2021,28\\n', ',,15.712,10,2021,29\\n', ',,15.712,10,2021,30\\n', ',,15.714,10,2021,31\\n', ',,15.736,11,2021,1\\n', ',,15.697,11,2021,2\\n', ',,15.726,11,2021,3\\n', ',,15.698,11,2021,4\\n', ',,15.72,11,2021,5\\n', ',,15.72,11,2021,6\\n', ',,15.702,11,2021,7\\n', ',,15.728,11,2021,8\\n', ',,15.707,11,2021,9\\n', ',,15.699,11,2021,10\\n', ',,15.72,11,2021,11\\n', ',,15.73,11,2021,12\\n', ',,15.73,11,2021,13\\n', ',,15.734,11,2021,14\\n', ',,15.747,11,2021,15\\n', ',,15.706,11,2021,16\\n', ',,15.734,11,2021,17\\n', ',,15.703,11,2021,18\\n', ',,15.706,11,2021,19\\n', ',,15.706,11,2021,20\\n', ',,15.72,11,2021,21\\n', ',,15.72,11,2021,22\\n', ',,15.728,11,2021,23\\n', ',,15.72,11,2021,24\\n', ',,15.731,11,2021,25\\n', ',,15.726,11,2021,26\\n', ',,15.725,11,2021,27\\n', ',,15.757,11,2021,28\\n', ',,15.723,11,2021,29\\n', ',,15.759,11,2021,30\\n', ',,15.712,12,2021,1\\n', ',,15.712,12,2021,2\\n', ',,15.71,12,2021,3\\n', ',,15.71,12,2021,4\\n', ',,15.725,12,2021,5\\n', ',,15.723,12,2021,6\\n', ',,15.711,12,2021,7\\n', ',,15.717,12,2021,8\\n', ',,15.711,12,2021,9\\n', ',,15.707,12,2021,10\\n', ',,15.707,12,2021,11\\n', ',,15.709,12,2021,12\\n', ',,15.71,12,2021,13\\n', ',,15.735,12,2021,14\\n', ',,15.746,12,2021,15\\n', ',,15.738,12,2021,16\\n', ',,15.741,12,2021,17\\n', ',,15.741,12,2021,18\\n', ',,15.736,12,2021,19\\n', ',,15.703,12,2021,20\\n', ',,15.713,12,2021,21\\n', ',,15.752,12,2021,22\\n', ',,15.714,12,2021,23\\n', ',,15.705,12,2021,24\\n', ',,15.706,12,2021,25\\n', ',,15.704,12,2021,26\\n', ',,15.72,12,2021,27\\n', ',,15.733,12,2021,28\\n', ',,15.704,12,2021,29\\n', ',,15.709,12,2021,30\\n', ',,15.709,12,2021,31\\n', ',,15.709,1,2022,1\\n', ',,15.707,1,2022,2\\n', ',,15.746,1,2022,3\\n', ',,15.731,1,2022,4\\n', ',,15.716,1,2022,5\\n', ',,15.716,1,2022,6\\n', ',,15.716,1,2022,7\\n', ',,15.716,1,2022,8\\n', ',,15.722,1,2022,9\\n', ',,15.73,1,2022,10\\n', ',,15.714,1,2022,11\\n', ',,15.724,1,2022,12\\n', ',,15.689,1,2022,13\\n', ',,15.692,1,2022,14\\n', ',,15.692,1,2022,15\\n', ',,15.696,1,2022,16\\n', ',,15.71,1,2022,17\\n', ',,15.736,1,2022,18\\n', ',,15.709,1,2022,19\\n', ',,15.737,1,2022,20\\n', ',,15.709,1,2022,21\\n', ',,15.709,1,2022,22\\n', ',,15.716,1,2022,23\\n', ',,15.708,1,2022,24\\n', ',,15.735,1,2022,25\\n', ',,15.74,1,2022,26\\n', ',,15.741,1,2022,27\\n', ',,15.733,1,2022,28\\n', ',,15.734,1,2022,29\\n', ',,15.736,1,2022,30\\n', ',,15.725,1,2022,31\\n', ',,15.712,2,2022,1\\n', ',,15.714,2,2022,2\\n', ',,15.737,2,2022,3\\n', ',,15.731,2,2022,4\\n', ',,15.732,2,2022,5\\n', ',,15.726,2,2022,6\\n', ',,15.709,2,2022,7\\n', ',,15.721,2,2022,8\\n', ',,15.738,2,2022,9\\n', ',,15.712,2,2022,10\\n', ',,15.712,2,2022,11\\n', ',,15.711,2,2022,12\\n', ',,15.691,2,2022,13\\n', ',,15.719,2,2022,14\\n', ',,15.724,2,2022,15\\n', ',,15.707,2,2022,16\\n', ',,15.741,2,2022,17\\n', ',,15.737,2,2022,18\\n', ',,15.737,2,2022,19\\n', ',,15.743,2,2022,20\\n', ',,15.713,2,2022,21\\n', ',,15.715,2,2022,22\\n', ',,15.724,2,2022,23\\n', ',,15.744,2,2022,24\\n', ',,15.746,2,2022,25\\n', ',,15.746,2,2022,26\\n', ',,15.745,2,2022,27\\n', ',,15.712,2,2022,28\\n', ',,15.703,3,2022,1\\n', ',,15.716,3,2022,2\\n', ',,15.73,3,2022,3\\n', ',,15.696,3,2022,4\\n', ',,15.696,3,2022,5\\n', ',,15.771,3,2022,6\\n', ',,15.737,3,2022,7\\n', ',,15.732,3,2022,8\\n', ',,15.737,3,2022,9\\n', ',,15.711,3,2022,10\\n', ',,15.683,3,2022,11\\n', ',,15.682,3,2022,12\\n', ',,15.654,3,2022,13\\n', ',,15.735,3,2022,14\\n', ',,15.715,3,2022,15\\n', ',,15.722,3,2022,16\\n', ',,15.718,3,2022,17\\n', ',,15.7,3,2022,18\\n', ',,15.7,3,2022,19\\n', ',,15.744,3,2022,20\\n', ',,18.219,3,2022,21\\n', ',,18.541,3,2022,22\\n', ',,18.371,3,2022,23\\n', ',,18.331,3,2022,24\\n', ',,18.497,3,2022,25\\n', ',,18.556,3,2022,26\\n', ',,18.561,3,2022,27\\n', ',,18.303,3,2022,28\\n', ',,18.324,3,2022,29\\n', ',,18.271,3,2022,30\\n', ',,18.278,3,2022,31\\n', ',,18.293,4,2022,1\\n', ',,18.294,4,2022,2\\n', ',,18.299,4,2022,3\\n', ',,18.243,4,2022,4\\n', ',,18.237,4,2022,5\\n', ',,18.312,4,2022,6\\n', ',,18.345,4,2022,7\\n', ',,18.342,4,2022,8\\n', ',,18.342,4,2022,9\\n', ',,18.321,4,2022,10\\n', ',,18.443,4,2022,11\\n', ',,18.501,4,2022,12\\n', ',,18.412,4,2022,13\\n', ',,18.409,4,2022,14\\n', ',,18.435,4,2022,15\\n', ',,18.435,4,2022,16\\n', ',,18.418,4,2022,17\\n', ',,18.61,4,2022,18\\n', ',,18.469,4,2022,19\\n', ',,18.476,4,2022,20\\n', ',,18.57,4,2022,21\\n', ',,18.594,4,2022,22\\n', ',,18.595,4,2022,23\\n', ',,18.572,4,2022,24\\n', ',,18.558,4,2022,25\\n', ',,18.513,4,2022,26\\n', ',,18.498,4,2022,27\\n', ',,18.498,4,2022,28\\n', ',,18.487,4,2022,29\\n', ',,18.487,4,2022,30\\n', ',,18.489,5,2022,1\\n', ',,18.476,5,2022,2\\n', ',,18.475,5,2022,3\\n', ',,18.473,5,2022,4\\n', ',,18.48,5,2022,5\\n', ',,18.489,5,2022,6\\n', ',,18.488,5,2022,7\\n', ',,18.508,5,2022,8\\n', ',,18.482,5,2022,9\\n', ',,18.482,5,2022,10\\n', ',,18.39,5,2022,11\\n', ',,18.317,5,2022,12\\n', ',,18.314,5,2022,13\\n', ',,18.315,5,2022,14\\n', ',,18.331,5,2022,15\\n', ',,18.276,5,2022,16\\n', ',,18.282,5,2022,17\\n', ',,18.255,5,2022,18\\n', ',,18.279,5,2022,19\\n', ',,18.274,5,2022,20\\n', ',,18.274,5,2022,21\\n', ',,18.253,5,2022,22\\n', ',,18.402,5,2022,23\\n', ',,18.527,5,2022,24\\n', ',,18.603,5,2022,25\\n', ',,18.608,5,2022,26\\n', ',,18.594,5,2022,27\\n', ',,18.594,5,2022,28\\n', ',,18.605,5,2022,29\\n', ',,18.608,5,2022,30\\n', ',,18.602,5,2022,31\\n', ',,18.629,6,2022,1\\n', ',,18.651,6,2022,2\\n', ',,18.63,6,2022,3\\n', ',,18.631,6,2022,4\\n', ',,18.621,6,2022,5\\n', ',,18.654,6,2022,6\\n', ',,18.682,6,2022,7\\n', ',,18.693,6,2022,8\\n', ',,18.713,6,2022,9\\n', ',,18.707,6,2022,10\\n', ',,18.709,6,2022,11\\n', ',,18.724,6,2022,12\\n', ',,18.722,6,2022,13\\n', ',,18.734,6,2022,14\\n', ',,18.762,6,2022,15\\n', ',,18.741,6,2022,16\\n', ',,18.742,6,2022,17\\n', ',,18.741,6,2022,18\\n', ',,18.76,6,2022,19\\n', ',,18.769,6,2022,20\\n', ',,18.744,6,2022,21\\n', ',,18.743,6,2022,22\\n', ',,18.773,6,2022,23\\n', ',,18.777,6,2022,24\\n', ',,18.777,6,2022,25\\n', ',,18.764,6,2022,26\\n', ',,18.77,6,2022,27\\n', ',,18.787,6,2022,28\\n', ',,18.799,6,2022,29\\n', ',,18.804,6,2022,30\\n', ',,18.807,7,2022,1\\n', ',,18.807,7,2022,2\\n', ',,18.788,7,2022,3\\n', ',,18.866,7,2022,4\\n', ',,18.857,7,2022,5\\n', ',,18.878,7,2022,6\\n', ',,18.874,7,2022,7\\n', ',,18.859,7,2022,8\\n', ',,18.861,7,2022,9\\n', ',,18.867,7,2022,10\\n', ',,18.882,7,2022,11\\n', ',,18.881,7,2022,12\\n', ',,18.876,7,2022,13\\n', ',,18.883,7,2022,14\\n', ',,18.901,7,2022,15\\n', ',,18.879,7,2022,16\\n', ',,18.886,7,2022,17\\n', ',,18.925,7,2022,18\\n', ',,18.91,7,2022,19\\n', ',,18.952,7,2022,20\\n', ',,18.916,7,2022,21\\n', ',,18.91,7,2022,22\\n', ',,18.915,7,2022,23\\n', ',,18.92,7,2022,24\\n', ',,18.956,7,2022,25\\n', ',,18.96,7,2022,26\\n', ',,18.939,7,2022,27\\n', ',,18.92,7,2022,28\\n', ',,18.905,7,2022,29\\n', ',,18.911,7,2022,30\\n', ',,18.929,7,2022,31\\n', ',,18.98,8,2022,1\\n', ',,19.045,8,2022,2\\n', ',,19.082,8,2022,3\\n', ',,19.198,8,2022,4\\n', ',,19.11,8,2022,5\\n', ',,19.11,8,2022,6\\n', ',,19.127,8,2022,7\\n', ',,19.172,8,2022,8\\n', ',,19.159,8,2022,9\\n', ',,19.128,8,2022,10\\n', ',,19.149,8,2022,11\\n', ',,19.143,8,2022,12\\n', ',,19.143,8,2022,13\\n', ',,19.15,8,2022,14\\n', ',,19.148,8,2022,15\\n', ',,19.152,8,2022,16\\n', ',,19.134,8,2022,17\\n', ',,19.154,8,2022,18\\n', ',,19.139,8,2022,19\\n', ',,19.138,8,2022,20\\n', ',,19.146,8,2022,21\\n', ',,19.172,8,2022,22\\n', ',,19.161,8,2022,23\\n', ',,19.202,8,2022,24\\n', ',,19.198,8,2022,25\\n', ',,19.19,8,2022,26\\n', ',,19.189,8,2022,27\\n', ',,19.221,8,2022,28\\n', ',,19.207,8,2022,29\\n', ',,19.235,8,2022,30\\n', ',,19.236,8,2022,31\\n', ',,19.237,9,2022,1\\n', ',,19.22,9,2022,2\\n', ',,19.228,9,2022,3\\n', ',,19.282,9,2022,4\\n', ',,19.241,9,2022,5\\n', ',,19.273,9,2022,6\\n', ',,19.273,9,2022,7\\n', ',,19.331,9,2022,8\\n', ',,19.119,9,2022,9\\n', ',,19.234,9,2022,10\\n', ',,19.274,9,2022,11\\n', ',,19.361,9,2022,12\\n', ',,19.344,9,2022,13\\n', ',,19.367,9,2022,14\\n', ',,19.428,9,2022,15\\n', ',,19.429,9,2022,16\\n', ',,19.429,9,2022,17\\n', ',,19.251,9,2022,18\\n', ',,19.419,9,2022,19\\n', ',,19.44,9,2022,20\\n', ',,19.483,9,2022,21\\n', ',,19.494,9,2022,22\\n', ',,19.496,9,2022,23\\n', ',,19.491,9,2022,24\\n', ',,19.6,9,2022,25\\n', ',,19.581,9,2022,26\\n', ',,19.496,9,2022,27\\n', ',,19.539,9,2022,28\\n', ',,19.548,9,2022,29\\n', ',,19.577,9,2022,30\\n', ',,19.538,10,2022,1\\n', ',,19.555,10,2022,2\\n', ',,19.627,10,2022,3\\n', ',,19.661,10,2022,4\\n', ',,19.65,10,2022,5\\n', ',,19.642,10,2022,6\\n', ',,19.665,10,2022,7\\n', ',,19.665,10,2022,8\\n', ',,19.776,10,2022,9\\n', ',,19.656,10,2022,10\\n', ',,19.693,10,2022,11\\n', ',,19.692,10,2022,12\\n', ',,19.651,10,2022,13\\n', ',,19.664,10,2022,14\\n', ',,19.664,10,2022,15\\n', ',,19.626,10,2022,16\\n', ',,19.688,10,2022,17\\n', ',,19.651,10,2022,18\\n', ',,19.687,10,2022,19\\n', ',,19.612,10,2022,20\\n', ',,19.618,10,2022,21\\n', ',,19.618,10,2022,22\\n', ',,19.633,10,2022,23\\n', ',,19.644,10,2022,24\\n', ',,19.721,10,2022,25\\n', ',,19.712,10,2022,26\\n', ',,20.262,10,2022,27\\n', ',,23.148,10,2022,28\\n', ',,23.15,10,2022,29\\n', ',,23.167,10,2022,30\\n', ',,24.179,10,2022,31\\n', ',,24.189,11,2022,1\\n', ',,24.073,11,2022,2\\n', ',,24.245,11,2022,3\\n', ',,24.18,11,2022,4\\n', ',,24.251,11,2022,5\\n', ',,23.922,11,2022,6\\n', ',,24.316,11,2022,7\\n', ',,24.338,11,2022,8\\n', ',,24.386,11,2022,9\\n', ',,24.382,11,2022,10\\n', ',,24.376,11,2022,11\\n', ',,24.347,11,2022,12\\n', ',,24.453,11,2022,13\\n', ',,24.463,11,2022,14\\n', ',,24.44,11,2022,15\\n', ',,24.481,11,2022,16\\n', ',,24.52,11,2022,17\\n', ',,24.478,11,2022,18\\n', ',,24.477,11,2022,19\\n', ',,24.607,11,2022,20\\n', ',,24.521,11,2022,21\\n', ',,24.508,11,2022,22\\n', ',,24.547,11,2022,23\\n', ',,24.585,11,2022,24\\n', ',,24.546,11,2022,25\\n', ',,24.546,11,2022,26\\n', ',,24.641,11,2022,27\\n', ',,24.572,11,2022,28\\n', ',,24.552,11,2022,29\\n', ',,24.554,11,2022,30\\n', ',,24.562,12,2022,1\\n', ',,24.572,12,2022,2\\n', ',,24.571,12,2022,3\\n', ',,24.559,12,2022,4\\n', ',,24.564,12,2022,5\\n', ',,24.6,12,2022,6\\n', ',,24.638,12,2022,7\\n', ',,24.602,12,2022,8\\n', ',,24.578,12,2022,9\\n', ',,24.565,12,2022,10\\n', ',,24.629,12,2022,11\\n', ',,24.647,12,2022,12\\n', ',,24.658,12,2022,13\\n', ',,24.706,12,2022,14\\n', ',,24.652,12,2022,15\\n', ',,24.654,12,2022,16\\n', ',,24.649,12,2022,17\\n', ',,24.688,12,2022,18\\n', ',,24.738,12,2022,19\\n', ',,24.697,12,2022,20\\n', ',,24.738,12,2022,21\\n', ',,24.752,12,2022,22\\n', ',,24.649,12,2022,23\\n', ',,24.649,12,2022,24\\n', ',,24.753,12,2022,25\\n', ',,24.694,12,2022,26\\n', ',,24.7,12,2022,27\\n', ',,24.737,12,2022,28\\n', ',,24.77,12,2022,29\\n', ',,24.719,12,2022,30\\n', ',,24.719,12,2022,31\\n', ',,24.751,1,2023,1\\n', ',,24.715,1,2023,2\\n', ',,24.766,1,2023,3\\n', ',,26.298,1,2023,4\\n', ',,26.305,1,2023,5\\n', ',,26.305,1,2023,6\\n', ',,26.305,1,2023,7\\n', ',,27.172,1,2023,8\\n', ',,27.586,1,2023,9\\n', ',,27.67,1,2023,10\\n', ',,27.681,1,2023,11\\n', ',,29.544,1,2023,12\\n', ',,29.5,1,2023,13\\n', ',,29.5,1,2023,14\\n', ',,29.567,1,2023,15\\n', ',,29.645,1,2023,16\\n', ',,29.589,1,2023,17\\n', ',,29.648,1,2023,18\\n', ',,29.848,1,2023,19\\n', ',,29.778,1,2023,20\\n', ',,29.778,1,2023,21\\n', ',,29.811,1,2023,22\\n', ',,29.876,1,2023,23\\n', ',,29.851,1,2023,24\\n', ',,29.892,1,2023,25\\n', ',,29.896,1,2023,26\\n', ',,29.88,1,2023,27\\n', ',,29.877,1,2023,28\\n', ',,29.879,1,2023,29\\n', ',,30.08,1,2023,30\\n', ',,30.188,1,2023,31\\n', ',,30.206,2,2023,1\\n', ',,30.287,2,2023,2\\n', ',,30.198,2,2023,3\\n', ',,30.266,2,2023,4\\n', ',,30.28,2,2023,5\\n', ',,30.191,2,2023,6\\n', ',,30.298,2,2023,7\\n', ',,30.375,2,2023,8\\n', ',,30.505,2,2023,9\\n', ',,30.427,2,2023,10\\n', ',,30.427,2,2023,11\\n', ',,30.499,2,2023,12\\n', '47.604,48.702,48.25,4,2024,15\\n', '47.449,47.584,47.541,4,2024,14\\n', '47.434,47.58,47.58,4,2024,13\\n', '47.541,47.547,47.528,4,2024,12\\n', '47.55,47.547,47.552,4,2024,11\\n', '47.553,47.546,47.542,4,2024,10\\n', '47.552,47.549,47.551,4,2024,9\\n', '47.427,47.563,47.552,4,2024,8\\n', '47.367,47.38,47.422,4,2024,7\\n', '47.326,47.38,47.38,4,2024,6\\n', '47.378,47.38,47.322,4,2024,5\\n', '47.347,47.38,47.34,4,2024,4\\n', '47.148,47.357,47.354,4,2024,3\\n', '47.152,47.519,47.17,4,2024,2\\n', '47.265,47.407,47.627,4,2024,1\\n', '47.35,47.432,47.449,3,2024,31\\n', '47.35,47.386,47.386,3,2024,30\\n', '47.403,47.408,47.388,3,2024,29\\n', '47.155,47.383,47.4,3,2024,28\\n', '47.209,47.834,47.249,3,2024,27\\n', '47.449,47.883,47.801,3,2024,26\\n', '46.583,47.396,47.396,3,2024,25\\n', '46.571,46.79,46.785,3,2024,24\\n', '46.505,46.75,46.75,3,2024,23\\n', '46.593,46.646,46.505,3,2024,22\\n', '46.648,47.076,46.651,3,2024,21\\n', '46.95,46.9,46.9,3,2024,20\\n', '47.085,47.137,47.043,3,2024,19\\n', '47.108,47.797,47.11,3,2024,18\\n', '47.78,47.815,47.851,3,2024,17\\n', '47.777,47.807,47.777,3,2024,16\\n', '47.765,47.802,47.776,3,2024,15\\n', '47.814,48.437,47.801,3,2024,14\\n', '48.389,48.835,48.452,3,2024,13\\n', '48.818,49.126,48.794,3,2024,12\\n', '49.061,49.356,49.034,3,2024,11\\n', '49.374,49.379,49.367,3,2024,10\\n', '49.35,49.408,49.35,3,2024,9\\n', '49.353,49.399,49.408,3,2024,8\\n', '49.451,49.381,49.349,3,2024,7\\n', '30.926,49.557,49.549,3,2024,6\\n', '30.901,30.896,30.907,3,2024,5\\n', '30.819,30.902,30.909,3,2024,4\\n', '30.862,30.89,30.88,3,2024,3\\n', '30.867,30.9,30.9,3,2024,2\\n', '30.896,30.901,30.867,3,2024,1\\n', '30.898,30.918,30.898,2,2024,29\\n', '30.877,30.904,30.941,2,2024,28\\n', '30.907,30.944,30.902,2,2024,27\\n', '30.825,30.935,30.944,2,2024,26\\n', '30.848,30.885,30.893,2,2024,25\\n', '30.847,30.898,30.9,2,2024,24\\n', '30.896,30.907,30.869,2,2024,23\\n', '30.903,30.892,30.902,2,2024,22\\n', '30.905,30.93,30.901,2,2024,21\\n', '30.894,30.938,30.936,2,2024,20\\n', '30.853,30.927,30.902,2,2024,19\\n', '30.892,30.898,30.882,2,2024,18\\n', '30.779,30.904,30.9,2,2024,17\\n', '30.893,30.904,30.903,2,2024,16\\n', '30.864,30.9,30.899,2,2024,15\\n', '30.872,30.915,30.901,2,2024,14\\n', '30.903,30.941,30.899,2,2024,13\\n', '30.836,30.883,30.898,2,2024,12\\n', '30.854,30.88,30.826,2,2024,11\\n', '30.894,30.91,30.9,2,2024,10\\n', '30.895,30.903,30.91,2,2024,9\\n', '30.895,30.931,30.897,2,2024,8\\n', '30.901,30.919,30.896,2,2024,7\\n', '30.9,30.9,30.899,2,2024,6\\n', '30.906,31.18,30.9,2,2024,5\\n', '30.9,31.182,31.198,2,2024,4\\n', '30.847,30.893,30.893,2,2024,3\\n', '30.889,30.885,30.85,2,2024,2\\n', '30.782,30.904,30.896,2,2024,1\\n', '30.916,30.885,30.906,1,2024,31\\n', '30.925,30.901,30.941,1,2024,30\\n', '30.896,30.96,30.9,1,2024,29\\n', '30.901,30.966,30.986,1,2024,28\\n', '30.869,30.9,30.9,1,2024,27\\n', '30.896,30.89,30.877,1,2024,26\\n', '30.904,30.897,30.893,1,2024,25\\n', '30.899,30.896,30.902,1,2024,24\\n', '30.901,30.945,30.908,1,2024,23\\n', '30.859,30.932,30.901,1,2024,22\\n', '30.876,30.875,30.89,1,2024,21\\n', '30.849,30.867,30.867,1,2024,20\\n', '30.898,30.901,30.845,1,2024,19\\n', '30.901,30.901,30.898,1,2024,18\\n', '30.906,30.895,30.898,1,2024,17\\n', '30.9,30.94,30.895,1,2024,16\\n', '30.904,30.929,30.941,1,2024,15\\n', '30.911,30.9,30.918,1,2024,14\\n', '30.859,30.9,30.9,1,2024,13\\n', '30.904,30.898,30.851,1,2024,12\\n', '30.924,30.926,30.893,1,2024,11\\n', '30.902,30.897,30.895,1,2024,10\\n', '30.898,30.904,30.897,1,2024,9\\n', '30.792,30.901,30.904,1,2024,8\\n', '30.687,30.757,30.722,1,2024,7\\n', '30.757,30.801,30.757,1,2024,6\\n', '30.799,30.8,30.757,1,2024,5\\n', '30.839,30.919,30.797,1,2024,4\\n', '30.903,30.929,30.924,1,2024,3\\n', '30.908,31.004,30.925,1,2024,2\\n', '30.938,31.015,31.036,1,2024,1\\n', '30.947,31.009,30.968,12,2023,31\\n', '30.862,30.925,30.925,12,2023,30\\n', '30.924,30.923,30.857,12,2023,29\\n', '30.918,30.899,30.924,12,2023,28\\n', '30.85,30.938,30.803,12,2023,27\\n', '30.87,30.826,30.802,12,2023,26\\n', '30.844,30.899,30.868,12,2023,25\\n', '30.848,30.933,30.883,12,2023,24\\n', '30.809,30.901,30.9,12,2023,23\\n', '30.893,30.899,30.872,12,2023,22\\n', '30.903,30.896,30.913,12,2023,21\\n', '30.902,30.926,30.901,12,2023,20\\n', '30.904,30.924,30.922,12,2023,19\\n', '30.91,31.073,30.896,12,2023,18\\n', '30.928,30.904,30.923,12,2023,17\\n', '30.883,30.923,30.883,12,2023,16\\n', '30.921,30.93,30.886,12,2023,15\\n', '30.907,30.924,30.933,12,2023,14\\n', '30.899,30.896,30.897,12,2023,13\\n', '30.891,30.914,30.924,12,2023,12\\n', '30.906,30.9,30.926,12,2023,11\\n', '30.926,30.971,30.944,12,2023,10\\n', '30.887,30.9,30.887,12,2023,9\\n', '30.892,30.905,30.887,12,2023,8\\n', '30.908,30.901,30.902,12,2023,7\\n', '30.899,30.937,30.952,12,2023,6\\n', '30.807,30.912,30.798,12,2023,5\\n', '30.905,30.933,30.919,12,2023,4\\n', '30.93,30.918,30.924,12,2023,3\\n', '30.895,30.906,30.9,12,2023,2\\n', '30.892,30.977,30.906,12,2023,1\\n', '30.898,30.955,30.898,11,2023,30\\n', '30.907,30.93,30.948,11,2023,29\\n', '30.903,30.92,30.918,11,2023,28\\n', '30.827,30.899,30.897,11,2023,27\\n', '30.805,30.885,30.828,11,2023,26\\n', '30.897,30.957,30.9,11,2023,25\\n', '30.899,30.932,30.897,11,2023,24\\n', '30.9,30.93,30.902,11,2023,23\\n', '30.9,30.894,30.906,11,2023,22\\n', '30.934,30.891,30.905,11,2023,21\\n', '30.832,30.936,30.935,11,2023,20\\n', '30.791,30.917,30.813,11,2023,19\\n', '30.913,30.925,30.925,11,2023,18\\n', '30.92,30.921,30.913,11,2023,17\\n', '30.896,30.922,30.929,11,2023,16\\n', '30.91,30.905,30.918,11,2023,15\\n', '30.899,30.898,30.907,11,2023,14\\n', '30.874,30.902,30.901,11,2023,13\\n', '30.809,30.88,30.862,11,2023,12\\n', '30.824,30.9,30.9,11,2023,11\\n', '30.891,30.899,30.815,11,2023,10\\n', '30.898,30.905,30.895,11,2023,9\\n', '30.883,30.907,30.898,11,2023,8\\n', '30.806,30.902,30.8,11,2023,7\\n', '30.731,30.915,30.909,11,2023,6\\n', '30.667,30.875,30.659,11,2023,5\\n', '30.647,30.901,30.9,11,2023,4\\n', '30.904,30.903,30.9,11,2023,3\\n', '30.901,30.941,30.899,11,2023,2\\n', '30.902,30.896,30.89,11,2023,1\\n', '30.914,30.934,30.92,10,2023,31\\n', '30.9,30.897,30.899,10,2023,30\\n', '30.855,30.882,30.882,10,2023,29\\n', '30.856,30.9,30.9,10,2023,28\\n', '30.894,30.896,30.875,10,2023,27\\n', '30.881,30.903,30.901,10,2023,26\\n', '30.899,30.936,30.899,10,2023,25\\n', '30.923,30.937,30.919,10,2023,24\\n', '30.902,30.898,30.905,10,2023,23\\n', '30.879,30.892,30.902,10,2023,22\\n', '30.864,30.9,30.9,10,2023,21\\n', '30.909,30.889,30.862,10,2023,20\\n', '30.926,30.884,30.897,10,2023,19\\n', '48.333,48.6,48.348,4,2024,18\\n', '48.494,48.786,48.49,4,2024,17\\n', '48.271,48.658,48.497,4,2024,16\\n', '47.865,47.863,47.86,4,2024,28\\n', '47.862,48.431,47.861,4,2024,27\\n', '47.902,47.865,47.861,4,2024,26\\n', '47.904,47.902,47.901,4,2024,25\\n', '47.846,48.022,47.9,4,2024,24\\n', '48.117,48.048,48.046,4,2024,23\\n', '48.163,48.432,48.16,4,2024,22\\n', '48.225,48.295,48.275,4,2024,21\\n', '48.269,48.33,48.268,4,2024,20\\n', '48.266,48.433,48.266,4,2024,19\\n', '47.852,47.877,47.858,4,2024,30\\n', '47.64,47.85,47.851,4,2024,29\\n', '47.991,47.996,47.937,7,2024,5\\n', '30.897,48.098,47.984,7,2024,4\\n', '48.157,48.141,48.132,7,2024,3\\n', '48.136,48.168,48.151,7,2024,2\\n', '47.899,48.207,48.299,7,2024,1\\n', '47.899,47.941,47.91,6,2024,30\\n', '47.977,47.977,47.977,6,2024,29\\n', '48.035,48.003,47.977,6,2024,28\\n', '48.053,48.081,48.03,6,2024,27\\n', '48.049,48.658,48.045,6,2024,26\\n', '48.257,48.363,48.386,6,2024,25\\n', '47.717,48.431,48.322,6,2024,24\\n', '47.717,47.708,47.706,6,2024,23\\n', '47.66,47.708,47.708,6,2024,22\\n', '47.706,47.686,47.69,6,2024,21\\n', '47.712,47.713,47.711,6,2024,20\\n', '47.719,47.701,47.711,6,2024,19\\n', '47.712,47.704,47.7,6,2024,18\\n', '47.704,47.709,47.713,6,2024,17\\n', '47.635,47.749,47.713,6,2024,16\\n', '47.586,47.699,47.71,6,2024,15\\n', '47.682,47.704,47.655,6,2024,14\\n', '47.682,47.756,47.709,6,2024,13\\n', '47.558,47.711,47.698,6,2024,12\\n', '47.573,47.689,47.563,6,2024,11\\n', '47.634,47.742,47.7,6,2024,10\\n', '47.532,47.754,47.718,6,2024,9\\n', '47.435,47.53,47.53,6,2024,8\\n', '47.518,47.522,47.53,6,2024,7\\n', '47.465,47.593,47.51,6,2024,6\\n', '47.456,47.652,47.588,6,2024,5\\n', '47.259,47.374,47.451,6,2024,4\\n', '47.178,47.102,47.102,6,2024,3\\n', '47.213,47.24,47.189,6,2024,2\\n', '47.033,47.27,47.27,6,2024,1\\n', '47.243,47.272,47.218,5,2024,31\\n', '47.216,47.338,47.241,5,2024,30\\n', '47.303,47.558,47.351,5,2024,29\\n', '47.22,47.542,47.581,5,2024,28\\n', '46.917,47.187,47.167,5,2024,27\\n', '47.127,47.156,47.139,5,2024,26\\n', '46.846,47.144,47.125,5,2024,25\\n', '47.143,47.148,47.121,5,2024,24\\n', '46.891,47.244,47.151,5,2024,23\\n', '46.63,46.752,46.782,5,2024,22\\n', '46.656,46.689,46.729,5,2024,21\\n', '46.619,46.861,46.637,5,2024,20\\n', '46.819,46.918,46.925,5,2024,19\\n', '46.679,46.91,46.91,5,2024,18\\n', '46.906,46.913,46.852,5,2024,17\\n', '46.886,47.425,46.908,5,2024,16\\n', '46.843,46.832,46.832,5,2024,15\\n', '46.925,46.976,46.846,5,2024,14\\n', '47.065,47.241,47.065,5,2024,13\\n', '47.32,47.387,47.393,5,2024,12\\n', '47.135,47.322,47.322,5,2024,11\\n', '47.393,47.4,47.322,5,2024,10\\n', '47.324,47.508,47.398,5,2024,9\\n', '47.559,47.711,47.557,5,2024,8\\n', '47.72,47.947,47.726,5,2024,7\\n', '47.95,47.944,47.946,5,2024,6\\n', '47.894,47.931,47.942,5,2024,5\\n', '47.894,48.087,47.894,5,2024,4\\n', '47.949,47.952,47.896,5,2024,3\\n', '47.847,47.978,47.938,5,2024,2\\n', '47.886,47.729,47.671,5,2024,1\\n']\n"
     ]
    }
   ],
   "source": [
    "file.read()"
   ]
  },
  {
   "cell_type": "code",
   "execution_count": 41,
   "id": "6ace612e",
   "metadata": {},
   "outputs": [
    {
     "data": {
      "text/plain": [
       "'r'"
      ]
     },
     "execution_count": 41,
     "metadata": {},
     "output_type": "execute_result"
    }
   ],
   "source": [
    "file.mode"
   ]
  },
  {
   "cell_type": "code",
   "execution_count": 42,
   "id": "45342f6f",
   "metadata": {},
   "outputs": [
    {
     "data": {
      "text/plain": [
       "'D:/Labtop Sharing/exchange_rate_data.csv'"
      ]
     },
     "execution_count": 42,
     "metadata": {},
     "output_type": "execute_result"
    }
   ],
   "source": [
    "file.name"
   ]
  },
  {
   "cell_type": "code",
   "execution_count": 43,
   "id": "fbfdfabc",
   "metadata": {},
   "outputs": [],
   "source": [
    "file.close()"
   ]
  },
  {
   "cell_type": "code",
   "execution_count": 2,
   "id": "0c300a88",
   "metadata": {},
   "outputs": [
    {
     "name": "stdout",
     "output_type": "stream",
     "text": [
      "Min,Max,Price,Month,Year,day\n",
      ",,15.702,4,2021,1\n",
      ",,15.733,4,2021,2\n",
      ",,15.734,4,2021,3\n",
      ",,15.729,4,2021,4\n",
      ",,15.619,4,2021,5\n",
      ",,15.709,4,2021,6\n",
      ",,15.701,4,2021,7\n",
      ",,15.705,4,2021,8\n",
      ",,15.706,4,2021,9\n",
      ",,15.707,4,2021,10\n",
      ",,15.711,4,2021,11\n",
      ",,15.69,4,2021,12\n",
      ",,15.686,4,2021,13\n",
      ",,15.677,4,2021,14\n",
      ",,15.681,4,2021,15\n",
      ",,15.684,4,2021,16\n",
      ",,15.69,4,2021,17\n",
      ",,15.696,4,2021,18\n",
      ",,15.694,4,2021,19\n",
      ",,15.706,4,2021,20\n",
      ",,15.679,4,2021,21\n",
      ",,15.695,4,2021,22\n",
      ",,15.703,4,2021,23\n",
      ",,15.703,4,2021,24\n",
      ",,15.711,4,2021,25\n",
      ",,15.694,4,2021,26\n",
      ",,15.674,4,2021,27\n",
      ",,15.66,4,2021,28\n",
      ",,15.659,4,2021,29\n",
      ",,15.659,4,2021,30\n",
      ",,15.66,5,2021,1\n",
      ",,15.65,5,2021,2\n",
      ",,15.659,5,2021,3\n",
      ",,15.666,5,2021,4\n",
      ",,15.669,5,2021,5\n",
      ",,15.669,5,2021,6\n",
      ",,15.671,5,2021,7\n",
      ",,15.671,5,2021,8\n",
      ",,15.666,5,2021,9\n",
      ",,15.668,5,2021,10\n",
      ",,15.684,5,2021,11\n",
      ",,15.684,5,2021,12\n",
      ",,15.664,5,2021,13\n",
      ",,15.655,5,2021,14\n",
      ",,15.655,5,2021,15\n",
      ",,15.654,5,2021,16\n",
      ",,15.689,5,2021,17\n",
      ",,15.681,5,2021,18\n",
      ",,15.682,5,2021,19\n",
      ",,15.683,5,2021,20\n",
      ",,15.66,5,2021,21\n",
      ",,15.66,5,2021,22\n",
      ",,15.662,5,2021,23\n",
      ",,15.668,5,2021,24\n",
      ",,15.668,5,2021,25\n",
      ",,15.683,5,2021,26\n",
      ",,15.683,5,2021,27\n",
      ",,15.658,5,2021,28\n",
      ",,15.658,5,2021,29\n",
      ",,15.656,5,2021,30\n",
      ",,15.693,5,2021,31\n",
      ",,15.676,6,2021,1\n",
      ",,15.69,6,2021,2\n",
      ",,15.686,6,2021,3\n",
      ",,15.69,6,2021,4\n",
      ",,15.69,6,2021,5\n",
      ",,15.694,6,2021,6\n",
      ",,15.687,6,2021,7\n",
      ",,15.65,6,2021,8\n",
      ",,15.682,6,2021,9\n",
      ",,15.67,6,2021,10\n",
      ",,15.639,6,2021,11\n",
      ",,15.639,6,2021,12\n",
      ",,15.638,6,2021,13\n",
      ",,15.66,6,2021,14\n",
      ",,15.667,6,2021,15\n",
      ",,15.651,6,2021,16\n",
      ",,15.665,6,2021,17\n",
      ",,15.647,6,2021,18\n",
      ",,15.646,6,2021,19\n",
      ",,15.636,6,2021,20\n",
      ",,15.659,6,2021,21\n",
      ",,15.679,6,2021,22\n",
      ",,15.658,6,2021,23\n",
      ",,15.671,6,2021,24\n",
      ",,15.668,6,2021,25\n",
      ",,15.668,6,2021,26\n",
      ",,15.665,6,2021,27\n",
      ",,15.67,6,2021,28\n",
      ",,15.668,6,2021,29\n",
      ",,15.696,6,2021,30\n",
      ",,15.697,7,2021,1\n",
      ",,15.67,7,2021,2\n",
      ",,15.669,7,2021,3\n",
      ",,15.674,7,2021,4\n",
      ",,15.68,7,2021,5\n",
      ",,15.69,7,2021,6\n",
      ",,15.666,7,2021,7\n",
      ",,15.691,7,2021,8\n",
      ",,15.688,7,2021,9\n",
      ",,15.689,7,2021,10\n",
      ",,15.665,7,2021,11\n",
      ",,15.678,7,2021,12\n",
      ",,15.692,7,2021,13\n",
      ",,15.696,7,2021,14\n",
      ",,15.705,7,2021,15\n",
      ",,15.706,7,2021,16\n",
      ",,15.706,7,2021,17\n",
      ",,15.704,7,2021,18\n",
      ",,15.673,7,2021,19\n",
      ",,15.671,7,2021,20\n",
      ",,15.673,7,2021,21\n",
      ",,15.671,7,2021,22\n",
      ",,15.672,7,2021,23\n",
      ",,15.671,7,2021,24\n",
      ",,15.669,7,2021,25\n",
      ",,15.695,7,2021,26\n",
      ",,15.689,7,2021,27\n",
      ",,15.699,7,2021,28\n",
      ",,15.704,7,2021,29\n",
      ",,15.71,7,2021,30\n",
      ",,15.71,7,2021,31\n",
      ",,15.71,8,2021,1\n",
      ",,15.708,8,2021,2\n",
      ",,15.698,8,2021,3\n",
      ",,15.7,8,2021,4\n",
      ",,15.706,8,2021,5\n",
      ",,15.7,8,2021,6\n",
      ",,15.706,8,2021,7\n",
      ",,15.713,8,2021,8\n",
      ",,15.698,8,2021,9\n",
      ",,15.699,8,2021,10\n",
      ",,15.697,8,2021,11\n",
      ",,15.699,8,2021,12\n",
      ",,15.695,8,2021,13\n",
      ",,15.695,8,2021,14\n",
      ",,15.7,8,2021,15\n",
      ",,15.688,8,2021,16\n",
      ",,15.71,8,2021,17\n",
      ",,15.706,8,2021,18\n",
      ",,15.697,8,2021,19\n",
      ",,15.699,8,2021,20\n",
      ",,15.7,8,2021,21\n",
      ",,15.703,8,2021,22\n",
      ",,15.7,8,2021,23\n",
      ",,15.702,8,2021,24\n",
      ",,15.704,8,2021,25\n",
      ",,15.699,8,2021,26\n",
      ",,15.699,8,2021,27\n",
      ",,15.699,8,2021,28\n",
      ",,15.696,8,2021,29\n",
      ",,15.698,8,2021,30\n",
      ",,15.699,8,2021,31\n",
      ",,15.706,9,2021,1\n",
      ",,15.703,9,2021,2\n",
      ",,15.705,9,2021,3\n",
      ",,15.704,9,2021,4\n",
      ",,15.708,9,2021,5\n",
      ",,15.704,9,2021,6\n",
      ",,15.712,9,2021,7\n",
      ",,15.724,9,2021,8\n",
      ",,15.71,9,2021,9\n",
      ",,15.71,9,2021,10\n",
      ",,15.71,9,2021,11\n",
      ",,15.716,9,2021,12\n",
      ",,15.721,9,2021,13\n",
      ",,15.713,9,2021,14\n",
      ",,15.711,9,2021,15\n",
      ",,15.717,9,2021,16\n",
      ",,15.717,9,2021,17\n",
      ",,15.717,9,2021,18\n",
      ",,15.713,9,2021,19\n",
      ",,15.722,9,2021,20\n",
      ",,15.698,9,2021,21\n",
      ",,15.708,9,2021,22\n",
      ",,15.701,9,2021,23\n",
      ",,15.695,9,2021,24\n",
      ",,15.694,9,2021,25\n",
      ",,15.693,9,2021,26\n",
      ",,15.712,9,2021,27\n",
      ",,15.712,9,2021,28\n",
      ",,15.708,9,2021,29\n",
      ",,15.714,9,2021,30\n",
      ",,15.72,10,2021,1\n",
      ",,15.72,10,2021,2\n",
      ",,15.703,10,2021,3\n",
      ",,15.709,10,2021,4\n",
      ",,15.711,10,2021,5\n",
      ",,15.699,10,2021,6\n",
      ",,15.703,10,2021,7\n",
      ",,15.7,10,2021,8\n",
      ",,15.7,10,2021,9\n",
      ",,15.697,10,2021,10\n",
      ",,15.727,10,2021,11\n",
      ",,15.712,10,2021,12\n",
      ",,15.715,10,2021,13\n",
      ",,15.721,10,2021,14\n",
      ",,15.72,10,2021,15\n",
      ",,15.72,10,2021,16\n",
      ",,15.724,10,2021,17\n",
      ",,15.74,10,2021,18\n",
      ",,15.717,10,2021,19\n",
      ",,15.705,10,2021,20\n",
      ",,15.697,10,2021,21\n",
      ",,15.705,10,2021,22\n",
      ",,15.706,10,2021,23\n",
      ",,15.708,10,2021,24\n",
      ",,15.732,10,2021,25\n",
      ",,15.714,10,2021,26\n",
      ",,15.713,10,2021,27\n",
      ",,15.703,10,2021,28\n",
      ",,15.712,10,2021,29\n",
      ",,15.712,10,2021,30\n",
      ",,15.714,10,2021,31\n",
      ",,15.736,11,2021,1\n",
      ",,15.697,11,2021,2\n",
      ",,15.726,11,2021,3\n",
      ",,15.698,11,2021,4\n",
      ",,15.72,11,2021,5\n",
      ",,15.72,11,2021,6\n",
      ",,15.702,11,2021,7\n",
      ",,15.728,11,2021,8\n",
      ",,15.707,11,2021,9\n",
      ",,15.699,11,2021,10\n",
      ",,15.72,11,2021,11\n",
      ",,15.73,11,2021,12\n",
      ",,15.73,11,2021,13\n",
      ",,15.734,11,2021,14\n",
      ",,15.747,11,2021,15\n",
      ",,15.706,11,2021,16\n",
      ",,15.734,11,2021,17\n",
      ",,15.703,11,2021,18\n",
      ",,15.706,11,2021,19\n",
      ",,15.706,11,2021,20\n",
      ",,15.72,11,2021,21\n",
      ",,15.72,11,2021,22\n",
      ",,15.728,11,2021,23\n",
      ",,15.72,11,2021,24\n",
      ",,15.731,11,2021,25\n",
      ",,15.726,11,2021,26\n",
      ",,15.725,11,2021,27\n",
      ",,15.757,11,2021,28\n",
      ",,15.723,11,2021,29\n",
      ",,15.759,11,2021,30\n",
      ",,15.712,12,2021,1\n",
      ",,15.712,12,2021,2\n",
      ",,15.71,12,2021,3\n",
      ",,15.71,12,2021,4\n",
      ",,15.725,12,2021,5\n",
      ",,15.723,12,2021,6\n",
      ",,15.711,12,2021,7\n",
      ",,15.717,12,2021,8\n",
      ",,15.711,12,2021,9\n",
      ",,15.707,12,2021,10\n",
      ",,15.707,12,2021,11\n",
      ",,15.709,12,2021,12\n",
      ",,15.71,12,2021,13\n",
      ",,15.735,12,2021,14\n",
      ",,15.746,12,2021,15\n",
      ",,15.738,12,2021,16\n",
      ",,15.741,12,2021,17\n",
      ",,15.741,12,2021,18\n",
      ",,15.736,12,2021,19\n",
      ",,15.703,12,2021,20\n",
      ",,15.713,12,2021,21\n",
      ",,15.752,12,2021,22\n",
      ",,15.714,12,2021,23\n",
      ",,15.705,12,2021,24\n",
      ",,15.706,12,2021,25\n",
      ",,15.704,12,2021,26\n",
      ",,15.72,12,2021,27\n",
      ",,15.733,12,2021,28\n",
      ",,15.704,12,2021,29\n",
      ",,15.709,12,2021,30\n",
      ",,15.709,12,2021,31\n",
      ",,15.709,1,2022,1\n",
      ",,15.707,1,2022,2\n",
      ",,15.746,1,2022,3\n",
      ",,15.731,1,2022,4\n",
      ",,15.716,1,2022,5\n",
      ",,15.716,1,2022,6\n",
      ",,15.716,1,2022,7\n",
      ",,15.716,1,2022,8\n",
      ",,15.722,1,2022,9\n",
      ",,15.73,1,2022,10\n",
      ",,15.714,1,2022,11\n",
      ",,15.724,1,2022,12\n",
      ",,15.689,1,2022,13\n",
      ",,15.692,1,2022,14\n",
      ",,15.692,1,2022,15\n",
      ",,15.696,1,2022,16\n",
      ",,15.71,1,2022,17\n",
      ",,15.736,1,2022,18\n",
      ",,15.709,1,2022,19\n",
      ",,15.737,1,2022,20\n",
      ",,15.709,1,2022,21\n",
      ",,15.709,1,2022,22\n",
      ",,15.716,1,2022,23\n",
      ",,15.708,1,2022,24\n",
      ",,15.735,1,2022,25\n",
      ",,15.74,1,2022,26\n",
      ",,15.741,1,2022,27\n",
      ",,15.733,1,2022,28\n",
      ",,15.734,1,2022,29\n",
      ",,15.736,1,2022,30\n",
      ",,15.725,1,2022,31\n",
      ",,15.712,2,2022,1\n",
      ",,15.714,2,2022,2\n",
      ",,15.737,2,2022,3\n",
      ",,15.731,2,2022,4\n",
      ",,15.732,2,2022,5\n",
      ",,15.726,2,2022,6\n",
      ",,15.709,2,2022,7\n",
      ",,15.721,2,2022,8\n",
      ",,15.738,2,2022,9\n",
      ",,15.712,2,2022,10\n",
      ",,15.712,2,2022,11\n",
      ",,15.711,2,2022,12\n",
      ",,15.691,2,2022,13\n",
      ",,15.719,2,2022,14\n",
      ",,15.724,2,2022,15\n",
      ",,15.707,2,2022,16\n",
      ",,15.741,2,2022,17\n",
      ",,15.737,2,2022,18\n",
      ",,15.737,2,2022,19\n",
      ",,15.743,2,2022,20\n",
      ",,15.713,2,2022,21\n",
      ",,15.715,2,2022,22\n",
      ",,15.724,2,2022,23\n",
      ",,15.744,2,2022,24\n",
      ",,15.746,2,2022,25\n",
      ",,15.746,2,2022,26\n",
      ",,15.745,2,2022,27\n",
      ",,15.712,2,2022,28\n",
      ",,15.703,3,2022,1\n",
      ",,15.716,3,2022,2\n",
      ",,15.73,3,2022,3\n",
      ",,15.696,3,2022,4\n",
      ",,15.696,3,2022,5\n",
      ",,15.771,3,2022,6\n",
      ",,15.737,3,2022,7\n",
      ",,15.732,3,2022,8\n",
      ",,15.737,3,2022,9\n",
      ",,15.711,3,2022,10\n",
      ",,15.683,3,2022,11\n",
      ",,15.682,3,2022,12\n",
      ",,15.654,3,2022,13\n",
      ",,15.735,3,2022,14\n",
      ",,15.715,3,2022,15\n",
      ",,15.722,3,2022,16\n",
      ",,15.718,3,2022,17\n",
      ",,15.7,3,2022,18\n",
      ",,15.7,3,2022,19\n",
      ",,15.744,3,2022,20\n",
      ",,18.219,3,2022,21\n",
      ",,18.541,3,2022,22\n",
      ",,18.371,3,2022,23\n",
      ",,18.331,3,2022,24\n",
      ",,18.497,3,2022,25\n",
      ",,18.556,3,2022,26\n",
      ",,18.561,3,2022,27\n",
      ",,18.303,3,2022,28\n",
      ",,18.324,3,2022,29\n",
      ",,18.271,3,2022,30\n",
      ",,18.278,3,2022,31\n",
      ",,18.293,4,2022,1\n",
      ",,18.294,4,2022,2\n",
      ",,18.299,4,2022,3\n",
      ",,18.243,4,2022,4\n",
      ",,18.237,4,2022,5\n",
      ",,18.312,4,2022,6\n",
      ",,18.345,4,2022,7\n",
      ",,18.342,4,2022,8\n",
      ",,18.342,4,2022,9\n",
      ",,18.321,4,2022,10\n",
      ",,18.443,4,2022,11\n",
      ",,18.501,4,2022,12\n",
      ",,18.412,4,2022,13\n",
      ",,18.409,4,2022,14\n",
      ",,18.435,4,2022,15\n",
      ",,18.435,4,2022,16\n",
      ",,18.418,4,2022,17\n",
      ",,18.61,4,2022,18\n",
      ",,18.469,4,2022,19\n",
      ",,18.476,4,2022,20\n",
      ",,18.57,4,2022,21\n",
      ",,18.594,4,2022,22\n",
      ",,18.595,4,2022,23\n",
      ",,18.572,4,2022,24\n",
      ",,18.558,4,2022,25\n",
      ",,18.513,4,2022,26\n",
      ",,18.498,4,2022,27\n",
      ",,18.498,4,2022,28\n",
      ",,18.487,4,2022,29\n",
      ",,18.487,4,2022,30\n",
      ",,18.489,5,2022,1\n",
      ",,18.476,5,2022,2\n",
      ",,18.475,5,2022,3\n",
      ",,18.473,5,2022,4\n",
      ",,18.48,5,2022,5\n",
      ",,18.489,5,2022,6\n",
      ",,18.488,5,2022,7\n",
      ",,18.508,5,2022,8\n",
      ",,18.482,5,2022,9\n",
      ",,18.482,5,2022,10\n",
      ",,18.39,5,2022,11\n",
      ",,18.317,5,2022,12\n",
      ",,18.314,5,2022,13\n",
      ",,18.315,5,2022,14\n",
      ",,18.331,5,2022,15\n",
      ",,18.276,5,2022,16\n",
      ",,18.282,5,2022,17\n",
      ",,18.255,5,2022,18\n",
      ",,18.279,5,2022,19\n",
      ",,18.274,5,2022,20\n",
      ",,18.274,5,2022,21\n",
      ",,18.253,5,2022,22\n",
      ",,18.402,5,2022,23\n",
      ",,18.527,5,2022,24\n",
      ",,18.603,5,2022,25\n",
      ",,18.608,5,2022,26\n",
      ",,18.594,5,2022,27\n",
      ",,18.594,5,2022,28\n",
      ",,18.605,5,2022,29\n",
      ",,18.608,5,2022,30\n",
      ",,18.602,5,2022,31\n",
      ",,18.629,6,2022,1\n",
      ",,18.651,6,2022,2\n",
      ",,18.63,6,2022,3\n",
      ",,18.631,6,2022,4\n",
      ",,18.621,6,2022,5\n",
      ",,18.654,6,2022,6\n",
      ",,18.682,6,2022,7\n",
      ",,18.693,6,2022,8\n",
      ",,18.713,6,2022,9\n",
      ",,18.707,6,2022,10\n",
      ",,18.709,6,2022,11\n",
      ",,18.724,6,2022,12\n",
      ",,18.722,6,2022,13\n",
      ",,18.734,6,2022,14\n",
      ",,18.762,6,2022,15\n",
      ",,18.741,6,2022,16\n",
      ",,18.742,6,2022,17\n",
      ",,18.741,6,2022,18\n",
      ",,18.76,6,2022,19\n",
      ",,18.769,6,2022,20\n",
      ",,18.744,6,2022,21\n",
      ",,18.743,6,2022,22\n",
      ",,18.773,6,2022,23\n",
      ",,18.777,6,2022,24\n",
      ",,18.777,6,2022,25\n",
      ",,18.764,6,2022,26\n",
      ",,18.77,6,2022,27\n",
      ",,18.787,6,2022,28\n",
      ",,18.799,6,2022,29\n",
      ",,18.804,6,2022,30\n",
      ",,18.807,7,2022,1\n",
      ",,18.807,7,2022,2\n",
      ",,18.788,7,2022,3\n",
      ",,18.866,7,2022,4\n",
      ",,18.857,7,2022,5\n",
      ",,18.878,7,2022,6\n",
      ",,18.874,7,2022,7\n",
      ",,18.859,7,2022,8\n",
      ",,18.861,7,2022,9\n",
      ",,18.867,7,2022,10\n",
      ",,18.882,7,2022,11\n",
      ",,18.881,7,2022,12\n",
      ",,18.876,7,2022,13\n",
      ",,18.883,7,2022,14\n",
      ",,18.901,7,2022,15\n",
      ",,18.879,7,2022,16\n",
      ",,18.886,7,2022,17\n",
      ",,18.925,7,2022,18\n",
      ",,18.91,7,2022,19\n",
      ",,18.952,7,2022,20\n",
      ",,18.916,7,2022,21\n",
      ",,18.91,7,2022,22\n",
      ",,18.915,7,2022,23\n",
      ",,18.92,7,2022,24\n",
      ",,18.956,7,2022,25\n",
      ",,18.96,7,2022,26\n",
      ",,18.939,7,2022,27\n",
      ",,18.92,7,2022,28\n",
      ",,18.905,7,2022,29\n",
      ",,18.911,7,2022,30\n",
      ",,18.929,7,2022,31\n",
      ",,18.98,8,2022,1\n",
      ",,19.045,8,2022,2\n",
      ",,19.082,8,2022,3\n",
      ",,19.198,8,2022,4\n",
      ",,19.11,8,2022,5\n",
      ",,19.11,8,2022,6\n",
      ",,19.127,8,2022,7\n",
      ",,19.172,8,2022,8\n",
      ",,19.159,8,2022,9\n",
      ",,19.128,8,2022,10\n",
      ",,19.149,8,2022,11\n",
      ",,19.143,8,2022,12\n",
      ",,19.143,8,2022,13\n",
      ",,19.15,8,2022,14\n",
      ",,19.148,8,2022,15\n",
      ",,19.152,8,2022,16\n",
      ",,19.134,8,2022,17\n",
      ",,19.154,8,2022,18\n",
      ",,19.139,8,2022,19\n",
      ",,19.138,8,2022,20\n",
      ",,19.146,8,2022,21\n",
      ",,19.172,8,2022,22\n",
      ",,19.161,8,2022,23\n",
      ",,19.202,8,2022,24\n",
      ",,19.198,8,2022,25\n",
      ",,19.19,8,2022,26\n",
      ",,19.189,8,2022,27\n",
      ",,19.221,8,2022,28\n",
      ",,19.207,8,2022,29\n",
      ",,19.235,8,2022,30\n",
      ",,19.236,8,2022,31\n",
      ",,19.237,9,2022,1\n",
      ",,19.22,9,2022,2\n",
      ",,19.228,9,2022,3\n",
      ",,19.282,9,2022,4\n",
      ",,19.241,9,2022,5\n",
      ",,19.273,9,2022,6\n",
      ",,19.273,9,2022,7\n",
      ",,19.331,9,2022,8\n",
      ",,19.119,9,2022,9\n",
      ",,19.234,9,2022,10\n",
      ",,19.274,9,2022,11\n",
      ",,19.361,9,2022,12\n",
      ",,19.344,9,2022,13\n",
      ",,19.367,9,2022,14\n",
      ",,19.428,9,2022,15\n",
      ",,19.429,9,2022,16\n",
      ",,19.429,9,2022,17\n",
      ",,19.251,9,2022,18\n",
      ",,19.419,9,2022,19\n",
      ",,19.44,9,2022,20\n",
      ",,19.483,9,2022,21\n",
      ",,19.494,9,2022,22\n",
      ",,19.496,9,2022,23\n",
      ",,19.491,9,2022,24\n",
      ",,19.6,9,2022,25\n",
      ",,19.581,9,2022,26\n",
      ",,19.496,9,2022,27\n",
      ",,19.539,9,2022,28\n",
      ",,19.548,9,2022,29\n",
      ",,19.577,9,2022,30\n",
      ",,19.538,10,2022,1\n",
      ",,19.555,10,2022,2\n",
      ",,19.627,10,2022,3\n",
      ",,19.661,10,2022,4\n",
      ",,19.65,10,2022,5\n",
      ",,19.642,10,2022,6\n",
      ",,19.665,10,2022,7\n",
      ",,19.665,10,2022,8\n",
      ",,19.776,10,2022,9\n",
      ",,19.656,10,2022,10\n",
      ",,19.693,10,2022,11\n",
      ",,19.692,10,2022,12\n",
      ",,19.651,10,2022,13\n",
      ",,19.664,10,2022,14\n",
      ",,19.664,10,2022,15\n",
      ",,19.626,10,2022,16\n",
      ",,19.688,10,2022,17\n",
      ",,19.651,10,2022,18\n",
      ",,19.687,10,2022,19\n",
      ",,19.612,10,2022,20\n",
      ",,19.618,10,2022,21\n",
      ",,19.618,10,2022,22\n",
      ",,19.633,10,2022,23\n",
      ",,19.644,10,2022,24\n",
      ",,19.721,10,2022,25\n",
      ",,19.712,10,2022,26\n",
      ",,20.262,10,2022,27\n",
      ",,23.148,10,2022,28\n",
      ",,23.15,10,2022,29\n",
      ",,23.167,10,2022,30\n",
      ",,24.179,10,2022,31\n",
      ",,24.189,11,2022,1\n",
      ",,24.073,11,2022,2\n",
      ",,24.245,11,2022,3\n",
      ",,24.18,11,2022,4\n",
      ",,24.251,11,2022,5\n",
      ",,23.922,11,2022,6\n",
      ",,24.316,11,2022,7\n",
      ",,24.338,11,2022,8\n",
      ",,24.386,11,2022,9\n",
      ",,24.382,11,2022,10\n",
      ",,24.376,11,2022,11\n",
      ",,24.347,11,2022,12\n",
      ",,24.453,11,2022,13\n",
      ",,24.463,11,2022,14\n",
      ",,24.44,11,2022,15\n",
      ",,24.481,11,2022,16\n",
      ",,24.52,11,2022,17\n",
      ",,24.478,11,2022,18\n",
      ",,24.477,11,2022,19\n",
      ",,24.607,11,2022,20\n",
      ",,24.521,11,2022,21\n",
      ",,24.508,11,2022,22\n",
      ",,24.547,11,2022,23\n",
      ",,24.585,11,2022,24\n",
      ",,24.546,11,2022,25\n",
      ",,24.546,11,2022,26\n",
      ",,24.641,11,2022,27\n",
      ",,24.572,11,2022,28\n",
      ",,24.552,11,2022,29\n",
      ",,24.554,11,2022,30\n",
      ",,24.562,12,2022,1\n",
      ",,24.572,12,2022,2\n",
      ",,24.571,12,2022,3\n",
      ",,24.559,12,2022,4\n",
      ",,24.564,12,2022,5\n",
      ",,24.6,12,2022,6\n",
      ",,24.638,12,2022,7\n",
      ",,24.602,12,2022,8\n",
      ",,24.578,12,2022,9\n",
      ",,24.565,12,2022,10\n",
      ",,24.629,12,2022,11\n",
      ",,24.647,12,2022,12\n",
      ",,24.658,12,2022,13\n",
      ",,24.706,12,2022,14\n",
      ",,24.652,12,2022,15\n",
      ",,24.654,12,2022,16\n",
      ",,24.649,12,2022,17\n",
      ",,24.688,12,2022,18\n",
      ",,24.738,12,2022,19\n",
      ",,24.697,12,2022,20\n",
      ",,24.738,12,2022,21\n",
      ",,24.752,12,2022,22\n",
      ",,24.649,12,2022,23\n",
      ",,24.649,12,2022,24\n",
      ",,24.753,12,2022,25\n",
      ",,24.694,12,2022,26\n",
      ",,24.7,12,2022,27\n",
      ",,24.737,12,2022,28\n",
      ",,24.77,12,2022,29\n",
      ",,24.719,12,2022,30\n",
      ",,24.719,12,2022,31\n",
      ",,24.751,1,2023,1\n",
      ",,24.715,1,2023,2\n",
      ",,24.766,1,2023,3\n",
      ",,26.298,1,2023,4\n",
      ",,26.305,1,2023,5\n",
      ",,26.305,1,2023,6\n",
      ",,26.305,1,2023,7\n",
      ",,27.172,1,2023,8\n",
      ",,27.586,1,2023,9\n",
      ",,27.67,1,2023,10\n",
      ",,27.681,1,2023,11\n",
      ",,29.544,1,2023,12\n",
      ",,29.5,1,2023,13\n",
      ",,29.5,1,2023,14\n",
      ",,29.567,1,2023,15\n",
      ",,29.645,1,2023,16\n",
      ",,29.589,1,2023,17\n",
      ",,29.648,1,2023,18\n",
      ",,29.848,1,2023,19\n",
      ",,29.778,1,2023,20\n",
      ",,29.778,1,2023,21\n",
      ",,29.811,1,2023,22\n",
      ",,29.876,1,2023,23\n",
      ",,29.851,1,2023,24\n",
      ",,29.892,1,2023,25\n",
      ",,29.896,1,2023,26\n",
      ",,29.88,1,2023,27\n",
      ",,29.877,1,2023,28\n",
      ",,29.879,1,2023,29\n",
      ",,30.08,1,2023,30\n",
      ",,30.188,1,2023,31\n",
      ",,30.206,2,2023,1\n",
      ",,30.287,2,2023,2\n",
      ",,30.198,2,2023,3\n",
      ",,30.266,2,2023,4\n",
      ",,30.28,2,2023,5\n",
      ",,30.191,2,2023,6\n",
      ",,30.298,2,2023,7\n",
      ",,30.375,2,2023,8\n",
      ",,30.505,2,2023,9\n",
      ",,30.427,2,2023,10\n",
      ",,30.427,2,2023,11\n",
      ",,30.499,2,2023,12\n",
      "47.604,48.702,48.25,4,2024,15\n",
      "47.449,47.584,47.541,4,2024,14\n",
      "47.434,47.58,47.58,4,2024,13\n",
      "47.541,47.547,47.528,4,2024,12\n",
      "47.55,47.547,47.552,4,2024,11\n",
      "47.553,47.546,47.542,4,2024,10\n",
      "47.552,47.549,47.551,4,2024,9\n",
      "47.427,47.563,47.552,4,2024,8\n",
      "47.367,47.38,47.422,4,2024,7\n",
      "47.326,47.38,47.38,4,2024,6\n",
      "47.378,47.38,47.322,4,2024,5\n",
      "47.347,47.38,47.34,4,2024,4\n",
      "47.148,47.357,47.354,4,2024,3\n",
      "47.152,47.519,47.17,4,2024,2\n",
      "47.265,47.407,47.627,4,2024,1\n",
      "47.35,47.432,47.449,3,2024,31\n",
      "47.35,47.386,47.386,3,2024,30\n",
      "47.403,47.408,47.388,3,2024,29\n",
      "47.155,47.383,47.4,3,2024,28\n",
      "47.209,47.834,47.249,3,2024,27\n",
      "47.449,47.883,47.801,3,2024,26\n",
      "46.583,47.396,47.396,3,2024,25\n",
      "46.571,46.79,46.785,3,2024,24\n",
      "46.505,46.75,46.75,3,2024,23\n",
      "46.593,46.646,46.505,3,2024,22\n",
      "46.648,47.076,46.651,3,2024,21\n",
      "46.95,46.9,46.9,3,2024,20\n",
      "47.085,47.137,47.043,3,2024,19\n",
      "47.108,47.797,47.11,3,2024,18\n",
      "47.78,47.815,47.851,3,2024,17\n",
      "47.777,47.807,47.777,3,2024,16\n",
      "47.765,47.802,47.776,3,2024,15\n",
      "47.814,48.437,47.801,3,2024,14\n",
      "48.389,48.835,48.452,3,2024,13\n",
      "48.818,49.126,48.794,3,2024,12\n",
      "49.061,49.356,49.034,3,2024,11\n",
      "49.374,49.379,49.367,3,2024,10\n",
      "49.35,49.408,49.35,3,2024,9\n",
      "49.353,49.399,49.408,3,2024,8\n",
      "49.451,49.381,49.349,3,2024,7\n",
      "30.926,49.557,49.549,3,2024,6\n",
      "30.901,30.896,30.907,3,2024,5\n",
      "30.819,30.902,30.909,3,2024,4\n",
      "30.862,30.89,30.88,3,2024,3\n",
      "30.867,30.9,30.9,3,2024,2\n",
      "30.896,30.901,30.867,3,2024,1\n",
      "30.898,30.918,30.898,2,2024,29\n",
      "30.877,30.904,30.941,2,2024,28\n",
      "30.907,30.944,30.902,2,2024,27\n",
      "30.825,30.935,30.944,2,2024,26\n",
      "30.848,30.885,30.893,2,2024,25\n",
      "30.847,30.898,30.9,2,2024,24\n",
      "30.896,30.907,30.869,2,2024,23\n",
      "30.903,30.892,30.902,2,2024,22\n",
      "30.905,30.93,30.901,2,2024,21\n",
      "30.894,30.938,30.936,2,2024,20\n",
      "30.853,30.927,30.902,2,2024,19\n",
      "30.892,30.898,30.882,2,2024,18\n",
      "30.779,30.904,30.9,2,2024,17\n",
      "30.893,30.904,30.903,2,2024,16\n",
      "30.864,30.9,30.899,2,2024,15\n",
      "30.872,30.915,30.901,2,2024,14\n",
      "30.903,30.941,30.899,2,2024,13\n",
      "30.836,30.883,30.898,2,2024,12\n",
      "30.854,30.88,30.826,2,2024,11\n",
      "30.894,30.91,30.9,2,2024,10\n",
      "30.895,30.903,30.91,2,2024,9\n",
      "30.895,30.931,30.897,2,2024,8\n",
      "30.901,30.919,30.896,2,2024,7\n",
      "30.9,30.9,30.899,2,2024,6\n",
      "30.906,31.18,30.9,2,2024,5\n",
      "30.9,31.182,31.198,2,2024,4\n",
      "30.847,30.893,30.893,2,2024,3\n",
      "30.889,30.885,30.85,2,2024,2\n",
      "30.782,30.904,30.896,2,2024,1\n",
      "30.916,30.885,30.906,1,2024,31\n",
      "30.925,30.901,30.941,1,2024,30\n",
      "30.896,30.96,30.9,1,2024,29\n",
      "30.901,30.966,30.986,1,2024,28\n",
      "30.869,30.9,30.9,1,2024,27\n",
      "30.896,30.89,30.877,1,2024,26\n",
      "30.904,30.897,30.893,1,2024,25\n",
      "30.899,30.896,30.902,1,2024,24\n",
      "30.901,30.945,30.908,1,2024,23\n",
      "30.859,30.932,30.901,1,2024,22\n",
      "30.876,30.875,30.89,1,2024,21\n",
      "30.849,30.867,30.867,1,2024,20\n",
      "30.898,30.901,30.845,1,2024,19\n",
      "30.901,30.901,30.898,1,2024,18\n",
      "30.906,30.895,30.898,1,2024,17\n",
      "30.9,30.94,30.895,1,2024,16\n",
      "30.904,30.929,30.941,1,2024,15\n",
      "30.911,30.9,30.918,1,2024,14\n",
      "30.859,30.9,30.9,1,2024,13\n",
      "30.904,30.898,30.851,1,2024,12\n",
      "30.924,30.926,30.893,1,2024,11\n",
      "30.902,30.897,30.895,1,2024,10\n",
      "30.898,30.904,30.897,1,2024,9\n",
      "30.792,30.901,30.904,1,2024,8\n",
      "30.687,30.757,30.722,1,2024,7\n",
      "30.757,30.801,30.757,1,2024,6\n",
      "30.799,30.8,30.757,1,2024,5\n",
      "30.839,30.919,30.797,1,2024,4\n",
      "30.903,30.929,30.924,1,2024,3\n",
      "30.908,31.004,30.925,1,2024,2\n",
      "30.938,31.015,31.036,1,2024,1\n",
      "30.947,31.009,30.968,12,2023,31\n",
      "30.862,30.925,30.925,12,2023,30\n",
      "30.924,30.923,30.857,12,2023,29\n",
      "30.918,30.899,30.924,12,2023,28\n",
      "30.85,30.938,30.803,12,2023,27\n",
      "30.87,30.826,30.802,12,2023,26\n",
      "30.844,30.899,30.868,12,2023,25\n",
      "30.848,30.933,30.883,12,2023,24\n",
      "30.809,30.901,30.9,12,2023,23\n",
      "30.893,30.899,30.872,12,2023,22\n",
      "30.903,30.896,30.913,12,2023,21\n",
      "30.902,30.926,30.901,12,2023,20\n",
      "30.904,30.924,30.922,12,2023,19\n",
      "30.91,31.073,30.896,12,2023,18\n",
      "30.928,30.904,30.923,12,2023,17\n",
      "30.883,30.923,30.883,12,2023,16\n",
      "30.921,30.93,30.886,12,2023,15\n",
      "30.907,30.924,30.933,12,2023,14\n",
      "30.899,30.896,30.897,12,2023,13\n",
      "30.891,30.914,30.924,12,2023,12\n",
      "30.906,30.9,30.926,12,2023,11\n",
      "30.926,30.971,30.944,12,2023,10\n",
      "30.887,30.9,30.887,12,2023,9\n",
      "30.892,30.905,30.887,12,2023,8\n",
      "30.908,30.901,30.902,12,2023,7\n",
      "30.899,30.937,30.952,12,2023,6\n",
      "30.807,30.912,30.798,12,2023,5\n",
      "30.905,30.933,30.919,12,2023,4\n",
      "30.93,30.918,30.924,12,2023,3\n",
      "30.895,30.906,30.9,12,2023,2\n",
      "30.892,30.977,30.906,12,2023,1\n",
      "30.898,30.955,30.898,11,2023,30\n",
      "30.907,30.93,30.948,11,2023,29\n",
      "30.903,30.92,30.918,11,2023,28\n",
      "30.827,30.899,30.897,11,2023,27\n",
      "30.805,30.885,30.828,11,2023,26\n",
      "30.897,30.957,30.9,11,2023,25\n",
      "30.899,30.932,30.897,11,2023,24\n",
      "30.9,30.93,30.902,11,2023,23\n",
      "30.9,30.894,30.906,11,2023,22\n",
      "30.934,30.891,30.905,11,2023,21\n",
      "30.832,30.936,30.935,11,2023,20\n",
      "30.791,30.917,30.813,11,2023,19\n",
      "30.913,30.925,30.925,11,2023,18\n",
      "30.92,30.921,30.913,11,2023,17\n",
      "30.896,30.922,30.929,11,2023,16\n",
      "30.91,30.905,30.918,11,2023,15\n",
      "30.899,30.898,30.907,11,2023,14\n",
      "30.874,30.902,30.901,11,2023,13\n",
      "30.809,30.88,30.862,11,2023,12\n",
      "30.824,30.9,30.9,11,2023,11\n",
      "30.891,30.899,30.815,11,2023,10\n",
      "30.898,30.905,30.895,11,2023,9\n",
      "30.883,30.907,30.898,11,2023,8\n",
      "30.806,30.902,30.8,11,2023,7\n",
      "30.731,30.915,30.909,11,2023,6\n",
      "30.667,30.875,30.659,11,2023,5\n",
      "30.647,30.901,30.9,11,2023,4\n",
      "30.904,30.903,30.9,11,2023,3\n",
      "30.901,30.941,30.899,11,2023,2\n",
      "30.902,30.896,30.89,11,2023,1\n",
      "30.914,30.934,30.92,10,2023,31\n",
      "30.9,30.897,30.899,10,2023,30\n",
      "30.855,30.882,30.882,10,2023,29\n",
      "30.856,30.9,30.9,10,2023,28\n",
      "30.894,30.896,30.875,10,2023,27\n",
      "30.881,30.903,30.901,10,2023,26\n",
      "30.899,30.936,30.899,10,2023,25\n",
      "30.923,30.937,30.919,10,2023,24\n",
      "30.902,30.898,30.905,10,2023,23\n",
      "30.879,30.892,30.902,10,2023,22\n",
      "30.864,30.9,30.9,10,2023,21\n",
      "30.909,30.889,30.862,10,2023,20\n",
      "30.926,30.884,30.897,10,2023,19\n",
      "48.333,48.6,48.348,4,2024,18\n",
      "48.494,48.786,48.49,4,2024,17\n",
      "48.271,48.658,48.497,4,2024,16\n",
      "47.865,47.863,47.86,4,2024,28\n",
      "47.862,48.431,47.861,4,2024,27\n",
      "47.902,47.865,47.861,4,2024,26\n",
      "47.904,47.902,47.901,4,2024,25\n",
      "47.846,48.022,47.9,4,2024,24\n",
      "48.117,48.048,48.046,4,2024,23\n",
      "48.163,48.432,48.16,4,2024,22\n",
      "48.225,48.295,48.275,4,2024,21\n",
      "48.269,48.33,48.268,4,2024,20\n",
      "48.266,48.433,48.266,4,2024,19\n",
      "47.852,47.877,47.858,4,2024,30\n",
      "47.64,47.85,47.851,4,2024,29\n",
      "47.991,47.996,47.937,7,2024,5\n",
      "30.897,48.098,47.984,7,2024,4\n",
      "48.157,48.141,48.132,7,2024,3\n",
      "48.136,48.168,48.151,7,2024,2\n",
      "47.899,48.207,48.299,7,2024,1\n",
      "47.899,47.941,47.91,6,2024,30\n",
      "47.977,47.977,47.977,6,2024,29\n",
      "48.035,48.003,47.977,6,2024,28\n",
      "48.053,48.081,48.03,6,2024,27\n",
      "48.049,48.658,48.045,6,2024,26\n",
      "48.257,48.363,48.386,6,2024,25\n",
      "47.717,48.431,48.322,6,2024,24\n",
      "47.717,47.708,47.706,6,2024,23\n",
      "47.66,47.708,47.708,6,2024,22\n",
      "47.706,47.686,47.69,6,2024,21\n",
      "47.712,47.713,47.711,6,2024,20\n",
      "47.719,47.701,47.711,6,2024,19\n",
      "47.712,47.704,47.7,6,2024,18\n",
      "47.704,47.709,47.713,6,2024,17\n",
      "47.635,47.749,47.713,6,2024,16\n",
      "47.586,47.699,47.71,6,2024,15\n",
      "47.682,47.704,47.655,6,2024,14\n",
      "47.682,47.756,47.709,6,2024,13\n",
      "47.558,47.711,47.698,6,2024,12\n",
      "47.573,47.689,47.563,6,2024,11\n",
      "47.634,47.742,47.7,6,2024,10\n",
      "47.532,47.754,47.718,6,2024,9\n",
      "47.435,47.53,47.53,6,2024,8\n",
      "47.518,47.522,47.53,6,2024,7\n",
      "47.465,47.593,47.51,6,2024,6\n",
      "47.456,47.652,47.588,6,2024,5\n",
      "47.259,47.374,47.451,6,2024,4\n",
      "47.178,47.102,47.102,6,2024,3\n",
      "47.213,47.24,47.189,6,2024,2\n",
      "47.033,47.27,47.27,6,2024,1\n",
      "47.243,47.272,47.218,5,2024,31\n",
      "47.216,47.338,47.241,5,2024,30\n",
      "47.303,47.558,47.351,5,2024,29\n",
      "47.22,47.542,47.581,5,2024,28\n",
      "46.917,47.187,47.167,5,2024,27\n",
      "47.127,47.156,47.139,5,2024,26\n",
      "46.846,47.144,47.125,5,2024,25\n",
      "47.143,47.148,47.121,5,2024,24\n",
      "46.891,47.244,47.151,5,2024,23\n",
      "46.63,46.752,46.782,5,2024,22\n",
      "46.656,46.689,46.729,5,2024,21\n",
      "46.619,46.861,46.637,5,2024,20\n",
      "46.819,46.918,46.925,5,2024,19\n",
      "46.679,46.91,46.91,5,2024,18\n",
      "46.906,46.913,46.852,5,2024,17\n",
      "46.886,47.425,46.908,5,2024,16\n",
      "46.843,46.832,46.832,5,2024,15\n",
      "46.925,46.976,46.846,5,2024,14\n",
      "47.065,47.241,47.065,5,2024,13\n",
      "47.32,47.387,47.393,5,2024,12\n",
      "47.135,47.322,47.322,5,2024,11\n",
      "47.393,47.4,47.322,5,2024,10\n",
      "47.324,47.508,47.398,5,2024,9\n",
      "47.559,47.711,47.557,5,2024,8\n",
      "47.72,47.947,47.726,5,2024,7\n",
      "47.95,47.944,47.946,5,2024,6\n",
      "47.894,47.931,47.942,5,2024,5\n",
      "47.894,48.087,47.894,5,2024,4\n",
      "47.949,47.952,47.896,5,2024,3\n",
      "47.847,47.978,47.938,5,2024,2\n",
      "47.886,47.729,47.671,5,2024,1\n",
      "\n"
     ]
    }
   ],
   "source": [
    "with open(\"D:/Labtop Sharing/exchange_rate_data.csv\",\"r\") as file1:\n",
    "    file_content= file1.read()\n",
    "    print(file_content)\n"
   ]
  },
  {
   "cell_type": "code",
   "execution_count": 3,
   "id": "70226304",
   "metadata": {},
   "outputs": [
    {
     "data": {
      "text/plain": [
       "True"
      ]
     },
     "execution_count": 3,
     "metadata": {},
     "output_type": "execute_result"
    }
   ],
   "source": [
    "file1.closed\n"
   ]
  },
  {
   "cell_type": "markdown",
   "id": "8f461f85",
   "metadata": {},
   "source": [
    "## Writing files with open:"
   ]
  },
  {
   "cell_type": "code",
   "execution_count": 9,
   "id": "c6bb21d1",
   "metadata": {},
   "outputs": [],
   "source": [
    "file1 = open(\"D:/Labtop Sharing/Jupyter notebook/Python for data science/example2.txt\",\"w\")"
   ]
  },
  {
   "cell_type": "code",
   "execution_count": 7,
   "id": "cc37a095",
   "metadata": {},
   "outputs": [
    {
     "data": {
      "text/plain": [
       "14"
      ]
     },
     "execution_count": 7,
     "metadata": {},
     "output_type": "execute_result"
    }
   ],
   "source": [
    "file1.write(\"This Is Line 1\\n\")"
   ]
  },
  {
   "cell_type": "code",
   "execution_count": 10,
   "id": "9532bd36",
   "metadata": {},
   "outputs": [],
   "source": [
    "file1.close()"
   ]
  },
  {
   "cell_type": "code",
   "execution_count": 11,
   "id": "3ec7f574",
   "metadata": {},
   "outputs": [],
   "source": [
    "lines = [\"This is Line A\\n\",\"This is Line B\\n\",\"This is Line C\\n\"]\n",
    "\n",
    "with open(\"D:/Labtop Sharing/Jupyter notebook/Python for data science/example2.txt\",\"w\") as file1:\n",
    "    for line in lines:\n",
    "        file1.write(line)"
   ]
  },
  {
   "cell_type": "code",
   "execution_count": 13,
   "id": "2897f994",
   "metadata": {},
   "outputs": [],
   "source": [
    "lines = [\"This is Line E\\n\"]\n",
    "\n",
    "with open(\"D:/Labtop Sharing/Jupyter notebook/Python for data science/example2.txt\",\"a\") as file1:\n",
    "    for line in lines:\n",
    "        file1.write(line)"
   ]
  },
  {
   "cell_type": "markdown",
   "id": "352d8fd4",
   "metadata": {},
   "source": []
  },
  {
   "cell_type": "code",
   "execution_count": 14,
   "id": "219fdc2e",
   "metadata": {},
   "outputs": [],
   "source": [
    "with open(\"D:/Labtop Sharing/Jupyter notebook/Python for data science/example1.txt\",\"r\") as readfile:\n",
    "    with open(\"D:/Labtop Sharing/Jupyter notebook/Python for data science/example3.txt\",\"w\") as writefile:\n",
    "        for line in readfile:\n",
    "            writefile.write(line)"
   ]
  },
  {
   "cell_type": "markdown",
   "id": "01b91f90",
   "metadata": {},
   "source": [
    "## Loading Data with Pandas"
   ]
  },
  {
   "cell_type": "code",
   "execution_count": 46,
   "id": "c84de913",
   "metadata": {},
   "outputs": [],
   "source": [
    "import pandas as pd\n",
    "from datetime import datetime\n"
   ]
  },
  {
   "cell_type": "code",
   "execution_count": null,
   "id": "3d926196",
   "metadata": {},
   "outputs": [],
   "source": [
    "\n",
    "df = pd.read_excel(r\"D:/Sharing/Eductaion/Jupyter Notebook/Python-for-data-science/StockSaleOut.xlsx\")"
   ]
  },
  {
   "cell_type": "code",
   "execution_count": 15,
   "id": "7bdcc608",
   "metadata": {},
   "outputs": [
    {
     "data": {
      "text/html": [
       "<div>\n",
       "<style scoped>\n",
       "    .dataframe tbody tr th:only-of-type {\n",
       "        vertical-align: middle;\n",
       "    }\n",
       "\n",
       "    .dataframe tbody tr th {\n",
       "        vertical-align: top;\n",
       "    }\n",
       "\n",
       "    .dataframe thead th {\n",
       "        text-align: right;\n",
       "    }\n",
       "</style>\n",
       "<table border=\"1\" class=\"dataframe\">\n",
       "  <thead>\n",
       "    <tr style=\"text-align: right;\">\n",
       "      <th></th>\n",
       "      <th>Order date</th>\n",
       "      <th>Order code</th>\n",
       "      <th>Order type</th>\n",
       "      <th>Classification code</th>\n",
       "      <th>Item code</th>\n",
       "      <th>Stock item</th>\n",
       "      <th>Quantity</th>\n",
       "      <th>DealerPrice</th>\n",
       "      <th>Price</th>\n",
       "      <th>Part number</th>\n",
       "      <th>Warehouse</th>\n",
       "      <th>Related Order</th>\n",
       "      <th>Serials</th>\n",
       "    </tr>\n",
       "  </thead>\n",
       "  <tbody>\n",
       "    <tr>\n",
       "      <th>0</th>\n",
       "      <td>2024-07-01 00:02:50</td>\n",
       "      <td>IO-15-7758</td>\n",
       "      <td>IO</td>\n",
       "      <td>1-1-1-1-2-34-27-33</td>\n",
       "      <td>139078.0</td>\n",
       "      <td>IPHONE 15 PRO MAX 256GB NATURAL TITANIUM WG</td>\n",
       "      <td>1</td>\n",
       "      <td>0.0</td>\n",
       "      <td>59500.00</td>\n",
       "      <td>195949048456/195949046575</td>\n",
       "      <td>City center - Alex</td>\n",
       "      <td>SO-15-7524</td>\n",
       "      <td>354242630999738 :</td>\n",
       "    </tr>\n",
       "    <tr>\n",
       "      <th>1</th>\n",
       "      <td>2024-07-01 10:55:41</td>\n",
       "      <td>IO-2-35922</td>\n",
       "      <td>IO</td>\n",
       "      <td>1-1-29-15-2-3-13</td>\n",
       "      <td>154546.0</td>\n",
       "      <td>SAMSUNG S24 ULTRA 256/12GB TITANIUM GRAY WG</td>\n",
       "      <td>1</td>\n",
       "      <td>0.0</td>\n",
       "      <td>47000.00</td>\n",
       "      <td>8806095302447</td>\n",
       "      <td>Miami center - Miami</td>\n",
       "      <td>SO-2-36880</td>\n",
       "      <td>353437175352159 :</td>\n",
       "    </tr>\n",
       "    <tr>\n",
       "      <th>2</th>\n",
       "      <td>2024-07-01 12:35:29</td>\n",
       "      <td>IO-4-25250</td>\n",
       "      <td>IO</td>\n",
       "      <td>1-1-1-1-2-33-20-1</td>\n",
       "      <td>64716.0</td>\n",
       "      <td>IPHONE 13 english 128GB STARLIGHT WG</td>\n",
       "      <td>1</td>\n",
       "      <td>0.0</td>\n",
       "      <td>29700.00</td>\n",
       "      <td>194252705421/194252786246</td>\n",
       "      <td>Miami center -San</td>\n",
       "      <td>SO-4-25267</td>\n",
       "      <td>352585505193395 :</td>\n",
       "    </tr>\n",
       "    <tr>\n",
       "      <th>3</th>\n",
       "      <td>2024-07-01 12:41:21</td>\n",
       "      <td>IO-2-35923</td>\n",
       "      <td>IO</td>\n",
       "      <td>1-1-1-1-2-33-20-1</td>\n",
       "      <td>97789.0</td>\n",
       "      <td>IPHONE 13 ENGLISH 128GB GREEN WG</td>\n",
       "      <td>1</td>\n",
       "      <td>0.0</td>\n",
       "      <td>29200.00</td>\n",
       "      <td>194253128830/194253129011/194253128458</td>\n",
       "      <td>Miami center - Miami</td>\n",
       "      <td>SO-2-36881</td>\n",
       "      <td>350340395055276 :</td>\n",
       "    </tr>\n",
       "    <tr>\n",
       "      <th>4</th>\n",
       "      <td>2024-07-01 12:55:05</td>\n",
       "      <td>IO-11-355</td>\n",
       "      <td>IO</td>\n",
       "      <td>1-1-29-7-45</td>\n",
       "      <td>128138.0</td>\n",
       "      <td>REDMI 12 MIDNIGHT BLACK 128GB/8 GB ROM G</td>\n",
       "      <td>1</td>\n",
       "      <td>0.0</td>\n",
       "      <td>10424.17</td>\n",
       "      <td>6941812739334</td>\n",
       "      <td>E- Commerce</td>\n",
       "      <td>SO-11-348</td>\n",
       "      <td>863138073502548 :</td>\n",
       "    </tr>\n",
       "  </tbody>\n",
       "</table>\n",
       "</div>"
      ],
      "text/plain": [
       "           Order date  Order code Order type Classification code  Item code  \\\n",
       "0 2024-07-01 00:02:50  IO-15-7758         IO  1-1-1-1-2-34-27-33   139078.0   \n",
       "1 2024-07-01 10:55:41  IO-2-35922         IO    1-1-29-15-2-3-13   154546.0   \n",
       "2 2024-07-01 12:35:29  IO-4-25250         IO   1-1-1-1-2-33-20-1    64716.0   \n",
       "3 2024-07-01 12:41:21  IO-2-35923         IO   1-1-1-1-2-33-20-1    97789.0   \n",
       "4 2024-07-01 12:55:05   IO-11-355         IO         1-1-29-7-45   128138.0   \n",
       "\n",
       "                                    Stock item  Quantity  DealerPrice  \\\n",
       "0  IPHONE 15 PRO MAX 256GB NATURAL TITANIUM WG         1          0.0   \n",
       "1  SAMSUNG S24 ULTRA 256/12GB TITANIUM GRAY WG         1          0.0   \n",
       "2         IPHONE 13 english 128GB STARLIGHT WG         1          0.0   \n",
       "3             IPHONE 13 ENGLISH 128GB GREEN WG         1          0.0   \n",
       "4     REDMI 12 MIDNIGHT BLACK 128GB/8 GB ROM G         1          0.0   \n",
       "\n",
       "      Price                             Part number             Warehouse  \\\n",
       "0  59500.00               195949048456/195949046575    City center - Alex   \n",
       "1  47000.00                           8806095302447  Miami center - Miami   \n",
       "2  29700.00               194252705421/194252786246     Miami center -San   \n",
       "3  29200.00  194253128830/194253129011/194253128458  Miami center - Miami   \n",
       "4  10424.17                           6941812739334           E- Commerce   \n",
       "\n",
       "  Related Order             Serials  \n",
       "0    SO-15-7524  354242630999738 :   \n",
       "1    SO-2-36880  353437175352159 :   \n",
       "2    SO-4-25267  352585505193395 :   \n",
       "3    SO-2-36881  350340395055276 :   \n",
       "4     SO-11-348  863138073502548 :   "
      ]
     },
     "execution_count": 15,
     "metadata": {},
     "output_type": "execute_result"
    }
   ],
   "source": [
    "df.head()"
   ]
  },
  {
   "cell_type": "code",
   "execution_count": 26,
   "id": "389f0c6b",
   "metadata": {},
   "outputs": [
    {
     "data": {
      "text/html": [
       "<div>\n",
       "<style scoped>\n",
       "    .dataframe tbody tr th:only-of-type {\n",
       "        vertical-align: middle;\n",
       "    }\n",
       "\n",
       "    .dataframe tbody tr th {\n",
       "        vertical-align: top;\n",
       "    }\n",
       "\n",
       "    .dataframe thead th {\n",
       "        text-align: right;\n",
       "    }\n",
       "</style>\n",
       "<table border=\"1\" class=\"dataframe\">\n",
       "  <thead>\n",
       "    <tr style=\"text-align: right;\">\n",
       "      <th></th>\n",
       "      <th>Order date</th>\n",
       "      <th>Order code</th>\n",
       "      <th>Order type</th>\n",
       "      <th>Classification code</th>\n",
       "      <th>Item code</th>\n",
       "      <th>Stock item</th>\n",
       "      <th>Quantity</th>\n",
       "      <th>DealerPrice</th>\n",
       "      <th>Price</th>\n",
       "      <th>Part number</th>\n",
       "      <th>Warehouse</th>\n",
       "      <th>Related Order</th>\n",
       "      <th>Serials</th>\n",
       "      <th>Net Value</th>\n",
       "    </tr>\n",
       "  </thead>\n",
       "  <tbody>\n",
       "    <tr>\n",
       "      <th>0</th>\n",
       "      <td>2024-07-01 00:02:50</td>\n",
       "      <td>IO-15-7758</td>\n",
       "      <td>IO</td>\n",
       "      <td>1-1-1-1-2-34-27-33</td>\n",
       "      <td>139078.0</td>\n",
       "      <td>IPHONE 15 PRO MAX 256GB NATURAL TITANIUM WG</td>\n",
       "      <td>1</td>\n",
       "      <td>0.0</td>\n",
       "      <td>59500.00</td>\n",
       "      <td>195949048456/195949046575</td>\n",
       "      <td>City center - Alex</td>\n",
       "      <td>SO-15-7524</td>\n",
       "      <td>354242630999738 :</td>\n",
       "      <td>59500.00</td>\n",
       "    </tr>\n",
       "    <tr>\n",
       "      <th>1</th>\n",
       "      <td>2024-07-01 10:55:41</td>\n",
       "      <td>IO-2-35922</td>\n",
       "      <td>IO</td>\n",
       "      <td>1-1-29-15-2-3-13</td>\n",
       "      <td>154546.0</td>\n",
       "      <td>SAMSUNG S24 ULTRA 256/12GB TITANIUM GRAY WG</td>\n",
       "      <td>1</td>\n",
       "      <td>0.0</td>\n",
       "      <td>47000.00</td>\n",
       "      <td>8806095302447</td>\n",
       "      <td>Miami center - Miami</td>\n",
       "      <td>SO-2-36880</td>\n",
       "      <td>353437175352159 :</td>\n",
       "      <td>47000.00</td>\n",
       "    </tr>\n",
       "    <tr>\n",
       "      <th>2</th>\n",
       "      <td>2024-07-01 12:35:29</td>\n",
       "      <td>IO-4-25250</td>\n",
       "      <td>IO</td>\n",
       "      <td>1-1-1-1-2-33-20-1</td>\n",
       "      <td>64716.0</td>\n",
       "      <td>IPHONE 13 english 128GB STARLIGHT WG</td>\n",
       "      <td>1</td>\n",
       "      <td>0.0</td>\n",
       "      <td>29700.00</td>\n",
       "      <td>194252705421/194252786246</td>\n",
       "      <td>Miami center -San</td>\n",
       "      <td>SO-4-25267</td>\n",
       "      <td>352585505193395 :</td>\n",
       "      <td>29700.00</td>\n",
       "    </tr>\n",
       "    <tr>\n",
       "      <th>3</th>\n",
       "      <td>2024-07-01 12:41:21</td>\n",
       "      <td>IO-2-35923</td>\n",
       "      <td>IO</td>\n",
       "      <td>1-1-1-1-2-33-20-1</td>\n",
       "      <td>97789.0</td>\n",
       "      <td>IPHONE 13 ENGLISH 128GB GREEN WG</td>\n",
       "      <td>1</td>\n",
       "      <td>0.0</td>\n",
       "      <td>29200.00</td>\n",
       "      <td>194253128830/194253129011/194253128458</td>\n",
       "      <td>Miami center - Miami</td>\n",
       "      <td>SO-2-36881</td>\n",
       "      <td>350340395055276 :</td>\n",
       "      <td>29200.00</td>\n",
       "    </tr>\n",
       "    <tr>\n",
       "      <th>4</th>\n",
       "      <td>2024-07-01 12:55:05</td>\n",
       "      <td>IO-11-355</td>\n",
       "      <td>IO</td>\n",
       "      <td>1-1-29-7-45</td>\n",
       "      <td>128138.0</td>\n",
       "      <td>REDMI 12 MIDNIGHT BLACK 128GB/8 GB ROM G</td>\n",
       "      <td>1</td>\n",
       "      <td>0.0</td>\n",
       "      <td>10424.17</td>\n",
       "      <td>6941812739334</td>\n",
       "      <td>E- Commerce</td>\n",
       "      <td>SO-11-348</td>\n",
       "      <td>863138073502548 :</td>\n",
       "      <td>10424.17</td>\n",
       "    </tr>\n",
       "  </tbody>\n",
       "</table>\n",
       "</div>"
      ],
      "text/plain": [
       "           Order date  Order code Order type Classification code  Item code  \\\n",
       "0 2024-07-01 00:02:50  IO-15-7758         IO  1-1-1-1-2-34-27-33   139078.0   \n",
       "1 2024-07-01 10:55:41  IO-2-35922         IO    1-1-29-15-2-3-13   154546.0   \n",
       "2 2024-07-01 12:35:29  IO-4-25250         IO   1-1-1-1-2-33-20-1    64716.0   \n",
       "3 2024-07-01 12:41:21  IO-2-35923         IO   1-1-1-1-2-33-20-1    97789.0   \n",
       "4 2024-07-01 12:55:05   IO-11-355         IO         1-1-29-7-45   128138.0   \n",
       "\n",
       "                                    Stock item  Quantity  DealerPrice  \\\n",
       "0  IPHONE 15 PRO MAX 256GB NATURAL TITANIUM WG         1          0.0   \n",
       "1  SAMSUNG S24 ULTRA 256/12GB TITANIUM GRAY WG         1          0.0   \n",
       "2         IPHONE 13 english 128GB STARLIGHT WG         1          0.0   \n",
       "3             IPHONE 13 ENGLISH 128GB GREEN WG         1          0.0   \n",
       "4     REDMI 12 MIDNIGHT BLACK 128GB/8 GB ROM G         1          0.0   \n",
       "\n",
       "      Price                             Part number             Warehouse  \\\n",
       "0  59500.00               195949048456/195949046575    City center - Alex   \n",
       "1  47000.00                           8806095302447  Miami center - Miami   \n",
       "2  29700.00               194252705421/194252786246     Miami center -San   \n",
       "3  29200.00  194253128830/194253129011/194253128458  Miami center - Miami   \n",
       "4  10424.17                           6941812739334           E- Commerce   \n",
       "\n",
       "  Related Order             Serials  Net Value  \n",
       "0    SO-15-7524  354242630999738 :    59500.00  \n",
       "1    SO-2-36880  353437175352159 :    47000.00  \n",
       "2    SO-4-25267  352585505193395 :    29700.00  \n",
       "3    SO-2-36881  350340395055276 :    29200.00  \n",
       "4     SO-11-348  863138073502548 :    10424.17  "
      ]
     },
     "execution_count": 26,
     "metadata": {},
     "output_type": "execute_result"
    }
   ],
   "source": [
    "df[\"Net Value\"] = df[\"Quantity\"] * df[\"Price\"]"
   ]
  },
  {
   "cell_type": "code",
   "execution_count": 53,
   "id": "7e99d48b",
   "metadata": {},
   "outputs": [
    {
     "name": "stdout",
     "output_type": "stream",
     "text": [
      "<class 'pandas.core.frame.DataFrame'>\n",
      "RangeIndex: 3564 entries, 0 to 3563\n",
      "Data columns (total 14 columns):\n",
      " #   Column               Non-Null Count  Dtype         \n",
      "---  ------               --------------  -----         \n",
      " 0   Order date           3563 non-null   datetime64[ns]\n",
      " 1   Order code           3563 non-null   object        \n",
      " 2   Order type           3563 non-null   object        \n",
      " 3   Classification code  3563 non-null   object        \n",
      " 4   Item code            3563 non-null   float64       \n",
      " 5   Stock item           3563 non-null   object        \n",
      " 6   Quantity             3564 non-null   int64         \n",
      " 7   DealerPrice          3563 non-null   float64       \n",
      " 8   Price                3563 non-null   float64       \n",
      " 9   Part number          3563 non-null   object        \n",
      " 10  Warehouse            3563 non-null   object        \n",
      " 11  Related Order        3554 non-null   object        \n",
      " 12  Serials              3563 non-null   object        \n",
      " 13  Net Value            3563 non-null   float64       \n",
      "dtypes: datetime64[ns](1), float64(4), int64(1), object(8)\n",
      "memory usage: 389.9+ KB\n"
     ]
    }
   ],
   "source": [
    "df.info()"
   ]
  },
  {
   "cell_type": "code",
   "execution_count": 54,
   "id": "5cef8f31",
   "metadata": {},
   "outputs": [
    {
     "data": {
      "text/html": [
       "<div>\n",
       "<style scoped>\n",
       "    .dataframe tbody tr th:only-of-type {\n",
       "        vertical-align: middle;\n",
       "    }\n",
       "\n",
       "    .dataframe tbody tr th {\n",
       "        vertical-align: top;\n",
       "    }\n",
       "\n",
       "    .dataframe thead th {\n",
       "        text-align: right;\n",
       "    }\n",
       "</style>\n",
       "<table border=\"1\" class=\"dataframe\">\n",
       "  <thead>\n",
       "    <tr style=\"text-align: right;\">\n",
       "      <th></th>\n",
       "      <th>Order date</th>\n",
       "      <th>Order code</th>\n",
       "      <th>Order type</th>\n",
       "      <th>Classification code</th>\n",
       "      <th>Item code</th>\n",
       "      <th>Stock item</th>\n",
       "      <th>Quantity</th>\n",
       "      <th>DealerPrice</th>\n",
       "      <th>Price</th>\n",
       "      <th>Part number</th>\n",
       "      <th>Warehouse</th>\n",
       "      <th>Related Order</th>\n",
       "      <th>Serials</th>\n",
       "      <th>Net Value</th>\n",
       "      <th>Order day</th>\n",
       "    </tr>\n",
       "  </thead>\n",
       "  <tbody>\n",
       "    <tr>\n",
       "      <th>0</th>\n",
       "      <td>2024-07-01 00:02:50</td>\n",
       "      <td>IO-15-7758</td>\n",
       "      <td>IO</td>\n",
       "      <td>1-1-1-1-2-34-27-33</td>\n",
       "      <td>139078.0</td>\n",
       "      <td>IPHONE 15 PRO MAX 256GB NATURAL TITANIUM WG</td>\n",
       "      <td>1</td>\n",
       "      <td>0.0</td>\n",
       "      <td>59500.00</td>\n",
       "      <td>195949048456/195949046575</td>\n",
       "      <td>City center - Alex</td>\n",
       "      <td>SO-15-7524</td>\n",
       "      <td>354242630999738 :</td>\n",
       "      <td>59500.00</td>\n",
       "      <td>2024/07/01</td>\n",
       "    </tr>\n",
       "    <tr>\n",
       "      <th>1</th>\n",
       "      <td>2024-07-01 10:55:41</td>\n",
       "      <td>IO-2-35922</td>\n",
       "      <td>IO</td>\n",
       "      <td>1-1-29-15-2-3-13</td>\n",
       "      <td>154546.0</td>\n",
       "      <td>SAMSUNG S24 ULTRA 256/12GB TITANIUM GRAY WG</td>\n",
       "      <td>1</td>\n",
       "      <td>0.0</td>\n",
       "      <td>47000.00</td>\n",
       "      <td>8806095302447</td>\n",
       "      <td>Miami center - Miami</td>\n",
       "      <td>SO-2-36880</td>\n",
       "      <td>353437175352159 :</td>\n",
       "      <td>47000.00</td>\n",
       "      <td>2024/07/01</td>\n",
       "    </tr>\n",
       "    <tr>\n",
       "      <th>2</th>\n",
       "      <td>2024-07-01 12:35:29</td>\n",
       "      <td>IO-4-25250</td>\n",
       "      <td>IO</td>\n",
       "      <td>1-1-1-1-2-33-20-1</td>\n",
       "      <td>64716.0</td>\n",
       "      <td>IPHONE 13 english 128GB STARLIGHT WG</td>\n",
       "      <td>1</td>\n",
       "      <td>0.0</td>\n",
       "      <td>29700.00</td>\n",
       "      <td>194252705421/194252786246</td>\n",
       "      <td>Miami center -San</td>\n",
       "      <td>SO-4-25267</td>\n",
       "      <td>352585505193395 :</td>\n",
       "      <td>29700.00</td>\n",
       "      <td>2024/07/01</td>\n",
       "    </tr>\n",
       "    <tr>\n",
       "      <th>3</th>\n",
       "      <td>2024-07-01 12:41:21</td>\n",
       "      <td>IO-2-35923</td>\n",
       "      <td>IO</td>\n",
       "      <td>1-1-1-1-2-33-20-1</td>\n",
       "      <td>97789.0</td>\n",
       "      <td>IPHONE 13 ENGLISH 128GB GREEN WG</td>\n",
       "      <td>1</td>\n",
       "      <td>0.0</td>\n",
       "      <td>29200.00</td>\n",
       "      <td>194253128830/194253129011/194253128458</td>\n",
       "      <td>Miami center - Miami</td>\n",
       "      <td>SO-2-36881</td>\n",
       "      <td>350340395055276 :</td>\n",
       "      <td>29200.00</td>\n",
       "      <td>2024/07/01</td>\n",
       "    </tr>\n",
       "    <tr>\n",
       "      <th>4</th>\n",
       "      <td>2024-07-01 12:55:05</td>\n",
       "      <td>IO-11-355</td>\n",
       "      <td>IO</td>\n",
       "      <td>1-1-29-7-45</td>\n",
       "      <td>128138.0</td>\n",
       "      <td>REDMI 12 MIDNIGHT BLACK 128GB/8 GB ROM G</td>\n",
       "      <td>1</td>\n",
       "      <td>0.0</td>\n",
       "      <td>10424.17</td>\n",
       "      <td>6941812739334</td>\n",
       "      <td>E- Commerce</td>\n",
       "      <td>SO-11-348</td>\n",
       "      <td>863138073502548 :</td>\n",
       "      <td>10424.17</td>\n",
       "      <td>2024/07/01</td>\n",
       "    </tr>\n",
       "  </tbody>\n",
       "</table>\n",
       "</div>"
      ],
      "text/plain": [
       "           Order date  Order code Order type Classification code  Item code  \\\n",
       "0 2024-07-01 00:02:50  IO-15-7758         IO  1-1-1-1-2-34-27-33   139078.0   \n",
       "1 2024-07-01 10:55:41  IO-2-35922         IO    1-1-29-15-2-3-13   154546.0   \n",
       "2 2024-07-01 12:35:29  IO-4-25250         IO   1-1-1-1-2-33-20-1    64716.0   \n",
       "3 2024-07-01 12:41:21  IO-2-35923         IO   1-1-1-1-2-33-20-1    97789.0   \n",
       "4 2024-07-01 12:55:05   IO-11-355         IO         1-1-29-7-45   128138.0   \n",
       "\n",
       "                                    Stock item  Quantity  DealerPrice  \\\n",
       "0  IPHONE 15 PRO MAX 256GB NATURAL TITANIUM WG         1          0.0   \n",
       "1  SAMSUNG S24 ULTRA 256/12GB TITANIUM GRAY WG         1          0.0   \n",
       "2         IPHONE 13 english 128GB STARLIGHT WG         1          0.0   \n",
       "3             IPHONE 13 ENGLISH 128GB GREEN WG         1          0.0   \n",
       "4     REDMI 12 MIDNIGHT BLACK 128GB/8 GB ROM G         1          0.0   \n",
       "\n",
       "      Price                             Part number             Warehouse  \\\n",
       "0  59500.00               195949048456/195949046575    City center - Alex   \n",
       "1  47000.00                           8806095302447  Miami center - Miami   \n",
       "2  29700.00               194252705421/194252786246     Miami center -San   \n",
       "3  29200.00  194253128830/194253129011/194253128458  Miami center - Miami   \n",
       "4  10424.17                           6941812739334           E- Commerce   \n",
       "\n",
       "  Related Order             Serials  Net Value   Order day  \n",
       "0    SO-15-7524  354242630999738 :    59500.00  2024/07/01  \n",
       "1    SO-2-36880  353437175352159 :    47000.00  2024/07/01  \n",
       "2    SO-4-25267  352585505193395 :    29700.00  2024/07/01  \n",
       "3    SO-2-36881  350340395055276 :    29200.00  2024/07/01  \n",
       "4     SO-11-348  863138073502548 :    10424.17  2024/07/01  "
      ]
     },
     "execution_count": 54,
     "metadata": {},
     "output_type": "execute_result"
    }
   ],
   "source": [
    "df['Order day'] = df['Order date'].dt.strftime('%Y/%m/%d')\n",
    "df.head()"
   ]
  },
  {
   "cell_type": "code",
   "execution_count": 55,
   "id": "286af594",
   "metadata": {},
   "outputs": [
    {
     "data": {
      "text/html": [
       "<div>\n",
       "<style scoped>\n",
       "    .dataframe tbody tr th:only-of-type {\n",
       "        vertical-align: middle;\n",
       "    }\n",
       "\n",
       "    .dataframe tbody tr th {\n",
       "        vertical-align: top;\n",
       "    }\n",
       "\n",
       "    .dataframe thead th {\n",
       "        text-align: right;\n",
       "    }\n",
       "</style>\n",
       "<table border=\"1\" class=\"dataframe\">\n",
       "  <thead>\n",
       "    <tr style=\"text-align: right;\">\n",
       "      <th></th>\n",
       "      <th>Order day</th>\n",
       "      <th>Stock item</th>\n",
       "      <th>Quantity</th>\n",
       "      <th>Price</th>\n",
       "      <th>Warehouse</th>\n",
       "      <th>Net Value</th>\n",
       "    </tr>\n",
       "  </thead>\n",
       "  <tbody>\n",
       "    <tr>\n",
       "      <th>0</th>\n",
       "      <td>2024/07/01</td>\n",
       "      <td>IPHONE 15 PRO MAX 256GB NATURAL TITANIUM WG</td>\n",
       "      <td>1</td>\n",
       "      <td>59500.00</td>\n",
       "      <td>City center - Alex</td>\n",
       "      <td>59500.00</td>\n",
       "    </tr>\n",
       "    <tr>\n",
       "      <th>1</th>\n",
       "      <td>2024/07/01</td>\n",
       "      <td>SAMSUNG S24 ULTRA 256/12GB TITANIUM GRAY WG</td>\n",
       "      <td>1</td>\n",
       "      <td>47000.00</td>\n",
       "      <td>Miami center - Miami</td>\n",
       "      <td>47000.00</td>\n",
       "    </tr>\n",
       "    <tr>\n",
       "      <th>2</th>\n",
       "      <td>2024/07/01</td>\n",
       "      <td>IPHONE 13 english 128GB STARLIGHT WG</td>\n",
       "      <td>1</td>\n",
       "      <td>29700.00</td>\n",
       "      <td>Miami center -San</td>\n",
       "      <td>29700.00</td>\n",
       "    </tr>\n",
       "    <tr>\n",
       "      <th>3</th>\n",
       "      <td>2024/07/01</td>\n",
       "      <td>IPHONE 13 ENGLISH 128GB GREEN WG</td>\n",
       "      <td>1</td>\n",
       "      <td>29200.00</td>\n",
       "      <td>Miami center - Miami</td>\n",
       "      <td>29200.00</td>\n",
       "    </tr>\n",
       "    <tr>\n",
       "      <th>4</th>\n",
       "      <td>2024/07/01</td>\n",
       "      <td>REDMI 12 MIDNIGHT BLACK 128GB/8 GB ROM G</td>\n",
       "      <td>1</td>\n",
       "      <td>10424.17</td>\n",
       "      <td>E- Commerce</td>\n",
       "      <td>10424.17</td>\n",
       "    </tr>\n",
       "    <tr>\n",
       "      <th>...</th>\n",
       "      <td>...</td>\n",
       "      <td>...</td>\n",
       "      <td>...</td>\n",
       "      <td>...</td>\n",
       "      <td>...</td>\n",
       "      <td>...</td>\n",
       "    </tr>\n",
       "    <tr>\n",
       "      <th>3559</th>\n",
       "      <td>2024/07/31</td>\n",
       "      <td>USED IPHONE 11 128GB GREEN WG 74% BATTERY + WI...</td>\n",
       "      <td>1</td>\n",
       "      <td>10000.00</td>\n",
       "      <td>City stars</td>\n",
       "      <td>10000.00</td>\n",
       "    </tr>\n",
       "    <tr>\n",
       "      <th>3560</th>\n",
       "      <td>2024/07/31</td>\n",
       "      <td>IPHONE 15 PINK ENGLISH 128 WG</td>\n",
       "      <td>1</td>\n",
       "      <td>36900.00</td>\n",
       "      <td>Miami center -San</td>\n",
       "      <td>36900.00</td>\n",
       "    </tr>\n",
       "    <tr>\n",
       "      <th>3561</th>\n",
       "      <td>2024/07/31</td>\n",
       "      <td>SAMSUNG GALAXY A05S 128/6GB SILVER G</td>\n",
       "      <td>1</td>\n",
       "      <td>6050.00</td>\n",
       "      <td>Miami center - Miami</td>\n",
       "      <td>6050.00</td>\n",
       "    </tr>\n",
       "    <tr>\n",
       "      <th>3562</th>\n",
       "      <td>2024/07/31</td>\n",
       "      <td>IPHONE 15 PRO MAX 256GB BLUE TITANIUM WG</td>\n",
       "      <td>1</td>\n",
       "      <td>58300.00</td>\n",
       "      <td>City center - Alex</td>\n",
       "      <td>58300.00</td>\n",
       "    </tr>\n",
       "    <tr>\n",
       "      <th>3563</th>\n",
       "      <td>NaN</td>\n",
       "      <td>NaN</td>\n",
       "      <td>3396</td>\n",
       "      <td>NaN</td>\n",
       "      <td>NaN</td>\n",
       "      <td>NaN</td>\n",
       "    </tr>\n",
       "  </tbody>\n",
       "</table>\n",
       "<p>3564 rows × 6 columns</p>\n",
       "</div>"
      ],
      "text/plain": [
       "       Order day                                         Stock item  Quantity  \\\n",
       "0     2024/07/01        IPHONE 15 PRO MAX 256GB NATURAL TITANIUM WG         1   \n",
       "1     2024/07/01        SAMSUNG S24 ULTRA 256/12GB TITANIUM GRAY WG         1   \n",
       "2     2024/07/01               IPHONE 13 english 128GB STARLIGHT WG         1   \n",
       "3     2024/07/01                   IPHONE 13 ENGLISH 128GB GREEN WG         1   \n",
       "4     2024/07/01           REDMI 12 MIDNIGHT BLACK 128GB/8 GB ROM G         1   \n",
       "...          ...                                                ...       ...   \n",
       "3559  2024/07/31  USED IPHONE 11 128GB GREEN WG 74% BATTERY + WI...         1   \n",
       "3560  2024/07/31                      IPHONE 15 PINK ENGLISH 128 WG         1   \n",
       "3561  2024/07/31               SAMSUNG GALAXY A05S 128/6GB SILVER G         1   \n",
       "3562  2024/07/31           IPHONE 15 PRO MAX 256GB BLUE TITANIUM WG         1   \n",
       "3563         NaN                                                NaN      3396   \n",
       "\n",
       "         Price             Warehouse  Net Value  \n",
       "0     59500.00    City center - Alex   59500.00  \n",
       "1     47000.00  Miami center - Miami   47000.00  \n",
       "2     29700.00     Miami center -San   29700.00  \n",
       "3     29200.00  Miami center - Miami   29200.00  \n",
       "4     10424.17           E- Commerce   10424.17  \n",
       "...        ...                   ...        ...  \n",
       "3559  10000.00            City stars   10000.00  \n",
       "3560  36900.00     Miami center -San   36900.00  \n",
       "3561   6050.00  Miami center - Miami    6050.00  \n",
       "3562  58300.00    City center - Alex   58300.00  \n",
       "3563       NaN                   NaN        NaN  \n",
       "\n",
       "[3564 rows x 6 columns]"
      ]
     },
     "execution_count": 55,
     "metadata": {},
     "output_type": "execute_result"
    }
   ],
   "source": [
    "x = df[[\"Order day\",\"Stock item\",\"Quantity\",\"Price\",\"Warehouse\",\"Net Value\"]]\n",
    "x"
   ]
  },
  {
   "cell_type": "code",
   "execution_count": 56,
   "id": "25866a07",
   "metadata": {},
   "outputs": [
    {
     "data": {
      "text/html": [
       "<div>\n",
       "<style scoped>\n",
       "    .dataframe tbody tr th:only-of-type {\n",
       "        vertical-align: middle;\n",
       "    }\n",
       "\n",
       "    .dataframe tbody tr th {\n",
       "        vertical-align: top;\n",
       "    }\n",
       "\n",
       "    .dataframe thead th {\n",
       "        text-align: right;\n",
       "    }\n",
       "</style>\n",
       "<table border=\"1\" class=\"dataframe\">\n",
       "  <thead>\n",
       "    <tr style=\"text-align: right;\">\n",
       "      <th></th>\n",
       "      <th>Stock item</th>\n",
       "      <th>Quantity</th>\n",
       "    </tr>\n",
       "  </thead>\n",
       "  <tbody>\n",
       "    <tr>\n",
       "      <th>0</th>\n",
       "      <td>IPHONE 15 PRO MAX 256GB NATURAL TITANIUM WG</td>\n",
       "      <td>1</td>\n",
       "    </tr>\n",
       "    <tr>\n",
       "      <th>1</th>\n",
       "      <td>SAMSUNG S24 ULTRA 256/12GB TITANIUM GRAY WG</td>\n",
       "      <td>1</td>\n",
       "    </tr>\n",
       "    <tr>\n",
       "      <th>2</th>\n",
       "      <td>IPHONE 13 english 128GB STARLIGHT WG</td>\n",
       "      <td>1</td>\n",
       "    </tr>\n",
       "  </tbody>\n",
       "</table>\n",
       "</div>"
      ],
      "text/plain": [
       "                                    Stock item  Quantity\n",
       "0  IPHONE 15 PRO MAX 256GB NATURAL TITANIUM WG         1\n",
       "1  SAMSUNG S24 ULTRA 256/12GB TITANIUM GRAY WG         1\n",
       "2         IPHONE 13 english 128GB STARLIGHT WG         1"
      ]
     },
     "execution_count": 56,
     "metadata": {},
     "output_type": "execute_result"
    }
   ],
   "source": [
    "x.iloc[0:3,1:3]"
   ]
  },
  {
   "cell_type": "code",
   "execution_count": 57,
   "id": "11d5014b",
   "metadata": {},
   "outputs": [
    {
     "data": {
      "text/html": [
       "<div>\n",
       "<style scoped>\n",
       "    .dataframe tbody tr th:only-of-type {\n",
       "        vertical-align: middle;\n",
       "    }\n",
       "\n",
       "    .dataframe tbody tr th {\n",
       "        vertical-align: top;\n",
       "    }\n",
       "\n",
       "    .dataframe thead th {\n",
       "        text-align: right;\n",
       "    }\n",
       "</style>\n",
       "<table border=\"1\" class=\"dataframe\">\n",
       "  <thead>\n",
       "    <tr style=\"text-align: right;\">\n",
       "      <th></th>\n",
       "      <th>Order day</th>\n",
       "      <th>Stock item</th>\n",
       "      <th>Quantity</th>\n",
       "      <th>Price</th>\n",
       "      <th>Warehouse</th>\n",
       "      <th>Net Value</th>\n",
       "    </tr>\n",
       "  </thead>\n",
       "  <tbody>\n",
       "    <tr>\n",
       "      <th>0</th>\n",
       "      <td>2024/07/01</td>\n",
       "      <td>IPHONE 15 PRO MAX 256GB NATURAL TITANIUM WG</td>\n",
       "      <td>1</td>\n",
       "      <td>59500.00</td>\n",
       "      <td>City center - Alex</td>\n",
       "      <td>59500.00</td>\n",
       "    </tr>\n",
       "    <tr>\n",
       "      <th>1</th>\n",
       "      <td>2024/07/01</td>\n",
       "      <td>SAMSUNG S24 ULTRA 256/12GB TITANIUM GRAY WG</td>\n",
       "      <td>1</td>\n",
       "      <td>47000.00</td>\n",
       "      <td>Miami center - Miami</td>\n",
       "      <td>47000.00</td>\n",
       "    </tr>\n",
       "    <tr>\n",
       "      <th>2</th>\n",
       "      <td>2024/07/01</td>\n",
       "      <td>IPHONE 13 english 128GB STARLIGHT WG</td>\n",
       "      <td>1</td>\n",
       "      <td>29700.00</td>\n",
       "      <td>Miami center -San</td>\n",
       "      <td>29700.00</td>\n",
       "    </tr>\n",
       "    <tr>\n",
       "      <th>3</th>\n",
       "      <td>2024/07/01</td>\n",
       "      <td>IPHONE 13 ENGLISH 128GB GREEN WG</td>\n",
       "      <td>1</td>\n",
       "      <td>29200.00</td>\n",
       "      <td>Miami center - Miami</td>\n",
       "      <td>29200.00</td>\n",
       "    </tr>\n",
       "    <tr>\n",
       "      <th>4</th>\n",
       "      <td>2024/07/01</td>\n",
       "      <td>REDMI 12 MIDNIGHT BLACK 128GB/8 GB ROM G</td>\n",
       "      <td>1</td>\n",
       "      <td>10424.17</td>\n",
       "      <td>E- Commerce</td>\n",
       "      <td>10424.17</td>\n",
       "    </tr>\n",
       "  </tbody>\n",
       "</table>\n",
       "</div>"
      ],
      "text/plain": [
       "    Order day                                   Stock item  Quantity  \\\n",
       "0  2024/07/01  IPHONE 15 PRO MAX 256GB NATURAL TITANIUM WG         1   \n",
       "1  2024/07/01  SAMSUNG S24 ULTRA 256/12GB TITANIUM GRAY WG         1   \n",
       "2  2024/07/01         IPHONE 13 english 128GB STARLIGHT WG         1   \n",
       "3  2024/07/01             IPHONE 13 ENGLISH 128GB GREEN WG         1   \n",
       "4  2024/07/01     REDMI 12 MIDNIGHT BLACK 128GB/8 GB ROM G         1   \n",
       "\n",
       "      Price             Warehouse  Net Value  \n",
       "0  59500.00    City center - Alex   59500.00  \n",
       "1  47000.00  Miami center - Miami   47000.00  \n",
       "2  29700.00     Miami center -San   29700.00  \n",
       "3  29200.00  Miami center - Miami   29200.00  \n",
       "4  10424.17           E- Commerce   10424.17  "
      ]
     },
     "execution_count": 57,
     "metadata": {},
     "output_type": "execute_result"
    }
   ],
   "source": [
    "x.head()"
   ]
  },
  {
   "cell_type": "code",
   "execution_count": 83,
   "id": "2238da12",
   "metadata": {},
   "outputs": [
    {
     "data": {
      "text/html": [
       "<div>\n",
       "<style scoped>\n",
       "    .dataframe tbody tr th:only-of-type {\n",
       "        vertical-align: middle;\n",
       "    }\n",
       "\n",
       "    .dataframe tbody tr th {\n",
       "        vertical-align: top;\n",
       "    }\n",
       "\n",
       "    .dataframe thead th {\n",
       "        text-align: right;\n",
       "    }\n",
       "</style>\n",
       "<table border=\"1\" class=\"dataframe\">\n",
       "  <thead>\n",
       "    <tr style=\"text-align: right;\">\n",
       "      <th></th>\n",
       "      <th>Order day</th>\n",
       "      <th>Stock item</th>\n",
       "      <th>Quantity</th>\n",
       "      <th>Price</th>\n",
       "      <th>Warehouse</th>\n",
       "      <th>Net Value</th>\n",
       "      <th>&gt;100000</th>\n",
       "    </tr>\n",
       "  </thead>\n",
       "  <tbody>\n",
       "    <tr>\n",
       "      <th>0</th>\n",
       "      <td>2024/07/01</td>\n",
       "      <td>IPHONE 15 PRO MAX 256GB NATURAL TITANIUM WG</td>\n",
       "      <td>1</td>\n",
       "      <td>59500.00</td>\n",
       "      <td>City center - Alex</td>\n",
       "      <td>59500.00</td>\n",
       "      <td>True</td>\n",
       "    </tr>\n",
       "    <tr>\n",
       "      <th>1</th>\n",
       "      <td>2024/07/01</td>\n",
       "      <td>SAMSUNG S24 ULTRA 256/12GB TITANIUM GRAY WG</td>\n",
       "      <td>1</td>\n",
       "      <td>47000.00</td>\n",
       "      <td>Miami center - Miami</td>\n",
       "      <td>47000.00</td>\n",
       "      <td>True</td>\n",
       "    </tr>\n",
       "    <tr>\n",
       "      <th>2</th>\n",
       "      <td>2024/07/01</td>\n",
       "      <td>IPHONE 13 english 128GB STARLIGHT WG</td>\n",
       "      <td>1</td>\n",
       "      <td>29700.00</td>\n",
       "      <td>Miami center -San</td>\n",
       "      <td>29700.00</td>\n",
       "      <td>True</td>\n",
       "    </tr>\n",
       "    <tr>\n",
       "      <th>3</th>\n",
       "      <td>2024/07/01</td>\n",
       "      <td>IPHONE 13 ENGLISH 128GB GREEN WG</td>\n",
       "      <td>1</td>\n",
       "      <td>29200.00</td>\n",
       "      <td>Miami center - Miami</td>\n",
       "      <td>29200.00</td>\n",
       "      <td>True</td>\n",
       "    </tr>\n",
       "    <tr>\n",
       "      <th>4</th>\n",
       "      <td>2024/07/01</td>\n",
       "      <td>REDMI 12 MIDNIGHT BLACK 128GB/8 GB ROM G</td>\n",
       "      <td>1</td>\n",
       "      <td>10424.17</td>\n",
       "      <td>E- Commerce</td>\n",
       "      <td>10424.17</td>\n",
       "      <td>True</td>\n",
       "    </tr>\n",
       "  </tbody>\n",
       "</table>\n",
       "</div>"
      ],
      "text/plain": [
       "    Order day                                   Stock item  Quantity  \\\n",
       "0  2024/07/01  IPHONE 15 PRO MAX 256GB NATURAL TITANIUM WG         1   \n",
       "1  2024/07/01  SAMSUNG S24 ULTRA 256/12GB TITANIUM GRAY WG         1   \n",
       "2  2024/07/01         IPHONE 13 english 128GB STARLIGHT WG         1   \n",
       "3  2024/07/01             IPHONE 13 ENGLISH 128GB GREEN WG         1   \n",
       "4  2024/07/01     REDMI 12 MIDNIGHT BLACK 128GB/8 GB ROM G         1   \n",
       "\n",
       "      Price             Warehouse  Net Value  >100000  \n",
       "0  59500.00    City center - Alex   59500.00     True  \n",
       "1  47000.00  Miami center - Miami   47000.00     True  \n",
       "2  29700.00     Miami center -San   29700.00     True  \n",
       "3  29200.00  Miami center - Miami   29200.00     True  \n",
       "4  10424.17           E- Commerce   10424.17     True  "
      ]
     },
     "execution_count": 83,
     "metadata": {},
     "output_type": "execute_result"
    }
   ],
   "source": [
    "x.head()"
   ]
  },
  {
   "cell_type": "code",
   "execution_count": 81,
   "id": "1a1537a9",
   "metadata": {},
   "outputs": [
    {
     "data": {
      "text/html": [
       "<div>\n",
       "<style scoped>\n",
       "    .dataframe tbody tr th:only-of-type {\n",
       "        vertical-align: middle;\n",
       "    }\n",
       "\n",
       "    .dataframe tbody tr th {\n",
       "        vertical-align: top;\n",
       "    }\n",
       "\n",
       "    .dataframe thead th {\n",
       "        text-align: right;\n",
       "    }\n",
       "</style>\n",
       "<table border=\"1\" class=\"dataframe\">\n",
       "  <thead>\n",
       "    <tr style=\"text-align: right;\">\n",
       "      <th></th>\n",
       "      <th>Order day</th>\n",
       "      <th>Stock item</th>\n",
       "      <th>Quantity</th>\n",
       "      <th>Price</th>\n",
       "      <th>Warehouse</th>\n",
       "      <th>Net Value</th>\n",
       "      <th>&gt;100000</th>\n",
       "    </tr>\n",
       "  </thead>\n",
       "  <tbody>\n",
       "    <tr>\n",
       "      <th>0</th>\n",
       "      <td>2024/07/01</td>\n",
       "      <td>IPHONE 15 PRO MAX 256GB NATURAL TITANIUM WG</td>\n",
       "      <td>1</td>\n",
       "      <td>59500.00</td>\n",
       "      <td>City center - Alex</td>\n",
       "      <td>59500.00</td>\n",
       "      <td>True</td>\n",
       "    </tr>\n",
       "    <tr>\n",
       "      <th>1</th>\n",
       "      <td>2024/07/01</td>\n",
       "      <td>SAMSUNG S24 ULTRA 256/12GB TITANIUM GRAY WG</td>\n",
       "      <td>1</td>\n",
       "      <td>47000.00</td>\n",
       "      <td>Miami center - Miami</td>\n",
       "      <td>47000.00</td>\n",
       "      <td>True</td>\n",
       "    </tr>\n",
       "    <tr>\n",
       "      <th>2</th>\n",
       "      <td>2024/07/01</td>\n",
       "      <td>IPHONE 13 english 128GB STARLIGHT WG</td>\n",
       "      <td>1</td>\n",
       "      <td>29700.00</td>\n",
       "      <td>Miami center -San</td>\n",
       "      <td>29700.00</td>\n",
       "      <td>True</td>\n",
       "    </tr>\n",
       "    <tr>\n",
       "      <th>3</th>\n",
       "      <td>2024/07/01</td>\n",
       "      <td>IPHONE 13 ENGLISH 128GB GREEN WG</td>\n",
       "      <td>1</td>\n",
       "      <td>29200.00</td>\n",
       "      <td>Miami center - Miami</td>\n",
       "      <td>29200.00</td>\n",
       "      <td>True</td>\n",
       "    </tr>\n",
       "    <tr>\n",
       "      <th>4</th>\n",
       "      <td>2024/07/01</td>\n",
       "      <td>REDMI 12 MIDNIGHT BLACK 128GB/8 GB ROM G</td>\n",
       "      <td>1</td>\n",
       "      <td>10424.17</td>\n",
       "      <td>E- Commerce</td>\n",
       "      <td>10424.17</td>\n",
       "      <td>True</td>\n",
       "    </tr>\n",
       "  </tbody>\n",
       "</table>\n",
       "</div>"
      ],
      "text/plain": [
       "    Order day                                   Stock item  Quantity  \\\n",
       "0  2024/07/01  IPHONE 15 PRO MAX 256GB NATURAL TITANIUM WG         1   \n",
       "1  2024/07/01  SAMSUNG S24 ULTRA 256/12GB TITANIUM GRAY WG         1   \n",
       "2  2024/07/01         IPHONE 13 english 128GB STARLIGHT WG         1   \n",
       "3  2024/07/01             IPHONE 13 ENGLISH 128GB GREEN WG         1   \n",
       "4  2024/07/01     REDMI 12 MIDNIGHT BLACK 128GB/8 GB ROM G         1   \n",
       "\n",
       "      Price             Warehouse  Net Value  >100000  \n",
       "0  59500.00    City center - Alex   59500.00     True  \n",
       "1  47000.00  Miami center - Miami   47000.00     True  \n",
       "2  29700.00     Miami center -San   29700.00     True  \n",
       "3  29200.00  Miami center - Miami   29200.00     True  \n",
       "4  10424.17           E- Commerce   10424.17     True  "
      ]
     },
     "execution_count": 81,
     "metadata": {},
     "output_type": "execute_result"
    }
   ],
   "source": [
    "x.head()"
   ]
  },
  {
   "cell_type": "code",
   "execution_count": 84,
   "id": "130abb20",
   "metadata": {},
   "outputs": [
    {
     "name": "stderr",
     "output_type": "stream",
     "text": [
      "C:\\Users\\ADMIN\\AppData\\Local\\Temp\\ipykernel_20140\\121689788.py:1: SettingWithCopyWarning: \n",
      "A value is trying to be set on a copy of a slice from a DataFrame\n",
      "\n",
      "See the caveats in the documentation: https://pandas.pydata.org/pandas-docs/stable/user_guide/indexing.html#returning-a-view-versus-a-copy\n",
      "  x.drop(columns=[\">100000\"],inplace=True)\n"
     ]
    }
   ],
   "source": [
    "x.drop(columns=[\">100000\"],inplace=True)"
   ]
  },
  {
   "cell_type": "code",
   "execution_count": 85,
   "id": "fa626d8b",
   "metadata": {},
   "outputs": [
    {
     "data": {
      "text/html": [
       "<div>\n",
       "<style scoped>\n",
       "    .dataframe tbody tr th:only-of-type {\n",
       "        vertical-align: middle;\n",
       "    }\n",
       "\n",
       "    .dataframe tbody tr th {\n",
       "        vertical-align: top;\n",
       "    }\n",
       "\n",
       "    .dataframe thead th {\n",
       "        text-align: right;\n",
       "    }\n",
       "</style>\n",
       "<table border=\"1\" class=\"dataframe\">\n",
       "  <thead>\n",
       "    <tr style=\"text-align: right;\">\n",
       "      <th></th>\n",
       "      <th>Order day</th>\n",
       "      <th>Stock item</th>\n",
       "      <th>Quantity</th>\n",
       "      <th>Price</th>\n",
       "      <th>Warehouse</th>\n",
       "      <th>Net Value</th>\n",
       "    </tr>\n",
       "  </thead>\n",
       "  <tbody>\n",
       "    <tr>\n",
       "      <th>0</th>\n",
       "      <td>2024/07/01</td>\n",
       "      <td>IPHONE 15 PRO MAX 256GB NATURAL TITANIUM WG</td>\n",
       "      <td>1</td>\n",
       "      <td>59500.00</td>\n",
       "      <td>City center - Alex</td>\n",
       "      <td>59500.00</td>\n",
       "    </tr>\n",
       "    <tr>\n",
       "      <th>1</th>\n",
       "      <td>2024/07/01</td>\n",
       "      <td>SAMSUNG S24 ULTRA 256/12GB TITANIUM GRAY WG</td>\n",
       "      <td>1</td>\n",
       "      <td>47000.00</td>\n",
       "      <td>Miami center - Miami</td>\n",
       "      <td>47000.00</td>\n",
       "    </tr>\n",
       "    <tr>\n",
       "      <th>2</th>\n",
       "      <td>2024/07/01</td>\n",
       "      <td>IPHONE 13 english 128GB STARLIGHT WG</td>\n",
       "      <td>1</td>\n",
       "      <td>29700.00</td>\n",
       "      <td>Miami center -San</td>\n",
       "      <td>29700.00</td>\n",
       "    </tr>\n",
       "    <tr>\n",
       "      <th>3</th>\n",
       "      <td>2024/07/01</td>\n",
       "      <td>IPHONE 13 ENGLISH 128GB GREEN WG</td>\n",
       "      <td>1</td>\n",
       "      <td>29200.00</td>\n",
       "      <td>Miami center - Miami</td>\n",
       "      <td>29200.00</td>\n",
       "    </tr>\n",
       "    <tr>\n",
       "      <th>4</th>\n",
       "      <td>2024/07/01</td>\n",
       "      <td>REDMI 12 MIDNIGHT BLACK 128GB/8 GB ROM G</td>\n",
       "      <td>1</td>\n",
       "      <td>10424.17</td>\n",
       "      <td>E- Commerce</td>\n",
       "      <td>10424.17</td>\n",
       "    </tr>\n",
       "  </tbody>\n",
       "</table>\n",
       "</div>"
      ],
      "text/plain": [
       "    Order day                                   Stock item  Quantity  \\\n",
       "0  2024/07/01  IPHONE 15 PRO MAX 256GB NATURAL TITANIUM WG         1   \n",
       "1  2024/07/01  SAMSUNG S24 ULTRA 256/12GB TITANIUM GRAY WG         1   \n",
       "2  2024/07/01         IPHONE 13 english 128GB STARLIGHT WG         1   \n",
       "3  2024/07/01             IPHONE 13 ENGLISH 128GB GREEN WG         1   \n",
       "4  2024/07/01     REDMI 12 MIDNIGHT BLACK 128GB/8 GB ROM G         1   \n",
       "\n",
       "      Price             Warehouse  Net Value  \n",
       "0  59500.00    City center - Alex   59500.00  \n",
       "1  47000.00  Miami center - Miami   47000.00  \n",
       "2  29700.00     Miami center -San   29700.00  \n",
       "3  29200.00  Miami center - Miami   29200.00  \n",
       "4  10424.17           E- Commerce   10424.17  "
      ]
     },
     "execution_count": 85,
     "metadata": {},
     "output_type": "execute_result"
    }
   ],
   "source": [
    "x.head()"
   ]
  },
  {
   "cell_type": "markdown",
   "id": "14ccac73",
   "metadata": {},
   "source": [
    "#### Boolean Column:\n",
    "\n",
    "making New Column with Condition the Out Boolean True or False "
   ]
  },
  {
   "cell_type": "code",
   "execution_count": 91,
   "id": "e7d99e23",
   "metadata": {},
   "outputs": [
    {
     "name": "stderr",
     "output_type": "stream",
     "text": [
      "C:\\Users\\ADMIN\\AppData\\Local\\Temp\\ipykernel_20140\\1975232178.py:1: SettingWithCopyWarning: \n",
      "A value is trying to be set on a copy of a slice from a DataFrame.\n",
      "Try using .loc[row_indexer,col_indexer] = value instead\n",
      "\n",
      "See the caveats in the documentation: https://pandas.pydata.org/pandas-docs/stable/user_guide/indexing.html#returning-a-view-versus-a-copy\n",
      "  x[\">100000\"] = x[\"Price\"]>=100000\n"
     ]
    }
   ],
   "source": [
    "x[\">100000\"] = x[\"Price\"]>=100000"
   ]
  },
  {
   "cell_type": "code",
   "execution_count": 92,
   "id": "78be8a1d",
   "metadata": {},
   "outputs": [
    {
     "data": {
      "text/html": [
       "<div>\n",
       "<style scoped>\n",
       "    .dataframe tbody tr th:only-of-type {\n",
       "        vertical-align: middle;\n",
       "    }\n",
       "\n",
       "    .dataframe tbody tr th {\n",
       "        vertical-align: top;\n",
       "    }\n",
       "\n",
       "    .dataframe thead th {\n",
       "        text-align: right;\n",
       "    }\n",
       "</style>\n",
       "<table border=\"1\" class=\"dataframe\">\n",
       "  <thead>\n",
       "    <tr style=\"text-align: right;\">\n",
       "      <th></th>\n",
       "      <th>Order day</th>\n",
       "      <th>Stock item</th>\n",
       "      <th>Quantity</th>\n",
       "      <th>Price</th>\n",
       "      <th>Warehouse</th>\n",
       "      <th>Net Value</th>\n",
       "      <th>&gt;100000</th>\n",
       "    </tr>\n",
       "  </thead>\n",
       "  <tbody>\n",
       "    <tr>\n",
       "      <th>0</th>\n",
       "      <td>2024/07/01</td>\n",
       "      <td>IPHONE 15 PRO MAX 256GB NATURAL TITANIUM WG</td>\n",
       "      <td>1</td>\n",
       "      <td>59500.00</td>\n",
       "      <td>City center - Alex</td>\n",
       "      <td>59500.00</td>\n",
       "      <td>False</td>\n",
       "    </tr>\n",
       "    <tr>\n",
       "      <th>1</th>\n",
       "      <td>2024/07/01</td>\n",
       "      <td>SAMSUNG S24 ULTRA 256/12GB TITANIUM GRAY WG</td>\n",
       "      <td>1</td>\n",
       "      <td>47000.00</td>\n",
       "      <td>Miami center - Miami</td>\n",
       "      <td>47000.00</td>\n",
       "      <td>False</td>\n",
       "    </tr>\n",
       "    <tr>\n",
       "      <th>2</th>\n",
       "      <td>2024/07/01</td>\n",
       "      <td>IPHONE 13 english 128GB STARLIGHT WG</td>\n",
       "      <td>1</td>\n",
       "      <td>29700.00</td>\n",
       "      <td>Miami center -San</td>\n",
       "      <td>29700.00</td>\n",
       "      <td>False</td>\n",
       "    </tr>\n",
       "    <tr>\n",
       "      <th>3</th>\n",
       "      <td>2024/07/01</td>\n",
       "      <td>IPHONE 13 ENGLISH 128GB GREEN WG</td>\n",
       "      <td>1</td>\n",
       "      <td>29200.00</td>\n",
       "      <td>Miami center - Miami</td>\n",
       "      <td>29200.00</td>\n",
       "      <td>False</td>\n",
       "    </tr>\n",
       "    <tr>\n",
       "      <th>4</th>\n",
       "      <td>2024/07/01</td>\n",
       "      <td>REDMI 12 MIDNIGHT BLACK 128GB/8 GB ROM G</td>\n",
       "      <td>1</td>\n",
       "      <td>10424.17</td>\n",
       "      <td>E- Commerce</td>\n",
       "      <td>10424.17</td>\n",
       "      <td>False</td>\n",
       "    </tr>\n",
       "  </tbody>\n",
       "</table>\n",
       "</div>"
      ],
      "text/plain": [
       "    Order day                                   Stock item  Quantity  \\\n",
       "0  2024/07/01  IPHONE 15 PRO MAX 256GB NATURAL TITANIUM WG         1   \n",
       "1  2024/07/01  SAMSUNG S24 ULTRA 256/12GB TITANIUM GRAY WG         1   \n",
       "2  2024/07/01         IPHONE 13 english 128GB STARLIGHT WG         1   \n",
       "3  2024/07/01             IPHONE 13 ENGLISH 128GB GREEN WG         1   \n",
       "4  2024/07/01     REDMI 12 MIDNIGHT BLACK 128GB/8 GB ROM G         1   \n",
       "\n",
       "      Price             Warehouse  Net Value  >100000  \n",
       "0  59500.00    City center - Alex   59500.00    False  \n",
       "1  47000.00  Miami center - Miami   47000.00    False  \n",
       "2  29700.00     Miami center -San   29700.00    False  \n",
       "3  29200.00  Miami center - Miami   29200.00    False  \n",
       "4  10424.17           E- Commerce   10424.17    False  "
      ]
     },
     "execution_count": 92,
     "metadata": {},
     "output_type": "execute_result"
    }
   ],
   "source": [
    "x.head()"
   ]
  },
  {
   "cell_type": "markdown",
   "id": "be69aaac",
   "metadata": {},
   "source": [
    "#### part of a word in Column \n",
    "\n",
    "To find that a part of a word exists within a column in a DataFrame in pandas, you can use a function string with Boolean condition. Here's how to do it right:"
   ]
  },
  {
   "cell_type": "code",
   "execution_count": 102,
   "id": "8e8e785f",
   "metadata": {},
   "outputs": [
    {
     "data": {
      "text/html": [
       "<div>\n",
       "<style scoped>\n",
       "    .dataframe tbody tr th:only-of-type {\n",
       "        vertical-align: middle;\n",
       "    }\n",
       "\n",
       "    .dataframe tbody tr th {\n",
       "        vertical-align: top;\n",
       "    }\n",
       "\n",
       "    .dataframe thead th {\n",
       "        text-align: right;\n",
       "    }\n",
       "</style>\n",
       "<table border=\"1\" class=\"dataframe\">\n",
       "  <thead>\n",
       "    <tr style=\"text-align: right;\">\n",
       "      <th></th>\n",
       "      <th>Order day</th>\n",
       "      <th>Stock item</th>\n",
       "      <th>Quantity</th>\n",
       "      <th>Price</th>\n",
       "      <th>Warehouse</th>\n",
       "      <th>Net Value</th>\n",
       "      <th>&gt;100000</th>\n",
       "    </tr>\n",
       "  </thead>\n",
       "  <tbody>\n",
       "    <tr>\n",
       "      <th>295</th>\n",
       "      <td>2024/07/04</td>\n",
       "      <td>USED IPHONE 14 PRO MAX 256GB DEEP PURPLE  WG  ...</td>\n",
       "      <td>1</td>\n",
       "      <td>33700.0</td>\n",
       "      <td>Miami center -San</td>\n",
       "      <td>33700.0</td>\n",
       "      <td>False</td>\n",
       "    </tr>\n",
       "    <tr>\n",
       "      <th>670</th>\n",
       "      <td>2024/07/08</td>\n",
       "      <td>IPHONE 14 PRO MAX DEEP PURPLE 1TB SPECIAL EDITION</td>\n",
       "      <td>1</td>\n",
       "      <td>50000.0</td>\n",
       "      <td>City stars</td>\n",
       "      <td>50000.0</td>\n",
       "      <td>False</td>\n",
       "    </tr>\n",
       "    <tr>\n",
       "      <th>942</th>\n",
       "      <td>2024/07/10</td>\n",
       "      <td>IPHONE 14 PRO MAX DEEP PURPLE 1TB SPECIAL EDITION</td>\n",
       "      <td>-1</td>\n",
       "      <td>50000.0</td>\n",
       "      <td>City stars</td>\n",
       "      <td>-50000.0</td>\n",
       "      <td>False</td>\n",
       "    </tr>\n",
       "    <tr>\n",
       "      <th>1203</th>\n",
       "      <td>2024/07/13</td>\n",
       "      <td>USED IPHONE 14 PRO MAX 256GB DEEP PURPLE WG / ...</td>\n",
       "      <td>1</td>\n",
       "      <td>47000.0</td>\n",
       "      <td>City stars</td>\n",
       "      <td>47000.0</td>\n",
       "      <td>False</td>\n",
       "    </tr>\n",
       "    <tr>\n",
       "      <th>1339</th>\n",
       "      <td>2024/07/14</td>\n",
       "      <td>USED IPHONE 14 PRO MAX 256GB Purple WG 88% BAT...</td>\n",
       "      <td>1</td>\n",
       "      <td>49600.0</td>\n",
       "      <td>Miami center -San</td>\n",
       "      <td>49600.0</td>\n",
       "      <td>False</td>\n",
       "    </tr>\n",
       "    <tr>\n",
       "      <th>1869</th>\n",
       "      <td>2024/07/19</td>\n",
       "      <td>IPHONE 14 PRO MAX DEEP PURPLE 1TB SPECIAL EDITION</td>\n",
       "      <td>1</td>\n",
       "      <td>46200.0</td>\n",
       "      <td>Miami center - Almaza</td>\n",
       "      <td>46200.0</td>\n",
       "      <td>False</td>\n",
       "    </tr>\n",
       "    <tr>\n",
       "      <th>2698</th>\n",
       "      <td>2024/07/25</td>\n",
       "      <td>USED iphone 14 pro max/purple 256 dual za/BUT...</td>\n",
       "      <td>1</td>\n",
       "      <td>61075.0</td>\n",
       "      <td>Miami Center - Dokki</td>\n",
       "      <td>61075.0</td>\n",
       "      <td>False</td>\n",
       "    </tr>\n",
       "    <tr>\n",
       "      <th>3179</th>\n",
       "      <td>2024/07/29</td>\n",
       "      <td>Used iPhone 14 pro max Deep purple 128GB batte...</td>\n",
       "      <td>1</td>\n",
       "      <td>48000.0</td>\n",
       "      <td>Miami center -Smouha</td>\n",
       "      <td>48000.0</td>\n",
       "      <td>False</td>\n",
       "    </tr>\n",
       "    <tr>\n",
       "      <th>3252</th>\n",
       "      <td>2024/07/30</td>\n",
       "      <td>USED IPHONE 14 PRO MAX 256GB Dual sim ZA SPACE...</td>\n",
       "      <td>1</td>\n",
       "      <td>45000.0</td>\n",
       "      <td>City stars</td>\n",
       "      <td>45000.0</td>\n",
       "      <td>False</td>\n",
       "    </tr>\n",
       "    <tr>\n",
       "      <th>3382</th>\n",
       "      <td>2024/07/30</td>\n",
       "      <td>USED IPHONE 14 PRO MAX 256GB BLACK WG 94% BATT...</td>\n",
       "      <td>1</td>\n",
       "      <td>45900.0</td>\n",
       "      <td>Miami center - Almaza</td>\n",
       "      <td>45900.0</td>\n",
       "      <td>False</td>\n",
       "    </tr>\n",
       "    <tr>\n",
       "      <th>3555</th>\n",
       "      <td>2024/07/31</td>\n",
       "      <td>USED IPHONE 14 PRO MAX 256GB DEEP PURPLE WG / ...</td>\n",
       "      <td>-1</td>\n",
       "      <td>47000.0</td>\n",
       "      <td>City stars</td>\n",
       "      <td>-47000.0</td>\n",
       "      <td>False</td>\n",
       "    </tr>\n",
       "  </tbody>\n",
       "</table>\n",
       "</div>"
      ],
      "text/plain": [
       "       Order day                                         Stock item  Quantity  \\\n",
       "295   2024/07/04  USED IPHONE 14 PRO MAX 256GB DEEP PURPLE  WG  ...         1   \n",
       "670   2024/07/08  IPHONE 14 PRO MAX DEEP PURPLE 1TB SPECIAL EDITION         1   \n",
       "942   2024/07/10  IPHONE 14 PRO MAX DEEP PURPLE 1TB SPECIAL EDITION        -1   \n",
       "1203  2024/07/13  USED IPHONE 14 PRO MAX 256GB DEEP PURPLE WG / ...         1   \n",
       "1339  2024/07/14  USED IPHONE 14 PRO MAX 256GB Purple WG 88% BAT...         1   \n",
       "1869  2024/07/19  IPHONE 14 PRO MAX DEEP PURPLE 1TB SPECIAL EDITION         1   \n",
       "2698  2024/07/25   USED iphone 14 pro max/purple 256 dual za/BUT...         1   \n",
       "3179  2024/07/29  Used iPhone 14 pro max Deep purple 128GB batte...         1   \n",
       "3252  2024/07/30  USED IPHONE 14 PRO MAX 256GB Dual sim ZA SPACE...         1   \n",
       "3382  2024/07/30  USED IPHONE 14 PRO MAX 256GB BLACK WG 94% BATT...         1   \n",
       "3555  2024/07/31  USED IPHONE 14 PRO MAX 256GB DEEP PURPLE WG / ...        -1   \n",
       "\n",
       "        Price              Warehouse  Net Value  >100000  \n",
       "295   33700.0      Miami center -San    33700.0    False  \n",
       "670   50000.0             City stars    50000.0    False  \n",
       "942   50000.0             City stars   -50000.0    False  \n",
       "1203  47000.0             City stars    47000.0    False  \n",
       "1339  49600.0      Miami center -San    49600.0    False  \n",
       "1869  46200.0  Miami center - Almaza    46200.0    False  \n",
       "2698  61075.0  Miami Center - Dokki     61075.0    False  \n",
       "3179  48000.0   Miami center -Smouha    48000.0    False  \n",
       "3252  45000.0             City stars    45000.0    False  \n",
       "3382  45900.0  Miami center - Almaza    45900.0    False  \n",
       "3555  47000.0             City stars   -47000.0    False  "
      ]
     },
     "execution_count": 102,
     "metadata": {},
     "output_type": "execute_result"
    }
   ],
   "source": [
    "x[x[\"Stock item\"].str.contains(\"IPHONE 14 PRO MAX\", case=False, na=False)]\n"
   ]
  },
  {
   "cell_type": "code",
   "execution_count": 104,
   "id": "dd4b899c",
   "metadata": {},
   "outputs": [],
   "source": [
    "x.to_csv('D:/Sharing/Eductaion/Jupyter Notebook/Python-for-data-science/MiamiCenteritems.csv')"
   ]
  },
  {
   "cell_type": "markdown",
   "id": "f2bff9bb",
   "metadata": {},
   "source": [
    "____________________________________"
   ]
  },
  {
   "cell_type": "markdown",
   "id": "96f03745",
   "metadata": {},
   "source": [
    "## # Module 5 - Working with Numpy Arrays & Simple APIs\n",
    "\n",
    "### **Learning Objectives**\n",
    "\n",
    "**In this lesson you will learn about:**\n",
    "• Explain the use of the HTTP protocol using the Requests Library method.\n",
    "• Describe how the URL Request Response HTTP protocol works.\n",
    "• Learn to apply simple, open-source APIs.\n",
    "• Perform basic webscraping using Python\n",
    "• Work with different file formats using Python\n",
    "• Explain the difference between APIs and REST APIs\n",
    "• Summarize how APIs receive and send information"
   ]
  },
  {
   "cell_type": "markdown",
   "metadata": {},
   "source": [
    "\n",
    "In this lesson you will learn about:\n",
    "<ul>  \n",
    "  <li>Explain the use of the HTTP protocol using the Requests Library method</li>\n",
    "  <li>Describe how the URL Request Response HTTP protocol works</li>\n",
    "  <li>Learn to apply simple, open-source APIs</li>\n",
    "  <li>Perform basic web scraping using Python</li>\n",
    "  <li>Work with different file formats using Python</li>\n",
    "  <li>Explain the difference between APIs and REST APIs</li>\n",
    "  <li>Summarize how APIs receive and send information</li>\n",
    "</ul>\n",
    "\n"
   ]
  },
  {
   "cell_type": "markdown",
   "id": "ab2e7c29",
   "metadata": {},
   "source": [
    "______"
   ]
  },
  {
   "cell_type": "markdown",
   "id": "3eec28de",
   "metadata": {},
   "source": [
    "<u><h3>Numpy 1D Arrays:</h3></u>"
   ]
  },
  {
   "cell_type": "code",
   "execution_count": 1,
   "id": "037719e3",
   "metadata": {},
   "outputs": [],
   "source": [
    "import numpy as np"
   ]
  },
  {
   "cell_type": "code",
   "execution_count": 12,
   "id": "ce68101d",
   "metadata": {},
   "outputs": [
    {
     "name": "stdout",
     "output_type": "stream",
     "text": [
      "[1 2 3 4 5]\n"
     ]
    }
   ],
   "source": [
    "a = np.array([1, 2, 3, 4, 5])\n",
    "print(a)"
   ]
  },
  {
   "cell_type": "code",
   "execution_count": 13,
   "id": "3050d338",
   "metadata": {},
   "outputs": [
    {
     "name": "stdout",
     "output_type": "stream",
     "text": [
      "int32\n"
     ]
    }
   ],
   "source": [
    "print(a.dtype)\n"
   ]
  },
  {
   "cell_type": "code",
   "execution_count": 14,
   "id": "59478286",
   "metadata": {},
   "outputs": [
    {
     "name": "stdout",
     "output_type": "stream",
     "text": [
      "5\n"
     ]
    }
   ],
   "source": [
    "print(a.size)"
   ]
  },
  {
   "cell_type": "code",
   "execution_count": 15,
   "id": "ed17c3e2",
   "metadata": {},
   "outputs": [
    {
     "name": "stdout",
     "output_type": "stream",
     "text": [
      "1\n"
     ]
    }
   ],
   "source": [
    "print(a.ndim)"
   ]
  },
  {
   "cell_type": "code",
   "execution_count": 16,
   "id": "ed23f393",
   "metadata": {},
   "outputs": [
    {
     "name": "stdout",
     "output_type": "stream",
     "text": [
      "(5,)\n"
     ]
    }
   ],
   "source": [
    "print(a.shape)"
   ]
  },
  {
   "cell_type": "code",
   "execution_count": 17,
   "id": "0406d6e8",
   "metadata": {},
   "outputs": [
    {
     "name": "stdout",
     "output_type": "stream",
     "text": [
      "1\n"
     ]
    }
   ],
   "source": [
    "print(a[0])"
   ]
  },
  {
   "cell_type": "code",
   "execution_count": 18,
   "id": "369b38d6",
   "metadata": {},
   "outputs": [
    {
     "name": "stdout",
     "output_type": "stream",
     "text": [
      "[100   2   3   4   5]\n"
     ]
    }
   ],
   "source": [
    "a[0] = 100\n",
    "print(a)\n"
   ]
  },
  {
   "cell_type": "code",
   "execution_count": 19,
   "id": "3866b248",
   "metadata": {},
   "outputs": [
    {
     "name": "stdout",
     "output_type": "stream",
     "text": [
      "[2 3 4]\n"
     ]
    }
   ],
   "source": [
    "d = a[1:4]  # Elements from index 1 to 3\n",
    "print(d)\n"
   ]
  },
  {
   "cell_type": "code",
   "execution_count": 20,
   "id": "985a7aca",
   "metadata": {},
   "outputs": [
    {
     "name": "stdout",
     "output_type": "stream",
     "text": [
      "[100  10  20  30   5]\n"
     ]
    }
   ],
   "source": [
    "a[1:4] = [10, 20, 30]\n",
    "print(a)\n"
   ]
  },
  {
   "cell_type": "code",
   "execution_count": 21,
   "id": "84c723e2",
   "metadata": {},
   "outputs": [
    {
     "name": "stdout",
     "output_type": "stream",
     "text": [
      "[1 1]\n"
     ]
    }
   ],
   "source": [
    "u = np.array([1, 0])\n",
    "v = np.array([0, 1])\n",
    "z = u + v\n",
    "print(z)  # Output: [1, 1]\n"
   ]
  },
  {
   "cell_type": "code",
   "execution_count": 22,
   "id": "2c8f188f",
   "metadata": {},
   "outputs": [
    {
     "name": "stdout",
     "output_type": "stream",
     "text": [
      "[ 1 -1]\n"
     ]
    }
   ],
   "source": [
    "z = u - v\n",
    "print(z)  # Output: [1, -1]\n"
   ]
  },
  {
   "cell_type": "code",
   "execution_count": 23,
   "id": "d357d72f",
   "metadata": {},
   "outputs": [
    {
     "name": "stdout",
     "output_type": "stream",
     "text": [
      "[2 4]\n"
     ]
    }
   ],
   "source": [
    "y = np.array([1, 2])\n",
    "z = 2 * y\n",
    "print(z)  # Output: [2, 4]\n"
   ]
  },
  {
   "cell_type": "code",
   "execution_count": 24,
   "id": "b170fc48",
   "metadata": {},
   "outputs": [
    {
     "name": "stdout",
     "output_type": "stream",
     "text": [
      "[0 0]\n"
     ]
    }
   ],
   "source": [
    "z = u * v\n",
    "print(z)  # Output: [0, 0]\n"
   ]
  },
  {
   "cell_type": "code",
   "execution_count": 25,
   "id": "7bd4b544",
   "metadata": {},
   "outputs": [
    {
     "name": "stdout",
     "output_type": "stream",
     "text": [
      "[2 3 4]\n"
     ]
    }
   ],
   "source": [
    "a = np.array([1, 2, 3])\n",
    "b = a + 1\n",
    "print(b)  # Output: [2, 3, 4]\n"
   ]
  },
  {
   "cell_type": "code",
   "execution_count": 26,
   "id": "23767c88",
   "metadata": {},
   "outputs": [
    {
     "name": "stdout",
     "output_type": "stream",
     "text": [
      "0.0\n"
     ]
    }
   ],
   "source": [
    "a = np.array([1, -1, 0])\n",
    "mean_value = a.mean()\n",
    "print(mean_value)  # Output: 0.0\n"
   ]
  },
  {
   "cell_type": "code",
   "execution_count": 27,
   "id": "2d72577b",
   "metadata": {},
   "outputs": [
    {
     "name": "stdout",
     "output_type": "stream",
     "text": [
      "5\n"
     ]
    }
   ],
   "source": [
    "b = np.array([1, 2, 3, 4, 5])\n",
    "max_value = b.max()\n",
    "print(max_value)  # Output: 5\n"
   ]
  },
  {
   "cell_type": "code",
   "execution_count": 28,
   "id": "ba9134dc",
   "metadata": {},
   "outputs": [
    {
     "name": "stdout",
     "output_type": "stream",
     "text": [
      "[0.0000000e+00 1.0000000e+00 1.2246468e-16]\n"
     ]
    }
   ],
   "source": [
    "x = np.array([0, np.pi/2, np.pi])\n",
    "y = np.sin(x)\n",
    "print(y)  # Output: [0. 1. 0.]\n"
   ]
  },
  {
   "cell_type": "code",
   "execution_count": 29,
   "id": "2ac4357f",
   "metadata": {},
   "outputs": [],
   "source": [
    "x = np.linspace(0, 2 * np.pi, 100)\n",
    "y = np.sin(x)\n"
   ]
  },
  {
   "cell_type": "code",
   "execution_count": 30,
   "id": "2c08c7cc",
   "metadata": {},
   "outputs": [
    {
     "data": {
      "image/png": "[encoded data removed]",
      "text/plain": [
       "<Figure size 640x480 with 1 Axes>"
      ]
     },
     "metadata": {},
     "output_type": "display_data"
    }
   ],
   "source": [
    "import matplotlib.pyplot as plt\n",
    "plt.plot(x, y)\n",
    "plt.show()\n"
   ]
  },
  {
   "cell_type": "markdown",
   "id": "2d569e53",
   "metadata": {},
   "source": [
    "___"
   ]
  },
  {
   "cell_type": "code",
   "execution_count": 39,
   "id": "7f1e4d18",
   "metadata": {},
   "outputs": [],
   "source": [
    "a = [\"0\", 1,\"Two\",\"3\",4]"
   ]
  },
  {
   "cell_type": "code",
   "execution_count": 40,
   "id": "7be058c8",
   "metadata": {},
   "outputs": [
    {
     "data": {
      "text/plain": [
       "['0', 1, 'Two', '3', 4]"
      ]
     },
     "execution_count": 40,
     "metadata": {},
     "output_type": "execute_result"
    }
   ],
   "source": [
    "a"
   ]
  },
  {
   "cell_type": "code",
   "execution_count": 41,
   "id": "b24bc49e",
   "metadata": {},
   "outputs": [
    {
     "data": {
      "text/plain": [
       "'Two'"
      ]
     },
     "execution_count": 41,
     "metadata": {},
     "output_type": "execute_result"
    }
   ],
   "source": [
    "a[2]"
   ]
  },
  {
   "cell_type": "code",
   "execution_count": 42,
   "id": "19687c3f",
   "metadata": {},
   "outputs": [
    {
     "data": {
      "text/plain": [
       "list"
      ]
     },
     "execution_count": 42,
     "metadata": {},
     "output_type": "execute_result"
    }
   ],
   "source": [
    "type(a)"
   ]
  },
  {
   "cell_type": "code",
   "execution_count": 43,
   "id": "6446488f",
   "metadata": {},
   "outputs": [],
   "source": [
    "a = np.array([0,1,2,3,4])"
   ]
  },
  {
   "cell_type": "code",
   "execution_count": 44,
   "id": "fdbbb53b",
   "metadata": {},
   "outputs": [
    {
     "name": "stdout",
     "output_type": "stream",
     "text": [
      "[0 1 2 3 4]\n"
     ]
    }
   ],
   "source": [
    "print(a)\n"
   ]
  },
  {
   "cell_type": "code",
   "execution_count": 45,
   "id": "d9066316",
   "metadata": {},
   "outputs": [
    {
     "data": {
      "text/plain": [
       "numpy.ndarray"
      ]
     },
     "execution_count": 45,
     "metadata": {},
     "output_type": "execute_result"
    }
   ],
   "source": [
    "type(a)"
   ]
  },
  {
   "cell_type": "code",
   "execution_count": 46,
   "id": "15125677",
   "metadata": {},
   "outputs": [
    {
     "data": {
      "text/plain": [
       "dtype('int32')"
      ]
     },
     "execution_count": 46,
     "metadata": {},
     "output_type": "execute_result"
    }
   ],
   "source": [
    "a.dtype"
   ]
  },
  {
   "cell_type": "code",
   "execution_count": 49,
   "id": "0713a492",
   "metadata": {},
   "outputs": [
    {
     "data": {
      "text/plain": [
       "5"
      ]
     },
     "execution_count": 49,
     "metadata": {},
     "output_type": "execute_result"
    }
   ],
   "source": [
    "a.size\n"
   ]
  },
  {
   "cell_type": "code",
   "execution_count": 50,
   "id": "ca765dc6",
   "metadata": {},
   "outputs": [
    {
     "data": {
      "text/plain": [
       "1"
      ]
     },
     "execution_count": 50,
     "metadata": {},
     "output_type": "execute_result"
    }
   ],
   "source": [
    "a.ndim"
   ]
  },
  {
   "cell_type": "code",
   "execution_count": 51,
   "id": "8a367390",
   "metadata": {},
   "outputs": [
    {
     "data": {
      "text/plain": [
       "(5,)"
      ]
     },
     "execution_count": 51,
     "metadata": {},
     "output_type": "execute_result"
    }
   ],
   "source": [
    "a.shape"
   ]
  },
  {
   "cell_type": "code",
   "execution_count": 57,
   "id": "b569b4c8",
   "metadata": {},
   "outputs": [],
   "source": [
    "b = np.array([3.1,11.02,6.2,213.2,5.2])"
   ]
  },
  {
   "cell_type": "code",
   "execution_count": 58,
   "id": "002151e8",
   "metadata": {},
   "outputs": [
    {
     "data": {
      "text/plain": [
       "numpy.ndarray"
      ]
     },
     "execution_count": 58,
     "metadata": {},
     "output_type": "execute_result"
    }
   ],
   "source": [
    "type(b)"
   ]
  },
  {
   "cell_type": "code",
   "execution_count": 59,
   "id": "e5bc6d10",
   "metadata": {},
   "outputs": [
    {
     "data": {
      "text/plain": [
       "dtype('float64')"
      ]
     },
     "execution_count": 59,
     "metadata": {},
     "output_type": "execute_result"
    }
   ],
   "source": [
    "b.dtype"
   ]
  },
  {
   "cell_type": "code",
   "execution_count": 60,
   "id": "62787dbb",
   "metadata": {},
   "outputs": [],
   "source": [
    "c =np.array([20,1,2,3,4])"
   ]
  },
  {
   "cell_type": "code",
   "execution_count": 62,
   "id": "76a0958e",
   "metadata": {},
   "outputs": [],
   "source": [
    "c[0] = 100"
   ]
  },
  {
   "cell_type": "code",
   "execution_count": 64,
   "id": "df3eec51",
   "metadata": {},
   "outputs": [
    {
     "name": "stdout",
     "output_type": "stream",
     "text": [
      "[100   1   2   3   4]\n"
     ]
    }
   ],
   "source": [
    "print(c)"
   ]
  },
  {
   "cell_type": "code",
   "execution_count": 65,
   "id": "92c880f0",
   "metadata": {},
   "outputs": [],
   "source": [
    "c[4] = 0"
   ]
  },
  {
   "cell_type": "code",
   "execution_count": 66,
   "id": "80da8449",
   "metadata": {},
   "outputs": [
    {
     "data": {
      "text/plain": [
       "array([100,   1,   2,   3,   0])"
      ]
     },
     "execution_count": 66,
     "metadata": {},
     "output_type": "execute_result"
    }
   ],
   "source": [
    "c"
   ]
  },
  {
   "cell_type": "code",
   "execution_count": 67,
   "id": "8a7618c9",
   "metadata": {},
   "outputs": [],
   "source": [
    "d = c[1:4]"
   ]
  },
  {
   "cell_type": "code",
   "execution_count": 68,
   "id": "d8f7d170",
   "metadata": {},
   "outputs": [
    {
     "data": {
      "text/plain": [
       "array([1, 2, 3])"
      ]
     },
     "execution_count": 68,
     "metadata": {},
     "output_type": "execute_result"
    }
   ],
   "source": [
    "d"
   ]
  },
  {
   "cell_type": "code",
   "execution_count": 69,
   "id": "81649ae5",
   "metadata": {},
   "outputs": [],
   "source": [
    "c[3:5] = 300,400"
   ]
  },
  {
   "cell_type": "code",
   "execution_count": 70,
   "id": "ed367e32",
   "metadata": {},
   "outputs": [
    {
     "data": {
      "text/plain": [
       "array([100,   1,   2, 300, 400])"
      ]
     },
     "execution_count": 70,
     "metadata": {},
     "output_type": "execute_result"
    }
   ],
   "source": [
    "c"
   ]
  },
  {
   "cell_type": "code",
   "execution_count": 83,
   "id": "4a3efca4",
   "metadata": {},
   "outputs": [
    {
     "data": {
      "text/plain": [
       "array([3, 3])"
      ]
     },
     "execution_count": 83,
     "metadata": {},
     "output_type": "execute_result"
    }
   ],
   "source": [
    "u = np.array([1,0])\n",
    "v = np.array([2,3])\n",
    "w = u + v\n",
    "w"
   ]
  },
  {
   "cell_type": "code",
   "execution_count": 86,
   "id": "fb8d3f2c",
   "metadata": {},
   "outputs": [
    {
     "data": {
      "text/plain": [
       "[2, 0]"
      ]
     },
     "execution_count": 86,
     "metadata": {},
     "output_type": "execute_result"
    }
   ],
   "source": [
    "u = [1,0]\n",
    "v = [1,0]\n",
    "#  sum 2 arrays without numpy it cost 3 line of code\n",
    "\n",
    "z = []\n",
    "for  n,m in zip(u,v):\n",
    "    z.append(n+m)\n",
    "    \n",
    "z"
   ]
  },
  {
   "cell_type": "code",
   "execution_count": 88,
   "id": "4b36e9af",
   "metadata": {},
   "outputs": [
    {
     "data": {
      "text/plain": [
       "array([2, 0])"
      ]
     },
     "execution_count": 88,
     "metadata": {},
     "output_type": "execute_result"
    }
   ],
   "source": [
    "u = np.array([1,0])\n",
    "v = np.array([1,0])\n",
    "\n",
    "# but we can do it in one like code:\n",
    "z = u+v\n",
    "z"
   ]
  },
  {
   "cell_type": "code",
   "execution_count": 89,
   "id": "f35d9eb8",
   "metadata": {},
   "outputs": [
    {
     "data": {
      "text/plain": [
       "array([2, 4])"
      ]
     },
     "execution_count": 89,
     "metadata": {},
     "output_type": "execute_result"
    }
   ],
   "source": [
    "# to subtract 1 array it require one line to do it:\n",
    "y = np.array([1,2])\n",
    "z = y*2\n",
    "z"
   ]
  },
  {
   "cell_type": "code",
   "execution_count": 95,
   "id": "22b41208",
   "metadata": {},
   "outputs": [
    {
     "data": {
      "text/plain": [
       "[2, 4]"
      ]
     },
     "execution_count": 95,
     "metadata": {},
     "output_type": "execute_result"
    }
   ],
   "source": [
    "# could require multible line of codes:\n",
    "y = [1,2]\n",
    "z = []\n",
    "\n",
    "for n in y:\n",
    "    z.append(2*n)\n",
    "\n",
    "z "
   ]
  },
  {
   "cell_type": "code",
   "execution_count": 99,
   "id": "75e0d6a9",
   "metadata": {},
   "outputs": [
    {
     "data": {
      "text/plain": [
       "array([3, 4])"
      ]
     },
     "execution_count": 99,
     "metadata": {},
     "output_type": "execute_result"
    }
   ],
   "source": [
    "# the Hadamard Product of u and v is a new victor:\n",
    "u = np.array([1,2])\n",
    "v = np.array([3,2])\n",
    "\n",
    "z = u * v\n",
    "z"
   ]
  },
  {
   "cell_type": "code",
   "execution_count": 102,
   "id": "6e0cc049",
   "metadata": {},
   "outputs": [
    {
     "data": {
      "text/plain": [
       "[3, 4]"
      ]
     },
     "execution_count": 102,
     "metadata": {},
     "output_type": "execute_result"
    }
   ],
   "source": [
    "# without np:\n",
    "u = [1,2]\n",
    "v = [3,2]\n",
    "\n",
    "z= []\n",
    "for n,m in zip(u,v):\n",
    "    z.append(n*m)\n",
    "z"
   ]
  },
  {
   "cell_type": "code",
   "execution_count": 103,
   "id": "79d63e78",
   "metadata": {},
   "outputs": [
    {
     "data": {
      "text/plain": [
       "7"
      ]
     },
     "execution_count": 103,
     "metadata": {},
     "output_type": "execute_result"
    }
   ],
   "source": [
    "#the dot product\n",
    "u = np.array([1,2])\n",
    "v = np.array([3,2])\n",
    "\n",
    "z = np.dot(u,v)\n",
    "z"
   ]
  },
  {
   "cell_type": "code",
   "execution_count": 105,
   "id": "b9eaf347",
   "metadata": {},
   "outputs": [
    {
     "data": {
      "text/plain": [
       "array([2, 3, 4, 0])"
      ]
     },
     "execution_count": 105,
     "metadata": {},
     "output_type": "execute_result"
    }
   ],
   "source": [
    "# do prodcasting for all the element in np array:\n",
    "u = np.array([1,2,3,-1])\n",
    "z = u+1\n",
    "z"
   ]
  },
  {
   "cell_type": "markdown",
   "id": "a3752380",
   "metadata": {},
   "source": [
    "### Universal Functions"
   ]
  },
  {
   "cell_type": "code",
   "execution_count": 108,
   "id": "eb2143b8",
   "metadata": {},
   "outputs": [
    {
     "data": {
      "text/plain": [
       "0.0"
      ]
     },
     "execution_count": 108,
     "metadata": {},
     "output_type": "execute_result"
    }
   ],
   "source": [
    "# Mean\n",
    "a = np.array([1,-1,1,-1])\n",
    "mean_a = a.mean()\n",
    "mean_a"
   ]
  },
  {
   "cell_type": "code",
   "execution_count": 109,
   "id": "3659a774",
   "metadata": {},
   "outputs": [
    {
     "data": {
      "text/plain": [
       "5"
      ]
     },
     "execution_count": 109,
     "metadata": {},
     "output_type": "execute_result"
    }
   ],
   "source": [
    "b = np.array([1,-2,3,4,5])\n",
    "max_b = b.max()\n",
    "max_b"
   ]
  },
  {
   "cell_type": "code",
   "execution_count": 110,
   "id": "80bb363f",
   "metadata": {},
   "outputs": [
    {
     "data": {
      "text/plain": [
       "array([0.        , 1.57079633, 3.14159265])"
      ]
     },
     "execution_count": 110,
     "metadata": {},
     "output_type": "execute_result"
    }
   ],
   "source": [
    "x = np.array([0, np.pi/2, np.pi])\n",
    "x"
   ]
  },
  {
   "cell_type": "code",
   "execution_count": 113,
   "id": "895057ea",
   "metadata": {},
   "outputs": [
    {
     "data": {
      "text/plain": [
       "array([0.0000000e+00, 1.0000000e+00, 1.2246468e-16])"
      ]
     },
     "execution_count": 113,
     "metadata": {},
     "output_type": "execute_result"
    }
   ],
   "source": [
    "y = np.sin(x)\n",
    "y"
   ]
  },
  {
   "cell_type": "code",
   "execution_count": null,
   "id": "4a3bdaf9",
   "metadata": {},
   "outputs": [],
   "source": []
  }
 ],
 "metadata": {
  "kernelspec": {
   "display_name": "Python 3 (ipykernel)",
   "language": "python",
   "name": "python3"
  },
  "language_info": {
   "codemirror_mode": {
    "name": "ipython",
    "version": 3
   },
   "file_extension": ".py",
   "mimetype": "text/x-python",
   "name": "python",
   "nbconvert_exporter": "python",
   "pygments_lexer": "ipython3",
   "version": "3.11.2"
  }
 },
 "nbformat": 4,
 "nbformat_minor": 5
}
