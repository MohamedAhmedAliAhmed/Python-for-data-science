{
 "cells": [
  {
   "cell_type": "code",
   "execution_count": 1,
   "id": "687dfb5b-4d2d-4ca2-abf7-6c7980084c26",
   "metadata": {},
   "outputs": [
    {
     "name": "stdout",
     "output_type": "stream",
     "text": [
      "Hello\n",
      "World!\n"
     ]
    }
   ],
   "source": [
    "print(\"Hello\\nWorld!\")"
   ]
  },
  {
   "cell_type": "code",
   "execution_count": 2,
   "id": "1536fd0f-5983-4c3b-9ad3-f974bea26bf2",
   "metadata": {},
   "outputs": [],
   "source": [
    "# print('Hello World!')"
   ]
  },
  {
   "cell_type": "code",
   "execution_count": 3,
   "id": "9d8aacae-e548-4bae-8a4f-2c7a13ac108e",
   "metadata": {},
   "outputs": [
    {
     "data": {
      "text/plain": [
       "int"
      ]
     },
     "execution_count": 3,
     "metadata": {},
     "output_type": "execute_result"
    }
   ],
   "source": [
    "type(int(1.0))"
   ]
  },
  {
   "cell_type": "code",
   "execution_count": 4,
   "id": "ae60420d-57be-4b0d-a6ee-92708aec39ef",
   "metadata": {},
   "outputs": [
    {
     "data": {
      "text/plain": [
       "True"
      ]
     },
     "execution_count": 4,
     "metadata": {},
     "output_type": "execute_result"
    }
   ],
   "source": [
    "bool(1)"
   ]
  },
  {
   "cell_type": "code",
   "execution_count": 5,
   "id": "ccfa17e9-d642-42c1-aa9f-03b173cebe75",
   "metadata": {},
   "outputs": [
    {
     "data": {
      "text/plain": [
       "'Michael Jackson'"
      ]
     },
     "execution_count": 5,
     "metadata": {},
     "output_type": "execute_result"
    }
   ],
   "source": [
    "name = \"Michael Jackson\"\n",
    "name"
   ]
  },
  {
   "cell_type": "code",
   "execution_count": 6,
   "id": "d03b5c02-cc62-4672-b07e-2aec76faab6f",
   "metadata": {},
   "outputs": [
    {
     "data": {
      "text/plain": [
       "'Mich'"
      ]
     },
     "execution_count": 6,
     "metadata": {},
     "output_type": "execute_result"
    }
   ],
   "source": [
    "name[0:4]"
   ]
  },
  {
   "cell_type": "code",
   "execution_count": 7,
   "id": "bd375eb9-64a0-4dd1-8a7b-3bfd501e38bc",
   "metadata": {},
   "outputs": [
    {
     "data": {
      "text/plain": [
       "'Jack'"
      ]
     },
     "execution_count": 7,
     "metadata": {},
     "output_type": "execute_result"
    }
   ],
   "source": [
    "name[8:12]"
   ]
  },
  {
   "cell_type": "code",
   "execution_count": 8,
   "id": "2d96f26d-b9e4-45a5-b707-3141d6dc1ed8",
   "metadata": {},
   "outputs": [
    {
     "data": {
      "text/plain": [
       "'Mca'"
      ]
     },
     "execution_count": 8,
     "metadata": {},
     "output_type": "execute_result"
    }
   ],
   "source": [
    "name[0:5:2]"
   ]
  },
  {
   "cell_type": "code",
   "execution_count": 9,
   "id": "e8c79abd-38e1-4f78-bd8e-68a666ec9989",
   "metadata": {},
   "outputs": [
    {
     "data": {
      "text/plain": [
       "15"
      ]
     },
     "execution_count": 9,
     "metadata": {},
     "output_type": "execute_result"
    }
   ],
   "source": [
    "len(name)"
   ]
  },
  {
   "cell_type": "code",
   "execution_count": 10,
   "id": "b2e98597-a117-45fb-bd80-2454a0b807ad",
   "metadata": {},
   "outputs": [
    {
     "data": {
      "text/plain": [
       "'Michael Jackson Is the best'"
      ]
     },
     "execution_count": 10,
     "metadata": {},
     "output_type": "execute_result"
    }
   ],
   "source": [
    "statement = name + \" Is the best\"\n",
    "statement"
   ]
  },
  {
   "cell_type": "code",
   "execution_count": 11,
   "id": "476d228a-cd22-49af-937e-65af28b2096a",
   "metadata": {},
   "outputs": [
    {
     "data": {
      "text/plain": [
       "'Michael Jackson Michael Jackson Michael Jackson '"
      ]
     },
     "execution_count": 11,
     "metadata": {},
     "output_type": "execute_result"
    }
   ],
   "source": [
    "replicated = (name +\" \")*3\n",
    "replicated"
   ]
  },
  {
   "cell_type": "code",
   "execution_count": 12,
   "id": "1df28705-121c-4672-a015-a04aef3042bc",
   "metadata": {},
   "outputs": [],
   "source": [
    "name = name + \" Is the best\""
   ]
  },
  {
   "cell_type": "code",
   "execution_count": 13,
   "id": "0b6df49b-849f-463a-9b05-c02c060b428c",
   "metadata": {},
   "outputs": [
    {
     "data": {
      "text/plain": [
       "'Michael Jackson Is the best'"
      ]
     },
     "execution_count": 13,
     "metadata": {},
     "output_type": "execute_result"
    }
   ],
   "source": [
    "name"
   ]
  },
  {
   "cell_type": "code",
   "execution_count": 14,
   "id": "e5ab5511-d2f3-4a12-9d3e-073ba4fbf585",
   "metadata": {},
   "outputs": [
    {
     "name": "stdout",
     "output_type": "stream",
     "text": [
      "Michael Jackson \n",
      " is the best\n"
     ]
    }
   ],
   "source": [
    "print(\"Michael Jackson \\n is the best\")"
   ]
  },
  {
   "cell_type": "code",
   "execution_count": 15,
   "id": "40e458aa-f575-4fad-a6a2-0e57123a73d4",
   "metadata": {},
   "outputs": [
    {
     "name": "stdout",
     "output_type": "stream",
     "text": [
      "Michael Jackson \t is the best\n"
     ]
    }
   ],
   "source": [
    "print(\"Michael Jackson \\t is the best\")"
   ]
  },
  {
   "cell_type": "code",
   "execution_count": 16,
   "id": "757c9a18-05b0-4f2a-8c93-1cfff682cd3d",
   "metadata": {},
   "outputs": [
    {
     "name": "stdout",
     "output_type": "stream",
     "text": [
      "Michael Jackson \\ is the best\n"
     ]
    }
   ],
   "source": [
    "print(\"Michael Jackson \\\\ is the best\")"
   ]
  },
  {
   "cell_type": "code",
   "execution_count": 17,
   "id": "13a01480-abf2-409b-ae9b-ec0b99954f7c",
   "metadata": {},
   "outputs": [
    {
     "name": "stdout",
     "output_type": "stream",
     "text": [
      "Michael Jackson \\ is the best\n"
     ]
    }
   ],
   "source": [
    "print(r\"Michael Jackson \\ is the best\")"
   ]
  },
  {
   "cell_type": "code",
   "execution_count": 18,
   "id": "11670439-95b1-4685-a47a-1b887c100260",
   "metadata": {},
   "outputs": [],
   "source": [
    "a = \"thriller is the sixth studio album\""
   ]
  },
  {
   "cell_type": "code",
   "execution_count": 19,
   "id": "54fc3b7c-09eb-4b1d-b637-3d90f70f4987",
   "metadata": {},
   "outputs": [
    {
     "data": {
      "text/plain": [
       "'THRILLER IS THE SIXTH STUDIO ALBUM'"
      ]
     },
     "execution_count": 19,
     "metadata": {},
     "output_type": "execute_result"
    }
   ],
   "source": [
    "a.upper()"
   ]
  },
  {
   "cell_type": "code",
   "execution_count": 20,
   "id": "37baa6d4-d9fa-4318-a82c-f16a225b708a",
   "metadata": {},
   "outputs": [],
   "source": [
    "a = \"Michael Jackson is the best\""
   ]
  },
  {
   "cell_type": "code",
   "execution_count": 21,
   "id": "67265c71-b338-4f62-b2d1-0d0889814b18",
   "metadata": {},
   "outputs": [
    {
     "data": {
      "text/plain": [
       "'Janet Jackson is the best'"
      ]
     },
     "execution_count": 21,
     "metadata": {},
     "output_type": "execute_result"
    }
   ],
   "source": [
    "b = a.replace('Michael', \"Janet\")\n",
    "b"
   ]
  },
  {
   "cell_type": "code",
   "execution_count": 22,
   "id": "6dc32e0a-6f9d-43b6-b223-fc6aaaa0ad81",
   "metadata": {},
   "outputs": [
    {
     "data": {
      "text/plain": [
       "'Michael Jackson Is the best'"
      ]
     },
     "execution_count": 22,
     "metadata": {},
     "output_type": "execute_result"
    }
   ],
   "source": [
    "name"
   ]
  },
  {
   "cell_type": "code",
   "execution_count": 23,
   "id": "39331e98-0af7-4916-a37c-30a17532e5ea",
   "metadata": {},
   "outputs": [
    {
     "data": {
      "text/plain": [
       "5"
      ]
     },
     "execution_count": 23,
     "metadata": {},
     "output_type": "execute_result"
    }
   ],
   "source": [
    "name.find(\"el\")"
   ]
  },
  {
   "cell_type": "code",
   "execution_count": 24,
   "id": "515387d5-339b-4899-b871-083a50e90ff9",
   "metadata": {},
   "outputs": [
    {
     "data": {
      "text/plain": [
       "8"
      ]
     },
     "execution_count": 24,
     "metadata": {},
     "output_type": "execute_result"
    }
   ],
   "source": [
    "name.upper().find(\"JACK\")"
   ]
  },
  {
   "cell_type": "code",
   "execution_count": 25,
   "id": "d5f5ca0c-6568-4b50-93c2-abcb3f9caff9",
   "metadata": {},
   "outputs": [],
   "source": [
    "Numbers = \"0123456\""
   ]
  },
  {
   "cell_type": "code",
   "execution_count": 26,
   "id": "b134a1f7-7ea7-476d-bf19-87a4b1d945a1",
   "metadata": {},
   "outputs": [
    {
     "data": {
      "text/plain": [
       "'0246'"
      ]
     },
     "execution_count": 26,
     "metadata": {},
     "output_type": "execute_result"
    }
   ],
   "source": [
    "Numbers[::2]"
   ]
  },
  {
   "cell_type": "code",
   "execution_count": 27,
   "id": "f29eee58-75de-43b2-b373-0f88f258271c",
   "metadata": {},
   "outputs": [
    {
     "data": {
      "text/plain": [
       "1"
      ]
     },
     "execution_count": 27,
     "metadata": {},
     "output_type": "execute_result"
    }
   ],
   "source": [
    "\"0123456\".find('1')"
   ]
  },
  {
   "cell_type": "code",
   "execution_count": 28,
   "id": "593b3cfc-cc19-43bd-9823-835f1f5c7956",
   "metadata": {},
   "outputs": [
    {
     "data": {
      "text/plain": [
       "7"
      ]
     },
     "execution_count": 28,
     "metadata": {},
     "output_type": "execute_result"
    }
   ],
   "source": [
    "3 + 2 * 2"
   ]
  },
  {
   "cell_type": "code",
   "execution_count": 29,
   "id": "e457b143-0887-4fcb-9640-b428554adfd1",
   "metadata": {},
   "outputs": [],
   "source": [
    "name = 'Lizz'"
   ]
  },
  {
   "cell_type": "code",
   "execution_count": 30,
   "id": "1e53829e-d540-46ef-92d0-412d3b08e94c",
   "metadata": {},
   "outputs": [
    {
     "name": "stdout",
     "output_type": "stream",
     "text": [
      "Li\n"
     ]
    }
   ],
   "source": [
    "print(name[0:2])"
   ]
  },
  {
   "cell_type": "code",
   "execution_count": 31,
   "id": "99d4be99-7e8c-4080-a18c-c9ef33b6ccff",
   "metadata": {},
   "outputs": [],
   "source": [
    "var = '01234567'"
   ]
  },
  {
   "cell_type": "code",
   "execution_count": 32,
   "id": "9f3ac84f-2cfc-4da2-8bdb-52722bb3004b",
   "metadata": {},
   "outputs": [
    {
     "name": "stdout",
     "output_type": "stream",
     "text": [
      "0246\n"
     ]
    }
   ],
   "source": [
    "print(var[::2])"
   ]
  },
  {
   "cell_type": "code",
   "execution_count": 33,
   "id": "2462158d-a810-4fbf-af27-6461b1ded0bd",
   "metadata": {},
   "outputs": [
    {
     "data": {
      "text/plain": [
       "'12'"
      ]
     },
     "execution_count": 33,
     "metadata": {},
     "output_type": "execute_result"
    }
   ],
   "source": [
    "'1'+'2'"
   ]
  },
  {
   "cell_type": "code",
   "execution_count": 34,
   "id": "ce2b4454-847d-4348-bf2a-e50642ed1f09",
   "metadata": {},
   "outputs": [],
   "source": [
    "myvar = 'hello'"
   ]
  },
  {
   "cell_type": "code",
   "execution_count": 35,
   "id": "b3297da8-7fb5-47ff-a6dc-687cb5d5776a",
   "metadata": {},
   "outputs": [
    {
     "data": {
      "text/plain": [
       "'HELLO'"
      ]
     },
     "execution_count": 35,
     "metadata": {},
     "output_type": "execute_result"
    }
   ],
   "source": [
    "myvar.upper()"
   ]
  },
  {
   "cell_type": "code",
   "execution_count": 36,
   "id": "677422ed-31fc-4b33-9ea4-bdb145a1f444",
   "metadata": {},
   "outputs": [],
   "source": [
    "tuple1 = (\"disco\", 10, 1.2)"
   ]
  },
  {
   "cell_type": "code",
   "execution_count": 37,
   "id": "8569144d-555a-43c2-8b4b-bf180abb6d52",
   "metadata": {},
   "outputs": [
    {
     "data": {
      "text/plain": [
       "('disco', 10, 1.2)"
      ]
     },
     "execution_count": 37,
     "metadata": {},
     "output_type": "execute_result"
    }
   ],
   "source": [
    "tuple1"
   ]
  },
  {
   "cell_type": "code",
   "execution_count": 38,
   "id": "501d2a45-1421-4c1d-bb2f-b261f126c7dc",
   "metadata": {},
   "outputs": [
    {
     "data": {
      "text/plain": [
       "('disco', 10, 1.2)"
      ]
     },
     "execution_count": 38,
     "metadata": {},
     "output_type": "execute_result"
    }
   ],
   "source": [
    "tuple1[::1]"
   ]
  },
  {
   "cell_type": "code",
   "execution_count": 39,
   "id": "3d6a7cb0-7c90-4417-a7a6-c0d0c6d3a5ae",
   "metadata": {},
   "outputs": [],
   "source": [
    "tuple2 = tuple1 + (\"Hard Rock\", 13)"
   ]
  },
  {
   "cell_type": "code",
   "execution_count": 40,
   "id": "6730bc45-9b10-423b-978b-2b9bd6490e11",
   "metadata": {},
   "outputs": [
    {
     "data": {
      "text/plain": [
       "('disco', 10, 1.2, 'Hard Rock', 13)"
      ]
     },
     "execution_count": 40,
     "metadata": {},
     "output_type": "execute_result"
    }
   ],
   "source": [
    "tuple2"
   ]
  },
  {
   "cell_type": "code",
   "execution_count": 41,
   "id": "84f41005-8859-41ca-915e-19236df6a37d",
   "metadata": {},
   "outputs": [
    {
     "data": {
      "text/plain": [
       "('disco', 10, 1.2)"
      ]
     },
     "execution_count": 41,
     "metadata": {},
     "output_type": "execute_result"
    }
   ],
   "source": [
    "tuple2[0:3]"
   ]
  },
  {
   "cell_type": "code",
   "execution_count": 42,
   "id": "38bfb58d-f1c9-4fd5-b089-43f8e7ba315e",
   "metadata": {},
   "outputs": [
    {
     "data": {
      "text/plain": [
       "('Hard Rock', 13)"
      ]
     },
     "execution_count": 42,
     "metadata": {},
     "output_type": "execute_result"
    }
   ],
   "source": [
    "\n",
    "tuple2[3:5]"
   ]
  },
  {
   "cell_type": "code",
   "execution_count": 43,
   "id": "0f4cc761-ce4b-4cd9-958d-9cb98d069ff7",
   "metadata": {},
   "outputs": [
    {
     "data": {
      "text/plain": [
       "5"
      ]
     },
     "execution_count": 43,
     "metadata": {},
     "output_type": "execute_result"
    }
   ],
   "source": [
    "len(tuple2)"
   ]
  },
  {
   "cell_type": "code",
   "execution_count": null,
   "id": "00555237-347f-4ed0-aeb6-3acc4dda0a28",
   "metadata": {},
   "outputs": [],
   "source": [
    "Ratings = (2,10,1)"
   ]
  },
  {
   "cell_type": "code",
   "execution_count": null,
   "id": "24edf3cb-6c45-493c-8102-a2f158e81c11",
   "metadata": {},
   "outputs": [],
   "source": [
    "Ratings = (10,9,6,5,10,8,9,6,2)"
   ]
  },
  {
   "cell_type": "code",
   "execution_count": null,
   "id": "969b9838-385f-484d-b1b9-be2749fbb7b5",
   "metadata": {},
   "outputs": [],
   "source": [
    "RatingsSorted = sorted(Ratings)"
   ]
  },
  {
   "cell_type": "code",
   "execution_count": null,
   "id": "52cae107-bbd8-4f33-943e-cea313deb0b7",
   "metadata": {},
   "outputs": [
    {
     "data": {
      "text/plain": [
       "[2, 5, 6, 6, 8, 9, 9, 10, 10]"
      ]
     },
     "execution_count": 97,
     "metadata": {},
     "output_type": "execute_result"
    }
   ],
   "source": [
    "RatingsSorted"
   ]
  },
  {
   "cell_type": "code",
   "execution_count": null,
   "id": "98366701-d98f-4c60-ac46-18d98b77ecad",
   "metadata": {},
   "outputs": [],
   "source": [
    "NT = (1,2,(\"pop\",\"rock\"),(3,4),(\"disco\",(1,2)))"
   ]
  },
  {
   "cell_type": "code",
   "execution_count": null,
   "id": "56ea00be-816b-4c83-9f7c-479868d17079",
   "metadata": {},
   "outputs": [
    {
     "data": {
      "text/plain": [
       "(1, 2, ('pop', 'rock'), (3, 4), ('disco', (1, 2)))"
      ]
     },
     "execution_count": 99,
     "metadata": {},
     "output_type": "execute_result"
    }
   ],
   "source": [
    "NT"
   ]
  },
  {
   "cell_type": "code",
   "execution_count": null,
   "id": "16307249-2867-4c26-be40-5a5c30bdac5c",
   "metadata": {},
   "outputs": [
    {
     "data": {
      "text/plain": [
       "'pop'"
      ]
     },
     "execution_count": 108,
     "metadata": {},
     "output_type": "execute_result"
    }
   ],
   "source": [
    "NT[2][0]"
   ]
  },
  {
   "cell_type": "code",
   "execution_count": null,
   "id": "bdce9745-8fd8-4a93-8257-04552feb9961",
   "metadata": {},
   "outputs": [
    {
     "data": {
      "text/plain": [
       "'roc'"
      ]
     },
     "execution_count": 111,
     "metadata": {},
     "output_type": "execute_result"
    }
   ],
   "source": [
    "NT[2][1][0:3]"
   ]
  },
  {
   "cell_type": "code",
   "execution_count": null,
   "id": "69ffd6b9-8dc3-4d88-af51-19c102d0b75f",
   "metadata": {},
   "outputs": [
    {
     "data": {
      "text/plain": [
       "(1, 2)"
      ]
     },
     "execution_count": 113,
     "metadata": {},
     "output_type": "execute_result"
    }
   ],
   "source": [
    "NT[4][1]"
   ]
  },
  {
   "cell_type": "code",
   "execution_count": null,
   "id": "2964d3aa-7788-467d-97ec-afd4593c213c",
   "metadata": {},
   "outputs": [
    {
     "data": {
      "text/plain": [
       "2"
      ]
     },
     "execution_count": 114,
     "metadata": {},
     "output_type": "execute_result"
    }
   ],
   "source": [
    "NT[4][1][1]"
   ]
  },
  {
   "attachments": {
    "c87270bd-1b4d-401b-b989-1626f2241b7b.png": {
     "image/png": "[encoded data removed]"
    }
   },
   "cell_type": "markdown",
   "id": "a2ac7280-0146-4731-ad2e-13634fa9a448",
   "metadata": {},
   "source": [
    "![image.png](attachment:c87270bd-1b4d-401b-b989-1626f2241b7b.png)"
   ]
  },
  {
   "cell_type": "code",
   "execution_count": null,
   "id": "73938262-4fa4-47cf-9bfe-1ddc83a7ce10",
   "metadata": {},
   "outputs": [],
   "source": [
    "L = ['Michael Jackson',10.1,1982]"
   ]
  },
  {
   "cell_type": "code",
   "execution_count": null,
   "id": "f0d91f56-91d3-4937-8487-5bfb9402510e",
   "metadata": {},
   "outputs": [
    {
     "data": {
      "text/plain": [
       "['Michael Jackson', 10.1, 1982]"
      ]
     },
     "execution_count": 116,
     "metadata": {},
     "output_type": "execute_result"
    }
   ],
   "source": [
    "L"
   ]
  },
  {
   "cell_type": "code",
   "execution_count": null,
   "id": "ed313fe4-3a1a-4b4d-9546-ff4ade875a17",
   "metadata": {},
   "outputs": [
    {
     "data": {
      "text/plain": [
       "'Michael Jackson'"
      ]
     },
     "execution_count": 117,
     "metadata": {},
     "output_type": "execute_result"
    }
   ],
   "source": [
    "L[0]"
   ]
  },
  {
   "cell_type": "code",
   "execution_count": null,
   "id": "a392bde1-f4e6-4987-a1b8-4da7f4376e3b",
   "metadata": {},
   "outputs": [],
   "source": [
    "L = L + [\"MJ\",1]"
   ]
  },
  {
   "cell_type": "code",
   "execution_count": null,
   "id": "17237ce0-2832-4f1f-aad3-718d11a90a59",
   "metadata": {},
   "outputs": [
    {
     "data": {
      "text/plain": [
       "['Michael Jackson', 10.1, 1982, 'MJ', 1]"
      ]
     },
     "execution_count": 119,
     "metadata": {},
     "output_type": "execute_result"
    }
   ],
   "source": [
    "L"
   ]
  },
  {
   "cell_type": "code",
   "execution_count": null,
   "id": "f3605af2-2c80-4151-8da2-01c193629c00",
   "metadata": {},
   "outputs": [
    {
     "data": {
      "text/plain": [
       "['MJ', 1]"
      ]
     },
     "execution_count": 120,
     "metadata": {},
     "output_type": "execute_result"
    }
   ],
   "source": [
    "L[3:5]"
   ]
  },
  {
   "cell_type": "code",
   "execution_count": null,
   "id": "3817a00c-ba8e-445a-b669-b67d2ca9e0ac",
   "metadata": {},
   "outputs": [],
   "source": [
    "L1 = L+ [\"pop\",10]"
   ]
  },
  {
   "cell_type": "code",
   "execution_count": null,
   "id": "defb1413-25b3-493b-937a-a76e9253d5cc",
   "metadata": {},
   "outputs": [
    {
     "data": {
      "text/plain": [
       "['Michael Jackson', 10.1, 1982, 'pop', 10]"
      ]
     },
     "execution_count": 123,
     "metadata": {},
     "output_type": "execute_result"
    }
   ],
   "source": [
    "L1"
   ]
  },
  {
   "cell_type": "code",
   "execution_count": null,
   "id": "dc48267f-534d-4bd2-a496-8c373e67f39b",
   "metadata": {},
   "outputs": [
    {
     "data": {
      "text/plain": [
       "['Michael Jackson', 10.1, 1982, 'pop', 12]"
      ]
     },
     "execution_count": 131,
     "metadata": {},
     "output_type": "execute_result"
    }
   ],
   "source": [
    "L.extend([\"pop\",12])\n",
    "L"
   ]
  },
  {
   "cell_type": "code",
   "execution_count": null,
   "id": "6bb765f7-5078-4e0e-9a6d-5e5692b9c676",
   "metadata": {},
   "outputs": [],
   "source": [
    "L.append(['pop',17])"
   ]
  },
  {
   "cell_type": "code",
   "execution_count": null,
   "id": "7cce5c0d-ceaf-465d-b37d-42ec255f27a1",
   "metadata": {},
   "outputs": [
    {
     "data": {
      "text/plain": [
       "['Michael Jackson', 10.1, 1982, ['pop', 17]]"
      ]
     },
     "execution_count": 134,
     "metadata": {},
     "output_type": "execute_result"
    }
   ],
   "source": [
    "L"
   ]
  },
  {
   "cell_type": "code",
   "execution_count": null,
   "id": "113cb048-8977-4f78-9bb0-e7f7e58cdf6c",
   "metadata": {},
   "outputs": [
    {
     "data": {
      "text/plain": [
       "4"
      ]
     },
     "execution_count": 135,
     "metadata": {},
     "output_type": "execute_result"
    }
   ],
   "source": [
    "len(L)"
   ]
  },
  {
   "cell_type": "code",
   "execution_count": null,
   "id": "990335ea-d3b9-46de-965b-d471850bdae2",
   "metadata": {},
   "outputs": [],
   "source": [
    "L.append(\"A\")"
   ]
  },
  {
   "cell_type": "code",
   "execution_count": null,
   "id": "19e46b1c-ed8a-4b7e-8716-11262c5f0d9e",
   "metadata": {},
   "outputs": [
    {
     "data": {
      "text/plain": [
       "['Michael Jackson', 10.1, 1982, ['pop', 17], 'A']"
      ]
     },
     "execution_count": 143,
     "metadata": {},
     "output_type": "execute_result"
    }
   ],
   "source": [
    "L"
   ]
  },
  {
   "cell_type": "code",
   "execution_count": null,
   "id": "36c919d2-dcb2-407e-802a-bb2a0a58c224",
   "metadata": {},
   "outputs": [
    {
     "data": {
      "text/plain": [
       "['Michael Jackson', 10.1, 1982]"
      ]
     },
     "execution_count": 144,
     "metadata": {},
     "output_type": "execute_result"
    }
   ],
   "source": [
    "del(L[3::1])\n",
    "L"
   ]
  },
  {
   "cell_type": "code",
   "execution_count": null,
   "id": "8189db48-cfb9-446e-bc8a-ad2cfc658572",
   "metadata": {},
   "outputs": [],
   "source": [
    "A = [\"disco\",10, 1.2]"
   ]
  },
  {
   "cell_type": "code",
   "execution_count": null,
   "id": "010d1a49-dda4-4274-8d00-b802775c09de",
   "metadata": {},
   "outputs": [],
   "source": [
    "A[0] = \"hard rock\""
   ]
  },
  {
   "cell_type": "code",
   "execution_count": null,
   "id": "c76ff342-769c-49aa-bb1c-e9899ce1f52f",
   "metadata": {},
   "outputs": [
    {
     "data": {
      "text/plain": [
       "['hard rock', 10, 1.2]"
      ]
     },
     "execution_count": 140,
     "metadata": {},
     "output_type": "execute_result"
    }
   ],
   "source": [
    "A"
   ]
  },
  {
   "cell_type": "code",
   "execution_count": null,
   "id": "b90069c4-03e0-4b50-b341-b84b6be66c68",
   "metadata": {},
   "outputs": [
    {
     "data": {
      "text/plain": [
       "['hard', 'rock']"
      ]
     },
     "execution_count": 146,
     "metadata": {},
     "output_type": "execute_result"
    }
   ],
   "source": [
    "\"hard rock\".split()"
   ]
  },
  {
   "cell_type": "code",
   "execution_count": null,
   "id": "1a4e8ac9-f344-40d4-835e-97bcc03bba3c",
   "metadata": {},
   "outputs": [
    {
     "data": {
      "text/plain": [
       "['A', 'B', 'C', 'D']"
      ]
     },
     "execution_count": 148,
     "metadata": {},
     "output_type": "execute_result"
    }
   ],
   "source": [
    "\"A,B,C,D\".split(\",\")"
   ]
  },
  {
   "cell_type": "markdown",
   "id": "2c120df0-4509-4a0c-bb98-3e25d08130b4",
   "metadata": {},
   "source": [
    "<img src=\"attachment:25495960-edf4-47cb-829a-fb45b9c43473.png\" alt=\"image\" width=\"50%\" height=\"50%\">"
   ]
  },
  {
   "cell_type": "code",
   "execution_count": null,
   "id": "ef56c4ea-7a8d-4d98-900d-0d7481eddd50",
   "metadata": {},
   "outputs": [],
   "source": [
    "A = [\"hard rock\",10,1.2]"
   ]
  },
  {
   "cell_type": "code",
   "execution_count": null,
   "id": "d5ce71ee-601d-4e05-9b55-7b7e9cdcdf87",
   "metadata": {},
   "outputs": [],
   "source": [
    "B = A"
   ]
  },
  {
   "cell_type": "code",
   "execution_count": null,
   "id": "c44ffb3e-f7bd-4ac1-81ad-cfe51f0956b4",
   "metadata": {},
   "outputs": [
    {
     "data": {
      "text/plain": [
       "'hard rock'"
      ]
     },
     "execution_count": 170,
     "metadata": {},
     "output_type": "execute_result"
    }
   ],
   "source": [
    "B[0]"
   ]
  },
  {
   "cell_type": "code",
   "execution_count": null,
   "id": "937d9575-dc05-45ff-84dc-438fe4313021",
   "metadata": {},
   "outputs": [],
   "source": [
    "A[0] = \"Banana\""
   ]
  },
  {
   "cell_type": "code",
   "execution_count": null,
   "id": "c4d95f2c-4466-434a-ba62-643bb9de32e4",
   "metadata": {},
   "outputs": [
    {
     "data": {
      "text/plain": [
       "['Banana', 10, 1.2]"
      ]
     },
     "execution_count": 172,
     "metadata": {},
     "output_type": "execute_result"
    }
   ],
   "source": [
    "B"
   ]
  },
  {
   "cell_type": "code",
   "execution_count": null,
   "id": "dd1ea267-3df5-453c-b4d6-7d71f7bfcea5",
   "metadata": {},
   "outputs": [
    {
     "data": {
      "text/plain": [
       "['Banana', 10, 1.2]"
      ]
     },
     "execution_count": 173,
     "metadata": {},
     "output_type": "execute_result"
    }
   ],
   "source": [
    "A"
   ]
  },
  {
   "cell_type": "markdown",
   "id": "eadd0bd6-a411-48fa-bc0f-0532cdd34f06",
   "metadata": {},
   "source": [
    "<img src=\"attachment:f4ba61f4-4bdb-4259-889f-8bbfe17bbafa.png\" alt=\"image\" width=\"50%\" height=\"50%\">"
   ]
  },
  {
   "cell_type": "code",
   "execution_count": null,
   "id": "c052415c-2078-4d44-bf3f-be868c67c49a",
   "metadata": {},
   "outputs": [],
   "source": [
    "A = [\"hard rock\",10,1.2]"
   ]
  },
  {
   "cell_type": "code",
   "execution_count": null,
   "id": "113a3f1c-345a-4286-bf05-3f322f59600e",
   "metadata": {},
   "outputs": [],
   "source": [
    "B = A[:]"
   ]
  },
  {
   "cell_type": "code",
   "execution_count": null,
   "id": "93772883-48ea-41a4-9699-ed228314b55d",
   "metadata": {},
   "outputs": [
    {
     "data": {
      "text/plain": [
       "'hard rock'"
      ]
     },
     "execution_count": 151,
     "metadata": {},
     "output_type": "execute_result"
    }
   ],
   "source": [
    "B[0]"
   ]
  },
  {
   "cell_type": "code",
   "execution_count": null,
   "id": "e8790127-2b94-40e7-99c0-e40ce50ea16a",
   "metadata": {},
   "outputs": [],
   "source": [
    "A[0] = \"Banana\""
   ]
  },
  {
   "cell_type": "code",
   "execution_count": null,
   "id": "7c6e6a21-7cd3-4c87-9544-71b57989e158",
   "metadata": {},
   "outputs": [
    {
     "data": {
      "text/plain": [
       "['hard rock', 10, 1.2]"
      ]
     },
     "execution_count": 160,
     "metadata": {},
     "output_type": "execute_result"
    }
   ],
   "source": [
    "B"
   ]
  },
  {
   "cell_type": "code",
   "execution_count": null,
   "id": "240281ab-5847-4157-b409-2d550502e6dc",
   "metadata": {},
   "outputs": [
    {
     "data": {
      "text/plain": [
       "['Banana', 10, 1.2]"
      ]
     },
     "execution_count": 174,
     "metadata": {},
     "output_type": "execute_result"
    }
   ],
   "source": [
    "A"
   ]
  },
  {
   "cell_type": "code",
   "execution_count": null,
   "id": "6f47680b-ef1d-41f2-b98b-9c687170d6cf",
   "metadata": {},
   "outputs": [],
   "source": [
    "B=[\"a\",\"b\",\"c\"]"
   ]
  },
  {
   "cell_type": "code",
   "execution_count": null,
   "id": "3ab3cf45-2999-4caf-9c8c-680997958724",
   "metadata": {},
   "outputs": [
    {
     "data": {
      "text/plain": [
       "['b', 'c']"
      ]
     },
     "execution_count": 183,
     "metadata": {},
     "output_type": "execute_result"
    }
   ],
   "source": [
    "B[1:]"
   ]
  },
  {
   "cell_type": "markdown",
   "id": "44c5af78-96b2-4ecb-a809-5a5ebdfe3834",
   "metadata": {},
   "source": [
    "# Creating A set"
   ]
  },
  {
   "cell_type": "markdown",
   "id": "3c03edc6-d5da-431f-9493-2e032c15e73e",
   "metadata": {},
   "source": [
    "<img src=\"attachment:d260b3fa-5ca1-4f38-8c10-96640186bffb.png\" alt=\"image\" width=\"50%\" height=\"50%\">"
   ]
  },
  {
   "cell_type": "code",
   "execution_count": null,
   "id": "0df6cd50-913a-458e-b321-bf9c53f23e6f",
   "metadata": {},
   "outputs": [],
   "source": [
    "set1 = {\"pop\",\"rock\",\"soul\",\"hard rock\",\"rock\",\"R&B\",\"rock\",\"disco\"}\n",
    "set1"
   ]
  },
  {
   "cell_type": "markdown",
   "id": "0e87fbf6-41ef-4b6d-9033-323ed118a55c",
   "metadata": {
    "jp-MarkdownHeadingCollapsed": true
   },
   "source": [
    "### You can convert a list to a set using the set() function, which is known as type-casting."
   ]
  },
  {
   "cell_type": "code",
   "execution_count": null,
   "id": "df5c33e0-a49a-4acf-a2be-87ee8116b22f",
   "metadata": {},
   "outputs": [],
   "source": [
    "Album_list = [\"Michael Jackson\",\"Thriller\",\"Thriller\",1892]\n",
    "Album_list"
   ]
  },
  {
   "cell_type": "code",
   "execution_count": null,
   "id": "155b2bb9-2300-494a-8b47-24024966a1c9",
   "metadata": {},
   "outputs": [],
   "source": [
    "Album_set = set(Album_list)"
   ]
  },
  {
   "cell_type": "code",
   "execution_count": null,
   "id": "c29665c4-4fab-4a10-a994-95d46c7ef1d0",
   "metadata": {},
   "outputs": [],
   "source": [
    "Album_set"
   ]
  },
  {
   "cell_type": "markdown",
   "id": "e9e78c38-fb0f-41f0-920e-72e29d62bf32",
   "metadata": {},
   "source": [
    "<img src=\"attachment:7fc91d18-47c3-4454-a1f6-5e6315e1fbd1.png\" alt=\"image\" width=\"50%\" height=\"50%\">"
   ]
  },
  {
   "cell_type": "code",
   "execution_count": null,
   "id": "d8ec4785-809b-4980-9643-811a8e280d09",
   "metadata": {},
   "outputs": [],
   "source": [
    "A = {\"Thriller\", \"Back to Black\",\"AC/DC\"}"
   ]
  },
  {
   "cell_type": "code",
   "execution_count": null,
   "id": "03a3ca3e-1d14-4ae6-8e8f-f82b628fafe4",
   "metadata": {},
   "outputs": [],
   "source": [
    "A.add(\"NSYNC\")"
   ]
  },
  {
   "cell_type": "code",
   "execution_count": null,
   "id": "f0bcc096-e23e-46fc-8028-990b575b8872",
   "metadata": {},
   "outputs": [],
   "source": [
    "A"
   ]
  },
  {
   "cell_type": "markdown",
   "id": "9eaa33e6-c909-4bd1-8337-bfdae56f5c55",
   "metadata": {
    "jp-MarkdownHeadingCollapsed": true
   },
   "source": [
    "#### if we add this item \"NSYNC\" twice nothing will happend because there is no duplicate in a set"
   ]
  },
  {
   "cell_type": "code",
   "execution_count": null,
   "id": "ad608db2-3f43-46ea-86ce-5e439dd34b7e",
   "metadata": {},
   "outputs": [],
   "source": [
    "A.add(\"NSYNC\")"
   ]
  },
  {
   "cell_type": "code",
   "execution_count": null,
   "id": "024e2a3f-0f1d-45ae-9fa8-e5c9db2958a3",
   "metadata": {},
   "outputs": [],
   "source": [
    "A"
   ]
  },
  {
   "cell_type": "markdown",
   "id": "b502c11d-a358-437f-8a2b-cde26dc40079",
   "metadata": {
    "jp-MarkdownHeadingCollapsed": true
   },
   "source": [
    "#### Let's say we want to remove \"NSYNC\" from A set. we can use remove an item from a set using a remove method "
   ]
  },
  {
   "cell_type": "code",
   "execution_count": null,
   "id": "1633fda7-3071-4448-9850-1b8bc1de4561",
   "metadata": {},
   "outputs": [],
   "source": [
    "A.remove(\"NSYNC\")\n",
    "A"
   ]
  },
  {
   "cell_type": "markdown",
   "id": "6f2be592-c960-4681-92cf-d92786938597",
   "metadata": {
    "jp-MarkdownHeadingCollapsed": true
   },
   "source": [
    "#### we can verify if an element is in the set using in command"
   ]
  },
  {
   "cell_type": "code",
   "execution_count": null,
   "id": "fe5114d1-7ab4-46d4-8c3c-72a277f3a3c0",
   "metadata": {},
   "outputs": [],
   "source": [
    "\"AC/DC\" in A"
   ]
  },
  {
   "cell_type": "code",
   "execution_count": null,
   "id": "e57e7c51-f706-475b-bae8-c26cf0ce6894",
   "metadata": {},
   "outputs": [],
   "source": [
    "\"Who\" in A"
   ]
  },
  {
   "cell_type": "markdown",
   "id": "8dbb0ec2-0ca3-4e87-95a3-6fe522eba32f",
   "metadata": {
    "jp-MarkdownHeadingCollapsed": true
   },
   "source": [
    "## Sets: Mathematical set Operations"
   ]
  },
  {
   "cell_type": "markdown",
   "id": "fcaceb4e-3709-4fbb-a28a-0c4fba0b3c30",
   "metadata": {},
   "source": [
    "#### Intersect of two sets album_set_1 & album_set_2"
   ]
  },
  {
   "cell_type": "markdown",
   "id": "dc1e846f-681c-4b12-8101-2d68c9921697",
   "metadata": {},
   "source": [
    "<img src=\"attachment:87c2b803-88ae-4df2-8eec-016b41630f08.png\" alt=\"image\" width=\"50%\" height=\"50%\">\n",
    "<img src=\"attachment:462d40ef-3a13-4fc9-a3c5-90ad9a8a355c.png\" alt=\"image\" width=\"50%\" height=\"50%\">"
   ]
  },
  {
   "cell_type": "code",
   "execution_count": null,
   "id": "a254a7c2-dd08-4e70-a62e-258a8734b7d7",
   "metadata": {},
   "outputs": [],
   "source": [
    "album_set_1 = {\"Thriller\", \"Back to Black\",\"AC/DC\"}"
   ]
  },
  {
   "cell_type": "code",
   "execution_count": null,
   "id": "28809b24-f486-4746-a336-e9e598d02d6c",
   "metadata": {},
   "outputs": [],
   "source": [
    "album_set_2 = {\"AC/DC\", \"Back to Black\", \"The Dark Side of the Moon\"}"
   ]
  },
  {
   "cell_type": "code",
   "execution_count": null,
   "id": "f7a72e55-c902-432f-9e29-91db7063c44d",
   "metadata": {},
   "outputs": [
    {
     "data": {
      "text/plain": [
       "{'AC/DC', 'Back to Black'}"
      ]
     },
     "execution_count": 227,
     "metadata": {},
     "output_type": "execute_result"
    }
   ],
   "source": [
    "album_set_3 = album_set_1 & album_set_2\n",
    "album_set_3"
   ]
  },
  {
   "cell_type": "markdown",
   "id": "e4f11b8d-6f5e-4ec5-8a3e-58b246b8ea69",
   "metadata": {},
   "source": [
    "#### the Union of two sets album_set_1 & album_set_2 will contain the element of two sets"
   ]
  },
  {
   "cell_type": "markdown",
   "id": "59ffed08-a40d-4a05-baab-be5571eb13b2",
   "metadata": {},
   "source": [
    "<img src=\"attachment:5b935aae-fc98-4e9c-92e5-d4739ed30b3b.png\" alt=\"image\" width=\"50%\" height=\"50%\">"
   ]
  },
  {
   "cell_type": "code",
   "execution_count": null,
   "id": "8ec6f41f-1f91-4e2c-926f-972ec7c61fc8",
   "metadata": {},
   "outputs": [
    {
     "data": {
      "text/plain": [
       "{'AC/DC', 'Back to Black', 'The Dark Side of the Moon', 'Thriller'}"
      ]
     },
     "execution_count": 228,
     "metadata": {},
     "output_type": "execute_result"
    }
   ],
   "source": [
    "album_set_4 = album_set_1.union(album_set_2)\n",
    "album_set_4"
   ]
  },
  {
   "cell_type": "markdown",
   "id": "8237eae6-0a67-4511-b75e-81e72b347a10",
   "metadata": {},
   "source": [
    "#### we can check is album_set_3 is subset of album_set_1 with issubset() method"
   ]
  },
  {
   "cell_type": "markdown",
   "id": "b9819ae6-d577-4ac2-a03a-5a89edf0faa5",
   "metadata": {},
   "source": [
    "<img src=\"attachment:f6963f47-4e03-4875-95b3-8eec6e70aecb.png\" alt=\"image\" width=\"50%\" height=\"50%\">"
   ]
  },
  {
   "cell_type": "code",
   "execution_count": null,
   "id": "9d68bfc9-abe2-4475-82ab-ceeff26daaf3",
   "metadata": {},
   "outputs": [
    {
     "data": {
      "text/plain": [
       "True"
      ]
     },
     "execution_count": 230,
     "metadata": {},
     "output_type": "execute_result"
    }
   ],
   "source": [
    "album_set_3.issubset(album_set_1)"
   ]
  },
  {
   "cell_type": "markdown",
   "id": "b8bb85fb-9533-4cf4-911d-b772c36d7fa5",
   "metadata": {},
   "source": [
    "# Dictionaries in Python"
   ]
  },
  {
   "cell_type": "markdown",
   "id": "1d34a14f-9806-4ffd-b858-f4b730dd4189",
   "metadata": {},
   "source": [
    "#### dictionaries:\n",
    "    is a type of collection in python"
   ]
  },
  {
   "cell_type": "markdown",
   "id": "0987c6e4-0371-4a19-8c7a-6ee7a837eea1",
   "metadata": {},
   "source": [
    "if you recall, a list has integer indexes. these are like addresses\n",
    "A list also has elements. A dictionary has keys and values.\n",
    "The key is analogous to the index, they are like addresses but they don’t have to be\n",
    "integers. They are usually characters; the values are\n",
    "similar to the elements in a list and contain information."
   ]
  },
  {
   "cell_type": "markdown",
   "id": "e6928a3c-4d77-4ef7-81f9-544998e66d7a",
   "metadata": {},
   "source": [
    "<img src=\"attachment:13f32a0b-d3af-4fbe-896e-855af7bba0ab.png\" alt=\"image\" width=\"50%\" height=\"50%\">"
   ]
  },
  {
   "cell_type": "markdown",
   "id": "759f46da-9726-467c-86f3-b889efdae512",
   "metadata": {},
   "source": [
    "To create a dictionary, we use curly brackets. The keys are the first elements; they must be immutable and unique. Each key is followed by a value separated by a colon. The values can be immutable, mutable and duplicates. Each key and value pair is separated by a comma."
   ]
  },
  {
   "cell_type": "markdown",
   "id": "95d1a5e3-fb7b-4f78-a485-5fe2b9a6853f",
   "metadata": {},
   "source": [
    "<img src=\"attachment:a22e76c8-6ed6-45dd-a226-71b9f41022ce.png\" alt=\"image\" width=\"50%\" height=\"50%\">"
   ]
  },
  {
   "cell_type": "code",
   "execution_count": null,
   "id": "ae707e67-dc27-457b-9b75-6777df3afa48",
   "metadata": {},
   "outputs": [
    {
     "data": {
      "text/plain": [
       "{'thriller': 1982,\n",
       " 'Back in Black': 1980,\n",
       " 'The Dark Side of the Moon': 1973,\n",
       " 'The BodyGuard': 1992,\n",
       " 'Bat Out of Hell': 1977,\n",
       " 'Their Greatest...': 1976,\n",
       " 'Saturday Night Fever': 1977,\n",
       " 'Rumours': 1977}"
      ]
     },
     "execution_count": 164,
     "metadata": {},
     "output_type": "execute_result"
    }
   ],
   "source": [
    "dic_1 = {\"thriller\" : 1982, \"Back in Black\": 1980, \"The Dark Side of the Moon\": 1973, \"The BodyGuard\": 1992, \"Bat Out of Hell\": 1977, \"Their Greatest...\": 1976, \"Saturday Night Fever\": 1977, \"Rumours\": 1977}\n",
    "dic_1"
   ]
  },
  {
   "cell_type": "markdown",
   "id": "7923485b-8548-4228-9fcb-f9cc85cd9f33",
   "metadata": {},
   "source": [
    "the key is used to look up the value. we use squarebrakets [] the argument is the key. this outputs the value"
   ]
  },
  {
   "cell_type": "markdown",
   "id": "b458e394-2d1a-42fa-be04-e05fe8ffc6a7",
   "metadata": {},
   "source": [
    "<img src=\"attachment:d3041265-1246-48fd-8826-9541e5fb01a9.png\" alt=\"image\" width=\"50%\" height=\"50%\">"
   ]
  },
  {
   "cell_type": "code",
   "execution_count": null,
   "id": "a20b3e25-ab28-4d05-8900-e390fe992584",
   "metadata": {},
   "outputs": [
    {
     "data": {
      "text/plain": [
       "1977"
      ]
     },
     "execution_count": 165,
     "metadata": {},
     "output_type": "execute_result"
    }
   ],
   "source": [
    "dic_1[\"Rumours\"]"
   ]
  },
  {
   "cell_type": "markdown",
   "id": "c966ffff-88c0-4326-8f23-c791eac6ac47",
   "metadata": {},
   "source": [
    "We can add a new Entery of Dictionary as follows"
   ]
  },
  {
   "cell_type": "code",
   "execution_count": null,
   "id": "14f266c2-1ff0-4f64-a55e-e380b8c36ece",
   "metadata": {},
   "outputs": [
    {
     "data": {
      "text/plain": [
       "{'thriller': 1982,\n",
       " 'Back in Black': 1980,\n",
       " 'The Dark Side of the Moon': 1973,\n",
       " 'The BodyGuard': 1992,\n",
       " 'Bat Out of Hell': 1977,\n",
       " 'Their Greatest...': 1976,\n",
       " 'Saturday Night Fever': 1977,\n",
       " 'Rumours': 1977,\n",
       " 'Graduation': 2007}"
      ]
     },
     "execution_count": 166,
     "metadata": {},
     "output_type": "execute_result"
    }
   ],
   "source": [
    "dic_1[\"Graduation\"] = 2007\n",
    "dic_1"
   ]
  },
  {
   "cell_type": "code",
   "execution_count": null,
   "id": "4a3792bc-8faf-4d5a-bda8-87e0406ef534",
   "metadata": {},
   "outputs": [],
   "source": [
    "dic_1[\"thriller\"] = 1980"
   ]
  },
  {
   "cell_type": "markdown",
   "id": "395d886c-6a4c-4acf-afa2-238b4224a184",
   "metadata": {},
   "source": [
    "We can Delete the Entry as follows "
   ]
  },
  {
   "cell_type": "code",
   "execution_count": null,
   "id": "ad4c45da-f511-4b5f-a9c9-9aa1fd48619d",
   "metadata": {},
   "outputs": [
    {
     "data": {
      "text/plain": [
       "{'Back in Black': 1980,\n",
       " 'The Dark Side of the Moon': 1973,\n",
       " 'The BodyGuard': 1992,\n",
       " 'Bat Out of Hell': 1977,\n",
       " 'Their Greatest...': 1976,\n",
       " 'Saturday Night Fever': 1977,\n",
       " 'Rumours': 1977,\n",
       " 'Graduation': 2007}"
      ]
     },
     "execution_count": 168,
     "metadata": {},
     "output_type": "execute_result"
    }
   ],
   "source": [
    "del(dic_1['thriller'])\n",
    "dic_1"
   ]
  },
  {
   "cell_type": "code",
   "execution_count": null,
   "id": "ccd1ff14-989e-4daf-8b17-a9e3011ac46c",
   "metadata": {},
   "outputs": [
    {
     "data": {
      "text/plain": [
       "True"
      ]
     },
     "execution_count": 169,
     "metadata": {},
     "output_type": "execute_result"
    }
   ],
   "source": [
    "'The BodyGuard' in dic_1"
   ]
  },
  {
   "cell_type": "code",
   "execution_count": null,
   "id": "0080aafd-2e21-4391-a0a4-a5a756d671b0",
   "metadata": {},
   "outputs": [
    {
     "data": {
      "text/plain": [
       "False"
      ]
     },
     "execution_count": 170,
     "metadata": {},
     "output_type": "execute_result"
    }
   ],
   "source": [
    "'Starboy' in dic_1"
   ]
  },
  {
   "cell_type": "markdown",
   "id": "6713a345-fcd6-4cad-a54f-23e71dd9dd99",
   "metadata": {},
   "source": [
    "in order to see all the keys in the dictionary we can use:"
   ]
  },
  {
   "cell_type": "code",
   "execution_count": null,
   "id": "6a497a5e-4dd6-4063-acc1-318f30feebab",
   "metadata": {},
   "outputs": [
    {
     "data": {
      "text/plain": [
       "dict_keys(['Back in Black', 'The Dark Side of the Moon', 'The BodyGuard', 'Bat Out of Hell', 'Their Greatest...', 'Saturday Night Fever', 'Rumours', 'Graduation'])"
      ]
     },
     "execution_count": 175,
     "metadata": {},
     "output_type": "execute_result"
    }
   ],
   "source": [
    "dic_1.keys()"
   ]
  },
  {
   "cell_type": "code",
   "execution_count": null,
   "id": "26f1d683-7ae4-4e02-bf7b-ceb7c6c8ebb1",
   "metadata": {},
   "outputs": [
    {
     "data": {
      "text/plain": [
       "dict_values([1980, 1973, 1992, 1977, 1976, 1977, 1977, 2007])"
      ]
     },
     "execution_count": 176,
     "metadata": {},
     "output_type": "execute_result"
    }
   ],
   "source": [
    "dic_1.values()"
   ]
  },
  {
   "cell_type": "code",
   "execution_count": null,
   "id": "eacb6d4a-1c66-4a7b-a3da-8c2c63e8d62c",
   "metadata": {},
   "outputs": [],
   "source": [
    "Dict={\"A\":1,\"B\":\"2\",\"C\":[3,3,3],\"D\":(4,4,4),'E':5,'F':6}"
   ]
  },
  {
   "cell_type": "code",
   "execution_count": null,
   "id": "d1f94805-e09a-4b00-8cab-ffe04a79a124",
   "metadata": {},
   "outputs": [
    {
     "data": {
      "text/plain": [
       "(4, 4, 4)"
      ]
     },
     "execution_count": 254,
     "metadata": {},
     "output_type": "execute_result"
    }
   ],
   "source": [
    "Dict[\"D\"]"
   ]
  },
  {
   "cell_type": "markdown",
   "id": "8a301de7-e3db-4f2c-90e9-a16aaaa1cb90",
   "metadata": {},
   "source": [
    "# Python Programming Fundamental"
   ]
  },
  {
   "cell_type": "markdown",
   "id": "3b553da0-65e6-4faa-9bec-c8063bc48307",
   "metadata": {},
   "source": [
    "## 1. Condition and Branching"
   ]
  },
  {
   "cell_type": "markdown",
   "id": "d4e67b4c-f8ce-42ae-ac9f-13472d27a62f",
   "metadata": {},
   "source": [
    "### Comparison Operations:\n",
    "        Compare some value or operand, then, based on some conditions produce a boolean\n",
    "\n",
    "let's say we assign \"a\" value of \"a\" to equal 6"
   ]
  },
  {
   "cell_type": "code",
   "execution_count": null,
   "id": "006554db-4fe6-4e82-ba44-ee60467a3759",
   "metadata": {},
   "outputs": [],
   "source": [
    "a = 6"
   ]
  },
  {
   "cell_type": "markdown",
   "id": "0d368e02-fa41-4f56-93c4-59378a79147c",
   "metadata": {},
   "source": [
    "we can use equality operator denoted with two equal signs to determine if two values are equal, "
   ]
  },
  {
   "cell_type": "code",
   "execution_count": null,
   "id": "17d12f6b-33d9-4eda-8792-f43c446f263c",
   "metadata": {},
   "outputs": [
    {
     "data": {
      "text/plain": [
       "False"
      ]
     },
     "execution_count": 256,
     "metadata": {},
     "output_type": "execute_result"
    }
   ],
   "source": [
    "a == 7"
   ]
  },
  {
   "cell_type": "markdown",
   "id": "582c5f7b-071d-4220-a2ff-2a9a46a524fc",
   "metadata": {},
   "source": [
    "if 7 is equal to 6, in this case, as 6 is not equal to 7, the result is false"
   ]
  },
  {
   "cell_type": "markdown",
   "id": "d9635e01-cf7e-4f44-a7a9-4928b4d05397",
   "metadata": {},
   "source": [
    "if we reassign a to be equal to 6 and we performed an equality test for the value 6, then, the two values will would be equal. "
   ]
  },
  {
   "cell_type": "code",
   "execution_count": null,
   "id": "420a56ab-b1ae-417e-8b5c-9fe32ed6e058",
   "metadata": {},
   "outputs": [],
   "source": [
    "a = 6"
   ]
  },
  {
   "cell_type": "code",
   "execution_count": null,
   "id": "8aea6663-7b0f-44d1-9aad-5afb624fe890",
   "metadata": {},
   "outputs": [
    {
     "data": {
      "text/plain": [
       "True"
      ]
     },
     "execution_count": 258,
     "metadata": {},
     "output_type": "execute_result"
    }
   ],
   "source": [
    "a ==6"
   ]
  },
  {
   "cell_type": "markdown",
   "id": "181915b0-2550-409a-805a-64b85914b00b",
   "metadata": {},
   "source": [
    "### Comparison Operators"
   ]
  },
  {
   "cell_type": "markdown",
   "id": "3b980109-e819-42b9-a2b8-22160d4e70f0",
   "metadata": {},
   "source": [
    "i> 6 that's mean if variable \"i\" is greater than 6.\n",
    "\n",
    "i>= 6 that's mean if variable \"i\" is greater than or equal to 6.\n",
    "\n",
    "i<= 6 that's mean if variable \"i\" is less than or equal to 6\n",
    "\n",
    "i> 6 that's mean if variable \"i\" is less than 6\n",
    "\n",
    "i!=6 that's mean if a variable \"i\" not equal to 6"
   ]
  },
  {
   "cell_type": "code",
   "execution_count": null,
   "id": "e7e98254-3df9-4c7a-87ec-abf4a01c761a",
   "metadata": {},
   "outputs": [],
   "source": [
    "A_list = [1,2,3,4,5,6]"
   ]
  },
  {
   "cell_type": "code",
   "execution_count": null,
   "id": "99aa7480-ce90-4c2b-9ee3-fcea7fcd4325",
   "metadata": {},
   "outputs": [
    {
     "name": "stdout",
     "output_type": "stream",
     "text": [
      "1\n",
      "False\n",
      "2\n",
      "False\n",
      "3\n",
      "False\n",
      "4\n",
      "False\n",
      "5\n",
      "False\n",
      "6\n",
      "True\n"
     ]
    }
   ],
   "source": [
    "for i in A_list:\n",
    "    print(i)\n",
    "    print(i == 6)\n",
    "     "
   ]
  },
  {
   "cell_type": "code",
   "execution_count": null,
   "id": "ba56fc91-124d-4296-b0eb-4fc80431a0fe",
   "metadata": {},
   "outputs": [
    {
     "data": {
      "text/plain": [
       "False"
      ]
     },
     "execution_count": 275,
     "metadata": {},
     "output_type": "execute_result"
    }
   ],
   "source": [
    "\"AC/DC\" == \"Michael Jackson\""
   ]
  },
  {
   "cell_type": "code",
   "execution_count": null,
   "id": "045be8f9-9df4-49de-9cfb-97acab1fdbc5",
   "metadata": {},
   "outputs": [
    {
     "data": {
      "text/plain": [
       "True"
      ]
     },
     "execution_count": 276,
     "metadata": {},
     "output_type": "execute_result"
    }
   ],
   "source": [
    "\"AC/DC\" != \"Michael Jackson\""
   ]
  },
  {
   "cell_type": "markdown",
   "id": "7b9c0afd-bd43-490f-afa9-d1b4e29485d2",
   "metadata": {},
   "source": [
    "### Branshing:\n",
    "    allow us to run different statements for a different input"
   ]
  },
  {
   "cell_type": "markdown",
   "id": "e7e63616-b2e5-4f45-b6bb-1f0738a90c2a",
   "metadata": {},
   "source": [
    "#### IF Statement: "
   ]
  },
  {
   "cell_type": "code",
   "execution_count": null,
   "id": "02977143-09b7-4eff-a8f4-e22cb220ecd6",
   "metadata": {},
   "outputs": [],
   "source": [
    "age = 18"
   ]
  },
  {
   "cell_type": "code",
   "execution_count": null,
   "id": "25316ce6-135a-4a54-903c-7c6c3bdc2471",
   "metadata": {},
   "outputs": [
    {
     "name": "stdout",
     "output_type": "stream",
     "text": [
      "go see pink floyd\n",
      "Move on\n"
     ]
    }
   ],
   "source": [
    "if (age> 18):\n",
    "    print(\"you can enter AC/DC\")\n",
    "elif(age == 18):\n",
    "    print(\"go see pink floyd\")\n",
    "else:\n",
    "    print(\"Go see meat Loaf\")\n",
    "print(\"Move on\")"
   ]
  },
  {
   "cell_type": "code",
   "execution_count": null,
   "id": "f3995d4e-7658-41c6-a227-74e8e48d32d8",
   "metadata": {},
   "outputs": [],
   "source": [
    "A_list = [1,2,3,4,5,6,7,8,9,10,11,12,13,14,15,16,17,18,19,20]"
   ]
  },
  {
   "cell_type": "code",
   "execution_count": null,
   "id": "c4181ebc-2ccf-4445-a21e-d6e6e6793bb2",
   "metadata": {},
   "outputs": [
    {
     "name": "stdout",
     "output_type": "stream",
     "text": [
      "1\n",
      "Go see meat Loaf\n",
      "2\n",
      "Go see meat Loaf\n",
      "3\n",
      "Go see meat Loaf\n",
      "4\n",
      "Go see meat Loaf\n",
      "5\n",
      "Go see meat Loaf\n",
      "6\n",
      "Go see meat Loaf\n",
      "7\n",
      "Go see meat Loaf\n",
      "8\n",
      "Go see meat Loaf\n",
      "9\n",
      "Go see meat Loaf\n",
      "10\n",
      "go see pink floyd\n",
      "11\n",
      "you can enter AC/DC\n",
      "12\n",
      "you can enter AC/DC\n",
      "13\n",
      "you can enter AC/DC\n",
      "14\n",
      "you can enter AC/DC\n",
      "15\n",
      "you can enter AC/DC\n",
      "16\n",
      "you can enter AC/DC\n",
      "17\n",
      "you can enter AC/DC\n",
      "18\n",
      "you can enter AC/DC\n",
      "19\n",
      "you can enter AC/DC\n",
      "20\n",
      "you can enter AC/DC\n"
     ]
    }
   ],
   "source": [
    "for age in A_list:\n",
    "    print(age)\n",
    "    if (age> 10):\n",
    "        print(\"you can enter AC/DC\")\n",
    "    elif(age == 10):\n",
    "        print(\"go see pink floyd\")\n",
    "    else:\n",
    "        print(\"Go see meat Loaf\")\n"
   ]
  },
  {
   "cell_type": "markdown",
   "id": "d253cb6c-c73d-4051-9fe3-aabc3ea86c90",
   "metadata": {},
   "source": [
    "### Logic Operators:\n",
    "    Logic operations take boolean values and produce different boolean values"
   ]
  },
  {
   "cell_type": "markdown",
   "id": "acfe68b4-763f-4979-bf51-ddc8d4e2f428",
   "metadata": {},
   "source": [
    "#### 1. Logical \"not\" Operator"
   ]
  },
  {
   "cell_type": "code",
   "execution_count": null,
   "id": "d78fc342-ce63-4005-be68-2eaa60b97302",
   "metadata": {},
   "outputs": [
    {
     "data": {
      "text/plain": [
       "True"
      ]
     },
     "execution_count": 306,
     "metadata": {},
     "output_type": "execute_result"
    }
   ],
   "source": [
    "not(False)"
   ]
  },
  {
   "cell_type": "markdown",
   "id": "ddc5c4c0-8e2e-4f7f-8c6d-f1fd84ee507f",
   "metadata": {},
   "source": [
    "#### 2. Logical \"OR\" operator:"
   ]
  },
  {
   "cell_type": "markdown",
   "id": "21c1c231-df5a-4046-9dd4-b0fb88a3bfeb",
   "metadata": {},
   "source": [
    "<img src=\"attachment:aad1b6c7-bdcb-4193-beab-a53162b80190.png\" alt=\"image\" width=\"50%\" height=\"50%\">"
   ]
  },
  {
   "cell_type": "code",
   "execution_count": null,
   "id": "1dd9273d-11f2-4bee-b438-c5146ec2276a",
   "metadata": {},
   "outputs": [],
   "source": [
    "album_year = 1990"
   ]
  },
  {
   "cell_type": "code",
   "execution_count": null,
   "id": "c19e8ed6-439c-49b9-8b59-46465794c2ad",
   "metadata": {},
   "outputs": [
    {
     "name": "stdout",
     "output_type": "stream",
     "text": [
      "The Album was made in the 1980's\n"
     ]
    }
   ],
   "source": [
    "if(album_year < 1980) or (album_year > 1989):\n",
    "    print(\"The album was made in the 70's or 90's\")\n",
    "else:\n",
    "    print(\"The Album was made in the 1980's\")"
   ]
  },
  {
   "cell_type": "markdown",
   "id": "7c443dac-46f4-4ee3-b7f7-64935d210f90",
   "metadata": {},
   "source": [
    "<img src=\"attachment:ad68f656-19bd-46c3-b4f6-279b5fe14e5c.png\" alt=\"image\" width=\"50%\" height=\"50%\">"
   ]
  },
  {
   "cell_type": "markdown",
   "id": "dc9ab38d-0160-473e-a220-2d51284d217d",
   "metadata": {},
   "source": [
    "#### 2. Logical \"And\" operator:"
   ]
  },
  {
   "cell_type": "markdown",
   "id": "1bcdb470-23f2-401d-8a5b-cb1e9df09816",
   "metadata": {},
   "source": [
    "<img src=\"attachment:4a6fba6d-d4bb-48e0-aa6a-cdc3f9956130.png\" alt=\"image\" width=\"50%\" height=\"50%\">"
   ]
  },
  {
   "cell_type": "code",
   "execution_count": null,
   "id": "08b8d722-b9ca-422a-bfea-4ac01f03f162",
   "metadata": {},
   "outputs": [],
   "source": [
    "album_year = 1983"
   ]
  },
  {
   "cell_type": "code",
   "execution_count": null,
   "id": "8eadfae1-e392-44d9-8afd-7808c4d231e4",
   "metadata": {},
   "outputs": [
    {
     "name": "stdout",
     "output_type": "stream",
     "text": [
      "The album was made in the 80's\n"
     ]
    }
   ],
   "source": [
    "if(album_year > 1979) and (album_year < 1990):\n",
    "    print(\"The album was made in the 80's\")\n",
    "else:\n",
    "    print(\"The album was not made in the 80's\")"
   ]
  },
  {
   "cell_type": "markdown",
   "id": "6fb132d3-8d9f-4f5d-a733-39faa1e2c1e3",
   "metadata": {},
   "source": [
    "<img src=\"attachment:2a77c159-f5ca-46c0-9c74-b2360cbb878d.png\" alt=\"image\" width=\"50%\" height=\"50%\">"
   ]
  },
  {
   "cell_type": "markdown",
   "id": "2a1e40aa-c886-43a2-9279-8e30cb6b66b3",
   "metadata": {},
   "source": [
    "## Loops"
   ]
  },
  {
   "cell_type": "markdown",
   "id": "c1215bc4-5602-4191-b1d7-016b09c2debd",
   "metadata": {},
   "source": [
    "### For Loop:"
   ]
  },
  {
   "cell_type": "markdown",
   "id": "fb53f17e-0f89-445d-b917-6b2c748b2c43",
   "metadata": {},
   "source": [
    "<img src=\"attachment:3435e8da-48b2-48e1-8802-a72125ca927a.png\" alt=\"image\" width=\"50%\" height=\"50%\">"
   ]
  },
  {
   "cell_type": "code",
   "execution_count": null,
   "id": "716fc44b-addc-4969-a0c8-68aacdd40125",
   "metadata": {},
   "outputs": [],
   "source": [
    "squares = [\"red\",\"yellow\",\"green\",\"purple\",\"blue\"]"
   ]
  },
  {
   "cell_type": "code",
   "execution_count": null,
   "id": "e54be2f7-5794-4f69-9dfe-2a30cbbc6592",
   "metadata": {},
   "outputs": [
    {
     "name": "stdout",
     "output_type": "stream",
     "text": [
      "red\n",
      "white\n",
      "yellow\n",
      "white\n",
      "green\n",
      "white\n",
      "purple\n",
      "white\n",
      "blue\n",
      "white\n"
     ]
    }
   ],
   "source": [
    "for i in range(0,5):\n",
    "    print(squares[i])\n",
    "    squares[i] = \"white\"\n",
    "    print(squares[i])"
   ]
  },
  {
   "cell_type": "code",
   "execution_count": null,
   "id": "cc69717f-607f-4cae-9901-c58fdbb45aca",
   "metadata": {},
   "outputs": [
    {
     "data": {
      "text/plain": [
       "['white', 'white', 'white', 'white', 'blue']"
      ]
     },
     "execution_count": 21,
     "metadata": {},
     "output_type": "execute_result"
    }
   ],
   "source": [
    "squares"
   ]
  },
  {
   "cell_type": "code",
   "execution_count": null,
   "id": "c8f71423-b234-43f4-8dd0-8813587d3f36",
   "metadata": {},
   "outputs": [],
   "source": [
    "squares = [\"Red\",\"Yellow\",\"Green\"]"
   ]
  },
  {
   "cell_type": "code",
   "execution_count": null,
   "id": "ddc221dd-12be-4928-ac00-61fe051c0c4a",
   "metadata": {},
   "outputs": [
    {
     "name": "stdout",
     "output_type": "stream",
     "text": [
      "Red\n",
      "0\n",
      "Yellow\n",
      "1\n",
      "Green\n",
      "2\n"
     ]
    }
   ],
   "source": [
    "for i,square in enumerate(squares):\n",
    "    print(square)\n",
    "    print(i)"
   ]
  },
  {
   "cell_type": "code",
   "execution_count": null,
   "id": "95787666-dc24-47d0-ba15-17b5e59f8ad0",
   "metadata": {},
   "outputs": [
    {
     "name": "stdout",
     "output_type": "stream",
     "text": [
      "4\n"
     ]
    }
   ],
   "source": [
    "print (i)"
   ]
  },
  {
   "cell_type": "code",
   "execution_count": null,
   "id": "921b7e32-55b3-4320-9d4c-32edd4629e82",
   "metadata": {},
   "outputs": [
    {
     "name": "stdout",
     "output_type": "stream",
     "text": [
      "blue\n"
     ]
    }
   ],
   "source": [
    "print(square)"
   ]
  },
  {
   "cell_type": "code",
   "execution_count": null,
   "id": "0179fb23-cc49-4137-821b-6843ca1bb7f7",
   "metadata": {},
   "outputs": [],
   "source": [
    "square"
   ]
  },
  {
   "cell_type": "markdown",
   "id": "356a1ff9-a8a1-44ae-89e6-c543f566a6bf",
   "metadata": {},
   "source": [
    "### While Loop"
   ]
  },
  {
   "cell_type": "code",
   "execution_count": null,
   "id": "8c884d78-c0b0-4d58-af1d-289047f85909",
   "metadata": {},
   "outputs": [],
   "source": [
    "squares = [\"orange\",\"orange\",\"purple\",\"blue\"]"
   ]
  },
  {
   "cell_type": "code",
   "execution_count": null,
   "id": "c0e8cae4-2db9-4727-83c7-1d2489b84188",
   "metadata": {},
   "outputs": [],
   "source": [
    "newsquares = []"
   ]
  },
  {
   "cell_type": "code",
   "execution_count": null,
   "id": "6b64cce2-693f-4fa7-9f44-abd9fe858a5f",
   "metadata": {},
   "outputs": [],
   "source": [
    "i = 0"
   ]
  },
  {
   "cell_type": "code",
   "execution_count": null,
   "id": "506b4c63-f68e-4dd2-90c9-40a0f7783697",
   "metadata": {},
   "outputs": [],
   "source": [
    "while (squares[i] == \"orange\"):\n",
    "    newsquares.append(squares[i])\n",
    "    i = i+1"
   ]
  },
  {
   "cell_type": "code",
   "execution_count": null,
   "id": "d5884fd2-1345-4ab9-a677-ee40bd1f853e",
   "metadata": {},
   "outputs": [
    {
     "data": {
      "text/plain": [
       "['orange', 'orange']"
      ]
     },
     "execution_count": 42,
     "metadata": {},
     "output_type": "execute_result"
    }
   ],
   "source": [
    "newsquares"
   ]
  },
  {
   "cell_type": "code",
   "execution_count": null,
   "id": "0ba04737-ff67-45dc-8008-5646d4928ae3",
   "metadata": {},
   "outputs": [],
   "source": [
    "A=[3,4,5]"
   ]
  },
  {
   "cell_type": "code",
   "execution_count": null,
   "id": "0afd7402-0668-4401-99e9-38074a21af56",
   "metadata": {},
   "outputs": [
    {
     "name": "stdout",
     "output_type": "stream",
     "text": [
      "3\n",
      "4\n",
      "5\n"
     ]
    }
   ],
   "source": [
    "for a in A:\n",
    "    print(a)\n"
   ]
  },
  {
   "cell_type": "code",
   "execution_count": null,
   "id": "12d83ffe-203e-4006-b0d2-d4cd7d73613b",
   "metadata": {},
   "outputs": [],
   "source": [
    "x=3\n",
    "y=1"
   ]
  },
  {
   "cell_type": "code",
   "execution_count": null,
   "id": "0ccdb1bd-e0f3-485c-9b13-633ac98807f0",
   "metadata": {},
   "outputs": [],
   "source": [
    "\n",
    "while(y!=x):\n",
    "    print(y)\n",
    "    y=y+1"
   ]
  },
  {
   "cell_type": "markdown",
   "id": "a5ac3524-c0c9-4e9f-ba4a-4070449ee03a",
   "metadata": {},
   "source": [
    "## Functions"
   ]
  },
  {
   "cell_type": "code",
   "execution_count": null,
   "id": "e83b8873-ffa6-4e98-855a-54f6e44b9fb0",
   "metadata": {},
   "outputs": [
    {
     "name": "stdout",
     "output_type": "stream",
     "text": [
      "Length: 6, Sum: 47, Sorted (using sorted()): [3, 4, 7, 8, 10, 15], Original list after .sort(): [3, 4, 7, 8, 10, 15]\n"
     ]
    }
   ],
   "source": [
    "# Example code to start with\n",
    "numbers = [10, 4, 8, 3, 15, 7]\n",
    "\n",
    "# 1. Find the length of the list\n",
    "length = len(numbers)\n",
    "\n",
    "# 2. Find the sum of the list elements\n",
    "total = sum(numbers)\n",
    "\n",
    "# 3. Sort the list\n",
    "sorted_numbers = sorted(numbers)\n",
    "numbers.sort()\n",
    "\n",
    "print(f\"Length: {length}, Sum: {total}, Sorted (using sorted()): {sorted_numbers}, Original list after .sort(): {numbers}\")\n"
   ]
  },
  {
   "cell_type": "code",
   "execution_count": null,
   "id": "1a8e5b41-11e3-4ef5-b6a2-2fef67444b1f",
   "metadata": {},
   "outputs": [],
   "source": [
    "def add_one(number):\n",
    "    \"\"\"This function returns the input number plus one.\"\"\"\n",
    "    return number + 1\n",
    "\n"
   ]
  },
  {
   "cell_type": "code",
   "execution_count": null,
   "id": "8807733e-f7c3-49dc-8d77-ae9b90e0493a",
   "metadata": {},
   "outputs": [
    {
     "data": {
      "text/plain": [
       "6"
      ]
     },
     "execution_count": 54,
     "metadata": {},
     "output_type": "execute_result"
    }
   ],
   "source": [
    "result = add_one(5)  # Returns 6\n",
    "result"
   ]
  },
  {
   "cell_type": "code",
   "execution_count": null,
   "id": "cf7ae93f-16be-44e2-a8d3-f631016d8a76",
   "metadata": {},
   "outputs": [],
   "source": [
    "# Example code to start with\n",
    "\n",
    "# 1. Multiply function\n",
    "def multiply(a, b):\n",
    "    return a * b\n",
    "\n",
    "\n"
   ]
  },
  {
   "cell_type": "code",
   "execution_count": null,
   "id": "4737df91-ae7e-4af4-8ef9-6df2def8ac07",
   "metadata": {},
   "outputs": [
    {
     "data": {
      "text/plain": [
       "20"
      ]
     },
     "execution_count": 68,
     "metadata": {},
     "output_type": "execute_result"
    }
   ],
   "source": [
    "multiply( 4, 5)"
   ]
  },
  {
   "cell_type": "code",
   "execution_count": null,
   "id": "fde952eb-fd68-4b72-8003-2077e42f7dca",
   "metadata": {},
   "outputs": [],
   "source": [
    "# 2. Greet function\n",
    "def greet(name):\n",
    "    print(f\"Hello, {name}!\")\n"
   ]
  },
  {
   "cell_type": "code",
   "execution_count": null,
   "id": "aaff29e6-3149-4a9a-b202-82156b950248",
   "metadata": {},
   "outputs": [
    {
     "name": "stdout",
     "output_type": "stream",
     "text": [
      "Hello, Mohamed!\n"
     ]
    }
   ],
   "source": [
    "greet(\"Mohamed\")"
   ]
  },
  {
   "cell_type": "code",
   "execution_count": null,
   "id": "1a863c5c-2c26-49bb-b054-d3101134e208",
   "metadata": {},
   "outputs": [],
   "source": [
    "\n",
    "# 3. Find max function\n",
    "def find_max(numbers):\n",
    "    return max(numbers)\n",
    "\n",
    "parameters = [1,3, 56,12,443,12]\n"
   ]
  },
  {
   "cell_type": "code",
   "execution_count": null,
   "id": "13c83da4-9325-4ad3-b870-f4a72e010775",
   "metadata": {},
   "outputs": [
    {
     "data": {
      "text/plain": [
       "443"
      ]
     },
     "execution_count": 66,
     "metadata": {},
     "output_type": "execute_result"
    }
   ],
   "source": [
    "find_max(parameters)"
   ]
  },
  {
   "cell_type": "code",
   "execution_count": null,
   "id": "64e7608e-c509-4d7d-9c59-606dd902824c",
   "metadata": {},
   "outputs": [],
   "source": [
    "def circle_radius(c):\n",
    "    return c/(2*3.14159)"
   ]
  },
  {
   "cell_type": "code",
   "execution_count": null,
   "id": "91ebfea3-aa4b-4e38-8a82-c0584b4d4f9f",
   "metadata": {},
   "outputs": [
    {
     "data": {
      "text/plain": [
       "98.0"
      ]
     },
     "execution_count": 120,
     "metadata": {},
     "output_type": "execute_result"
    }
   ],
   "source": [
    "circle_radius(615.75164)"
   ]
  },
  {
   "cell_type": "code",
   "execution_count": null,
   "id": "3b7d0d5b-2829-4543-ab9e-8307cf5ad91f",
   "metadata": {},
   "outputs": [],
   "source": [
    "def circle_area(a):\n",
    "    return 3.14159*a**2"
   ]
  },
  {
   "cell_type": "code",
   "execution_count": null,
   "id": "e38b5705-a375-49d4-9caa-36d42e341576",
   "metadata": {},
   "outputs": [
    {
     "data": {
      "text/plain": [
       "615.75164"
      ]
     },
     "execution_count": 117,
     "metadata": {},
     "output_type": "execute_result"
    }
   ],
   "source": [
    "circle_area(14)"
   ]
  },
  {
   "cell_type": "code",
   "execution_count": null,
   "id": "d8fd63e5-6c48-4817-8467-84cb802243ec",
   "metadata": {},
   "outputs": [],
   "source": [
    "# Example code to start with\n",
    "\n",
    "# 1. Print message function\n",
    "def print_message():\n",
    "    print(\"This is a message!\")\n",
    "\n"
   ]
  },
  {
   "cell_type": "code",
   "execution_count": null,
   "id": "5f64bd3d-ad1f-47db-a2a5-577dca0341fc",
   "metadata": {},
   "outputs": [
    {
     "name": "stdout",
     "output_type": "stream",
     "text": [
      "This is a message!\n"
     ]
    }
   ],
   "source": [
    "print_message()"
   ]
  },
  {
   "cell_type": "code",
   "execution_count": null,
   "id": "227d9727-2950-40b1-a5cb-4da55b1dd46f",
   "metadata": {},
   "outputs": [],
   "source": [
    "# 2. No operation function\n",
    "def no_operation():\n",
    "    pass\n"
   ]
  },
  {
   "cell_type": "code",
   "execution_count": null,
   "id": "9bb738d3-27ee-4d37-a280-0b9991745289",
   "metadata": {},
   "outputs": [],
   "source": [
    "no_operation()"
   ]
  },
  {
   "cell_type": "code",
   "execution_count": null,
   "id": "1fdde25b-9a06-4ca4-9a0a-2c90fb3248af",
   "metadata": {},
   "outputs": [],
   "source": [
    "# Example code to start with\n",
    "\n",
    "# 1. Print elements with index\n",
    "def print_elements(elements):\n",
    "    for i, element in enumerate(elements):\n",
    "        print(f\"Index {i}: {element}\")\n",
    "\n"
   ]
  },
  {
   "cell_type": "code",
   "execution_count": null,
   "id": "f01db841-2faf-4c12-94db-44c6395f7c2f",
   "metadata": {},
   "outputs": [
    {
     "name": "stdout",
     "output_type": "stream",
     "text": [
      "Index 0: apple\n",
      "Index 1: orange\n",
      "Index 2: banana\n"
     ]
    }
   ],
   "source": [
    "print_elements([\"apple\",\"orange\",\"banana\"])"
   ]
  },
  {
   "cell_type": "code",
   "execution_count": null,
   "id": "c7abc00e-4edf-401b-a2e0-5d844a1db080",
   "metadata": {},
   "outputs": [],
   "source": [
    "# 2. Sum numbers using a loop\n",
    "def sum_numbers(numbers):\n",
    "    total = 0\n",
    "    for num in numbers:\n",
    "        total += num\n",
    "    return total\n",
    "\n"
   ]
  },
  {
   "cell_type": "code",
   "execution_count": null,
   "id": "a1d00855-7426-450e-a36e-06be1debe3e3",
   "metadata": {},
   "outputs": [
    {
     "data": {
      "text/plain": [
       "437"
      ]
     },
     "execution_count": 99,
     "metadata": {},
     "output_type": "execute_result"
    }
   ],
   "source": [
    "sum_numbers([14,21,334,56,12])"
   ]
  },
  {
   "cell_type": "code",
   "execution_count": null,
   "id": "b8819903-efbc-4779-ace6-7678401b4848",
   "metadata": {},
   "outputs": [
    {
     "name": "stdout",
     "output_type": "stream",
     "text": [
      "Index 0: Apple\n",
      "Index 1: Banana\n",
      "Index 2: Cherry\n",
      "100\n"
     ]
    }
   ],
   "source": [
    "print_elements([\"Apple\", \"Banana\", \"Cherry\"])\n",
    "print(sum_numbers([10, 20, 30, 40]))"
   ]
  },
  {
   "cell_type": "code",
   "execution_count": null,
   "id": "de9a0cd6-d9a2-4f17-8fee-2fc0b6f2bfde",
   "metadata": {},
   "outputs": [],
   "source": [
    "x = 10\n",
    "\n",
    "def modify_x():\n",
    "    x = 5  # Local variable\n",
    "    print(f\"Inside function: x = {x}\")"
   ]
  },
  {
   "cell_type": "code",
   "execution_count": null,
   "id": "33c962e0-8954-426e-938e-83e84f8e3e56",
   "metadata": {},
   "outputs": [
    {
     "name": "stdout",
     "output_type": "stream",
     "text": [
      "Inside function: x = 5\n"
     ]
    }
   ],
   "source": [
    "modify_x()"
   ]
  },
  {
   "cell_type": "code",
   "execution_count": null,
   "id": "54a55594-8e1f-414f-893b-9171b0bcd8bf",
   "metadata": {},
   "outputs": [],
   "source": [
    "def use_global():\n",
    "    global x\n",
    "    x = 20"
   ]
  },
  {
   "cell_type": "code",
   "execution_count": null,
   "id": "a09e3e76-aff5-47d7-9b19-550c5a761935",
   "metadata": {},
   "outputs": [
    {
     "name": "stdout",
     "output_type": "stream",
     "text": [
      "None\n"
     ]
    }
   ],
   "source": [
    "print(use_global())"
   ]
  },
  {
   "cell_type": "code",
   "execution_count": null,
   "id": "c19003f0-126d-48a6-bd9e-cc2b440bf400",
   "metadata": {},
   "outputs": [
    {
     "name": "stdout",
     "output_type": "stream",
     "text": [
      "Inside function: x = 5\n"
     ]
    }
   ],
   "source": [
    "# Example code to start with\n",
    "\n",
    "# 1. Global and local variables\n",
    "x = 10\n",
    "\n",
    "def modify_x():\n",
    "    x = 5  # Local variable\n",
    "    print(f\"Inside function: x = {x}\")\n",
    "\n",
    "modify_x()\n"
   ]
  },
  {
   "cell_type": "code",
   "execution_count": null,
   "id": "09371151-eece-40b6-9061-6a0d5519317d",
   "metadata": {},
   "outputs": [
    {
     "name": "stdout",
     "output_type": "stream",
     "text": [
      "Outside function: x = 10\n"
     ]
    }
   ],
   "source": [
    "print(f\"Outside function: x = {x}\")\n",
    "\n"
   ]
  },
  {
   "cell_type": "code",
   "execution_count": null,
   "id": "4c0d95a8-115b-4373-9151-e9b1903a4741",
   "metadata": {},
   "outputs": [
    {
     "name": "stdout",
     "output_type": "stream",
     "text": [
      "After use_global(): x = 20\n"
     ]
    }
   ],
   "source": [
    "# 2. Modifying a global variable\n",
    "def use_global():\n",
    "    global x\n",
    "    x = 20\n",
    "\n",
    "use_global()\n",
    "print(f\"After use_global(): x = {x}\")\n"
   ]
  },
  {
   "cell_type": "code",
   "execution_count": null,
   "id": "74b878be-870c-4e94-8fe8-2a47ae41f677",
   "metadata": {},
   "outputs": [],
   "source": [
    "def rectangle_area(a,b):\n",
    "    return a*b"
   ]
  },
  {
   "cell_type": "code",
   "execution_count": null,
   "id": "d977ddfd-2156-44ae-a169-fe42df9144c3",
   "metadata": {},
   "outputs": [
    {
     "data": {
      "text/plain": [
       "'michael Jackson <3  michael Jackson <3  '"
      ]
     },
     "execution_count": 126,
     "metadata": {},
     "output_type": "execute_result"
    }
   ],
   "source": [
    "rectangle_area(2,\"michael Jackson <3  \")"
   ]
  },
  {
   "cell_type": "code",
   "execution_count": null,
   "id": "b1dbd0d2-c609-40b7-9920-d0634db02457",
   "metadata": {},
   "outputs": [],
   "source": [
    "def mj():\n",
    "    print(\"Michael Jackson is the best\")"
   ]
  },
  {
   "cell_type": "code",
   "execution_count": null,
   "id": "3ae06504-8090-4693-bca8-5ea0c9357612",
   "metadata": {},
   "outputs": [
    {
     "name": "stdout",
     "output_type": "stream",
     "text": [
      "Michael Jackson is the best\n"
     ]
    }
   ],
   "source": [
    "mj()"
   ]
  },
  {
   "cell_type": "code",
   "execution_count": null,
   "id": "9ff91c78-4a6c-4df9-a3be-4f6cb191f504",
   "metadata": {},
   "outputs": [],
   "source": [
    "def no_work():\n",
    "    pass"
   ]
  },
  {
   "cell_type": "code",
   "execution_count": null,
   "id": "4ea9cdc9-72df-44d2-9f88-bb18d2d4c21c",
   "metadata": {},
   "outputs": [
    {
     "name": "stdout",
     "output_type": "stream",
     "text": [
      "None\n"
     ]
    }
   ],
   "source": [
    "print(no_work())"
   ]
  },
  {
   "cell_type": "code",
   "execution_count": null,
   "id": "12e1dacc-5ba2-4b64-a64c-08da100f5b92",
   "metadata": {},
   "outputs": [],
   "source": [
    "def add1(a):\n",
    "    b = 1+a\n",
    "    return print(a, \" plus 1 equals \",b)"
   ]
  },
  {
   "cell_type": "code",
   "execution_count": null,
   "id": "c3c47ca8-b1a7-48f5-b51d-8de085f3482f",
   "metadata": {},
   "outputs": [
    {
     "name": "stdout",
     "output_type": "stream",
     "text": [
      "3  plus 1 equals  4\n"
     ]
    }
   ],
   "source": [
    "add1(3)"
   ]
  },
  {
   "cell_type": "code",
   "execution_count": null,
   "id": "e5dbda03-5b9b-4069-ac81-07d4548959b1",
   "metadata": {},
   "outputs": [
    {
     "name": "stdout",
     "output_type": "stream",
     "text": [
      "Album 0  Rating is 10.0\n",
      "Album 1  Rating is 8.5\n",
      "Album 2  Rating is 9.5\n"
     ]
    }
   ],
   "source": [
    "def printStuff(stuff):\n",
    "    for i,s in enumerate(stuff):\n",
    "        print(\"Album\",i,\" Rating is\", s)\n",
    "\n",
    "albums_ratings = [10.0, 8.5, 9.5]\n",
    "printStuff(albums_ratings)"
   ]
  },
  {
   "cell_type": "code",
   "execution_count": null,
   "id": "d72f5b18-6e0b-4b0b-90e4-d5d480a8d4ce",
   "metadata": {},
   "outputs": [
    {
     "name": "stdout",
     "output_type": "stream",
     "text": [
      "Album: thriller, produced in Year: 1982\n",
      "Album: Back in Black, produced in Year: 1980\n",
      "Album: The Dark Side of the Moon, produced in Year: 1973\n",
      "Album: The BodyGuard, produced in Year: 1992\n",
      "Album: Bat Out of Hell, produced in Year: 1977\n",
      "Album: Their Greatest..., produced in Year: 1976\n",
      "Album: Saturday Night Fever, produced in Year: 1977\n",
      "Album: Rumours, produced in Year: 1977\n"
     ]
    }
   ],
   "source": [
    "albums_year = {\"thriller\" : 1982, \"Back in Black\": 1980, \"The Dark Side of the Moon\": 1973, \"The BodyGuard\": 1992, \"Bat Out of Hell\": 1977, \"Their Greatest...\": 1976, \"Saturday Night Fever\": 1977, \"Rumours\": 1977}\n",
    "\n",
    "\n",
    "def printStuff(stuff):\n",
    "    for album, year in stuff.items():\n",
    "        print(\"Album:\", album+\",\", \"produced in Year:\", year)\n",
    "\n",
    "\n",
    "printStuff(albums_year)"
   ]
  },
  {
   "cell_type": "markdown",
   "id": "a8144794-4b63-4d66-8d00-d5541ef79f95",
   "metadata": {},
   "source": [
    "#### Global Scope"
   ]
  },
  {
   "cell_type": "code",
   "execution_count": null,
   "id": "29f2af02-2a9a-4249-9743-a44d5521a7ba",
   "metadata": {},
   "outputs": [
    {
     "data": {
      "text/plain": [
       "'ACDC'"
      ]
     },
     "execution_count": 218,
     "metadata": {},
     "output_type": "execute_result"
    }
   ],
   "source": [
    "def addDC(y):\n",
    "    x = \"AC\"\n",
    "    x = x+\"DC\"\n",
    "    return(x)\n",
    "\n",
    "\n",
    "addDC(x)"
   ]
  },
  {
   "cell_type": "code",
   "execution_count": null,
   "id": "23d300af-de32-45b8-b5fd-ee0bdc9d0138",
   "metadata": {},
   "outputs": [
    {
     "data": {
      "text/plain": [
       "'ACDC'"
      ]
     },
     "execution_count": 249,
     "metadata": {},
     "output_type": "execute_result"
    }
   ],
   "source": [
    "x = \"AC\"\n",
    "\n",
    "def addDC(y):\n",
    "    global x\n",
    "    x = x+\"DC\"\n",
    "    return(x)\n",
    "\n",
    "\n",
    "addDC(x)"
   ]
  },
  {
   "cell_type": "code",
   "execution_count": 46,
   "id": "ad25294f-1885-46c5-813c-2dc34c093485",
   "metadata": {},
   "outputs": [
    {
     "name": "stdout",
     "output_type": "stream",
     "text": [
      "ACDC\n"
     ]
    }
   ],
   "source": [
    "def addDC(y):\n",
    "    global x\n",
    "    x = x + \"DC\"\n",
    "    print(x)\n",
    "    return(x)\n",
    "\n",
    "x = \"AC\"\n",
    "z = addDC(x)"
   ]
  },
  {
   "cell_type": "code",
   "execution_count": 47,
   "id": "f5fa9e95-e96d-4a45-b8ff-59dc7ce2e430",
   "metadata": {},
   "outputs": [
    {
     "name": "stdout",
     "output_type": "stream",
     "text": [
      "1982\n",
      "1982\n"
     ]
    }
   ],
   "source": [
    "\n",
    "def Thriller():\n",
    "    global Date\n",
    "    Date = 1982\n",
    "    return Date\n",
    "\n",
    "Date = 2017\n",
    "print(Thriller())\n",
    "print(Date)"
   ]
  },
  {
   "cell_type": "code",
   "execution_count": null,
   "id": "04f95e30-078a-40f7-abdb-4df57cd296cf",
   "metadata": {},
   "outputs": [
    {
     "name": "stdout",
     "output_type": "stream",
     "text": [
      "1982\n",
      "2017\n"
     ]
    }
   ],
   "source": [
    "global scope\n",
    "def Thriller():\n",
    "    Date = 1982\n",
    "    return Date\n",
    "\n",
    "Date = 2017\n",
    "print(Thriller())\n",
    "print(Date)"
   ]
  },
  {
   "cell_type": "code",
   "execution_count": null,
   "id": "0ee442b3-d9b6-4441-a229-e010146f6905",
   "metadata": {},
   "outputs": [
    {
     "name": "stdout",
     "output_type": "stream",
     "text": [
      "9\n"
     ]
    },
    {
     "data": {
      "text/plain": [
       "13"
      ]
     },
     "execution_count": 262,
     "metadata": {},
     "output_type": "execute_result"
    }
   ],
   "source": [
    "global Scope\n",
    "\n",
    "def ACDC(y):\n",
    "    print(Rating)\n",
    "    return(Rating + y)\n",
    "\n",
    "Rating = 9\n",
    "\n",
    "z = ACDC(4)\n",
    "z\n"
   ]
  },
  {
   "cell_type": "code",
   "execution_count": null,
   "id": "1205d839-6efb-4308-8b05-38b9af1f06d0",
   "metadata": {},
   "outputs": [
    {
     "data": {
      "text/plain": [
       "'45 million'"
      ]
     },
     "execution_count": 264,
     "metadata": {},
     "output_type": "execute_result"
    }
   ],
   "source": [
    "global scope\n",
    "def pinkfloyd():\n",
    "    global ClaimSales\n",
    "    ClaimSales = \"45 million\"\n",
    "    return ClaimSales\n",
    "\n",
    "pinkfloyd()"
   ]
  },
  {
   "cell_type": "code",
   "execution_count": null,
   "id": "b605adc9-a537-414a-b9ec-0fac998bcb64",
   "metadata": {},
   "outputs": [
    {
     "data": {
      "text/plain": [
       "11"
      ]
     },
     "execution_count": 265,
     "metadata": {},
     "output_type": "execute_result"
    }
   ],
   "source": [
    "a=1\n",
    "\n",
    "def add(b):\n",
    "    return a+b\n",
    "\n",
    "c=add(10)\n",
    "c"
   ]
  },
  {
   "cell_type": "code",
   "execution_count": null,
   "id": "df4bcf20-fb25-43ae-8bf9-8361200d4327",
   "metadata": {},
   "outputs": [],
   "source": [
    "def f(*x):\n",
    "    return sum(x)"
   ]
  },
  {
   "cell_type": "code",
   "execution_count": null,
   "id": "d8f82f6a-2d23-41e3-b110-21e4f1180d3b",
   "metadata": {},
   "outputs": [
    {
     "data": {
      "text/plain": [
       "18"
      ]
     },
     "execution_count": 272,
     "metadata": {},
     "output_type": "execute_result"
    }
   ],
   "source": [
    "f(3,2,13)"
   ]
  },
  {
   "cell_type": "code",
   "execution_count": null,
   "id": "68350467-46b0-46c1-aa81-b0e30e126a16",
   "metadata": {},
   "outputs": [],
   "source": [
    "l1 = [1,2,3,4,5]\n",
    "l2 = [4,5,6,7,8]\n",
    "def t_or(l1,l2):\n",
    "    result = {}\n",
    "    for x in l1: result[x] = 0\n",
    "    for x in l2: result[x] = 0\n",
    "    print(result)"
   ]
  },
  {
   "cell_type": "code",
   "execution_count": null,
   "id": "07e68b4e-3c9c-45c0-8b9d-2778c7b816ab",
   "metadata": {},
   "outputs": [
    {
     "name": "stdout",
     "output_type": "stream",
     "text": [
      "{1: 0, 2: 0, 3: 0, 4: 0, 5: 0, 6: 0, 7: 0, 8: 0}\n"
     ]
    }
   ],
   "source": [
    "t_or(l1,l2)"
   ]
  },
  {
   "cell_type": "markdown",
   "id": "0d7449d3-d1ae-4ef3-9e53-ba4e2125c102",
   "metadata": {},
   "source": [
    "### Objects and Classes in Python"
   ]
  },
  {
   "cell_type": "code",
   "execution_count": null,
   "id": "7d346d60-c42c-4fb0-a486-0ffa9a66adec",
   "metadata": {},
   "outputs": [
    {
     "name": "stdout",
     "output_type": "stream",
     "text": [
      "[1, 2, 3]\n"
     ]
    }
   ],
   "source": [
    "# Creating objects of different types\n",
    "integer_object = 10\n",
    "list_object = [3, 1, 2]\n",
    "\n",
    "# Using methods on these objects\n",
    "list_object.sort()\n",
    "print(list_object)  # Output: [1, 2, 3]\n"
   ]
  },
  {
   "cell_type": "code",
   "execution_count": null,
   "id": "9eaebc8b-8b53-4025-90f4-022caf5bb8f2",
   "metadata": {},
   "outputs": [],
   "source": [
    "# Import the library\n",
    "\n",
    "import matplotlib.pyplot as plt\n",
    "%matplotlib inline  "
   ]
  },
  {
   "cell_type": "code",
   "execution_count": null,
   "id": "4bf68b23-2d1d-4d17-ae6d-fb0644e24288",
   "metadata": {},
   "outputs": [],
   "source": [
    "class Circle (object):\n",
    "    def __init__(self, radius=3 ,color= 'red'):\n",
    "        self.radius = radius\n",
    "        self.color = color\n",
    "\n",
    "    def add_radius(self,r):\n",
    "        self.radius = self.radius + r\n",
    "        return (self.radius)\n",
    "\n",
    "    def drawCircle(self):\n",
    "        plt.gca().add_patch(plt.Circle((0, 0), radius=self.radius, fc=self.color))\n",
    "        plt.axis('scaled')\n",
    "        plt.show()  "
   ]
  },
  {
   "cell_type": "code",
   "execution_count": null,
   "id": "0c2678f9-7c2c-48ae-ae2c-48ffe8a764fe",
   "metadata": {},
   "outputs": [],
   "source": [
    "my_car = Circle(2,'b')\n"
   ]
  },
  {
   "cell_type": "code",
   "execution_count": null,
   "id": "db019a3b-2c44-4bb4-bbe1-7145c5d91014",
   "metadata": {},
   "outputs": [
    {
     "data": {
      "image/png": "[encoded data removed]",
      "text/plain": [
       "<Figure size 640x480 with 1 Axes>"
      ]
     },
     "metadata": {},
     "output_type": "display_data"
    }
   ],
   "source": [
    "my_car.drawCircle()"
   ]
  },
  {
   "cell_type": "code",
   "execution_count": null,
   "id": "3dcaa94e-caf7-49a4-81e6-8ffcb9e8aeab",
   "metadata": {},
   "outputs": [],
   "source": [
    "class Rectangle (object):\n",
    "    def __init__(self, color, height, width):\n",
    "        self.hieght = height;\n",
    "        self.width = width;\n",
    "        self.color = color;"
   ]
  },
  {
   "cell_type": "code",
   "execution_count": null,
   "id": "bc692c63-d65e-456b-a527-deaedabf4c6f",
   "metadata": {},
   "outputs": [
    {
     "name": "stdout",
     "output_type": "stream",
     "text": [
      "Honda\n"
     ]
    }
   ],
   "source": [
    "class Car (object):\n",
    "    def __init__(self, make, model, color):\n",
    "        self.make = make;\n",
    "        self.model = model;\n",
    "        self.color = color;\n",
    "\n",
    "my_car = Car(model=\"Accord\",make=\"Honda\",color=\"blue\")\n",
    "print(my_car.make)"
   ]
  },
  {
   "cell_type": "markdown",
   "id": "e05fcbf5-e8c3-4d57-923d-54c0214d65f1",
   "metadata": {},
   "source": [
    "### Exercise:"
   ]
  },
  {
   "cell_type": "code",
   "execution_count": null,
   "id": "3fd9a31e-5d15-46d9-a6b3-d5ee44ac4b42",
   "metadata": {},
   "outputs": [
    {
     "name": "stdout",
     "output_type": "stream",
     "text": [
      "Hi\n",
      "Mike\n"
     ]
    }
   ],
   "source": [
    "x=1\n",
    "\n",
    "if(x!=1):\n",
    "    print('Hello')\n",
    "else:\n",
    "    print('Hi')\n",
    "\n",
    "print('Mike')"
   ]
  },
  {
   "cell_type": "code",
   "execution_count": null,
   "id": "8cd37a81-5123-4944-82cc-e168a345ca58",
   "metadata": {},
   "outputs": [
    {
     "name": "stdout",
     "output_type": "stream",
     "text": [
      "11\n",
      "22\n",
      "33\n"
     ]
    }
   ],
   "source": [
    "A = ['1','2','3']\n",
    "\n",
    "for a in A:\n",
    "    print(2*a)"
   ]
  },
  {
   "cell_type": "code",
   "execution_count": null,
   "id": "c574bbca-5ba5-4349-9285-e9c6de11081b",
   "metadata": {},
   "outputs": [],
   "source": [
    "def Delta(x):\n",
    "    if x==0:\n",
    "        y=1;\n",
    "    else:\n",
    "        y=0;\n",
    "    return(y)"
   ]
  },
  {
   "cell_type": "code",
   "execution_count": null,
   "id": "f4e5fcd1-61ea-4a0a-8a8d-9cec2670292b",
   "metadata": {},
   "outputs": [
    {
     "data": {
      "text/plain": [
       "1"
      ]
     },
     "execution_count": 394,
     "metadata": {},
     "output_type": "execute_result"
    }
   ],
   "source": [
    "Delta(0)"
   ]
  },
  {
   "cell_type": "code",
   "execution_count": null,
   "id": "03e0ad78-9bff-4120-8be0-ddd65f396b2b",
   "metadata": {},
   "outputs": [],
   "source": [
    "B = [1,4,1,2,33,4,2,56]\n",
    "B.sort()"
   ]
  },
  {
   "cell_type": "code",
   "execution_count": null,
   "id": "f6f36a7a-f30e-4fbc-9223-9b92b584a2a9",
   "metadata": {},
   "outputs": [
    {
     "data": {
      "text/plain": [
       "[1, 1, 2, 2, 4, 4, 33, 56]"
      ]
     },
     "execution_count": 397,
     "metadata": {},
     "output_type": "execute_result"
    }
   ],
   "source": [
    "B"
   ]
  },
  {
   "cell_type": "markdown",
   "id": "3394fead-3c28-4aa7-b335-c6db99efabc2",
   "metadata": {},
   "source": [
    "## Module 4 - Working with Data in Python"
   ]
  },
  {
   "cell_type": "markdown",
   "id": "68454f20-7f65-476b-8fcd-b7d60b014136",
   "metadata": {},
   "source": [
    "### Reading Files with Open"
   ]
  },
  {
   "cell_type": "code",
   "execution_count": 2,
   "id": "ae8a9bee-2854-414d-b367-55f81cb6577d",
   "metadata": {},
   "outputs": [],
   "source": [
    "file = open(\"D:/Labtop Sharing/exchange_rate_data.csv\",'r')"
   ]
  },
  {
   "cell_type": "code",
   "execution_count": 3,
   "id": "300d8c04-8661-4d92-8100-99c313772913",
   "metadata": {},
   "outputs": [
    {
     "data": {
      "text/plain": [
       "'Min,Max,Price,Month,Year,day\\n,,15.702,4,2021,1\\n,,15.733,4,2021,2\\n,,15.734,4,2021,3\\n,,15.729,4,2021,4\\n,,15.619,4,2021,5\\n,,15.709,4,2021,6\\n,,15.701,4,2021,7\\n,,15.705,4,2021,8\\n,,15.706,4,2021,9\\n,,15.707,4,2021,10\\n,,15.711,4,2021,11\\n,,15.69,4,2021,12\\n,,15.686,4,2021,13\\n,,15.677,4,2021,14\\n,,15.681,4,2021,15\\n,,15.684,4,2021,16\\n,,15.69,4,2021,17\\n,,15.696,4,2021,18\\n,,15.694,4,2021,19\\n,,15.706,4,2021,20\\n,,15.679,4,2021,21\\n,,15.695,4,2021,22\\n,,15.703,4,2021,23\\n,,15.703,4,2021,24\\n,,15.711,4,2021,25\\n,,15.694,4,2021,26\\n,,15.674,4,2021,27\\n,,15.66,4,2021,28\\n,,15.659,4,2021,29\\n,,15.659,4,2021,30\\n,,15.66,5,2021,1\\n,,15.65,5,2021,2\\n,,15.659,5,2021,3\\n,,15.666,5,2021,4\\n,,15.669,5,2021,5\\n,,15.669,5,2021,6\\n,,15.671,5,2021,7\\n,,15.671,5,2021,8\\n,,15.666,5,2021,9\\n,,15.668,5,2021,10\\n,,15.684,5,2021,11\\n,,15.684,5,2021,12\\n,,15.664,5,2021,13\\n,,15.655,5,2021,14\\n,,15.655,5,2021,15\\n,,15.654,5,2021,16\\n,,15.689,5,2021,17\\n,,15.681,5,2021,18\\n,,15.682,5,2021,19\\n,,15.683,5,2021,20\\n,,15.66,5,2021,21\\n,,15.66,5,2021,22\\n,,15.662,5,2021,23\\n,,15.668,5,2021,24\\n,,15.668,5,2021,25\\n,,15.683,5,2021,26\\n,,15.683,5,2021,27\\n,,15.658,5,2021,28\\n,,15.658,5,2021,29\\n,,15.656,5,2021,30\\n,,15.693,5,2021,31\\n,,15.676,6,2021,1\\n,,15.69,6,2021,2\\n,,15.686,6,2021,3\\n,,15.69,6,2021,4\\n,,15.69,6,2021,5\\n,,15.694,6,2021,6\\n,,15.687,6,2021,7\\n,,15.65,6,2021,8\\n,,15.682,6,2021,9\\n,,15.67,6,2021,10\\n,,15.639,6,2021,11\\n,,15.639,6,2021,12\\n,,15.638,6,2021,13\\n,,15.66,6,2021,14\\n,,15.667,6,2021,15\\n,,15.651,6,2021,16\\n,,15.665,6,2021,17\\n,,15.647,6,2021,18\\n,,15.646,6,2021,19\\n,,15.636,6,2021,20\\n,,15.659,6,2021,21\\n,,15.679,6,2021,22\\n,,15.658,6,2021,23\\n,,15.671,6,2021,24\\n,,15.668,6,2021,25\\n,,15.668,6,2021,26\\n,,15.665,6,2021,27\\n,,15.67,6,2021,28\\n,,15.668,6,2021,29\\n,,15.696,6,2021,30\\n,,15.697,7,2021,1\\n,,15.67,7,2021,2\\n,,15.669,7,2021,3\\n,,15.674,7,2021,4\\n,,15.68,7,2021,5\\n,,15.69,7,2021,6\\n,,15.666,7,2021,7\\n,,15.691,7,2021,8\\n,,15.688,7,2021,9\\n,,15.689,7,2021,10\\n,,15.665,7,2021,11\\n,,15.678,7,2021,12\\n,,15.692,7,2021,13\\n,,15.696,7,2021,14\\n,,15.705,7,2021,15\\n,,15.706,7,2021,16\\n,,15.706,7,2021,17\\n,,15.704,7,2021,18\\n,,15.673,7,2021,19\\n,,15.671,7,2021,20\\n,,15.673,7,2021,21\\n,,15.671,7,2021,22\\n,,15.672,7,2021,23\\n,,15.671,7,2021,24\\n,,15.669,7,2021,25\\n,,15.695,7,2021,26\\n,,15.689,7,2021,27\\n,,15.699,7,2021,28\\n,,15.704,7,2021,29\\n,,15.71,7,2021,30\\n,,15.71,7,2021,31\\n,,15.71,8,2021,1\\n,,15.708,8,2021,2\\n,,15.698,8,2021,3\\n,,15.7,8,2021,4\\n,,15.706,8,2021,5\\n,,15.7,8,2021,6\\n,,15.706,8,2021,7\\n,,15.713,8,2021,8\\n,,15.698,8,2021,9\\n,,15.699,8,2021,10\\n,,15.697,8,2021,11\\n,,15.699,8,2021,12\\n,,15.695,8,2021,13\\n,,15.695,8,2021,14\\n,,15.7,8,2021,15\\n,,15.688,8,2021,16\\n,,15.71,8,2021,17\\n,,15.706,8,2021,18\\n,,15.697,8,2021,19\\n,,15.699,8,2021,20\\n,,15.7,8,2021,21\\n,,15.703,8,2021,22\\n,,15.7,8,2021,23\\n,,15.702,8,2021,24\\n,,15.704,8,2021,25\\n,,15.699,8,2021,26\\n,,15.699,8,2021,27\\n,,15.699,8,2021,28\\n,,15.696,8,2021,29\\n,,15.698,8,2021,30\\n,,15.699,8,2021,31\\n,,15.706,9,2021,1\\n,,15.703,9,2021,2\\n,,15.705,9,2021,3\\n,,15.704,9,2021,4\\n,,15.708,9,2021,5\\n,,15.704,9,2021,6\\n,,15.712,9,2021,7\\n,,15.724,9,2021,8\\n,,15.71,9,2021,9\\n,,15.71,9,2021,10\\n,,15.71,9,2021,11\\n,,15.716,9,2021,12\\n,,15.721,9,2021,13\\n,,15.713,9,2021,14\\n,,15.711,9,2021,15\\n,,15.717,9,2021,16\\n,,15.717,9,2021,17\\n,,15.717,9,2021,18\\n,,15.713,9,2021,19\\n,,15.722,9,2021,20\\n,,15.698,9,2021,21\\n,,15.708,9,2021,22\\n,,15.701,9,2021,23\\n,,15.695,9,2021,24\\n,,15.694,9,2021,25\\n,,15.693,9,2021,26\\n,,15.712,9,2021,27\\n,,15.712,9,2021,28\\n,,15.708,9,2021,29\\n,,15.714,9,2021,30\\n,,15.72,10,2021,1\\n,,15.72,10,2021,2\\n,,15.703,10,2021,3\\n,,15.709,10,2021,4\\n,,15.711,10,2021,5\\n,,15.699,10,2021,6\\n,,15.703,10,2021,7\\n,,15.7,10,2021,8\\n,,15.7,10,2021,9\\n,,15.697,10,2021,10\\n,,15.727,10,2021,11\\n,,15.712,10,2021,12\\n,,15.715,10,2021,13\\n,,15.721,10,2021,14\\n,,15.72,10,2021,15\\n,,15.72,10,2021,16\\n,,15.724,10,2021,17\\n,,15.74,10,2021,18\\n,,15.717,10,2021,19\\n,,15.705,10,2021,20\\n,,15.697,10,2021,21\\n,,15.705,10,2021,22\\n,,15.706,10,2021,23\\n,,15.708,10,2021,24\\n,,15.732,10,2021,25\\n,,15.714,10,2021,26\\n,,15.713,10,2021,27\\n,,15.703,10,2021,28\\n,,15.712,10,2021,29\\n,,15.712,10,2021,30\\n,,15.714,10,2021,31\\n,,15.736,11,2021,1\\n,,15.697,11,2021,2\\n,,15.726,11,2021,3\\n,,15.698,11,2021,4\\n,,15.72,11,2021,5\\n,,15.72,11,2021,6\\n,,15.702,11,2021,7\\n,,15.728,11,2021,8\\n,,15.707,11,2021,9\\n,,15.699,11,2021,10\\n,,15.72,11,2021,11\\n,,15.73,11,2021,12\\n,,15.73,11,2021,13\\n,,15.734,11,2021,14\\n,,15.747,11,2021,15\\n,,15.706,11,2021,16\\n,,15.734,11,2021,17\\n,,15.703,11,2021,18\\n,,15.706,11,2021,19\\n,,15.706,11,2021,20\\n,,15.72,11,2021,21\\n,,15.72,11,2021,22\\n,,15.728,11,2021,23\\n,,15.72,11,2021,24\\n,,15.731,11,2021,25\\n,,15.726,11,2021,26\\n,,15.725,11,2021,27\\n,,15.757,11,2021,28\\n,,15.723,11,2021,29\\n,,15.759,11,2021,30\\n,,15.712,12,2021,1\\n,,15.712,12,2021,2\\n,,15.71,12,2021,3\\n,,15.71,12,2021,4\\n,,15.725,12,2021,5\\n,,15.723,12,2021,6\\n,,15.711,12,2021,7\\n,,15.717,12,2021,8\\n,,15.711,12,2021,9\\n,,15.707,12,2021,10\\n,,15.707,12,2021,11\\n,,15.709,12,2021,12\\n,,15.71,12,2021,13\\n,,15.735,12,2021,14\\n,,15.746,12,2021,15\\n,,15.738,12,2021,16\\n,,15.741,12,2021,17\\n,,15.741,12,2021,18\\n,,15.736,12,2021,19\\n,,15.703,12,2021,20\\n,,15.713,12,2021,21\\n,,15.752,12,2021,22\\n,,15.714,12,2021,23\\n,,15.705,12,2021,24\\n,,15.706,12,2021,25\\n,,15.704,12,2021,26\\n,,15.72,12,2021,27\\n,,15.733,12,2021,28\\n,,15.704,12,2021,29\\n,,15.709,12,2021,30\\n,,15.709,12,2021,31\\n,,15.709,1,2022,1\\n,,15.707,1,2022,2\\n,,15.746,1,2022,3\\n,,15.731,1,2022,4\\n,,15.716,1,2022,5\\n,,15.716,1,2022,6\\n,,15.716,1,2022,7\\n,,15.716,1,2022,8\\n,,15.722,1,2022,9\\n,,15.73,1,2022,10\\n,,15.714,1,2022,11\\n,,15.724,1,2022,12\\n,,15.689,1,2022,13\\n,,15.692,1,2022,14\\n,,15.692,1,2022,15\\n,,15.696,1,2022,16\\n,,15.71,1,2022,17\\n,,15.736,1,2022,18\\n,,15.709,1,2022,19\\n,,15.737,1,2022,20\\n,,15.709,1,2022,21\\n,,15.709,1,2022,22\\n,,15.716,1,2022,23\\n,,15.708,1,2022,24\\n,,15.735,1,2022,25\\n,,15.74,1,2022,26\\n,,15.741,1,2022,27\\n,,15.733,1,2022,28\\n,,15.734,1,2022,29\\n,,15.736,1,2022,30\\n,,15.725,1,2022,31\\n,,15.712,2,2022,1\\n,,15.714,2,2022,2\\n,,15.737,2,2022,3\\n,,15.731,2,2022,4\\n,,15.732,2,2022,5\\n,,15.726,2,2022,6\\n,,15.709,2,2022,7\\n,,15.721,2,2022,8\\n,,15.738,2,2022,9\\n,,15.712,2,2022,10\\n,,15.712,2,2022,11\\n,,15.711,2,2022,12\\n,,15.691,2,2022,13\\n,,15.719,2,2022,14\\n,,15.724,2,2022,15\\n,,15.707,2,2022,16\\n,,15.741,2,2022,17\\n,,15.737,2,2022,18\\n,,15.737,2,2022,19\\n,,15.743,2,2022,20\\n,,15.713,2,2022,21\\n,,15.715,2,2022,22\\n,,15.724,2,2022,23\\n,,15.744,2,2022,24\\n,,15.746,2,2022,25\\n,,15.746,2,2022,26\\n,,15.745,2,2022,27\\n,,15.712,2,2022,28\\n,,15.703,3,2022,1\\n,,15.716,3,2022,2\\n,,15.73,3,2022,3\\n,,15.696,3,2022,4\\n,,15.696,3,2022,5\\n,,15.771,3,2022,6\\n,,15.737,3,2022,7\\n,,15.732,3,2022,8\\n,,15.737,3,2022,9\\n,,15.711,3,2022,10\\n,,15.683,3,2022,11\\n,,15.682,3,2022,12\\n,,15.654,3,2022,13\\n,,15.735,3,2022,14\\n,,15.715,3,2022,15\\n,,15.722,3,2022,16\\n,,15.718,3,2022,17\\n,,15.7,3,2022,18\\n,,15.7,3,2022,19\\n,,15.744,3,2022,20\\n,,18.219,3,2022,21\\n,,18.541,3,2022,22\\n,,18.371,3,2022,23\\n,,18.331,3,2022,24\\n,,18.497,3,2022,25\\n,,18.556,3,2022,26\\n,,18.561,3,2022,27\\n,,18.303,3,2022,28\\n,,18.324,3,2022,29\\n,,18.271,3,2022,30\\n,,18.278,3,2022,31\\n,,18.293,4,2022,1\\n,,18.294,4,2022,2\\n,,18.299,4,2022,3\\n,,18.243,4,2022,4\\n,,18.237,4,2022,5\\n,,18.312,4,2022,6\\n,,18.345,4,2022,7\\n,,18.342,4,2022,8\\n,,18.342,4,2022,9\\n,,18.321,4,2022,10\\n,,18.443,4,2022,11\\n,,18.501,4,2022,12\\n,,18.412,4,2022,13\\n,,18.409,4,2022,14\\n,,18.435,4,2022,15\\n,,18.435,4,2022,16\\n,,18.418,4,2022,17\\n,,18.61,4,2022,18\\n,,18.469,4,2022,19\\n,,18.476,4,2022,20\\n,,18.57,4,2022,21\\n,,18.594,4,2022,22\\n,,18.595,4,2022,23\\n,,18.572,4,2022,24\\n,,18.558,4,2022,25\\n,,18.513,4,2022,26\\n,,18.498,4,2022,27\\n,,18.498,4,2022,28\\n,,18.487,4,2022,29\\n,,18.487,4,2022,30\\n,,18.489,5,2022,1\\n,,18.476,5,2022,2\\n,,18.475,5,2022,3\\n,,18.473,5,2022,4\\n,,18.48,5,2022,5\\n,,18.489,5,2022,6\\n,,18.488,5,2022,7\\n,,18.508,5,2022,8\\n,,18.482,5,2022,9\\n,,18.482,5,2022,10\\n,,18.39,5,2022,11\\n,,18.317,5,2022,12\\n,,18.314,5,2022,13\\n,,18.315,5,2022,14\\n,,18.331,5,2022,15\\n,,18.276,5,2022,16\\n,,18.282,5,2022,17\\n,,18.255,5,2022,18\\n,,18.279,5,2022,19\\n,,18.274,5,2022,20\\n,,18.274,5,2022,21\\n,,18.253,5,2022,22\\n,,18.402,5,2022,23\\n,,18.527,5,2022,24\\n,,18.603,5,2022,25\\n,,18.608,5,2022,26\\n,,18.594,5,2022,27\\n,,18.594,5,2022,28\\n,,18.605,5,2022,29\\n,,18.608,5,2022,30\\n,,18.602,5,2022,31\\n,,18.629,6,2022,1\\n,,18.651,6,2022,2\\n,,18.63,6,2022,3\\n,,18.631,6,2022,4\\n,,18.621,6,2022,5\\n,,18.654,6,2022,6\\n,,18.682,6,2022,7\\n,,18.693,6,2022,8\\n,,18.713,6,2022,9\\n,,18.707,6,2022,10\\n,,18.709,6,2022,11\\n,,18.724,6,2022,12\\n,,18.722,6,2022,13\\n,,18.734,6,2022,14\\n,,18.762,6,2022,15\\n,,18.741,6,2022,16\\n,,18.742,6,2022,17\\n,,18.741,6,2022,18\\n,,18.76,6,2022,19\\n,,18.769,6,2022,20\\n,,18.744,6,2022,21\\n,,18.743,6,2022,22\\n,,18.773,6,2022,23\\n,,18.777,6,2022,24\\n,,18.777,6,2022,25\\n,,18.764,6,2022,26\\n,,18.77,6,2022,27\\n,,18.787,6,2022,28\\n,,18.799,6,2022,29\\n,,18.804,6,2022,30\\n,,18.807,7,2022,1\\n,,18.807,7,2022,2\\n,,18.788,7,2022,3\\n,,18.866,7,2022,4\\n,,18.857,7,2022,5\\n,,18.878,7,2022,6\\n,,18.874,7,2022,7\\n,,18.859,7,2022,8\\n,,18.861,7,2022,9\\n,,18.867,7,2022,10\\n,,18.882,7,2022,11\\n,,18.881,7,2022,12\\n,,18.876,7,2022,13\\n,,18.883,7,2022,14\\n,,18.901,7,2022,15\\n,,18.879,7,2022,16\\n,,18.886,7,2022,17\\n,,18.925,7,2022,18\\n,,18.91,7,2022,19\\n,,18.952,7,2022,20\\n,,18.916,7,2022,21\\n,,18.91,7,2022,22\\n,,18.915,7,2022,23\\n,,18.92,7,2022,24\\n,,18.956,7,2022,25\\n,,18.96,7,2022,26\\n,,18.939,7,2022,27\\n,,18.92,7,2022,28\\n,,18.905,7,2022,29\\n,,18.911,7,2022,30\\n,,18.929,7,2022,31\\n,,18.98,8,2022,1\\n,,19.045,8,2022,2\\n,,19.082,8,2022,3\\n,,19.198,8,2022,4\\n,,19.11,8,2022,5\\n,,19.11,8,2022,6\\n,,19.127,8,2022,7\\n,,19.172,8,2022,8\\n,,19.159,8,2022,9\\n,,19.128,8,2022,10\\n,,19.149,8,2022,11\\n,,19.143,8,2022,12\\n,,19.143,8,2022,13\\n,,19.15,8,2022,14\\n,,19.148,8,2022,15\\n,,19.152,8,2022,16\\n,,19.134,8,2022,17\\n,,19.154,8,2022,18\\n,,19.139,8,2022,19\\n,,19.138,8,2022,20\\n,,19.146,8,2022,21\\n,,19.172,8,2022,22\\n,,19.161,8,2022,23\\n,,19.202,8,2022,24\\n,,19.198,8,2022,25\\n,,19.19,8,2022,26\\n,,19.189,8,2022,27\\n,,19.221,8,2022,28\\n,,19.207,8,2022,29\\n,,19.235,8,2022,30\\n,,19.236,8,2022,31\\n,,19.237,9,2022,1\\n,,19.22,9,2022,2\\n,,19.228,9,2022,3\\n,,19.282,9,2022,4\\n,,19.241,9,2022,5\\n,,19.273,9,2022,6\\n,,19.273,9,2022,7\\n,,19.331,9,2022,8\\n,,19.119,9,2022,9\\n,,19.234,9,2022,10\\n,,19.274,9,2022,11\\n,,19.361,9,2022,12\\n,,19.344,9,2022,13\\n,,19.367,9,2022,14\\n,,19.428,9,2022,15\\n,,19.429,9,2022,16\\n,,19.429,9,2022,17\\n,,19.251,9,2022,18\\n,,19.419,9,2022,19\\n,,19.44,9,2022,20\\n,,19.483,9,2022,21\\n,,19.494,9,2022,22\\n,,19.496,9,2022,23\\n,,19.491,9,2022,24\\n,,19.6,9,2022,25\\n,,19.581,9,2022,26\\n,,19.496,9,2022,27\\n,,19.539,9,2022,28\\n,,19.548,9,2022,29\\n,,19.577,9,2022,30\\n,,19.538,10,2022,1\\n,,19.555,10,2022,2\\n,,19.627,10,2022,3\\n,,19.661,10,2022,4\\n,,19.65,10,2022,5\\n,,19.642,10,2022,6\\n,,19.665,10,2022,7\\n,,19.665,10,2022,8\\n,,19.776,10,2022,9\\n,,19.656,10,2022,10\\n,,19.693,10,2022,11\\n,,19.692,10,2022,12\\n,,19.651,10,2022,13\\n,,19.664,10,2022,14\\n,,19.664,10,2022,15\\n,,19.626,10,2022,16\\n,,19.688,10,2022,17\\n,,19.651,10,2022,18\\n,,19.687,10,2022,19\\n,,19.612,10,2022,20\\n,,19.618,10,2022,21\\n,,19.618,10,2022,22\\n,,19.633,10,2022,23\\n,,19.644,10,2022,24\\n,,19.721,10,2022,25\\n,,19.712,10,2022,26\\n,,20.262,10,2022,27\\n,,23.148,10,2022,28\\n,,23.15,10,2022,29\\n,,23.167,10,2022,30\\n,,24.179,10,2022,31\\n,,24.189,11,2022,1\\n,,24.073,11,2022,2\\n,,24.245,11,2022,3\\n,,24.18,11,2022,4\\n,,24.251,11,2022,5\\n,,23.922,11,2022,6\\n,,24.316,11,2022,7\\n,,24.338,11,2022,8\\n,,24.386,11,2022,9\\n,,24.382,11,2022,10\\n,,24.376,11,2022,11\\n,,24.347,11,2022,12\\n,,24.453,11,2022,13\\n,,24.463,11,2022,14\\n,,24.44,11,2022,15\\n,,24.481,11,2022,16\\n,,24.52,11,2022,17\\n,,24.478,11,2022,18\\n,,24.477,11,2022,19\\n,,24.607,11,2022,20\\n,,24.521,11,2022,21\\n,,24.508,11,2022,22\\n,,24.547,11,2022,23\\n,,24.585,11,2022,24\\n,,24.546,11,2022,25\\n,,24.546,11,2022,26\\n,,24.641,11,2022,27\\n,,24.572,11,2022,28\\n,,24.552,11,2022,29\\n,,24.554,11,2022,30\\n,,24.562,12,2022,1\\n,,24.572,12,2022,2\\n,,24.571,12,2022,3\\n,,24.559,12,2022,4\\n,,24.564,12,2022,5\\n,,24.6,12,2022,6\\n,,24.638,12,2022,7\\n,,24.602,12,2022,8\\n,,24.578,12,2022,9\\n,,24.565,12,2022,10\\n,,24.629,12,2022,11\\n,,24.647,12,2022,12\\n,,24.658,12,2022,13\\n,,24.706,12,2022,14\\n,,24.652,12,2022,15\\n,,24.654,12,2022,16\\n,,24.649,12,2022,17\\n,,24.688,12,2022,18\\n,,24.738,12,2022,19\\n,,24.697,12,2022,20\\n,,24.738,12,2022,21\\n,,24.752,12,2022,22\\n,,24.649,12,2022,23\\n,,24.649,12,2022,24\\n,,24.753,12,2022,25\\n,,24.694,12,2022,26\\n,,24.7,12,2022,27\\n,,24.737,12,2022,28\\n,,24.77,12,2022,29\\n,,24.719,12,2022,30\\n,,24.719,12,2022,31\\n,,24.751,1,2023,1\\n,,24.715,1,2023,2\\n,,24.766,1,2023,3\\n,,26.298,1,2023,4\\n,,26.305,1,2023,5\\n,,26.305,1,2023,6\\n,,26.305,1,2023,7\\n,,27.172,1,2023,8\\n,,27.586,1,2023,9\\n,,27.67,1,2023,10\\n,,27.681,1,2023,11\\n,,29.544,1,2023,12\\n,,29.5,1,2023,13\\n,,29.5,1,2023,14\\n,,29.567,1,2023,15\\n,,29.645,1,2023,16\\n,,29.589,1,2023,17\\n,,29.648,1,2023,18\\n,,29.848,1,2023,19\\n,,29.778,1,2023,20\\n,,29.778,1,2023,21\\n,,29.811,1,2023,22\\n,,29.876,1,2023,23\\n,,29.851,1,2023,24\\n,,29.892,1,2023,25\\n,,29.896,1,2023,26\\n,,29.88,1,2023,27\\n,,29.877,1,2023,28\\n,,29.879,1,2023,29\\n,,30.08,1,2023,30\\n,,30.188,1,2023,31\\n,,30.206,2,2023,1\\n,,30.287,2,2023,2\\n,,30.198,2,2023,3\\n,,30.266,2,2023,4\\n,,30.28,2,2023,5\\n,,30.191,2,2023,6\\n,,30.298,2,2023,7\\n,,30.375,2,2023,8\\n,,30.505,2,2023,9\\n,,30.427,2,2023,10\\n,,30.427,2,2023,11\\n,,30.499,2,2023,12\\n47.604,48.702,48.25,4,2024,15\\n47.449,47.584,47.541,4,2024,14\\n47.434,47.58,47.58,4,2024,13\\n47.541,47.547,47.528,4,2024,12\\n47.55,47.547,47.552,4,2024,11\\n47.553,47.546,47.542,4,2024,10\\n47.552,47.549,47.551,4,2024,9\\n47.427,47.563,47.552,4,2024,8\\n47.367,47.38,47.422,4,2024,7\\n47.326,47.38,47.38,4,2024,6\\n47.378,47.38,47.322,4,2024,5\\n47.347,47.38,47.34,4,2024,4\\n47.148,47.357,47.354,4,2024,3\\n47.152,47.519,47.17,4,2024,2\\n47.265,47.407,47.627,4,2024,1\\n47.35,47.432,47.449,3,2024,31\\n47.35,47.386,47.386,3,2024,30\\n47.403,47.408,47.388,3,2024,29\\n47.155,47.383,47.4,3,2024,28\\n47.209,47.834,47.249,3,2024,27\\n47.449,47.883,47.801,3,2024,26\\n46.583,47.396,47.396,3,2024,25\\n46.571,46.79,46.785,3,2024,24\\n46.505,46.75,46.75,3,2024,23\\n46.593,46.646,46.505,3,2024,22\\n46.648,47.076,46.651,3,2024,21\\n46.95,46.9,46.9,3,2024,20\\n47.085,47.137,47.043,3,2024,19\\n47.108,47.797,47.11,3,2024,18\\n47.78,47.815,47.851,3,2024,17\\n47.777,47.807,47.777,3,2024,16\\n47.765,47.802,47.776,3,2024,15\\n47.814,48.437,47.801,3,2024,14\\n48.389,48.835,48.452,3,2024,13\\n48.818,49.126,48.794,3,2024,12\\n49.061,49.356,49.034,3,2024,11\\n49.374,49.379,49.367,3,2024,10\\n49.35,49.408,49.35,3,2024,9\\n49.353,49.399,49.408,3,2024,8\\n49.451,49.381,49.349,3,2024,7\\n30.926,49.557,49.549,3,2024,6\\n30.901,30.896,30.907,3,2024,5\\n30.819,30.902,30.909,3,2024,4\\n30.862,30.89,30.88,3,2024,3\\n30.867,30.9,30.9,3,2024,2\\n30.896,30.901,30.867,3,2024,1\\n30.898,30.918,30.898,2,2024,29\\n30.877,30.904,30.941,2,2024,28\\n30.907,30.944,30.902,2,2024,27\\n30.825,30.935,30.944,2,2024,26\\n30.848,30.885,30.893,2,2024,25\\n30.847,30.898,30.9,2,2024,24\\n30.896,30.907,30.869,2,2024,23\\n30.903,30.892,30.902,2,2024,22\\n30.905,30.93,30.901,2,2024,21\\n30.894,30.938,30.936,2,2024,20\\n30.853,30.927,30.902,2,2024,19\\n30.892,30.898,30.882,2,2024,18\\n30.779,30.904,30.9,2,2024,17\\n30.893,30.904,30.903,2,2024,16\\n30.864,30.9,30.899,2,2024,15\\n30.872,30.915,30.901,2,2024,14\\n30.903,30.941,30.899,2,2024,13\\n30.836,30.883,30.898,2,2024,12\\n30.854,30.88,30.826,2,2024,11\\n30.894,30.91,30.9,2,2024,10\\n30.895,30.903,30.91,2,2024,9\\n30.895,30.931,30.897,2,2024,8\\n30.901,30.919,30.896,2,2024,7\\n30.9,30.9,30.899,2,2024,6\\n30.906,31.18,30.9,2,2024,5\\n30.9,31.182,31.198,2,2024,4\\n30.847,30.893,30.893,2,2024,3\\n30.889,30.885,30.85,2,2024,2\\n30.782,30.904,30.896,2,2024,1\\n30.916,30.885,30.906,1,2024,31\\n30.925,30.901,30.941,1,2024,30\\n30.896,30.96,30.9,1,2024,29\\n30.901,30.966,30.986,1,2024,28\\n30.869,30.9,30.9,1,2024,27\\n30.896,30.89,30.877,1,2024,26\\n30.904,30.897,30.893,1,2024,25\\n30.899,30.896,30.902,1,2024,24\\n30.901,30.945,30.908,1,2024,23\\n30.859,30.932,30.901,1,2024,22\\n30.876,30.875,30.89,1,2024,21\\n30.849,30.867,30.867,1,2024,20\\n30.898,30.901,30.845,1,2024,19\\n30.901,30.901,30.898,1,2024,18\\n30.906,30.895,30.898,1,2024,17\\n30.9,30.94,30.895,1,2024,16\\n30.904,30.929,30.941,1,2024,15\\n30.911,30.9,30.918,1,2024,14\\n30.859,30.9,30.9,1,2024,13\\n30.904,30.898,30.851,1,2024,12\\n30.924,30.926,30.893,1,2024,11\\n30.902,30.897,30.895,1,2024,10\\n30.898,30.904,30.897,1,2024,9\\n30.792,30.901,30.904,1,2024,8\\n30.687,30.757,30.722,1,2024,7\\n30.757,30.801,30.757,1,2024,6\\n30.799,30.8,30.757,1,2024,5\\n30.839,30.919,30.797,1,2024,4\\n30.903,30.929,30.924,1,2024,3\\n30.908,31.004,30.925,1,2024,2\\n30.938,31.015,31.036,1,2024,1\\n30.947,31.009,30.968,12,2023,31\\n30.862,30.925,30.925,12,2023,30\\n30.924,30.923,30.857,12,2023,29\\n30.918,30.899,30.924,12,2023,28\\n30.85,30.938,30.803,12,2023,27\\n30.87,30.826,30.802,12,2023,26\\n30.844,30.899,30.868,12,2023,25\\n30.848,30.933,30.883,12,2023,24\\n30.809,30.901,30.9,12,2023,23\\n30.893,30.899,30.872,12,2023,22\\n30.903,30.896,30.913,12,2023,21\\n30.902,30.926,30.901,12,2023,20\\n30.904,30.924,30.922,12,2023,19\\n30.91,31.073,30.896,12,2023,18\\n30.928,30.904,30.923,12,2023,17\\n30.883,30.923,30.883,12,2023,16\\n30.921,30.93,30.886,12,2023,15\\n30.907,30.924,30.933,12,2023,14\\n30.899,30.896,30.897,12,2023,13\\n30.891,30.914,30.924,12,2023,12\\n30.906,30.9,30.926,12,2023,11\\n30.926,30.971,30.944,12,2023,10\\n30.887,30.9,30.887,12,2023,9\\n30.892,30.905,30.887,12,2023,8\\n30.908,30.901,30.902,12,2023,7\\n30.899,30.937,30.952,12,2023,6\\n30.807,30.912,30.798,12,2023,5\\n30.905,30.933,30.919,12,2023,4\\n30.93,30.918,30.924,12,2023,3\\n30.895,30.906,30.9,12,2023,2\\n30.892,30.977,30.906,12,2023,1\\n30.898,30.955,30.898,11,2023,30\\n30.907,30.93,30.948,11,2023,29\\n30.903,30.92,30.918,11,2023,28\\n30.827,30.899,30.897,11,2023,27\\n30.805,30.885,30.828,11,2023,26\\n30.897,30.957,30.9,11,2023,25\\n30.899,30.932,30.897,11,2023,24\\n30.9,30.93,30.902,11,2023,23\\n30.9,30.894,30.906,11,2023,22\\n30.934,30.891,30.905,11,2023,21\\n30.832,30.936,30.935,11,2023,20\\n30.791,30.917,30.813,11,2023,19\\n30.913,30.925,30.925,11,2023,18\\n30.92,30.921,30.913,11,2023,17\\n30.896,30.922,30.929,11,2023,16\\n30.91,30.905,30.918,11,2023,15\\n30.899,30.898,30.907,11,2023,14\\n30.874,30.902,30.901,11,2023,13\\n30.809,30.88,30.862,11,2023,12\\n30.824,30.9,30.9,11,2023,11\\n30.891,30.899,30.815,11,2023,10\\n30.898,30.905,30.895,11,2023,9\\n30.883,30.907,30.898,11,2023,8\\n30.806,30.902,30.8,11,2023,7\\n30.731,30.915,30.909,11,2023,6\\n30.667,30.875,30.659,11,2023,5\\n30.647,30.901,30.9,11,2023,4\\n30.904,30.903,30.9,11,2023,3\\n30.901,30.941,30.899,11,2023,2\\n30.902,30.896,30.89,11,2023,1\\n30.914,30.934,30.92,10,2023,31\\n30.9,30.897,30.899,10,2023,30\\n30.855,30.882,30.882,10,2023,29\\n30.856,30.9,30.9,10,2023,28\\n30.894,30.896,30.875,10,2023,27\\n30.881,30.903,30.901,10,2023,26\\n30.899,30.936,30.899,10,2023,25\\n30.923,30.937,30.919,10,2023,24\\n30.902,30.898,30.905,10,2023,23\\n30.879,30.892,30.902,10,2023,22\\n30.864,30.9,30.9,10,2023,21\\n30.909,30.889,30.862,10,2023,20\\n30.926,30.884,30.897,10,2023,19\\n48.333,48.6,48.348,4,2024,18\\n48.494,48.786,48.49,4,2024,17\\n48.271,48.658,48.497,4,2024,16\\n47.865,47.863,47.86,4,2024,28\\n47.862,48.431,47.861,4,2024,27\\n47.902,47.865,47.861,4,2024,26\\n47.904,47.902,47.901,4,2024,25\\n47.846,48.022,47.9,4,2024,24\\n48.117,48.048,48.046,4,2024,23\\n48.163,48.432,48.16,4,2024,22\\n48.225,48.295,48.275,4,2024,21\\n48.269,48.33,48.268,4,2024,20\\n48.266,48.433,48.266,4,2024,19\\n47.852,47.877,47.858,4,2024,30\\n47.64,47.85,47.851,4,2024,29\\n47.991,47.996,47.937,7,2024,5\\n30.897,48.098,47.984,7,2024,4\\n48.157,48.141,48.132,7,2024,3\\n48.136,48.168,48.151,7,2024,2\\n47.899,48.207,48.299,7,2024,1\\n47.899,47.941,47.91,6,2024,30\\n47.977,47.977,47.977,6,2024,29\\n48.035,48.003,47.977,6,2024,28\\n48.053,48.081,48.03,6,2024,27\\n48.049,48.658,48.045,6,2024,26\\n48.257,48.363,48.386,6,2024,25\\n47.717,48.431,48.322,6,2024,24\\n47.717,47.708,47.706,6,2024,23\\n47.66,47.708,47.708,6,2024,22\\n47.706,47.686,47.69,6,2024,21\\n47.712,47.713,47.711,6,2024,20\\n47.719,47.701,47.711,6,2024,19\\n47.712,47.704,47.7,6,2024,18\\n47.704,47.709,47.713,6,2024,17\\n47.635,47.749,47.713,6,2024,16\\n47.586,47.699,47.71,6,2024,15\\n47.682,47.704,47.655,6,2024,14\\n47.682,47.756,47.709,6,2024,13\\n47.558,47.711,47.698,6,2024,12\\n47.573,47.689,47.563,6,2024,11\\n47.634,47.742,47.7,6,2024,10\\n47.532,47.754,47.718,6,2024,9\\n47.435,47.53,47.53,6,2024,8\\n47.518,47.522,47.53,6,2024,7\\n47.465,47.593,47.51,6,2024,6\\n47.456,47.652,47.588,6,2024,5\\n47.259,47.374,47.451,6,2024,4\\n47.178,47.102,47.102,6,2024,3\\n47.213,47.24,47.189,6,2024,2\\n47.033,47.27,47.27,6,2024,1\\n47.243,47.272,47.218,5,2024,31\\n47.216,47.338,47.241,5,2024,30\\n47.303,47.558,47.351,5,2024,29\\n47.22,47.542,47.581,5,2024,28\\n46.917,47.187,47.167,5,2024,27\\n47.127,47.156,47.139,5,2024,26\\n46.846,47.144,47.125,5,2024,25\\n47.143,47.148,47.121,5,2024,24\\n46.891,47.244,47.151,5,2024,23\\n46.63,46.752,46.782,5,2024,22\\n46.656,46.689,46.729,5,2024,21\\n46.619,46.861,46.637,5,2024,20\\n46.819,46.918,46.925,5,2024,19\\n46.679,46.91,46.91,5,2024,18\\n46.906,46.913,46.852,5,2024,17\\n46.886,47.425,46.908,5,2024,16\\n46.843,46.832,46.832,5,2024,15\\n46.925,46.976,46.846,5,2024,14\\n47.065,47.241,47.065,5,2024,13\\n47.32,47.387,47.393,5,2024,12\\n47.135,47.322,47.322,5,2024,11\\n47.393,47.4,47.322,5,2024,10\\n47.324,47.508,47.398,5,2024,9\\n47.559,47.711,47.557,5,2024,8\\n47.72,47.947,47.726,5,2024,7\\n47.95,47.944,47.946,5,2024,6\\n47.894,47.931,47.942,5,2024,5\\n47.894,48.087,47.894,5,2024,4\\n47.949,47.952,47.896,5,2024,3\\n47.847,47.978,47.938,5,2024,2\\n47.886,47.729,47.671,5,2024,1\\n'"
      ]
     },
     "execution_count": 3,
     "metadata": {},
     "output_type": "execute_result"
    }
   ],
   "source": [
    "file.read()"
   ]
  },
  {
   "cell_type": "code",
   "execution_count": 5,
   "id": "722f37c7",
   "metadata": {},
   "outputs": [
    {
     "data": {
      "text/plain": [
       "_io.TextIOWrapper"
      ]
     },
     "execution_count": 5,
     "metadata": {},
     "output_type": "execute_result"
    }
   ],
   "source": [
    "type(file)"
   ]
  },
  {
   "cell_type": "markdown",
   "id": "875f85c3",
   "metadata": {},
   "source": [
    "## Module 4 - Working with Data in Python"
   ]
  },
  {
   "cell_type": "markdown",
   "id": "67f67185",
   "metadata": {},
   "source": [
    "###  Learning Objectives\n",
    "In this lesson you will learn about:\n",
    "* Reading files with open\n",
    "* Writing files with open\n",
    "* Loading data with Pandas\n",
    "* Working with and Saving data with Pandas"
   ]
  },
  {
   "cell_type": "markdown",
   "id": "65315f6c",
   "metadata": {},
   "source": [
    "### Reading Files with Open"
   ]
  },
  {
   "cell_type": "code",
   "execution_count": 26,
   "id": "e4c524bd",
   "metadata": {},
   "outputs": [],
   "source": [
    "file = open(\"C:/Users/MohamedAhmed/Downloads/3F448400.xlsx\",\"r\")"
   ]
  },
  {
   "cell_type": "code",
   "execution_count": 27,
   "id": "9d401e36",
   "metadata": {},
   "outputs": [
    {
     "data": {
      "text/plain": [
       "'PK\\x03\\x04\\x14\\x00\\x06\\x00\\x08\\x00\\x00\\x00!\\x00bî\\u200ch^\\x01\\x00\\x00گ\\x04\\x00\\x00\\x13\\x00\\x08\\x02[Content_Types].xml ¢\\x04\\x02(\\xa0\\x00\\x02\\x00\\x00\\x00\\x00\\x00\\x00\\x00\\x00\\x00\\x00\\x00\\x00\\x00\\x00\\x00\\x00\\x00\\x00\\x00\\x00\\x00\\x00\\x00\\x00\\x00\\x00\\x00\\x00\\x00\\x00\\x00\\x00\\x00\\x00\\x00\\x00\\x00\\x00\\x00\\x00\\x00\\x00\\x00\\x00\\x00\\x00\\x00\\x00\\x00\\x00\\x00\\x00\\x00\\x00\\x00\\x00\\x00\\x00\\x00\\x00\\x00\\x00\\x00\\x00\\x00\\x00\\x00\\x00\\x00\\x00\\x00\\x00\\x00\\x00\\x00\\x00\\x00\\x00\\x00\\x00\\x00\\x00\\x00\\x00\\x00\\x00\\x00\\x00\\x00\\x00\\x00\\x00\\x00\\x00\\x00\\x00\\x00\\x00\\x00\\x00\\x00\\x00\\x00\\x00\\x00\\x00\\x00\\x00\\x00\\x00\\x00\\x00\\x00\\x00\\x00\\x00\\x00\\x00\\x00\\x00\\x00\\x00\\x00\\x00\\x00\\x00\\x00\\x00\\x00\\x00\\x00\\x00\\x00\\x00\\x00\\x00\\x00\\x00\\x00\\x00\\x00\\x00\\x00\\x00\\x00\\x00\\x00\\x00\\x00\\x00\\x00\\x00\\x00\\x00\\x00\\x00\\x00\\x00\\x00\\x00\\x00\\x00\\x00\\x00\\x00\\x00\\x00\\x00\\x00\\x00\\x00\\x00\\x00\\x00\\x00\\x00\\x00\\x00\\x00\\x00\\x00\\x00\\x00\\x00\\x00\\x00\\x00\\x00\\x00\\x00\\x00\\x00\\x00\\x00\\x00\\x00\\x00\\x00\\x00\\x00\\x00\\x00\\x00\\x00\\x00\\x00\\x00\\x00\\x00\\x00\\x00\\x00\\x00\\x00\\x00\\x00\\x00\\x00\\x00\\x00\\x00\\x00\\x00\\x00\\x00\\x00\\x00\\x00\\x00\\x00\\x00\\x00\\x00\\x00\\x00\\x00\\x00\\x00\\x00\\x00\\x00\\x00\\x00\\x00\\x00\\x00\\x00\\x00\\x00\\x00\\x00\\x00\\x00\\x00\\x00\\x00\\x00\\x00\\x00\\x00\\x00\\x00\\x00\\x00\\x00\\x00\\x00\\x00\\x00\\x00\\x00\\x00\\x00\\x00\\x00\\x00\\x00\\x00\\x00\\x00\\x00\\x00\\x00\\x00\\x00\\x00\\x00\\x00\\x00\\x00\\x00\\x00\\x00\\x00\\x00\\x00\\x00\\x00\\x00\\x00\\x00\\x00\\x00\\x00\\x00\\x00\\x00\\x00\\x00\\x00\\x00\\x00\\x00\\x00\\x00\\x00\\x00\\x00\\x00\\x00\\x00\\x00\\x00\\x00\\x00\\x00\\x00\\x00\\x00\\x00\\x00\\x00\\x00\\x00\\x00\\x00\\x00\\x00\\x00\\x00\\x00\\x00\\x00\\x00\\x00\\x00\\x00\\x00\\x00\\x00\\x00\\x00\\x00\\x00\\x00\\x00\\x00\\x00\\x00\\x00\\x00\\x00\\x00\\x00\\x00\\x00\\x00\\x00\\x00\\x00\\x00\\x00\\x00\\x00\\x00\\x00\\x00\\x00\\x00\\x00\\x00\\x00\\x00\\x00\\x00\\x00\\x00\\x00\\x00\\x00\\x00\\x00\\x00\\x00\\x00\\x00\\x00\\x00\\x00\\x00\\x00\\x00\\x00\\x00\\x00\\x00\\x00\\x00\\x00\\x00\\x00\\x00\\x00\\x00\\x00\\x00\\x00\\x00\\x00\\x00\\x00\\x00\\x00\\x00\\x00\\x00\\x00\\x00\\x00\\x00\\x00\\x00\\x00\\x00\\x00\\x00\\x00\\x00\\x00\\x00\\x00\\x00\\x00\\x00\\x00\\x00\\x00\\x00\\x00\\x00\\x00\\x00\\x00\\x00\\x00\\x00\\x00\\x00\\x00\\x00\\x00\\x00\\x00\\x00\\x00\\x00\\x00\\x00\\x00\\x00\\x00\\x00\\x00\\x00\\x00\\x00\\x00\\x00\\x00\\x00\\x00\\x00\\x00\\x00\\x00\\x00\\x00\\x00\\x00\\x00\\x00\\x00\\x00\\x00\\x00\\x00\\x00\\x00\\x00\\x00\\x00\\x00\\x00\\x00\\x00\\x00\\x00\\x00\\x00\\x00\\x00\\x00¬”ثNأ0\\x10E÷HüCن-Jـ²@\\x085ي‚ا\\x12*Q>ہؤ“ئھc[\\u200diiے\\u200d‰û\\x10B،\\x15j7±\\x12دـ{2ٌحh²nm¶‚ˆئ»R\\x0c‹پبہU^\\x1b7/إاى%؟\\x17\\x19’rZYï\\xa0\\x14\\x1b@1\\x19__چf›\\x00کq·أR4DلAJ¬\\x1ah\\x15\\x16>€م\\u200cعاV\\x11كئ¹\\x0cھZ¨9بغءàNVق\\x118ت©س\\x10مر\\x13شji){^َم-I\\x04‹\"{ـ\\x16v^¥P!XS)bR¹rْ—K¾s(¸3ص`c\\x02ق0†گ½\\x0eفخك\\x06»¾7\\x1eM4\\x1a²©ٹôھZئگk+؟|\\\\|z؟(ژ‹ôPْ؛6\\x15h_-[\\u200d@پ!‚زط\\x00Pk‹´\\x16\\xad2nد}ؤ?\\x15£Lثًآ فû%ل\\x13\\x1cؤك\\x1bd؛\\u200dڈگdN\\x18\"m,à¥ا\\u200dDO97*‚~§بة¸8ہOيc\\x1c|n¦ر\\x07ن\\x04Eّے\\x14ِ\\x11é؛َہB\\x10ةہ!$}‡يàبé;{ىذه[ƒîٌ–é\\x7f2\\u200f\\x06\\x00\\x00ےے\\x03\\x00PK\\x03\\x04\\x14\\x00\\x06\\x00\\x08\\x00\\x00\\x00!\\x00µU0#ô\\x00\\x00\\x00L\\x02\\x00\\x00\\x0b\\x00\\x08\\x02_rels/.rels ¢\\x04\\x02(\\xa0\\x00\\x02\\x00\\x00\\x00\\x00\\x00\\x00\\x00\\x00\\x00\\x00\\x00\\x00\\x00\\x00\\x00\\x00\\x00\\x00\\x00\\x00\\x00\\x00\\x00\\x00\\x00\\x00\\x00\\x00\\x00\\x00\\x00\\x00\\x00\\x00\\x00\\x00\\x00\\x00\\x00\\x00\\x00\\x00\\x00\\x00\\x00\\x00\\x00\\x00\\x00\\x00\\x00\\x00\\x00\\x00\\x00\\x00\\x00\\x00\\x00\\x00\\x00\\x00\\x00\\x00\\x00\\x00\\x00\\x00\\x00\\x00\\x00\\x00\\x00\\x00\\x00\\x00\\x00\\x00\\x00\\x00\\x00\\x00\\x00\\x00\\x00\\x00\\x00\\x00\\x00\\x00\\x00\\x00\\x00\\x00\\x00\\x00\\x00\\x00\\x00\\x00\\x00\\x00\\x00\\x00\\x00\\x00\\x00\\x00\\x00\\x00\\x00\\x00\\x00\\x00\\x00\\x00\\x00\\x00\\x00\\x00\\x00\\x00\\x00\\x00\\x00\\x00\\x00\\x00\\x00\\x00\\x00\\x00\\x00\\x00\\x00\\x00\\x00\\x00\\x00\\x00\\x00\\x00\\x00\\x00\\x00\\x00\\x00\\x00\\x00\\x00\\x00\\x00\\x00\\x00\\x00\\x00\\x00\\x00\\x00\\x00\\x00\\x00\\x00\\x00\\x00\\x00\\x00\\x00\\x00\\x00\\x00\\x00\\x00\\x00\\x00\\x00\\x00\\x00\\x00\\x00\\x00\\x00\\x00\\x00\\x00\\x00\\x00\\x00\\x00\\x00\\x00\\x00\\x00\\x00\\x00\\x00\\x00\\x00\\x00\\x00\\x00\\x00\\x00\\x00\\x00\\x00\\x00\\x00\\x00\\x00\\x00\\x00\\x00\\x00\\x00\\x00\\x00\\x00\\x00\\x00\\x00\\x00\\x00\\x00\\x00\\x00\\x00\\x00\\x00\\x00\\x00\\x00\\x00\\x00\\x00\\x00\\x00\\x00\\x00\\x00\\x00\\x00\\x00\\x00\\x00\\x00\\x00\\x00\\x00\\x00\\x00\\x00\\x00\\x00\\x00\\x00\\x00\\x00\\x00\\x00\\x00\\x00\\x00\\x00\\x00\\x00\\x00\\x00\\x00\\x00\\x00\\x00\\x00\\x00\\x00\\x00\\x00\\x00\\x00\\x00\\x00\\x00\\x00\\x00\\x00\\x00\\x00\\x00\\x00\\x00\\x00\\x00\\x00\\x00\\x00\\x00\\x00\\x00\\x00\\x00\\x00\\x00\\x00\\x00\\x00\\x00\\x00\\x00\\x00\\x00\\x00\\x00\\x00\\x00\\x00\\x00\\x00\\x00\\x00\\x00\\x00\\x00\\x00\\x00\\x00\\x00\\x00\\x00\\x00\\x00\\x00\\x00\\x00\\x00\\x00\\x00\\x00\\x00\\x00\\x00\\x00\\x00\\x00\\x00\\x00\\x00\\x00\\x00\\x00\\x00\\x00\\x00\\x00\\x00\\x00\\x00\\x00\\x00\\x00\\x00\\x00\\x00\\x00\\x00\\x00\\x00\\x00\\x00\\x00\\x00\\x00\\x00\\x00\\x00\\x00\\x00\\x00\\x00\\x00\\x00\\x00\\x00\\x00\\x00\\x00\\x00\\x00\\x00\\x00\\x00\\x00\\x00\\x00\\x00\\x00\\x00\\x00\\x00\\x00\\x00\\x00\\x00\\x00\\x00\\x00\\x00\\x00\\x00\\x00\\x00\\x00\\x00\\x00\\x00\\x00\\x00\\x00\\x00\\x00\\x00\\x00\\x00\\x00\\x00\\x00\\x00\\x00\\x00\\x00\\x00\\x00\\x00\\x00\\x00\\x00\\x00\\x00\\x00\\x00\\x00\\x00\\x00\\x00\\x00\\x00\\x00\\x00\\x00\\x00\\x00\\x00\\x00\\x00\\x00\\x00\\x00\\x00\\x00\\x00\\x00\\x00\\x00\\x00\\x00\\x00\\x00\\x00\\x00\\x00\\x00\\x00\\x00\\x00\\x00\\x00\\x00\\x00\\x00\\x00\\x00\\x00\\x00\\x00\\x00\\x00\\x00\\x00\\x00\\x00\\x00\\x00\\x00\\x00\\x00\\x00\\x00\\x00\\x00\\x00\\x00\\x00\\x00\\x00\\x00\\x00\\x00\\x00\\x00\\x00\\x00\\x00\\x00¬’MOأ0\\x0c†ïHü‡ب÷صفگ\\x10BKwAH»!T~€Iـ\\x0fµچ£$\\x1bف؟\\'\\x1c\\x10T\\x1aƒ\\x03G\\x7f½~üتغف<چêب!ِâ4¬‹\\x12\\x14;#¶w\\xad†—ْqu\\x07*&r–Fq¬لؤ\\x11vصُصِ™GJy(v½ڈ*«¸¨،Kةك#FسٌD±\\x10د.W\\x1a\\t\\x13¥\\x1c†\\x16=™پZئMYقbّ®\\x01صBSي\\xad†°·7\\xa0ê“د›\\x7f×–¦é\\n?ˆ9Lىز™\\x15بsbgظ®|بl!ُù\\x1aUSh9i°b\\u200dr:\"y_dlہَD›؟\\x13\\u200e|-NœبR\"4\\x12ّ2دGا%\\xa0ُ\\x7fZ´4ٌث\\u200cyؤ7\\tأ«بًة‚‹\\x1f¨ق\\x01\\x00\\x00ےے\\x03\\x00PK\\x03\\x04\\x14\\x00\\x06\\x00\\x08\\x00\\x00\\x00!\\x00”`\\u200f¶ں\\x02\\x00\\x00\\x18\\x06\\x00\\x00\\x0f\\x00\\x00\\x00xl/workbook.xml¤TغNم0\\x10}_iےءٍ{ب…&i#RTZذVZ\\x10عهٍRiه&ncلطYغ،Aˆ\\x7fكqز\\x14J_XˆعqœIژدجœ™“س¦نè‘*ح¤H±\\x7fنaDE&s&ض)¾½¹p†\\x18iCDN¸\\x144إOTمسٌ÷o\\'\\x1b©\\x1e–R> \\x00\\x10:إ…1Uâ؛:+hIô‘¬¨\\x00دJھ’\\x18طھµ«+EI®\\x0bJMةفہَ\"·$Là\\x0e!Q\\x1fءگ«\\x15ثèLfuI…é@\\x14هؤ\\x00}]°J÷heِ\\x11¸’¨‡؛r2YV\\x00±dœ™§\\x16\\x14£2Kوk!\\x15Yr\\x08»ٌCش(ّEً÷=0A\\x7f\\x12¸\\x0eژ*Y¦¤–+s\\x04ذnGْ ~كs}\\x7f/\\x05حa\\x0e>†4p\\x15}d¶†;V*ْ$«h‡\\x15½‚ùق—ر|گV«•\\x04’÷I´pا-ہم“\\x15مô®“.\"UuEJ[)ژ\\x11\\'عœçجذ<إ1lه†î=PuuV3\\x0eق \\n=\\x1f»م\\u200cœ¯\\x15تéٹشــ€گ{xèŒ(\\x1a\\x05،}\\x13„1ل†*A\\x0c\\u200cJa@‡غ¸¾ھ¹\\x16{ZHP8ْEےضLQh,ذ\\x17ؤ\\n–d\\tYêkb\\nT+\\u200dâi²¸ص\\x10\\u200fâR\\x16\\x10z>)ہ,fr#¸„>[¼\\x11(9ى†ےگ(ةlـ.\\x04ق‘ëîك\\'\\x018ھ¤—لµQ\\x08îç³ںPٹكن\\x11\\n\\x03هد·};‡ج\\x0fے<_L†£رىىط\\x19Œ‚ط\\x19„ƒ‘3\\x0c§±\\x13G³م8\\x0eƒp\\x12M_ \\n\\x15%™$µ)¶إ¶ک)\\x1e@e\\x0f\\\\—¤é=¾—ش,\\x7f=ےظغ^ژ]ك™ق÷b#µcيژرچ~•…ف¢و\\u200d‰\\\\nRىّ\\x1eŒإ§\\u200eي¦uق³ـ\\x14\\xa0«م „ِé\\u200d\\u200e\\xa0l]\\x00c?\\x08cغS*°جR¼اhض1؛€ث±fڈ‘û†R;@پZ»\"رٹ\\u200f¼ة\\n\"ض \\x1b\\x10%جہضg³ىc¤\\x12{–ڑç\\xadخف\\u200fَŒً\\x0cؤn\\x17û¢×–¸\\x1fêم\\x7f\\x00\\x00\\x00ےے\\x03\\x00PK\\x03\\x04\\x14\\x00\\x06\\x00\\x08\\x00\\x00\\x00!\\x00پ>”—َ\\x00\\x00\\x00؛\\x02\\x00\\x00\\x1a\\x00\\x08\\x01xl/_rels/workbook.xml.rels ¢\\x04\\x01(\\xa0\\x00\\x01\\x00\\x00\\x00\\x00\\x00\\x00\\x00\\x00\\x00\\x00\\x00\\x00\\x00\\x00\\x00\\x00\\x00\\x00\\x00\\x00\\x00\\x00\\x00\\x00\\x00\\x00\\x00\\x00\\x00\\x00\\x00\\x00\\x00\\x00\\x00\\x00\\x00\\x00\\x00\\x00\\x00\\x00\\x00\\x00\\x00\\x00\\x00\\x00\\x00\\x00\\x00\\x00\\x00\\x00\\x00\\x00\\x00\\x00\\x00\\x00\\x00\\x00\\x00\\x00\\x00\\x00\\x00\\x00\\x00\\x00\\x00\\x00\\x00\\x00\\x00\\x00\\x00\\x00\\x00\\x00\\x00\\x00\\x00\\x00\\x00\\x00\\x00\\x00\\x00\\x00\\x00\\x00\\x00\\x00\\x00\\x00\\x00\\x00\\x00\\x00\\x00\\x00\\x00\\x00\\x00\\x00\\x00\\x00\\x00\\x00\\x00\\x00\\x00\\x00\\x00\\x00\\x00\\x00\\x00\\x00\\x00\\x00\\x00\\x00\\x00\\x00\\x00\\x00\\x00\\x00\\x00\\x00\\x00\\x00\\x00\\x00\\x00\\x00\\x00\\x00\\x00\\x00\\x00\\x00\\x00\\x00\\x00\\x00\\x00\\x00\\x00\\x00\\x00\\x00\\x00\\x00\\x00\\x00\\x00\\x00\\x00\\x00\\x00\\x00\\x00\\x00\\x00\\x00\\x00\\x00\\x00\\x00\\x00\\x00\\x00\\x00\\x00\\x00\\x00\\x00\\x00\\x00\\x00\\x00\\x00\\x00\\x00\\x00\\x00\\x00\\x00\\x00\\x00\\x00\\x00\\x00\\x00\\x00\\x00\\x00\\x00\\x00\\x00\\x00\\x00\\x00\\x00\\x00\\x00\\x00\\x00\\x00\\x00\\x00\\x00\\x00\\x00\\x00\\x00\\x00\\x00\\x00\\x00\\x00\\x00\\x00\\x00\\x00\\x00\\x00\\x00\\x00\\x00\\x00\\x00\\x00\\x00\\x00\\x00\\x00\\x00\\x00\\x00\\x00\\x00\\x00\\x00\\x00\\x00\\x00\\x00\\x00\\x00\\x00\\x00\\x00¬RMKؤ0\\x10½\\x0b\\u200f‡0w›v\\x15\\x11ظt/\"ىUë\\x0f\\x08ة´)غ&!3~ôك\\x1b*؛]XضK/\\x03o†yïحاv÷5\\x0eâ\\x03\\x13ُء+¨ٹ\\x12\\x04z\\x13lï;\\x05oحَح\\x03\\x08bي\\xad\\x1e‚G\\x05\\x13\\x12ىêë«ي\\x0b\\x0eڑs\\x13¹>’ب,\\u200d\\x148وّ(%\\x19‡£¦\"Dô¹ز†4jخ0u2jsذ\\x1dتMYقث´ن€ْ„Sى\\xad‚´·· ڑ)fهے¹Cغِ\\x06ں‚y\\x1fرَ\\x19\\tI<\\ny\\x00رèش!+ّءEِ\\x08ٍ¼üfMyخkء£ْ\\x0cه\\x1c«K\\x1eھ5=|†t ‡بG\\x1f\\x7f)’sه¢™»UïلtBûت)؟غٍ,ثôïfنةاصك\\x00\\x00\\x00ےے\\x03\\x00PK\\x03\\x04\\x14\\x00\\x06\\x00\\x08\\x00\\x00\\x00!\\x00Bـ&\\x07N\\x0e\\x02\\x00h\\xa0\\n\\x00\\x18\\x00\\x00\\x00xl/worksheets/sheet1.xmlœ“Ko£0\\x10اï•ِ;X¾\\'\\x06JQ‹BھھUµ½\\xadِص³c†`إ\\x0fض6yhµك}اخ«R.Q\\x11\\x0cfئü\\u200f3ِxِ¸صٹ¬ءyiMCَiF\\t\\x18a[i–\\n\\u200eَُurO‰\\x0fـ´\\\\Y\\x03\\nفپ§ڈَ/7³چu+ك\\x03\\x04‚\\x04م\\x1bع‡0شŒyرƒو~j\\x070\\x18é¬س<à§[2?8àmْI+VdYإ4—†î\\tµ»†a»N\\nx±bش`آ\\x1eâ@ٌ€ùû^\\x0e\\u200fHسâ\\x1aœوn5\\x0e\\x13aُ€ˆ…T2ى\\x12”\\x12-ê·¥±ژ/\\x14ض½حK.بضل]às{”I\\u200f\\x0b%-…³قvaٹd¶دù²ü\\x07ِہ¸8‘.ë؟\\n“—جءZئ\\n<£ٹد¥”ك\\u200cXإ\\x19vûIXu‚إهrُ(غ†\\u200fح\\x0e×\\x04كy4ظظ\\x1ccےè|ضJـلX\\x15qذ5ô)¯_تھ¨(›دR\\x0b\\u200e–°ٌ\\x1fئ$ًإ\\x0fP \\x02\\xa0LNIىذ…µ«8ٌ\\n]\\x19B}ڑ\\x10،\\\\\\x04¹†gPھ،دwطن\\x7f’\\x0c\\x0eQ€\\u200c\\x14>ژڈj¯©§؟9زBاG\\x15¾غحWگث>\\xa0l9-#@X…³ر\\x12-م¹آvâغ†–ک•lCڈ\\u200d*\\u200d«]l-\\x0cٹر\\x07«ك\\x0f،”A\"ü\\x07\\x00\\x00ےے\\x00\\x00\\x00ےےœ\\u200cغ®ي؛m†_%X\\x0f0م³=ٹ½7ذظù\"A\\x10\\xa0WM‘\\x04éë—C¦lٌçA\\x1cق\\x17Eمإ،Iة”~Q‡د؟\\u200eَ؟ےِ·\\x7f\\u200eüه_\\x7fùم·\\x7fü\\u200eے\\u200fôڈك\\x7fچ؟\\u200fôدے\\u200eثےü“\\u200f؟ےX~\\u200eٌغ_ك\\x0fےَ\\u200eô÷_س¯?\\u200eë÷_ے¤§ے\\u200fcّيدے\\u200fم·?ے•-¾µإ(-\\u200fK[LزâG[ج—إںة؟ثIrؤpٍ\\u200eô÷_sqoY×i\\x01\\x17د\\x7f_ڑJ€إ\\x7f\\u200c\\x16ëYآٌuŒëü؛\\u200fغء[0~\\tمأv|6\\x1d\\x7f?m\\x1d؟k]Zےûü÷بٌسâr|ں§×p\\u200e\\x07/â\\x07Œ\\x0fa|؟\\x13رâôاچ\\x16\\x7f?m\\x1d‡\\x17ْ}\\u200f{نّiq;¾\\n³ï8\\x18\\x1fآطq|5\\x1d\\x7f?m\\x1c\\x1f_\\x10*ç؟Gژں\\x16w¨¬Kم8\\x066\\x18؟„±\\x13م›éّûiëّ\\x1dgg¨œے\\x1e9~Z°م¯¯a\\u200c\\x02اءx\\\\§ةê\\x10\"Tvسٌ÷سضqèMكç؟Gژں\\x16—مَ8mw¨@—ù\\x01مeœضغq§s\\x1e¦مï§\\xadم\\x1b„تùï‘م§إهّ´nچ/\\x10y?`<¯غ\\u200e\\x07E3؟LoكO[oWًِü÷بغسâٍv<\\x16l[°کبâ~\\x11N7\\x1c\\x07سفٍ¸ُ\\x17G\\x106ˆ\\x1cf“»}çٌ~ص/l_´\\u200dçل6\\x11\\n<:Rxھش%3#\\x0c¯كهw؟ے\\n]>ث¸\\x1byكڑ~\\x05}ْ‡\\x0b¼+(¬=ïmچ\\x1cA$G¥م}•ن2nï·h\\x08AëIX;ƒكh\\x0beyـ„Kَêخلڈ\\nآ¶\\x17ٍ÷ْڑ†y±آ·\\x14ّأ\\x05ق£ژ°ِ¼·صr\\x04¹\\x1cpًfƒذ{\\x14جyـîh‡±é‡\\x0b¼UJX;أàhKfyـ¶=\\x0e-l\\x10z\\x0fB¸حmـ«®\\nضû¼y\\nn‹ه\\x08j9àŒگ\\nB—…\\x04\\x1e_4\\xad¼£eہ©\\x15\\x17x5ّ&¬½±رVج\\x11$sہi!\\x1b„ق\\x0b\\x1d<¾وُص„\\x0bخh¹ہثûEX{لbثو\\x08؛9¨‘½/œ\\\\ئهد´oچن«ىAH\\'صUX{‘cثè\\x08:ٹ/ْ›\\nآ¶\\x17:y|Mاقè’j{°\\u200d…µسِ“\\xadھهٌفU—\\x17N¶ط ٍ\\u200dMî¶\\x7f\\x1dMJپS\\x02´\\u200d_ار\\u200coM¶ہ–ا\\xad÷8مbƒذ{!°\\x14\\x0b#إٍ\\u200e\\x1ffr`½Œ‹3éڑœجSھêٍآ±±ü.\\u200d\\x13°ةصàَ\\x11؛\\x0cظçr¸.غR:ة¤sy©l¹ںur\\x19·ث”u\\x06ù2ن\\u200c‹°ِ\"ـ–زIJéٍآI\\x18\\x1b„1\\x02R:\\nC3؛àبخ\\x05قu\\x15ضق:…-¥“L?—\\x17Nآط ô\\x1eؤqـ\\x07T\\x7f.¥\\x19>غ\\n:b4ظRZ\\x1e7\\u200cٍہŒ™\\nB—…”î_¯ck\\x06\\tT\\x7f.ًٍ~86gھ;ظْY\\x1e·.مt‹\\nB—…~’ثم:ْ“E.ًvy\\\\ح\\u200f ×²l\\u200eœ¤~.‡\\x1aأûْةe°?û×ٌ:ڑ4C5¸ذOھëëًآع\\x16حIٹوزüüœ\\u200c³AطàB\\x06ة\\tg\\nrخخ¹ہ»ء…µ\\x13.³-ڑهq\\x1b.8aaƒب{6¹\\u200e™›ُC•ٹ¢ُ8كc°\\x08‘ظ\\x16تٍ¸ُ\\x18\\x07A6\\x08=\\x16زG!r\\x0cMںؤI\\n\\x17x\\x05شKX{k\\u200d¶fخ\\xa0™\\x07\\x0e‚l\\x10z/Tگ¢eXAئ~¸”û•گIwµbvضiA3wى“هw±ج³ةف„غ¨Z\\x19„r “¾ث¶Pخ ”;N¦ط le\\x10تل\\x15em\\\\àصàمk3—te„غB9ƒPî8¯bƒذ{\\x14تil\\x06e\\\\kل\\x02oحœڑُ\\x1dé²-”³ج9—\\x1dçUl\\x10؛\\x0c9ç„©\\x0e—رL¼œي\\x06[\\x19g™Y.»êz\\u200eصX.£\\x19\\n¢U7i}|\\n\\x07ح¶Œ\\nظآ¶2خ\\xa0Œح´€·KْتبeـقïQv#\\xadةû½حnîî+½·Er\\x06‘ـpVآ\\x06a|`®è,ëœ\"ة\\x05^ء²جc3‡¹5Cî÷ط\"¹¼\\x1f7’³ل\\x08ب\\x06‘÷lrw±m\\x0f\\x16àذz\\x16ضژ`.¶`–ا\\xad÷8\\x18²Aè=نٹأ«ف#ؤل„\\x0bl\\x06أضع™\\xa0,¶`–اچ÷«ٍ¾؟tثe\\\\qO;\\x11ء|\\x16\\xad÷صخïdنطع¹€v®8”³AطِB\\x18÷¯mظڑ5\\t\\x1c$¹ہ«®ûز¦\\x1bN¯]l\\x19-ڈغ¶اQ\\u200c\\nBï…Œî_«3\\x139{-\\x17x؟)aيLج\\x17[Fثمض{\\\\Idƒذ{!£شِغŒ)2—r78™t\\x07ùإ–رٍ¸uYm-÷w:¹ŒثںuiEG…\\x0bd§›°ِ\\x1aـ\\x16ط\\x05\\x04vءl™\\nآ\\x06‡شsظعm6صِ`½\\nkد{[`\\x17\\x10ط\\x05%ٹ\\nBï!™\\\\wlƒ\\x1f.هژp2é‡‹\\xadھ\\x0b¨ê¢t©؟ٌةe\\\\\\u200fجG´\\x1e„ض‹°v\\x1a|µUµ<n‚½Yت;g4l\\x1058›\\\\ق‹ه’sHA“‘VT؛\\n¾عRZ\\x1e·.مpخ\\x06،ثگ{N;N–\\x7f¸”û\\u200cگI7\\x15Zm\\u200e,ڈ[—qHaƒذeH8§iا\\u200dب¥ـ.“Iكe[4W\\x10ح\\x053|6\\x08]\\x06رœ¶½ة\\x7fp\\x11ˆ\\x0b¼½كZï\\u200cةâj‹fyـ68¦\\x19l\\x10z\\x0f¢¹P2é/1sپ÷ˆ؟چMîéuJçˆ\\x10ن\\u200d³:#”8$\\x04¢9Ns³\\u200e¦ع\\x1e¬§inٍ~¯يm\\u200e\\\\!\\n\\u200cq\\x0cgƒ°ي…\"nïهأ&iأ- .گغ~£هأv»ثY\\x1bZm\\u200e,ڈ›ب™صèزOP¹Œ{@¤ءخك\\x02Bëqk½w&ê«\\xadںهqë=N\\x16ظ l{،ںغ×¾¶«(ھيءْXغ\\x15\\x1agھ»عRZ\\x1e·قمd‘\\nBïE‚؛}ر²l°ًج\\x05^‘³eVŒ6[Jثمض{\\x1cنظ ٍ\\u200dM.\\x7fVجêذ`غ÷v\\u200c×^‹ظl!-ڈ[‡qˆgƒذa!¤شQ‡ًL\\x1fX؟\\x06o‰k³…´<n\\\\\\u200dplaƒذe!¤ن2\\x1dC„]Y.ه\\x1eP–—y\\x1aWdں›-¤هqë2خ\\x0fظ tY\\x08é»•ٌDئ\\x0f—r¹L#f\\x7f\\x1b|³ص³<n]ئtں\\nB—…z’ث£\\u200c\\x02ںَC.ًnًج‰وحVدٍ¸ُ\\x1eGp6\\x08½\\x07=¤ِn\\x06pص)Qk‡ِ|¨³غ¹ظêY\\x1e·قم\\x08خ\\x06،÷گONS«\\u200dک}rپح¬رضZ\\x19ى¶znگ}NjHé«\\'—qù3\\x1dv$sن@ِ9\\x1fGsـآرںحVدٍ¸m{œ5²Aطِک}\\x0ecpگں\\x0b¼\\x13Qaيج\\\\6[=ثمئ{u²œ\\nBïa\\x0ft\\x0bدWrپ—÷ûض\\u200d\\x08t¼كmُ,ڈ[ï1îظ ٍ\\u200dM.\\x7fH^‚ه]iMKëخ›’\\'جm)فهةـeؤ™\\x0b\\x1b„قم~(%ة÷¤\\x177\\x17¹ہ»®c\\x1b÷^غغھ؛أ~èˆ3\\x176\\x08½‡ô”و°f\\x06qِZ.ًٍ\\u200d¤ھ±v²¥ف\\x16طٍ¸چ\\x1c\\x1csط ô\\x1e2Uڑإ6ù\\x06ژک\\\\àفِآعَقضع\\u200eشةz¦{Q§¢ظ ô^h--گ¾عح\\x7fـمه\\x02ï^ûتـ¬°µv‡L\\x15\\x0f\\x02}³Aè=¨\\'\\x1d\\'\\x0bfى\\\\àفِï´¼·\\u200c·غZ[\\x1e7‘3àLپ\\nBïaأt\\x18¢ƒh\\\\ {\\x7f|چƒwاb·\\x05¶<n]Vأd_`¹Œئ‰6ظا¹0Zس،ُf!ء\\x1bhlپفayW\\u200c+fƒ°ء…ہزùتyV\\x11\\x0e&\\x0bظXù·\\x1cظmUفaywہ9\\x01\\x1b„.أ¦ét4اmx@ؤ}U2é.ف\\x1d¶”–اwŒPصٌقذ¹•\\x1a¹جe\\\\1²¬»9@ںق£ُ؛îوYoرà‡-¥هqë=¦xl\\x10zڈ§j_ي\\x06\\x06F8\\x17xصu}رùPمî¥ôق–زCJé¬خ?³Aè=\\x1c°\\u200c‡ِـ?ٹ\\x11\\x17x؟)aيˆرaKiyـ¶=\\x06;\\x1b„قƒ”®َd&¢\\x1c9¸¯*¬\\u200cإ¯أ–زٍ¸ٌ^\\x1d\\x14eƒذ{گR؛uh¦\\x13ى=\\n¯°vئئأ–زٍ¸ُ^فِë/ْr\\x19M*\\x17يR£ُB÷£ْ7\\x15m)=ن¢ï|\\xa0”²Aطِگ¶خê\\x04س\\x0f—rUp!“\\u200f0iKé!sU:ôژأd_J¹Œثں‘n†آZ\\x12ڑLâٍ¨³8pطْY\\x1e·1‚i\\x06\\x1b„\\xad\\x0c\\têHâïokpپW\\x05كû\\x02\\u200e\\x18±¥ôگR:\\x1fکf°Aè=$¨£jn0hق‡¼أjkçK\\u200d2ڑwشN6ˆ|d“»\\x17ز)7«حخ1\\x04\\xad)¤حح\\x02é½\\xad\\u200c/™†خ;j\\'\\x1b„قمضèt`\\x1bs)ح0سfھNH؟lء,ڈ›گV\\x07[ظ t\\x19sد©=lژ³C.ًخ=…µ#9/[0ثمض{\\x1c´ظ ô\\x1e$p^\\x07sْءل\\x02ض‹°ِ¼·\\x05َuتWح=guئ•\\nBï…\\x04ز~ث\\x10يشqپـِغ×6$v‹^¶`–اmغمpآ\\x06،÷\"÷$\\x7f&ûـ\\x10·=Xïآع‹{[0_ ک¸™ےح\\x06،÷°Kْ\\x1aىL\\u200d½\\x07y¥5ي\\u200fظî—\\xad\\u200cهqغِ8Qdƒذ{X¹\\x1dؤ\\n\\x16îPsپچز¶cژ³C\\u200e²e´<n¼Wاxظ ô\\x1eetہ;\\'?\\\\ت\\xad\\u200cdز]ھxظعY\\x1e·.«‘½\\x7fتˆثhü‰r:´\\u200d‡DNGاM\\x1cط\\x02èê¦®p—_vط\\x05lsص`كغ\\x16إجètو÷_÷H؟غ·¾„´ژƒ\\xad\\xadçَِ\\x15¨+فه—½*@jJ\\x17ث£«¹\\\\ن\\u200cف\\tsg¸\\x1f\\x07[kدçm\\x15p\\u200fX-¢ب¯6—Oûـ\\u200dVأىZ™س+ëwƒq°\\x05÷|قV\\x01G\\u200ej\\x11WA¨èA÷\\x01م*\\x08s\"×ى‰سبم`«îù¼\\xad‚آx”_ِ\\x02I\\x08ï‹–\\x12غ\\x01Q؟\\x050ں\\x06{ع\\x0f}ء–قqگë¾3\\u200dSّ®\\x16ٌ[\\x10zْْڑéِ3r¹ّ/q°½¾\\x16²éf|´¬ê\\x0cC\\xa0؛+nئں؟ى5½PRٍio\\x17ŒP¹j‘W\\x15è@j¦\\x03طت;\\x0eگ¶ھ³ّص\"nْV|çلë°ڑ\\x1el^sBr)\\x0c\\u200c¦—k؟³:…\\x7f\\u200f²×ô\\xadىz~ƒMزo[xéئ–¸w2م5?\\nُ¾ôV›3\\x06<؟غش•lr~{x#à\\x1bح«\\x1ae2€#ء,rüF›¤كژج2rèJJV…\\tJQژZ™ُü\\x06›¤كژ¶\\x02قhV\\x07ïim¨DRط/\\x05²بَ»Mwَqâ\\x08*€چfuن~جگچ\\x04¬بَ»Uر¼كژٹ\\x02زˆ\\x16\\x0baùnج0چ\\x04¦بَ»•خ¼كژt\\x02جh^ش42C3b›p<A›d|;ز\\tD£\\x19ظl\\x04\\x1f;e1ژïV:½ِ\\x06›¤كژ^\\x02ثh^ش„1\\x033\\x12|\"دïGzYHC\\x06ِ\\x14(F47Rٌ}ê\\\\ـق\\t½\\x14¬£||;z\\tü\"عئT~\\'ô’K‰مû‘^:à¢\\x11بEjWù»Z„ي-hDNœ\\xa0M.¾\\x1ddر\\x08ج¢yئ%بj\\x11û\\u200cذK\\u200fK×;Iْيè%C‡.\\u200cW\\x07يا\\x04¹¨ع„q\"ًFéّ.„!£_\\x02½hئ\\xad|ٹ“Sçâِ\\x06-´وك‚q”÷غرKà\\x16ر‘\\x08ى—\\tpر(XD^|?زث‚\\x0c²ع\\x1bRحYc#û\\x1b£ؤ`-s¯8Nہ&\\x19كژ^\\x02¶ˆHاھ½\\x13z)PD^{?زK\\x07]4\\x02»ˆِم•ك\\u200e}رZJـقڈô²گ…¬8پürRَAf\\x12إ\\u200e2،—‚m”ï—ژ^\\x02؛hئ\\nd\\x1aO\\x12z)pD^œ<زK‡YD·غd^Œ—(¾«Eطق\\x02Dنّچ6¹~éگ‹F@\\x17حH8!؟O-Œ\\u200eNè¥@\\x16¥م¤PƒŒّ\\x06hر¬ژضڈ\\tjQµ\\tû¥à\\x16ه\\u200evٍK¦\\x0e]:?©ٌ;پ.\\x1a\\x05»ب‹“Gùeپ\\x06Yي}ھطه·:NOج¬~>/گD\\u200dكڈô²à‚,؟A/Gµس’ \\x17چ\\x02Fنù\\u200eH/\\x0b@بٍ\\x1b–fq)کْeB/\\x05\\u200dبَû‘^\\x16ژگه7¬اھ£ےtہ&\\x11\\'‰ُXA2ت÷Kg=\\x16XFؤ´G\\u200cg‹x\\x1cLè¥`\\x18ه\\u200evô\\x12(F-C\\u200e$\\x16ذ}›D{ƒ\\x16ZَoA/Jû]¨AFœ\\x00؟h6\\x10ـ\\u200ec¹´÷رںا¢MN/\\x1dpر\\x08ن\"ع\\x06ئ8I\\xa0‹j)،î\\x08bQ¾½\\u200cü\\x12کE´G©üN¬ا\\n\\x0e‘3\\u200d\\xa0M²½\\x1d½\\x04Zر¬.%Œ\\t\\\\Qµ‰غû‘^:ک¢\\x118E³¦n\\'@Eµ”طïGzé\\x00ٹˆخ,ç±ڑ·\\u200c@\\x14صRb؟\\x1fé¥C)\"N4ّ\\xadوUl\\x11ژك\\x02Tنإ÷#½,œ!k\\x1c”zIGفT؟Lè%SŒâِ~”_\\x166گه·ج/\\'\\x05ع\\x1e\\x13l¢j\\x13û\\u200ehے²Pپ,؟ه\\u200fه¤hغ#َ„â8A½¤½`ـھ\\x17\\\\¢2~¯}ˆ\\x08qٹي\\u200eb \\x13M/µ^•@\\x13\\u200c¥×#@ïّ6ü\\x16p¢¼كخ\\u200f%à‰&إ\\x07\\'ژs\\x7f~\"èCN؟D›œî8ˆ\"ْ¾’\\x18Oèض5ِث\\x04¤¨–\\x12ئ·ہ\\x14¥u¾àپŒّ\\x06P\\x11}ê@ù\\u200cXڈ\\x15ً!¯½\\x1fé¥C(\\x1a\\x01Q¤NY\\x7fW‹°_\\nىگç÷#½\\\\\\u200c\\u200eثٍü>½4©›\\x1e#[ؤ~\\'ضc¹œ\\x0f÷\\x1b\\n\\x0cبٹ\\x13©—ôé(\\x15\\'‰üR\\xa0†¼ٌDéej\\x1ctِ/\\x01H4\\x1dj\\x1fگ-âِNن—\\x02D”ï—N~\\t(\"BP¨ِNى_r)ٌxٍH/\\x1d\\x06ر\\x08\\x10¢Iف\\x00©\\x16q{\\'ôRہ‡ز؛مذ‡Fہ\\x0fMêîGµ\\x08\\u200e\\x16|!g<A›œî8\\x10¢\\x11(DDâأ8I`ˆj)aœp9\\x1fژ\\'\\x0e‰h\\x04\\x14ر¤hغص\"no8ثc\\xadC\\x08\\x1aQ؛_:8¢\\x11xDس®وU\\t Q-%nïGzé0‰F€\\x12M»Z¯JP‰j)±كڈôز،\\x11چ€#Rشئïj\\x11اIB/ù/}\\x1aكخ\\u200f%€ˆ&Ej\\x1f\\x13$¢j\\x13·÷£ü²`‚\\x0c\\u200c\\x07\\x04\\x111\\'صx’ب/\\x05„ب\\x1b\\x07\\x1fه—\\x0e{ˆًXr\\u200fف€!x]3A\\x1fھ¥ؤي\\u200eH/\\x1dê\\x10\\x11\\x7fہoµكگà\\x0eصRn؟چ<Mà†زzéً†è»\\x16à·ڑ\\x0f&ˆCµ”ذo\\x01\\x1aتûين—€\\x1aڑڑ\\x0f\\x13rœ$XC£ہ\\x079ٌچ69\\u200c/h\\x1f£_\\x02dˆ\\x08iط/\\x13”،Q€ƒ<؟\\x1f\\u200cڈuèB#à…\\x08\\x07\\xa0üNن—\\x02\\x19نù\\u200eH/\\x0bخاjo¹\\x7f9é+\\x1a\\t²ذ(`A\\u200dكڈô²€|,؟هzى¤¯h$کB£ہ\\x04y~?ZڈuXB#ہ„èSث*N\\x12ù¥\\x00\\x04y~?زK\\x07(4\\x02QhZص|گ-آù‰\\xa0\\x04y~?زث‚\\x04²â\\x04ôrUَء\\x04Lhd›P/ر&9\\x0e:û—\\x00\\x14ڑô½Œ\\x04Qhd›طïGç}\\x1c¨ذ\\x08T،Iكث`‹0N\\x04)ب‰\\x13´ةµ·ƒ\\x13\\x1aپ\\'4é{\\x19\\t\\xa0P-%loء\\x11Jçi…كcؤ7گ„&Eو\\x1f\\x13(،j\\x13û\\u200eH/\\x1d„ذ\\x08\\x0c،iQَء\\x04D¨–\\x12û\\u200eH/\\x1dx\\x10}l^خ\\x07ُ½Œ\\x04>¨–\\x12û\\u200eH/\\x1dl\\x10]ڑ\\x07؟صّح\\x16q؟Lن—‚\\x17”ڈo\\'؟\\x04bذ¤ïe$گA„بىں‡@›نxâ¬ا\\x026hRp\\u200f‘-âِN¬ا\\nrP¾½\\u200cُX`\\x07M\\nث?&àAص&ژïGùeپےXم ن—Hûû\\x1e\\x13ط\\xa0j\\x13û\\u200eH/\\x0b؟اً\\x1bHBôù\\x05œ\\x0f&PB£\\xa0\\x039z‰6¹ّ.\\x10\\x1fثoة\\x10ڑô½Œ\\x04Dh\\x14ˆ دïG÷/\\x1dژذ\\x08 ،iVَء\\x04I¨–\\x12ئ‰\\x00\\x08¥û¥C\\x10\\x1a\\x01!DH\\x19\\x15\\'‰ü’K‰\\u200e~¤—\\x05ظcإ\\tè¥¾—‘\\xa0\\x07چ\\x02\\x08نإة#½t¨A#`ƒˆک£ع;qں„K‰غûQ~Y¸?V{أ\\u200f¥¾—‘ \\x06ر\\x17Qûz‰6ةٌؤرK@\\x05\\x11!Qµwb=Và\\x7f¼8y”_:Œ\\xa0\\x11 Aس¤ض\\x07\\x13”\\xa0ZJ\\x1c\\'ڈôز\\x01\\x05ر§Pه|Pكث`‹p~\"è?^{?رKْ\\x0e\\u200dyقç|قœ+P÷2ھEنwµ‰ع[ظ¤â{r°@çَضo\\x1c؟«Eىwے>I-çھ[زoû|ىT\\x18Aچك#\\u200d÷©\\x16±ك\\u200e\\u200eثZخ§~غçc\\t?-م\\x1b؟a\\u200e]-b؟û÷/k9ںْ\\u200eV+=~Oجô©÷I&$W’ك§خإ~ƒ\\x16\\x1aûإµœO\\u200e¶دûL€ْ™ش}’j\\x11ûفد/k9ںْmç—SA\\x00µٌچمwµˆ\\u200eîëe-çS؟m½$.\\x13ؤ·\\x1eOْzYK‰اء\\'z99|ںَyغق¸؟S-âِîك\\'©ه|عقِzى\\x04|\\x1fْك0?©\\x16±ك\\u200eû$µœ\\x0f\\u200evّ>ô)y\\x19\\'ê>Iµ\\x08\\u200eNً}j9ںْmï_زGيءoـں¯\\x16±كJ/£ïژص\"?\\xad‚#\\u200c€ْ!،ہگI\\xa0~ˆ\\x03چSٌ¸\\nOVi§آه1ش\\x08¨?¤رھ\\n\\u200e¬َ,½=]½ؤUx’€N\\x05رcUل”آKPصإچَ—1P¬ع4\\x03e\\\\\\x05ذكـ\\x1c¬گx¬*ہع\\xadْ¸\\x04©m\\t’¸/(mچ«ً$-¥éٹ=\\xad\\x01,\\x10%ک*گْغ\\u200dgé\\x1f\\x04ز“\\x1dذ©0|¬· \\x15—V\\x08T\\x15\\x12ٹ«\\tAٌ[x$¾\\x0e,h\\x02X\\x10-«¨*ô\\x0fغضRز}لIق:\\x15²ڈُ\\x16dقJëbھ\\n\\u200e{\\u200cgé\\x1f\\x04ز£\\x14ضA\\x08M€\\x10¢إ[¬\\x02[„فY#„آ@zD\\x13ڑ\\x1cڑذùü\\u200dإر؛¹ھBےِJ-%\\x1bHڈہBSءْ\\x18پ\\x04`!ع²PUè_ü<Kد\\x07ز#ئ\\x10}eظ\\x1eTپ1D;Jھ\\n\\tuF~ذ\\x11«َ#ـ\\x10-‹9UگêL\\x1buھ\\n‰tWم†â¾ًH\\u200c\\x1dٍ\\x10\\xadTٹ™*يI«*$شY“‡â*<Rç‚\\t²ْ‚\\\\4¦م\\x00ھ\\n\\tuض\\x10¢¸\\nڈشظل\\x11رgîل-¨|ک-âAUي·ئUx¤خ\\x0eڑˆ>؟\\nUذ؛گPgؤ\\x0eُ؛َ#u.\\x1c!+گ@\\u200cص\\xad\\x18عGéدT5¥(~\\x0bڈشظ\\x01\\x16ر_’oaW#\\x12[„پ¤پEa\\x15\\x1e±‹h\\x0fذ\\x1eTپ]D§\\x1c±;\\'طEgéyi{„1¢يW§\\nٍڑ)\\x1d0UUH¨3\"ٹ:}ل\\x11رh*ج!£/\\x00رˆN\\x08«*$شY\\x13چâ@z”;;p£‰±D5w¦cصھ\\n\\tuضp£¸\\nڈشظل\\x1cر¹\\x04ظ\\u200cصG<ھEـ\\u200c?ث\\u200c\\x11‹”Kے\\x1dن\\x11\\x1d\\tپ*¨™j\\x02yTKةN¶‘گ”¬‚³ZحL¢+گشm\\x1bْ`X_\\x17گlشëخڈش¹`ˆ¬î\\x0cê¬.قذQ©D\\x15شآuـ\\x17\\x1e©s!\\x12YU\\x00uV_W،Sj‰*¨5ى¸\\nڈشظء#M€G¢ث“8\"±Eط\\u200c5\\x1e)¬آ#Rزنگ’خçMî¼©™j‚”TKةvçGذ$:li«3@“èت°z\\x0b\\tuضذ¤ّ-<Zظ.\\x14$£/\\x00?‰nk«*$ش™KI؟…Gêى\\xa0”&@)چêêNµˆû\\x02بmgPه?ْل\\x16‰CU¢SكRعش×>ھE\\\\…دش™ےè§UpV¶\\x01°D8\\x0e\\x15H‰ـY\\x03–â¾ً(wvXK\\x13S’.uVw{ھEü\\x16>ث\\u200c\\x11ح”›`8ط¥‰،Jw\\x15´.$ش™KIwçGêى\\x10کèئ\\tô\\x05\\xad\\x0b\\tuF؛R¯;?Rg\\x07ئD—}d\\x15شGBھE\\x18H\\x08Z²\\x0e¯h\\x18Sâ£Ct‰تض3€1چê#!ç/;{„\\t\\x18S-çأ±اپ1M\\x00c\"ط\\x1bژ=\\t\\x18S-%<\\x04ٍ\\x08ئD—\\x04\\u200cِ–‡³\\x08‹§üNˆ¯†1…c&ڑç\\x06\\x1c‡ث4\\x01—‰ˆ„ھ\\n‰شXs™â*<Jچ\\x1dDس\\x04ˆ&‚oھ*$\\x16®\\x11؟ش\\x19p\\x1eرڑè–¬\\x13Hگ\\x1a«¯ˆœ؟ىu\\\\uz+~\\x0bڈؤ·`“Œ‰(€›\\x08K«قB\"5F(Sï-<Jچ\\x0beةھ\\x02¤ئêخ\\x10ف*ïç•ڑل\\x14؟…Gâëàœè؛¾T.u}¨ZؤتُYj¬ةN\\x19\\x11sبNDJ€*¨\\x11‰-آ*h²Sّ\\x16\\x1eA\\u200d&\\x07ٍt>oRcٌُ‘j\\x11Wل³C_ڈxO“أ{:ں·UP\\x13Qو4إUّىذ×#ô\\x13!AىA\\x15ذOô،\\x03\\x1c‘\\x12è§³ôüِ\\x01\\x17ùلؤب،@M@پ\\x1aص×2ھEü\\x16>Kچùڈ~Z\\x05ç@5\\x00،èس4ê-$ش\\x19aO\\x1d]xؤ†ڑ\\nلةذ\\x05`CرWپT\\x15\\x12©1—’Mتذ<7حs0Q„…’ƒھ؛&S-â@ْ,5FھT²\\noA´ق\\x02¨³ْ²ئ” FU›0Iàr>ي\\x00oر´ü\\x06IV_ضک\\x12ؤ¨j“ژ\\u200dGù°\\x03ڈ\"\\x18ڑŒ\\x1e}y&\\x01ڈھ¥d«\\xa09R™YE،8\\x19o\\x018R£¾G“àH\\x11ح®4D؛\\nO®ü\\x12êد\\x0e$@Jر\\x07(q\\x18J ¥خزَz†\\x04ھ\\\\\\x1fvèRD_„@R{ةl\\x11\\x0eCڑ.\\x15خيذ<Y…·hZپtٹéµB§>$Bhج~’\\xa0ASq\\x15\\x1e%ج\\x0esjbZش]\\x0551J0§j)é¾ًè¤—ƒںڑ\\x00?5ê;\\tl\\x11\\x07زg\\t3زھ’پنى%\\x03‰jشw\\x12\\x12$*âا~6\"=Jک\\x1d(\\x15AwEw\\x1eشا\\nھEü\\x16>غK~ؤ§\"®±س\\u200c¥:\\x0f/u(!ء§:Kے`P}¤خ\\x0eھٹPسً\\x16شٌظ\\x04ھھ–’يخڈ¨UDَ¶ك\\x02P«\\x06}\\xad\"A\\xad:Kد؟…G\\x00«ة\\x01X\\u200cدï„yذ×*\\x12\\x00«ZJْ-<عKvXV\\x13°¬†—تù\\x13,«ZJ8أوr>œa;,+bغC\\x07Pz–`YصRb؟\\x1fé°أ²¢o\\t€كêّA‚eUKI‡ج#\\x1d.P)c6\\x04X«A_\\xa0H`\\xadèc\\x10\\x1f‰ط#آ\\x15})أ\\x19{dj<è\\x0b\\x14\\tآصYْ\\x07cد#\\x1d.ب*ë-€\\x0e«ڈTذçMْsR¶I\\x07ز£…k‡{51صھخI\\x07ُ½ٹj\\x11N%¸”t\\x15\\x1eé°ƒہڑ\\x00پ5è\\x0b\\x14\\t\\x04V-%\\x1c†\\x1e!°èس<v\\x07`xصفôjطO °خزE\\x07Xi>x\\u200e\\'Sص\\x1fe\\u200d›K;4¬\\thXƒْjHµ\\x08£\\x07IW\\u200cEئG`,ْ°“َ\\x16dj<¨\\x0fZœ؟ىl\\x01j0VکW¢yٍ-8©1س\\xad®@Rك¶\\xa0¯qُ‡!حبٹ«ًH’\\x1d\\\\\\x16}وLJ²¾5ء\\x16q }vگ\\x0béZة·àى%3دê~\\x0bjء=Aخڑ49+~\\x0bڈِ’\\x0bوتذ3€h\\nْض\\x04[ؤo\\x01Sc\\nظں\\x10´ُڑ7ْDں\\x1eµ\\u200füڈ؟ےك\\x1f؟رےùس?~ے59\\x10\\xadَy“\\x03ىj\"ڑ€hصRn\\x05کڈل\\u200f\\x0fٹ¤‘TépâûKTIg\\x18‚|X}\\x07مüeo\\x18آ\\nنN\\x15”\\x0e\\'ھ0;h\\xadَyَ\\x16شU‰j\\x11EOµI¾\\x05e\\u200fڑSU°%y.ô\\xad¶\\n¸*Q-â*àjuّ\\x16j‘MR–ھ‚½ZM\\x1fD•#©؛*Q-â*à\\x06r§\\n*\\x1fNUء–ن\\x19ط[أ†û~ص\"®\\x02\\x1c–¦o2\\x06ف¹\\x16ùé[°%y\\x06\\x0c×\\xa0>ںQ-â*€ئِھ\\xa0$9ُ\\x16ى\\ndْ\"0\\x04\\x12NO«E\\\\\\x05”نخ[PYrھ\\n¶$ساک،\\n¨\\x0bص\"®\\x02fة\\u200c*(INUءخ’é;طP\\x05\\\\«¨\\x16q\\x15´$‡}Aeة©*ط\\x1bبô\\trY\\x05ُ©چj\\x11W\\x01W«;oل‰:سWقMu>ں7؛\\xa0¾؛Q-â*|¤خµب\\x0fG$\\x07ن5\\x03بkPW%ھEX\\x05\\x05ٍٹك\\x02ڑçش¹°»ôôt\\x06¦×\\xa0®JT‹¸\\nں©3ےرOك‚£خہô\\x1aشU‰9ءôھ6ظ9\\x12\"ہ’oءQg`z\\nêK\\x173[ؤoل3uو\"?}\\x0bژ:\\x17ضWس\\u200cص=ƒ™-â*|¦خ\\\\ن§Upش™‰]W¶©®\\x1cج\\t¦WµI\\x07ز#uvک^30½\\x06uû\\xa0Zؤoل3uو?ْé[pش™i\\\\÷[ہs\\x153[ؤUّL\\u200c\\x11\\x01–ىخژ:\\x03سkP\\x1fبکظ\"®آgêجE~ْ\\x16\\x1cu.¬¯¦;«o\\tجl\\x11Wل3uو\"?¬‚أôڑپé5ج*هI0½j)ظî¬™^™i\\u200dأôڑ\\x19¯uُ\\x05E¼¯\\x16ل[@HW\\'هرL¯T\\x15\\x1cu\\x06¦×\\xa0à÷3[ؤUّ,wضL¯T\\x15\\x1cu\\x06¦×0ل،„™-â*|¦خڑé•ھ‚£خLم؛\\x03\\tدغحl\\x11Wل3uF\\x04XnPuک^30½\\x06uّ؛ZؤUّ,wF\\x04X²\\nNîج4®û-¨ôں-â*|¦خˆ\\x00KVءQg`z\\n“Jے\\x13L¯™mزƒê£ـظazحہô\\x1aشلëj\\x11؟…دش\\x19\\x11`ة·à¨3س¸®@Rç°ç\\x04س«ع¤كآ£•m‡é5\\x03سkPç°«Eّ\\x16\\x14س+خ\\u200c5س+3¨:L¯\\x19ک^ƒâëW‹¸\\nںهخڑé•ھ‚£خŒ×؛\\x03Iح‘ط\"®آgê¬™^©*8ê\\x0cL¯aTù\\x02[ؤUّL\\u200c\\x11\\x01–ëخ\\x0eسk\\x06¦×\\xa0خaW‹¸\\nں©3\"ہ’Uprg`z\\n£ز\\x05¶ˆ«\\xa0شyغüيآY3½Rپن¨30½\\x06…هں\\x13L¯j“\\x1dT5س+U\\x05G\\u200cپé5\\x0cj¦ڑ`zحٹéص\\x19T\\x1f©³أôڑ™طuچHƒڑ©&ک^µ”ô[x´²ي0½f&vفUہS\\x0bص\"î\\x0bںهخüG?ج\\u200c\\x1d¦×\\x0cL¯aP؛گ`zصRî·°ذ—4ـsTتœخژذ7±ê\\x7f÷¶±8ہ0;L¯َy³‚،>2P-آ·€گ®c~-ءˆ¤™^™îى0½f`zرك…[Rص\"®‚Rç¸\\nڈِ\\u200c\\x1d¦×,™^\\x0b½LU…>V¤–’يخˆ\\x00ثI›أôڑ%س‹ھ\\xa0\\x0e0°Eü\\x16>SgحôJ\\x05’£خ’éEUP؛ہ\\x16q\\x15>ث\\u200c5س+U\\x05G\\u200c%س‹ھ\\xa0G¤\\u200fإهY1½biCَd 9ê,™^T\\x055Se‹ّ-àت6}ك=\\x1a‘P\\u200cاش[pV¶%س‹ھ\\xa0V0ط\"®\\x02بي¾إUہT{k¶»A\\x0cœ„Y‚¼بo5=e‹طoگن\\u200c> \\x165=*85\\u200e5ْI؟\\x1dz×,é]ن·R\\x00¶\\x08\\u200eF2×¶†يچوû؛\\x1cفƒ„³\\x03ٍ:ں_:¼¼ش\\x17\\x11ھE\\\\\\x05ب’{U\\x00َd\\x15œ,Y2½¨\\njNڑ`zحبëZم¨GَmK½\\x05\\'Kfز\\x16دI©\\njNت\\x16ٌ[€,¹W\\x050OVل\\xad”ئQ\\x05‰÷¢*(\\x05`‹¸\\n\\xa0أ½*€y²\\nژ\\x0eK¼\\x17UA)\\x00[ؤU\\x00\\x1dîU\\x01ج“Upt¸`؟عî¬G¤„\\x0es)×„®W\\x05XٍNVءرa‰÷Z^ê‹\\x08tقµ{¶؟ع¤«\\x00:œ¬‚£أ\\x0cو؛؛³؛a1\\'ً^صو®آ¼™\\x03\\u200e_ك\\'إ\\x7f”ùF+\\x05–üپ´9’,ٌ^ô\\x16شœ”-â¾\\x00\\x1a»ژ»éS\\xad\\x02کoؤ9ىK›ƒ÷ڑ%ق‹ھ\\xa0t!پ÷ھ¥ـoaط\\x1b— _ْQو\\x1bml÷ك‚ƒ÷ڑ™´u\\x07’\\x1a‘ط\"|\\x0bبëZ;U@1دUءQg&mفUPsز\\x04ق‹îJب{›½*€yٍ-8ê,ٌ^\\x14Hjzڑہ{حبëêU\\x01صyhضعd\\x1fvک^³dz‘كJ\\x0cط\"ژ\\x1eذطهط£5\\x16dz\\xad\\x07ف§ىفs™\\x0bFثکUH¦×ٍز7,ط\"®\\x02hى²ء\"\\x01ُ[¥ع©~ëب°نx‘غzèIب0‚¹–9\\x1ez@†Wع—p\\x12\\x1a\\x07ق5Kx\\x17ù\\xadو،l\\x1177ˆ)\\x1dط\\x0e#\\x06ج\\x17:…’ˆ\\x18G{\\x19©uچ7ْ*E\\x02قEJ+ا\\x1bْعFX\\x050ںi“:Q\\x05G{™زuWAڈْ§Pئo\\x01ؤ´W\\x050دUءلxرج£=\\x01Oپ¤F\\u200e\\x04ا«–ri/}i4z\\x0bبٌ¢Sأ‰·àp¼fةٌZ^ê{\\x07ص\"|\\x0bبٌêU\\x01´7Y\\x05G{%ا‹ھ\\xa0ضF\\x13\\x1c¯\\x19ء\\\\#ُ\\x05¸d\\xadlè3U¯\\u200f´اپwح\\x12قE~«ةg\\x02قUK¹¢‡0fوچK\\u200d|\"¼‹¾mفl‡xû\\x1b\\x05¯e\\x08\\x17c·®>¬ïO$à]شذح04½¾Hےtسƒ>سه±ؤ¤ظ!vح’طEM¯\\x14 Aىھ¥œMO~س\\x1c lْV|كص¤/ûُ·–\\x1cb×,‰]T\\x055]K\\x10»j)m\\x15ڑصD\\x18خ~”ù‹¾r–è\\x00N\\x0e,‰]T\\x055sK\\x10»fAى*oa\\t‡دV‡ث[pgœ\\x0e¦k–ک®ه¥oJ°E<f¶jِْ›ژhكm©›\\x1eجià1×}ه¤ظءtر\\x14K*—¾)‘ہtصR®èظ÷ظ\\x1c\\x0fëطسٹï»ئ{fىq0]´i\\x02UP}8پéھ¥´Uˆْ°ہt•*4¤<ظô\\x0e›‹ِ“ءoµ„ک`sصR.؟i5\\x1dfك?تfغ÷fح\\u200e\\x1e/ہoGf\\x19·uچُ‹ڑ¯%€\\\\3غ\\\\~س¤)Z+Aَُµ6\\x03خفI\\xa0\\nNٹ+پ\\\\شqص|-\\x01نڑ\\x05l‹b€ض\\nuس·y-ظذ\\x11¢>\\x07av€\\\\çَf½S}‘،Z„\\x03\\x0eC»îگ™‘©F!\\x03RLs‰»[A#;ëث’آµذ\\x01\\nـmOP¸f¶¹\\u200c%pxpl\\x03ح7ْ\\x00|?5q(\\\\ؤµگ]TQے«Eـقm¦ْژپ•ضح®ےگ;Q‹¼G¢…nٹvO\\u200d8\\x14®™\\x19[Wo\\u200cUn\\u200d\\xa0pصRط§\\u200ek}چ[ô\\x16„¶î_غقP\\n zœؤ–،Y·كzT?…0nz!–ن7ف\\x14آة¼ہsMن,يa\\'عغةf%o‹¢^Mاط\"ِ[(ن\\u200f5ى[طق`>n¶¹lz‡·Eز\\nQ¯¦c\\tقV-…Cfûڑڈ¶\\'ھ\\x15)پقڑ¶¯eك›ه\\x1f/\\x1fqذ[³Do-/}W)پقھ¥p\\x15–¯\\u200cذcAاه\"oَf_\\x13Zق‘V‰غ\"·صگة\\x16aً\\x08~ض´|m\\x07ز\\x03\\x7ff´ظ·5‘F9Œ\\xad™qWWgU ےj\\x11û-´ٍي·=vَ,R0¶¨ڑT\\x05َى\\t4\\u200e[طŒ\\x0cV2¶¨éص¬&ءط¢َxm\\x06ë4=ط$›قQY\\tض\"؟صT&\\x01ض¢\\t\\x00ّ\\nK\\x10\\x140`±/Mژ\\x0fMى,\\x13K€\\x16¹ھ†ئ\\x04@k\\x16\\x00\\xadwtkW…قR`\\x04®:\\x19©\\x04e‘«z\\x08Lىت\\n\\x08Véˆ´¬fl\\x0eش€\\x16ھùِ»™كA\\x13;ھةجھ«#*\\x1aےœ\\x00eU›k 3ڑXèjـؤژP\\x16PV3—Uش}ڑ·ُ7¾ظوv•وàر\\x10-„²ّ}÷sرؤ´t`\\x0e\\x14çَضoœکT‹h¬«6I؟•9…´ë·چ¾Z$ْjyچکnV‹طïvإِ\\x1dزtxا\\x0féZن-‰ثزdyNعF;\"Nسںûœwtم\\x18}\\u200f2f¨U›»é)‘َCF™ïحح*ˆ\\x18;غ\\\\$îٹZ\\x1e\\x07“j\\x11·<ھمL;œn\\x16Q‹¼[~\\\\û‰çR°VZ\\x1dدçMذ\\x0fxr؛ZؤU@uشàہZNمw\\x1b1خZإRXV–ك§j]\\x11£®رœ؟ىE\\x0ch\\x1fE|0\\x1b¯E6أgbb²\\x14–•U\\x05بAص5ڑَ—½*€&®³ف¬§\\x14ص\"ï*\\x10½¹›\\x13-…eeUل\\x14¶û-`\\x0ez\\u200f²W\\x05گاu{5720\\xad«EقUXعeU7گla]$مjy©ïbT‹¸\\x03€l®”§E}\\x18ج·¥]ثpr¢إa\\\\\\u200cدغ>Œ3إj\\x11W\\x01\\x14tفv\\\\¢®ه4MO\\x1f/î\\xad`,\\x0eطê|قْچسئj\\x11ْ-HU$\\\\«“-p\\x07@َچâ©»ژ´8`«َy[\\x05¥\\x00L،ٹ«\\x00عغéأ\\x02lُ–êT\\x1f.,)£\\x0fK°صûô/¬و-\\t°Uµ¹\"ƒ\\x0em\\x04‡ü”y²\\nژ\\x0eK°\\x15UA\\nC\\t°ص\"HUï@B\\x1aحڈ2!·½ٌ¦@£¬و>¥²\\x0e™‡ْêإ’ XU›»¹§%\\x12.A°zWيص®„ف/\\\\N{\\n‡تھ‚شقC]’Y\\x12\\x04«jسVAچ7\\\\خmCç7\\x13\\u200cصNS\\x17‰\\xad¢0Q³L¶ˆ;+\\nî{ƒفں®\\tlUiْv\\x05د\\x1bê\\x0b)تjz)¸‡؛\\x19³$°UصوnVآœDU@}قي]pˆ\\x1eGp%¶jQKXكK\\x02[Umع*ک·8ë¨ڈْL\\x1beِ™²¥à،¬¦—\\x1bھ‡ْêإùثخ\\\\Gہ§قل@Hٹ حRو´؟×ï\\x00\\x0e«ٹ¦Ib\\u200e÷P—dھEط\\x01\\x04|ٹھ°\\x1cرv|-ٍ~S«غô\\x0e\\xa0j‘€*\\n\\x195¾³Eى7¨,ح“£9ڑ\\x00T½كشز\\x1c;’،^@PFبH*\\x15ù\\xadV\\x14\\x12TھE`¦قي½@1?تd\\x1diZcŒIà¶#§’DEn«ùd‚Dµ\\x08´Tq\\x1bِg”Eزk{\\u200cw‘ً)ٍZح&\\x13ً©Zت\\x15\\xad\\x0b}-(èں\\x02>U؛s&\\x17qàS‹„OQ\\x15شl’-â8‡¤–V\\u200e‚ûًُڈق5ق›Ms\\x08\\x18GX%qٹ\\x0eV«)d‚8µ\\x08„\\x14µ%\\u200cآiخڑ¨¹\\x01ڑ/k“ٹ4·§،\\nِ؛ً\"‰ST\\x05ـ\\xa0©\\x16qسƒRخ[{ِAW\\x01ج—…P¾\\u200enë\\x08«$NQ\\x15ôhسكX¥x—\\x1b\\x06tق?ط–Wو$\\x05÷à\\x0cMo¯\\x17/\\x123ُ>–ڈ\\tH\\x023UK¹آک°-ر´Œ‹¼£~\\\\›\\x11س[؟t0S´ڈ/…uW3K¶\\x08£Gp£ق\\x1d\\xa0½ةث\\x13\\x19eCgêْ\\x13\\x02‡-Eل\\x06~«‘\\u200d-b؟AX§uٹ„U°¥قص\\\\\\x12WN—‚s24V²¥(zش°ں`K\\u200c¥×o1‘Oس€\\'p~´M{\\u200dW†z\\x017Yخ\\u200dK½Wٍ‡÷7¾—\\x04Eھع\\\\±;)ـ%9\\x0b‹تtتا¹\\x15¾8¼¨َù½¶q¨ïQT‹88`ixlc\\x03i)ن7کOtـ؟?$\\x16D“صقگ©ھû+K‚\\x17Um®ِ\\x1e§)8A¨جة؛\\x7f„v)ˆ&«\\nr•ّPWYخ_vز\\x0e\\x01€¢ّ\\x1eِ18B[‹¼k¼7û\\x02\\x10êژ\\xa0JHشr¨û+t\\x0b¨»\\x0bXm.G†!\\x1eZ@Pا،\\xad¦;ھ;‚*!QT\\x05=´$\\x04•Kل*L_ا:D»Rhق¬eAأ;r*¹PنµڑD²Eـmغصà‘ژ¶يôة^w‡›–¯›Y\\x03™ïثn.لث*8\\\\(ڑCHYRWVھEX\\x05.هlّw\\x15hMٍ\\x1eJشd\\x0cح©آ\\u200esJ´‘oïh2¢é\\x1aéص••َ—\\u200cn+@Oï*\\x10ٹ\\t³(´ٌخ2Aس;;±\\x12\\x06µ\\x1cêت\\nm¶ô»-غـMoùفقm}‡Œs\\x06\\x0büvrV @\\x1dê\\x0b\\x134·Nّفھfiïè@g-ٍھf²\\nN\\x02\\x0b\\x04¨C}abI\\x10\\xa0ھMسôq\\x15Z½ح؟\\x05ûج\\x12\\xadL@اUَة\\x04\\x01ھ–’®B›ïو«àن²@€:ش\\xad›…-â±§]$ِ:.ط$£ار[ہ>‘ت`\\x16•ہ>ر!\\x0e9ژSٍ\\x17\\xad\\x1d\\xa0y²\\nژق\\x02ِéP_ئ\\xa0D!ر‡غ\\x04ِىأa\\x15ہ<Y\\x05G|پ\\x00u¨/c,\\t\\x02Tµi;@X\\x05\\x14كشHêہ\\xa0\\x16€A\\x1d¸عّ]-آ\\x0e èNه-Œرb\\x0eڑïCf£اپA-هy“¹,jEپ-â*´iي»\\ncط\\x17¸بû¥\\x1dيé#oîYّKئ´\\x1f`P‡؛‹³$`Pصوِ©S\\x05گd:_ـ؟‹C\\x07ضى)\\x10ہ\\xa0ˆi‰#R\\x02\\x06u–^3ٍَ\\x16آ½*.ٍس·àH2ہ\\xa0è“\\x16ھ\\n§~ئپ\\x04\\x1a»چq\\x15ذ<÷\\x16\\x1cI\\x06\\x18ش،n؛,\\t\\x18Tµ¹ڑ•®‰DغV\\\\ن\\u200e\\x16¶جژaء5Y}\\x01R`uس…ژ\\x01÷uAہ\\xa0(گVJمq.\\xadl¨é\\u200cmآ\\x02o²œ…\\x1dعY-\\x05&°O\\x0bغـي=â\\x01·\\x1fmC+§\\u200e¥ہBl²ü>uًJXf5uK°\\u200dh‹Lخ\\x1f–cٹژr،ùJ”•D\\x15\\x1cٌ\\x05ضس،nèذ…ٍDœ€ڑ.[\\\\\\x050_éذ©\\x132\\x0eài\\x01ہ\\x13چ¹8ت$\\x00Oµ”+d:~s‘w„\\x05~;9.P\\u200cèص)؟O\\t\\nGGAu¢~I\\t¦ê—h³ژ~#;‰-ً›ژIي!\\'ّMش¦\\x10ك–³`\\x139ëH\\'گڑ\\x0eُ\\x15ڑ%Ajھ6wDذ\\t\\x05\\x1cٌ\\x04ح©Œٹ~ث:\"\\tx¦Cف\\x11Z\\x12x¦js9K\\x17™ج«ج¼\\x0f\"ًLï¨I)ŒƒgZ\\x00دt¨;Bص\"ژdHD\\t¬¢غ\\x1bl(¥q‡\\x0b\\'C\\x05(س،.\\x06-l\\x11;\\x0bظ§é,طDخ:i)گک\\x08µ®ئˆؤ20—r\\x07‡ص²گ؛Fخ:\\t(0—\\x0eُµ\\x18ٹ²¾€\\x08و\\x12…&\\x11à\\x11vRث¹»وک\\x11¾\\x02T2´\\x1b@K‡؛\\x1cD‡\\x03\\x13~ƒ’\\x11³§ءUàmوZن\\u200eNؤ4ص;\\x16é€–è,ژ\\\\9R—†ھE\\x18ش‚œônzbهXç“y\\x10Qو¹*8r\\x08\\xa0¥C}¨‡ضؤûoA€–¨\\n\\x13]ü\\x0bخو،9\\x11؟\\x12›M\\x05…d\\x04\\x12€–\\x0eُ‰ک%\\x01Zھ6WdL›Vt\\x01cz؟)\\x7fْلذ•\\x16\\xa0+\\x1dêc0ص\"\\x0e\\x19Xٍ¥ف؛°½رœè؛\\u200e\\u200eI‡®´\\x00]éذ\\x17ˆ\\x12t¥Zتصق#]\\x01\\x0b6:\\x04Œé\\x1da\\x142خŒص،+-@W¢َE8ھ\\'èJµ”غïC\\x0f”\\\\خ\\x1dK\"Cًخp:H¥\\x05گJ‡¾5”@*صR\\x1a؟‡hھآE~Z\\x05GP\\x01©t\\x0cê”O\\x02©Dwًه<–ب\\x08a\\x15ہ|ت½\\x05Gfپ®DX$\\x15=\\t™هRزo\\x012سd\\x15œT\\x13èJ‡¾5”\\xa0+-lسV!:X€و¹*8t¥\\x05èJا\\xa0\\x12\\u200f\\x04]©–rWءءà°â\\n؛ز{ى!\\\\P?لw@K\\x0b€–\\x0eٌُ\\u200cj\\x11*\\x00—rWء¹\\x11T«\\x00ثآSjêV0G†â\\x02siWں}،\\x15”\\u200f¤A@”¨YG:âڈ™\\x1eع$\\u200ev2T\\x00-يê[/”×$ü\\x065¥هéh\\x18\\x12\\\\¦wô¤6:\\x1cو\\x12\\x1d[\\x17Sخ]ك\\x1ab‹8z`µv\\x1cغغ»j%Cà—قoھ¥َث\\xadîB<²BFn²îْ\\x06Q\\x02؟D;û\\xa0\\x00êKt?عfwg\\n\\x0eh‰ژں@#«±\\u200d-âF†D”Nv\"g¦\\u200f¥»\\x1b\\x07خ:ع\\nH¥]}؟…ژ\\x17&‚\\x1aµصr\\x16m\\x02g\\x1d\\x15\\x05ژز®>عBçا\\x13خ‚,RثF§“\\x04Ré\\x1d¾پكژt\\x02G‰\\x0ey£ْ\\'8JtbT…oè7ڑû~;ً$؛\\x19,#YكےIہ“j)W”ز¾ntqOہ“âِvˆID%\\x00؟\\x11B[-آ\\x1e(\\x10HنHدo\\x10Iْ^B\\x1fLH4\\x16rص\\x18ٌ€\\u200d´«o²œ؟ى\\x1c¦\\x12d¤³\\nرةv4\\x0fBف،\\'\\x11#\\x0cڑ^ي\\x05±Eـô ’شô،ك¨©A¨;+؛€L¢ë~طE\\x13ب$‚/ت.عَ\\x1b…4ًغظë\\x04dز®¯\\x00%گID©E؟\\x15eKظDءل,م\\x024‰ْ‡jنؤ®¦€&½ƒzWde\\x02pآX¹fض,\\nمبêŒrƒ“hnتï„H\\n‚زéw8\\x0e¢^وھàH\\'ہ”vُE\\x15ْfR_:ظو\\x1eتiت\\x1b¬ش،9Aف\\x13©Oء Yoل\\x14´؛]»ëث>\\tب\\x12m\\x17·‘q|½ش…â\\x1f°،\\x08ث¬0زubs(?ںكGsvuظ§ZDCbµل¦\\'؟quZ[ذ-ئn¢I—q\\x1d¯ACص\\u200e\\u200dَ—±\\x00U›غë،\\u200eD*¦\\nع<W\\x05[C×‚^j\\x1b\\x1e‡›j\\x117¼طغ<¾èِvہ*ھEق5خىزرùxç-€œھڈ¨œ؟ى½\\x05،ڈ¥\\nچœbZQ‹ü´\\n¶²®\\x05أش¼\\x05u\\x01¨ZؤoAHe؟\\n`\\u200fت½\\x05[d×Bdj«€م\\x7fµˆ« D¶T!8(R‹üô-طز»\\x16\"S[\\x05<\\x0bP-â*\\x08YيW\\x01جé-8›dôE%§\\x03€ôn8ں<\\x7fظë\\x00BKû~ƒy2zlé]\\x01·´«\\x0fھT‹¸éEضJUط\\tنè28j‘wôdf\\x0ft¯زy\\x0b ½êZذùثق[\\x00é¥\\x1bاءعo-²©B£ّbفˆ®½ع~3ùèڑ2¨‹Aç/;~\\x0b~زHMے¾aن7=ڑس©\\x0eg³iu\\x18Kçَ¦·ھغ@ص\"\\x0c\\x19\\x01MzûMںوˆü\\x16\\t,ح02Kچt¤ذizة7¤sz0g>\\x7fظkz\\x14ك9Z«©E6سچؤ´\\x7f-\\x14$=ل<ں7oA}O¢Zؤo\\x01إwRéJ-çS؟\\x1dإeôر\\x15ُêRءڑà-U›ث\\'رWqح\\u200fG™\\'£اQ\\\\¦ فUPr•à-\\xad‚¥ôî\\x00Cـ\\x01”@§¢اQ\\\\@/\\x11هTu€~²K|\\x10™®ذ\\x1dپ`%D™\\x1f4ىغ\\x1bفô=O§م‚âھï2œ؟ىu\\\\گذ\\u200cN»Ec\\x0f\\n4يذw){tتذ©‚<طK_\\x1eSMكOvدز¯cّا×>EذweNء–H؟\\x1côزت\\x14¤«\\x03¨›\\x04ص\"\\x1e{@q‘\\x14@ف\\x16-ـمك«ƒX:ں7أ¤؛1P-BW\\x05b‰ْھvUY\\x04®:I-P•vؤف}¯\\tھRµ¹FFأUگز=pصرO\\x00)يح\\x07!ث®,¹عك%\\xad6‘«\\xa0°‘«N’\\nً¤]\\u200cے_\\x13ً¤j\\x13¹\\nJ\\x1a¹êH#\\x10“vuن\\x7fM\\x10“ھMن*نں‘«ژ\\x04\\x02\\x19iWGû×\\x04\\x19©عـ®\\x0eر^\\xad6\\x0f\\x02×ر= #يê»\\x0f„Jé®4V›´ك(“پكژî\\x01\\x0e‰îآ£h°E<Œ،îuع\\x1bح\\x03؟\\x1d±\\x03\\x06ز®Nù¯l\\x11û\\néه>àظآںZخ\\u200eNh»آ:t\\'s³‚\\x1d2f×ہ@عصپ\\x7fb|\\'â\\x04ô‹H“xٍ¸–sûي\\x1e@§ïpظ3\\n\\xa0\\x1dيêہےùثخ¤HگŒHم6:éâ\\x13&j‘·ك”Hv\\x0f^زWپœ*ہ‚®ْbإùث^\\x15@ظ6عَ‚c7µœO\\u200ev„\\x10hG»ْ|إڑ\\xa0\\x1dU›ث\\'سo”آ\\\\{;ھب8¢k\\x06§®\\x01\\x10›£\\x1fك\\x02jô\\x0e\\x19#{D›ش}n\\x02.;qrJ×ي7^\\x00=\\x7fظ‹\\x13\\x10@\"\\nFy‹` ½«éî„\\x12¢طٌ\\x1bخ\\x08©\\x1b\\x01ç/{~C\\x0eطَ\\x1bج#؟\\x1d½dNرفقx\\\\ˆ¾°–ˆ\\x13\\x10@ٍ[ي®\\x08\"R§‘\\x1d‘\\x04ؤر>ھهط\\x04âhe›«3\\x12\\x1e5\\x1c\\x07A$·شZf،\\n\\x19؛\\x03ˆ£]\\x1dّ§ëŒ‰ِ\\x06½\\\\éHz4”ƒù–ظ\\t]\\x0bbبھ\\x02,اھk\\x00ç/{،\\x0eزظ«\\x02*mھ\\n\\x0eïˆبƒ¥چï¨W):[„³\\x16\\t0:\\x08X»E+œh\\u200d{\\x0b\\x0eïh\\x05ق\\x11ٌ\\x1bpآب\\x16q\\x15@P©\\nرِ¢D\\x1f½ُ ³تPàDF \\x01ْˆèہھ\\n‰$S¢ڈقo\\x01?™\\u200e³¢MزoG[\\x01}´«\\x1b\\x01k\\x02}Tm®aˆ–¨‚ڈ\\x15+َص9ü §؟\\x05`d5=ب¬؛\\x11°&ذGصوھآL\\u200c8Xfم\"ï\\x1a‹د\\x059ہ\\x0ez\\u200c¶â\\x02ْhW7\\x02خ_v†!.هٍ‰.#!ى¹–sW3µ¶V¨EVسںZyچ=ƒ\\x1e{\\x12ٹثL¤طoPe:ë\\u200cX\\x13,ˆ!ثo¹2K‡‡Toي\\x1fC¢\\x00‘+تf{ƒMزo\\'C\\x05ب\\x11}fKù\\u200cP\\\\.¥iï¹iKuˆ\\x01ح\\tdcî—Bou6@\\x01r´©³ےDbîO\\x1aطو®آ\\x1c!)k‘wشڈ\\n\\x05^ْيگچV \\x1bmêہ\\x7fµ\\x085J¢ٹژ¯‰¶\\x000éC\\x1bےvمê0Œخç÷Bٍ¦>VQ-bgAP§=ْ¼o-ٍnنجG\\xadW‡at>o«€اH«E\\\\\\x05HDçxم–±H÷¨\\u200d¹\\u200d³:\\x0c£َy[\\x05D€V‹¸\\n°Vk .j9w\\x1a ٍmOچ\\n\\xa0ب\\x18\\x1d\\x01\\\\D\\x13A\\x1ceط\"ِ\\x1bٍV\\x01÷>¯C\\xad\\\\خ§~;*\\n´\"ع÷R~ںIfى7$¢نw\\x00/]%\\xadˆ¦l¹¦wRXf\\x08UAف\\x14\\x0c\\x7fMذٹھح\\x1dئ\\u200c*`ئ›«‚“ط2}è®‚ز¨\\x04أh•\\x0c£ƒہ.\\n‡،l¨é\\u200c¯\\x11\\x11\\x1aب\\u200dx1CèvVe\\x1e\\tpرYz³؟¹l£ù\\xadً\\x1aُ*مُ\\u200evT\\x14hEêkkكôفو¾ٹ²حف\\u200eئˆس[‹¼ح_ي\\x1cج¹N½:à¢َy3:*ِzµ\\x08{«$\\x11Qœ\\x10µ!ک¶£9ةoےjةZ\\x08Bئ@\\t\\x0c#J7qہa‹¸\\n ³ôل؛h\\nGâŒ¨ئî%ہµ\\x00‡,؟ه‰\"ZéW~\\'’U‰3:è“\\x1bل9:4\\'Œ‰w„±p…,؟ه\\x19قM\\x1f€MگچVI-\"؟‰9\\x11…\\x0cê/}\\u200d´؟wP\\x10CV\\x15d²؛)\"ûڑà\\x1dU›{ھEك£\\nضج$ïèفI\\x12ں\\x11£O!عc&ًژ6\\x05g?\\x7fظIV¹”f¶¨èشµœ[اœ¯ƒذ\\x073\\x1dWe~؛é3¯\\tعرYz;¼س\\x1eHشع(§tG®\\x7f{\\xa0Pٹ¬€پTUںye¾Q<ئ`\\x1a؛G\\\\:ْz§جl©¯ڑ\\x1f2’©Sa\\x17YUگ‡ˆ6}و5AFZ%\\x19‰؛-]6إشIظ\\x08…ٍ&\\x07\\x0e\\x19‰¾$+VVi±\\\\\\n“\\t‘هRîTµفکو\\x19\\x01عجG‚`»:8¤َy£¬\\nأ^-آگ‘|£wھJ‚ىںصEَ™’\\x12ç¼\\\\ء\\x0e\\x19q\\x02\\x0c¤\\n×>؟×\\x04\\x03©عـي=bِû£lوٌe®€بّvہG+€ڈ¶U\\u200cOL€ڈj)چكzئ+ءGش\\x07\\x08\\x18ذ×\"‡پ´\\x02\\x03iSطûj\\x11ا\\tèم4†ù\\x12ےرf)¦¹چ\\x0fي\\u200eضJ+N@C\\x15e}M€ڈھMسقراع”ùـ,ـ€غژn\\x02÷ˆ¾4ŒأI‚{´J¦\\x11uث\\x19\\x0f‰QxC\\nK&‰م\\x0e\\x0e÷h\\x05î\\x11ي÷+؟\\x13‹¼\\x12dD~·_ٹمa\\x10mو\\u200c²¾ë?/ء(8\"+L@9ُ،َ\\x04ىh•°£·ك\\x11\\x7fY™دtہ¥/\\u200f\\x05GdU\\x01”Sں?gگQـC!ك$¤Z´¢!ظH4بذ\\x0e“7’;é)\\x10ژ6إP_\\x13„£js÷ذmŒ¶d$لèي·½\\\\){«C8ZپpD\\x1fYا¨O\\x10ژj)÷h7\\nء\\x17!•9ي¢yS^\\x07k´\\x02ضˆ6â”ك}گ`-ه\\u200dyس5¨@ü%\\x05é½o™9_ه`چ\\x08\\x0f&ç]ْـ|\\x02kTK¹ھ@±£¶6$ضˆ:·K³£ƒ\\x12¶\\x18\\x01ثˆخو«ِN\\x1cN’p¢ُ‹وبê0\\x18عىkfRî\\x00ŒV\\x00\\x18m\\nي^-آ،E\\x12‰\\x1c؟إBًْ•ôغQQF\\x0f]+vٹçN\\xadز_ù’\\x00#اo،¢i؟\\u200cT\\x14XF›>0ں`\\x19\\xadlأAيّ-ٍد´كخr.`چè#R*¾\\x13[¥\\\\Jى·H:س~;+»@8¢oر(؟\\x13[¥\\x12Yن´·گ×´كژt\\x02لhS<÷5A8ھ6q{‹cHY؟\\x1dآر\\n„#:]‰ي\\u200c \\x1cصRB؟%ض(ي·sک\\x17\\x08Gي\\\\‡o‡°E8\\x0eJآ‘\\x1d\\'h“\\x1b\\x07\\x1d¬ر\\nX#ڑز©ِN¬لJN‘م·طCM··£—€5عô!û\\x04ضhe›8NDbڑِغI:\\x01k´)تûڑہ\\x1aU›طïGzYہCF\\n\\x01X#ES\\u200f^\\x13X£j\\x13û\\u200eH/\\x0b_بٍ\\x1b–nُ!{&\\x13إ\\u200e\\x12´ذڑWIآQ:N\\x1c½d6ر5?ر‡ىظ\"ِ\\x1b´ذôû‘^\\x16’گصقگjêCِ\\t¬ر*9EخxٍH/\\x1d–\\x11eS2YPى÷j\\x11·7hل¶édAٍژ’qBK¦fقp>o\\x16i\\x15ً½ZD~W›¦_*؟•MJw6‡ft>o\\u200eئù`µˆ\\u200e\\x16{\\u200dï81ü\\x06›¤كِه\\x17:‹\\x04q‚َءj\\x11û\\nZhْ\\u200eD/7‡[t>oغ\\x1bَùj\\x11û\\nZhْ\\u200eD/·\\x02%زمةù¼ٌ[Qق«Eى7h،é÷\\x13½ـ\\n‰بٍ[^~Qqù}\\u200f2قف¬6q؟|¢—[ء\\x0fY~ƒ^ھ3ôç/{~+½4ْه“ürs°Dçَ6Nًà|µˆمDé¥ل÷\\x13½¤÷ïŒك\\xa0—êàüùث^{ƒ\\x16ڑٌ\\u200eD/7\\x07@t>oغ[ڈ\\'\\u200eMحZJ\\x1bكءو\\xa02§،ـظ\\x1c¤“Sv{\\x03€ˆT\\x06ٍ\\u200cَ—\\u200cِ–D![wذ&§;\\x0e€hctذ5\\x1fTGن«E\\x18ك\\x12@نّ\\u200eH/\\x1dê\\x10}fRè%ح¢T{÷َثZJ8\\x0eٍ_؛l’يmç—ô\\u200cUً\\x1b7ي«Eـق\\t½ن؟ô©كv~Ië½à7n\"W‹طï„^ٍ_ْشo{=v\\x03¾\\x10e¸*Nْë±µ”6؟\\x0c>Z¬ج“!c/حز6\\x114½ڑ\\x1a²Eـô\\té”\\x0c¢l\\nلً…h7\\x0cüVC9[ؤ~\\'¤“ثù4d\\x1cé,°،[‚ès°*dْK³\\x1b—\\x12\\x0f-ڈ¤س!\\tm@\\x12Z\\x0f\\\\r«\\x16q{÷SحZخ‡يي`…6ئ\\u200eT\\t¢M\\x04lo¶\\x08\\u200e–ذ [‚ذ&×/\\x0b)بکز\\x02cˆ6v”ك\\u200e\\xadLْ\\x00k{–حٌû‘t\\x16lگه7H§\"خس\"\\\\w‹ھع„ٌحه|\\x1a\\'ژt\\x02}ˆ6پU{÷·2ia4رقڈRح\\x02\\x14²ع\\x1b¤Sءذ·\\x04ٹ¨عؤي\\u200e(ص,t!ثo™jزy\\x07صق\\tédvQى÷£T³ذ…,؟A/w5إJp‰hل_إI”B\\xa0yگB\\x14؛گه7è¥‚دس&J¢_*½”oي§–زôت¦…ؤé\\x13عm²³\\x1d@\\x11رé3\\x15\\x1a\\t‰نRعذ\\x08\\x0e.ںخ\\\\çœك³\\x13كo{÷’v\\u200eن”D±خ«E,5J\"صiˆZخ‡CںC%¢]Vً[M¥ط\"ô[R‰جصïْ—>ُغق½ـ\\n¢¨™J©K4ص\"ِ[I¤no\\u200fKںْي¬ئ\\x02ٹˆ\\x0e$c|\\'PD\\x1bغ´Y\\x03\\u200dڑQ6¹)I\\x01\\x01\\x19C\\x08\\xa0ˆèj€ٍ;!‘\\x123نؤ‰–Hoةؤل\\x0fرQ\\n\\x19شê®IµˆƒC¥”êتr-çسàpRتآ%j‚Z]0،أ3\\u200eqڑmâàx¤‹…\\u200fc\\x05\\x07è¢؛m²%ّCص&ِûر\\x12lپ\\x05Y~ƒ.*¶7\\x1d\\x0eK´·ق²ŒRxI.*©°\\x1bكژH\\x02\\x7fˆî\\'ھخک\\x10I.%nïGy¤\\x03\\x1dعتَ&¾ص½’j\\x11÷ث„Hٍ_ْ°_:¤!:ع(ا\\x13u¯¤Z„~Ktگ=ّ،MnذvًB\\x1bà…è\\x1e\\x0bئI\\x02/TK\\tمD2…²ë;\\x0eSˆژîB{«u)¶ˆغ[mYjq—L،´كN\\x1e\\tL!\\x025¨ِNˆ$—\\x12·÷£<ز\\x01\\tر)ُےçىـ²\\\\Wa :£»bçaû÷¬\\u200dےکnإF\\x06ھگPw\\x7f¦\\x15\"c@HH\\x1bêoٌ\\x7f\\x13 !k%ضûO~¤C\\x0fْ\\x10=\\x08 \\x12éï„½ىéAخ¼ü“½tèAںآ\\u200e¹مRRXb\\x12ٌّض\\x14\\x1fFھX;؟]\\x07ا)>ںآ\\u200e©zëz’°—==بéo=²ôŒنIé\\x19\\x18wB\\x06\\x01\\x00%ƒ#a${\\x06ذ©¬vٍںŒنIٍ\\x19éM\\u200d¤”گ\\xa0\\x0ei¾)é9Aژق\\x7fةƒEُضطs\\'N\\x10XgـكE\"\\x1cش=\\x03h¬7ثنŒ¤ƒ\\x0cْœں7›\\x12©\\x1b1‰Xoُ$eœ”_ْهdt8Aں‚ى¹\\'£à\\u200eM\"ض;a${8P¸cuˆ@ںََ¦“\\x05ًo\\x12±²\\x12aUڈ¬üزo;ùk—\\x06“‘ˆ@ہژت\\xa0¾,Z¬wآ“ى‰@ظ\\u200cب\\tل\\x19éM\\x11V)\\x16A\\xadî|\\x11é\\x11?خdü“e<a>#½ة“”b\\x11شF\\'ôNXئزخoا‰c\\x19‰\\u200e\\x03N‚Œ“„eىظ?N\\x7fے)™اء\\x00،²؟كùة\\n\\x01&\\x11ڈoIوi1@نœ\\u200fX“؟يz\\'ٍJD  د¥ë\\x13ِ²\\'\\x02\\u200c]\\x1f9ٌ,\\u200d3A\\x0e\\x11\\x08¹O\\u200e[گ\\x12\\x12“\\x08كBڈّ™>\\x02‹\\'\\x1fء‰ا\\x12\\x11\\x08D*~\\x0b\\t\"\\x10’½دژh]ˆè-°xٍ\\x11œذlلôـ\\x06Un\\x13ّ\\x14‰ّ-¨A\\n\\x1fلO9³\\x0e\\'\\x08ک\\x17\\x1aHrz’à\\x04Y+ح[ذœآ\\u200d%”5W\\x0e\\x1c\\x08$\\x1dز[ِژ\\t8گµ\\x12ë\\u200e\\'\\x07ش!\\x02\\x01bDzث²_$â!C&t”\\x0bظSƒز\\u200eي$\\u200f\\x14ّO\\x1dêâً\\'ً@ں\"\\x13÷÷ں\\x02¶\\x0e\\x13èSً<·ق‹®2\\t3غC~ئ‰\\x11,“\\\\Zœ€mءَT½e\\x1b™\\x00\\x01پْإ«م#:8fٌààط\\x01\\x01\\x01–صڈo©11‰x|kâOt\\x1aغ3پخ،>$غُ\\x07ت\\x0e\\x13\\x08h:z\\x04\\t\\x03\\x14‰ً\\x11zبد9d¢G`qt}و\\x11\\x1cغJx ـ“ب¶5پ\\x07ْ\\x14™v¶†ڈ\\xa0™A™Gpl+‘‚p÷¨<B\"3¨§\\x00حك‚عضج#8ء]‚\\x06لعWy„Dp·§\\x00ح\\x1fAم¼™Gp¼ظB\\x07؛—!-MIًƒ>E&=گشâf\\x1eء9\"%–\\x10è\\x1cٍ\\x16\\x12ژmد\\tڑ؟\\x05ُq3ڈà\\x18_آ\\nلِiy„„ڈغ#ƒوڈ\\xa0v8َ\\x08ژ»[ط@u éٹ”°أ=ah\\u200f\\x08êùf\\x1eء1ة\\x05ِS\\x1fA¶œ\\tآ\\x10îê\\x11“\\x1c.ھ\\x1a)خ<‚مù\\x12lè\\u200eگفg\\x026\\x04زٍï\\x1eAƒئ‰Gp`C\\x1f‚\\n½µ¸%\\x01\\x1b²Vع\\x15)ع\\x18•&غّƒw¸àہ†@pيw\\x15ZـR$آ]EO\\x0f:\\'@¨·ڑdWoا\\x0e\\x13aè%—\\x10|\\x12„!“I÷·عaWoاّ\\x12lè%—\\x10€_4ڈ\\x0b*l(¢اZ“ي8ة\\x0cuاّ\\x12wèuبF´HؤCFBةٌ#üةّ\\u200dگ\\xa0At–\\x10Droك?ذR\\x13oAففhحdbQn/}ٍ‚Fڈذ\\x07ک_rAؤ\\'A#2™v\\x02ذ†ِGd’z;\\x16—hD/Aü\\x7fٹD<z8U\\t<‘~َ\\x01½إجnsٹïçن\\x05چْ»\\x0f0؟vظ¯\\x15زP¬·ڑYيï?ظض“)4ز»÷|_Zٍ’\\xa0\\x11ل\"\\x06±\\xadھ÷ں\\x0cھC#آ•\\x15\\u200caziةK‚Fd\\xad„م{@#J¬ژ\\'\\x0bhذكD#j¯W½hDں\\x04چبdb½ےنط:4¢\\x0fرˆp\\x1b+oو‹D8¾•Fؤ\\x1b،\\x1fû¥_Z£“\\x174êï>Rüز’—\\x04چ\\x08×ëجا7ثنضء“)4ز»ڈ\\x14؟´ن%A#آ\\x05؟\\t½ےd:\\x1d\\x1aر‡hD/-yIذˆ¬•x|ےةYuhD¸ي©_O6ظµ$hDضJص[ھھ1¾إCu‹0Nگذhpôù¼¸OS&cآ--ک¢¸“ےن‹:\\x08\"ـfF\\u200c,¾h\\x02Ad\\xadؤzےةH:\\x08\"ـ\\x1eGzëâ—8ze¼\\x10ژ?¢\\u200eà€F4·;ہçBU\\x1d2×ç51\\x05—\\x7fزگ1‰h\\u200e6™¦ëiW%\\x12~‰\\x11®MwTي}N\\\\M ھخ«B¯ض›Z§¸·E<µzo\\'shشغ}b/î)•Gک‡پ¯ضûGà]•ب$ُ\\x1e»ں¸–²\\x1fèR\\u200eb\\x12ٌ(™[KkçwV~sXD×çيèوصغ$b½çضزعù\\xadقم(/.c¥\\u200fو…إ$b½ظرT«cي4z{V\\x077غ:َ’L¤ـٍq}3\\x06´کL»zs\\x02،ب$\\x07ُط¥ؤeأشة|\\xa0a\\x12q\\'³K\\tl‘,~\\x7f±–\\xa0V;\\u200eMضRھ_®oخْ[s–†W\\x05\\\\„~kٍ·م{\\x1c¹فNFQ3/¥\\x10ئ$â®gïr4¾إ»tا·\\x03 ع\\x08@ô’[>L\"Tv\\x00 zْw\\tY“™yé\\x00ˆ6\\x02\\x10½ن–\\x0f“ˆُو”¤A\\'3¤(0î\\x0eu\\x08Wب÷“±¹Cوٍ\\x7fM\"VV’ڈؤڈ´v~9’Oودہ¢\\x13uè%%/[‘ˆُNXئ\\x01u(±ï;™?#½ةڈ”«T¶B\\x0bٹُfث8\\x1a\\x1câGْ3ذ1‡„\\x1azة…\\x1e[‘ˆ•MکأزNjع9وگ\\xa0B/¹؛\\x03—éNƒؤ&\\x13yŒ\"\\x13M;ا\\x06\\x12Ièُâٹ–-A\\x122™Vظà²\\x0b\\x11‡قu_ضeµl\\'ëg4|ة\\x06Jqثُح‰\\n\\x14’\\x10nlٌ/»°&ëàxù#ظ1|D\\x12zIq\\x0bbح‰ء!†o°ج±لCˆkzc\\x14îC\\x1cï9ˆ$„KYظqIگ„®ض[ا%îoپ\\nù\\u200eيگ„pظ]oVن’\\x0e“\\x08W\\x0e!\\tMôو\\x08k\\xa0÷ّœr+|\\x1f;\\u200c\\x7fIq‹Iؤz³9”م\\u200d\\x1fk\\'3¨Oہد`2\\x12>è%إ-[‘ˆ•e\\x1b(‡لP–سپrƒْkپFz“\\n”â\\x16\\\\ل4ںŒE¦Yüt2²ج–سغ1‡\\x05üS\\x07\\x07‡ùpSUBo1‡ڈhCت´!<‚sˆ½9ّ\\xa0ëَf×/7sکD<N¸¸e2\\x199¬\\x1aLFاH\\x168Pيoٌئ\\x13ّ\\xa0\\xadبشq2ر›}ئ@oاQ$–\\x10nH–Eû2£q\\x7f³£8ر›#¬پقژ‘$–ذK*Z¶\"\\x11ëحFr¢·طK×¸;,،چXB/¹™أ$B½…%4X\\x07Y&·\\u200dœ$ںء:H,،—ـج±\\x15‰Xov\\x14%=âاعiŒMfSrز~Fz“د(\\x05+[‚%d2ي¼D`ے\\u200fمX\\x0e£‡6\\x7f|;,،چXB¯Uضï\"\\x11÷·طKQُOضزپ\\nm\\x04\\x15zة=(&\\x11k-\\x1e£hح\\u200fbذءژپ$ژ\\x10î’ن…/ء\\x11ع„#ô–{‡E&9\\x11\\x1d×±P‚nC#ه\\x1d[‚#d2ح†D؛8o\\x13\\x1dtذV(>UU9ةH\\xa0ƒ¬•vïؤù8\"“ىbا&\\x12:è%\\x15\\x1d[‘ˆG1غD:WہJ—7ƒ\\x0e-h#ZذkلSQ“ˆUU_Q»ّO¾¢C\\x0bعˆ\\x16ôZd»T$B½…\\x16$],¬ \\x7f،p\\x00A¸e¶w\\x0f¥,أ$bUصٍE\\x16DXAپقژ{H€\\xa0—شbàژف¹\\x07ہً\\x1fئؤ\\u200eX+؟´×\\'ہg`¯\\t\\x0fô’ٍ‹\\xadHؤ½=µ{\\x0c\\x10ت\\xad\\x18\\x0e\\x1ch#8ذ«¹کµD¦\\x13p k%»ث(Mf¼r\\x07\\x0e´\\x11\\x1cè%÷TکDـغâ%²1a|P²·\\x1d\\x13Hh\\xa0×CِFE\"ضZ|D©àفJ;µ‹ں‰«k±غ\\x1bا\\x12\\x08\\nôâ\\xadآ؟ë›“€¤\\xa0پکji\\xadüVkا\\x1a\\x12#è%\\x15\\x14x™‰uD<D\\x19#l\\ns}يّ‡…يc{ڈ§d’o\\tBگة43R´f³ّـ‡¥ى}بعل\\x03mؤ\\x07z\\x1eb\\x16\\x13| k¥ر:؛WZؤ±/™_\\x08؟9¨\\xa0ëَ\\x1aہy\\n؟ك$آةة\\x18 ہ\\x03ù~fk§\\x1dوخ}ط›أ\\x07؛>o••م\\u200eآُ‰••\\x10jـك\\\\ê‘ëo\\'ي†¨AOIzكٹDü\\x08l0eqْ±vع\\u200fخ\\x0cُ¯«60ôD\\nzJزûV$b½ظU\\x1céحخbnٹ:~cل\\u200eـ\\x0b‹ـ;°%¨A&سNQ\\x1dكœ¤ڑ\\x1b\\'ژر,,ںھ·\\x18ح\\x045hc\"ذp^²çکسغ1ڑD\\nB[ى§\\x17‰xœp\\x06ژ\\x18Mو\\nء§|ددآ\\x1cf\\x10’ژ:§ل))ï&\\x11kحFَ©ر…ٍKuV®nLٍ\\x04ٍŒ¦bں¢ْ”<÷\\xad\\xa0|beظ‰|>ِà\\xa0Tè@kئê8t\\xa0چè@O،÷›Dّ\\x08B\\x07Z¹ِïاعةô÷‰ق\\x19ô7q€\\u200d›\\x1c¨\\'8@›p€h¯\\x00UùŒqظ‡Iأ\\u200eقن\\x04ّŒ´î#©ک\\x1e<\\x11\\x13èں\\xadبش…Oµfَکسع1ڈDûyJ؛û–\\xa0\\u200eکL¤5اQ—f\\x16Q\\x07;\\x16‘\\x00?Oءُo\\tہڈةTU—ء\\x18f‹¸¸k†Cُظˆêَ\\x14F؟Iؤ\\x13ژ=اه±\\x05qu\\x01ü<ِa-0ُ·c\\x11\\tًَش´ِ\\x04àg\\x13ہدآخ?&\"[ؤœقژE$ہدSsـ‹Dـُl\\x11GzَùbNoا‘$ہدS\\x13غ\\x13€ںچ‰=H\"ٹژ¤…\\x07tَّزq%\\tًَ”\\x1b\\x07¶\"\\x11÷7™Gè-9ہLُA¹ٹw~î\\xa0|6Bù<هڑ\\x01“\\x08•e6\\x0f”•uZp?پ²Nµ\\x06A{\\u200d\\x1fqw\\x13ذ\\u200dM\\xa0=ى£‹ہ‘Y6Nگخہ\\x0e\\x12¦ç©©ىE\"îa²rأ\\x1ef؟ٍط†;ھ~¹;é9#½ûْŒ§\\\\ن°\\x15îN¬7ظ9\\\\êخىJk§ڑ\\xa0أحف;99#e/\\x0bu{+r›ہ–\\xa0ًکج\\xad\\x08”\\x1dو·•üuپِ\\x1c[\\x1dگشةژwHè\\u200c§ـ&°\\x15‰¸“إ,\\x1e¯`+ح¤\\x1e$!ض,\\x0eزغ±…ؤغyj\\u200fz‘ˆُوگj«ˆu2غآإïdا\\x00\\x12Yç©IëE\"V–\\nàَˆNd\\x18ؤƒ(Y\"ْq²oFم›üCMeOگu6!ëHôçGdr~ي\\t¼\\x19éM®¢ـ&°%p:&S\\x17\\x08q9،·\\x04Vپ©»ے¼ٌي0t°nِ\\u200f¸ـ&`\\x12لگa(\\x0e®¾‘¨چ€sع\\u200eB?\\x19\\x1dpخFàœ§¦²\\'ہ9ضJم³è†ƒل:[ت\\t?ٌ7ƒءAàœ§fµ\\'ہ9[‘iôf>أڈب qخ[©O\\u200dحHY2‡ڑص\\u200d\\xa0هlBثY\\x07ت²kèGhN؛حHY2‡roہ–àâکL;\"ضہ¬”&3‘\\x0e\\x07†³\\x11\\x0cç)÷\\x06کD<يش\\x1cتضY\\x088©¨پCہظ\\nكوق~h*{‚€c\\xad´®xdئK“µ؟}3~ٍgFم¤/W|j*{‚€³1ف\\x067\\x0e‡z³—\\x18èي¸†…os÷·¦²\\'\\x088[‘iû{Hه);\\x11\\x16\\x0f¶M\\x0e\\x01g+ىڑھ·Dٍ\\x12\\x04\\x1ck%^ٌط\\x1cْ+\\u200dƒ½ظ\\x08{َ”{\\x03L\"œŒŒ´ء…¦’u#ط›\\x15´œ©يv°7\\x1bao\\u200dO9¹H`o¬•¶“¥ ¾´س®xH\\x08ض4دقŒ;ط›چ°7OMeO`o¬•Vï€ü âپet°7[پرـƒZS”\\x13ط\\x1bk¥ر\\x1b¤\\'?eV\\x088kSïK\\u200eيؤO\\x0b°¦ê-“1پ½ظ\\x04{³ً‰سڈب\\xa0Zحغ~8¬›چX7OحKN°n¬•fإم³\\x1b(ثاˆKj2:ژ\"±n\\u200d«„l\\x12¬›چ96ں¶\\x03ثٍ,¬›\\x05 يùdt|ئ\\x02¬©ƒCê\\x1cٹD¼ّIذt°ّ‰9Lُ·c\\x19\\t{َ\\\\%C!پ½ظٹL3Nâةب©8K\\x13َ¤ةè\\x04M\\t{َ\\x14\\x1e7âüَ¬!ءق\\x0c¶×آ؛Y‘¶3\\x1b\\'ˆ£\\nس\\x12®د›Œ\\x10I¨5‰hœکLr§-âpأ\\x1c\\x07wwہ7×ç\\xadق</M\"ض›³T×#ً\\x10¬ةئ^ْzڈ³T÷“‚سêحَز$b½9R؛\\x1e|ہoي´تخسœِ“j£;يëَFoal›D¬7§فLْ[<I؟؟اFr?)8\\xadقœ“o\\x12±ق—?عnJ8\\nlي$ـا\\u200eDظŒ:¹Gـ<%\\xadِْfœ0i2يdشءءF2\\x13\\x08ظ\\x1dعحُyغة|Tn\\x12q\\'s4u\\x1d\\x1fك_ِزڑlûغظ”ى\\'صfشكن>JbيُحY\\x7f³‘œèحِ2·~ڈيه~\\x02qع®×ُd\\u200d\\xadj\\xad4C†é3?\"ƒ‚Z\\'\\u200e\\x10پbاطP4U\\x08ظ×7g\\u200e-‰7\\x12•´vêàxz;VœگŒ•%ؤ\\nœ\\x10تے¸¾9QV\\x107\\x1a²¶v\\x1ae\\x13©A»ƒ¸¹>¯#b=\\x18\\tg\\x12لdd|\\nB؟|\"jي4z\\'Bض»C»¹>oُ–•؛ًpb½ظ2تٌُڈ\\u200eR£÷{ک…ريüv‡vs}قêحî؛IؤzK\\x05\\x07\\'ZBo6‡.#dw\\x107×ç\\xad²œ]h\\x12±²l\\x0eكم\\x01[VêBح©\\u200e\\u200eِزoِ“53X©‰vƒmƒLئyyےصzثعPشµب¤xjû‰¯\\x19é}ظ4sأVة\\x0e؟¾9[Dط2¾%ênي4\\u200cœ(#قO’حHïق2®\\x07»a×7gz³eœŒ\\x13¶Œء8qجa،×ـ\\u200e-ˆî½Hؤم[J\\x199W\\n“‘}ئw“كC+‡c\\x0e\\t|#¾ق؟=\\x01¾1™j»ك|¸\\ne9ڑعتôت:´›\\u200ch7«نپ›Dط³Œ¯ء}q²‘\\x16ؤح\\x07گœY4uwh7×çحٹ·ثٍ\\\\H6±قى(âخYJ»±_ھ3\\x10÷éخ\\x1dَ“j3کپD»ء\\u200fœW¼\"\\x11ëحو\\x10™ّ~Tr/MضG@\\x02|¢ëا¹¨;1pVلr›Dü\\x08l\\x19wخ@ْ±vھقHxJt½م3\\x162ح½ˆ\\x08—{O0pL¦êô\\x08ف\\x19ئلہُ¨\\x1b7ڑ¢مdœ\\u200c\\x188ي±ëU•i\\x12q\\x7f³k8ر›ؤ،w\"\\x1cهàpََِf¶J^»Iؤڈہِ\\x12ا®ر¨ç\\x14\\x1dن\\x12ـ“چ؛~\\x1cnف\\t‡³Jٹ»Iؤz³½l«\\xa0ثfٹ‘9¨~œ_إ±ںط›ر*سçه¬›®2\\t÷±@u\\x1a\\x13´\\x04g\\x1f—2ح6\\x0c•muQ¦\\u200fvL\\'لpعأA\\x1bêَp+وم\\x19’mô\\x0e÷±,\\x0eF_¢ë\\x1d2\\x0e~©KرY%\\u200eف$آ!£dœً\\x11\\x04’مo±\\x1c2خNdœU2لM\"ض[\\x10ھœfücي4[ع÷<\\x1ftwب8×çحز\"éï&\\x11ë-\\u200f%çx@o)xldٌْيàpvآل¬\\x02\\x177‰XY©rؤMèƒ\\u200cTYZتڈض\\u200f~5;Iزغ1\\u200c\\x04ؤY\\x19ںًo/\\x12±قى_\"ïˆw[¥\\u200cf«â.ع\\'´f°ّ\\x11\\x12g•D÷=پؤ1™؛ˆŒ”e›عتPدژ\\x0f\"wâà¬’èn\\x12qدٹe\\x1c/a6\"ؤ2f¶â\\x0e\\x1fg\\'>خ*éï&\\x11?BآH–_jFrj¥vœJâم¬\\x02\\x17ك\\x13|\\x1c“©مD²أ°r\\x08\\x13ہ_9\\x1cثH„œ6\\xad\\xa0Xئ\"\\x11w2[ئ•³9\\xa0¬¤èŒثہûٌي\\x10rv\"ن¬’\\x01o\\x12،قBبyêءک0rP™3wr\\x1c\\\\خN¸œ6(^ْ»Hؤz³9Dق<¯xآبie¨“\\u200cسGbن¬’ِ¾\\'\\x189&سl›ئ¥أe\\x11a¤ژڈ6ق\\x1dJخُyc»…(n\\x12q\\'«9\\x14\\'^99î)‡\\x03اظ\\tژ³\\nFـ$beظ\\x06jق™µS—97Inwˆ8×çmدJ\\xa0¯°lbe9cu¤¬\\x1c9؛G2\\'†f`°\\t„³JVû\\u200d\\x00لکL\\x1d¾+Wو\\u200eˆ\\x0c(¬sRôî€p®د›N–\\x04w“ˆ;™\\nكc\\xa07‡P\\x1f^&ث~RlF\\u200cL.،`ؤ¯oNB؟…‘S;ù،پ>–ء]&ُج‡\\x164اع\\x11ِf\\x15vّ\\u200dہقکج\\xad,آë\\x12•,يش\\x07jeze\\x1dعحN´›U²عM\"\\x1c\\x06¥•ھى‡ë\\x0e~¬\\u200cھl+Cتژk\\x15÷B¤¹ƒ`’تn\\x12±²d×قب|c»&ى›V†”uىZ،ضTeه\\x14<ءµظ‹Lيظ÷8”Uى\\x1a‹\\x7fp\\x1c7كGœtڑء´#®ح*ہً=ءµ1™ْ\\x08¸²\"ًّJ“چïâFbN:حHïثNف]/ہً=ءµ1™ھˆ\\x0c\\x122‡قBqآhFjِ©5ë““e÷\\x04ئئdڑU\\nة¥n’¯ˆمو´ؤNَdخŒ\\x1eپخ\\x12%ں}O\\x10mL¦ژ\\x10\\xadث\\x16\\x19<£غكN@”06«$±ï\\tŒچةش\\u200fو\\x14v‘h¢h´t8خ\\x1d‘kV\\x01‚ïE\"^çّؤpگگ§نڑئ7!e\\x1dsW 2u²ةn-A®A,œآ\\u200d`ZF‹\\x04ûy\\x10wآم\\x0e®\\x06§1}¬s•\\\\ڑ\"\\x11v²àj\\x00\"àu‚e6\\x00\\x14و\\'A\\x0e¹\\x06\\'M¤·نز$ب5ضJ³ت†A\\x17ءطl™\\xa0‹ƒ±ظ\\x0b€و\\x1e2Rف`\\x12q×ث9bü\\x08\\x1c\\x01ح=‚sژHL›U(غ{‚ic2ح[\\x18Œ\\x1eخ°ةچ\\u200d¯m\\x1a,ط\\x04¸Y¥v`O\\x00nL¦\\x1d=\\x12\\x1a(يـ2›\\x1f\\x1ap\\x007;\\x01nضU¶PE\"\\x1e\\'ى\\x08\\x0eâ\\x18Bµ\\t”u‚،„²Y¥J`O\\xa0lL&\\x1e\\x11\\x12\\x01M\\xad\\'ژU$”حت›ل\\x7f{\\x02ec2چق\\x1a\\x1e/ي4#آC«ى\\'2f4|ة\\x11\\x14,ُّح‰#(@\\x1a\\x1c®\\x06ئ†إQدï\\u200cإ\\u200dôک‘ق}–é؛H6r‚_\\x03ïژد\\x06أ \\x17‹\\x07A.\\x07e³\\x13تf•\\x12\\x12“\\x08g\\xa0`j\\x06gب,مك×°ں,™A\\'\\x13تfص؛‘\\x04توj½Mب\\x1bؤچکfƒ\\n؟D‚پC³ظ‰f³\\n%ـ$âN–ْ\\x0b=½,؟Tg`{¾شo÷\\x1c„ح^\\x005·ي\\x168¸IؤتJرإ89¦¸µهG[½\\x13،/\\x07l³\\x17ئL}\\x04ظA%ہ6ضJم\\x07àRnكïb°\\nœà„كubeFC\\u200c\\\\G¾ثِك\\u200d`ـکLèw1ط&ً»N<حHYr\\x12µ„$\\x01¶ظ‹LسكRg)2~9ù~²dFتR–©\\xa0¶¯oN,\\x0c“j>\\xa0ڈFƒƒC¤\\x19\\\\ëî€m®د›ذ.كs†ء‘H\\xa0\\x11°\\n2b\\x02#ةâA\\x02چ\\x03¶ظ\\x0bn¦خKٌ$\\x13`\\x1bk¥فA\\x05p:\\x11‡s6|ج~ut\\x187;1nگٹأ\\x19’E\"\\\\\\x1d…qƒ\\x1d\\x07;•آ¸ء\\u200fzîT:¸›\\u200cp7ث!،¨\\x04îئZ©]ڈc¹`ب\\x08ù\\x06âژ\\x13ïànvآف,‚ک7‰¸؟ظtآàFz³\\'\\tqOoا},ج\\x1a\\x1bê€{ب8¹,d¬7[Q@RƒU†A9ة،îx’\\x05MS\\x1fAزô\\x12<œ\\u200c\\x017ںO»‘’Pٹًp>Mx»Yçh¶:ة©„ئY´‚£Hؤoپ\\u200eث÷¸t§ىe„’َخdگ9”œ\\u200c(9بq”پtYكّ\\x11¤کƒCژ?ِKu\\x0fِnd¨؟\\x1dW³@mî!#¼ù=پئ1™؛ت¼\\x18ـ\\x00eظ\\xa0¶2¤¬\\x13„%\\x1eخ¢e\\x1b\\t\\x1eخ.<\\x1cژگCWM°i&q}ں¤¶\\x13ژ%\\x1cخآU9ےِ\\x04\\x0eاdڑح\\x16\\x07ٹ\\xa07ا`—5‘zêگqv\"م,ZثQ$آپ,dœ%‚,طڈض1\\u200cلrى\\x0e$çْ¼î»@؟â¹ک€نX+µëQؤ\\x13\\x18#لهّ5?\\x0e$g\\'Hژ\\x00#ے™DـُlDم\\u200ebùرf9qڈù\\x1cHخNگœEk9\\x12گ\\x1ck%»_\\x14HNj؟x\\x12m\\x06ق\\x06ٌr\\x16-ëHًrvله|4أŒepN1ـ+ô«Œƒخظ\\t\\u200cس²ثK†Y\\x02\\u200cc\\xad4C=Œg\\tEا¯5=ء5£\\u200fî]رE\\x00ْ{\\x02\\u200cc2چقڑî èœw#C\\u200cىکKâه,آحك\\x13¼\\x1c“©ت\\x0eھ¦K;u2ْ¥é\\'ئfش³}dvرھچ\\x04$g\\x17HNKa)\\x1b(–\\tH-\\'—f¤l\\x1fژ\\x15ٍ\\x11V¼D©†گqd8\\u200eX;چ…ID\\n\\x01j\\x1b\\u200dق\\\\ں7\\x16Fê3L\"Z©M¦1îRG/2>^ëpp8×çچ²آب7‰XYخBUL•µسv²مگ\\x1d\\'ëFGؤُy«,Wْ›D¬,غہ‡¤جZ;UظV¦[\\x18\\x0e\\x07|s}ق*ثق؛Iؤت²÷8R–\\x0f\\x1f\\x03eا~âA´›Eت/L\"Vِغz\\x1b•\\x7fD.؛5ظv²;\"ئخلq\\x02qعNf\\x17ف$b½ظ9œè-…ژ^hلpہ7×ç\\xadق|hj\\x12±قى\\x11Nôو#IˆڈC\"‡\\x03¾¹>oُوèںIؤzkBj\\x10µ´&›qâه¦\\x1e\\'صf´rگل“JŒë›qہطdnEق\\x00،SبOd>Gâـ÷pہ7×çM\\x7f3]çںIؤ\\u200eMNà\\x1bë›\\x1f‚²&«éءJ5حO<\\x1c\\x1cخُyû\\x08²h\\x17شMّ\\x08Œأ\\x11جگ\\u200eNصع©‚>\\x1c\\u200fحُy«¨¬%…m\\x13+ت‰«[ن\\x19عڈ¶ژچ“1w8ü›ëَVoژٌ™D¬7YE„ا\\x18\\u200feي4ت&ـ“ألك\\\\ں·z³\\'n\\x12±قdüق\\x00Œًœd\\u200fح\\x07ذ“i\\x18\\u200fpP8×ç\\xadق²v\\x17nM¬7ظت÷!î‰\\u200eR3\\x11ا§—\\u200e†ؤAل\\x1c„آYنJ\\x02“ˆُ&م÷†ïâG>¬ةfVz\\x19،‡ƒآ¹>oْ[hù&\\x11ëMئ\\x0f\\x04\\x1f®ل±vڑ\\u200fnd¨“اîàqrqZee×W$beإ@\\x0e”•ٹ\\n_ظqôô èح\"\\x15\\x1b&\\x11+K،رّ¢)k²éن14\\u200cْ{\\x1cI=\\x08…³H\\x1d‡Iؤڈہ9;ڈٌ9فهـZ“يئu^_\\x0e@èط_$@خ\"ص\\x1d×7\\'{\\x13\\x01ن,Pسحt°&\\x1bol\\x0c0يك‚أت9\\n\\tç>3\\x10œ¾I„o،´RG\\x06.!Œ\\x1eپomج\\\\Dz8طœëَfâ\\nYك$âG`كR1EضNيْV†ْ{|2y\\x10 g‘ڑ\\x0f“ˆ•eكٍ\\x13nUتڈ¶z{[•“I3ط†\\x13 g‘ڑڈ#\\x01ب1™:N´گId\\x10\\x00Nکü\\x13„3ز»دنY¤\\x08ن(\\x08\\u200c¸؟ه\\x0cRف‡زNينw#Cƒcœمz\\x10\\ngyت¾ھHؤتتi£ذ“ى—Ze\\u200cœثم¤دŒz¶دنY¤ٹâْوlٌc{‰r1ق\\x04\\nے¦•،\\u200duىeءصـثـS¼ك\"\\x11÷,—|„Gر\\x073r\\x00âت\\x18\\x1bا^\\x12ےf‘‚ٹ£Hؤڈ 9®؛yUèچ\\x17[?\\x1cزحُy³&¯²™*XڑPY%ف¬ءف©ِ£ح\\xa0\\x06\\x7flF‘;\\x1cèحُyû\\x08œSl\\x12ٌ#p|ُ%×LZ;UïV¦\\x1fك\\x0eéو(ü™{|¯â\\x01\\x17‰XY¶پ¯ٌ}\\x04e3%ذ›W‚ھp8ü›ëَ¶؟إ\\x19.°ڑّ\\x11¤à\\x1f•\\x02.ےئ~´éْو \\u200d؛\\x1e؟;(ù8ˆ\\x7f³Hة‡Iؤz\\x7f[o\\x03°ٌ\\x0eJP8©\\x1d”Cإ9ˆٹ³,œهb\\x12ٌ#°‘|\\n²شع©\\u200eفتP\\x7f;F’¨8ثآéإp\\x0f§×.کL³c\\x1dWûغPç\\x00l{\\'*éيّ—„آY¤\\x10ن(\\x12q\\'³½ؤ\\u200cخرّ–جWwSr‚h\\x06v\\u200dP8‹ش„\\x1c\\t\\x14ژة4\\u200e\\x1d]» âغ³Y6©؟\\x1d{ITœEjB\\x10\\x01KŒ\\x13¶—Z[aي4‹ˆاq„؟<^D\\x08…³,\\x12™*\\x12لà\\x10\\x14\\x0eئtà†\\t\\x15ç³جس\\u200f\\x0f‡ٹs}ق¬كRfa\\x12ٌ#°½\\x04m\\'\\x18ك\\x02بپ¸s0r2i\\x06م›\\x009è1J+:\\x12€\\x1c“©م{¢·ن¸ْz;\\u200ddءضـ&_®ç8ٹDـك‚Zچû›\\x0f,ƒ\\u200fvى%±r–‡ى«ٹD¬7ظKشظKذ»´s؟\\x13\\\\و2دة9\\x1clخُy3¾هو\\x08“ˆُض\\x13بل\\x1eµط\\u200cBâi\\x1eء_Z\\x1c{I\\x04\\u200cه!ûھ\\x04Aç(2uچ\\x0b\\x11±\"ژ«$†çV\\u200eRîہt\\x10_ïj²\\x17)\\x1a1‰¸ë%ى:¾#ف؛\\u200dؤٌ\\x08خه\\x17‡أص¹>o‡Œ®êَJ\\x11k¥ézحz`®N\\nة{œ€›ر’طçï<ن>‰ë›\\x13×\\u200dٌ9غdبگ¥ح\\n\\x19\\x07¼s\\x10xçء\\x17\\x03ے3‰pب0x§أ\\x15•qآ2¸¥&\\x11¯:\\t8ƒ®\\'\\x06دC*Eژ\"\\x11ëح\\x01ضا¸\\x1aخ\\x1eپؤq±‘\\x17\\x1f<\\t8#½/ƒfضè!•\"G\\x02اc2\\xad\\x15\\nٹ\\u200fD\\x1c×ےخ‹\\u200f\\x0e\\x07اs}^gëCٹFL\"îz1¨‚ى²vêŒF}·³kq\\x18<G!ىش\\u200f–¥%ءà±Vj\\x7f\\x1fRV.2¸i/±”;P\\u200d£ wھق\\x12ˆK@y¬•ض\\x1aIش°´سکN¯¬üpً;×çحˆگê\\x0f“ˆGD”¼c3گd°~{\\t>\\'Dg4\\x03{#ùگêڈ#پك1™¦gأأ¨زdسة™أ¨\\x13‹3z„>×ç!5!G\\x02جc2ح#\\x0cf Er“‹¶مj\\x12£ç!\\x17N\\x1c\\tFڈة´]/[Zوّàض+‡£~8`\\u200dëَvPث~0\\x01و±V\\x1aںW“7\\x18ج\\x03_!a\\x19\\x1d0دA`\\x1el&طOK€y¬•Fo©¼\\x11\\x19شMz“رAً\\x1c„àyp-ُ?“\\x08WژزJ£ى+:\\x19fqہBç·¨\\x1c\\'Hg0\\x19\\tءَگٍڈë›“M`i¥>آ;؛—ءڑ¬ë‰#قû\\n\\'\\x0bgô\\x08—“x\\x1b\\x1b¹ZâHذxL¦>آGCّLم\\x01Kd^¬u8`\\u200dëَfٹتص\\x12&\\x11ڈ\\x1ev5ڈ0نئŒ\\x1eنض»£قq5‰ر#\\tد\\x18ُ‰ذl‘©c\\x00^;\\x1f\\t²\\x0c\\x12خœJ¾مؤâŒ\\x06\\x07ظK)ے¸¾9\\x1bكى%.\\x1c‡ù±vî\\x07Bآ£—لè€yگ‰عyہ\\x0f)ے0‰xD°صأaE\\x10\\\\c0\\x0f²\\x08ف\\x11لXئآب©3P¶{\\t0\\x0fruûأ\\x11$\\nٍح„\"ƒ|®ؤ\\x0ctہ<HŒëû[nژ0‰°؟\\x19؛ƒkP$sچepj<؟Bêp\\x18=×çحت،E!\\tFڈµRgàK\\x0f‰™رs¼2i\\x1a\\x0e£ç Fڈ`ژے™Dـك\\x14Uي\\x0cwظi3£\\x07‘[oP;Œ\\u200dƒ\\x18=ً÷y\\'R$beةQـq\\xadD\\x10¬gF\\x0f<µج8q‚°ؤèyب½\\x0cG‚رc2uœàB´è\\x11(f\\x0bG2±?q\\x18=G!çـK\\x0bçچ`ب\\\\\\x060~\\x0bd$\\x01´\\x08\\x1fپؤ“ڈàطثآـ©ڈ «c‚ـs0¹\\x07ّ\\x19q†Yوp\\x19k‡Cî¹>o–\\x16-ؤ(T\\u200d¸؟ظ^â²M6îL÷ء‹ôى¥أèءمُë7_ف‡ء‘ˆ¼2t\\x07ـ\\x03U–lêرتôغT\\x07جs\\x10کç!W4کDـ³d$‘ہ\\xadئ¦“ùü÷X\\x12÷\\x15\\x1e\\x0eچçْ¼\\x1d\\x11’t’\\xa0ٌX+uw„{n‚E¤\\x07َà\\x11\\x1cٌ¾ë\\x1d0دA`\\u200d\\x07ك£ùد$آ®gز\\x0er\\x18¥’،—ùê\\u200c±—\\x0eک\\x07ث\\x0eچoq†‹D¬7ظK$¸Fi»¥ةٍ¦¾ڈ°خéç°Sم#obô<نf‡ë›“\\u200e7CwàvIذ¤—ùژْLقْةآ\\x19ّ\\n\\x04وyبح\\x0eG\\x02جc2uشمF\\x1a^\\x07{\\x1a\\x0fôneh|;U–„àiمْ\\x17HàH xL¦Qv|Ghظbُ\\x08\\u200d¯ق©Uئ1’„ày4\\x07هِ\\x08\\t§²´ز<‚ضeô2_½ف؛Œ\\x13€3\\x1a\\x1cنTj:}\\x02ء\\x03\\x13زû;H›’±ر‰œ}ىœ œü›‘ھd\"5\\x13=\\x01à9ک®ƒؤھ¨ ´\\x17?‡´\\x17؟<ù7#½épR0َG‚ہc2يگ–.fcظ¼…~ِ9ذ\\u200cƒ\\xa0;\\x18Oى($\\xa0;ضJض@ِŒ\\u200d¬پt\\xa0;Gلكـ[TMIO@w¬•و\\x11¸³{خخWkg8;”\\x1d\\x04«z‹¨éèE\"´ˆŒحپ9‰jنzٌس²x\\x07y\\x0eeç تخc•tئ\\x04eاZiBL\\x1aièر:_e3‘\\x06\\x07\\xads\\x10Zç!گy“ˆû›]B\\x14h\\x04\\x11©\\u200d²َ}\\x04w…vذ:\\x07،u°}”9™p\\x1b™•ƒ¢\\x7fٌ¹z\\x19(غتذ\\x02âط¾B¹¹g\\x1f“ط\\u200f\\x1d\\t\\u200dژةشءپچ[شةفYنWïض%ِ<±“q3X®‰²ƒm¯ô÷eتâqآ\\x16Qبْ?¸°¤µڑçِ´yLw=q*F\\n\\x06§v½\\x1c°\\'€;\\x07أt\\x10m\\x12\\x0f²—پق\\xad\\x0cچ\\x13\\'جZP9UY\\t$$€;p؛hغ±چَهت6¯\\x17‡قخإCف#|“9‡\\u200f@ùGمNJ\\x16ْ-\\x12\\n•[¨\\x0ewTcûأ\\u200cهٌ\\x1cگ\\x1f\\x1b\\x1fبژ¯خ*ےh•çeü\\x16™(ك¥â|W8ٌ\\x0bî–nG\\x0c9ظچ•rF:¾ِ5‘:Eث?Zه\\x19ôp‹L”ïüةïHوŒ‰ں»¥ھ<„¦U:ّعطچ,ےh•gWّ\\x16™(كإc،¼ق\\x08w·T•‡PFùq\\x18\\x16ي]ِï\\u200d¸’÷}‹L”ïىèç؟ه±\\x05i¥w£÷s¬Nظ4دف±›‰ِْ2ث‡$\\x7fك\"“çèâ«x\\x0eP\\x07k0ˆ—خ»رْ\\x1c-]‘•\\x1f\\x1bY4r\\x19¼û%\\x08ي\\u200e\\x16™(O†\\x13%\\x1eA¹عفh£¼—ـ\\x0bظqUIùG3ü…\\u200f~‹L”\\'ë\\tهظé¼[j5\\u200dG€ًµ±چ-ےh•ç\\\\ً[d¢|\\x17„\\u200e\\x0e›vغخg…w£حsxl\\x0bبژmnùG«<ïln‘‰ٍنg.k\\x04U½\\x1b\\xadت¯©5ب،ü,ک«½ç$\\tâ·Hü\\x1c=è\\x07/Aû\\u200cE¼£7ü¢gh\\x0bة§NVقê”ïئqأ[¨®نk{^¬+Mùف¦×½\\x0c=´ي\\x19عَ\\x1f÷گù†¹i3\\\\¾;U\\u200d\\x0cي¢\\x1cا»¥Fمٌ5<´L:ذ\\x1f´w\\x19بزَP^·8Ed2Nبذ.kl«z\\x06ذç؟um—Uا\\x1fپ؛\\u200dح-Œںْ\\x1c؛غI`€ت\\x0fـ%›كٌ>y\\x0e²رظçًlnO\\x05آû`O\\x16*خ]ظ[¨\\u200c\\tأE\\u200eعِ«<\\u200dc~;\\x0f¾و™كَ\\x1fي¤à(YùîtR°ùu.p¾ںƒن×u|I\\x0eد\\x0fد\\x12÷\\x00!¼\\x0fفˆ&\\x08BxX¶ؤدgPâ©ٍëَظـ\\x7fèد\\x0fد(÷l!<\\x07{¾ّةùلé-Tاصَ\\x19T#ھ<\\u200dأ©هƒ¬g”{ھ\\x10”\\x1fک‡yظgùپvrأ)ڈœبٍ»u±}چQ\\x054ک\\x1c²\\x10*œ:£üD¼Z,E\\x11‰\\x17غ\\x1e.„Eê\\x13ف”sےn}ژڈw‰\\x1cd=\\x1bفC…\\xa0¼®LEd¢<9أ‹م*عŒî1D°\\x14/Pô\\x07$%~\\t\\u200d¹>‰Cحت$ذ|ôءe‰\\'دء~1ٍہ¢ءT\\x1amVنD¤\\x16؛x.r\\x0f\\x1dآûذ\\u200cj\\x11™<\\x07¥,پً¢\\x1b¥\\x1e6ô\\nأ%nخپٍ\\u200d¹îةCP^حC\\x02=T~\\xa0!,\\x0cزdTبد“پ¬gک\\x0b\\tèق`H¦zùîج\\xa01QhاµUtnr·Tئتû?”خW!\\x1eè\\u200d\\tîءCO$غéj3?d…2Rئ2YmH\\x1e\\x0cض9¯\\x14?م™àB\\n؛{^\\x00قه»س\\u200d§p3î„\\x1dô<§2EK¥gl{0\\x11z^يU‚L„ا¢4¤ح¹âى^*9\\x158\\x1a6\\u200d±ي‘DOaê\\u200fƒ^\\x19c+ہ!‡fr+دùہگ÷\"¶\\x0e،\\x08eذda%Uِ\\x16‰\\x17E†\\x14!\\x12«c……°—pg©\\x03$‚:فصشènچ–\\x14‘‰ئجX€پژجQiô^bP\\x01èTBCGد–ِ„\"(¯6(پ(*?ذ‚rfت3i!Rق3\\xa0…<t¯+\\x1fµA\\t8\\x11”çâذ™ٍŒ[ˆ”÷\\x0ch\\x0f(Bدëâ^D&أ¦َ_كے}fت“|8l<[ع£‰\\xa0¼:#Ed¢<أ‰fتKٌL0و=³ع£ٹ\\u200d¨L\\x14³ڑ`\\x15aطگ™œِ<ة‡=ïظز\\u200dW\\x04ه5L’\\x00\\x16Ay2“SهظِFcق3«=´\\x08ت«\\x07’\\xa0\\x16Ay2“Sهظ\\x0cGت{fµ\\'\\x17Aùء:ں1«¥\\u200c{ف\\u200d*Of5\\x1a6\\x0eبhyô$#(¯ë|\\x02et·“V^`FAد;\\x08#ü(Yط·®6E$^m\\x18K4ëyء\\x18Eت{\\x16¶\\x07\\x19،çu+™ \\x19،\\x13بbN•ے……=‘D£#è\\u200dfô\\x04`D–ت\\x04خ\\x08تےزآ²|8و=\\x0bغ#چ\\xa0¼®َ\\t¦\\x11”ے¥…eùPyدآ\\x16ؤذ½·\\x11H;ôت„‘\\x19U4\\x1d6؟°°\\'}h8l؛£[ôü`µة8®Œ7ڑ*ے\\x0b\\x0bëPچذ\\xad]²0”×]e\\x11™¬6؟´°¥رش~قA\\x1bAù.}\\x18تë®²ˆL”ے¥…eزQ8و=\\x0b[ذD÷ک\\x17ڑ5\\u200d/ca\\x19q4\\x1d6؟°°\\x0eظ\\x08¼4r\\\\\\x05i}‹ؤ=دà¢™ٍ\\x02C\\nŒ”ƒ7‚fda9³\\x1d!ƒ\\x04àè\\x16Jo\\x0fJ£©1ï0ژً£]ژٌ\\x13`W1R\\tترفN^ù_XX‡n„\\x1f¥م[IF؟E&أو—\\x16¶ün®ç=\\x0bغمژذَ؛·Iًژً„؟´°,\\x1f\\xad6\\x0eٍ\\x08?ع%Gپdھ{›\\x04ôèn\\'?l~aa\\x1d\\x04\\x12~”,¬ن§ك\"“aَK\\x1f¶ünnطx>lء\\x13فë¼$©Cùyٌِ-”ïù_ّ°\\x0e\\x0c\\t?J\\x16V2صo‘Iدےزآ–كحُ¼ga{$\\x12ئ¼îm\\x12L$<!Yج©‘ْ……u\\x08Iث£€‹ê°ر½M‚‘t·“\\x1e6\\x0cLٹV\\x1b\\x07“„\\x1f%\\x0b»ھ\\x0f›\\x00%في´ت3†E…\\xa0±أaپ¬ç¸ِ°$Œ\\x15]ـ‹H<ذ™\\x7f„±2ذXm©¯±\\x17\\x0fîظHOT\\tةF\\xa0ˆL4V[:ذXƒہ¾ئ\\u200d\\x01-€¢{H\\x0bإ\\x1bïç²چ\\x13چص€\\x0e4&،pTx~iل\\x11Uچ5\\nVD&\\x1akنw\\xa0±ڑJ؟ڈ½poڈ?آ¨ذيa‚\\x7f„\\x17،¦r\\xa0±z\\xa0¾ئ\\u200d}<ظHM‚أ¢«t\\x11™ô±z\\xa0\\x03چص(ْ\\x1a{پف\\x1e„„>\\x1e,ح™ن$f\\x1bچ×\\nچوْ\\x1a{–°G !•k°Vd|M† چ5Vَçjى°ڈP:@\\x0e¦گإo‘xT0عh¨1\\x0bEk…C=‚:dَ\\x06\\x19ü\\tîرفNlَک|\\x14jىظ¼\\x1ex„Q،\\x07\\x14Edزا\\x1a¬ص™اج£Pcدوُش#h¬ëq\\x02{„>V›§çه,”‚خ¢mدüُ¼#(¯›¢\\x04ً¨ü@{ْ<J\\x0c)-ص\\ntگ\\x18âذچًKن4>tS”à\\x1bفيش!=شکح_¤±g\\u200fzڑر7\\x07U6E\\tœ\\x114fَ×^¤f) ,´¹·\\xad،Aدü\\x15ذگm1ِAF{‚iT~\\xa0\\x19\\x15¸\\x11–!$*ôi…(Qثء\\x1a}«؛عZ\\nôٌ`\\x12fج\\x1f“چق{Tw}ےn\\x1dEگ÷2n\\x1cج\\x11\\x1a¹ŒSيnف\\x1f\\x15‘ةڑGFîچƒُ(\\x7f¥4ع¬ê\\x1eO\\n`F¯:µp‡ھٍ؛UJذژت\\x0ftcE*اU\\x08W‘\\x0fS§iط8”#´×غا}گڑ^Dâ\\u200dgذ\\x11z>`ضف؟غِü0سˆںأ³ڑ=ِ\\x08أ_—ٌ\\x04÷\\x08z‘ص\\x04eVm\\x10\\x0b}Z!ضط³ڑ=هè¹\\x0b•\\x1bت\\\\\\x06qزَd5ك\\x1ff\\x01\\xa0´–aHںVˆ5ِLeد7‚ئڑ÷‘\\x00\\x1cA\\x19r\\x02ك¯ء¢بBں×k~E\\x0bعِœئ\\u200dw\\x04هu[•\\x00\\x1e•\\x1fhg)ٹ\\x11¢%¦G\\x1e!7\\nٍقْxb†F‡™=é\\x08تëâ^D&c…\\x0cèû\\x11\\x11صً°lp\\x11\\nH\\x145;\\x0c$´×ںkîƒtَ\\x04\\x05énç^=^’4ّ\\x1dَنU¾ءگNنü;T$´G\\x16Vبف·بن%گïّ^\"0زفh]*\\x1dy\\u200dئ\\u200dغY H·½\\x12|7~2مv\\x16،[/ـaھ\\x0e\\x06\\x0b}ق©آ\\x0b‡›„+¸z\\x0ftكt+™ \\'فيTه·ء:ك\\x03“0w[!ên\\x07“„_\"\\x0bث…\\x118×L€’n،ھ1à—’َكأ’¾™ک~\\u200f³أKآ/ُ‡™»ہرo‘x\\xa032é#\\x10EجR\\x16عp–ڑک¥\\x0e4\\tيُ‡™»ہ»o‘‰ٍىŒ:ِاـژ\\u200d،ô\\u200foƒQK,•\\x0eD\\tJ^Fٍ\\u200d¥آُ¾E&دAئ\\x16W\\x10iُuOO‚ٍ\\xad\\x10\\x0ftدآِü¤ç>(\\x15)\"\\x13چ9,‹¢÷بآ2q\\t%\\x19ndë„\"چ,lدS‚ٍ؛\\x7fL\\x00•ًNطbnƒْ\\x10\\x16عZ!înدEيٌIذXأ\\x00Edزف\\x1c|E\\t¥®+$„\\x0bَü>ِ\"´=8\\t÷»ê\\u200f1ANB\\x1fsًuإaà\\xa0کï\\u200dڑ$؟¯8ا»ےـJز“b4\\x1c+ن\\xad\\nهû{·وéچOz\\u200dC²/¹)هné^ِSW¥|oë\\x1c\\x13}®\\x7fشہ\\u200f®¥\"&\\x12*oB5”ُ–»\\x18ٹ\\x16meف»-@ِF\\x10jl=هة–j©بُفI\\x15—\\tµت3¤\\nتَفgo·ê\\x18صL\\u200dئdKµ>نْîTc>œ|\\x7f‡ئ\\u200eا\\x13ض\\x1a\\xadأو\\u200c¸ء\\x15\"ژ·z\\u200e£\\x1d6²عکبdطً‘هK¨¼E‹vط¼p“î´Z\\x17™yقK [*€rüن%2Q\\u200dléِز-کµشLXw\\x0b†$\\x06Oم>ئ»k}بُفé°لً\\xads\\x11{Y*\\xadرFyï\\u200f9t™\\x13î½\\u200fرŒ\\x15\\xad\\x0f1‘IwَAوS‹ٹ\\xad¥ھq+شغRؤ\\x19½î&؟T‹B®ïN»›m)ک·:5ظ–>3~)œ2OyٍK…TژW•ˆüڑP]\\x14‡S“mirj:خ(\\x16±>l\\u200e–S[\\x13™Œ\\x15¶¥â\\x1bY;ح’èؤaذ_NW÷@¤ç®U ×wgم¤§\\x1d}\\u200c…eˆ#°iةٍط\\x04$àr¸+ـ{\\x0e²£Z\\x10r}wْ\\x1cd\"ٌ\\x1cج*GClG3—½ل[\\u200dI%Tز®\\x05!×w§ت³Iإ\\x1d®2YثڈصAس\\nرٍâٌ‘\\x16â#ي/‰=ڑH<ب{ق\\x11†ح6ئصكأ†Œ-¢%\\x1e؟rٌ\\xa0H×?ڑصü%±G\\x13™(Oئsا×\\x02·خ\\x1a½{\\u200fہ\\'î„ُى(‘گpï\\x1dں<.\\x19\\x12’\\t5VFأE\"\\x048»\\x17ê\\x05—س›ڑ}Vي®¥\\x1f×w§£›Œ\\'¼-ٌû\\xad¥عا\\xad\\x10ڈnدx\\x12ف\\x08W+i\\x1f\\'Riپ\\x15<MAيمAPW„ہ¶ٍG…g1‰c´³çٍ\\x0f«Oئb\\x16،ع}O¹_çn©\\x08}ءِقm³گُج$ء‹ہûذ>N¸œ×\\x0f4ً\"Lہ(¶\"ٍ_@¢7\\t=bرBؤ¢ِ€ّ؛§\\x01ëُ\\x15ضچWگ\\u200dX\\x04\\xa0\\th$‘\\x0fؤ„#\\\\ُ=؟U\\n؛xV“àE¸fK^B\\x06^t\\u200e@مق\\x00E%°\\x1c\\x12ْ²‡q\\x02}ےy$_ـأç¬+D,ع\\x05×ڈ\\x07؟\\x0câن%گص\\x04\\x04LM>cٹ\\x10ل\\u200dكï\\n\\x05<ï“0E@ءhد\\'خJ¯\\x1fèz\\u200d/\\x03ّ)Z´sنً\\u200e~ڈM´\\x10›\\x08°\\x1bص8مr–vê\\x12\\x03OX6)½ذw¬Œ¹p´¢{ک¢…0E¸œP•O\\x14~Z;چٍ¼yّvwç¢~•oŒ4kىYMآ\\x14ي‚أاï\\\\\\x06q2؛ةjâR\\x009\\u200f·–êٹ\\x0e،جشô\\x0c(±‰v\\x01لCùŒ\\x01-BMwث=_wK\\xadٍ‰`(0¢ق؛Bق§–s\\\\ك\\u200cيW\\x18S„‹+\\x06=كyںç@O\\x1c\\x16-\\'Eh\\x10ة½\\u200fرىmùئgl\\x042ک\"\\x13ھ=؟·pêء„ي¼ص/Q<\\x03`]<bرُڈِ9نôآDâلد0\"شqjü¢\\x17:qè‰“®إƒ\\x17]ےh”_tµةہ‹¬\\u200cو%´ًQ}\\t=¼èû\\x1c\\nـ´I\\x03¥5بم\\x18-ؤ1آU´²jf8FضN3چ\\x07غƒزR3چSغƒ\\x1334ڑ\\tؤ1عµ\\ndةpŒL¨y\\tzڑDBك\\u200dO…3N\\x16رPyٹï.؛1ثpŒ–\"شô|\\x1cdïهدû!°A¶?ï`i9±Dأç\\xa0¨¯–‰\\\\ك\\u200c\\xad¥…{T\\x07ا\\x1b\\x19–ءa\\x01ث/o\\x7f—\\x7f\\x12‡†ت“مھ\\x17\\x16àJ\\u200dù©ک\\tUه÷0“PنqwQئ\\xa0\\u200cً،لsP,X/,X2t#\\x13ت?Gç\\u200f‚اڑ|\\x0eد0\\x13è\\x08\\x06I—£Œ“غƒژخeR\\n3\\x0bAùج–èن\\x10\\n_\\x02……µذ\\x04\\x17ذd\\x06“\\x18عءِ¹§!}{>µ}ِ@G\\x08kُ1m\\xad91‘ط\\x1a÷à\"ô<خ›dïدB\\x0b„\\x12kگ\\x07:Z\\x08t´?4b–\\x01\\x1dY;uّ\\x0f•ïBأèù¤ٍ\\u200d“K\\xa0£]/,X2\\xa0#\\x13ھت\\x7fعل¬Gإ=\\x18éثRn“کـˆ‰ا<Zˆy´7wقYؤ$أ<²vٍدر\\x05Œَدٌµ؟£iLّ#dچب\\x1a”ء\\x1f-=خ\\x083ل3قھYà›ه‘1ظط?7ïà\\x04\\x15\\nںƒ\\x0c³–ـ,\\x19\\x12’\\tµï£خUî\\x1cّئ=9éû>rدل¹ة\\x05fdIe[s·ة=®26؛‡\"%قGçVçںأَک‰ڈ´é\\x05\\x07K†ڈdBù÷ء6:ù><\\x1bM¨¤M‹v\\x006Oک¹\\x1e}ô}\\x1f\\x033اB\\x0b„\\x12a‹“d4œ\\x14½چnد–îء”±ر=*\\tت؟\\x07اü,´@(،¼‡Jآ\\x0e·³رغ!E;&\\x12غè\\x1e}ôU\\x1e\\t–ءV›هq\\x15{ئ\\\\{ش¤…¨I›قj`\"“ç K\\x0c4MT9eچق3\\x07×إ\\x0f]\\x0cr\\u200d=€زB\\x00¥Mo50‘ةstلéïû\\x18„‘تڈ5ت·5\\x1cnlف\\x03(-\\x04Pع´”اD&ت“ùE*tü\\x12ط\\\\؟3WK,\\'؛h4£‰¥´iپدُف™ےظ³‘¾\\x1b×رKèخƒ؟{؟q!\\nڈ ï¨—XJ›\\x16ّ`Œ&ضز\"شl\\\\أىRk´\\x0e¦ Cہc)a\\x15è—#½تہD&#ˆ\\x0cيc›Œ 6ج[n\\x04y†™°J›^p€…;َ\\x12بذ\"@ھNgi©ِ<„26ء³ئ„Uع´ہg)\"“— Qê±3l»ص\\x1e«„™ذ\\x1e:ًً÷Nˆ\\t«\\x04ë([ي\\x0cVié±JçqLp%0r\\x1eبأ^\\x0eن&حs5=آزB„¥mس\\\\™\\x0caةعi\\x02¤م#H{\\t=aéû\\x12–Œaِ`K\\x0bء–6خ\\x14إرB\\x06¶dBM\\x18)¬\\x16\\x13ù\\x05ظF™÷ل¹ش„`ع´\\u200dfة کL(\\x1d\\x0eë‘Mépط\\tW\\x1aظ6\\x023mZOƒ\\u200epbe*Bحs´ٌ\\x16M±aùىûً\\\\jآ5mZe\\x03\\'1َ\\x1cd~Qù<P\\u200dm4„\\x12+ىI_\\x1a¾„قڈF™‘,R\\x19r\\x13آ+mھذw‘\\x1aں~ـ“›نqـگظ\\xad\\u200d¸¥لsگ¹ض\\x1bB–\\x0cدة„ڑEJâ{=ٍé».5\\x11\\x03ے”ê„3\\nUïأغ›\\x16لàتèجّ\\x11\\x0b=Y—$¼\\u200cتz>iLأçèد\\u200c7-آء…f™ç`cيœ\\x02قC‰ن1ں3،¥“ر4|\\x0eٍ¢\\x07ُ8…ï\\x14o:z\\x08شy¤¬ظ¬,´\\xa0\\x0c>\\x11,ِxP°گ\\u200e¶U/\\x101‘Xù\\x1eُt\\x1e¤…^4ث\\'چµG‰Zˆ\\x12µé]\"&2y\\x0eژg?¹p\\x03A½\\u200d\\x12…»è ”y\\t\\u200d…&`شِر\\u200c_\\x06\\x18µô,(¬4(\\x19’هˆ…ض\\\\]رIm\\x1a\\n\\x7fbGmƒزœ\\x0c;\\nخco\\x11°ك\\x08]g–_?)ااأHلà¢ں\\tƒ‚\\u200c\\x0cFتعi¼ةٍِaMbè‰R\\x18Lط\\x10d\\x06“çE\\x13\\\\jس\\x1bFpûwbY-Bùç \\x0b\\u200c}\\x0e/زMب©M/\\x1bY2ب)\\x13j\\u200d#>yèéSك÷‘2\\x0f\\x1eˆ\\n÷ؤس¸ز8e\\x06Deي4¾2\\'ُ}W&²ر+2ے\\x12غ=ڈIµ\\x10“j\\x1b\\x14÷\\x14‘ة²J6\\x17ُ¾ڑ0غƒ«>ے=!”™\\t\\u200dCMLھmPë“aR-=c\\n#\\x02\\x19\\x0b؛¬’\\x17\\u200e„PByڈIµ\\x10“jس{GL$îùزخ=lضg\\\\´ءٍ¸¨7S¹éل©\\x16آSة\\x192¼è\\x0c\\u200dت„ês¼م\\xa0^ڈ³آ`\\x02)اث{?iP#غFLھmPِ“aR-=n\\n#è=H¹f،\\'„2#بK¹&<ص6(ûةà©گKر\\x1bوُچ›\\x1fƒ\\x03\\x12–Gد\\'.\\u200fؤ.\\x1c?3|\\tdک_z\\x04\\u200cپV]?ذd…¯¨ژ\\x1cُ¯ù\\t=؟\\n#(W(éٌ«گPس\\x1b‚—îٍ2ü*k§خ„×8^w?\\x07\\x19وçë•ظ`x(«…PVغ\\xa0ِ&ƒ²²vêsà²ùp\\\\Q¤û¹ژ7ˆ\\x14oُPV\\x0b،¬p«ھ„22(+k§y\\x0e1\\x0e=ب\\nCة=،ٍطUًَْر£×عکبؤ\\x1e°%ئx\\n{\\u200cنںxoî:êYb\\x02Vmz¹\\nھg\\x13{ز\\u200dE…u\\x14Gµعظl‰!”XG=`\\x15آ5شَ؛پث\\x00«¬\\u200c:N>م</›·=»\\nƒو“ٹ\\x03{\\x18+xطô\\x1cZه—ءXY;چ%\\x1e”àô\\x18«¯ù]3©\\n\\x1eرj!¢صئ?‰mD\\x11‰‡\\x7f\\x0f«ٍ¯‘؟_\\x02\\u200cF?qM½7ü=¢صBD«mPüTD&ت³%~\\x02”\\x14Xâ\\u200dh…—ًl¦\\x0b-“\\x1eئ\\n§A\\u200e°ر{VLd¢<E¢×Wث=Uo\\xa0\\'Z}حo\\x13سaه=gکˆV›ق³‚£؛ؤآس\\x13ھ0lPي\\x11ِ<غ\\\\شJ»أئَ€‰hµ\\nJ¢2D«¥‡U}\\u200eھ1أç\\x1eَdh_ڈئؤsد{çب\\x04·ع\\x06%Q\\x19¸صR„îصو‰Bû°çة\\x03~\\x05Eç\\'†j´ه$خص6(‰تp®–\\u200dsE\\x13ًîn²°/جزŒ½ٍŒm!Wف)‚zه\\nژw3c\\u200dيèˆ®PZ؛_\\x0fLZآيإ\\u200fs¼ظ؟\\u200fQK‰\\x10:مM™‰„«چ\\tصasŒ،„ه%ˆü\\x0bw\"د\\x0f]Wڈsu\\u200e£}\\x0eظ\\\\ڑبن9(\\x1e\\u200eآ\\x15پپسbچقد\\u200eئe‡™çpBسë‰إjںCJ¢Ldٍ\\x1cdG_kè´X£ُ9ض\\x06Jذ¯A«‡¼؛\\u200fر*/™\\x08&2Q\\u200dىîkه´غ\\x1fش؟“\\x10ئ[s\\x02âeگ¯\\x1eٍêْG«¼l;Md¢<ظ]x\\x7fحب\\x16»kچض\\u200d\\x7f5qFîyاî\"¼×o\\x1aô*\\x17\\x13™(Ovô\\x05nB\\x1dخ\\x03هI\\x1eى{o»\\x06„\\xa0·\\x06رظ°ضA]ك\\u200c$ر™P3\\x17غ\\x11!ژ‹بc\\x7f”(ث\\\\=&ضُڈv\\x04IہءD&/پL*\"iرظ\\u200d5z?÷çل\"بVڈ‰u\\u200e£Q^‹ںLd¢<YW„\\n£c%k´Q>g\\x08\\x1ck¼\\x12\\x1eKlè?¬\\x1c\\tklBيآ.…½\"ôء\\u200cظ£éBسط£e\\xadDث\\x02ظW¬q\\x11‰_BO؟ْü\\x07«\\x14¥¤ظï6/!“’¶z´¬ë\\x1fي`’’(\\x13™<\\x07YcD6ه€صZj”\\x7f&jJWڈ–u\\u200e£U^\\nAa\\\\M”g\\x13Œصˆƒ\\'ِcuکAh~€„\\x13\\x11g-%pض¦uP×wgki\\x0fخآ\\x08Zا5¢¶ںcyـ–0\\x0csٌLّ\\x1aثپG°\\u200dp\\xadْ\\x12°\\u200féL¸\\x0cين%گ5ئح\\tلZZ~·\\x0e¦WSAبت{ضک\\x18Z¸«K•Oxءki§ظ\\x1aL”\\'kŒ\\x1b êِ‘•÷¬ٌةظj{^w\\xa0Edزَنص¾_zثئZZj؛\\x1b§\\x04÷ں»‰;ءWأaس\\x1f\\u200fâ®\\x17يùD®ضع“µ0ü;ـ\\xa0îƒX\\u200fƒُس‰?¬\\'\\x03k¨|\\x1fr\\u200fhmسُفéـe\\x13ü½\\x06ô\\u200f\\x1b,\\xa0$ڈ4³DBٍê،·®\\x7f´#H\\x02ں&2\\x19Aن\\x10\\x03…<P\\u200d„>\\x10ڑ{َHتt\\x16\\x1eBo}ôZœë»³—ہ(-Tص\\x0cُ²\\x05”ه?¨يH8’\\x1ezk%ô\\x16.ـ‘™گAoY;ي¦Z²^E\\x08;éؤ‘×ê،·®\\x7f4#Ho=1‘x\\x041Uk¶\\x0fbyىç23ء£p\\xadDل’ëâ°\\x19-\"“ç`_\\x177\\x13ثV¢´ش؛\\x01©™à™`\\x02r}´2e-\"\\x13هة\\x04#ش#•)ضR³\\x0fتà\\x10V\\x0fبu\\u200e£\\x1dArˆm\"\\x13هظ!>؛ô$}\\tى\\x10û×‰¬\\'_kd\\x08ˆحُر\\x0bP®ïN× 6ء(½\\nb¹ضh\\x1dA(،ت¬¥NL\\x1açث]Tâ£×¢کبن%°CŒ<©ب\\xa0ُX¯د\\x7f\\x1fdàyضطأtل°›”×\\xadD\\x11™(دض\\x18!v\\x1d6l‚!”p\\x03<L×Z\\x18\\\\\\x16“ئ5<؛ْg¼àزN\\u200c–\\x08\\x07چô؛\\xadکZcw\\x1fن±¹ض‚ثھت«÷XDâ\\u200dgى\\x16î[ذ\\u200dg!l~\\x12Y@بêrِ\\x0f…‘U•×…\\'أو؛~\\xa0ة\\u200dءِY·\\u200c\\x0cنْ@(1a= ×J@.\\x14Zث°ة\\x00¹¬\\u200c:lâ²\\\\‘\\x07\\x0c$s\\x1aà±¹pa\\\\?wµعؤD&#ˆيnL5±Fë\\x02ڑ¢ڑ¬\\x1e¦ëْGcإ´ôؤD&دء^ً€v`-5تgh\\x07بإ÷fB\\x1f“\\u200fèص#×wgVŒY[ïO[—8ک\\x14ى\\x05cù÷V\\x7fڈحµ\\x16ًض=چُ\\x16\\x12\\x13™ô<›`\\\\ù\\x16™®ٍ»ُ% ¢\\u200d™ر\\u200d\\t.à\\xadْ\\x1cê‹eط\\\\k\\x11jft\\x1cضeùOٹv°\\u200dT¬ر–ˆط\\\\\\x1f\\xad7¹¾;\\x1dLlچكJˆ²–ڑ—ذئ]ـ¨„اوZ\\x0b.«¾„ء²ڑ±ئŒفz؟أ|\\x14ûفو9ـ|”صcs]ےhض ½›ؤDâ™ہط\\xad÷\\'¼&ظ\\x1am—£LDرأtلü³·\\tzc‰‰L\\u200dƒcزN\\x1dŒm‰تï6د‘²ر\\' k4\\x13ˆط…‰%6:Cىآùîظ\\x1fuF\\x7f´xI„0ï2>¥‡éZ\\tسُر\"\\x13\\x13™¼\\x041جم4ˆû%گü\\x077+&¢+\\'\\x15kّ\\x12.ƒzدh½Afح`؛L¨y\\t!6Mن?¹\\n†‡éZ\\x0b.«>‡®L\\x19L—µس<اxإ¼ك‡طh?R}¢³†/،?7\\x06YJgآ%2\\x19Ll£q\\u200c|نن0ث\\x0b§³قچ\\në\\tص\\x1a*O¾±ض›\\\\ك\\u200c\\x19´Bيھ=؟ڈدOï\\u200d\\'_\\x1aپA×\\xa0\\u200cü«،ٍن\\x1bë•\\x1bk†آeBچپ\\nSزE\\x1eُQ\\x19\\x7fا\\x03rل¬،·\\tz\\x11‡‰LF\\x10»½کإQع\\x04³¹pK®—®ˆê\\x0fg\\x7fM@.\\x1c9بً/\"±ٍ\\x0cطآ<ز“n\\x16B\\x14,“+لQ¸PگC=¯\\x0bO\\x11™(Oضَّjسëص9(چق#\\x0eu^^z\\u200eê،·®\\x7f4[\"\\xadب0‘‰ٍd‚‘p\\x1e\\u200d\\x110…\\x0bُQأaFG}\\x1e…k%\\n\\x176d:‚\\x12„\\x0fk§Ncـٍ\\x1799هw›—0\\x0eھٍs|چîh9\"\\n×G¯\\x19Y‹بن}گ›ü9آؤ]k´>Gê\\x16\\tœŒ{دA\\x1e³–m\\\\ك\\u200cظ\\x04\\x06rmہ6†ïƒ¬ٌ¾¤ü\\x1dڈح…Tپ~r3ث\\x0cا\\x1eEdٍ>ب0#›a0£I\\x08è×ج™ح‰آ\\x1a\\x0e&2جzيثڑ\\x01r™P\\u200c\\x14G\\x1c´f6\\x17P£m*©\\x17ء8QXأç \\x1b\\xad÷©¬\\x196—\\t5دءQ($c2گ\\x0b|رL\\x14ُDa\\n•\\'أ¬÷©¬\\x196—\\t5ت+³G„¶£eِ¸†ظ\\x03r\\xad\\x04ن‚\\x7f(ثj\\x06بeي4تاGب\\x0cن\\x02¢3s„ى\\x01¹V\\x02r}´کأDâi\\\\عi\\u200dc\\\\hk[T–كRw!پGل,«\\x04نBj’¾ڈؤEN×\\x0f4!ù\\nُےr’أ\\x14.\\x14¢dز’=\\n×J\\x14®د A?Cل²vھ\\xadٹ/\\x13\\x14y<G¢.}=IZ£\\x19M\\x14®ڈقYr}wfغJ;ُ9عDُ{\\x04‘!ا\\x05A™|\\x04ڈآµ\\x16zضي&ëu\\x19&2™\\tdh\\x01ًش£pFuي\\x10J„€=ô\\x16j6{k¬wdکبDy¶ئ\\x00†F»\\nوpيغ¸ٍ•vy\\x1e‡k-گ\\xadْ\\x124/3أل²vê\\x08آ:\\x19\\u200cٹ—FoùàNذصƒo]ےh\\\\†A‚~\\x06¾eيTه÷گv#ٍûقàï¸ç½œê\\x02ءھ=¯\\u200df†¸µ2LkائA\\x17Pٍ¥\\x0f\\x08%†؟GـZ‰¸ُر‹1L$\\x1e\\u200fLذآ´lœ5ح‰byـ‰—ہJ®\\x1eqëْG3‚ôژ\\x0c\\x13™<\\x07yجœeˆف\\\\دغع€„ِvں\\'ـj´ـ\\x13b\\x0b%\\tbs3ˆ\\xad•éYط\\x14\\x0f؛؛َ£،/„2CئK¢&ؤ\\x16bإھ|ئ/fd\\x16<€لJnf«—ے>\\x07nA\\x1cش\\x1bس¼ُ\\x10[ )ُ+؟قLb\"“!Cوô{س\\\\´ٍ÷ˆ-<اٌL=‡ç\\x17\\x13bë£—b¬\\x19ؤ–\\tف‹çq(#™„¾ت·/ءچ•\\u200d\\x18«لL َ«7a¬\\x19®–\\t\\x15ه،\\x17–سً%tوzû\\x0f—0\\x0e‹×y0y\\'ةؤصآٌ‰NٹLjuڈجآs<ُ\\x12q°جعأ)(\\x0f،جŒ\\u200fْ¼أ—ذ;أïAF~†«µِب¬¯ٍa]؛بمت=×ں<±WCه{gّ\\xadwگ j~ِ×d\\x1aw–ُ»¼èµ\\x11ضز=ج€8ث„ط=®\\x16âَف\\x1aôوط2bAE$V¾çd}•oël5,ؤٍ\\xa0w5\\'~î4ِ¸Z\\x00\\x10ذsèî3أص²vjے>عX©ع¶\\u200d«µ\\u200e‡j?×\\x1a{\\\\-PéHyح\\x02ةpµ¬\\u200cFùA,¨çj}5Nإ‚NŒصhّ\\x13Wë=ببدpµض\\u200d“…5\\x05Iشر\\x02تٍ¨8خ„S<®ضZّV¶‹~ےدظ¹eK®«J´Gkdْ\\u200c؟{œ\\u200f·é†ma£\\x08!Q·~“¥’¬\\x07\\x02ءD\\x0bڈکب`\\'Tعّ\\x1cGك»[sµخùبpm¦ˆ«uےً^DW\\xadya\"ƒqTئً©\\xa0ْقِ\\x02ëz\\x16\\x1fBçأطز\\x08¦5\\x11Lkm¤Ed`Zضخ»\\x13ً4ك]L¤چ\\x11ً\\u200dq§D0\\xad‰`Zxَ\\x15mœپiY;~\\x1cخ{ق8VI1c\\x1c\\x11[kٹطZ÷\\x0fn\\x055âغ\\x0b~k°‚ھ`.¬ \\x1fçm—êزز»l ”¸J\\\\è«وqDع¸\\x11ش\\u200dakM5[+ê<©l$¦e:\\x1f±µہ„ھ\\x15پضٹ0‘\\u200f—¯YYçقُ‰2؛lX¾·l\"\\xa0ضD@\\xadU\\x0b\\x12کب\\xa0َ•\\x05Œخ\\x07€>[A5[\\x0b\\x07h\\x00\\x00¤›tؤضڑˆ\\xadµjA\\x02\\x13\\x19Œƒج^dBwد\\xa0ڑإµےEh\\x1f\\x1eGd&\\x13fkفص-”ءlM56\\x0bكwkنù±\\x10P\\\\™·ï\\x08³5\\x11fkm„؛\\x17‘ء$گ6†#ط]L\\x1b;پنg‡لç\\x0f\\x1fظأDظZµ(ؤ”،l™ذ{4âu،§ؤj*\\x17\\x16\\x10¼ّ\\tےؤإأj\\x1d¥\\x04ـB!8Qb\\x19à\\x16ہ/µµ\\x08[¹ëرeùyw±é<\\t‘=Lہ\\xadUث\\x10€Z“°تjà\\x16Vے¨َ¤پ»\\u200cڈىa\\x02n\\xadچطü\\x0cpkھپ[gç»\\x15نE~ژچ™‹tص\\\\5¤€\\x1b،ù\\x19ق\\x16<R¼j\\x16چ{b،yoكَêU\\x03ïXغ\\x11qےà®>ZےءD؛اژ\\t½[·ل\\x17\\x15!t¾y¹مخ\\x07¹MَEكr\\u200c×ز\\x03&2è<)àءھ±Fںءئ«f¾ّYچUsےàû.L\\x06\\x13\\x19ô\\u200c•îق\\x05cX£¾ï‰بc \\x03£\\x05T§6!\\xad‚دجûo\\x07ï¨&ن\\x17P\\x13\\\\V.A\"ك›ƒSإ5çàض}ڈ\\x05¬!َّ…ç\\x1aِ\\u200cu.کب\\x1d½eچ؛9ب\\x10b€أڈئQاi\\xad\\x1a‚\\x7fےيp\\x1cd\\x01O{غO\\u200fج\\x01ةد¾J$oâ€ï\\x01Gjm\\x02h‰\\x01\\x13\\x19l\\x04Q؛\\x1aœe-¹/ں©ڈ0Gˆ\\xadû\\x07؟‹هتi\"ƒخ³\\x19غ\\x00\\x1b[KoçS`م9Blف?ّخKج«‰\\x0c:Of/ب®½ً>kô\\x1dاâyb‘+\\x14خ®hù“\\x02ض¸ûûo‡ثں\\x150HœفmLٍَز®aF;!¢mل\\x0c¨w‚†à›H\\x7f>jع\\x16.A³و”YKï$@¨•dہ\\u200cڈtٌإقr‹I«\\nہ¼\\x1b_?Mèص\\x03K7t]نç%\\x0c]ں#ؤض\\u200eƒï¼dx›بàث³2^؛´Nkشي„\\x0c\\xad\\x13\\x159‚\\u200c@´\\xadUَ î؟\\x1dي„ڑ\\u200duz\\x18ژ\\x1ehع\\x1auم\\x08)ظ(?\\x12u\\u200d´±&?ـ\\x7f;ى<kcD[uâi¬ر·َ‡‹\\x02له\\x1f©`Blپد$×\\xa0\"2XA¬Rg®‚ü?¼ظ‘ذ\\x02،±\\x0b\\x11ٌ\\x1eر—\\'\\x15¬•\\x10î؟\\x1d~yRء€¥w\\x0fذڑ¶µے-U²DنLں#عض\\u200eƒغئZ#ءD\\x06“ &\\xad†إYKد²YھثR¨إ\"ع\\x16ê*ش§؟&?کب\\xa0َ¤چgT\\x08ن\\xa0&kéي|UF0ٍ\\xa0د\\x11bë\\u200fء\\x7fy‰P1‘AçY¥\\x1eقs\"ق+kشچ#ôœج\\x11bë\\u200fءw^OےBأêw¾Ffء\\x1dصٍْ,„“صي‘ًثG\\\\\\xad™¸Z>që؛¦ے÷5‘Açة\\x06\\u200d«0\\x13\\x01EZ£ï—÷±+tjF\\\\-Tp،5¯7ذ\"2è<é]¼eةثµ\\u200egOڈپ_IDeح\\x11Lë\\u200fء-\\x1bMh0‘Aç«\\\\àَ\\x14ىF3Y£ï8–L4س|±±ZV0qµگآ(ھ+أص؛ےƒ\\'\\x1c\\x1dمط»\\\\\\x0c‘‡؟>âbج\\x11Wë\\u200fءO‚؛\\x1f®؟\\x1d©®\"نNَ.Wث\\u200fكw\\x12P\\x1e<،‚#ؤضLˆ\\xadUث%کب`1‘\\n^ھ`b=@ثےëئ\\x11و\\x0eد\\x17ئھ¹‚ê\\x14¥Uث%ـ\\x7f;œ\\x04ز»\\x0b\"؛Euص0\\xad\\u200eo\\xadآ¾م\\x034p=دؤصZ9!ç<@o•:ٍّ¤w—}ïqض\\xadQ؟‚آKCؤصآئ¯\\x0fذI¯\\u200cEdذyز»\\x0b^ Zض\\xa0y~j\\x0e×9\\tsئ‹\\x18!¶pàر8T\\x11d\\x10[ضژ»\\x0ftث>ˆ<â/ق8*زb\\x11b\\x0bq×uç9\\x0b\\x07+(ƒط2!§R96\\x1cwے\\x1a±…/\\x1f\\x14Nçخ\\x07ةH3!¶ض¯¼y™H\\x7f\\x05•vقهـgûY£ڈüِm“&x\\x1c‘éKˆ\\xadUSbگ¶’ً?\\x14!7ژn4“5êئ‘‰تڑ#ؤض\\u200eƒShڑ\\x1dc\"ƒù +xu±e\\x1f¦pںëٹنأbKs\\x04ط؛\\x7fً]—گD\\x13\\x19t\\u200cج[ش›ى¥o[£ï\\x14|ع\\x06?/¥ب\\x1c&ض\\x16¾œ\\\\ˆٹب`\\x1c¤‹×\\x0fOوùفI\\x08ءنح“—;\\x1f<\\x03د\\x04طZµn‚‰\\x0c:O؛ّ|Uê $¬رw\\x12|T<w>زإDصZ57f.\"ƒخ“.Fç]‚€ڑ\\x06¥Q×ù ءdژکZ÷\\x0fnٌk:Œ‰\\x0c؛Nڑ\\x18t¹^ى€5ê؟{َعAS\\x10لµàأ®•™&تکH\\x7f\\x1c5^\\x0bzjيB؟\\xadرw\\x1cˆ«\\x1d“×ç\\x08¯uےàçC\\x0f£Bآ\\x1aŒƒىb0خنUق\\u200f3×y\\x7f}ٹ\"ىçˆ©uےà;/ٌر&2è<ظإè|¯ع€5êا‘H›‡ث=p,\\x12^\\x0b\\x07\\xa0œ¤Ed0\\x0e2‘\\x11\\x1d%yھw/œ\\u200e‰G¨D\\u200d*ھلF\\u200c؟5âَ:¬‰2÷كژ¬ڑ\\x02قz?*ٹIô\\u200d•X\\x1e\\t•،]\\x1cپ´f\\x02iء\\x01®_\\u200fV³ƒ/O؛\\x18×45\"ث\\x7fِŒpے؛Rë|ًDZ·P¬ىs/Z*\\x01\\x15 \\x13\\x17¸ڑ†µےI¶\\x1c”.ثى\\x1f\\x17jأ\\x1dژ4m!]½\\x1dVںg\\x11\\x19|bض´G7‘\\x13ït×Wx×\\x13ن#u\\x15\\x11³à™¯ژyA,ءfة\\x10³Lè½.\\x1f\\n›¥´نzى\\x1fJمخG\\x0f¾„ةB]n]ـ‰\\x04$\\x14ô®؟$\\\\\\tف¸\\n–\\x07\\x08=cُFؤ,\\x14F§Iذc>Cج²vـ±فک„ڑکµےء_ه\\x12©B؟IDجBuْ؛َ‡؛\\n3ؤ,kçéü\\x01قWï¢Y\\x13³ِ؟\\x1fJèDث?\"f،\\x1a1u^ف†E¤؟wk\\x02ض\\u200fw€\\x00×{kdù\\x1fn¦مˆص9\"fف?¼\\x17\\x05\\x0f\\x0f3ï\\x7fپ[\\nئA\\n\\x16مh.\\x0eَےشؤ¬s\\x12ع\\x11®t–^ش«–\\x07‘ˆYx\\x07”\\x1d\\u200c!fحEè]L»{\\\\لغ\\x07\\x14\\x01ثgç#z\\x06.¤«G\\'hچٹ¹ˆ\\x0cوƒشîپ ـق\\u200c،&l]َ‘ZW‘2&bضآ\\x01ًP\\x0f\\x19b–\\t¹ùè{SJ£ڈ|v>\"\\x1d] Vï|¨)ںپgح5\\x0cëـç\\x1cdt.&RجظخGضpپX=\\u200c×œھ9Cج2!7\\tبTk¤ٌ?››¬çى8\"u]بXï8\\x1aڑ\"£®K;n\\x1cs“تےŒƒش{ٍگٹ8Z\\x08\\x06«•†\\x16±0‘\\u200fو®¹Xçbâ·~,&\\x16B=âPGGؤ,نCPڈُe»ˆ\\x0czLF0\\xa0-حنeûٍ51ë:ژ2vdDجڑ‰ک…P\\x0bQ\\x0fEd0\\x0e²‡\\x01«é:µjxض9ژ\\x10N;Gؤ¬û\\x07§£5-ةD\\x06\\u200c\\x17\\x1dفإ–Y£\\u200f,M¤xخ\\x111ë\\u200fءچC‹Xکب`\\x1c·]يڈ£& ٌYL$ك\\u200c„H1\\x131\\x0b\\x11ھ؛‚2ِp\\nأ:÷n•ّ/¯•,ں=ƒ\"إLً¬E³|گہ•°’k\\x18\\x16ئ±\\u200e؛\\x17W–ا$„ٌY\\x111k&bض¢Y>&2XA¤h\\x0fگDôث«6N-ےH\\x1b\\x17\\x1cض£إ´â\\x03R\\x003_\\u200d´+:¯\\x1e•ز’غ».7پ.ص\\x17إھu©&L\\x16à¼؛و3z·ئd\\u200ckإ?&©7\\u200cه{\\x1b6آdح„ةZ\\x1a¹=E¤؟Vjىص¸َ,كي|\\x14\\x0c]€UدZaں\\x19®دEdذyض»ƒ/د\\xa0¬nç£\\x17aBe-چŒ\\u200d\\x0c*k®QY×—ïْ=Y¾غùبمL¨¬E\\x0b: I%±K\\x19}…5كï<)çnçO…ضع°ؤاZ´ٹ\\x032و2\\u200cg\\n;êü?hط\\x0blصى|\\u200c„´4ٍx2P,نqصN9|y\\x17¦§§\\nثمثg\"±\">\\x16زWë;³se›K%أا²vœ_kî\\x15\\t\\x14ùî\\nٹى]‚b!\\u200e@ژü\"28xDأ؛صكً£0\\x1f«غùHأ\\x16کصsjrضتyjf4,C±àQش×\"\\x16آإ,ء„ƒء\\x19يف:\\x12\\x0be½ُثg”m!gùeسُI³|ٍ‚\\x19ٌ±°Fëهكبمةً±¬\\x1d?ژî\\x05“ùX½\\x15\\x14A±Pj™:¯ِn\\x06ٹeين;Oz؛غùHï\\x12\\x14\\x0baہ²‚2P¬™yWg\\x08}دwبٍظ\\x15\\x14©`âc!?]ا‘Qءج»آ8ڑ‘ٍf\\'²|v\\x1c‘6&>\\x16bتu\\x1c\\x19mج¼+Œ£؟\\x13\\u200fA\\x1bGP¬¹ہ©\\u200d³´‘زSDْٹ€!Wاضبھe،ى—ڈŒ\\\\‚b-چ<\\u200d\\x0c\\x14\\x0bYQ|•è\\x07’±|w\\x1bG*کHXب!صesk×ء—\\x17\\x15ـٍْbنئ\\x0eھ\\x08\\x7f…4•ْششٍ\\x18&2è±X¶\\xad\\x1e«s9c–Gّ+ ع¨َْ†ڑء_Y;îبGإ؟çںT7\\x17ùنڑڈHX8¢i\\x1c\\x1a*SDْ“ہd+lXُچ°\\x10:ںٌدF$¬™HXHظ•5_D\\x06\\u200c\\x17{·\\x1dLkG>“°²“\\x10©`\"a-چ”\\u200d\"2\\x18\\x07û™\\x030ر3\\x0e’ï\\x1d<\\x17xھe€\\x11\\u200fjرٍ\\x18s\\x06\\x7feBé\\u200cہ$¬nç#eKّ«Ekbج\\x19ü•\\tه;ے\\x0fتِآM5؟<™¾چü—\\x0cےjf\\u200dصQU\\x16nlc2•»_>R¶\\x04½Z\\x1aù/\\x19èصج\\x10+t¾›vحٍفخGت–\\xa0Wہ\\téء“Q¶\\x0c½\\x1av\\u200f\\x1fôîإ¤j.\\x1bز»Z‚\\x04Iک\\tw\\x0fC¯pنkع\\x14\\x0b%\\x1fu#ê\\x15tv\\xad¯\\x1aI/\\x19ê•µم6ىWچu¦^a\\xadDUٍ\\xa0´غ\\x16ْ\\u200eƒ{؟زL\\x17\\x13é\\x1eî&نzüéلND¾غùہ£¼\\x10êjرô\\x16\\x13\\x19t\\u200d5¬pسے‡èT5gمد\\x1dèزه\"_ùد-\\x173\\x13\\x19ôکui³اھ@م\\x1e\\x07†ër1®|ڈه\\nf\"ƒ\\x1eَCm³اê0ژ{\\x1chح¥ذ©\\x1e+O3ULdذcز‚HIï™¨ضhوyj‰¨U÷\\x0fîsk¦ٹ‰\\x0c:/\\x0eمAçUkئ_>ذڑ\\x0bQ«@\\u200faإc\"ƒخ‹‰ع\\x0eچ-7Ek4÷ه\\x03\\xad¹\\\\8+ےه%عخD\\x06\\u200c\\x17\\x13uذyصڑٌ—\\x0f¼ؤّزµâر\"\"&2è¼X«ZoـZت}îہ5¼\\\\à*ے¹إ±g\"ƒ\\x1eS<\\x13.)¢*\\xad¥Tڈ#\\x12صB$*\\x1cش²؛‹H؟اL¢Bڈإ’¶ے,×مH?\\x12~\\n*L{œہO-¥\\x1d¯ـ›پ”¶\\x1fY\\x1eربحèهْح~‰HT÷\\x0fïZء\\x05Pاqë؛ء—\\x17\\x0bôمـ,\\x12p`ے¯›„L@ï\\x12‘¨î\\x1fü8$قئD\\x06م`]:ذLL®آe+‘\\x04´DPھû\\x07?\\x0eٌو™ب`\\x1cھaûëٹن³م\\x08âںp_¬NMکڑ؛®\\x12ٌOضخ»?Zw\\x1bوSe;\\x1f)غآ‰²k\\x0eŒ|ي|\"èiaق”ز%D$غُHص^¬*؟~\\x1açRآ@]J;ùsIUmj\\x1fDZ—èTpWê\\x14$lص¥´م×ڈش,\\x15،ى$D\\nّآV¹Iàh±ے¾p\\x1cŒ\\nm\\x13ٍ\\u200co\\x12„\\x1eه \\x01ب±ظ\\x1aر©P9®ق¹ڑgc\"\\u200e\\x13ˆءSاتة\\t°üX(ùه#:صBtھYk³کب\\xa0َb¶¶3¯ىث—ے×ك)2ث?\\x02Uء)F“\\xa0\\'P\\x06Teي¸\\x15¤¥\\x05D(;\\t‘]{\\x11¬üٍ×ûg\\x11\\x19L‚طµZ®n)-\\u200eَ—?ُ]أI¶\\x10\\u200c\\n¯غrًdèTضخàثےے´nD§‚\\x17›–چ\\u200d\\u200f\\x19:•µ3è¼عµ©5\\x1fi]BRحZX\\x06O\\x0c‰S“\\x11S\\x07ٹ\\x03u^ض¬ر\\x7f^A‘\\n.ہ¨çِ\\xa05f–\"2X\\u200flي®فJiضè?ڈ#Rء\\x04ھٍہَ\\x12ک¶d@U&ن\\x16س`\\x1cٍb›؛RGج*<ھص›boœ¥\\x19mج\\x0c*¬«^\\x1eپ\\u200e؟ے:\\x1f\\x11³\\nڈœ4\\x0e=V3ج*k\\'=\\x1f¥ر\\x7f\\x1eGd:\\x13¾\\n‘×rآfًUà._كأ\\x1fR\\x0e\\x1a¬&\\'ثç^$\\x00;\\x0c4\\x05‘¬f\\xadBsےي€×`BùùPكsوـ½@S-چG$+d\\x15è|$â§@‘نùًة°ê‡aùنµ#\"Y-…(ُœ»ڑrc\"\\u200es—ةTطç.ہW\\x02‚\\xadر\\x7fق\\x1f‘é|ٌ®ـُI«\\x02-Ed0\\x0eِS\\x0fخ«زè?ڈ#زç„µB~ک®«Œ>gbصèـeùى؛ٹô9\\x11®گ\\x1c¨مبکش¥\\x1d·دµx(BدêM\\x04ے^¢j:€ـر!U{¯‘،©\\u200cدطرL¬:\\x10ءS·\\x04kژ…²\\u200cڈىè\\x0b~هwBCSd4wiا}y\\\\\\tم„dD^ٍ$ؤvt\\x04¶B\\x18j\\xad®5،بDْغکءVات\\x19\\x02ٍّ,”üٍ\\x11ح\\n\\x05\\u200f¨َê†جذ¬¬\\x1d÷ه—^R‚بw`\\x1b(Z\\x18¬ùë\\x07·l´<ح\\u200e·#إ\\\\عٌثFك?X(ûه#م™\\x10V nب†ح ¬\\x10ححع¸µlنQ8uعD\\x08«¥\\xa0¤\\x1e\\x15¬99&2Xَى½^\\x07ثFىèگر²D\\x08«û\\x07·l´¬‹‰\\x0c:/z—çًـ°b<§قq.گTë\\x12G4+p’tظd”-“ھpعب1د2Xٍ\\x11*`¹àQح\\x0eكٹîY*ڑ|sےيp“ٹ•ـ\\xad¢lچ؛[N†fژJ\\x11رaC\\nVَpî؟\\x1dژƒں‡W&:\\u200d«†McدY£\\'؟\\x0b\\x1eصüٍd\\x0fkئحRہSƒuخدأ@¨ُ´*س¬~\\x1e¹F\\u200cڈ\\x10VH0«\\x15“\\x16m1‘~ç™Nu,Jً·–قµ²´©8ـùبٍ%„\\x150ژ²I3\\x08«…‘Tè|\\x0f°\"ٍٍّ¯Cج½µَ8\"\\x05K4+°4u\\x1c™Gc،Y!}¶ç©\\x13ڑ\\x15vَ\\x18‚ڈ´ض`ï\\x16ھشs\\x06iئح\\u200e·£½ثtھ\\x031\\x06فq°عإ›î¸\\x16\\x16>N4ژ[\\u200e½مذأ?C³؛ے\\x03G´ؤ8„=*B?\\x0cvŒ\\x14[.bTë8\"„\\x15€م؛ک2/إŒ¤:àx\\x14ص%ـ*\\x1f~جث?2l\\tV\\x05²¾ِ8£k\\x19>uہ®ï\\x1d\\xa0\\x02«‚\\x0b,³ü#أ–`U¨™\\xa0مب\\x18¶\\x02«آ³^w\\x1clم&—\\x7f¤‚‰[…آ\\x15:ژŒچ[عyïûx>ىژƒµٌ|4©د¼®\"s—¸U¨ù،مبک»آ\\xad’–p•`،\\x1fj4%¶q\\x04«\\x02ى£VجZPؤDْٹY`U“ٍڈ\\xad¥W1Oہأ4\\x0czٍْ\\x11·j!n\\x15ٹ\\nة—دp«¬\\u200cw\\x05Mيjةِl,ـھة\\x17(ژ€7Kؤ\\xad؛\\x7fp&ج¤ٹ9أ\\xad²vـ8ü¥ZڈUلVM.\\x0b‘\\'!زئ\\x17ذتu^s+p\\u200e؛\\x16ظ`\\x05±ه;ڑ\\x04ضئةIˆ´ٌ\\x05´ٍمPُPD\\x06م`#xزھp@\\x1a‘«\\nB\\t\\u200cpa¢Zعک¸U¨:§;!£چ…[5ùآ·ْ\\x18 ـھةcè£B5(ن\\x1a\\\\‰ˆ[…¢‹:ژŒژ\\x16nصش>&ں\\x1dMٌص؟éغ||وM\\x11éhBX،ٍ¥ژ#££K;nGثفˆE<?كWًà®Gj™\\x00V(>ھ]د¨efS\\x1d_Oê—,µEXV_gعqç#]L,+”}صخgt±°¬\\x04ش\\x01],\\x00+„ك%6qؤ²‚QTëâFڑF†eeي¼‹f`ں\\tثت\\x13…èث_è¨ض\\tD,+T،–/ںaY،\\x1a\\x1c9@G\\u200cç$¤^ç#ثکXV¨ے\\xad\\u200cدXئآ²\\x1au\\u200dك„{\\u200cڈ\\x140±¬Pأ];ںQہآ²‚كھwڈfù_خ¬؟ذTح\\x15Dو0×n@ّe\\x06keB~ùwيڑز¨s\\x17½\\x1fگW\\x7fôّ[èRڈ)¯E –\\x0cصت„\\\\ك\\u200cGـ”•\\xa0¬à\\u200cOّ!\"”\\x15ٹ¸Uç\\x0eR؛t\\x01e”niاu¾o\\x18³üدC0ّثGڑ–PVS#\\x13\"ƒ²B\\x19>>w\\x06\\u200c\\x17k¸MّنqDj—¨V“+وaa[\\x19ھ\\x15j!ٍ8؛0\\x13‘‡Kز¹ƒأ\\x1b\\\\\\x04¸B!IZLچ£4£پ\\x05p\\x05>u÷4âا_ï‘¢Iˆ¨Vx\\xad¢خëµ-Cµ²vüNè&J\\nصھمكٹ¨V€¯Sçُâ–،ZY;®َں\\x1eإYن\\x7fب>|\\x0e\\x10\\u200fٍ‘\\x06&ھصôس‹[†jµ\\x08صت\\x1fچJ¤\\x13yœA\\x19Cى‚Hµ”\\x18Q\\xad¦F\\x02D\\x11é[‘Bµھھ\\x10k4“P\\xad|ic\\u200d„ب\\x04&”صشH€(\"ƒخ³\\t,دل¸=3ïê‡اد„3(BY،\\x16D½ü9k\\x07×‡\\x0cتت„œ;\\x11!،\\u200c¨\\x13،Z،آT¸ü#»—PV“\\x16¶@حژ„\\x13EPV(ں,\\x16£ً« ”°[.bUsح×oآس،F{،]\\n–\\n«`€ـق\\x0f¯î«زè{qC\\u200cژج8\"\\x15L€«‰س\\x16خ\\x15”±|‹گ[Am7§فçX\\u200f—\\x1cGd\\x04\\x13ëjز‚\\x10طi™إؤ/إط،½÷±ز¨›ڈx\\'D€+<qضغxW7\\\\\\x06peي¸Iè–ث\\x12ù_ç\\u200f\\x10\\x01®\\x16\\x02\\\\Mچ\\\\ˆ\\x0càتعq\\u200cےt3ب\\x04p5\\x7fڑ1î¤\\x08.HUkG\\x13àjjنBd\\x00Wxœ§ث(؟\\x12B\\x0f°\\x0c^4ڑ¯°ـ÷ب\\x1c&¾ص¤ه7ًى\\u200dX\\u200eج«:&®\\x1fvv^œذ؟جُلbT5?|m\\x03O®ک‡Y\\x01\\x19¾\\x15ê´ر‡ںگ?ًüS?.ثے&§7ّثGFpلR™\\x11<i\\x05‹%أ·2،wُم;·ى[;?™‡ُ;\\x03+\\x1bƒهqDتکPWS#س!ƒ؛Bœ\\x0cMآ‡3’د\\x15ؤ\\u200dg\\x08%Œù‹Dص\\\\A¤ŒµٍأR(V}e,¨«\\x0f6@ç\\x1aؤٍU½qwٌوIˆ”q\\x01Q=‹I‹@,\\x19ê•\\t½‹éَيï\\x04~\\x1d\\u200f|\\x13ہg\\x04ta®›َAِp#œ>\\x03ہ؛ے\\x03\\x1fنQ\\x15€nىh¶‡?ق9\\x1d\\x05\\u200f!c¢=ژû‡÷ylزpz\\x13é®+\\x13rَ،اھ\\x08\\u200e>\\u200fXچ;\\x1fDp،\\xa0l}©ذpz\\x13\\x19t\\u200d\\u200cسكo/—ج\\x1a}oDكoSڈ×›\\x02…ج£I¨َ‹\\'-\\x18qےي ٍة„قIè«\\x07‘ےMm›ˆا\\x11èè•\\x10Z“ضژ0‘ء|ً›1گـ\\x1d5gچ؛\\x1bê‘\\x08‚Z/~Vcsك?¸Mلٍ\\nٹ؛6‘ء8X]£§فqًَ1\\x0c“–¥ؤَ\\x11hîُ‚oùqب\\x13‚‰\\x0cئ!1شƒqH8u›ةإم\\x084÷J¸\\xadIثzکب`\\x1c¬¹×n\\n-kô]Wë7‘\\u200fƒPلhں“\\x12×â\\x12÷ك\\x0e÷¹DYws_\\xadQ7ژ°ڑ\\x1cتآF\\u200c¯C«ل~وç„ûo‡\\u200cgOِض.½P®پضèغùحéZ^Aپ؛^\\tآ5i6پ‰\\x0cV\\x10غخ¨¨قفر¬®;\\u200cڈx\\\\(·T«9ح&0‘~ç•اهڈIqؤX£îث;«\\u200c¾üEآj\\u200c¥„وڑ4³`-\"ƒخ³ژî×5°F]çغ™\\x08<ژHG_ج.w–ٍ\\x03ق\\x7f¨z\\u200dxK6،WGo]ز¸بےPƒ}l\\x05\\xad\\x11ڑë\\u200fءڈCقBLd0\\x1f¬£ûگkkشحG»ّ\"دا©\\x12›ëٹLjM=X/¬×è8*Bï|¬\\\\z\\u200f\\x7fکYVج+®®أ\\x08اُ\"a5;ONmM=¸ےvطyQجœِ~v^´ٌض¬¤ء_>زئؤمآٍ\\x15EPD\\x06+H´1“³دخ³\\x1dيثA…ة\\x12ذëر²!\\x15¬إ%î؟\\x1d~yyWِءة\\x12\\x06eچ¾ث\\x1fل<™\\x15\\x14ic\"rù\\x08O»¢\\x16‘ء$ˆ6îFش\\xadLًْm.\\u200dƒWP¤چ‰ب5حz/ح\\x10¹ض\"ô|ش]™V\"s\\x1c©;\\\\\\x04نآٍ«•ٌ,¯\"&زےًجعع÷n±\\x03kô=§‚\"¼4\\x07\\x11›k%6—D³Bں\\x15‘ء8H/ïK÷Aك\\x1a}ا±¬î4z\\x1d\\x1e<ژH/\\x13›kزâ\\x13k†حeBïZBگjïfW\\x1au¶6ٍ¸ئ*ل\\x02dµT\\x02a؛&->±f0]&ôô\\x0b\\x06KïچAنwؤ‰$î\\x17\\x17u«9\\x0eزثڑژ³fˆ]&ôژc÷ü\\x12y)\\x17yˆ7_µx]E¶3ء»&MاY3ً.\\x13zارOا\\x11ù\\x1dpضج؛ٹ´5q¼&MاY3\\x1c/\\x13zا\\x11$yکظئـ/\\x1cWQّبz\\x01¸ڑ‹‰´µ–ض¸ےv¤\\xad\\x0bلëي<X‡ü~n-½\\'ہ\\tD|\\u200f…قة‹؛صى<\\x19جZZcح\\x10»Lèيü§ي\\x15z¾<©ô\\u200eم\\x02>xùG*ڑ0]“و®¬Ed\\xa0\\x1eب\\x00FM“®k•±^ûwث¸V#L\\x17Xeµ؛ض4\\x16\\x13éڈƒ±[H=ضK\\x1e\\x0bA¥güw\\x17\\n«µ‚ˆح5iحٹ5أو2،w\\x05ء³صسmجو\\x02q)‘ذµFl®û\\x07gsjْ‡‰\\x0c&پق\\u200c7„9ت6. °w\\x1bC(±چ# ×J@.dآˆ¹SD\\x06\\u200c\\'ƒyƒgK;OBٍّ©خGV2Q¸&حْX‹ب\\xa0َd\\x00oˆ§êؤًX£n\\x12\\\\ـ\\x16\\u200cA\\x17éھ¹üةJض\\x12\\x11k\\x06½eB~ùwفًŒقآ$dTًE؛jژƒ\\x02±µZؤZ(YƒI [xَ\\x17Nژî†يجè\\xad\\x1d1\\u200c‰«ف\\x05½jژƒ´±و‚¬\\x05ک5\\x18\\x07ظخطئف«6S¸ِeO\\x14\\n\\\\#\\n×\\u200eƒ;ژ4-ؤD\\x06م E\\x0bڈd¯\\x14گ5êLŒ6¢ƒ÷G¤£\\tب5i†بZD\\x06م`\\x1d=wKئZ£n\\x1cي|T\\x1aGؤوBt_\\xad£µق„‰ôاءط\\xad\\n1؟\\u200cط\\x06kشچ£\\u200c\\x15ةمˆ\\u200d£\\tس5i\\x15ٹ5ƒé2،÷¼\\x12خ•ˆىQl*`@پ\\'Œ¸\\\\¸e‰^+\"ƒ¯خJ\\x19\\x01B=صہˆ®فGCٌ§ژ^ڑ‰ثُص‚\\x06k†ثeBخھQ\"·\\x08يSê\\x1cچ¸\\\\+q¹¾ZذہD\\x06_\\u200d•ٍ—مت\\xa0\\x04ت\\x7fو¬ڑ-\\x11ڈ½F\\\\®û‡÷ًürک\\x07üF…¦5è<y¥·O—\\x02hچ¾مّ„µn\\x01iŒض|\\xad‰}*ھyM\\x0bNkذyزؤëoï\\x06(0£kû9¬+¯ùبu}ء»ü——\\\\ٹµˆ\\x0c:Oêw\\u200eµ=¢fO–Fك=ٍث fہˆ‹&،¶‹؟Zزà\\u200fغ‘Qدّ\\xadµrہ©uئٍ\\x1b2\\x1b\\x13†ADîB©ںJm}µ؛پ‰\\x0cوƒشïْëV\\x08·F\\u200e|$ٍ“×\\x08âuےàض•fXکH\\x7f\\x1c\\x0cٌZلjïY™,؟،>Tگa\\x01بf°ک\\x08âُص\\x0c‹ûoG‹‰!^ë،ک@ké\\u200eٍ‡\\x0b|¦m|ر±Z·hآu}5\\xadb-\"ƒدMz·فcVخ‡َاrڈ#eK`®/«H\\x1cùEdذc2nW\\x14\\x1aىف\\x14\\x18نµُ:\\x7fêآوç¾•¤\\x05œ~\\x0f½وdh\\\\k\\x11zو~=<\\x12CO\\x1b–كِvح\\x12\\u200d„ب\\x1fM`®¯f\\x7f¬Ed0\\t¤w×½\\x0b“±Fك5؟gh\\x08¨ذ\\x1aح\\x07©`M\\x04¹ےv¸aY\\x05ï\\u200e‡Kئum{\\x06i²^4\\xadو؛ھچل¯و„ـ\\x7f;\\x1c\\x07kم\\xadثس°Fكùہu.aش_4\\xadو8H\\x1bk=†µگ¸\\x06ëٹŒaàح…Uj-¹إن|\\x08¼\\x13\"³—ہ\\\\_gûط%®ˆ\\x0czجzwg4\\x01®د\\x0cوB¼×ûàK=ژh\\\\xà¬o\\nڑ\\u200fa\"\\u200e\\x1e3چk\\x1d¬\\x15–كp\\x08E\\x1a6¢q\\xadDمْjْ‡‰\\x0c:O\\x0fإëض؟\\x1e0چkغ¼ل\\x12ڈ#²w\\x0b\\x15ëQ\\x04ڑ\\u200f±fh\\\\&ô*\\x02Dسô¼\\x0cLمآ8آkخEشjيR¢q}µڑآڑ،q™P¾َى´îu>Rء„àْj\\t…5ƒà2!كyص»Œàت.›Hï\\x12‚ë«‰7k\\x11\\x19,\\x7fض»\\x1b\\x1e\\x00\\u200d\\x7f’èaچ؛s>|>چ°[+a·¾ڑlc\"ƒ¾³®فگآغë;;ھ7p·ئ±\\x11\\x17ٍھ¹ْI×j²\\nê\\x1f\\\\Gى`\\x1c¬k÷.\\x10ذ\\x1auê\\nإ\\x08\\x12مˆ,_bp}7½‹\\x16‘ء8X×\\u200f؛5¯qز^\\x1fاYŒيّ}ضg‘\\x06&\\x1c×W‹)@3eوC,ك¾\\'‚ة\\\\P\\x7f\\x19ث7\"s\\xadDوْ6ٍn2d.kç=کàYگ§=ئqm?dp?ےB}\\x16‘¹p؟ھ/\\x15چd›\\x0c™ثعy\\x17ا·\\x1dگeî &yل\\u200d×|\\n¤إt1´Z›› ]ّكإ\\x0f]Dْ›‚!]\\x1b®ن=½جٍ°kâIˆLc‚tلحM;ںبJ†\\x11F;tو{8î¢,´C(qُڈب\\\\k!d=7\"\\xad\\x0fa\"ƒ/\\x7f›طï\\nj,~\\x12©\\x1eً\\x1cغ‰\\x17M¤•\\tج…8a\\u200eî·آ\\x1dt\\u200c½ذّ¤فECٍ»/لأ\\u200cڈL`\\x02s!\\u200d_;\\x7fkذAçYحخîFءڈhçْ!ù}®\\x1eگ#ثàBh5w.©هFRM†رµ2£k›=¥S\\x03µX~‡|طùH\\x17\\x13ک\\x0bطG\\u200c„[m\\x0e&پuk\\x15ط\\xad\\x11\\x1e\\x0cٍآcvh\\x0eD4.¼”شg؟\\x16چ0‘Açùه\\x17ذ¸قإژé]è|وىڈہ\\\\+پ¹گà/“گ\\x01sY;î\\x04êr\\x11D\\x1e÷ہL„Gؤè‚/گوCص@†رeي¼م\\x00²²7\\x1f¥رG\\x1e\\x01g™@\\xad‹¦صعر„ë’(Ixz3¸.\\x13rwٹ£kى0ق\\x0b¾¼L0u„ëZ\\t×\\x05Oں®«ŒZfü\\x16,\\u200en05ث#ا#cّ\\\\ج¬و|ـjَرذ³Psض\\x0c¹ث„قùً÷ے†¦`ˆ×^ظ\\x17لa\\x1bA¼ً4QïڈFضM\\x06âeي¸q´\\tيvWeˆ×\\u200f\\tk#ل1\"ًX\\x13ؤëë`êوoج@¼îےہ،\\x1e\\x10طھ\\x1eR†xي\\x10Jـٌ\"ˆ×Z`Zï\\nزT›\\x0cؤثعy؟üشOڈ`ˆ×^\\x11ؤم\\x15\\x14©k‚x}g، â¹1ar2”k“ج)\\\\”Xh‡Pf\\x12\"{™ب]_-ھ‚œ™LçY]O[÷…•ة]ûشvUزإ5‚x!é‘¶±^\\\\3\\x10/kا-&\\xad†\\'BH بD/F\\x10/D9ش\\u200co$طd ^ضژë¼ڈ/VG\\x1eC¼\\x10ï”±û#ˆ×J\\x10¯o#ء&\\x03ٌ²vـ\\u200cIK{ˆذژ\\x12\\x07‰\\u200cpٌ³Z\\nچ(^_\\xadK‚è‡ؤN`@\\x17ـز=Œ¬5ْ^”à\\x1dبŒ#ri\\x17°ضs¬6\\x12S2@/„¬گفï7´rME\\x1e×ug®†اê…زjخ\\x07)وFژJ†يµ2«kƒ¶\\x13\\x0f\\x18\\x0bيg\\x00@أچجاQ¤ک\\tèُص:1بهخ,&¶£ل½شخ³ٌ\\x0c،DôP\\x04ôBؤX}\\x1c}ُj—\\x01zY;ï6†×؛g20ذkا\\x13@آ§}A¹ڑ+ˆقڈµDةڑ\\x01z™گ\\x1b‡K|hي\\x04خrھآ\\x07م\\u200c\\x10éèBëzvt#×&\\x03ô‚ùإ;؛‘£آB;\\x1efا;\\x01›¥}E½\\x7fp!\\\\üô\\u200f\\x1f\\u200d\\x1anففُ\\x07کذ;\\tx£ê¸أD~كœ\"¯·ٌvء؛\\x1a+è\\u200fءw^œ\\x00&2è<=0م\\x0cê9€\\xadرW\\'àق—™„àپy»ً^~\\x1câ“4‘ء88f\\x0b1\\x1f|\\x1cYK®َx…\\x18\\u200d¥HضڈVذ\\xaduكه/W»ûo\\x07ل,&نn\\x15]¾\\xa0ب#G%\\neك\"^×\\u200eƒûٍڑ(d\"ƒ/دع¸*!\\'W;kش¹_عƒه\\u200c\\x10xµ\\x11\\x02]ë\\x04M\\x142‘ء8ط«]هط‹Cص\\x1a}ا\\x01ùہ،؛],®و6¦ہ®Oc\\x1b\\'´ٌ\\u200e\\x1fx3Y.\\x12\"â\\u200c–qm¤-ârف?ُّ#î;\\x13\\x19|wNlع`¾76eqOX£îVê3{#\\x1d¶Eˆ®û\\x07?\\x0e1’Md0\\x0eِi#\\t½«\\x06X\\x17ï،›\\x05÷صè\\x04\"ں¶و£ـ\\x7f;<پX\\x01\\x1f>…²±‰I\\x1eڑ¸©6h\\x13G´.\\\\à«Müرٹ\\x1f&زں\\x04¦uءGف++lچ>‹é@ùکh\\x13G´®چh]\\x1ff!ل\"‘،u™ذ»²\\x11m):¬´ôِ\\x18Bم+ُva¶Z\\'\\x10!؛>ڑ\\x14tےيh\\x05•v\\\\ç}\\x05Uyز±Fف8œ%آث&Rہ\\x17°ëف»آ\\x14>؟|آ26!×y¼ژ5bVى\\x0c*چ؛خد‰„ûي\"b5\\'،vYƒًت®÷ûo‡“@؛\\x18|œ\\u200f8H\\u200fطsمˆtq،fظ…è£\\x15?\\x00b\\x1b\\x1b—&ن\\x17“\\x18—\"tى¨02¾ح]p¬و$ش؛ط\\x03 ٹث\\x1a\\x1c†Lçظèmnc\\x12:’غ8بs‚g¦>@5?بD\\x06\\x07(iم\\x1dv®\\u200dA$t@(َه\\x03?5ـPشy©—g\"ƒخ³J\\x05%³w•`.×\\x01ڈطط¬‡L\\xa0چ\\tرُر¤\\xa0ûo‡غکµëضق–دqDٍا\\x19\\x0c0\\x0c¹أ·\\tئA¸®ڈ\\x16ے¸ےv4\\x0eءuلشï\\x1d«,ڈـ¦ذ®‰\\x18]ˆڑ¤إ¤÷¹\\x0c£ثعq÷ج.؟Wنل¦K<ڈo\\x17\\x12«u\\x1c\\x11£ë£\\tD÷ك\\x0e\\'پ,c8\\x10{•K¬رW·\\x05\\x1e\\x01زر\\x11£\\x0boE4\\x1fj$g\\x18]ضژ3ق5^P„\\x0eن!ڈم\\x05A\\x13چv\\x02)fM ؛ےv8\\t¬کٌ\"\"اjA|¹/؟gژص‹¨ص\\\\Aµeüرت%[†ئeBخزmƒ<ي8*چ؛K5êف&ژ£ہe½\\x11چë£ULL¤¯\\x1e„®ُmSaںq°ژ®\\u200d\\nBK3\\x02sm\\x05¨ُـژ4kبD\\x06م`‹ù\\x00{¢s[eگ\\x17ˆڈ\\x11کk‹ہ\\\\÷\\x0fîھ\\xad\\tD&2è<›ةx\\u200diظ/د$ˆث\\x1aU\\x19\\x13‹)زرؤèْhZ\\x11بع‰[\\x1e3·\\x06\\\\\\x19kش\\x1d_‘\\u200c\\x19a¹@دھOR—\\x0eo\\x17ش\"زں\\x02ءr\\n<.BèB\\x1a`b\\n\"B\\x17.\\'4\\x0e½îe\\x08]ضخَI«ـ(}\\u200e\\x10y8-ـ0آ\\u200e\\x1c\\x11؛p)£qH4¤‰\\x0cوƒ}×ً-ِِ³ہ؛ـƒ`ا“\\x17ء؛@|،qH¸‹‰\\x0cئءٌط(~ظ\\x1d\\x07ة#0;ٌN¾]ى\\xad–¾#n×Gث²ـ\\x7f;Rض¥\\u200cw]حف@<kôفع¨¼‘ظ\\x1f‘\\x15]PZڈ\\u200dذ\\n-[\\x06لeBï8P\\x10¸;\\x1f\\x1c§چûkآ¬‹\\x10^بw¢u¥7؟\\x0cآثعyاٌ™ْûƒ\\nًO¦¦م\\x16!¼î\\x1fœêسج\\x1d\\x13\\x19ى\\x0fضغ\\x1fv÷ےïk-½‹\\t3گYL‘m}\\x01½|çهة|+\"ƒخ“\\x1eF”€¾‰”–ق™ْ!\"éù\\x17^:.àVsG×îيدع8™2ت؛\\x10½\\u200d~،َMB\\xa0]:X\\x1eè™D);Dù\\x04f\\x04ء؛>Z‹ه\\u200fغرةؤ°.„\\x1a©wFˆ^\\x10JLآEظjM\\x02\\x11؛>ڑ®³e\\x08]&ن&\\x01\\u200fءخCOiش-¦°–ٍ\\x16\\x01»î\\x1füٍWo@\\x06طeيّخwïـ\\x0cىBـKّ°pA·ڑ_\\u200d\\x14³&ىl\\x19`—\\t¹\\x03´ïت(چْ3(متˆط]\\x1b±»>Z‹إDْg\\x10c¹\\x10چذ‹گ·F\\u200e8\\x12±S[„ٌ؛\\x7fp‹Iث²کب`\\x1cœضük3\\nي8*l0·\\x13عA\\x1aن’‰ˆ^[!k=\\x17\\x0cMم1‘ء8HرB+«WC1^@aچفô\\x17@«¹)بس\\xadi<@c&\\x0c8!tچ\\x16\\x13{ئQt0،ک#¢\\x17`°ُيHسxLd0\\t¢ک\\x07‹‰\\nًں{lه\\x15\\x14Yر„ٌْh-\\x16طأ™I د5\"َ$\\x0fزZrث?\\x04ء!ô*Pء\\x05œُ®y½Œ\\x16‘\\u200fç\\x16\\x00×‡َ2p‰c!@RـZ‰2f\\x11\\x07\\x16u\\u200d,fMح¹ےvt\\x7f``\\x17‚q؛*که‘\\n\\x12هفm\\x11»ë\\u200fء\\u200cڑڑڈc\"ƒ/دf2¬إ\\u200d9S€`îôwضeX…u»\\x00Z\\xadƒ‡ˆ^2ïxlخ\\x10½Lبiم3ذذ\\u200fé\\x01تD¯=wً\\\\,\\xadو8ب§\\xadإX¶\\x0cـث„ـ•\\x08\\x17حژ\\x1bRà^ذ\\x16\\tEp\\x01؛ڑم ÷ِ¬ڈو\\x19¸×V„ـ8ژ^0°بo؟Lقف\\x16ء½î\\x1fü\\u200fذ+jلp\\nِ‡hم\\u200fCڈہ½~ç;îَ/rOFp¯يْءڈCC9‹ب`\\x1c\\x0c\\x1cù±أے<aظ–\\u200fùىّّ„چجن‚ëzشƒVؤAdlB،\\x15!·ک؛گSk´زm™Iˆ\\x143q¾>Zپeثp¾Lب[ج½؛م\"كپµ\\x02\\u200e\\x14¨9B~}´ىت\\u200e·#5\\'ب/\\xadNg\\n¹\\x0fںrUDؤ/D\\x0eش×¹I]\\x15E¤؟ْ™à\\x05WE\\x0f®`ے¯_@\\x19Wإ\\x05طj\\u200cھDü‚ëLB‘2ؤ/D^\\\\كأ-\\xa0ظ\\u200c.\\x1a\\x0f&ؤ¯ں»Wرµ4\"~،N(M‚ھ„\\x0cٌثعq\\u200c\\x07:²£عJ£n\\x12€ج\\x1cغ8\\x17v«9\\t¤¢µگج–پ\\x7f™گ\\x1bG·n¦ب\\x03·“yl»X^حqگٹضB2\\x00z%Nص\"نçC²€\\xad%?\\t‰,`\\xa0خ¢سˆـ×ڑltےيً4\\x12½¬گGkéں;\\x1fإƒ\\x15´×£د4أ\\x08\\\\أج—\\x17eى©dچm,z9~k¾\\x08[حeC¦±¦\\x15\\x01kکé¼کئ\\nëR9_©›ؤ…صjv\\u200d|ضZ=\\x06¹c™خsHِçغچهdخ×û¨J§gDِB\\n\\\\}z~ُ\\x02—!{Y;قہéِœ!_0pآ§‚ˆى…\\'iê¼ع÷\\x19²—µم\\xadڑî#&“½ \\x1c\\x7fù(\\x0bٹp^xٌ\\x11¥›ءyل\\x1d؟V؛°+5\\x11D\\x18^\\x10J(«\\x0b¤صZً„َ’ے\\x12vq\\x11éك|\\x04ç…b\\x05¯خص£Fب^x5ڈŒ–\\x08çµ\\x11خë£ه`Ldذù[c؟k\\x1e‘ژ\\x12àU\\u200f³Gh‡PوثG\\x0fإ\\x04ô’çؤَثgشk\\x11r\\u200c\\x07¼¾م‘`yذى2®ذ\\x0b¥ص\\\\A¤i\\x19)|ژ#\\x13yح¬.ؤkwف[آِْfت|l\\x11غë\\u200fءYہZ“اD\\x06‹‰•èh\\x1cىڑNژ#2†kج\\x17œ:ْf\\\\D\\x06م`Wَ·،\\x7f…ي\\x05،ج¦ˆ,à\\x1aَ…خktQ\\x11\\x19t\\u200dُï·ل†\\x10¶\\x17„\\x12\\u200cڈط^x•ِZ\\x0c\\u200c×گ¢\\x0cغثعq;؛ï†(چ؛“)Si\\x1b\\x01Wءف¹f{a\\x1cj\\ngط^÷\\x7fàَ\\x1a\\x07;Aط^¹\\u200c\\x10±½P<پوC}s\\x19¶—µموcéق*”ي\\x05Bقط\\xa0Œط^[حِآ|èص®ˆô7…°½¾SWS\\x08غ\\x0bwطHGG@¯\\xad€µٹ-s\\x06%ةي(\\x03ô²vü$h~\\u200cP¼¾m*\\x1e]ھ#ٹ×VS¼خ\\x08,ي|FG3•\\x0b©\\x14فـ\\x16،xپô‘p,F@/ش™©wB#ء(\\x03ô²vـ$´م›ىي[ط^كOوص b{m5غ\\x0bَر8™2†1³؛N¦Œ\\\\ّ\\x04è\\x05،ج6ژ\\x14s\\nôBçص9—\\x01zm\\x02ôBئaïآ\\'l/ \\u200e2‹)زر5غ\\x0bمP?]†ي…غ\\x1aغ;^\\u200ej|ڑ°½|.\\x01يè\\x08è…+e½\\x13´ˆ‰‰ôدززژ3“\\x1bnj\\x16‚ZNہCءّ\\x0e\\x14s\\nôڑ~چœگ\\x0cذë\\u200f\\x0f*.ں\\x0fBضGL\\x05zù\\x10خP\\'D@/8&i\\x12t\\x1bg€^ضخ;\\ts#ç؛´ôقژ ”طئ\\x11ذk«پ^ک\\x04فئ\\x19\\xa0—µَv\\x1e\\x0fé=‹™\\x01`;rhكq„>—‹·ص²غj\\xa0\\x17ئ،·ٹ\\x0cذ\\x0bصah\\x1bï|iا‹\\x1f\\x0b\\x01\\x08×|Pàm\\x1c\\x19د\\x05¬ُـ*´´ة–،x™ذ;\\t\\x07r=:o\\x05\\x02ôB¶ff1Enê\\x1aè5ل£ب\\x05#\\x03ôآƒ]=\\tûا?<©û…هڈڈ«ٍء“\\x10¹©k\\xa0\\x17:¯–f\\x06èµ\\t\\xa0kشyخ`ِة\\x02ـùH\\x1b\\x17D×³‚´¾\\x0cB\\x03\\x12\\u200dق\"نفBفطR–?<\\x11گ;\\x1f©à\\x1aف…/ك8ƒ2nj،r\\x05>-»د±<:ں(\\xad\\nم§\\xadذî\\x1f\\x1eں\\x0bئ!W\\t\\x13éjc\\x13r“pب\\u200eA„ژï‘à>ہں\\x1du¾rZ£َb^ق\\x7f;xb2!×ù\\xad÷^)ٍ\\x078\\x19-إQ/&\\x00چ£qگ6ضŒ•ûo‡مà\\\\eہح;÷Rkô\\x197ت\\x0b¦ئ\\x11ًD\\x10¦Wك*´ضŒ‰\\x0c\\x16\\x13g6حŒق\\u200e\\x1fPڑ$„,خشb:•eC\\x1b#6¯î¼ض61‘AçI\\x1b£\\\\Cc\\'گذ\\x01،ٌUb؟`]حخW/إسO\\x0bڑـ\\x7f;\\\\Aœأ4w،ِضè»‚وvP!ï„@\\x1bCiز$ب½شD\\x06“ہعxوƒي\\\\Aœ\\xa0<û\\x17“èR½GH¯û\\x07w–jڑٹ‰\\x0c:د\\u200fè !®è\\x04kشMB¦Bآ\\x1e!½î\\x1fü8\\x1a:!،ک\\xad\\u200c÷XEBc÷8\"\\x7f·3دy\\u200e\\x04j\\x19و\\x1d\\xad\\x1fٌu™ب`\\nب2قلˆb÷„µô~w\\x105اf=<ةء\\tTS¼&”–و«è\\u200e·£M,\\x14/8M:Wjkô\\x1dا/\\x0cïف#ٹ×\\u200eƒ[4ڑ¤b\"\\u200e//€.\\th·v\\u200d\\u200fْ\\x0cّO§ë‘ْ\\xad\\x19^ّîٍنپ—ئٌEش„ـ>Dک\\\\ü\\x0e(ٍ؟\\x19q€أ\\x08Rگژ¢ُCêWَRî؟\\x1d®\\x1fر¬]\\nœ5ْخا\\x1cRàِˆلuےà×ڈ\\x1e:×ك\\x0e;/ڑµ\\x1b÷aے¯ë|\\x18=پwعèث“ْu(آ‚\\x16¸ےvطyR؟>qع¯l;ù\\x0b\\nىيü{Hر‰\\x19a»ِآنz¬0ME1‘ء¾eeê¯\\u200dJ\\x13°Fف&v‰\\nـùہ\\u200fEù´ْ¸_ô¸/\"ƒخ³=;³/\\x06×…ز’[)¹م>°\\x7fQo¦î¼ضّ0‘AçYmخ¾&—ّ\\x12\\xadQ؟]\\x13O\\x02`VD‹ںtî¬w¶Bِ\\x1aŒƒtîqp\\x00َ9\\t$ô;ü\\x0bZنƒ\\x03\\x125è|حêڑ~ڑحqےيhç\\n{\\x0b¶”\\\\\\x18Xè\\x07ذAًœ‡ع%Qڈةèص¼چûo‡=&tٌُk\\x18Y\\x05ُُ®•_¼K#\\x14×^£¸ًچصL/\"\\u200e\\x05R„^\\u200ez´ïëv:²<\\x1e«\\x12دG(¼\\x12}yز¯Zحم\\u200fغل—g\\u200eٹ\\tëفد\\nكë\\u200c\\x04x®أe\\x13™·…ژُœَZآc/\"ƒI`\\u200e؛tس–¬Qwخg°َ(¼\\x12M\\x02©Zحذ¸ےv8\\t¬j+عٹّk\\xadQ\\x7féج\\\\ِ/hVثb¯©\\\\سO“5P9\\'qéd*WنIx6\\x05éi\\\\:›,\\x07Rء\\x11•\\x0b•ej-¦‰\\x1b&2XW¢‚§^\\u200c!kشi±\\x0c¥dڈ\\x00]÷\\x0fî\\u200f©UILd0\\x0eرئm\\x1fç3\\x1f$ڈ¼چˆƒ\\x0e@k´)H\\x05kU’ûo‡›‚U0ذ=ھإX\\x05د.\\x1c†–M\\x04مBر@Z6zsثہ¸¬\\u200cW\\',l½لزہ\\x04®ك\\x12k±\\x08»\\x05\\x14pفcMئ0‘\\u200f\\x02)ي8k\\x1b\\x15²\\u200d\\x7fê*dy\\x04\\x1f%\"Q@\"\\x0eضJچفڑ~ڑ—qےيh\\xadش\\x18\\xadمï3·َ8m،³üwN9ے#ىض^c·0\\x0eyپ1‘ء|Tع\\x18مP‡Cù¯ت”\\x1d\\x7f¨يک\\x08\\'C©غh\\nn\\x1dْèb\\xad¹pےيp\\n*]|v½ث«¶Fكq,™ü¤\\u200e¢eµtXMعB0¶:N2¤\\xadû?x¢!عSP©ëü\\x14Dژو\\x1a®…®K¤(üِ\\tُ[„\\u200dOْY؛ُگ\\xadQ7\\x05ي\\'\\x1a>G#\\x0bّ¢n9µ¥\\x01ّ¨ط\\u200c\\x19G¥~د)\\x00…،w*‘üwIف\\xad/آUs)‘1¬•<ِ\\x0cgث„ـ|°Cمش\\x07•خإbZœحت_>ز¹\\x05rُnb‰ق@\"TوثWêôüٍفdIkش\\xad \\xa0ضں\\x7fQê6‚آƒأ¨†k\\u200c\\x19\\x15âu.\"\\u200es´وf]مèeقق\\x1dr›\\u200f»|3ïw\\x11g\\x0bهB*\\u200eŒo¢م¸E\\x06م¨ىâs\\x1cف¤Oû\\x7f\\u200e،ڑ خ،ZI4\\x1fُcً،ظ\\x03÷كژ”Cچذ؛ôs³\\x06¤ég–‡’Kچ#²–\\x0b\\x05ثِا،‰\\x04{†¾eBïژ\\u200d½؟_ف[5}ëــ¾’Fèo‰è[(پBëJï\\x19Ed°®XYدLأئةT#؛زj.Bnي\\x05}ُN‚zص‹ب\\xa0َ¤~qظë/&V×‹»fز\\t\\x1bq¶P÷“¾¼ْچٹب\\xa0َ•ة{î„6«àظ\\t$ڈ›j|¬Fٹ¹ً±ق/¯ê!أظBµûë#¸هك-ت ٍظm\\x1cy©kخ\\x16‚چ\\x1aê!َ\\x18\\\\عqم\\x10أ’EPp9مb¹HY\\xad;EMظڑژC¯§\\x19تض^„\\\\×غ×وg\\u200eگFےخk\"D\\x11،×پF¨ظ[\\x18‡قU3ى\\xadû?ً×ى¹?ژ\\x1aأu\\x1eF¹qD\\u200dë‚أz¶„و\\x0eىE¤؟ںk¬\\x16َِنپءê؛cyD9…\\x0f\\x05\\x11†k/8¬·َھ\\x06ٹب\\xa0َUŒضy\\x18ys¾رy’ےخ!Clڈط[÷\\x0f¯•phآ€‰\\x0c:د¶ٍؤ\\x01ًذa5pë\\\\6™\\x04é=\\x02nف?ّخë\\t”\\x01nY;ï6\\x06\\x06Yخ\\xa0ڑ²…خOmEG:,¢lي…ژُ,\\x1b\\xad€a\"ƒ/د\\n\\x18éK\\u200cXukô½•:؟,÷=²‘\\x0bلêي»D\\x17£گoآآ©IYXٍ_چO·–\\\\‡c›,bhي5C\\x0bS§\\'~†،eي¸¥¢ج\\x11\\x11B._\"«\\x07ُc¢c¾6پ\\x0fح-¹ےvtٌ¯\\x19Zç\\tس\\x06إ™؛by\\\\ک3دd\\x17\\x07«¥vk†\\x16&Aïœ\\x19†\\x16bطّوس؟ّ³<ئ‘\\xa0ï\\xa0ژg0\\x1f5N\\x0bمذëg\\x11éoف\\x1a§uخGے\\x06اٍIoc„ضB–J}چض4\\x13\\x13\\x19Œƒ\\nc¼Tôآ›j\\x14Wع–‰ذZ{چضآ|¨\\x1eب\\xa0µ¬\\x1dw\\u200cëbگE\\u200f;د\\t:ص\\x1eQ¶î\\x1fœ>سŒ\\x13\\x13\\x19ج\\x07+م¹ثُ·F\\u200c\\x17»يھ$ُ\\x10Q¶ِ‚ذzشأ¦×ز\\x0ceثعٌ\\x16N7ْ¾4êئلأ]C\\x03?¢l،~x½?\\\\\\x1eژ\\x05oe([ضژ\\x1b‡wجéU£¦r\\u200cû£\\u200eâةَ\\x11©ë‹ؤه×•قP‹ب`]‰¹ـ-ں·—F\\u200e؛تکm\\x17?«¥?jِض„ü.qنeط[¨oدْƒء(¸¬²\\x10&!پد@8p¤4H‰7RR2ى\\xadû?¨mµ\\x1e‹Eنa«¥&!ٍn\\x17\\x1cض³¹µh\\x07J[&î~5VëT~\\x03¥ء¶َز.وC›\"‚rي5”kBؤگ,¦\\x0c”ثعq››أـ°کj\\x12×¹£غڈ(ـùب`®،\\\\è¼^g3P®½†l\\u200c“ہ\\x01\\x02gçI½c\\x05½عف،x¸َ‘\\x1f»†r،َ\\x1a\\x16کپrي5okl0³|د`ژ\\xa0\\\\(ü[ë„Uï~\\x19(—µم\\x0c‰vض\\xadفإk(×¥\\x13آhگ\\x08تµ×P.|yu=\\x16‘¾\"¨y[م\\x17\\x04–ا‹Nè7½\\x18X\\xadس؟†rMˆ)ذ\\n›\\x00~ى5dëê¼ئV°ذwI½¥E$®½\\x10±\\u200dS³‘\\x04‘!qY;î´é{¬k\\x12×¹lع%·xïFخë\\x0bره®\\x12Z$b/\"ƒ\\x15$¯تJ°²–قûأع.¯آ\\u200cڈT0ل·P“^WPئc]“µ®gƒ^ف¬\\u200cه³“\\x10©`\"q\\x1d‹قƒ2$.$ْ\\'îA,\\x04#\\'\\x13e\\x14‘¸\\x10مY\\x1f\\xa0ZµہDْ+¨&k\\u200c“ذ\\xadZ`چzم *¹°Gّ\\xadû\\x07·ü¹Dإ\\x7f_\\x13\\x19t\\u200d-و\\x13/ذxھ·س؟ئoُOےˆ¹…ê¤ôهص,ث0·¬\\x1d§؛¼\\x1bWدزڑ¹uzNف%ƒِn\\x04عع\\t´u4r\\t2\\xa0-k§t~ےû\\u200eْ9\\x115h\\x0bث\\x0cةw‰T¬ˆ¹µ\\x13sëh¤\\x15dک[ضخ;\\x0ex£إg]3·خخ·+ƒٌ$D!ضؤـ:f½?\\x14‘ءٍ§\\x10kؤكw#\\x1dkو\\x16ئq¸\\x17\"î|d\\x05\\x13hëذJ\\x04{\\x06´eBï—G¦X/H؟\\x06m،َx1ت¬\\xa0H\\x05\\x13hëh$\\x1b\\x14‘ء$°\\n\\u200fّIذً‰ڑ¹…müةTرق/ؤUë>Gج\\xad£‘wگanفےپ7ˆQw±ç}¬™[\\x18\\x07r+اœ\\x18dt\\x05†=1·ژFقA†¹uے\\x07~\\x1c\\x07\\x17\\x04„-Vƒ¶ذyے\\x18@;!\\x02maعjE\\xa0¥\\x08L¤؟‚j†ض¹-ûg)ث\\x7fڈَِ,ڈ#²‚‰¹uLz\\x0fت0·ِڑ،uîذں†ْ²ذ÷X2ةq\\x11hk\\'ذ–/\\x1dnخإ\\x0chثعyµٌرOڈ¨™[ƒ\\x15\\x14…p\\x11h\\x0bے¥ـ¤3\\xa0\\xad½\\x06g\\u200c+H¹ع\"ôإئH 1\"؛\\x16&—–؟>\\x17dèZضخûه›ثو\\u200fدقkg\\x15\\x0b\\x1fْ¤/کUëش$؛ض،ُ\\x07ِ\\x0c]ث„ـ²ل‹8N›\\x1a©u®•Lچxًأ‚£’گZ\\xa0مè²ة¼\\x1b×ˆ¬sظôَذY\\u200fë\\x0eü\\x0e\\x17à‚_5\\'،Nm:ّ\\n\\x18f@†®eBù½ث±صGœ`sء¬ڑ\\u200c\\'Gt#=\"C×عkZضuْkگ\\n\\x0beWP¤l‰®%¹´ç—دxںkZضظù\\u200f\\x13\\x19ثçT\\x17î!ي\\u200cpےà\\x0cة¯œA&زUء&نVP\\x1b\\x17T\\x0cI‘اNHD\\xa0\\x1d\\x11hë\\u200fءچC\\x0b,کب`\\x1cىcِ6âسy\\x12ڑگ1<\\x0ep?\"؛ض\\u200eƒï¼<\\x01کب\\xa0َD×ْ-ي2²د88زku¶[}ù9.کUc\\x1bك?ّخث\\x13€‰\\x0c:O9ا\\x00ùتهاZzl\\x1eœ\\\\Qصهمآe5{LzW3kî؟\\x1d„±کذس™mِy\\x11r\\x06‰<\\x02َ\\x13دôG„ش؛\\x7fً_^®\\u200c&2ٍّd\\x05£V‘8O¬¥÷ث#—pl=â\\x1a\\x15\\x1d<\\x14:\\xad¥\\x14î؟\\x1dN\\x02e\\x0b£\\x16¶$„ZKoç×Lؤ\\u200e\\x11q´î\\x1fü——k§‰\\x0c¾<¥\\x14م)Qک\\x0cضزسùُغ~µç\\n\\x1bxںڈ‹ھه;ك8ٍ\\x13قgk§ôkûƒç¤ù\\xa0ûœ6UNسِ\\x17ٌGy\\x1cپ\\n>ˆ¤\\x05}ث—8\\x13\\x19LBه}ق\\u200fوظ£ّ\\x1b;پن‘\\x1e—Q]\\x11Të ¨\\x16n\\xad2ژ\"ز\\x1fG\\nصع\\u200f¦Y£\\tى?{&\\n$–ؤ+ü\\x11Aµî\\x1fقإ„›؛v>‘سdي<\\u200eْl\\u200flشI¨!\\\\\\x1bœ\\'aR:\\x00¤ء\\x19DX-1›\\u200fûق\\x7f;:ƒJ;¥َë\\x1fb6؛;په\\x11(\\x16½،âb\\x19u¾~\\x00†uھ_\\u200f\\x16\\x19,›Jï¢َkغ¶²m|uèq\\x0f\\xad\\x7f\\xa0!\\'‚\\x18ڈ\\x08«uےàWگ<d›ب`\\x1c•پ{ژc0\\t$\\x7f\\x00ً?v؟ءؤٹو£\\x0eزآ\\x7f®َ‘x\\x16¾ے\\x03÷}‘qذ«\\x03!ٍxLدـ*\"ـ\\x16lلت+\\x01·¦ژ#a\\x1b[;ï¦\\x08²éںuU)r¬«9cمأï\\x10حGm\\x1bïڑ[sےيpsW:ْ\\\\WJ!²–\\u200dء\"\\x10&µک\"\\x1dMن-ّْu\\x122:؛´م&ء×>”‡\\x1aàژ\\u200eKى9\\t\\x19‚\\x18¼§ر$ـ؛زآ\\nvM¨¹ےv8\\t•خ½6·ش½³–قIطâc5آmپّ@ث_ڈ£\"ز?ژj’ضِ÷A\\\\Yçeص\\u200fكG\\x01~\\x01,O\\x1cG\\x11„\\x0b\\u200dP\\x1a‡^Q‹ب`\\x1c•\\xad‹غر¯}u¶m\\\\َ¸¶؟%x×¤[^„و‚;ڑئ،·ص\\x0cڑثعy¾/nر½ٹ(\"؟!X\"3\\x1f‘؛.ˆ¬g\\'hڑ\\n\\u200d\\n®،\\x0eوƒجن\\t\\x1e£خ+“5ْX\\x0fHوJ”ٍ;.زVثx&J\\x17bJنdتP؛îےہص\\x17Ygژخ\\u200f\\x1fطë•ژقے6\\\\µںےژWP¤ک/P—»`p•7ـٍٹبàث3ڈ\\x0bك¶ûهùq9.x\\nژ`p€\\x12„\\x0b‘sْ¹3ع¸†p\\u200cڈ¦ق÷,ڈ¬w‡ـ#àن\\x0bحَ—ڈT0‘·\\x10k¨\\u200c؟µëàث“»ùL›ê~y’_¾Kئب‰ب[x\\x11®د ح³1‘ء8*يzüحk7¯أ\\x1a-{÷ّ[ü=€\\'!Rء\\x17’ث/ے†\"Hxھٌ¼ï¯\\x06è|£†‹\\x08ءد’ˆ1@\\x08D°ü\\tآ… rYA\\x19\\x08×\\u200e\\x1f¸ه¼ح؟\\x1e<Fن‘ڑ™±ٌ#4\\x17\\x02Tê\\x15¤•DL¤؟‚jشض\\x01Kس‡@ë6fy¼›5ث\\x12زbٹذ\\\\\\x07،¹گY،َ‘\\x00Q[;دتF~W/y@نڈم×\\x0cشلqDعکذ\\\\ّŒ:ژŒ6fî\\x16bشصپاB\\x00¦$J|!\"+ع\\x14·V|®\\x12Zظه\\u200fغر¥ْْ\\x0fـ¦ہWèصc¶FںIƒp”¥ژ\\x00Œ¨َd&k%‘ûo‡\\u200c§tct¾ٌهI\\x08`‚ŒYv!³Z—\\x1fbrءU¢ث&£چ™ة…}ش«²\\tbf}ِbُ;ك{\\x14آ\\x0eم-ڑ\\x04²چ5çن\\u200fغل$گ¢إ\\x07é\\x05 [£د\\nB\\x18`\\x02SwDL®û\\x07§غ4\\u200eؤD\\x06ا*)f€]ڑإNجبa<WvGG:ڑH]ذ6؛®2:؛´َ\\x1e«\\x0b—Yء¥ڑ…آ§û#\"rف?ّï®\\x17»\\x0c‘ثعq\\u200ee¨)ْثط®\\x1f\\x08v‰—§\\x08أ…p©Z\\x17kوŒ‰ô\\x17Miا\\x7fىfD®-\\x1a–ےUycQ\\x04خ\\x11a¸î\\x1fü$èإ®\\x10³\\x06م\\xa0Wà3Œ´^~ç$گذ\\x01·dd‰]|«ضٌIہ-à^d™g€[\\x08²©ڈC”\\x0eىل©E\\x1eê7s›‹€[ب×¨Wگ–م0‘ء—¯جغم\\x0fمèھ\\x01foل\\x7fIؤ€\\x1f\\x11{ë\\u200fء\\xad -اa\"ƒqگڑفّ\\x1c>\\x17\\x10«b`X2»82Œ\\t½\\x05ژک®¥Œ*.ي<»xق´\\nüءBë\\x04\\x0b،ء\\u200d¤ëçEئjn\\x04ز؟ڑ\\x00tdذ[&ôt\\x1e;·‡¤\\x16yà’\\x12¹ؤا…½jژƒ\\x0ccM\\x00؛ےvtڈ\\x10ô\\x16<+\\u200cPvkô\\x19÷\\x04{.³ک\"\\u200eK\\x1c.گ\\x1fu1eô¯r¸ع¥?\\x1f•@6ُ„‚w‰qD\\x1c.¤شص\\x07س¬÷س\\x0c‡ثعy×\\x15œ†¢\\x12\\x18¾…Œ¾جb؛XW\\xadإDً-0Pe\\x122ً-¼\\x7fصع\\x01à×^µM‘\\x07W6َ\\xa0\\x19q¸\\x0eâpپn«مبطب¥\\u200cw\\x12>فذ@û\\x7f_oQî\\x01-Br!¸™\\x16“^ٍٹH_;0më³ُك\\xa0X\\x1eµه2>‹ˆخ…UIمذ\\x17\\u200c\\x0c\\u200cثعyï{?ïTش+S\\nêْ!ف¬\\n\\x16 ¥\\x11پ؛گ\\u200dNمذû^\\x11\\x19ج\\x07kâ©ي\\x13²Cھ4Zئچq\\xa0†Htُ»@ZححM¯تڑô„ش«k|ƒخ³%üé²é\\xadر·َ‹Ktم/\\x1f™ث\\x04يB¥\\x02فر\\x19?viا\\xad\\xa0n¹A<\"û“ى\\\\Aٌƒf\\x04ي\\x02O¢^6ZئأD\\x06_\\u200dldؤ\\x7f©J¨d~\\x7fسwث8ق#P\\x17îéشw½نe@]ضخ³\\n\\x10]شW\\t•^\\u200f\\u200e!¤\"sYچ@]\\x08-،q¨}ں\\x01uY;ïjFٌS™„ڑخuv\\x1eu ك\\x7fرضچè\\\\\\x07ر¹üî/\\tB&ز_@Lغآ»e×YTثےگ4ٹٌ?ےBë3¢s!N‰&Aُ@†خeي¸ثgغڑ´َ³4ْبo)h,\\xa0BپَîْءYmZوم\\u200fغر¥»´مئ،ج\\x15kéي<.¨\\tث\\'Br\\x1d„نB©79J3H.kç½ى¬s3\\x04ے™\\x042µq[Jچ#rc\\x13’\\x0b¥÷t\\x1c™h/Al}ü]G/\\x15,ڈًٹ÷\\x7f&}va¯Zتک8\\\\¨t¨\\u200cد(cوj}Pe¼µ8\\u200dI ه=\\x03\\u200c\\u200dYL‘^&\\x0e\\x17ت•ê82z¹Fl!\\x17\\x7f`10’kِإ\\x18y\\x12¢\\x10¯\\x02ظz^q¾z\\u200cثp¸ژ\"Tvآ\\u200f‡گص÷›jYK’?\\u200fp§H©‡بv&\\x0e\\x17jُê$dlçڑأ…X\\x0fP\\xad{ڈüآي:عًMڑڈˆأ…\\x18ـZ=42ˆ2\\x1c.kç™\\x0fX“½\\x12÷$ڈ\\x0c0LG¤£/\\x02VkG\\x13‡\\x0b…\\xade\\x122\\x1c®£Fla\\x12&<é7î\\x0e¶£…غهœéüل£(lآp،b»ِ=c/×X\\xads\\x01y8»^V\\x15أه¯#ٌ\\x1cDz™ˆ\\\\»\\x16ˆ\\x01h6aâش„\\xad\\x1doü}\\'’\\x10¹6دu\\x08\\x1f\\x07#8\\x17ز®h#¨فںپsY;دF€ُغچٹ\\x178Wاع‰à\\\\x–\\xa0خ«J(\"\\u200eثjحفعےضص_¢\\x1b‹‰ƒ½â’s %\\x047;‚sي|z#R-\\x03ç2،çث/ًهôbOk8\\x17Tب/e¶]€\\xadوiT»·7-\\x10ƒ\\x00®جN¨ىك\\x1d!Gچ\\x18ءز’س\\x7f)ںِإآjv¾¶—7\\xad\\ns\\x14ژض`\\x05U¶0:ےiمV\\u200d£”ن\\x01ٹ\\nov\\x17\\x0b«ظùع`ق\\x1a¹D\\x19\"\\x17زF½çaےأeظ)1Mاay„دf.\\x15\\x11œë 8×ضH+*\"\\u200eI¨ل\\\\ک„\\x15!¤\\n\\x1bز&په\\x11/ص¼L‘n‹8]àٹTا\\x11\\x1eّD·\\x15‘ء8*ںِژ’Aچـ®\\x1aخ\\x05\\x05ˆéO\\x18\\u200f\\x11§\\x0bص\\xad©َzCحp؛¬\\u200c²C×?8_بZآû`\\nçBِع×يu\\u200fـ‘\\n&8\\x17‚}ôsgTp\\nغZے&9\\x05خ\\x1eSâش\\x0fiàرإ-آp\\x1d„لآ¹«=¾ٌُ`پTِي\\n\\'mغcُ,t’\\x07ب*<m.êUë´!\\x0c×ضH\\x15ت`¸ً\\x7fûس\\x06\\u200co¹µX\\x08ةي\\x19wذE½jv¾ِH#ف\\\\؟|ئ\\x08®±Zëكى\\x1dز\\nû«–Gوâœ\\ng¹¨Wحqگ²=\\x1aGLFظضX-$zT¯`ê‰¨هwگ+ع×Tق»‘=L\\x18®M+ہ\\x1c\\x19\\x0c—\\t=÷پڈsI|8ثüـئ¤w،kR§fd\\x0f\\x13†k;ô\\x06ڑءp!آµVء+¢çؤ×û\\x7fœ\\u200cغ¶م*¯„ك¨G|J¦oے½قے™vظ\\x06\\x1bUI\\xa0¤ïzD“\\xa0p($àƒچvdg\\x139زˆب…·³ى”ے§S~1éOG–°uق\\x1aê\\x06َض\\x1eëچ%َآ\\x07¨3ءJڑˆ\\\\x@\\\\\\x06w†بu}A{\\x19سً1uPX8\\x17ü\\u200dR×«#8×\\x1fء¹قْ\\\\L5\\x19´‡9¾µüغ°\\x17ظ‹ë-œk\\u200e7م6m¦_EآLœ®ِ²vفCبp؛°\\x1ck\\x06إك?ى\\\\µé\\t\\nثط¾¹آ\\x05wآط8Bv!إdا‡s—(ƒىھه\\\\“TئڈV®aںُ#J_\\x13½\\x0b¹6\\x1d\\x1f™ôµ\\x01s\\u200c~4ثeNن`²eû¬\\x1fQؤL /œ,P?2\"nہ\\\\™ِh3ظ_´G”ة.”®ڑ\\x0c~ëث1x\\u200c4\\x111\\x17£|؟j#ى/üˆD¼`¶n?ôه\\x18\\x1c•خّرٹr¦_‘}¶_E\"Nx¯·sï(ƒ÷B¾‹ç«ءّ ûœ\\x1fگV_\\x07¯\\x0f\\u200d½آ·ق;ھ&]\\u200e¨Fظ~%ِY?\\x02=كOîWë‡ىXU“پ\\x1fm\\x1c=\\x1eçµذغï¬\\x1fA®{?\\x11`\\xad\\x1f2_U“پ\\x1f\\xad\\u200dgü û¬\\x1fپ\\u200d\\x03ضfuP\\x1f‘©&\\x03?¾سَZè×يqب§\\x13<!«E~ب:±ڑ\\x0cü }قج\\x0f,@ھZè×~\\x04zژ«\\x04ض\\x0f½کTM\\x06~´‘x¦_‘}¶_\\x05z¾ں¸°f|ًُ•ےلڑ`Bد«Q~¾ْIد÷\\x08\\x10v}ذْ!{Zصdذ\\x1e¤دƒُn-ôë~\\x15èùN¬°·^Lھ&\\x03?Dد»ëِZè×~\\x04zژ{f4>œy7±I]ثiْUWدإ>9>\"V\\x18N÷“\\x1f’\\\\¨&\\u200eِ0¬°ؤ8gû¬\\x1f‘\\u200d\\x17|×½Nشghِb2ًمK=7ط°ôzwڈ\\x08b×\\x07ح8×›@صdà\\x07ë9® tNزشB؟\\x1d\\x1f\\x11Ll/P¯§=t}UL\\x06~°\\u200dڈü ûl؟ٹôü¤ŒµيلŒڈKھ\\x07~°\\u200dڈü û¬\\x1f‘\\u200dں”±ض\\x0fةأيإdà\\x07ë9ژç<ے$\\x7fU\\x0b\\u200e؛_EzN01l¾q|¾\\x17“پ\\x1f¤دغ¨=~سَ\\x08&¶ں\\x1f4ي،\\x17kھةہ\\x0fضَ‘\\x1f?إçû‰ٌٍض»ؤ\\x15أ\\x0b\\x15ع\\x1e‰ّüْ‚ڑ\\x17=ôcناOٌù\\x1eqإ®\\x0fعِذُصù·ƒ3°µœGدGمم·ّ<¢چپ¥eُ\\\\_ل©&\\u200e~ehc‰ِ`ûن|\\x15رئv¢چ½\\x17]_ehcµœt{\\x18عX^د#ع\\x18¶p©=T?2´±ZNقڈكâَ“\\x18وچs¢چپL-م<C\\x1bغ‹QمG\\x7f]آِظ~\\x15é9رئp\\x1cQ\\u200eبè¹\\x01‰eئاoz~rؤـِ\\xa0ّ\\\\كوظ3\\x0c²j”oڈكâَ\\x08G¶\\x13ژى\\xadï\\xadT“ء|ُ¥\\u200d\\x1b|ظ\\x17م<ب·ïD&\\x03يCûU\"ك^ثyعمف>\\x0c.ûQbں\\x1d\\x1fQ|Nd2P”شڈŒ\\u200d—rٍ\\u200eê7=?\\x19bîّ\\xa0ّ\\\\¯…ى…?6èWœo\\x1f¬K\\x0cش,ك¯\"^\\x19N‹Y\\u200eذk!ص¤ïG)\\'ف\\x1elںىW\\x11¯l\\'^ظ[كf©&\\x03?8>\\x1f¬¯\\x0c¯ى‹ِˆٍيؤ+أة3\\x19\\x1fإdà\\x07اçو€¬\\xa0h÷Rè·qشI\\nَئ\\x07ٌتقzسe/&\\x03?¾Œد\\n؛ى‹ِˆô¼ اî<ƒ^zظ‹ةہ\\x0fزçQüaPg_ّ\\x11إç\\'ق¬‰?ôز\\x0b°·م}خj”\\x1fç؟éy\\x044\\x03\\nذخWح‘مr.£ڑ\\x0cعمK=7@³/ع#زَ“tض´‡>é‚{r™ِّ2>/…~=خ#=/`±{|è]ک½ک\\x0cعƒôùm®عê؛ؤ\\x00ح¾hڈ(كN@³·ق…\\x01ـ=س\\x1e¤çï\\x16ع¬çKj،ك¶G\\x04:أچ2\\x1a\\x1fھ\\x1f\\x19ذY-ç®×¨=\\x0cَ,ك\\x1e\\x11َ\\x0c|,ٍC×»إ¤ك¯\\x0cأ\\x0cُ\\x1aµ\\x07غ\\'×%\\x11َl/\\x18²:>paKô<أ<«هنغم·ّ<\"،يDBغô†L5\\x19´\\x07éù°_\\u200e–oڈHh;‘ذ6½,SM\\x06~ˆ\\u200d÷َش†„ِإّˆô¼ذة\\u200d~¥û\\x1fإdà‡نغûù\\x12CEûآڈ(كNT4pît|dِد\\nً,‘/aûى8ڈô¼ذد\\u200dِذ<\\\\\\x06گ¶\\x17£ôْٹي³~Dz^ہfڈ\\x1fڑ‡+&ƒ~إûçƒ¸ض\\x00ص¾èW‘\\u200d\\x13 \\n\\x0fUk؟تè¹\\x01¤eْصoùِ\\x08گ\\x06è·رA\\x1cخ\\x16?2€´ZN؛_\\x19VZ¾=\"VعN¬´Mك‡©&\\u200e~eXig{ôç]¶Oژڈˆ•¶\\x13+mس÷aھةہڈ/÷د\\n[ي‹ِˆخأ\\x11+mسK8{†•Vچزû\\x06†•ِ…\\x1fQ|N¬4ـ9رٌqIُ\\xa0=¾شsأJûآڈHد‰•†cSêG&>7ى³ؤ|إِظٌ\\x11éya¢فْ،¯ئà¶R\"ژ*Fùùê·\\u200eَ\\x13Xوه¯ˆ\\xa0†§ظ´=2ٌ¹!¢eعم·\\u200eَ\\x08¦¶\\x13Lmسû8صd0>Dد\\x07َîoùِ\\x08¬\\x06J»صءوٌؤڑ÷ة€صj9ù~ُ›\\u200dG`5<\\x02A~è9€\\x0cX\\xad–“ِأ0ضٍَUؤXغ‰±¶é\\x0b3ص¤ك¯\\x0c3-1>ط>9_EŒµ\\u200c\\x18kغG×»\\x19ئZ-\\'ك\\x1e؟إç\\x11cm\\'ئ\\x1a.؟ة|UL\\x06ي!ùِ\\u200f87L¶/ْU¤ç„[أحVُ#£ç¥œ|{گ\\u200fgûU¤ç„[غô>خ^L\\x06يٌe|npk_´G¤çD^غôف™½ک\\x0cüگ|{»ï,|ژZè·yر\\x13tوé9‘×@صذ~•رsCRKؤ\\x1flںيWQ|N\\x10¶ي\\xadëف\\x0c„\\n¼œS‡ٍمم7=?™gn{گ\\u200d;÷q\\n/mذ¯¾ـ?7\\x10¶üّˆ lx\\nئê¹¾\\x0eTMْ~”rزq\\x14غ\\'ûUؤcغ‰ا¶m؛.ةًطj9é~exl_´G´\\x7fNl¶ح¹ےQL\\x06يٌe|nطl_ّ\\x11إçؤfغôه‘=أf«Fù~ُ[¾=b³يؤfغّ¥\\x16ـڈت°ظھQقڈكô<آ´ي„iغœû\\x1f\\x19L[-§ٌ£…_ê¹\\x0cƒuC؟آ“ïحyّGؤ,´dڈˆm×\\x07د¾َوـےب\\x10غj9ي8ï½%$ِY?¢|{پ¨فy\\x06}بcد\\x10غھQق\\x0fٹد³~Dz^بlڈ\\x1fڑ÷ةہغِb”ïW¤çY?¢|{ل©=~h\\x1c•ل¸ي†ثvإƒ\\u200e~Eْںô#â¸يؤqأ\\x03!²Nجpـj9é~e8nùq\\x1eqـvâ¸mْ¦G5éë\\xa0A´%عƒي³ي\\x11é9!فًè²¶ا%ص\\x03?ن<\\\\ےـ«،»}ر\\x1e‘\\u200d\\x13èm[t}UL\\x06~H|ق×\\x0fأ|ûآڈ(>\\'ü\\x1bPءع\\x1e™ّ¼”“\\u200d¯ط>غ¯¢ّœHp€±«\\x1f™|»پ¼eئ\\x07إَY?¢ّ¼ہظîyWں)ء#\\x04‰|»پ¼eü\\xa0x>ëG¤ç\\x05خvû،/–ىإd0>ô<\\\\W?\\x0c\\x14î‹ٌ\\x11é9Aلًîڑِ«جùv\\x03y;غc0خ\\x7fسَ\\x13اوإç\\x04…\\x03~K\\u200eبىں\\x1bق[¦_\\u200e¦ç\\x11\\x1fn\\'>ـ¦ڈةT“~؟2¼·„\\x1flں\\x1c\\x1f\\x11\\x1fn\\'>ـض¼hT÷?2|¸ZNz]bّpùٌ\\x11ٌلً\\x00³ح—ًَ©ˆ\\x07‹ة\\xa0=$>ïڈ\\x0fأ‡ûآڈHد‰\\x0f·9÷ٹ2|¸]ّpxD\\xa0أ¹\\x13ûl؟ٹôœّp›s¯(أ‡غ‹QZدظ>ëG¤çؤ‡غœ{Eإdذ¯4كقoڈكôüؤ·yَ.ٌل6}éd/&\\x03?ô|{كڈكôüؤ·¹~\\\\:|ëù¤ëف\\x0c\\x1fn\\x17>ـh|ü\\x16ںںŒ7×ڈKW\\x1f?t½›لأيإ(?ï\\u200f¦ç\\'¾حُƒٍيخ½¢\\x0c\\x1f\\x0e}ˆ÷\\n\\x06َî/z~\\x14‰¯Q?ت\\x07M\\u200fJî\\x15ف&½ٌq\\x1b%غCيSَ\\x15\\u200fجçة”\\x0f\\x1a?نٌ–غdà\\x07كW3O‚0/م.ôِ;ë‡\\x1fں£<زsyاه6\\x19ّ،ùِخ|u\\x17ْµ\\x1f¾\\u200d£<ث‡غن^رm2ًCï«ُ\\u200e ûl{ّzژJ^ء÷=_ة½¢غdàاUNRدïB؟n\\x0f_دQق¥«ڈ\\x1f¬\\x1f·ةہ\\x0fرَc,×\\x7fœo؟\\x0b\\u200eع\\x0f?>Gyِ¾عئ<ïےف&\\x03?Dد\\x07~ü¢ç(زڈدث\\x07ي|إùفغdà‡ؤç\\x03?~رs\\x14éاçهƒض\\x0fخïق&\\x03?tے¼?خ\\x7fرsشإد·—\\x0f\\x1e?\\x104P|~›\\x0cüّJدïB؟\\x1d\\x1f\\x01\\x1fn\\x06ëقؤƒ«ـ+؛Mْ~\\x08\\x1f®»N¼\\x0b\\u200eعڈHد‰\\x0f·تû/ّتKھ\\x07~ب\\u200eَ^<x\\x17ْµ\\x1f‘\\u200dںà¸¶_ٌz\\x17_9خ·كFi\\u200e(…~يG¤çؤ‡أ«“2>\\x12|8ٌّU¾]ي“z~bà¼ُ.ٌلVy±\\x04_yIُ\\xa0_‰\\u200d\\x0fْ\\x15ظg\\u200eˆôœّp«<^\\x02?ئùِغ(½n/…~ف¯\"=\\'>\\x1c\\u200dtر~5خ·أڈ¯âsµد¶G¤çؤ‡[ه\\u200f\\x07¾r|\\x1eî6ت·اoz\\x1eًلً\\u200e6>_ه\\u200eڈغd0>Dدûë’ٍ½_÷«Hد\\x0bü\\xad®wWyے\\x03~Œَي·Q~ق\\u200e->\\x0fّpَ‹ّp«ـے¸Mْيلًل؛ë+¶Oژڈ€\\x0f‡Jعûç«ـے¸M\\x06~|©çج‡ثْ\\x11é9ٌلV¹ے\\x01?2z^Œزمœي³~DzN|¸Uقے€\\x1f—T\\x0fعمثّœùpY?\\x0eùôôœّp«¼ے\\x01?2z®|¸\\u200f|إِY?\"=/ً·{¾’û\\x1fً#£çإ(=_±}ضڈHد‰\\x0f·ت\\u200e\\x0fّ‘رsو½لBL7دہِY?\"=\\'>ـ*÷?àGFد‹Q~œے¦ç\\'¾ح\\x1d\\x1f¤çٍ\\u200f\\x07ü\\x18ïںكFڈ\\x1fkغ\\x1eü¾پعgغ#زَآi»ا\\x07؟\\x03‹¼O‚\\x0fw\\x1b5~´ëvوâ¨}زڈ€\\x0f7ƒ^cمs¹ےq›ôç]‡\\x0f×صs¶دْ\\x11إçؤ‡[ه\\u200f\\x07üبؤçج{\\x03ا«ï\\x07é\\x7fضڈHد‰\\x0f·ت\\u200e\\x0fّ‘رsو½\\n\\u200e\\xa0ü|ضڈHد‰\\x0f·¾5\\x0f—àأءظ/مs¶دْ\\x11é9ٌلً2¦ؤƒ\\t>\\x1cüّ2>gû¬\\x1f‘\\u200d\\x13\\x1fnفّـ\\x12ھکرَb”ض\\x0f¶دْ\\x11é9ٌلضو‘طëœ\\x0cüبè9َقFzخِY?\"=\\'>ـ*ïتہڈŒ\\u200d3ïm8خ\\x7fسَ\\x13اوé9ٌلضMَp\\t>\\x1cœ\\u200e2>gûl{DzN|¸uمsْ¨b&>/Fùٌٌ[|\\x1eًلf<ٹnُ|س}œ\\x04\\x1fî.\\'ي\\x07َل’ي\\x11ًلً\\u200e\\x14ںث\\u200e¨غ¤؟.aقغhœ³}ضڈHد‰\\x0f·ت\\u200e(ّ‘رَb”oڈكô<àأ،’vے|]5/ZL\\x06يءzق>مت›ظےفكûm\\x1e.àأ،¼K‡ïuûھûخإdà\\x07ëùز¼\\u200e-ڈlكك{ûٌ7م ن\\u200eï™lج=/üY¤çؤ‡[WفاIًلت\\x17<ïf\\x00–ق<«û¢ةüh\\x0f»ك¾¯و¾Zًb;\\u200f,زsâأ\\xadrد«ümےفŒغ¨\\u200f¾àز·ٌ ك?Wû¬\\x1f‘\\u200d\\x13\\x1fn]U?\\x12|8ش«صçد؟؟\\x17\\x03ڈژ6 \\x1b<°فô¥à\\naüY´gNL¸Uق’)\\x7f;lƒVأڈ؛\\x1b&5؟\\x15~\\x17zµ\\x19ى³~D\\x1aNL¸Uق’ءWf4ـ0ل2~´\\x1a\\u200d÷#`آح/bآ\\xadr·ë6éدQ†ٌvْرخQ4a\\xa0_±}²=\\x02&\\x1cت#\\n—»]·ةہڈ6ئخّAِY?\"\\n\\'&ـ*w»àGFأ\\nم-ر¯ط>ëG\\x14“\\x13\\x13n]tژJ0لàl«ل\\x19?ب>ëG\\x14“\\x13\\x13n•·dPإLژف0ق2\\u200eھصü/ئy¤لؤ„[هn\\x17üبؤن†ٌ–iڈVأ؟ً#زpbآ\\xadr·\\x0b~dbrأ„ث´G»ا\\u200f…\\x1f‘†\\x13\\x13n•»]ً#\\x13“\\x1b&\\\\¦=~سَ€\\t‡JRژ}ض5n1\\x19ج»_êy)ô[=\\x0fکpًأ\\u200di_g]م&کpw9w½¼5U)èغ؛\\x07\\x1c¸ùE\\x1c¸Uîsف&\\u200e60\\\\·D_bûن\\\\\\x1bpàPIزp¹دu›\\x0cü\\x10\\nGحî\\x7f؛>7\\x1c¸üط\\x0e8p¨¤=ا¾ت}®غdàG\\x1bW\\'و¨ٍ½_÷«Hأ‰\\x03·ت»Dً#³On¸n‡\\x1fmطاڈ#`mبِظ~\\x15i8qàV¹\\x07…¯جh¸لہeعم7\\n?±k^\\u200f“8p«ـƒ‚\\x1f\\x19\\n7\\\\·Œ\\x1f؟iّةrs\\u200e°çطWy_\\t~d4¼\\x18=sي \\x06dûl؟ٹ4œ8p«¼ç\\x03?2\\x1an¸n™ِّMأOL›غ\\x1e¤لٍ\\u200d\\x0füبى“\\x1b\\x0e\\\\ئ\\x0fزül{D1yل±فù6ç\\x1eT‚\\x03\\x07g)ئ~µx\\x0f>T~جW؟إن\\x01\\x07nئôhَêخ=¨bز×\\x0fأu;çفv{Y÷ûظ>ظ\\x1e\\x01\\x07\\x0e~گ\\u200d;÷\\xa0\\x12\\x1c¸»œgœ\\x0fعأpàٍz~b×¼ٌA\\x1c¸UقَA\\x1531¹ل؛\\x1dيلنغط&غ\\x06‘†\\x13ûmه4+خژ$طo·Q³®mَ;؛¦*…~»\\x16\\tطoّ~ت¥;wں\\x12ى·»œ¦/mحعگ6°0¶K،_û\\x11إلؤ~[9}\\x7f´GFأ\\nثي\\x1cغ\\x03?~سً€\\u200e†J’†؟ôجE‚\\u200ev—“ïW؟إل\\'؟ح\\x1dغ—–VحXن\\n\\x1fT1£لإ¨éWي\\u200d‹ق\\u200ceûى8ڈٍêؤ~[vف3K°كà,الںپ\\x1f؟iّ‰fsغأئل‹s÷)ء~ƒ\\x1f¢لƒٌٌ›†\\x07ى·ùEى·إ¹3”`؟فه4مcw™چçپ\\x14جW†\\u200e–×¾€\\u200e†ٍ¬†/ٍِحmز_‹\\x18–غ9_ُû\\x15غ\\'اا‰Zَْ\\x15±ك\\x16yû\\x06~d4ـ°ـ\\x02\\ng›lف#\\n\\'قغâـغJًقà çز\\u200cُ\\x07غdë\\x1eإقؤx[œ»Zإdذ\\x7f(–ِضN†ëِEكڈ´ڑ¸n‹s?«ک\\x0cêNع‹è¶?†\\x7fسê\\x13»وِ}«صثGs´\\t®\\x1bْ\\x0fiïذڈك´ْؤ¨¹~گV;÷6\\x12\\\\7ّءûقƒx‚ي³c\"زjâ؛-خ½چb2èW¬صقx\\u200fMں\\x03–\\x1b~;زgySل6\\x19ش\\u200eث\\x18غ°كٍc;`¹ح/b¹-ٍ¦آmز÷أ°ظP¯\\t%÷rحlںىK\\x01ث\\n•$}vî8$Xnw9÷:crخG\\x19~غ\\x17m\\x10يu\\x13؟mqî5$ّm¨»نةےڑD‡\\u200d\\x05aûl\\x1bDْLü¶إ¹×گà·ء\\x0fظëîë\\x04غg\\u200eˆ´ڑّm‹¼£€*fٍن†اvو\\x01\\x07يٌ[\\u200düd°y:Aü6œ–“sô\\t~\\x1bœ\\x15ف\\x1eٌّ›n\\x07ü6|?é¶s\\x1f ءo»ثIç<J،كو<\\x02~\\x1b¾ںt[قƒ¸M\\x06s-ë6\\u200dأx\\u200féùAأ{ûb¾ٹt»p×î\\\\پ¼\\x07\\x01?2yrأo\\x0bb\\x08¶ةژي(7^XkOفُى|‚ظ\\x06\\x07Y·\\x07{.lںَ\\x03ïDùw^¯\\x0f\\x1e¦ب¢gخ«I·/U£ق>½طdë\\x1eـ\\x1b›N€[Swy÷a®&ƒ؛َ\\u200fv\\x7f\\x1cشB؟\\x1cدس‰csو×ëƒض\\x0fوùآڈD,]چ²y}±د¶G\\xa0غ\\x13qع\\x16=g^M\\x06يٌف\\x19µZè×ي\\x11èِDœ¶EدgW“پ\\x1f\\x1ccمإ´وں\\x15رےذب?éِtâطـ~uéç=G\\xadrںنْغءظàjشô«ِE#ر\\t±دِ«àŒ\\x1a–خfےn‘w\\x1fًس%ِ·«رم\\x07_4=عà§\\x18{ٹطl×\\x07حطضsحصdذ—$ئ\\x1e´ءO{عSؤf»>h\\u200epو¨„V×rْmًSŒچH1ز8ٹ±ه]\\x044{âly5jêîںف/¹c±Oژƒˆا6\\x11ڈm‘w\\x11وjزïK†اvئ\\x13}?ط>ëG¤غؤc[ô,َ”ل±U£ô¼T\\n\\u200eV\\'Nü™7؟\\x12ڈmر³جS†اVچ؛cآ0طزkïéD¤¹u·wآ\\x16=؟|\\u200eيH\\x1b\\x0cƒيىKr7،\\x16ôُï\\x1eé3q×\\x16y7\\x00م \\x11WW£|ےùMںOج™غ\\x06¤دzضwتp×ھQ؟ےü\\x14KO\\'\\nح\\xad;i²\\u200dï½\\u200fvط\\x7f$\\x07îôںك4ùd¤¹u§ّYد÷N\\x19¾Z5êےî؟épؤT›ˆ©¶ب›\\x00èû\\x19\\x1d6Œ´sے°؟\\u200d`û¬\\x06DڑLLµEق\\x04€\\x1f\\x19M.FiMfû¤\\x1f\\x11Sm\"¦ع¢gz«I_“‰‘\\x066q“ٹلأ9X§²½ُمYèغ;©SؤT»>hضw“®ï\\n\\u200flà‡eھŒ\\u200e û¬\\x1fA\\x0e|\"¦ع¢g“«ةہ\\x0f{\\x07{ى\\x07ظg\\u200eˆbibھ-ٍ&\\x00؛@â¬x5؛ئاك?@¤غ7*…µ$ِY?\"\\xad&¦ع¢gz§\\x0cS\\xad\\x1a=~کXZخث‰}ضڈ`ïz\"¦ع¢gz«ة\\xa0_µ:|´‡ظ»\\x16وy-ôِ;ëG\\x14K\\x13Smر3½S†©Vچٍ\\u200eھصpّ\\u200cُ#8+>\\x11SmQ–~5\\x19´G«د™ِ û¬\\x1fA\\x0e|*ہ´;Gَ’³\\x04صdàG\\x1b3ںم¼چétMU¾÷ë~\\x15é91ص\\x16=س;eکjص¨éW\\x03?عüy¾_ELµ‰کj‹\\u200dï\\xad&\\u200eِ F\\x1aقLhs\\x7f:_±}²_\\u200cب3oچKLµEد÷N\\x19¦Z5Jڈsb°eاù‰<s\\u200e°w؟feéO\\x19¦Z5zü\\x18¬¯ˆء–ِ#زsbھحتزں2Lµj”oڈ6—\\u200fإّˆôœکj³\\u200dï\\u200c2Lµj”ضsbھ¥غ#زsbھحz¾wت0صھرما‚.zےسy—کji?\"=\\'¦ع¬ç{§\\x0cS\\xad\\x1a5~´{َr·Eى³َU¤çؤT›wل\\x1bL\\x19¦Z5ھٌà\\x0eٍWwدإ0ط>ےِ\\x05¯^<ے‚7ـç)bھ]\\x1f<qش¬ç{«ة@?ّ,Z»lW¶O-ôژƒ“qي‰<sç]›3ںُ|ï”aھU£\\'>_ع3\\x06r?Dى“~DLµ‰کj³\\u200dُ\\xad&\\u200eِ0Œ´#_2h\\x0f¶دْ\\x11هج‰©6ےé:±ک\\x0cüà½î‘\\x1f?ٌX¦\\x13yوُ+bھحْ¶ءُ·£¼،aھ\\x1dي±µ÷\\x11tO’ي³ي\\x11é91صو?\\u200c¯2Lµ©\\x18=مƒ،fبُ°M¶î‘†\\x13Gmضw\\x19¦\\x0cG\\xad\\x1a5uosˆ؛ئ-…~;GE\\x1cµ‰8j³¾\\x03PM\\x06c‚د¥ل…‡خ™سZè×~D\\x1aN\\x1cµYك\\x01کٹةہ\\x0fخ¥\\x0fخ\\x1b”B؟ِ#زpâ¨ح\\x1f¹35e8jصèéWoôّک7!ِظٌ\\x11إنؤT›ُ|ےTL\\x06ي!w؟ع\\x18Ps=¥ذ¯غ#ٹة‰©6ëظٍ)أT«FO{`•ن\\xad‘ê¾73ط’ي\\x111ص&bھحz¶¼ڑôغCکj\\x1fَ §œاùچ©6ELµëƒfm¨gث«ةہ\\x0fضً؟îفلZè·\\u200eêDکy\\x1aNLµYyيS†©Vچ\\u200d~ُic\\'9g.ِظ~\\x15i81صfهµO\\x19¦Z5jü\\x18ô+:ك–ُ#زsbھحzخ|ت0صھQ¾=ژ\\nU\\u200fh\\u200fLآ‰<sû•ف\\x0fںكz^-أT›„©ض^!qِزط>غ\\x1e‘\\u200d\\x13SmضٍَS†©Vچٍيٌغ>ù‰<sغأî“دتkں2Lµj”÷م·=َˆ©6\\x11SmV^{5\\x19ج»¢çƒq\\u200fغ9¶ˆ©6\\x11Smضsےصdà‡قهîوH~م«M\\x11_يْ\\xa0رA=÷_Mْ~\\x08_يس½“^\\x0b\\u200eV\\x07#¾عD|µYùùصdà\\x07ëù@\\x07\\x7fم«M\\x11_يْ\\xa0m\\x0f¹كSM\\x06~ً½±ءْê7¾عtâج¼ùٹّj³ٍع¯؟\\x1dه\\x16„¯6ذڈكّjس‰?s\\u200e¸tµî\\tخخ½†\\x0c_يْ‚FںAصéفم\\x13û¤\\x0eF|µ‰ّjَھgJ2|µZN\\x13\\x7fôدئ0ڈ-ëG¤ç…sِ´‡ئµ\\x19¾ع$|µQ{ü¦ç\\'\\u200fجيW¤çتkں2|µj”ژ\\x07™ا–mڈ(>/\\\\´§=4÷–ل«MآW\\x1bµاoz~âجـِ\\xa0\\x1c»s?#أW›”¯6\\x18ç?±Y¦ˆ¯v}ذè‡s?#أW«ه¤×‰؟ٌص¦ˆ¯v}ذّ،,\\u200ejز×Aو¥ل\"r7_آِssq›خïELµ‰کj³ٍع«ة\\xa0î¬ل\\x03يc¾Z¯îQ\\x1cNLµY\\x19يS†©Vچز:ٌ\\x1bSmٹکj×\\x07mے\\x11وq5\\x19´\\x01إص کu×ç؟1ص¦\\x13yوحKؤT›\\u200c{&\\x19¦عُ\\x05يْمف2ٹ4ےة\\x0c¶¤NDLµ‰کj³sد$أT«ه4َR—û(ِY?¢¼za›فz§Œِ)أT«Fy?~‹أOن™غ¯.\\u200e|üگwى¦\\x0cS\\xad\\x1a5û\\x03’؛eىZ¶\\t¢Tzءں=U×¥l\\x06£6\\tFح¹‚ب6ة؛Gè´‰ذi³s]&ƒN«ه<?ûضjƒn¹\\u200f†N›\"tعُA3½:×e\\nه¬?½\\n:m0-\\u200e†N›\"tعُAë‡¦93è´ZN3œûW8~أ¨M\\'ءج\\x1bخ„Q›\\u200c«(\\x19Œعُ\\x05\\xadLŒْصoéَ“fوْAل¶s\\x15%ƒT›\\x18—\\x06^oW¶\\x7fأ«M\\'\"حُƒزçخU”\\x0c^يْ‚¶=ِِ\\x08®\\xa07إ>;_Eلvء¢فs\\xadbظ§\\x0c^\\xad\\x1a=مم¯M\\x0fêر<ئ±e\\u200eˆd»`خ\\x1e?t9کء«M‚Wûkùj؛Mِ\\x1b^m:\\x11in؟\"ظv®¢dًj×\\x17´\\u200ejناoلv„Z›\\x08µ†\\x0b4Œ1ھ&\\x03\\u200eàôù_û\\\\\\u200c£ƒ؟…غ\\x11jm\"ش\\x1a.ت‰\\x1fإ¤ï\\x07£س\\x00ىىل\\x7fê÷~›>ڈPk\\x13،ضہکU?®جّہ\\x0fIں·ë\\x12=bّ\\x1bvm:)gقّ ى\\x1aُّêG\\x06ك¢طµ6m\\xa0ا©~أ®M\\'هجُأ^\\tں\\x15¥}\\u200eي(}.طµد\\xa0=~سَ“ٹوْAz®(ي)ƒ]«FM:،ûœ¼ط\\'ُ#آ®M„]أbBûU\\x02m^ثiآ¥ِ\\x08®س¯~»*\\x1ea×&آ®Mخص‡\\x0cv\\xad–سّ1\\x18\\x1f؟¥د#ىعDط5ü_غمٹک\\x07َ\\x15£\\\\ج\\x19u=jدطµyٌ×ù”*<‰gîّ°zژ~«~d®گ\\x0bvح<?ëô«كôü$\\u200d¹~طô9&\\'ُ#s…\\\\\\x10lƒ£ؤ؟!ط\\xa0\\xad>\\u200dوْà‰\\x07!4ىG5éِ«jشŒڈn؛Mىsَ\\x15d!ٍأ¢S،ïêGBد¯/h×‰kë‡Œ\\x0f±دْ\\x11\\\\!ں\\x0bk\\xad®غ±îQ?\\x12z^ثyع\\x03@\\xa0\\x0e\\u200fKى³~\\x04iu<zo°Yˆ#شڈؤ\\x15ٍZNُمƒG±ْ~X=ےط+5Oç¶َ\\x15ق÷چْ•صsؤظêاe2\\x18\\x1f6\\xad\\u200f\\x06b،ٌCزرW…\\u200d~ّئف‘ئ>zھ\\x19O\\x16F~طّ\\x1cy\\x0fُ#،ç×\\x174ُآûnn½تq\\\\±دْ\\x11ؤçXكR؟rئاe2h\\x0f«دo¼Oقo\\x0f²دْ\\x11ؤçˆ7¬\\x1f\\x1fY_U“پ\\x1fVدا~گ}ضڈ`;\\x1c€pٍCزêصdà‡صç±\\x1fdںُ#ب±ƒ…J~8َUBدk9u¾\\x1aûaمَى8ڈ0m€ة‘\\x1f\\x12\\x0fV“~{\\x10v\\n~´ë]ة3شBo؟“يqRرœُ\\x15ٍ\\nن‡خW\\x19L[-çiڈڈؤنb“\\xad{¤ل„fأق·جµ\\x194\\x1brDوˆَûµ´s\\xadنقؤ>ëG¤ل\\x05¯v¯Eّ§ûكŒ»¨g\\x15\\x07}ةj2î\\x0b´WQtMEX·÷üِڈV’†ںط5·/‘†\\x7fT32ب6ـ…£ِ\\x18h8غgغ#زًآc»غC¯شج\\x19d[5zئ„¹âنŒ\\x0f\\x1b“§ç¨HأO®[\\x13sèS\\x01s1\\x19ô+ضًQ{ü¦ل\\x11تm.œ¶§=نZl5\\x19ّء\\x1a>ٍم7\\nڈ°n3aفp\\x14Sç«DL^ثiْU\\x7fچKX·t؟ٹ4œ°n8o«~d4œ0moن¦»k\\\\¶Oژَ\\x08ë†½L«}z¥¦ڑôû•ء´}\\u200f\\n\\u200e`û¬\\x1fQL^کm÷ّذ\\'ہ! \\t\\u200e(FM؟j¯œéZ„ي³~DzNX7àê¤_\\x15“A{ˆ\\u200d·~è¼[\\n}ضT9\\x1d<رl\\u200d\\x0e\\x12ض\\n\\x18?ُ#£ç¥œ§=^فëï3غ\\'ُüD³¹~گ\\u200d+.pخ`فھرم‡I-ب^³طgûU¤ç„u\\x03³Tغ#\\x13“—rزzخِY?\"=\\'¬\\x1bگ°êG&&/هناùoz~زغـ~E1¹>e>\\x17ٍغ`œ³\\u200dڈئ\\x07ëyrœG19aف€@ضِبè¹ء´\\x1dْ1X\\'²}¶_EzNX7<}،~dô¼”َô+>أّك<³M²î\\x11تm&”\\x1b¸>R÷bزïK\\x06حv´\\x01\\xa0»\\x1d\\x1cA\\u200eقoمً\\x08ه6\\x13ت\\n\\x0b:ُ#£ل\\x06حvّaً\\x10\\x1aث²}¶=\"\\n/Hµ؛\\x16ءsLêG&¯nذl‡\\x1f¯¶=Tأظ>©}\\'ژح›£\\x08ه†g\\xadشڈŒ†—r\\u200d1±tدُà\\x18¶چ}³يqHµë‡صp¼E¦~\\\\&ƒٌء1ùh|گ}ضڈHأ\\tه†غ\\x16êGFأ\\nڑيèWNWâ0<\\'\\x13\\'پحm\\x02›Jاث{ZُŒl\\x17ؤ[3½v\\t6¸\\x1dٍ[WٹRéDoأ«–êGbk|&\\x1a\\x1b¦¨\\x16O%Gِؤ>غ•\"ظ>±nOZن¥´0l¾\\'آ¥bش,k\\x07~ü–JڈèmsA³فS\\xad³ُ—،·صrڑ~صزٌœٌٌ[*=¢·حDoأ‹¹ز¯ٹI\\x7fٹ\"\\x1a\\x1b†v÷هءْ½ك†}\\'پح\\x1bçDo{)½mخذغھQ\\x13ِµي،ax)ôk?\"\\t\\'z\\x1b²2ع\\x1e\\x19\\t\\'\\x1a\\x1b¶6ع£Uڑژf{Œَû‹)\\x05}آزـ6°غلx‰]ë\\u200d‘m¢±½_s\\x7f®e{àضـmNِ#’m¢·ل…zُ##غDcƒ\\x1fBƒںظ&[÷Hھ‰طِr¶\\\\‹ة`<“\\x0ec;أ\\u200f\\x08\\x08\\'JAOككü×_ùwڈBl¢´½”67g(mصè\\x19أوx‹م‡hµےJ\\'û\\x11i5Qعp¹PûOF«K9چ\\x1f]b,nےَڑ#çG¤صDiأأ\\x06êGF«‰؛\\x06mè\\x12JAc ?جُ،gلأي\\x11…طDi{éëه\\x00Y$ض\\x1cD]َ–¯l\\x02آ’{’‡ھ\\x1eپظf\\x02³پ/!MPLْأ™@kکٹْث\\x0c¶دْ\\x11eةOb[³ىsvY‹ةہ\\x0f{\\x12}ى\\x07ظg\\u200eˆن™ہl/\\x05هح\\x190[5z†¶®ôJ9حت\"×•¢چnb±½”چ\\x07¼Nb\\x14\\x14£fإع®¼u…ؤَِض®D\\u200d¤\\x08\\x0f‰H\\u200c‰إ†ç=tHdش¹”S\\u200e@Z¼\\u200c]51Nِط°دµG¤ش…‰vG\\x10ْ\\x06;ًS™ِ\\x10¥îoن\\x11‹-يG¤عؤb{9\\x1b«\\x19\\x16\\x1bکafض\\x1f·\\x07«v²=\"ص.\\xa0µ§=tُڑa±پلF\\x07(¶vھ•Cغb\\x0f¸`fُ\\x1a±طfb±ل\\x0c¦ژڈŒj—rڑqقe«ضïmو«œ\\x1f‘j\\x13‹ي¥oةدإd \\x19\\x141#\\x12’•,ٌ×0&Ruڈّkà\\x11ڑحي×¦\\x07\\x06‹I؟îؤ_C\\x14§‘\\x1bغdë\\x1eI51×^ت$ؤج—ک—ˆ،vD\\xa0ٍ»³M¶î‘<\\x17قظ=†•{‡oبش]7±»\\x07²‰³–î?‘V\\x13gي¥ـ;\\xa0T3~ً،´w«½\\x1a\\t\\x11g\\n‡UZ\\x0eط3!’VGœ5pki\\x1cèٍ5أY«ه4s‘ês)è™\\x7f’uڈô™طj¯Mُ أVأ^\\x08é\\x01¶ل\\u200d\\x7fN\\x1bبA´\\\\\\x1bDْLl5lسٹ\\x1edطjہ\\x0e‘\\x1fk÷’›طم‡ب\\x1cîڈطjsaœفc[Ywصd0§تئu\\x7fs‹طjo¬’فحI\\x1e\\x13QTMlµ×ھë×\\x0c[\\nŒn^/u/O²}عڈHں\\x0b\\x13يi\\x0fحrdطj`¦ث؛¯ù}5.\"û¬\\x1f\\x11[m.Œ³ا\\x0fحrdطjµœ&¤َ³aُز\\x08±صز~D؛]\\x18g·\\x1fتV›‹I\\x7f|\\x10+mغ·\\u200ff<ظ\\x1f\\x07™3م<â¬حؤY{-؛v*&\\x03?¬†o;oر ƒIl5شفد4سط>±f^\\x06œ8k¯E/Xd8k3qسذ\\x06\\u200eCٌd\\x7fؤtî\\x18b?¢\\x18»ًخ\\u200d¾¤sT1\\x19´ء¥ےwŒ\\u200eظüŒن=&¬=\\x0eم´\\x1bِلژDؤYأ»\\x12v\\u200e،œµj2ًأj2ٍـ\\u200eأ\\u200eؤY;p;™ک.â¬ل\\u200c\\x0fٍC×Q\\x19خZ-§¶اْnفàس\"اّ°ڑ؟îf|Dowلy\\x15T×\\x1d\\x1fًِظkر5U†³v}ءsAo5O^éغ]bے6~„ëعˆ³†wp¨=tM•ل¬صrîِXض6—¦عGذµُ½ْ¹\\x05\\x1eç‘†\\x13tي¥à²9\\x03]«Fصڈe7`&چY\\tہ¶b\\x11گ\\x19\\x1f\\x11€\\naٹm\\x0f\\x05—U“\\u200f8\\'\\xa0ع²r¾\\x1dc‚m>¦îل\\x1c\\x15A×°لGu×ُG\\x06؛Vث©m€÷\\x16û—؛\\t؛¶@\\x0c]†*ُ¥\\x08؛†÷¹ب\\x0f=$”پ®صrn?–ِـµ3¶\\t؛†uXjLDذµ™\\xa0k/ç@\\x7f\\x06؛Vث©~à’{?\\x7fV\\n½\\u200eئ6Xfë(‚®لف7غ\\x1e\\n]«&ƒ1a5\\x19osَُث\\x04]\\x03\\x13³…س„—س#è\\x1aقل#?t=کپ®صrîِX\\x07‡3K،·}ضڈ(\\x0e\\'è\\x1a6A%\\x0eد@×f‚¨،=ع~¥‡Lظ>ëG¤ل\\x04]{9\\x07ْ3ذµ™ jم~eمِt؟ٹâًBT»×¸خپ\\u200f\\x0ct\\n\\x07eLü:ِƒى³ي\\x11i8A×^\\n]أس¢‰\\\\a1zئ\\x07^®ïه©ط\\u200fc`s،\\x0eFذ5¼مJم\\\\×†\\x19èZ-§\\x19ç\\u200eùٹ mظ~\\x15A×f‚®aه/م¼کôç]‚¨\\nû\\x15غ\\'ûU\\x04]أûہ¶=^:ï\\x16“پ\\x1f6\\x0e\\x1fûAِY?¢\\\\zپ¥فمü¥yھb2ًأوزا~گ}ضڈ(&/Dµا\\x0f]\\'f\\xa0ks1تڈ\\x0fزے¬\\x1fQ^\\u200c\\xa0k/^زلآ}1\\x19´‡چةايAِY?\"=\\'è\\x1aîHè8دœ,/هنغأئنéù*زs‚®½œ\\x0bHإdذ\\x1e¤د£u\"A×ز~Dz^`ie| ِqو«ج¾7A×ئ\\u200eê7=ڈ\\xa0k\\x10«vق…\\x1f؛N,&ƒِ°yُ±\\x1fdں\\x1b\\x1fط\\x0bٌs=×\\x07÷‘/ّ!9ؤjزُ£\\x1aeا‡طçض%@hE~کّ\\x1c~ˆ~\\\\\\x7f;€vV£ىْJى³~\\x04{م‹…®ء\\x0fرڈj2h\\x0fضَ\\u200f:±\\x16ْؤQ©uâr²صœ\\x1câُAغ¯d\\u200cXM\\x06~°\\u200dڈü`=Oْ\\x11èùrزطZ?$‡XM\\x06~p|>ٍƒُ<éG\\xa0çثIcküذ›Iصdà\\x07ëùب\\x0fضَ¤\\x1fپ\\u200d/\\x16؛\\x06†ھèG5\\x19ّAْ\\x0c¦T/ژھ…~=>\\x02=_,t\\n~ˆ~T“پ\\x1f¬ç#?8>O¶G\\xa0ç‹…®ء\\x0fg¾Jèy-ç™wû\\x10<±ےک\\u200eجGؤl^\\x14?N¤\\x1f¤ç\\n%¼\\u200fv¨\\x1f¬ç#?Xدs~DذµإB×ذ\\x1e²ق\\xad&\\u200e~Eذµi\\x1dّءِةِˆ\\xa0k‹…®ء\\x0fصڈ\\x0ct\\xad–“îW¥ذgœ\\'غ#زs\\x0b`\\x03+Y×W\\x19\\x00غB\\x006´G\\x17‚\\'ِ\\x1fَ&l”ك]Nق™§ç\\x16ہ\\x06?T\\x073\\x00¶ë\\x0b\\u200d=ءq؟b=O¶G¤ç\\x05„vا\\x1fz5`ة\\x00طھQ¾_±\\u200d\\'\\u200eˆôـ\\x02ط¶mضy×\\x01°ر¢ّےہThُy[ےل*c{0„د‚ٹ=Ffس\\x11ںح$ڑwOˆڑغ¯ج\\u200d9üگ\\u200e¨إ\\x01°9~´z¾-ے>ںv×\\\\ِ6k،Wûء\\u200foov^¸ٍ‘ˆ[ê\\x1a*ïL¶z…ج©|+تgه±W{ے“ح‚¥|ïSùœˆGشµإR×¶M7،ھI+\\x1aژ\\x1fmگ}ّ±·غ‚r¨¾\\x16zû±؟\\u200fڑسqر¥“ه„œ¹\\u200cةˆ8üذإa\\x01¤\\nühEù\\x18\\x14ïِdڈس\\x1edڈ\\'آڑA\\x14%ظپ‡\\x08\\x16#–؛\\x06?tqXLْ~\\x18ٹعظةےڑسnع\\x1eض\\x1e~م‰¹g·9:€±œگ3¯=,u\\n~¨ّ9ش5يW†¢vّپK§½ٌءِ;ànء=éه$›¹•7™uT^3\\n\\x0ejح©|\\x1b‰£ٍï؟½;أ\\x1aشعéىزn\\x1d†~\\x04™ُإ¢ضà‡NRإdذ™Z%>ëe¶تE)\\x0cj\\nِû”َ#RîآQ+ت\\n?tEè\\xa0ضœِh•ّک¤&³U®~گ=\\x08Œر‘ھهؤ™¹\\u200cةlڈ£ٍ؛|*(´A#\\x18¹Fg\\x02i÷\\x19\\t*s†¯v8»´ç¢أeà‰?s\\u200e ¹ضm³¥\\xa0س\\x06~گ\\\\ے}ü™¦\\x1c9¬…>J±دح¹™P)\"¾\\x1aژر´é[<t،JلًصœخDت=mي؛N•¢\\x14zûپƒچح™رX)¢ًغٍصà‡3Iiّيّa”{\\u200f·â©وn؟\"{\\x10jڑ\\x199ِ#\\n؟-_\\n~èr¶ک\\x0cْ•Qâùكِ×>b\"×^\\x17أZغو\\x7fo$b<¦\\x19\\xad\\x08#ضعbYkّn]خ:¬5m\\x0fأZC½–د_{¶X&)¶_÷)³\\x02‰Xk‹e\\xadء\\x0f\\x15چbزo\\x0fأNƒ\\x1f8‡رœ\\u200cشِ`ûُ5µ÷%\"ٌ;رfق|eYkًCE£ک\\x0cü0\"ژٌaîہé¼kXkً{غضوـ^8ïF¬µإ²ضp7[W„إdà‡\\x11qô+\\x03\\x03ر\\x15،a\\xadءڈُ/%âK$âç\\x07w\\x1a\\x1a~èٹ°ک\\x0cü0¢|ش«\\x0b2ZJ،eقإ8ںüمX<خ£ًغ²ضà‡خ»إdà‡رsشëچ§‘ں\\x7f:خة¾\\x01اpص£\\x0cza\\u200dصuشêى0\\x15“Aصچ„£‹؟حَىZu²\\x7fï[مj(\\x19\\'\\nح\\x1dعVآ1مٌخ\\u200fR0j\\x03?Œ„£\\t\\u200f\\x10`ِڑ€ىے¦¶ةb?\"\\t·¬5t%]\\x1a:¬5G2X’y‹ç?گ\\x13ةو\\x0fûù\\x19¹‹dغٍص6œ…ص6ذSmNفI¶q|زM\\x04شه`ùق{8¯S{ح1جBE|µإٍصà‡.\\x07\\x1d¾ڑْaّj‡ـ\\x05ث»ê\\x07غ¯¸‹”\\x08¸#¾عbùjًCeآل«9~´@–أ\\x0f 9ںz©l\\x1b¾ع±\\\\y7\\xa0_ڑکN†™7\\xa0-T\\n•×µS1é\\x0fh\\x03Iغ&¤ِع{\\x0eھصض~\\u200f÷\\x02ڑ*ZhDTµ¥ذحîYصظw)&ƒت\\x1bپ\\u200d\\u200fيhأقld¨jّه_ں\\x06رد؟|¤ت\\x16¥†_^§زb2¨¼QeüٍX7zفùî\\u200fdڈ‹Ka\\u200dوؤک¹فئ†ض«rà\\x16‡¥وôy#\\xadّه§W{$Uôجpصژ_\\x1ec$ى6‘\\x18[کع¶~œ\\x01«اسœت\\x1bq\\u200cژجk3`هٹزR¾·L\\xa0‡³ي:;Œ§Ov™غ\\x08$ئخ6Wل\\u200d\\nzگ\\x11Wّa\\xa0p\\x1aO\\x1bکع1ضك!\\x11q9پenه/U¼ا®’à®؟µ{؟N#\\x18u\\u200c\\x10|ڑ—\\x0eµ\\x07‘\\u200e{÷سڑ<Œ#5¶\\x045t&\\n¢\\x1d‚ڑم‡Qcü¨ط-é%\\x03\\x0cN\\nچ°#êN¨X„Sأ\\u200dپIخ@عeUلàشش\\x0fƒGC½–ه¸âYےi°أِ8\\x1b™ٍ#:“fqjغھڈ$-\\x0eNحٌأ¨ٌ\\x045~7i|UمRè=¸\\x17ـ4ژf¦“_و\\nثPCهuIن0شœت›ب\\x19#ْچ$ة\\u200eOg&\\x03T;Fôكق\\u200dج\\t\\u200eˆزك\\x16¨\\x06?t†u€jژ\\x1f$ج\\x1fl¥ô\\x06…\\x01ھ\\x1dƒbٍ÷ôhpںü2·=.\\xad¼\\')\\x05ھ-…}ضںa\\n \\nُZٌ\\x1ejo/…ي·µ½é\\x17f2N~™ë\\x07ةُ¦\\x19\\x00\\x07¨و´\\x07ةُ\\n(po،d€jً\\x1b=!“y=yg®\\x1f6\\x13¾nڑ\\x01p€jژ\\x1f¤ـ¸\\x05فüہخà&ûُµ؛ث\\x14îWر\\x1e¶\\x05ھ،uU4\\x1c\\xa0ڑم‡Qî\\x17D\\xa0=،âّAJ\\x0f~o“±\\x0cW \\x11Pm±@5ّ،رC1\\x19Œ\\x0f\\x12e<\\x19نfRë\\x1aض\\x00ط\\x0e‘\\tض¼ـ\\x1e‘ˆ[\\xa0\\x1aüذج«\\x03TsعƒD\\x1c‹`·؟ك~گ=.U‡غ\\\\\\x11Qm±Dµ\\n4kQn‡¨¦•7´´c°~8K…d\\x06\\x1b}^ںfF\\x0e{ذI3َF´Eھ،ٍھx\\x0eRح©<ةُû35w\\u200cu$\\x18¼\\x1aœ\\u200eى\\x7fحr+ِ#:rfٌjًC\\x15دء«9~گrc\\u200eز$e\\x04‰…UFsإٍh4\\x1c\\x12َ\\x14’FآI3sغمRـ[ٌ\\x14ء´8x5ا\\x0fRnLکف¨شàصà\\x07\\x0eA´ةهh\\x05\\x12لص\\x16‹WC{¨R8x5ا\\x0fٹ–پ¸ê*…A\\xad\\x1d3س\\x1fوXgهإي\\x11ه¼-j\\n~èجن\\xa0ض\\x1c?H¹Mت¢NG†اv4آژêكےآ\\x0cك‰?s;\\x13ةُھ)\\x0e‡¯وT^ن؛=\\x05،ة%أc;\\x1baqڈ®p#Drmùjh\\x04چچٹI_و\\x0c/\\nُzo\\u200e<\\x13غ\\x7f\\u200fعŒkکµ9ٌgn{Pج\\xad\\x1c¬إل«9يAr=}قح\\x06£†\\x17†اv´\\x07بU™~\\x15ةµه«aحمˆF&\\x03nxiغ\\x0b‰ŒW7پأِ¸\\x08لٹ\\x0cُ«ˆ¯†´³چ¹\\x17\\u200c¤\\x1c¾ڑ¶‡ل¥ل÷إ#aف\\n_¶ں¶و\\x06\\x01W>\\n´-T\\nچ\\xa0kX\\x07ھوTق(÷\\x0b§kZlŒfں\\x0cT\\nچِAخ%’‡ˆ¤¶X’\\x1a*¯\\x0bW‡¤وTقبïQùِˆŒگ8ë÷–,\\x01*ڈ\\u200cہ„\\\\GTµإRصà‡تƒCUsü0r\\n?^mؤ©Y\\x1bCU;\\x1a\\x01 \\x05/\\x10نخ\\x14%أ-U\\n~¨R8T5ا\\x0f#×\\x18رںصMdTإ+…قY\\x1bجJ™“ص\\x11Um±T5œ?ذ™©کô•آPزژ™ioد\\x0c8يءٍژ°<\\x1c\\x14Q^ـ¢شPy]أ:(5§\\x11Œ\\\\£3لLp/kcPjGgْ4ITîA‘F\\x178ع½pU^×âًسœتSH½a\\x7f¯—؟,…ق#\\x1aGرڑ”H¸3\\x1dٌسpوبj‚ٍ؛ھة\\xa0\\x07\\x19چئڈj^ژtz\\x10ظےM~*پغ#زhثOCgrن!£ر†‡vŒ\\x04ذ*%©دF\\x08و2\\'ک\"h\\x1aV\\'ش\\x08:\\x1d\\x15“~#\\x18 عر³-‘Hü`û؟دش$\\u200cأ\\x05_\\x04P[,@ي8\\x0e%©\\x01\\x07\\xa0¦ƒآ\\x00رژ\\x05Fگڈ¬س*غO8ïë\\n\"êL\\x11@m±\\x00µ\\nIGُمRâA{P´Œ…¨{جûِƒ£ٌ¹é|\\\\ù(\\x19n©i¨¼ژ\\x04‡ڑو4\\x02…شXم¹اغîت“=602ع\\x16Qس\\x16KMƒ\\x1f؛f*&ƒF\\xa0گ\\x1a\\x18¹n’جPسژ¨\\x14\\'j¼ن9·G\\x14R[j\\x1aüذ5“CMsعƒ4\\x17o’¸ƒُn\\x0f²اèl–L،Rœگ2/ڑ³ش4ّلLR™mlCAأï{گ~{›\\x13l؟ىkس~لZü„ڑ¹~ذ6¶sLك،¦9يءةً½\\x1dـ\\x1aH\\x18تعر¯¦ِ¢N<ظFgت,5\\nڈ‡ê&‹CMsüàè\\x1a|¾ق9 CY;عoيLR‘\\\\[T\\x1a*¯،¨ƒJs*O\\x19m<Hفف65¨´3“ك\\x04َ4¢#>\\x1aN]X¹v\\x0e²;|4\\xad¼ل\\u200c\\x1d=\\x02ْغ\\x1b\\tl\\x0f9ة\\\\گˆّh‹ه£،\\x11t†uّhژ\\x1f”\\x0cGگé\\u200d8¬3“ل£\\x1dy©©}ˆ*\\x1cر\\x11\\x1fm±|´م\\x19]‘k‡ڈوّءٍûاéhىH”’î\\x10\\x0e|ïج)ü\\x13lوMG\\x16ٹvىكhه/eيث\\\\)ç®\\x17ز†îڑôn\\x04’ë÷§=\\n\\x157B\\x14R[(\\x1aüذPشپ¢9چ@rmك\\x1cص@آ@شذ™>S›ة\\x0feî\\x04›¹يa÷®\\x01Pضِ¸L\\x06يء{×+B‰خ‘مBZ{ع\\x0f‹÷(¤>Aenهm\\x06\\x1c3•V>£ر†„†\\x1f\\x15ûèف\\x13ٹlڈSQî%T\\u200da£èع’ذ6,ہشڈK~\\x07چ@\\x1bذ8xيn»فƒ‚ىك¸ه›ب—\\u200c\\xa02·=lt½è›خ\\x18\\'B\\x04u\\x06\\x05i4ٍوفµں!§\\x1dيgْ^<¸#¹¶$4´‡تµCBsü ¹~aK؟—ي(…قƒbع@6qNwظ~\\x05\\x01ً/]_\\x1f<WS\\x10cp؟ھ&ف~Uچ\\u200d,\\x0c„¸م‡ط\\x7f¶؟ؤU!\\\\Œٹü0$4´‡(÷ُ·ƒسŒصèِم\\x0f—&;k?±ا-ç&َ\\x1f\\x1d\\x14Bà\\x18ùaï_#ًضِH\\x04ع×\\x17Tâب™؟ـ{َ\\x15ظ#ء€7’2\\u200e*ˆ¹±r2+آِ”ً9µü\\x0fءsBؤ«ر“\\x1f\\u200f,½+پbڈN•êWپˆمœ\\x11ù!\"^M\\x06مƒD\\x1c;>ددث÷َ\\u200fأڈCِ¸Sل\\x1eXمq\\x1eؤـ\\x08\\'ب\\x0f\\x11ٌj2ًƒDüojw\\x12eç±\\x16ْ\\x1c¹^°¬JجWAٹ\\x1c1\\x1dù!1^5\\x19ّء;ع«y\\x16‚\\x13ƒµذوt)خy$ü\\x08ô|µ$´\\nû\\x16:خ\\x13z^ث¹ç«ظ¤ْeےKى—Os4”;S\\x10h¯\\x16\\x7f†ت;“TBؤk9دdû·÷\\x12jdڈIت<ض\\x1d\\x1dڈہ\\x06T4ظ^â[·,\\x16}ùùْغ،h\\x18\\x11Gٹ|mں°–\\x15z-ôِ\\x1bدa$Neb\\x1b$ًأâدذ\\x1e²ب½\\u200fvن‡ء™\\x1dYوWثï—\\x04N-ôYŒàگَx\\x13\\x12y²ب\\x0f\\x12q=:~\\u200eيذ\\x0f\\n؟—\\xad=]ھيaًg×â0ص\\x1e‘ˆ[üظ†µ©\\x0cn\\x07\\x7f&‹C$Fيظ²eoO!ث™:±\\x07ڑ)#\\x1a\\x11\\u200f\\x0c\\tf;ظê3ذص¤?ظ–rJ?9.\\x08¶دn8~ً}ms¯?Z¬#¯\\x1fُ+\\x12q}\\x06ْْغa؟2¢<م”~ûŒ\\u200dم‡±_ژٌ”\\x1a\\x1f‘ˆ\\x13\\u200f\\x0c\\x07\\x01µ_%\"ٌصâد\\x16´‡\\x7f†´\\x04پb\\x0fUw\\x17إ¤\\x1f\\x11\\u200fl-l³{قm.ïصإa\\x06\\x7fVث)\\u200ejءظث6أ#g5إ\\x1egg›Sنرm‘ُ\\x04ڈ9ءىُA\\x13<½e\\x03\\xa0ڑ\\x0cئ‡\\t²\\x0f8ڈ¬?\\x04~¶àنٹ“<ل&ˆ$œàgˆ:µ+e$¼”s7ءçƒ„َ\\u200eدٌأؤي\\x07پ®½P\\x12\\x0fيHآ\\x0bظىîJْ\"4ِ*اù„jôٌّ·ôîb‹=®\\x12&خك`ے7ک¢\\x08~\\x06B…´G\\x06~v}Aچû–ه\\x1fخ؟÷n±‰\\u200e\\x06¶زxo\\x0fë›ب\\x0f’p½ r\\u200eيhھ50³أڈvëش‰—ط~û´Kھ°_E\\x1c4\\x1c–¶ز§\\x17DھI\\x7fh\\x1b®ظل\\x07\\x1eië\\x1cإ©…^\\u200e\\x10ِاFP\"خ8±cق\\x14E\\x1c4\\\\½س~•‰أ\\n×\\x0cُB–®Yھ«ô±=@rn\\u200fپو«“eوْA\\x12®/Eم€Kbœ\\x17£û÷]pبھ7_±=خ]$ژ“¯\\x11\\x12يْ\\xa0‘\\x0c½+RM\\x06\\u200eھچأڈ~…“â\"\\x1a†ƒ\\x06#ى\\x1c¸اR¹\\x11¢à»@خîةVïٹ€\\x10”i„6ّ>*ڈsصفF ûm\\x7f»\\u200cڈ\\u200eˆ‚oâ\\xa0ل)E\\x1d\\x14™àغpحژAٌ^\\u200c‘ذٹûل,v\\x02\\u200d\\x19 \\\\tœŒ3w$P\\x06}صŒmل£\\nzP«ؤç\\x0cغ.fU¹K،دجô×î€ؤ3l¤ـ\\x04?\\x03KB\\x1b!£ـ\\x06fv4آ«eù:ƒ¢\\nض\\x0f؟\\x01َMج°\\x11ü\\x0c‡ô¬Rè\\x05‘jزo\\x0f\\x033C½°2ug\\u200f؛(g{„b\\tb&\\x0eِ\\x06تMً3œ؛”ِبہد®/hV \\xa0¨h#\\x18âظرh\\x07\\x01بY6زˆژˆg8vMچ\\xa0\\x19گ\\x0cٌ¬–swr¨µ†\\x11\\x06svT\\x1e×`\\x13k¦\\x08s†³ï¶ٍْ2w5\\x19ô\\xa06lF½@·èفB¨…>خb+i¼·‡{\\x06Q\\x0f\"چ^t\\n›ءœ]_ذô\\xa0\\x17Hؤ½=\\x18ƒ9;ü6iڈhأ{=Qeق\\x0cKک3\\x00\\x14t$dآىRخَû\"اـُƒ4\\x1dr’Y‹ںـ2×\\x0fت•ë\\x05‘5أ<«Fڈ\\x1fS+؟ھ\\x14¥ذgچe\\u200dPژغ#’ë\\x024»—\\x1dzW\\x04ڈl\\'–\\x1dإèٌcمغ\\x1aطxa#$Sأؤٍ\\t\\x16s\\x7fyزèإ™ژ2رµ!—\\x1d={ûôPض¸‡ص$\\x0c\\x0f\\nù4«\\x03\\u200dK#a&¼\\x19h،ع\\u200e3آlpeGeFف†„\\x19\\x0cgw\\x0b™üˆًfکûى´ھWAھI\\x7fZ5¸²£\\x11^\\nW»ھ1\\x1bح¯ج½¢5bڑ]\\x1f4q‚^\\x05©&ƒت·©ً³\\x07u\\x0fAصBں1ٍiQثل*/آ›ل؛,5‚jB\\x06oVثiئ.XOٌل!±ا>Wtx\\x08ڈٹ\\x04‚Fx3tH\\x19\\t\\x19¼ظُ\\x05چ\\xa0a\\x0bغ]0ـ\\u200c‰„|mس\\xadMٍƒGB$جD:\\x03\\u200e]\\u200eب\\x04د¥œ»\\x11°›ط]`°=قëب$ة\"è\\x19îگSgز%j\\x06zVثyü\\x18$e\\x0cô\\x0cƒ\\x08W’ڑ$gxبمؤچyٍ@ü3<‰\\xa0ي‘‰£\\nدى\\x08eFيءqt.)\\x13ٌدہX°ي،·Bھة`’â\\x10ùفزڈtكرًدژِ\\x00:â\\u200f\\x05yPD\\x19ً\\x13Œضج°ْز\\x01X\\x18‰UE1؛;س\\x1bہQةؤ°\\x11\\x08o‰3²کھ£™‰v®ُJثُ·£4«پک\\x1d=\\x080آخپëZèمى\\x04ٍàّ\\x18D\\x04=C6چzگخ°\\x19èY-çINى~HVgX\\x03=ƒكب\\x16gز“\\'cج\\x1bر\\x04=أCT2¢3ذ³ص@جP¯÷«ف*ص¥6غ\\x1f‡X¼\\x10ƒ\\x06Eؤ?\\x03wا¶‡¾tPMْ#عًجژ\\x11ٹ\\x13ي=¹fû÷اك~a?\"ه&\\u200f\\x19\\x1eخسِب¤½\\nدىœùغ5©ژs¶ڈnق²\\x1f‘r\\x17\\x0eظ\\x1dْ¼4S™لںپoe\\x03ƒحà\\u200d5?أِ\\x1f\\x10é£\\x196‚\\u200d!+B\\u200cI×~\\x19èY-ç\\x1eـx4C“2†t†–\\x02@/ءEآuذ`†-\\x18³ç—×$@†tv}A³ِû€´\\u200eŒPتف\"\\u200f,…قخ\\u200f54cî5QہLt3dDµ÷g\\x02وRخS—د»w\\x1d\\x07ثTغثگء\\x0ccç\\x08i¶\\x12ز\\x0co\\nkه3؛l\\x10eا\\x14؟µڈuè¢‚ي\\x01UM<ث…\\x07\"£\\x0eD\\x12\\xadwp®؟\\x1dItل\\u200d=½ك\\x1c\\x1dصأLlڈچىج‰نˆn¶\\x12ف\\x0ciiiڈ\\x0cف¬–َّپ¼Roسا€خژ\\x01½µ‡\\x03£غپk\\x04:»>xض{³>^PMْزfہeG؟B2¬·dbû؟\\x14گj=¹bقRƒ@gي»LًُL\\x06tv}A31لهہقEA±·o~‡™پ\\x08t†\\n}£\\x0eَ®K؟\\x0cè¬–َLR/¼ن×ة\\x0c\\x18ذ\\x19عoا\\x126’¶ˆn¶\\x12فlضg\\x18ھة\\xa03\\x19]ئغs¸#.ءƒAڑ-+²€a}£“cD1أƒ4:ˆ3)m\\x03(CUو6£ي\\x1cث`ûـ•ë5\\x02ڑ]\\x1f4ƒXQےصdً»›Hّx\\x00شاçشxء\\x00ح\\x0e؟_>?–\\x14ْن‡¹ƒطFخ²ث„ë\\x11\\x19\\xa0Y5؛;?6ئ»\\tb\\x034ƒ\\x1f¯؟–\\x0c\\x13\\x0fâ(ˆ.`±؛JآEiيW\\x19±6€²cP¾غ“ا؛>µِ‡\\x1fيةطX\\x1c\"±&\\xa0ظى\\\\ƒ*&ƒ~E9l,€z8}ہ%غ\\x15\\x13üّ´ي\\x17ْ\\x11\\x01حpثطNھْ¦A5éûa\\x00e§ّ¶/ak{°\\u200eژ\\'÷\\x12[‰\\'Jج\\x1b\\x1fؤ6›ُy\\x03ى¥%’3†Uvˆ5\"َ\\u200dX³=خ¥d®AEک3àdm{4ڈ%T±خ`خj9حâiï]غ\\x14ûc1›ط_ڈ0g+aخfقزا|•ءœU£\\'\\x7fش¦ڈّ¶=¢!ƒ9;\\x17[-؟:œ¯Nھکغ¯ى\\x165\\x0e>ث|•ءœل‘\\x01ٹ§ح\\x0bzڑ§aûd¾)آœ\\xad„9أ>ںْ‘رsƒ9;ٍM{ثصvئ9mQےM\\x18ڑ÷؟0ط;\\x01cn{ط-êù£‹ہ\\x0cٌl5\\x043ّ1؟غüں^ƒb{ـ³Œ;S\\x14f\\x13ٌlv®Aeˆgx\\u200fؤv¦إ\\x1c¯×\\x08ڈي£3¥´\\x18‰ˆg8}G“”Fـإd \\x1a´ûŒ\\x17آ؛×¹J،د\\u200dقك;“„=Ycng²\\x117\\x0evê\\xa0بl\\\\\\x1bک\\x19:\\x13ّ\\t.#².\\x0eظ\\x1eيçîMR{Dً3L‰¶=ôٌ†jزo\\x0f\\x033;ü@¨س;{جِب\\x1be¶¹\"ّ\\x19\\x0e:’\\x1fڑےثہدj9O?ٌ\\x0ee\\x19â\\x19œM\\x1eتٹˆg+\\x11د0،Hg*&ƒFhïp\\x1dُjة.Œز€â•Bں½ةکHڈ·آ‚ـ\\x13\\x11دfçآS†xv}A{›ہ;e\\\\Jjِ„ج3“Q¬\\x1aaخVآœحخ-§\\x0cو¬–َى\\tلپ\\u200dn÷\\'M\\x7f\\x7fع+ًلZüD•yس\\x11aخ°°×\\x1e”رèRN³fâCمG·!aژ\\x1eœل9(J\\x7f\\x13غ\\x0cGjµٍ™-jأ*;\\x02\\t¬كzY?¶\\x07µ s…1b›ل\\x1d9;\\x079÷œ2l³Zخ³\\x00ï?X\"ِةيˆ\\x13%وv&زhç\\u200dS†m†7\\x1eيZ\\x03¨×îظJ¶ا}-7€â~\\x15\\x05ع„9›\\u200c{N\\x19ج\\x19قـ$?p\\x1f®غ¯ب\\u200f\\x0f¨ہD€\\x1a\\x11دpZ™ْ•.\\\\3ؤ³Zخ3¸\\x17Niap\\x1bجظ¹•لcز©\\x11\"ج\\x19\\x1eچ¥تë\\u200fP\\x06sVثif&ذپœh\\xa0.”\\x0cوىô£]\\'…Yط\\x08s¶\\x12و\\x0cى\\x03™¤2ک³ZN\\x1b]kèc0gçL–ع\\x1fٹ0g¸°Cچ\\xa0ٍPLْ\\x0b\\x0cƒ9K„plں\\x0cلNھک73\\x11و\\x0c½U\\x1bلRضپ\\x1f,؟îH #PQڑ#ص،FGl3¼`m\\x1bA_[©&ƒتَu¬eë†>†m†Fغ¶9sے!آœلط\\x0eù،«صb2ًƒofپBفث—\\x19جظلG{±?>8}زجـخDrي\\\\n*$´پ\\x1f\\x14Rم\\x06پغOî™‰ى\\'ƒk\\x0bَ\\x1a\\x11و\\x0c\\x00Pj\\x0fG\\x1e2yqƒ-[و\\x7fûŒأ‚خ=™غ\\x0f’÷\\x17èŒ‰«)\\'Uجm\\x0f\\n©\\u200cثM\\x19ج\\x19ْP+×ً\\x03wٌ»\\u200eٹن\\x1a\\x19‘\\x04r\\x18+\\x19? ؛>hِچôل•jزيWص¨(\\x05üx·ù}9T@ِ @\\x00_5خ—m\\x11وىْ\\xa0ُCٌِھةہ\\x0fs,üèWيi\\x19\\x11؟Zè\\xadگط§tû،]پàQ¸¨=(/®W\\u200d®؟\\x1d\\x1cژ¨FO{ôû\\x15ظ£=’\\u200e*\\x08´7آœلy6\\x16؟j2h\\x0f¾؛µµَ®ن/k،OJنف€â¸\\x11\\x0eحt\\x06÷Fl3<ù§•O(w-çé\\x1cx{¼3¸إ~~µ¯\\x17Eا©·\\x13aوْA\"®o°\\\\\\x7f;ىLFؤپwiOy3زّ?¼’Kِx\\x018:†¼\\u200cـ2·ٍ¤ـًْتُ·أت\\x1bه\\u200dےm\\x138¼خةـ¢\\x14µذ{ن€¯گڑaƒdّF@3d\\x0eµ3%خœصrîz\\u200eلi¤خq\\x0e±ا³÷‰»ل¸إ\\x1f\\nRn½\\u200et\\u200eي°=Œ\\x12دxƒ\\x051ë\\u200eد™aة\\x1e\\tœ¸3\\x05ر5èBvظ،W\\u200dھة`:\"¹\\x06¬ذ™ƒبè½·´©(ڑأ:,ّه‰b6ëأ+×كژ~yC1أڑi\\u200eàQû8*\\xad…ق=n3ڈî…سQD1غ\\nMى>\\x13،\\x0f¯T“~#\\x18*\\x19üx\\x07gيëˆfûƒm4قَفNبک73\\x11إ\\x0cڈDبˆخPج®/¸“بکV[<¸fہإ\\x1eً¯\\x04\\x02e‹(f×\\x07حڑIo?U“A{\\x18چ\\u200dڈ;\\x03½شY-ô™ة¦ِ€]\\x14«Bّ£ٌqiٌس¯$غq\\u200eيp|ک\\x18\\x1a\\u200e*àœك\\u200eٹى?x–6±†=!cn؟\"¹\\u200dt\\n[\\x00eƒِ ù\\x05؛ب}\\x06مِƒى£\\x17jiù\\x14Qج °v²\\u200cن,A5\\x19ّءت\\u200eوSTXk”/{نْ¯ي|ٌ$\\x15ةuل‰ف\\u200ciز…k1\\x19Tق\\x04خèL جôنعpج0©}جù¨h\\x0f\\x1ePسhPگ\\\\ë-®ëo‡ƒ‚ن\\x17\\'hـ‹4wg\"{ًف\\x13§¬q25ٍƒ”[/t]\\x7f;ôƒD\\x19ہجقپ§Zè#~s{×4œ¤\"ژ\\x19²^4(t’تpجj9w½p‘ف\\nœk{”B›ecsG„Ft\\x04/غ\\nDى\\x19\\x14؛†-&\\u200eAaad‡R8ر\\x03\\x1b\\u200eح-\\x12:\\u200fه£گڑˆe8”.r]L\\x06•7\\x1bضا²£M½è2ذ\\x12خز#:\"–mD,أI[ُ#qu«–s÷\\x08l‘؛§\\x19î\\x1eDٍ\\x1e‘™p‰9\\x18أ…\\x15vw\\x1f½¬u\\u200eيh\\x0c[و\\x18Z\\x00é]û\\x1b@\\x10ط\\x08`ˆؤ{ف[\\x04&»>hVIْôM5\\x19t\\x1fRY\\\\tي\\x1dا¯…6\\x13Pوdُvrئ¼ص\\x051تf½ût\\u200eي°\\x11H•qd¾÷0C-ôén-w>¼³؟\\u200c\\x081×\\x0fت„ë5¨ëo‡~گ@c³K®-ض’\\u200dصإ+•ق‹\\x18e[a…=#ء™H\\x13éïZNS/ےI\\u200d{\\x0cs\\x10چ74ا»¼ط{‰F´Ue,àu.Jœ(»¾\\xa0\\tپ\\x10s؛ƒُِƒCk\\\\\\x07\\x18§ٌ1؟\\x05~\\x10£lز»O×كژ:“eژafjï\\x03ٍإ0LRlےءe)ouH\\x02\\x1d1تًض‰Y]L»\\x1c{\\xad&\\u200eIتâا\\x10’\\x1a4چœ¸¬…>ifأ9\\x0fW\\xad\\x11®\\x0c—\\x02ب\\x0f\\n\\xad3¸²ZN³êén\\x0f‰=nû‡\\x0bچ\\x08W¶\\x11®\\x0cï¼ب\\xa0(&ƒF ء\\u200e\\x7fتخ,غ’U…¢=:cWQ\\u200eو¸\\u200eoس[FˆآB”—؟‡tkX \\x08\\x13\\x1c¯س\\x13¶6ع\\'!ç\\x17ˆpe€xطIً%•Dd1\\x0e²ڈ¯S£N½§دلتً(”8¤\"\\\\ظF¸2D«ْùHؤ™I;\\u200eû^؛>¦\\x7fغb¼ظ\\x1b\\u200fگج8‚گ3€ٹi>¼=\\u200cء•I;}S\\\\|\\x07(\\'\\x13=t\\x03ح®N¦ذyyسءFêڑ\\x18e¨dé\\'!م\\u200f¶ّ1œL0¨go),\\x7f،twآ9\\x13‘ثP8‰&ap2e47“ب^\\x06,2ط\\x14ôp\\u200eyڈ\\x13ظXSDڑ› fo_G\\t1ع÷P\\x17››\\x1e¢ك¨ج8y€—FëâC\"‚خڈPëگئ\\x11Aجًc4\\x1fق\\u200d®\"َq0ںىه*daS8ز\\x19J‰$®\\x1d\\x11ؤ\\x0c\\x15q©َ^ST‘Eç\\tbِزپ¹>kH~·Mآûذ“\\x16Es\\xa0:wp}\"ˆ\\x19ٍ\\x1aـوخ@ج\\u200d\\x1fP×ہkqآضFû8PYsô¦ا‹)z\\xad&\\u200dظûً‡T†g¶U،ض/\\x14گ\\u200d>ّ²<jF\\n‹\\x04ً8\"C›xfک^?\\x1fڈR^¬+£¹\\x0b0u¾¹™gِI\\x01S·ˆgِü،غـoںإ%\"‹qPô\\x19<°س·Fو™}قمl[\\u200dڈHs\\x13دىي³¸¶*²\\x18\\x07)هïg\\\\\\x14Pج$ا?Cش]â\\x06\\x12ٌج6â™½}B—ˆ,ئAرd\\x1fن0جق~™g\\x06(½عçل\\n\\u200e†ٹچ.#„6C¨•ك\\x1f\\x19%خش2طم3n!^¸ïَ¾\\u200c\\x0b;\\x08¶™َ*Râ•N&n„·¯£„dڑ„\\x12gت\\x19‚~z·Fْƒ”\\u200f~mل\\x0bK„6أ›¥U~>‹KDو‹‰Qe_“آى\\u200e±,\\x0f\\x04ك°\\x02\\x08mî\\x08m¶\\x11عىح€ٹ\\x7f\\x1f\\x11YŒƒ”ّjs3ع\\x0chزaِ\\x1aڈ#Râ„6{û„.\\x04ل&\\x16\\x13£تà\\n\\x18r×هگby”HP‹/^W‘\\x12\\'´\\x19<\\x17nsW‘إ|0d\\x14\\x00کظث\\u200cC،¥ّےغM\\x12\\x1b\\x1dR„6C¸’\\x1fGF‰3ھ\\x0cà¸©\\x1bپه\\x01\\x0cI„بn\\x11هىùƒRâ>حKD\\x16َAJ\\x1c‘ي³d\\ni´\\x1f¶ا\\x18\\tہû#Râ\\x04<\\x03¯ددG\"مkc€\\x192±g|$\\'ڈ¬»ل3>ڈ#zظ&ّ\\x19hY~\\x1c\\x19Kœafp\\x06M/¹,؟\\x03ه–¸ŒD\\x1c4ذت¬\\u200fً•”Dd±®H)¯”\\x1fsذ¦ت/زـ\\x15Bض4·/ں„üüجaثڑxں?g;X\\x1a(U‰\\x18¨\\x08~†$1ڑ\\x04ï\\x0eةہد¤\\u200c¶Y#N§(\\n\\x07?\\x0bnآ´)\"ّ\\x19ً›4\\x0e¯4ھب|19ّ\\x19بW³ط:\\x07?ûي\\t^,\"y\\x02Kœàgx[t›;\\x03?{~@S\\x19چ§أ»§j£m\\u200fخcœ\\x17أَ\\x11)q‚ںi\\x04ظ½\\x04p©تہدD¨ِ\\x0bü شي\\u200d¹\\x0b-ü\\x0c(±ڈ.÷\\x16\\x06œF\\x1c´چ8ho_IID\\x16ëٹ,ٌ\\x13ُآf\\x16“E¢پ\\x17uè\\xa0آًAوئ‘چ.#ؤG{û<°\\xadٹ,ئءiط¸]Lçƒy*û\\'cءF|´\\xadrتع¹ûَ\\u200d‘*²\\x18\\x07Yâ\\'¼ت³ث،ه£a>´،¨b<y\\x7fDJ¼rتْ8üC_†ڈ¶Yق\\x19ْµ±ڈ\\x05nO\\x07E3$ؤذü¾\\x19dأإDڑغWRع*؟l1\\t¤¹\\x0b4|\\x16زد\\x10µ\\x1c1\\x13·”è°¥×ïںwكf\\xa0hد\\x0f¨أِ´u\\x00\\\\h‹…¢¥7w\\x04EC@›U~ƒن¯*2ں\\x0f\\x07Eûچ\\x03aE‰;(ع®sيأu\\x15Aر`\\x10ذ8üح6\\x03E“v؛ز0ln¯ü,\\x14\\nJم«kk†J#‚¢m\\x04E\\x03zف)ٌ\\x0c\\x14MعiJù:´\\x1bع{Fj£}ـ)hà\\x16Aر\\u200d?(ثد×W\\x12‘إ؛2–ّïïûe_\\x11\\x0e)KBû\\u200eء\\xad3ôaر\\t\\x1b‘ذp\\x0eزbٍ7غ\\x0c\\tMعi\\x1fُ\\nضّLs[\\x12\\x1aHڑ».H\\x13>¼F$4Tv§qّ›m\\x15YL‚رؤ¸ImْfK×ج2\\x1f$ے\\x06I#aîE$4\\x14v¢qّ›m†„&ي´ùہ\\x03ن`G\\x1bُ^Vœ6“آ\\x07²\\x1b<6زxDBأغ\\xadكر\\x19›غ’ح~H\\'ںVgفX^\\x15خو}\\x10\\x05گ\\x13üى=ب:تہد`Ukك÷ïo?دلM®)\\x07’?_©ى©\\x08~†گ\\x13»~\\x06YGUd±\\x0fŒإچqlس\"‚ٍ»m½،خ’:کB÷f\\x04?C\\x0c4چأںKUd>\\x0e\\x0b3أ8>ْرط‡@²ü\\x11\\x14ë£u\\x15ءدگ\\x0f@مً—§\\x0cüLعiك\\x17\\x1cîYلe\\'\\x0fإ‘¨¢¶E\\x1c´ç\\x0fJةù\\x1a?\"²ک\\x0fâ\\xa0]ˆ*ںy\\x0e,\\x07\\nçٌ¥nî<\\t‘™M\\x1c´÷ ص(أACµ\\x0c½¹q#\\u200e|§Q V\\x1e\\u200c7iéلچ)B¢!\\x05ض.¦AھQ\\x06‰&يt7ش،¯@^ةصF»غ#E\\x7f\\x02g-°(\\x08‰ِ\\x1ed\\x1dU‘إbb³\\x19¤XgF0\\x12\\nhسشة\\x149ب\\t‰†p7§نھب¢َd[ƒ™2cD£¸•]|اë\\x18ضزلM\\x11ظض„DC‚گ\\x1fGFY×vعâہغّ¬:بئٍ\\x08\\x1eخ0$\"$عVرdحGًِ7¦\\x0c\\x12Mعé\\x0f)8&f¾\\x0e‡Pƒ\\x0ft$دَ\\x11™ظ„D{\\x0f2/2H4ہ\\x07ى:ظq0دBص\\x1cB\\n\\x15R\\x12ر^\\x11\\x12\\nثط\\x1eRƒج‹\\x0c\\x12MعéëêüM5\\u200d££إµٹp§\\x0fN&B¢ءظه6E\\x06‰ِü€ٍu\\\\_~\\x7f‚ي`9hإضذقµذ\\x06ٹ8h¸%›/ے؛¼c أA“vش“\"َLJçI‘#»>teDً3¤طSڈ½\\x0b \\x03?“v؛B{11ھôک´÷‰7ءؤ†چˆg\\x1b\\x11دً\\u200fï×ت£°çٹ\\xa0¶£>7O\\\\é<yئءأ\\x0cي³\\x08s¶\\x11وى5بے¨\"‹\\x1e³{;(7\\'F\\x0ecخ\\x1020„yذQ\\x19aخ6آœ½.¯؛2ک3i§}ù\\x1f–حى2ê0gx5I\\x046Eک³\\xad2جDu½|ù\\x18\\x11Yج\\x07\\x05ڑ}?؛b¸·ûëïِqçbj\"جظFک3P)\\u200eNب\\x04ڑYج\\x19¢¦O.\\\\Qv\\x02¹أ£Iمإ\\x14éفت$k“0بےب°ح\\xa03\\xadق\\u200e¼ُS‰wC²ü\\x17®£ُbBذذXu=\\x7fè\\x16\\x1aJظً$ˆبt1‰P[\\x1cx\\x04s™PNè\\x13T؟²“°G@³ç\\x0f؛َîءJD\\x16\\u200cç\\x10ٌsىV¬\\'“4ع\\x07{eزg÷\\x08hِüAڈأ=X‰بb\\x1c¤]_(51¹ŒJ£}\\x1c»\\x02Hٌ$\\x04fٍN\\x14³×é,\\x1b\\x11Yt\\u200d2؛\\x16t<i´u\\x1eإN‡D\\x15\\x1eGQ‰\\x037نN@³—Oْ\\x10‘إ8Œخ-”؟c–:.چ\\u200fكم\\x08جن½‚إْةن,\\x1b\\x11YŒƒمآك\\u200faAZê+è‹\\x03¬\\u200e‹®v{\\x044{\\u200f\\xa0v‚/\\x15#\"‹خs†ضڈ\\nîے\\x10IIBx Mؤû\\xa0ھn´‚lضُث×‡y\\u200fï\"QV„êGإ\\nْ¾fّ\\n’\\x07—ذ¼¢Dٌ\\x0cHùڈئaں\\xa0_>سمù؟ثqگخ}\\x05l¬v¬r\\x1a×ëJ\\x04ي\\x02إ\\x1dچأzµلùً؛-\\x11Gِü€2ثگG3+vèن\\x11ُ\\x1cî„\\x08h\\x06\\u200f\\u200d5r|z‡ˆجw‚\\x05ڑ\\x15ˆè{ک>#“ہٍH~K\\x04•ى\\x11ذىùƒقر\\u200f8ھى±إ8œژ\\u200d\"\\nهwغةôyچ‹©‘zˆ€fp7ر|¸غھˆ,ئA:\\x1a¹ٹS\\x1d]\\x7f·چ\\x03\\x08ط!ڑ‘ا\\x11©ë›t¦وأ§wىUd1\\x0e²‹‹S{ٍt+چِqlب„kےآC*\\x02ڑپggçأ§wˆبb\\x1cF]—\\x12+z\\x7fّ;l\\u200eفn\\x05پ\\\\ک\\x19G¤®+\\xad¬©kںéپêç÷P\\x17م u\\u200e}؟gè\\x14i´ڈ\\x03بھُ\\x13ô\\x1e\\x01ح\\u200d?èuهï°\\x15C¶\\x18\\x07§q!/|\\x12·$؟غاپ,نج|DJœطf/_@\\x06L£ج|گuچG\\x1c÷D\"-µخ#L<Q4iڈ€fد\\x1fô$8\\x17‡ˆ,&پأ¾؟S4„4عئ‘\\x0b_\\x07ے#ذـ÷\\x1fô8\\x06J#£¹k;êûژس5ڑٍs^ًLePX±ء8\\x08h†kƒ»پd€fد\\x0fèRJ€£ج\\x0c;\\x0b4\\x03Y\\x1fJ?±)\"¶ظNl3€¯\\u200e8\\x12\\x155¥\\u200c6\\x1f‡.Eâséœü™ٹdا#w4\\x1f¤ؤ}\\x01™çے®n¶\\x16[Vتأë\\n™^i°ü\\t–Mf>\"%Nک³—Oï\\x00خ2qHU،6\\x1f\\'N)~\\n•–ڑذ…»UBSD¤30)¬وِé\\x1d\"2?¤,ؤ\\x0c\\x0f!û4\\\\Z\\x1a\\xadم@$\"âً\\x13¶j\\x04=غï?¨Cjَژڈ*²\\x18\\x07inؤ*ج\\u200d¬نwغ8`%en \\x11ô\\x0c±-v>|\\n\\x16\\x11YŒƒâآP\\x00pVNZ\\x1aيٌَû*َ;z§ط#èظَ\\x075\\x1fھ2{M‹\\x10‘إ8Hs#\\x14kj~ك\\x1dز¯v`u\\'\\\\²\\x11ےl\\'\\u200f\\x19œx\\u200f°Mّإ¥\\u200c¾oQچftèˆٍ«؟غ×\\x15ê¹fِy¤ؤo0ڑ\\u200d\\x0f÷ز\\x05eœ9¤H)_\\'²4û?\\x7f^Q\\x10\\x1aقؤ‡\\x14\\x1c²ک\"\\u200f\\x19طِ´?ü>¯\"َueyfهلV{g]\\x08ٹünك\\x1f@û&ضUؤ?ƒo—ئل/‡Ud1\\x0ec‰—ّ$]®ب_r-/\\nçî®+œF\\x0fض¨چ\\x12(qâں½|ه‰çے®”xmG]F8k\\x15>B\\x16Bةûؤَï\\x1eٌد\\u200d?¨Mلأ¾Ed1\\tü,چ×;·\\x13,ô¬$°d^\\x1e÷\\x08zِüAuق—7\\x10‘Eçةوئچآ½tIK\\u200e8آ§Oـ™\"زظN¤³—/o \"‹خ“؛ق/\\xadو\\x06“ہلfï°Z4گ\\x17رڑ\\'\\x1d\\xadڑ\\x10ف–ء›=?\\xa0tصژ€غ™N`زظپz\\x1am™ٌ\\x01\\x1a™ش„7C–،ShUdٌهI1#Vط_µ-س\\x0cEةأ²*{ؤ1{\\u200f\\xa0×¹w\\x1cWDظ¢أŒ4A(çLs1÷ىذ®W\\x15Tؤ\\x1f>زہؤ1\\x03iة\\x7fّŒ\\x06®ي(َ~l\\x01بM‚هپ\\x17خـ´#ژ\\x1980Vs}¼; أ1“vْ‰ے™Fn8ù\\\\\\x04ت\\x1e!ح\\u200d?èuهف\\x01\\x19¤™´سئ\\x01ؤَ¬`\\xa0“‡gtH\\x1d،u\\x15!حvBڑ½|X·ˆج÷\\x07#ت–م كyv\\x1c‘\\x19MH³—ڈًق3H3\\x11êَ\\x01D¤Sئج1\\x03\\x08-A¼D‚S\\xa0\\x12ˆcٍِإ\\x0b\\u200dے»؛\\x061—\\x0c\\xa0¹\\x194R\\x1aي‡A*\\x12\\x17\\x1eءh\\x1c6\\x07Kا_ٹj«ب±إb\"=\\x0bXہشL`ژ\\x19’GآWˆ›\\x156\\n\\x1a xظث‡uï\\x19x™\\x08µڈٹBï3è—“Gإ‰~َàm\\x1cée\"–½|,÷^E\\x16_\\u200dôٍ\\x1b\\tُ35çˆeبüO\\x186\\x11±l\\'bظثاr‹بb\\x1c¤®\\x11Z5مSH£mز>¸اژ\\x02\\x01y>\"uMؤ2\\x10چ\\u200c؛خ\\x10ث@ü؟صeë\\x17ج\\xadYآ‰“G¹س!\\x01گئ\\x11ءثv‚—½|)\\x03\\x11™د\\x07أبPمBٌ?¼،é`g\\x07*ک¶\\x7fلوژàeّ\\x0cِع،ٹ‚بةTE\\x16م\\xa0§ëB~œ=i1¼ى‹‚ً\\tGهح\\n\\x1b\\x1dR\\x04/\\x03\\xadط\\xad«\\x0c¼lg\\x18\\x19x!َù uچKc\"ث\\x15قپ@S\\x10¼ىإuQ\\u200f}\\u200dے»زx\\x16F\\x06L2JkحŒ †—ل€\\x19\\u200do¼?\"حMً²—¯خ€¼ة„cجآبJ-.چ\\x08ً¦\\x11ث\\x1fg\\x06“\\x0c\\x04W4\\x1f¤¹_\\u200f:{ےكه|\\x18حچqہa7ة=y:¤H¸\\x07\\x18®™}\\x1e\\x19×\\x16^V.\\n~\\x7f$àe;أث€fWëف{8X>W7\\x1a\\x16{4\\x1f&\\u200f\\x0cمًْ£rئ\\x16ç•رçe\\x7fLarO‡t|شkü\\x1aئû#ٹ?³ً2Œأ;ہ«بb\\x1cFںc\\x1c(k4=wI\\u200fB\\x0cEوـچô¹هکa\\x1c>$\"أ1غ-—\\x0cصYO\\x1d\\x0f8ذƒFےc?\\u200c¨ز×\\u200fEYصبp\\x0eض•هکa\\x1cق\\x01\\u200dلک=?\\xa0ِي¢Lڑ“‡ْد<tE\\x1c3Dلi}ژqxwH†c&يشû\\x15ٹV\\u200c»wûYxYظDZù…N´\\x08^\\x06خ$uقû@2ً2i§u~?´¥ل\\x0f)\\x0b/+ƒU\\x00sعر7 lt\\x03±ؤ2|y¯)2ؤ2ہ\\x1dُح\\x16;ل\\x1ag\\x1dٹ#ٹهqںد<حEؤ²ف\\x12ثہ\\nُ\\'S\\x15™ںL–@†q ؟uôشضئa\\x1cوEس«‹mى\\x18Œˆeًْعإن\\x0bNˆبb\\x1c¤¹‘p6|آmم yجG|\\x1cEêعbت0\\t\\u200f:›ء”!Zہ.¦كW_‡ü±تٍ¨\\x14گبGغo@طpSگ؛>½zب`ت\\u200d\\x1fPاj\\x04إi“@ê\\u200ekJô…ïq\\x11±l¯ن°\\x1aءˆù\\x18¨‡ج{µ%گ}\\u200f>:\\x1c`àégù\\x12¹™x¯ژˆe\\x08\\x1e،M18¤2قrK C\\ti\\xa0ùg×Y–G5¸D\\x11r¨ô@][bظ\\x0fjا]g3ؤ²ç\\x07´؛F\\x15\\x16çص´ک²Rً\\x11—¬ِ/\\\\L\\x11¦\\x0ceuي$\\x0c\\x12@2ک2i§©9شىQ.)¯و,¦¬”MD\\xa0uû\\x17ْض\"Lظn1eک\\x04¯)2ک2i§ڈ#\\x00gثو¶ک2Œم‚w~ي\\x03‰0eP44\\x1f\\u200fي®ٹج5…%گ•R؟؛\\xa0¦÷–³<r¨\\x12¥‰p™‰6إ£Aغ!ه«L<ےwe«Z\\x02\\x19ئa4÷`]‘و>P³8ل#Œˆe€\\x00ز|ّ;l†X&ي¨kàـ×i‰e¸\\x06^ïa\\x0e\\x0cف\\x08#bظn‰eط\\x1f\\u200f:›!–I;m\\x1c\\'ٍ\\x0fGك·ي\\x0fRْ\\x17f#s^E6·…—a\\x1c^iT‘إ\\u200f ¥Œ›شش\\'eلeeںkژH|îF6·%™ل!n\\xa042Jـ’جp³EٌI¯4بذئƒ{è\\u200cچکe»e–،اƒ“)£®k;فڑƒûiو\\ndùَ\\x18ںd´\\x13\"f\\x19گضvGûز\\x12\"2_A–A†/ڈہ]÷هY\\x08.أ(œ#‚“،ê#uطك[3p2i§}xـC½د²¶ش„p½جœ;\\x11‘l¯d°¦\\x07\\x06é\\x1dUdٌµچo»X¢\\x1c\\x0c…à1‹!أ،‰\\x1cه„#و\\x06€چ,\\x06K$+¯هîf—!’ي–0V.mْھي-\\x1f–?4\\x16’×y¤پ-†¬ؤ¢ْخg¼قŒ\\x15C\\x02\\u200czM\\x19,y£پ‘à…D§„W/آگ!\\x08س.\\x7f_\"BD\\x16+ˆla”p\\x1f–|\\x10حe‰d%+Xثاغ82£-‘\\x0cَلo¨\\x19\"\\x19œ‹ضŒFـ±?vH\\x06\\x11îأٍ$¼–\"\\xadk)dè»?û«بb\\x0eHëآ\\'0+ا³[\\nYq†}2·زˆB\\x06ج\\'\\xad%ïتبPب¤\\u200c~J¾u`س`C“\\x02Fه³0Cù&}\\nO#²—}9\\x05ؤقفم[L\\x02¹«\\x7fo\\u200c\\x19ê¯ش\\x16=V®\\x18؛vMxُ‰ذc°گh\\x12ü\\x15.ƒ\\x1e“vش$è*î\\u200f`²è±2\\x0e\\n\\x19\\n\\u200eb\\x11…l·\\x142àإ\\u200e\\x01›،گI;}\\x1c¯y¦µ\\x05’a\\x1c؛d\\x1cيèˆB†$Z;\\tƒنچ\\x0c…Lعé—\\n”]ں9_,گ\\x0cخ\\x1aم\\'ˆ\\x17SôFmظdک\\x04؟£3l2\\x04\\x15غSµ\\x18ٌîXe!ؤ\\x15dزت\"6\\x19ٍ=h\\x12üح®ٹجw´إژ}\\u200f\\x10¢?=VY\\u200fچ-\\u200c¸\\'Eؤ2\\x14\\x1d¢qxڈd†X&يشإôFü¼خ\\xa0ٌjخ\\x12ث0nè‡Q \\x14oٹHE[b\\x19\\x16“؟ïeˆe¨H،\\x17\\x13ئ\\x11\\x18‹rص°ٍ\\x1f”6صN¤ًي*\"–ي–X†qxc؟ٹ,ض•Q×\\x18\\x07ٹAŒ¾o\\x1b\\x07©wdتُ‹\\x02OBd\\x19[Lظ\\x0f\\x0c\\x13wo\\xad\"‹خ\\x1b\\u200cû.w\\x07oîXLظ\\x1b¯†:\\x170شر7\\x15l¤£-¦\\x0c\\u200c÷—¼\\x0c¦\\x0c»×® ¤N\\x0eC’ع—\\'y8،\\x13!L\\x10\\x19»ï\\u200d?´بiŒأ]ّDd:\\t\"ôىèدUج¶Y¨¢“‡rL\\x14W=\"bظَ\\x07=\\x0e§\\x1eDd1\\x0e\\x1dR†qàچa†\\u200c•Fû¸uMs»\\x13گT\\x11M\\x02éh\\x05\\x0b«ٌpدے]ّPE¨vوü;`ù°nsB§ِ›ھˆ)î|\\xa0ک\\x11\\nhuآ×فٍDdٌهµb\\u200f\\x1cہ{™$\\n?\\x0e#\\x7f–,هDYغم¦‘\\nvôَ\\x07µ‚|\\x0e–ˆ,ئ،حâد^²ّ†ء.uGK£uزv\\x14ےتè6Tضٹ\\x16\\x13éhںژُüكهbزf4ئٌE\\x0càنآ\\'چ¶qütإپة؛\\ntôQ!bح،نK\\'ˆبb>´ژئ8>x\\x7f›è6i´چCeAٍ–\\x08¬hx£ى–`\\x7fل? د\\x1f‘E×µڑ-]؟8’ü؟ضRïï\\x19¦ء\\x1d\\x11™ىùƒ^üîB$\"‹\\x1ek]\\\\z|Œ#½عâ\\'ù/2O\\x02؟)f-Zٌd/û,¦çے.W¼ض\\xad¥َ\\x00َMW\\nةم%-£أ\"2\\x19ق‰hظّ“´ٹج\\'ءگئت8^\\x035à„ژo‚—ژé\\x0c&،²ئعvُإ\\x10\\u200dے»ڑ„عN[خ\\x1f@€g“àنa\\x19®Mƒ#آ‘=\\x7fP;ء\\x17C\\x10‘إ$h?6&\\x01eزgeâ¤ر>n€û£\\u200cpsؤF:ج2ب~¸Sٌ•\\x1a¼ڑµçH„zg¾؛Z°³—\\u200c<–R\"گ\\x1bص:£إDِ²:\\x14نBTqa‹I ]\\x0c‡ِ,OôéگDf”\\u200c\\x03(|8\\t‘\\x02¶à1L‚3’ڈ\\x0cxL„ع$¼Lضھ3’\\u200cü\\x1b\\tïaç#\\xad[Qb}\\x1b\\x0fخ\\xa0DبِQغé·\\x1aأd\\x18¬ ضز?\\x1dz\\x1e¹‹`,E+ˆTًثùى\\u200dے»<ژX\\x05kˆ\\x1dç\\x17@\\x1bW„Yك9\\x17Rr–!آ(*\\x1eچƒ\\x1cظ>uéù؟ثq\\x18E»\\x15ôé¬”«4ع\\x17ك[\\x05½س=(¢چ،ًˆUh>_ID\\x16غط(Zt\\u200fذإن\\u200c\\x17^\\x1aي\\u200cاNHLBD\\x1b;,mىwù|%\\x11™ڈأذأ>غ\\x1fŒ\\u200e\\x19ءX\\x1a\\xadمہ¸\\x01–ژvt„\\x18;,b\\x0c\\u200c÷اQ\\x15YtقXئèü\\xa0\\x1e¢üXï±~ژٹچ€ˆ+†\\x13ڈVگ؟—V‘Eçچ6قà#ٍOâٍc\\xadَ€‰e´طحْ\\x1aic\\x0b\\x13أ—wق¹#\\x03\\x13\\x13،ق/TJpو°!ژamء\\x17\\x18ù\\x13‘ز\\x1aœ6– †\\x1eûس؟ٹ,>·ر»ë\\nkˆcإfNnطH\\x05[‚\\x18°Q\\u200fôد\\x10ؤà?Qق¹²aءہô_\\u200d„àYL@\\x00ژ\\x08\\x1bِü،ك@‘Dç.q•,¶ک\\x04£R7d\\x7féJP^\\x05×Fغ2أ…5^A‘ق\\xadج.¹?œ¾¦\\tتء&n\\xa0†\\u200e…/ےƒ§ـ\\x7fy£œ!teJب ب\"Z\\u200fVظآGى؟|\"Vëùپvچ,\\u200cçج\\x1eـ\\x14\\x0c\\x15\\x0c#ـJ½،ُMل&{\\nO\\x1b«lOںLtd¨`\"ش—ء®“ي\\x06ثں”ٌَSŒ\\x06؛)D(0\\x04،ڑs\\u200fô\\x19D\"2_َ\\x06\\x05V–\\n|ڈ£ڈ*\\u200f\\x07–GضK\"†\\x05¦r°‚,\\nى\\x07¤•[A\\x19\\x14طَ\\x03z\\x05\\u200cün‹\\x15dّ_e\\x05!\\x046؛\\x1eDذ/ü\\x17ûه}\\u200c\\x12\\x11Y|yز°\\x1fـ\\x0fـ†5ذ/ôّ‹\\x13)ىqنp®ً\\xadvؤّ\\\\،£ٹ,zl\\x1cب\\x1b\\x1c¯zٍ\\u200eic\\xa0_è|TQ†×|¤lo\\x1aک:ç}®ذQE\\x16م eûْr¢HY+$„ط®D™؟#‚~=\\x7fذ\\u200c÷\\u200d†ت\\x05[t\\u200d”\\'ذ–ت{مO›عh;\\u200cPô<ءL=\"\\u200f×َ\\x07=\\x0e\\x7fءجً؟¤\\u200cض/Dç\\x0e}پيà!هü\\u200enٌقچ”\\xadه\\x7fل´ٌ\\x17ج\\x0cے\\x0bظشِڑَû}t\\x1aœكئ$ڈ‡پ\\x04»ïˆ°`د\\x1fô$ّkg\\x06\\x0b&يôإaھظ؛Ga\\'ڈزJêّ\\x0f=?7…k¤‚-\\x16\\x0cp‰ءéں\\x08ـB\\x0e¢\\u200c\\x0f„قد\\x12\\u200cœü\\x1b¾\\xa0ؤU\"آ‚!«تê\\x04ں+$\"َح]غé›â3M‰•Fےكح\\x1daءژتüjڑآ×)\\x11‘إ8ŒéûC\\x02ف4ڑQ\\x1a\\xadم@!÷Oى‰‹X`ˆن¤Iً—ر*²è¼Qج?\\x04b\\x15{¨\\u200es›غ°أ>¨ِژgطHGكè\\xadرN°\\x000ى\\x04ïtب\\x00ہگB\\xadw\\x02¾$\"\\u200d¦\\u200cgùS_ھأ\\x1d\\x1d±ہ\\x0eث\\x02أ8¼z¨\"‹I0ê· ²5\\x02طغb†\\x1d†Iہث_èثچ\\x00`¸ˆس\\nٍê!\\x03\\x00“vعr~أ\\x13=\\u200c\\x04£سرy”üZ\\x07†\\x1f\\x11\\x0bىùƒR\\x0f¾\"‰ˆ,&ءè\\\\ہûدiôœ4Zا]ˆ—±A|£·†;ء:¢AŒp\\x16A†\\x05†آ÷z\\'|ےNN°ہ%ڈe\\x10¾\\x1b¾¦Fذ¯أB؟~§Oے\\x11‘إ×6\\x1eg0rل\\x0bک®\\x1a#_Jث\\x7f3تّfr\\n?<ظأ>\\u200e\\x07”è„\\'آ@؟>ًّب“™ژأ(oŒû\\x1a+=2\\x13\"è\\x17بCv\\x173\\x12\\x03ء\\x04Ud>\\x1f\\x06â…qàD™،\\x11¤ر¶ë_ںq\\x01n\\x1eGd\\x1a[è\\x17ض•?چ2ذ¯أ@¼>7Dgz9²ٍ¨سُVک.î|\\x14،eI_è¼؟،fH_‡!}½¯?¼“Mƒƒœ|îu;\"}!£خ.&ں+$\"‹إ¤ُ,ئٌ=tj½·\\u200c\\né\\x0bٍˆ‰ت¼زك`\\xadرو¶¤¯كés…ژ\\x0céK„\\u200dE^ئٌ\\x1dW}\\x15³حگ¾ت8@XŒ.G\\x11ق\\x0b\\x05فi\\x12¼Jبà½¤\\u200cقyشش\\u200dEhصF›<RY†ٍ¼)¢·bآ{لھهT[\\x15Y,&\\xad—ٌQa|\\x0e\\u200cpm\\x12H\\x1e\\x01Œلح.bz\\x1d\\x15طصl\\x03_dDD\\x16\\u200c×z\\x19\\u200c\\x07“b\\x1abP\\x7f·Mآgسل-لMûوr\\nw\\x02ù¬•\\x1bAB%2L/\\x14عQ÷‹²\\x13ق\\\\û\\x06\\x17\\x0c\\'\\x04rE\"طووl\\n;O:عg:!\\n ،£\\nب«L\\x02 \\x13خ°a،د\\x1bّىِ/\\\\A\\x11½\\x0bے™¶±×\\t\\x19z—´سVؤëش¸\\x15o\\x1bشF›ü\\x1b\\x05x\\x12ض~Dï:ˆقuْ²(\"2ك\\t\\x06جU&\\x01>°ظqؤٍ\\x08S\\x0bم<\"z\\x17شژ\\u200c\\x04Nٹاي(Cï\\x12،>\\t ک»\\x15dگ]e„¯ّ©#Bv\\x1d„ى:}\"“ˆ,>7©à×\\x1c^\\'چِe\\x03\\x05\\x1c©®ˆسu\\x10§\\x0bه¼ف‘ںلtI;ês\\x03ئ×\\u200fy·¯لzف_^S2â½\\x1b=\\x10\\x13§ëüyےD\\x15YL‚6uں\\x15ل/?µ¥\\u200fهO],/\\u200d„Hï\\x12§ëüz7c†سu\\x18îض}نkؤا`\\x1c¤wqêؤ\\u200cڈ|ض•¼صô®دْ92p.\\x11ê—\\x19„»حج²عh—\\x07m1sjFoإ\\x04ç\\x02=بï„ج[±پm•ث\\x0fX¾\\u200fàaهüز(ùّشŒ\"¦‰به\\u200dêت©™ر»†°u\\x1fù¾ëع\\x1c.مC×\\x13Z7‚pلzn\\x0f|Vôèz\\x06آ%Bu=œ\\x08ˆC¸صà6 —Nأمآ8\\x10Hڑ\\tِژx\\\\ \\xa0س8¼g1أم’vع8\\x00–ٍëا@¸قH\\x0cع”ض،ë~Dق:ˆ¼u\\x0e²”2ن-i§ُ\\x18Kmjہ\\x1bٍ\\x16:ڈ§ًج½-\"o\\x01\\x14E_قكغ2ن-i§ڈم\\x1c_†غ\\n2\\n\\x1bم\\x00ئ$q\\x02Eن\\xad£\\x12³عI:HXھ\"s\\x1dfب[هû~ا+»چCû²!\\x7fظ‡ًèN\\x11‘·ہض¶َل«\\x18‰بb\\x1c¤‹a\\x15z\\x1dfp[ه8\\x02Q9aءD¸-”\\x1b¥خûwً\\x0cnKعQf!ا¼أüھ-uƒ\\x1fُ÷2gi¤‹‰±\\x05و†سa\\x19ئضaکY÷Eb\\x1c\\u200fكV\\x10ظج?ّ\\x163مˆt11¶خA¾U\\x15Y¬ V³(u2ع،m\\x1c$ڈ\\x1aسCn?ں°‘Z&ٍ–ثc.؛-£–\\nI«x©\\x06±sN&Hù¦¾G´\\xadƒh[§/]$\"َ90 \\xad²–\\x16sہٍ%ّ2:‚\"ٍضAن-\\x14ؤs\\x1b!Cق’vْ\\x06E6ًىRa \\\\÷D}†\\x19g<\\t‘›ڑ \\\\ç \\t+\\x03لB\\x06½u\\x06،€ى4\\x13ژهQç$Œf‰ \\\\\\x07A¸خAوU\\x06آ%ي´I@•\\x16:”q”\\x1aٍ\\x16¾<|(ٌ²)\\noن¾\"ٍض9H·ھ\"‹5o4*ض<(’î\"mً\\\\e\\xadن\\\\è\\x11në ـضé‹\\x14‰ب¢َ¬v‘;23ؤ\\x0cn«lًmü\\nثk>²†\\t·uْ\"Eہب\\'|ˆ\\x06·U.ّ(غ4ف»d\\n—ع\\x0c‰›ؤM؛\\x1a.&z(~ûki\\x06½\\x05Œ¼ف»ًQùب\\'\\x16B\\x14]\\x02¹چ¬‰h\\'گ\\x17zگn•لm=? q¯e\\x12`.N\\x17\\x13i`\\\\#آ\\x17ïˆ·… 1{‡\\x1bنXex[زژrنz®³\\x13B¬V\\x06à\\x11A¶ہ=¤خû\\x0bh\\x06²%ي(¯ٍ\\x14®ين?°ت\\x12ث?‚l\\x01{Kمًwر\\x0cdKعQnخٌفRîp\\x06²U\\x0c\\x02ؤ$\\'¬²ˆ·u\\x10o\\x0bNYw•بً¶¤\\u200cn\\x10 {cv\\x1c\\x19قV\\x19\\x07¸™™ùˆ¢¬‰·u2\\'\\x1ewر\\x0coK„ش|جَ¹\\nzë\\u200dڈTR}„ق:\\x08½u\\x0e’°2è-i§onT+™y¬\\nz«¸ئ6¥کH·E¼\\xadƒx[H{ô‹éQ؟s\\x1dmّYهX=5ôغ[ة,ےF•ةèR}3\\xadF\\nچ [\\x00\\x15ùخg\\x14³پfفٹ\\x19ذ‹‰§خة#j/³\\x13\"+™ [ا \\x1f+\\x03ظآّµb†كD\\x17sٍe\\x18H\\x1e“\\x06\\x07w8\\t‘b&ب\\x16V”ں„Œ›عً³تrvE\\x14q©vB*¥پ—|d\\x03\\x13X\\x0bûخw8c\\x03\\x1b°Vé0€ٍسUأ~êm|\\u200e³م@“م\\x1bرَ‡\\x1e´\\x08½ؤم\\x10‘éض\\x15،\\u200fnپàc¶\\nœ\\x10ˆC\\t‡\\nخآ¨َV\\x19Cظûخ?\"‹خëہér×؟|شâس\\x0buçû\\u200ca´4´Pشcû\\x0eŒk–ïٌ#²è1Y¾\\x00ز¨³أ=L>\\x1dز\\u200cO]ƒp+ˆئa\\u200cس¸\\x10ûq$\\x08\\x1eد\\x0fè~ل\\x04ں,\\x7f\\'؟!¦jي’ƒ\\x1a‰ئٌک´âœ†Uâاٌˆ,وƒLcpهوم y8ً\\x12X›3¢i=\\x7fPغط×\\x12\\x12‘إ8بJئ\\x0bج`\\x1b“\\x10\\u200d¥‡\\u200fG>ƒ\\x02سّ$„\\x16œ\\x1e~\\x12\\x12\\x1aXعé\\x1e\\x15ش·œXeN\\x1e5¯\\x12ù((\\x13\\x1d-&k\\x1a;œ\\u200e?P\\x06\\x1e‘إ$گiŒE>\\x0bک“Fغ¸w8f2›\"Pئ(،al\\x1c¸\\x0b\\u200e|$”±´سu\\x02‚b§››¬ن\\nu!2م\\x08tôy“¸ô¦\\x18¨‡„ژ–v”nûحt´“‡ٹN¸Kد\\x08¸ُüAچأ×\\x12\\x12‘ù؛2,\\xadâڑ\\x1bن{KK}\\x13½آl]ّ°‚\\u200c@”-¼\\x08¹\\x15TE\\x16=vٹظ9\\x1cںN\\x18½Œ$üِ/ٍïآڈ\\x18ُ\\u200cT´دئz\\u200fï\\x02e#Bفة~M=\\x15N\\u200fWت•ِ\\x7fء•\\x1aAxر8HE\\x1fî†ْüكه88†\\x1a%]f§j%wُف‚§‘°َ‘^®ط¬¦—}bض™!k‰Pں\\x04DS؛kim©÷\\x18ك=ىq\\x10ھ\\x05§؛=4}! \\x11Y,y\\x0eصzsنف\\x7f\\x1fiIy]2qêxھˆضٹ}\\x1eF¨ƒك¯\\x19\\nlpZ·5مâBںN¨\\u200e\\nّkآ#‡7¢¨ï¤u}عصَ\\x7f—ëœ#¤KآJl؟K£}\\x0eàڑ\\x0eWM¤jo\\xa0–:ع}ع\\x15\\x1eùî…µX5ü$üص5و\\u200cc]\\x1aيK^½bرµ-آfلéش®xںپ%\"‹¾³I{n³Œ\\x1fi´ïéT1Tœ¦ء\\x02\"l\\x16\"Pفâ¯\"َq\\x18lV±\"Q„p¶€X\\u200f‡*°ر\\x02ٹ°Y\\'a³\\x10 ى;ں1پk;}5—âج\\x03يS\\u200eرٍ»ê`EâـZ[E\\x04-ؤ\\x10ذbٍwخ\\x0cAKعQ\\u200eز|_çBtٍ؟WXٹ\\x0cٌ\\x1aر\\n\"Uëس®\\u200dے»:‚\\x0c\\x1c«¸\\x10qepعٹ…ق:«ˆِnDذB\\x08چ\\u200eـ>ءJD\\x16kقط±p\\x16^s“ث\\x10´&\\x1e^\\x1eG¤u‰\\xa0…TI؟ü\\x13\\u200dgش^؛؟G[6\\x08\\x0cک\\x05û9ù\\x0fL•pïFZ·’¬ع%ا×<پ\\x01›8ü\\n\\x11«h]x’§\\x07\\x0f\\'2\\x01(\\x1av>R»DذBR¯ےٍ\\x19c×\\x10´ت©ة\\x14\\x07\\\\wX\\x06\\x00Œ„«üŒ\\x00Zد\\x1f”ضُظ\\x18\"²X\\u200e¤uQ؟gX·¤\\x1dڑ$\\x0f{8z¯\\x00\\\\=:lHيْؤŒçے.\\x0f\\x1bR»›!ى\\x0fNJ’ا\\xad-4®\"€\\x16ü\\x18ِـٌ•@Dd\\u200fه\\n\\x10\\x0b«\\x06ه\\x02¦—5\\'ںJPEىp0\\t\\x04ذ‚eçV\\x7f\\x06\\xa0ُü€؛\\x0c#™دغ\\'\\x06\\xa0…ء\"²8‘I…éŒ:O؛ض\\'f<ےwµ‚\\x0c&«LآخY}ط»,tn&“0:wnٹصà¹\\x0eNw»‚|b†ˆ,V\\x10™µہ(جW\\x10ة\\x1b®(©«›b5ى<©]\\x05ي¯Yگ@è$N|ƒةآ—ك·±اO\\x0e\\x1e–ڈ\\x06ثمˆشnإ[5حُُ¾…\\x0cVë4ک¬2\\x0edُحn\\u200c,\\x0fC5مë‰°ZکCZL\\u200fêںءjI;يْ€\\x04ْ\\x19|ءةںكً\\t\\x12\\x19;ر6&أ—م§ànخ`µD¨u\\x1e©\\x19قçoط[÷^\\x1f³\\u200dx\\x05E†o\\x05eُ\\x15نïû\\x19–\\x16>œ½¸ي؟qپ\\u200d¶\\x13X\\x05#پ8<ƒ\"\\x15L\\x00-02\\u200eéںq,\\x1b€\\x16>*\\x1cإ\\u200f¾ï„tظWْـ\\x11*\\x0bْآ.tU{C\\x0e\\u200d*2?5\\n*ëî±ٍ„ûًmùف¾¶P‚+لزڈPY\\'،²\\x00،u_¾ٹ,ئAژهMsيd\\xadش–zç‘‰\\u200c°q#TضI¨,`{}ç3ڈ؟\\x06}U&\\x01ن¢ظ}ںهءٍب¼«Dش,<÷رbٍ§\\x7f†ڑ%ي¨إ1ژحkَء*û5ژ؛نM\\x119™‰ڑ\\x05*¸ںڈŒ6¶\\x14¬\\x17ت\\u200fi%و=\\xa0,ڈ°¥ذxŒ¨Yبا¦Iً7ذ\\x0c5Kعi“p\\x05pâ6\\tعR\\u200f`°Xض™M\\x11\\x19ء7NKظb>!م¬\"‹\\x1dMF-Xn³ّni´ڈ{OفK#€\\x16..v>|n†ˆ,ئAnè+ˆںoَ،هث| \\t\"sآFٹ™¸Z\\x08ûُ›\"م‘®يôï;çùء¦Qٹ¼Œ\\x03ژ¤ج8\"\\x1d]yXي‚لk³œ\\x19®–\\x08µq`]M\\u200c+†أ…أ\\x19…52û#âj!¼…ض•؟¢f¸ZزN\\x1fاâ9زp¸ت8®W&زوئXچL\\x1fâj،گگ[W\\x19®ضi8Yإ\\x18ققCcXِ\\x07ث£à@\"-\\x17Yfء\\xad›\\x10[¨\\x16ها‘QâŒج؛€9ڑ™>F¾ىڈ/–وعل\\x1e!¶P\"€ض•×\\x1fUd~^12\\x0bّ¼éأ\\x01ثc]eL¸\\x08±\\x05ڑ“\\x1d‡/ق\"\"‹q\\x18O6ض\\x15^Y§َAٍ—qI†ْ<¢mء-Bمً7غ\\x0cmKعé¦(*;ُqّب@¦mپ•’\\tV¹‰Yأ}N&µ¢ط‰¥‘،mپyi\\n;\\x00كـS\\x08ثàگ\\x0b\\x1dظ\\x11a\\x0bڈچôل\\u200em¶ٹ,\\x16\\x10Gm!کl؛€H~ےé2ِلSrDطآ+\\x10چc\\xa0(2ٹ›لY\\x1fs؟َ·Y\\x07غآ9–Pـ\\x11l\\x0bًR\\x1aاà`ت\\x18×\\x0e¶…ذ¦™•ن¸[\\x08\\x06MŒ#ân\\x01\\u200f`ئ\\x01ثر)ٹ\\x0cwKعéOS(و;\\x1b\\x07s·ً4¥–a¸®\"î\\x16\\x00ک4\\x0eïى¨\"َ\\u200eل9Z:\\x01س\\x1fLN\\u200fت”گ\\x06³(Pـ„àBQr?\\x1f\\x19إméZهةSاق\\x0cئA،ع`ذ‡ع!¢qپ¢K“àµC\\x15YL\\x02™ذب\\x1e\\u200c:\\\\k£mٌلD\\x1bâ‹بنژہ\\\\\\'پ¹v_\\u200eED\\x16م ي‹<،ل،#·@\\x07وْé؛rٌ¦ˆ\\x1cà\\x04وزOa¢ه2`®“™[ط¬\\u200f\\u200e‡…&صgپAژ–؟صثpœûهںylf\\x1a×oƒâjے\\x06ثںô8\\u200d\\x7fâه\\x1f¹؛‰ئ\\x05ثذw>َطىèZ;8V“(\\x17–كًًœر\\t‘qM4.€xü82:ڑi\\\\ک„ùٍçبê\\\\جفحح\\x1a]ٍ\\x08ج…ْأ~\\x1c\\x19\\x1dح`®ïwZA\\x02îA{)ü}اد¾t\\x1cE”.(x{¬ْ\\n\\x12\"2?ژک؛…b\\x043¦¤4ع=ں\\x1fه{نخGoذ„وع\\x07aل\\x194\\x17ھ;زM[¯ٌپOںهa\\'e<\\x03\\x11°\\x0bء*4\\tق3گ\\x01vI;دG……üو€D¼F\\x1bH\\x17d>»\\x12â\\x0f\\x1f…{\\x11™\\x0ba~nُgب\\\\ً$©\\x0f_LzxXf§\\x11ث؟_“خGNoآqلفطw>مô¶8®â‡™\\x07\\x0c²<(ûêz\\x1dF’D8®“p\\\\ˆFٌمبD~1i\\x0bِïشL`ùث\\x04J†ھ-\"s\\u200cDوع\\x07لث\\x192—´س\\u200e{ْ\\x04\\x1aيbزث\\x17ـڑ#=خ›\"Rر\\x04éB.•ںڈŒٹfH\\x17ê\\x12جگ«(~j7\\x116Eئـ¹A[#صFگ®ف×183گ.\\x11R~مkê7®چھwک\\x0cُ\\x1cµ›‚û\\x1eA؛ِATs\\x06زُü@+ٌWق\\x17tI\\x18\\x7fك3ہ®û\\x14~gr|#`×Iہ®}\\x10à\\\\Eو*ع\\x00¸î÷\\x05NJ‚z`،8.2bt،¸™صf¾~„ˆ,ْKZ\\x19\\x05‘§\\x11©†رUئ÷6aٌm3ز~¾‘X£}@Œ.¤¥»\\u200eœat،€±½]ہ\\x1b9Mت4ٍ·ں;ُ~\\x12ل؛Nآuي›7û3¸.i§ïد\\x0fمûتْaچ\\u200dsزكج¬ل$Xç6آ¼ü$d”5C¹ٹ\\x15ï¼©F¨ىـwت‘\\x17‘»N\"w!¹ضw>£،\\n‰ë^\\x11°7&F\\x1bث؟7\\x15eتث?2—\\t×…اaكùŒ¹lp]ه£\"(kعy\\xad–ث\\x05ُ·\\'ّدg„ëz\\u200fذں×w_؛@D\\x16ا\\x11«ظ]ك“|´°!w•q t&a9Gن®³b¹ن9\\x17±ڑ~>2–sm§\\x19\\tHة\\u200d†\\t°<&/Œ\\x17‹ب](¯kuآ K!Cî’vzçپ\\x03ôغXغبٍّب،خ<xFن®“ب]:VE\\\\]\\x19r—´س:ےB1\\u200d™\\x1f»6عح9ہ\\xa0\\x13\\x0f\\u200d\\x11¹ë$r×>HXبگ»¤\\u200c>ژm¾\\x13\\x0c¹«œ\\x00©ھ—(-\\x1d\\\\ىˆـ…}èvB†ـُüہےq±3ن®ûb\\x17\\x16\\\\DQï¨َناِ\\x05\\n\\u200dے»\\n=7ّ\\xadز\\x198‚ـN`،ڈY@،س7bt،\\x16\"mcï¨ب0؛¤\\u200c¶‚¾¦\\x14ڈWج†ر…ء\\u200ftJ[XS\\x08\\x0fٌر$ط§f„جْ\\x15”Qج\\x06؟U\\x14³!d\\x0eئA،cï}üؤN::\"w\\u200cDîع\\x07I\\x18Ud®غ,‰ë@M،q\\x08•<&°ü\\x0fu«3\\'Sd:\\x13¹ث=\\x01 گ;Cî\\x12،zEإ8^ڑ@و“€-éë\\x00\\x0fb\\\\›‚ç#ٍn\\x13ؤ\\x0b\\x18\\x12؟®2:عٍ¹\\x0e°\\x0eءئ\\u200c<1°ü\\x17•\\x0c\\x13wچ\\x1b½5؛u\\x13غk\\x1fdiT‘إ؛2قjŒمحy\\x120\\x19,\\x00\\x0c“ِر%f¢C\\nم\\x1boîç\\x0fêآçS3Ddعy\\x11j‹é\\nى\\x03ں°Nè£¬s»j\\x10ه\\x13uک\\x0cf_)مù؟\\x0b• B\\xadأ/M†ٍ\\x0e0\\'ڈ‚&أUئم\\x08ôٍu3؟ô‡w7T\\x11Y|xc0cA\\x0063±\\x18¤ر6nh‡(\\x08\\x06>„h\\x12H/û\"\\nدے]N‚y_>\\u200fً؛6C\\x17I£êبR/آüه\\x03—ِuس½ش—÷é\\x18\"²ٍّوQù@h3\\x12:غ?gمH£}‹\\\\¸،\\x0fخ)\\x1eG\\xa0—\\x11`iï\\x17>ICD\\x16م0ةج\\x18\\x07ê/ّ\\xadKB¨E—ˆû؛nV×àذ|\\u200f\\xa0\\'ء\\x1d\\u200f\"²è¼ٌKc\\x05½اh“ھŒ¥ر6\\tٌKع\\x15پ»\\u200d?è¾»ذ)\\x11Yôف„taë¢nêt\\x01‘üد„(Eo\"×حç\\x1aخپ\\n\\x01أc5+àçے.w±y.ئ8t\\x08!ا1\\u200e÷‘Fغ\\x1cl¯‰\\x1e\\x08\\x1cض(إA«كفJEd1\\t¤uQ\\n}–ط)چِخƒa\\x10xK‘l\\x18œں\\x15\\xadصـ\\x13\\x1f\\x7fّW‘yç-¢ë@jڈ¾\";oûس،–?|üي؛¢$\\u200c;\\x11\\xadë\"Z\\x17P’nظdh]زNû’`9خ\\x08¸N\\x1eُ\\x1b\\x13ü½+\"w=\\x7fPغطWf\\x10‘إ$گ\\x06قPH~¶چï\\x0eéIہE¯ثا‹)Rئ•\\xa0ص\\x16“¯×€¢ط÷fYŒƒ”ٌ\\x01\\xa0\\u200dس\\x03\\x16×uüلU:¼>ـ\\xa0¬رءC¸®ف\\'[\\\\\\x19\\\\—\\x08µ\\x15\\x04„â,®إةأو\\x1d\\x06#ٌNˆ40A¼ِ·W\\x04UdٌهI¹\\x02£éآ؛\\x106¨_Fًه\\x03^\\x10w>pY_\\x15¾ص—چ?\\u200e«ب¢َ¤پٌ®?صb\\x16ْ…q “~m\\x0e_\\x11ذëùƒعئ¾Hƒˆ,ئAع\\x15œL\\x7f\\n؛{،ِ.¸\\xadٌٍ\\x0f\\x0cك‹(^»¯ج \"‹\\x1e“ق\\x055hّ%هîS\\x7f·m—ë«cٌBغ1\"zAث[\\x15ىs)Dd1\\x0eRء¨\\u200f7s²K£m\\x1cx:J¼لم==ذئDôع_\\u200f.ڑ!z=?\\xa0\\x16ا\\x01Oْج\\x14³D/ى\\x04ُDH»8\\x02z،J\\x1dحپ{5\\x13‘ù\\x1cX\\xa0×ٌ‡:€3l£4عç\\x00Wقؤ.ژ€^H‡،qّس(\\x03ô’vْ\\x1a\\x07_~¤\\\\eOشF«ü‰<Bه çIˆ4pelµ£شWc¸ھبb\\x12H\\x03#*dِْ\\'چِء\\x02D\\u200d¸IDک¯‹0_8ئفح®ٹ,ئA–ٌ‰¬€éF0ٍک„×/\\x117‹³7عذض2ض%،ë\\x1bشَ\\x7fW†چإ|\\x1d¨\\tةّ\\x18X3V\\x08\\u200cGةص„Y\\x7fS¸F—#آ|m¾:\\x06\\xa0i‰ëœإ|•خû;…•Aك\\x7f€\\x03\\x0c\\\\\\x18¼\\x11\\x02×4~آىâح×e\\x10‘إ\\x02\"]Œڑ¢س;…%~لôJٌڑ®ˆُّü،ك)6_®AD\\x16م \\n\\nôا,*G\\x1aي§êo¬\\ty>\"#ù¦‚éqّ\\x0bj\\x15YŒƒ4ôخUrث>`-\\x1e !©ï\\x11û\\x0bژ@ZK^#T‘yك-ث\\x0bد\\x16.•\\x07\\u200cg،-ً\\x06sç#/5\\x01؟6ں>qe€_\"¤¼µسؤ\\x15\\'ڈہ\\u200e\\x04\\x15\\x1aءœءIZq\\\\¢ظ6_ًàù؟«“شb½àxہ\\x17™¼رH£ف²\\x03é,q0E\\x18°‹0`›â\\'‰F¨\"‹إD\\x1a\\x1aںw\\x16\\u200d&؟«ئ،iمفeإëھ(ؤ‘r¨d®>\\x1f\\u200f؛—!‚]–ً…ù€-àl}\\x16‚»1Aم¹nêض°َ¤–}ص‰çے.\\x17“3—اYfrا³\\x18°â³\\x08\\x03لٌ\\x19¢/o\\x13¢6_هàù؟ثخ³¹¼±ك©\\x1cG$„,·a”9/›H/W\\x1cW_6\\u200fb—a\\x7f،ڑ¼ُA`Wz\\'#\\x0bء،\\x1a9Ho\\x1c×p©X×4\\x08دî&ڑل}]–÷UL¬1w¸-\\x15Rط\\x08×دّ\\x18oèضp\\x1cضDvںë\\x1fو:‘ù$B\\u200eb\\x10,ˆ6\\x0eRئ—®طG«&¢€\\x01½e5°د\\x18\\x12‘ù،i)`eے،¤tûç\\x02\\n¤Qeض¨—\\tî|¤پ\\t\\u200e¥_9هؤد\\xa0؟ہے°K\\u200fْ1t\\x1dûص\\nل\\x1e½م–±~ع‹ذ_\\x17،؟6_د@D\\x16_\\u200d\\\\س¸\\x17O\\xadz‹\\u200f‚حً\\x1aS.y\\x12\"أکذ_بùqغ8ƒ\\u200f؛ھPW£؟mê!by¤yg4×Mع\\x1amcB\\x7fm>…\\x0b\\x1f6a“\\x19”×\\x1bv\\n’hœعe!0>£َ3آ}ءü،\\xadë\\x0fü\\x0cîKعQ\\x1ev6Gثê\\'}œ]5‘ھ%ئ\\x17î°~صd,àعNïü\\xa0€\\n¶³فك€Œv#‰×y¤_‰وµùl&(’جْ`»×…د–دحJ\\x18ُتآ\\x05\\x12ù\\xa0‰غ…¬lےچ\\x13ءW—هv\\x15؟لüٌ‹ه\\x11؟™(\\x04€\\x1c¢àZFـ.÷d\\x05\\x05›لv‰PW°\\x00&ح\\\\V–غU¼+تûMث&‚u!\\x0fضîR_\\x08@Dوا¼…oa\\x12\\x06TtiIù\\x16tfVè\\u200eڈ\\x08]\\x00حظخûڑ\\x00\"²è<)ط\\x1d9d³/o\\t]إ×“aL\\x003\\x15¬ \"téھ\\x1arQ¨\"‹q°®]è(Kôآ\\xad\\x08,ï„‰\\x1b\\x11؛.\"tm>sID\\x16مàg`8\\x10fدظ–ذU®طڑ°\\x16ڑ¸\\x11،\\x0bO²´®üé_E\\x16م0Nه¢k}@bmHي‰\\x0c\"ôٹ¨\\\\د\\x1f”؟چ!T8چ2T.\\x11Rڑk¼6ن؛o©\\\\کƒّت\\x10‘¸®Jاj6\"أظKك3Z×R¶ًف_¨V9\\t‹cùة+X\\x04ه؛\\x08تµù´%\\x11Y¬\\x19çw~Oف;ُwû<]م‡\\x0eV\\x08‘V&(\\x17گ`N+W‘إ8بŒإ5b>\\x07ى§F؛Kو,ٹ´2A¹\\x10eلا‘1{-d\\x0bnھ\\x17Cwq\\x1fb!0H3—\\u200eˆؤ…è\\x05{\\x00ùr\\x1f\"2ں\\x04KضآFPO\\x18@\\x11»{?ثأM5\\x0c†¥إ\\x14‘¸°\\x14i\\x1cقWک!qI;m‘#3سں¤\\x16؟U\\x06{$\\xa0ر`“\\x07Z™ً[Hڑr+¨ٹ,&پµ2ٍ‰\\u200e—\\'!\\x14\\x15\\tïC\\x11s\\x0bO¯ô¹\\u200e[K†¹%يôدچ/9»\\x0fYوV¹پ+L\\x10¯•ب¯L\\xa0\\xadيç\\nُ*²ّـ¬tu•;رV–®U´صنsGo¼„شBت‡_ ‰¬$ًvة¥¹¸î°<j;¥\\x16zdىV@VS»¾@ةUE\\x16_\\u200dىط\\x1dرè³\\x17\\x16\\x0bوآ$¼ئ™\\xad¼‚\"\\x13کک[\\x1bƒةp}¨\"‹q°\\n\\u200f~‡\\x1eط¶کط\\x1aF\\x14i\"\\x10هFbچ\\\\=ؤـع|VزUE\\x16م`\\x15Œèأ™سس2؛ت|hC:Œ\\nچک[\\xa0&طمبg%‰بb\\x1cü¬ث¤rh`ثظڑ^?#¶\\x16è>ش_\\x7f\\x02U‘y\\x7f-[«(\"دu’\\x1fë÷~]´ڑVüح¯\\x1a\\xad\\x14\\x02jmü&ژ\\x15ں\\x01j‰P؟D\"\\'ava¶@\\xadٍµاu\\x10x\\x1c‘ھ%\\xa0ضُِ—خ\\x0cPë2°¬âـ\\x0cھيبخey€NBدغح²\\x1aN\\x02iفA&R\\x06®…d.«\\x06FUmœذ\\x01îwنy»\\x01Vأ\\x1e“};H?ھً«إBwِي4\\n\\x15üvrt\\u200fR¶nDش؛ˆ¨µùٍ$\"²\\x18\\x07)à-¨\\x10ر–\\nةïW†l~ED\\xadç\\x0fتfg7Aظئ\\x19»·\\nµmŒ\\x18n¥‡ü3)ث\\x03¹4¬cثغ8RہDشعک7Sئ‘ٌA[¢V±¹”ûg`¶°<شV\\x02 qED\\xadç\\x0fz>\\x06ٹ م™¶„¬uب\\tث#\\n9َو\\x1e\\x11µ.\"jm¾\\\\Œˆ,ِ\\x07ا^،\\\\جT=°آئإ#q!ٹˆZx9¶ٹظW*\\x11‘ù8\\x0c,ëV\\x0fغ4Z\\u200cهgê!آk]„×ع|y\\x12\\x11Yt\\u200dœشˆژV‹أغٍ\\x06¯…ء\"œ,\\x13¢\\x1eلµ.آk¹ک\\x11lî\\x0c^K„”أjٹgsٍب\\x1aةن¬Fx\\xad‹ًZ؛\\xa0©8غ3x-i§‡\\x08|¦eVH¾\\x04é\\u200d،وژًZذ3´\\x13¼O¢ٹ,\\x16\\x13ibDي\\nO\\x1aرx\\x16اU¢t\\x11lظےE7گˆ´u\\x11ikَ5IDd1\\x0e~÷Em\\x15ç[1x\\xadw\\tچہq1p\\x07“ڑ»AX£ë\\x13‘¶¶·؟\\xadV‘Eçچ½Œ~!¸{fں\\x192\\x17ئ\\x11\\x12x¯\\x08®ُüAi¶A¦Rه`-؛nLق\\x13گ0_HU~¬î\\x10ô\\x17…:Fممï\\x1e¹¦‰¨µ\\n’–ھب¢َئ..\\u200cç’\\x1f0(\\nF«|ىï6L àخG\\u200fh\"j!Cس9‹2D-ؤژé;4:ے\\x1e\\x04ص³\\x10ضUF\\x01GD-¼¾ظcG½ِث™™!jI;mE\\xa0\\\\üôط1D\\xad{إ§\\x1e\\x05\"¢\\x16\\n\\x1fذ8¼ƒ4Cش’vع8\\x00sڑ>\\x18\\x1b¢V\\x19\\x07گ¤‰\\x13(\"j!ك›ئل/¨\\x19¢–´ساپ\\xa0èظإخ\\x10µت8\\x02\\x16\\x1dmٹ\\x08®…gs\\x1a‡د\\xa0¯\"َ\\x1dm¸Yè\\x17ژ£iگ\\x19ثƒ³•¹hGœ-\\x10\\x7fi\\x1c^#d8[زNںڈ×àX5p\\xad2\\t8W\\x13؛8‚k\\x01\\x0fh:ےَeFDd1\\tF\\x17c\\x12~عjَ0\\x12\\x03م*مطM\\x12et§ˆàZ\\x17ءµPœب\\u200c°\\x19¸–´س\\'\\x015دف\\u200cآ\\x12µNگ«”ê\\x0e\\tg(\\x08\\x13<6\\x11Që7H[ت\\x10µ\\u200d\\x1fh\\t\\xa0ک\\x04ذ\"fO7–¨…q\\x00،\\x1a~ùH1\\x13F\\x0b‡›ےٍ\\x19{ظb±ذy¼>Oڈ#Rن\\x1fT\\t\\x0f;\\x1f)fbg\\u200e|پ\\x17|؟{‡,–?)ود—?\\x03n\\x15–\\u200c…د\\n¦ü¸اe9\\n×J\\u200eC؟ؤ\\u200e\\\\Mژ&2ëq\\x13ê÷³€\\n÷\\x18\\x01^\\x1eش²°ïمکh´a50‚\\x02h©4‘Eكچ5\\\\®g.\\n\\xa0µش\\x06ّصqœFGAvى›®\\x7fذ_›/nMdرcَآ‹إ\\n36^ـ\\xadر>;({±<وٌكئپذُ\\x0fz\\x1c|<6‘إ8Œ›؛ŒcüْطV\\nة\\x7fPً/3ژ¢R½ُ…NZ]û;ù\\x0e×D\\x16م0&pb\\x1c$ں\\x1dاُّ\\x18\\u200c$µ«¼\\x01د\\u200c؛‰,ئءj÷5¾#·ù y\\\\\\x1f\\x02?\\x04:0~2®\\x7fذ‹‰/nMdرyg\\x02ë*Wى±nچِMٌآ[رت”‡ؤXيض?èqًإ\\xad‰,ئلىaF\\x12\\u200e×Zê\\u200cےژ±à|2چص.ع³\\x19Jpِû³t\\xadv[;\\u200eآَ\\x1eg\\x08¶\\x15ؤj\\x17ïم™\\x1d=ضہّ}ûNŒ|\\'?ژµ\\x06nيtë\\x12‘àtqَB€(®سS؟(`\\x18\\x1cGؤرْ)”،lم\\x04G«\\u200f€¾¸لùo¦\\x1e,w«کb©c5@jل÷I1»|ں&2ك\\tµ\\u200c¾بپé›ژƒ\\x149,éuً\\x04ْ\\x12©ëٹ¶’`\\x16d€»إTE\\x16م`uچŒٹé8H\\x1eّّŒ؛¾aV#5GH-$sùq¬‘ZّP¬®ù±\\x17\\x07\\x13ث|°ٹ\\x13\\x1b:€k،=Rر®BP\\x13Yج\\x01«ـك\\x18[,\\x07S\\u200eف~كغڈجءtc\\xad†s@*ڑسî\\u200fa\\x1cë\\x00¯&¤®r ¤\\x0e´V\\x1b\\x07©hّٹض±°ّ™H[\\x13gëç²™êے\\u200c\\'\\x0e7،\\u200f}‘qز×‰×ض–³u\\u200f\\u200e~ïش8\"m]رWmo»\\x1c\\'tq\\u200e¾ـ„ْ8~Lu/›‚T:\\x18aë\\'\\x0fü·H[\\x13rëçت\\x02صے»œ\\x04ز¾كں¶’ظSر\\x1amƒإى\\x07ةذگچT4q¶~®FP\\u200e؟ثخ“‘üفا÷·¶\\x13H\\u200f‡¢ر‰û^ہظ\\x02^ـ:²\\x7f.ف©‰جO&ثح‚\\x1dڈ\\x18Lwص`،ي¥\\x1cItة\\x0bèZè\\x0eée—مشD\\x16=f=ûصO~ü|ـ\\x1aيثfSï\\x0cـùH\\x19\\x13R\\x0béHN‰%گZè\\x0c)Wش“\\x1dôک„~§)p\\x1f¹*n,ضèô\\'¤\\x16¶™ï|F\\x03×vْ—\\x0434vةa°¤±\\x11ص—¹،\\x06H-´Gعط\\x15\\x06j\"‹\\x15Dع\\x18%C§7¢ْ»mـ¨û±ژتA_\"ƒ¹R®عéï2›êے]\\u200cALث‚»rR¯¯5عا\\x01ڈاHëٌ¦ˆ´1رµہ»ٍëj\\x1dي…~‘يŒ×ص\\t،تث#ل6s;؛ءVأ\\u200eٌ(ب>\\x1fق\\x07P،X‹uEٹ\\x16‹j\\x12•SJDط\\x17Pـ³×إ,ًك\"إ|ےAù\\x00Tµg±àھبb\\x1c¤ک\\x7f†َءIِµCتâغu9Kإ¬وu\\x15éh\"ma9ّu•1£-EëüCHإ\\x04ٹŒqگژFُ‰u\\u200eؤٍ^\\x12XشDفآ©لئ‘\\xa0nص\\x1fPك·Tœ\\u200d\\u200c»\\x16ہu\\u200f!}Aف5B\\x1fظ\\nر\\x1aي\\x0f\\x02p\\u200e~^\\x7f$\\x00\\\\\\x18\\x07in$کûإؤB;ک¶\\t\\x13.\\xa0nلGي\\x0bَد%?5‘ù¦°ش-,&$–خL\\x1f–Gé©Hq\\x07¤-tج¾*أêً\\x0b(£¸k;يàك\\x10q7]@¤¸Q‚/µ€ٹ^\\x1d. Rـ®Z\\x10†ْˆ,و€\\x147lûé†¶ذ-l„Oتl\\x0b\\xa0[è$™ر.Oھ‰,ئAf1\\x02r&(أض¨؛€|2.™€؟…ِ\\x1e…غ\\x14\\u200dث“j\"‹q°âF:مجŒ¶(.ى!\\xa0(3{;2£\\tإ…2\\x1a~\\x7fdجhKظ‚y\\x1fش»\\x13cژه·C!?Hث\\x05X.|arz»jAMd1\\t¬\\xadu\\x19ژضc\\x12ع@نè§W¬\\x12\"\\x15]A[}\\x05ù·«\\x04‹\\x0b#d3\\x1a\\x05C§\\'\\x13›رGêظ$ہr!کŒجè¯؟آV‘ù$X,\\x17جhPVGكWوƒهٌô\\x1dھ‡\\x1bˆ5:V\\tثُsIS\\x18ك£r\\x17\\u200cg‹عش™ِ*ڑ\\t]p(eشC@èB\\'IE»¤©&²\\x18\\x07\\x1b×کقظqd\\t]طِںwئ\\'s\\x03±†َAêع\\x15\\x11آ82êع\\x12·JHژ.jل\\x1dc,ے\\x0b\\x0bٌ\\xa0\\x03‘ژ&,×ïم/«\\t,W\\u200e\\x01uY…Woê\"¶„.Lآ\\u200d@·àg\"مڑh]?—JUےïت¸¶ .Lآ\\x14´×\\x1aيخ\\x11€ى\\x12؛يFf\\n\\x17\\x13éh—J…ںج\\x18×–ةu/re\\\\{ç\\x13ثCSdŒë\\x1b¤5\\x1c\\x07\\x19×.•\\nمبèhKê*:ڑس\\x13لêf!گ\\nمc52£\\tç…it·ٹ*²8ژœ\\x7f{\\x1e\\x12`q^e„{و‘!ہy•@i\\x1b\\x0eé’چڑبb\\x1c¬£\\x7fمR\\x17M·±ژقاµ0é¢\\x14گ½¾/\"{لéإحG\\x15™ڈأ’½ً}±پfêپه‘u\\x16†‰\\x05d/t\\u200d¼ق®0R\\x13Yt\\u200dt4:?)gذ\\x1aي&ك\\'\\x01Kئ\\x7f‹\\x1càDِْ¹ٍ<ُے®ژUKê‚\\t0¥¸·F»é³%¸ةّoQً\\x18‘½~ى~اKh\\x15Yج\\x07û¶پh™]\\\\-ظë\\x04ة\\të؛\\u200e\\x0b/à\\x01ظ\\x0b\\u200c$“عه\\x1d5‘إ8ب¤ق\\x00ٌکژƒن\\x11ت\\x17\\x00\\x13رپHGWؤV³\\x1e\\\\قQ\\u200e؟ثإؤv4¨l³[·E{a\\x12tUX>ژ\"¯7±½pإôاQF1[V\\x17vآ±ٍّdlï€\\t%^\\x10\\x03خ\\x17¾0)fW©§‰,V\\x10{½Q\\x16u؛‚H\\u200fxچë8ً|Dêڑ8_?Nپ*;:\\x13<V…ْ\\x05îذ¹0>&€ه7گئ\\x13¯)7aktQ\"خ\\x17\\x0ex؟®2^o‹ً‚ڑ3ùµ\\u200fآاٍ(ذ‘‰[\\nگ__$¬غkاث»\\x06ھب|]Y„\\x17ئٌ\\x1d—ب–k\\x07ثoإارےEخ×\\x00ù…qگووt}¬«\\x04ٍ«\\tُuُ\\x1a\\'m¶q°—ü«.\\xa0´)\\x02ن\\x17~شڑش_—…رD\\x16“ہOر\\x1a£و*;·Fûµ\\x0354\\x13‡T\\x00\\x02C{ض¤\\u200fھْ\\xa0ٍ¤•\\x00پµvTىˆق¬قإaA`إS©|¤<\\t‘IM 0”ru;:\\x01\\x02CçIçآYش؟éh\\x12H\\x1ez\"5\\t‘؛&<\\x18*¼ûqd¢ا,î«کْ³\\x02\\x02\\x18·SïQ>\\x12d#uML0œ\\t¾َ\\x19um\\x19_X\\x11pٌحش\\x1cثï°E3اQنë&&طwگo’`‚لC±؛F\\tںظ;\\x16ثï(W\\x17\\u200d¥‘ژ&\\x10\\x18\\\\\\n~\\x122:ع‚½ت$ü& 0\\x0c–Lً}س±¬]§َژژـق\\x04\\x02û؛ھ+ّةŒژ¶گ/ى\\x04ً\\x10ى\\x17پ3ƒ…¢آخ_ؤT\\x06\\x0fo\\x04\\x02û\\x0eRL\\x12 °ْ\\x03ْ\\x05ْ=&Rٹ\\x0e³à0<¼A\\x01%¬\\u200c\\x00\\x0f†ك·؛X\\x03\\'D\\n$ً`\\xad\\x1dُ\\x10ٹ2خ“ّU‹\\x07أ8ô•;>Œn\\x1a×èژGx°¯+|ƒ.>\\x1aw®–-î\\x0bûہ=kc\\u200e°\\x10\\xa0H،\\u200c\\x190ءذ\\x08)`W·¤‰,zجٍِ®\\x0b®{ں¶eˆ•\\x18\\x06ُث´]\\x03<\\x18zfچنïل}ع\\t<Xk§/\\x1bWF،|nض؛Gœ\\x11\\x19€ہذˆ}a\\u200f\\x0e2Hھبâs“êDi-\\x1fضY[jأٹ*êٌçژTm¥p‰Y\\x0fڈ¹;ه\\x13ô/|\\x04¶tqي›©Z–?ِOئe}أ¶†»شZئ_W،\\x04]ج¸¬-ح\\x0bkّذ¹صƒ5د–1jD%.د\\x01\\u200e\\x0b\\u200c´/جhجدGFëZڑ\\x17ئپّكé©IZ\\x17ô¯ŒE\\x19ذ؟0\\x0eëبئحفڈ#£uk;}\\x1bsًwظإ\\x1c\\x03\\x06@Xآھ\\x0fˆ_ك\\x17\\x11؟pit}¯\"َ\\nm\\t^8ٌ}µ°ِcفYzè;gxف\\tˆ_hڈشî m¤ٹ,:د&-2هf\\x0bب\\x12؟Jـژ~K‹ا\\x119¯‰ّ…Rف~\\x122j·¶س؟oP\\u200dA®A,ڈ×¨ذY\\x1a`¾0\\t¤پwïOI`¾Z;\\xadَX×Sgim´ت_ہ|¥¢·\\x03â\\x17~ں”ٌ m$Aüjي´q\\xa0bù4xت\\x12؟0\\x0e3Œ€\\x11پں‰¬a\"~!‚ك/¦Œ5ج0¯ث@\"¼ںخت—ùPه£HE\\x07ؤ/Œت¾*\\x7f\\x07i#\\tâWkGM‚·_,ه\\x0b\\x1d~\\x01n¼vب\\x05ب/ü&©eW”¥‰,N#R³×©‹\\txµ\\\\\\x7f·m\\x04€ھâU\\x13Yہ„ü\\x02ہء¯ڑŒ.¶4/|شك¬ھ\\x06¾ˆرإ\\x17 \\x07مW\\x06^@‘\\x05Lô¯ï —$AےB؟Œ\\u200dإ8>ƒD\\x18\\x16z#\\x13&±‚\\x02ْ\\x17بّض5\\u200e\\x1d$گ$è_\\xad\\u200c~4‚7âجw‹üآ—ے%ط؛h»èتر\\xad”گ_؛´ڑطہ\\tنW\\u200eپfث—/?\\x0e°\\x16%f‘_\\x18‡*\\x08C«&ہ|ل7ة\\x1dيj±4‘ùضµط®r–ڈ\\x03H[كچû\\x1a}×î?î|ôdLl¯¯+ہ‚خgآ؛,«\\x0b\\u200c‡™âWچ±“رc\\x10œ\\x136@\\x00ôBدHë\\x0erB\\x12@¯ضN_ٍ@|حl2ثِ؛\\nغ+sّ\\x07l/ü>\\x19ئƒœگ*²XAئ0.“0دغ´l/ج\\x07jmGîد\\x00è…خ“ض\\x1d$‚$€^\\xad\\u200c>\\t@œحîر–ي…خ\\x03#\\x1fv>r<\\x13ذK³’ع¹“±†-\\xa0\\x0b_\\x1eeں§+ب¨é{\\'¤VP¤پ‰يُueYً}3\\x1aط²½0ژ\\x13ù8ƒkM;ƒH\\x03#ص<c\\nك€\\xad،\\x1e kxگ\\x14’ہ|a°¤پq6N\\x13ZX\\u200fc‚\\u200e£u\\x05÷êXں=\\x7fèظjHIل\\x1b‘ˆLw´\\x08ُMپ¨ژة¦pٍ(b\\x14إ\\x08¾oب×`\\x12\\u200d?¨خûL\\x10\\x11YtقXئE\\x19\\x7ff©ڈزh؟‹\\u200fB·è;\\x02پ=\\x7fذ\\u200cwwQ\\x11Yt\\u200d´+\\u200d[œB“–zڈQة28ƒق\\x11ٍëùƒî±{?\\x12‘EڈI»آ¦کEرI£\\xadَ(&\\x12¯•¢i‡k…T°OôxW\\x14ط¢َئءŒµ‚ڑ\\x10|\\x7fگ–zڈ?™\\x04\\t\\x0c+ê<éف¯َ><ےw\\x11ھ%Bفû\\xa0ل\\nُ¨$،r´ژُ›½¹½#¸×َ‡ے1vvI’«:\\x10قرD—ي²]¯\\'î\\u200f×tس62(E‚وm¢ص4ک\\x1f\\t!}j–M\\x0cب7‘ة—w\\x0eéثىlBعم\\x03¼5عىRةKّ(¢×َƒ¶َ\\u200c]ڑذ»ضN\\u200eٍ¨پ5<\\x1fYï.-_Aï]،w?\\x04÷Zc@¾‰L&پ¼تہ›ژRl¬روعق.&ُ\\x12\\x06çگع\\t¤w—گ*ôüît\\'گ‡ù\\x04îf8\\x1f$ے\\x03گi\\u200f–ْQœ¯ç\\x07ي؛\\n\\u200f+\\x13\\x19د\\x07s»ًêز-g`››هO` •\"Pp¯\\x0fء½P¨ \\x18\\nEdزyٍH\\x1fكخYت\\x040TحHX\\xa0p\\x0f‰\\x15DD¯•\\tےے\\xadدïخVPi§:كً؛×[\\x11ï—§ .”éگZLa¼>„ٌZc\\x00¸‰L¾<=\\x04ںGك-ٍv\\u200dU6\\x00oَ\\x0bٌG!½\\u200d\\x1f4ث?\\x06€›بd\\x1cN\\x1bںےگہ7؛‹Y£صL\\x056U.\\x7f¥چ\\x0b¤ë}aچQكں\\x0cاث„ھN€a\\x19L‰زRي1âa3_^<\\x0f\\x7f\\x08ق\\x05\\x1f`ـ»‰H,k§.ےµ=@ƒم<ب#q؟{ر!«âئfُى9‚wلح0ژ#£ک™ث…\\x03tنRù°üyJlٌGء»\\u200d\\x1f4ث?F}›بdù“6¾\\nچإ\\x15ؤ*{?\\x13€“ڈ‚w=?h;\\x1f¯\\x01…ï5é<«àد0\\x18إ\\u200fnف.›ھ\\t¾¢\\x04‡8\\u200e‰ط…ن«°lٹب¸َ\\x0cم:ئ°ë§CMى\\x16êى%¢#>ٹمُü\\xa0\\u200c„h?\\x14ش×d\\x1c¤‚،ZGïxِwë¶G¶îü1às\\x13·zغکگ^ً\\x19ؤùH<\\n?\\x7f\\xa0¥كüّ‚÷?¬\\nRءçç\\x14€wب\\nGôَƒْهٌ\\x14\\x12{œpD[;ï—DخO<5\\x19ق…\\x18ژ\\x04ôê£à]د\\x0fعخاس؟p¶&ث†ô.œèأS“ل]ا¦حNEىB\\x15\\x0e—س\\x00²küٍ‰7_kç\\u200eٍّ¢ح\\x12ژ\\x07(\\x13¾ژ¥y7$}uS´؛\\x0bف{ں—Pش\\x00K.£w\\x19سُ=[ئA´\\x1fX\\x1e‰>زK¨ط\\\\¨\\tD_>ْ\\x1f2l.k§ùٍ\\\\Cًع¥\\x1c€µ´¥éن•Q\\x01¹>\\x04نZbِ‚‰Lض<éQ\\x14صè>\\n™ح\\\\\\u200fn\\x1dl\\nô†gm¥؛üصw‰‰\\x0cدïخ..\\x0cطآغugظگrF\\xa0}â\\x05\\x0c>_رy¢pء†\\n{7Cلz\\u200f@sخ#\\x0fyègf\\n\\x17¢T2\\x07¨¢p}ˆآµœٌ\\x0cتP¸¬\\u200cwq\\xa0[£8\\xa0 \\x0fَ!\\x11\\x11‡BRj>ü[ًز(آٍ\\u200dôüîl11`\\x0b±,چ\"\\x08ùzضh\\x1d·+ù$ïb\\nخُ!8\\x17°هq]e´1أ¹ض6,«s-\\x0b0/ç”گ\\'ىحآê©‡\\x02ة²;%ٍ±م8\\x1e\\u200c;>¤\\x18¶\\x05ج(y,qآ²\\x10êثg\\\\*ٹبُ!\"×\\x12\\x13\\x1cLdزyٹ—Fإ§¨چث\\x1fkژصِ\\x18–êAa¸>„لB\\n²ّه3ٹ9`µ>¸Œé\\x17Iû»u\\x1cm„3Y\\x157êھ»lH1اڑ\\nں‚ةڑ|yخGBهٍaçYG§\\ngàqS\\x1dG>Hzلê;pت\\x15R×d\\x1c¤£÷c|›/چ¾“€چگ\\x08ِئ·Qم \\x1d\\x1d\\x135\\u200dك\\u200c\\x1e«\\x1c\\x00}rئـµچƒ\\x0f»ں‘H‹Ia¸>„ل‚‡;ى„\\x0c†ثع©+{r9`\\x0c×èr\\xa00\\\\¨1âMشXpآDئ+ˆ±Zû\\x01اأ`\\x1b³üٌëï\\x1c\\u200d\\x04¥ک\\tأµؤ‚\\x138Wî،NئAw]àو‡ض*c¸\\x10´\\u200dر\\t\\nأ…2\\x1d4\\x1fرA‘ءpY;u1\\x1dg7pأ¬nئp\\u200c\\x7fm\\x11z©ک\\x15‘ëCD.@tâ¦ب(f&l،\\x1eثذرآٍ\\x07^ى\\x13~_Eنْ\\x10‘\\x0b\\x11{q\\x1c™ث3\\x13¹€µ\\n\\x1eG–9لحL<–)\\n×§ذ°^م(\\x16œ0‘ة\\u200d\\xa0”&lيh،2zë\\\\[\\x14ڑ´/\\x14z\\x0b´c؟\\x11b•\\t\\x13™t\\u200dT.î\\x0bأ\\x17K¦p\\x1dك>\\x07›\\x0f&¥¢\\tبµؤô\\nؤضf\\x0e&Vرپ,\\nصئ\\x14.PYô—Wتکذ[Kجظ@MرLڈY\\x19ے\\ncح¬رjT8W¯<‚\\x14z\\x0b|\\x7fZAٌح;ƒق²vêQٹزX£7oFo!n±9‚ن|(\\n\\x17B–\\u200e8bي\\t\\x13\\x19ï„زNمƒ\\x1eئ0Z£ُلہù*ه\\u200cSQ¸>DلZb\\x19\\n\\x13™Œƒفر8لG¦\\x06S»~p}$|ïٹآُ!\\n×\\x12S9Ld2\\x0e~LF€@ذ\\tŒقْءر÷\\nر\\x19¤x[\\x1fâmµ~XَZ\\x14‘Iڈة}چ´و،÷¥4ZVذ•D³t‰\\x07<\\x0eُ‚Lè\\xad%وo \\n)q21Jë\\x07çثpGsـµ¦ع|n2VïخIè\\xad%\\x16œx~wvاٌè\\xad+-`\\x1f/\\x7fٹے‚\\x06تـص\\x14zëCè\\xad¥‰ˆ|\\x17Sو\\x05¹´S\\x17\\x07^•†غکC»¶F1ٌ\\nRعکx[ً\\x06\\x06s.أغْ0?\\x0b5شC‘C\\x12آL!M(aد)بض‡ [¸¢اخg\\x143C³py\\x1fڑD^\\u200fژl”عX‘µ\\x10هàµXجه0‘ٌ\\x19ؤ¤,èض\\x11َد\\x1a\\xadثجظ¥2ˆK‘µàô§qDدi†¬eي¤µqi´رئ©x.\\x05ظْ\\x10d\\x0bصëأb*\"“ù m\\x0cWذذ\\x7fW\\x1a\\xadمّ´‘ûR·)بض‡ [\\x0b×گƒ\\x0b,\\x03ظ2،ع¯5^ذ<Xëت؟Q\\x19رں\\x1b{صS\\x03ؤصjث\\u200fعٌ™لj=\\x7f\\xa0چŒh=p\\x1dد;s¸~؟6âQïg¥‹‰«…$÷¸~2؛ک9Y*آأ\\x1c\\x15,/َˆ‘,*¼چDصZb\\x05‰çwgڑک)Y\\'b,Gf„—؟\"±û•LH™ف\\x10«îR¢+r¬ ٌةPµL¨.\\u200eقٍ!ي‹؛W\\tـ<آ\\x04ص\\x1cگçڑwغµm3×b†dءثصظ·”إ„ٍى\\tع%خWصyrW¯\\x1d\\x1dگQؤ\\x0cة‚\\x1a\\x1e:\\x1bY\\u200f<aû½ے¤.S„-ش“ٌ؛¬“ـ‘!lY;حs@؟â«يa&l\\u200ep\\n&ndٹ°ُ!آ\\x16b\\u200fأY”!lY;u\\x1c\\xad\\u200cےv\\u200dB؟\\\\-L‰صْ(¬ضَƒ&¶(\\x16گ0‘±\"fb\\x16تسؤہ(\\x16B\\x1e¬Œ¦VX-„\\x0eّeأء“ط»Edزم\\x10Mح\\x1eJ¸´ک¥ُ\\x03ٌ@]€\\x15KëC,\\xad…«/_=خx£\\x19“\\x05jî0~ثثكi£™(dEطْ\\x10akéن\\x04e\\x08[ضN5ٹلj\\x0b®\\x07Oط؛\\x19\\x00™#ے\\x06Zُش\\x15\\x11¶–XL\\x01Qz‰غ;\\x13³گ\\x11\\x10ڈ|/„خ#c·\\x1e1زy¥°Zں‚أz}é\\u200c\\x04ڑ\\x0cVثعi®#ي»Lt«{\\x0c×چہHگ8A8\\x14ھ‹°Z،ـزµ\\x132z×cµ°²A·\\x18ظ>,ڈ3-‘H\\x0cô–\\x1a\\x07©àN.M،aMخ ç¤ئ8ژsTٌهéP\\x03\\xa0X@؛L¨`…طآ\\x03ڈ?Kc}\\x08\\x13\\x19ڈأ#¶®ùhoإqs³<txu`گ\\x01ھ\\x10[\\x08<§خا—ï\\x0cbثع©\\x06èq\\x0e£س<bëعـ\\u200ep\\x05\\x1e‡z<&ؤضزd\\x18ظ\\u200c¬ˆL&!ن*q¸*\\x14ڑçj،َ\\x08iخ¬ \\x15XMˆ-P½‚ٌ“Al}<2\\x0b9AGك[ev\\x10ثےZJھ¶ƒ\\x14b\\x0b¬\\x10ZL1X6ƒط²vھc\\x05\\x18¹\\xa0غ\\x02W\\x0bE×\\x13\\x16¨âjء‡A\\u200cڈ~إ\"2YA\\x14ت…¢بأ€¢ہصjâ7xُ«ë0aµPے6.\\xa0Œ^\\x0eب,Dtؤ\\x0fOقhؤYة{‹‚i}\\x08¦µt’±ٹبنkسغًï\\x18g\\x17\\x07ک–«c#چٹ\\x1bcص³ˆˆ«\\x05¸Füٍ\\x19eى9Yç؟ك·\\x7f9\\x7f·.ك‡\\x1d™JڈC)câjA\\'ئqdîأپ«u‚Yذ¹ك¾م هچ\\x0f(o3ٹ«\\x05ؤ؟ك؛±T‚‰Œ\\x17\\x13#³\\x10Œ\\x17—?\\x0bm\\x00°¨غŒ‚iپâC=ژ×ف\\x0cLثعymر\\x05E½أ†e‚ضٹ‚~‰G\\x0cEسْ\\x10M\\x0bFcX+Edٍ¹‰ك± \\x0bz´Vک¾…‡بجcجح½êي]\\x02kA}ؤqd\"¨\\x03X\\x0b‘´½‹ٹ\\xady–ا‹gئگVŒ-T@r‹\\t@™8ژجص80³ضaE û»ïâأM؛Nں6\\x1f\\x14cëCŒ-ü?ژ#مڈff\\x16‚0#¨„…ض³-ى%\\x1f1\\x14c\\x0b\\x1f\\u200c&!عp\\x19ئ–µسىèa¹– ؟®\\u200e7X2%n\\x1aVwSxڈôç\\x17m¸Bزڑln~ëيـً\\x19ةµ\\x00سں0لn\\x02V·ïق#چƒ*.\\xa0Œ2fؤ\\x16€*أˆE–Gع–¼‰)®\\x16N\\x1f؟€b،\\x10\\x13™|x¾\\x0eں\\u200e|غ÷4ٹ\\x1a8\\x11\\u200fٹƒ·\\x7f\\xad\\x7f~P\\u200c،ںX(ؤD†م0،êfù\\x0eَ\\u200c‚<ni\\tي°(ؤضَƒv\\x1cء²3‘ة8\\x08±…€حرk·5Z\\x0f€#7\\x0eq3†E@ë*h\\x07\\x13™Œƒ´5ژْ\\x10ëd-½\\u200cGf§2ژ\\x16Eغz~ذ~ù\\xa0\\x07LdزcfYâhdمبZھں\\x1bلةَ3h¹‰Y\\u200c3èùAغùp\\x06™ب¤َڈئ®_ٍى\\x17ذ,غط\\x1a\\xadت\\x188”ج8ؤمًr\\x13¹عq\\x04\\x0bصD&مàہ+¼+\\nŒ<k´µh\\x13´\\x0cـWشqDz9&9=؟;y)6،z\\x1c!d+.&¾\\x1aم=yî\\x18آ\\u200cGu\\u200d”qLrz~wعy~ْ\\u200e\\u200dچ¥\\x1dقک¬رfٌي‰×V\\\\âص8H1ا$§çw§م\\xa0\\x08j\\x04ھŒ\\\\½ضh\\u200c´ںs\\x12‰k\\x1bـ\\'j\\x1c¤£cy”çw§م\\xa0¸ê\\x1f2َ‡›‚uْعطّق²أu[t¾\\x00°ى\\u200e\\x03دel\\x1d=؟;ë<ƒ´ً‚6ھclچ6;§\\t4لخ\\x0bْôBà-¼)ئخ?ٹv|\\x1c1Së·µïضلٌئ\\u200fnي<j¨¨e£ہ[ˆ\\x19ô*8f6™ب¤َىœFژخhظxP×ُ¢گ)„‚2سj\\x05ùWc<¶اIH\\\\کں?ذ\\x04>!ژiن$\"ùë\\nِغکPتظ\\x057؛\\x1a\\x07]کcQ”çw§;ءéh8يگ¬1œ\\x0fضé¾\\x16„\\\\WJG\\x13ژ\\x0bQ@q>\\x12\\x17f<–ـë³ْغا\\x14ط ےk\"AyC+½L4.„kإ¾\\'\\\\ضKiçيû~´¯ؤQE³üٌk@\\x06ـy¥—\\tء\\x05¼Eى|\"€z\\t\\x08®؟afSگ?qسL\\x18yٹئ\\x05‚‘?کbf“‰L\\x0e&خlعم«™µôخش‘*/µ(\\x1a×َƒئBچ…PLdزyRئ(®6*êhچض\\x15\\x07‡KآبS`.ـîh\\x12‚;صDئم`0×wü\\u200doچ6;\\x07ژلژ«\\u200d6…\\x02s!\\x0eءڈ#&9™بd\\x1c\\x14\\u200c…\\x15><Uثك\\xadم@ tf\\x1cêآL`.ن\\x00„ح]D&م m\\nêك¨bëآŒ.ن_778©ه\\x14®\\x0bء94\\x1fQ;\\x14‘ة8(ئkkح=ِ™ےoµ؟ûخا÷—²:\\x14¹\\x0b•\\x1bh\\x1cرnحگ»¬\\u200c·_\\x1b\\x106ƒl• ڈ\\u200e¤آض\\x16Eîz~ذ\\x1cRكh·\\x16بضd\\x12\\x18\\x10‚‹ه°َ$؟\\x03\\x00ڑذ\\x14\\nâ\\x05ƒ€&!؛52\\x10/k§Nآڈ‹à\\\\+ˆ²•\\x01`RQْˆں\\x13F\\x1e‘»ع²1%\"نùف™‘اP®\\n‡رًثس‹t“[ب\\'©؛.\\x13·\\x0bé«ٌ\\x04Jّ±\\x11#éي؛mk\\x1fڑâe‡هٌ\\x1c—ٌ!)n×Rx[ïچ3\\x16M1‘ةâ\\'\\nچ*:فr¾و\\x0bcخ×\\x17üCe\\\\+n\\x17\"züٹڈESLdـyوp،pRَJ\\x16}/,؟!ù8،خ\\x14·\\x0b‘ش4ژh«f¸]ضNف¹¨ي5ع\\x07¥رھ\\x06@¨تŒC©هآغھ‹)ھپ\"2™ڈ\\xa0–¯\\x1dmے¢K›9_»®«»(X×َƒF\\nؤ\\x14\\'\\x13™t\\u200dtٌwë\\'BغN`X×ژ¨’„\\x1aP°.\\\\7h1إ“©ˆLئA7ç/’،†“@ٍûٹذŒ÷ں´چ\\x14·k!nW\\x08sْo5‘ة8Hحâ\\x15y¼کH\\u200f\\x0b—LfS¨[4!¼€ٹ\\nڑ¢ˆLئA\\x1awإ÷\\x1dخ\\x07ةoك6ٹ^د‡Rض\\x05صُnîک\\x07µdh^&ô\\x1e:\\x0b\\nق\\x0e\\x0f)Rض+X´RS(u]PZµَر•‘Ax!‰ح«k,ء\\x11W?ب¯ك†\\u200cG¶†âvلةفïè¦F»™IEd²‚XGاگMû[U…\\x1cح\\x1b\\nuX±؛€\\x1f\\xa0\\x0eG\\'d†صeيT\\u200eنP=Q\\x0f0«k\\x07\\x174q”*l\\x17²-i\\x1cٌ(-\"م\\x0fد\\x18®ي×\\x16+ژ\\x0e°€ùآل—8‚nJVïء“°]mqR[@\\x19l\\x17ٍاüê؟N”ع¯h\\'±<6z\\x02µ„نbq_ l\\x17^®أQڑءv=\\x7f\\xa0ه´\\u200dCضLگاM-ء\\x15‡ڈCچƒTt¬wَüîىقأ\\x18.ّـG88k´q‹ُïI¼د•s›°]\\x00xاùب8·\\x19ةµ\\x01bي[آچ“…\\xa0\\x06R‹Iéeâv!? v>مفf$×\\x06/êH/³<\"كT^ّ¢¸]د\\x0f\\x1ac5&J™بنdbهع¢c8F÷ڑ\\x04’\\x07\\x1e«{حم\\x15¤ô2q»@3Œ“گ¹F3’\\x0bبàQ¢شآٍH\\x11دـ|n\"W÷„%\\x15حè6\\x18«\\x19ڑ—\\t½;tإ»غp1±c\\\\r‹ًz-N#\"x،ˆHکƒ\\x0cءëù\\x03ي©\\x1aظ\\x0eA\\x06\\'Vئ}،¨]ہâx\\nح\\x11ŒّîEd¼\\x0fکع…\\x00°لIتٍ\\x00ف7\\x1e\\x03•k\\x01\\x1a‘ڑ\\x03z~ژ¹Qدïخ4\\x02S¸¾¨C72®Y~\\x1f\\x04ƒ)T\\x17ت\\x07ز$Ds¯ˆL&پ½ط€ب\\x0c;د7ي\\u200e¯\\x0bت¢أH\\x01¼\\x10ƒLمˆو^\\x06àeيT³µچهïDنy€×ù\\x0fG—Œب»،Z½\\x13ˆ¨]€µإ]œرإLيآ\\t?آ\\x16پ\\x0eF6لرىA\\u200fٍJ\\x17\\x13µ\\x0b…ùbç3؛طS»خ\\x7fëپ\\x0bM\\u200e\\x17l\\n–G\\u200d~\"ج\\x1f,:µچ)\\x18¬™G3´\\x0bگk²\\x13Xح\\x1eC\\\\÷س،وè\\u200e¢ہLââsَµ؛‹‰\\x1e\\u200cc!\"p\\x05ïyںŒƒ®ثë‰4ءر|گ<کƒ\\x19C[±¼\\x10Uيwt\\x13\\x18ôخG\"eتع©jùük.–رKدى¯o\\n…‚؛¾b]\\x11ض\\x0b™¸a\\x7f\\x14‘ٌ|0ضk\\x05ءyd^°<\\x0eƒŒoRa½\\x16آz…’rP×\\x19¬—\\tU\\x1fز>ِ…1ض\\x0b×iùZ¥X^\\x00}¸إ„Ràq\\x12\\x1e‘ة$ذ-\\x1aهF†6\\x1e³¼6اü–w\\x07إٍ\\x02i–ئ\\x11ي½\\x0cثثع©›bڈ‰mAh;غ|gi()°\\x17°ٹشùè\\x02ب€½¬\\u200cêçع8آ\\x0c·\\x1d¦y}÷”z¸لY½c•h^¸sؤ\\x15”ررLçBًٍْ½“هQة4skSh¯…ذ^\\x7f±\\\\”‰Lv\\x02¹¨‘P;\"\\x12X£ص\\x7f!ê\\xa0گظ،ذ^Kلv™Wّ/\\x16-2‘ة8ّ=\\x19\\t$#؟Xù»u\\x1cx-U.mإِ\\x02\\x19ŒvB´V3l/k§vf9£\\'ڈ\\x01`—\\x1a—=V،ظ\\x05¬ُ~îک>\\x05ً{آھ`@×ژh°‘U\\x11\\x00`gےإپ–چ\\x02zپ²ï؟|\\'}*\\x03ô²vê—wغ8Z\\x15\\x0cô\\x02\\x178syV@¯…€^¨t\\x1fژ£\\x0cذثع©م\\x00\\x16e´üK£¯< 5™t6إِ‚\\nCَ\\x11فگEd¼چ\\x19غµ\\x7f‡U\\x10ىïضq\\x1c©çsEüB‘N\\x1aGôHfˆ_ضN½\\x7f\"0`´?\\x18\\u200fµم©°7\\x7f¼?”{›8`\\x7f|\\u200dہتثpہL¨ژcoارظ\\x1fڈmذ¸·%¨\\x00yىآش&ّ×ك\\x19\\u200c\\x19\\x19ّ×َ\\x07عڑں ذ„û§‡\\x7f\\u200cےPv#‘ِڈي¢:ïCہ`Wئ\\x1d\\u200c¹G3ükoي…ژ\\x07ƒهل·ةّو\\x15\\x07l!\\x0eط_¬Td\"“\\x1dMٹy\\x07\\\\\\x7ftكٌ\\x1c0ج\\x07\\n›$îرٹ\\x03\\x068…كر±h‘‰Lئءءغç\\x10أ`چ¾;\\x01¹\\x1b\\x19دکâ€\\x01\"Fمˆ†k†\\x03fي¼\\u200eآ×\\x1daŒI\\u200fbb7°\\x1b:ژ\\x14ü\\x0b\\x0etê|T\\x0fEd<\\t\\x1eوu،›†\\x1cQû»u°؟~ع\\x03ڈCهW\\x11\\x07ى¯“_•ل€!‘ç\\u200f\\x1euq yg´)X\\u200f·5I,ـyهà&ّ×_¬T\\x04³3aûy®\\x17v(°fلXe!¬ڑ\\x04ء\\x15•\\x01إ±Jً/ہèآ±ڑپ\\x7f=\\x7f\\xa0ص\\tHث\\x1b~yrpأ\\x13«\\xa0\\x05¨ة¨:O7وN&U†ُّüپ¦َبء\\x1e&ة{ّ\\x17¶ث¾ة\\x08OEüB<¢ك»\\u200cô©\\x0cٌثع©¦\\x1a\\n”\\x0e؟<§[¹Œsyُ¹ل\\\\½›?ر؟\\u200f:©TEdr\\x06رچ\\x19\\x06C€\\tلي“68آû\\x13ِœ\\x02پ!\\x06ں&!z\\x1f3 0k§9\\u200eq\\x0c¼ے:غکS¢\\x0fI‚_\\x14\\u200eëùA})ےë¤ \\x15°×نث“\\nئa>ق»N\\u200fB^¦L‰\\x1bخص]A¤‚÷hع\\x15°×d\\x1côb\\x0c\\xa0(]3àٍّˆ0dMn²آ\\x15¼—âà!ن\\x17\\nH„S³ˆŒ{ىi^8ٍ[6±Eر²ذODaگ¾Rô/ش¯ِk\\u200d\\x0bصâ\\x0e“،\\x7f™PU¶ü´…¯يل_ّعë\\'\\x13qھà_¨!N}ڈضZ\\x06\\u200feيشC\\x13\\x0eقر=زأ؟pâ\\x03n©œDٹّµ\\x10ٌëڈsO®\\x0fںI`ِ\\x04¯ث”oC[âaأٍçدهPةq(µKؤ/”\\xa0چ«ےرج“صO—عc\\x1f\\x16چ]<!ىڑ„LiئE\\x11؟\\u200d\\x1f4çg,¨d\"“qگF\\x05\\x04rhuzّ\\x17ئq•ڈê<\\x1dٍ†VWc‚\\x7f،±8\\x1f™«qi§nè‰“ˆه\\x7fmہ”$°-\\n\\u200fُü\\xa0™ڈXلاD&َAWمكك1¼ٹ1\\x08\\x0c\\x14C\\x19¤\\xa0è_K،p½\\x1eàN¶Q\\x11™t\\u200d”1ز0‡t\\x02Oےآbj‚×y\\x01)ï5ء؟گ\\x15\\x10\\x17Pئ{]ع©§ê\\x07¦ءàMœهA\\x11M¼‰coُصٍَƒv\\x01\\x05CآD†s`B\\xad·\\xad\\x1b\\x02U4tگG–KBثپƒ©ئA\\x1a:وU<؟;\\t™2،êe\\x04ج«NGً2\\x06ù\\u200e\\'m£ُ\\x06{u¬¹ç\\x07ح$ؤڑ &2™\\x04zKئ»س¨¼›5Z\\x07›bز®ٹ\\x03ِü\\xa0\\x1dGذr&2\\x19\\x07فt\\x03\\x1cü\\x7fH|\\'™uح¼ئ®\\n\\x03ِü\\xa0ي{¸ضکب¤ï¤،پس\\x1bف\\x0c¬رw\\x0eًv«x5ëچّê. ؛\\x18اb,دïNW?©ه+\\\\pًvcچضخ£نCï\\x0eçOUT\\x03V»ک<ض±fبَ»سqذ\\u200c\\x17e…Fo‚ضè;\\x0e\\\\c\\x12‘-«آ€=?h\\x16S¬\\x19b\"“إDj\\x19|¬Qض\\u200c5Zç\\x03ڈ\\x03آV]\\x15ûëùAغù\\x10Ta\"“خ“Z\\u200f;†@<kôي<pµ©I\\x10*\\x1a\\x1bة_|b^…‰LئAwن?`”\\x06*ع\\x1a\\xadم@n^bS(\\x0c\\x18l\\x19\\x1aGًX›بx\\x1c\\x1e\\x03vüû!\\x1dxàp±Fë8àoW‹é¦tُN&آ€\\u200e-ءNآُvîé5،·3xج\\n®® \\x04 qâ)\\x19ص}إqD\\x1808ّظب{~wv\\x1cy¬×‰\"tC°ˆ5Z؟<ـ\\xadَغخھ0`د\\x0fڑ\\x1d\\x1dَ*Ld²‚Hç\\u200f!th¸‚H\\x1e5گ”س\\x17uشص$<\\nُ½%ؤdٹçw§“ہٹ\\x19¯«üV`-UEً\\x05\\x1fpzد\\\\o\\x1eWwù“bژظ\\x14دïN;Oٹùïثں\\x01&\\x11Sء€\\x17S—2TْSں›T0؟Sے‡؟“¸\\x19›Pف°.ُ \\x1aزŒùْ àN\\u200d6\"â\\x1au”üQةإ½¯خ?\"“…Nz\\x17ِأèuأ\\x1a\\xadث\\x06oL™e#\\x12،P°†ئر9x\\x12\\x11×ضN\\u200c\\x04لv¶[Yù»چ\\n\\x1e\\x1cùJïقü¯و´‰\\x156\\x10¸‘9ٍYï~¹ومµوI\\x085®؛÷N²@\\x15غk%¶\\x17ًnلب/\"م\\x15ؤl/ôkhپ²<ـہ\\x19ص¥ط^+±½\\u200fbîپ‰LئAدأبظ\\x1a±C\\xadرjپ\\x1e2{\\x05ط q\\x06\\x11ذë/&\\x1c<؟;;5\\x19ذ\\x05\\x03¦ûôeثںهءêد8W\\x14ذ\\x0bH\\n؟چcآپ‰L&پُ®(bûژƒُ.\\u200fLآ\\x02U@/d+ز8âq”\\x01zY;چE9ج&\\nٍ •u-oقـ\"ڑ\\x0bظ\\x7fي8®#:nîDؤµµSاپ,ةرچ\\xa0üفھ\\x1eگ¢£t›\\x02zA\\x1dRçCآپ‰L\\x16\\x13فچ±4ئ\\u200c\\'ùukأ؟ش“\\x0e‚ْشوv:\\x1a“\\x10âLںك\\u200cnnضرغ:\\x1e\\x07ك¥؟-‘F=âمُSچأéhŒ££)2:ڑ\\x19^ہ¾چ’4ں\\x0e5‘\\x17\\x08ظN\\x1dRJ]{و\\x17ئ\\x11\\u200cvEd²®H\\x13/؟¶:z4µ™ùµ\\x01تڑ°™\\x14\\u200f\\x0b\\x1eAع\\x1fرپWDئم\\x08ّ/\\\\اF›;à؟0\\x7fjs+و\\x17ى\\x18ê|¼&gک_ضNsزôO~س\\x14جüآ\\u200c(cvـˆ\\xadق}ا3؟°ک¢¦ب0؟Vfx]طـpYc،ُ›)i½*و×َƒ×p]±\\nƒz(x®ة\\nb÷µC–wئء®lہ²\\x12êZ1؟Vدüآ8âة”a~Y;Uحm½I\\xa0k5ز\\x16ه¥Sر½à»÷ث؟)ذV23Mdٍهف5\\x19.®•clqe(\\x7f¬^ٹعّvù\\x06»قX®îڑ\\'إـ0\\u200cقخgnج…ûUْuü;N¦T_\\u200cwع\\x18#üثT\\nپ\\x07Rh1دٌآZ‰§\\x7f†مُüپW+\\x1dبZڈ@é t گ(³ذ•\\nِ\\x1c/t¾sنgT°çx\\x1dے¾ا1t³³üژثZf\\x1cJ\\x05{¤×ْ‹ه\\x06گع“¸1\\x17،w\\x05،خgt´°ذض$,‘!\\xadگ^H„ٌû5ض\\x150‘ٌ~ُˆ®م\\x1f’h†ڈe,\\x7f•NK|x…ô‚¶£qDu•AzY;ï‡\\x07\\x1a: ‹‚\\x10\\n؟eV؟âx\\xad\\u200dم…\\xa0و¨®2\\x1c/kçيüں3\\x01¢؛ٍ\\x1c¯م\\x1fہ[ٍ6£à]«‡w،ٌَ6“پwY;¥َ;*:´/–رê,چضء¢’Kf\\x05)ïtپn\\x15ï4ئ\\x11¢ëض\"2ظ\\tNچb\\x1c\\x1b;=pّ{آ×پ²\\x1amf©¼ٹف¬¬\\u200dوٍؤ.t>¾,\\x15‘IçIي\\u200fmشذصw’¹jh*3ù†bu;Lھvڈعھ\\x00µ&\\x1d&-ٹ\\'½،چï)]Xٍx¶ںاP#\\x1a[hف\\x02خھ«&*®\"2\\x19‡»سbصœC@شس،FKے\\u200eْ%ْX\\x0f(\\x05ىپ]X@ٌعRD&مpOإXط³ù ù\\x0f²\\x1c3َ،\\x14p،q½َ\\x11+\\x08à\\u200f‘PہE¨\\u200dF@خŒ\\x1eب¼üµ،لظ{ےة\\n\\xadà]«‡w!%#ْV2ً.k§ژ\\x039\\x03£;pi´\\u200dھ)\\x0eùھ@^د\\x0fڑ›XŒ·6‘ٌ؛ٍ`.|ك؟¾دا®أ,\\x0f¶F\"§zU ¯ç\\x07ي8¢v(ج\\xadة8\\\\`\\x17خ\\x1f„ث\\x0eçƒن‘M¥\\x17“بs\\x02ِـ\\x1bG1ِعD&\\u200cw×[\\x18yغ\\x10‰hچV+\\x16پ]™M،T´\\x07yaSؤC*\\x03ٍ‚wل\\u200f\\x1eu‘ïC|Qگے\\x1c},\\n\\x1d¶ٹéµz¦\\x17ئ\\x11چص\"2™\\x0fضضہ\\x16ڈB\\x1c=سëR~kو¶sس´zJـم½VDf\\x057K\\x11™Œƒ•ّo|yًx/¬Cdء&\\x1cژ\\nï…xC؟?bىµ‰Lئل”8\\x0e©ظ|گ<\\x18â™×\\x1d…÷\\x02„ڑئرQ\\x1a™[ti§*چsX8ش\\u200fncٹ§Œ\\x11…÷آ\"¦qDk¶ˆLوأ9²aTء•1Râ\\x1eï…ùغ\\xa0?ك\\x7f2àEل½°¹h\\x1cربحà½¬\\u200cو¼j\\u200eëٌ^çٌ^طçmچ?ي\\x17Sx¯صم½°د£‘›ء{Y;u]…›.®\\x17\\u200dé…خck«ë…bzپ\\x0fî؟|„ع›بx\\x05yF\\x17Vؤر¾#G—\\x0cث·uذI;(ژ×ê9^+j|†S5أٌ²vقUƒ2Dأذ—زhu}ب\\x18AEٌZ=إ\\x0b]ڈVR†âeيش®;c¯َظI،cںg\\x1e?\\x14ذkُ@/Œ#\\x1e@Ed²|ّھ<†nعك\\xadS\\x002Jآ`R@/¤،س6è\\x1c@\\x19‡vi§خاؤjey€+ô\\x1eVWkOٌآ$D+©ˆL&پµٍئ@¤ëشaU\\x0cٍoآ¤P\\x14/ش¾ً_~‰¦Q†âeي4÷±ٌغ¸\\x07z]G\\x7fں(آ‡‘؛O{¶×…\\xadژ‡Qو>يY]×A:Nhaùڈ¨ءNمPl/<أر|Dس(أِ²vڑûô\\'zب<ذ\\x0bƒ\\x05_P©0Eٌ‚اںz\\x1cص@†âeيش\\x1eم1\\x7ftمô\\x14¯k¦\\\\.‘\\x1c‡\\n\\x01َ\\x14/¬\\xa0x\\x06e(^ً؟ّKغg\\x1bâM‚<ˆئ™گ#EٌZ=إ\\x0bمˆFP†âeي¤u›§xل²“سm7‰«wiَ\\x14/Œ#^¢3\\x14¯µ\\x085م8F…يƒ<ز½3ئµ\\x02z\\xad\\x1eè…qDُگ\\x01zY;چ“\"ٍيƒ\\x10x¹\\x19÷\\u200d\\x02zل1غoîN\\x1c\\x7f\\x11\\x19ë6\\x0fè:\\u200fل\\tpD¨´؟û\\x0e\\x16i…™\\x1b§\\x02z\\x01نNمè\\x1cR™0m\\x0fèآ\"\\x07£µwَ2÷\\x1eثمU55\\x0eه\\u200fِ@¯ُ\\x179\\u200e¨ت•p\\x1b\\x17،zط\\x1e}\\x0fث;\\x0ev—#=$aً)\\xa0\\x17l\\x03ڑڈh¸f€^ضN\\x1d\\x07âmCشNi©ع&؟وµˆ\\x14³¢x،j\\x1bُ8ھ‡\\x0cإثع©=\\x1e—k!y¨9¼ة%îْ74«w¬zٹ\\x17VPT\\x0f\\x19ٹ×ê©\\\\;bG\\\\\\x06Bک\\x04–G)¦L†رچزêژƒnخ±ق\\x00\\x1e»\\x13;ء³؛à{ءصyن›ôٍ—ï,\\x15؟¦ط^ً¤ùu\\x15K\\x0fکبّ„-يش+ظك1¼E³<\\x02¶Sَ،|ق\\x05·ُ>hur02ک¯صc»pآ\"6wن\\x0bcù\\x15ھ%q2)â×ê‰_\\x00µGM‘!~Y;ï| }*\\x1aà¥¥ھوض”?@a¾\\x10œB‹)ْ52ک/kçي×¶\\x06FSگAيk\\x19…ھذ^¨ا@\\x1dژF^\\x06يeي¼\\x1dF8U\\xa0\\u200c\\x06،َ\\x07îُ<صN،½ضآيھK>Zv\\x19´—µَv¾·PHے‚\\'کq¸(ڑ\\x17ئي¾;>C¸.gh^ضNي:°E#{ˆء^\\x18E&\\x18F1¾°=i\\x1cٌعںa|Y;u·\"®a¤\\x05<î\\x0b‘“ں\\xad\\x19‡ôہ+ـ\\x17ش0چ#nـ\\x0cîثع©\\x1b÷»\\x0cَڈ<ْ\\x0bqˆ{ًَM¦‘â}لJC\\u200cڈئ\\\\†÷eيش\\x1bژ8تح(ُ¼/\\\\*ِوAŒ;¯قœ=ï\\x0b\\x0b:عu\\x19ق\\x17ىz\\x7fيW±voçI\\x1e9.2ûôfjُŒ \\x0fùBç£1WDئئƒ‡v\\x1dےگط\\x1bsفY\\x08JA>ٌ+œ\\x17قگi\\xadؤ\\x03؟ˆLzج\\x1ekؤ!\\x05›س3¼.—D\\x06ôژ\\xa0\"ô±û¹½z=#xےùفY\"‘grف6\\u200eذئay<گdآُ\\x15أ\\x0bل¾~\\x12\"xكD&“@ء`ط<Cْڈgx]ء1}R\\nï]u\\x1bِ8/èرh«ep^\\x08مn÷î\\u200fït¥ئ£!ءٍ\\x00&V¥§ك-o’Vw]‘6î$#\\x14\\n×d>è\\x1dù@üاب…êر^\\x187œ\\u200dsƒ\\x08×د\\u200f\\u200fx~Pƒڈخک—`\"أqکذ{GFµ«‘ث.بے>\\u200ehz؟®6…ِz~ذژ#\\x1cR&2\\x19‡Keئ\\x1dyû\\x1b\\x05›[£uـ°©çw™MQ¾\\u200d\\x1f´م\\x08\\x06ھ‰Lئل\\\\عX\\'±2«5T\\u200e\\x1a\\x1fY‡oS8¯ç\\x07M‡ڈ`–ڑب¤أN¹¢أ[t\\x0bYKµا`‹ˆW\\x03„F«%ے¼èع\\x1dà<‚\\x01ْüîD%کPيج\\x1f²2;w“b>گü\\x15؟؛\\'\\x18ث›ây=?h؟|xw2‘ة—wzùr§ôù\\\\ï884ىس\\x04ثٌ~\\x15z\\x19»تë³#\\x18\\xa0&2é¼‹ïBç]u€\\x10؟bچ¾\\x06ëç/·_إKٍvس½عI\\x08¶¨‰Lئء/ة¢\\x1cم;\\t$\\x0fè—z\\x06ك\\x14ؤëùAغù`‹ڑب¤َ\\x1ci\\u200e‡ٍ‡£\\u200c@ٍ¨&\\xa0\\x02B@÷Rغک4pL/z~w؛چ\\u200c\\x06¾آf7²I\\u200f‡<%\\x12B\\x04½ھ\\x06\\x08~™è±gtء·\\x11دِ\"2\\u200fـجèْœأکئ§CM@?h\\xa0‰\\x17&ش\\x0cTم\\xa0›o$ى?؟;ûٍ…éU\\u200eں\\'+\\x0f|y\\x16‚µ£؟¼x(ق<£\\x0b~°`uڑبنثسC1\\u200d\\x19C\\n—µT/ô{K\\x07•»Tپ¹ً\\x16يڈتک=d\"“خَُ\\x15±\\x03\\x037\\xad5Z\\x1d,ًë&LMإèعî\\x1f4§ML$2‘ة8\\x1e\\u200e]؟/¨م\\x03\\x07–5Zاپ‘eئ!\\x00![!h½ِCج/2‘ة8Hڈn(jئ÷ak©v\\x1e…è”إ£p]H×§\\x15ش9x\\x12±ZضNُِàچwّه)ّzk´<\\x19\\n7q«sرع<\\xad\\x0b>ْh_fh]ضNي;ز/\\x07îآ \\x0f×I¢>\\x15²\\x16ش،é£¶خک=ôüîôذ$ف‰=\\x19n»ضRف\"0B2K^éZOëآ$DS3Cëع<ˆ\\x0bN«\\xad£kY\\x08،¥فش\\x03ZAٹض\\x05/¯_\\u200e1OبDئûصس·®خïٌث³\\x10d2÷A…èع<¢\\x0b_>ع—Edزyw¯…مُ;¬›j\\x7f·\\u200d;\\x02qح“\\xa04°§ua\\x1cرش,\"“qگ\\x06†[-¼sm\\x1eرu¥êoٍڑ¨¸\\\\›çr،ار£PD&=fµ\\x1büص°rJKïçئءھآْ6Eàz~ذ(طکûc\"“\\x1e³‚ف\"cآZھ\\x0b\\x04•ت\\x12ژڈ›rص;ç\\t»…H\\x03~قعٹب¤َ¬UQD*hUدع\\x02ˆ\\x02إض•VU¬\\xadچX[\\'\\x1feےaZ3Zµ\\x085s\\x1f\\x11†ضز+t,}g\\x03ïGuo½ة[حZi6Hل‘lEdٍ¹é\\x1e؛\\x7f\\x1a·_,ûhچضq\\x00ژ/؟¼ز¥…†ُZ`œI~}ùDH•\\tص5üمھ‘×ض$…{\\x00_.{¬\\x14(ٌ³àـٹ«;\\x11ë\\x0ct‘\\x7f²B\\x15مQ\\x15‹ \\x7fىmd¤üٍٹںµ\\x11?ëŒé:&2^6\\u200d‡…\\nˆن—°KYèذA`p\\x16\\n»‹\\xa0Ym5H[è\\x19hضَ\\x07ڑKôپâ\\'±ا¤eد¥)WB[Sل±6آc\\u200c±J…‰L¾1©J<,t¾1\\t\\u200e€kV«[1±`\\x1a{\\x0b+¦\\x15™ب¤ا¤*±¶‡\\x1eصٍwث\\u200f\\x052\\x1bبؤ„\\x0eRL¬چکXgج12‘ة8Hپb›\\x0c\\x1f\\x11تك}د!\\x04d$(wب Tk\\u200d^l×hl\\x15¾صd\\x1c¤Kٌ2\\x15ف\\x1dپ”%*ظٍَW\\u200dل\\x02¯z\\x0f÷ک›³\\x15‘Içéٍ‰ڈعظ°N\\x08+\\x08\\x05ز3+H©U\"e!\"%œَ\\x19R\\x16(•\\u200fœ?\\x01©\\x1fف´½<ئپJ9r\\x1b+µJ¤¬ً<\\x0fµZD&_\\u200d4وy\\x0c\\x13‹¬ر؛üQ·+3\\tJظ\\x12)ëŒ5\\x1d¶\\x0c)ث„ھ\\xad‚\\'œ‘أŒ،Y¸نt\\x0b£ذNP\\x00-\\x04\\nûcu‰o$Ed<\\x1f\\x0cؤ:6ِ•أجa،soآŒ¹اJظ\\x12*ëŒ\\t9[\\x06•eBچµث\\\\‰«ا¬l±ت\\x12ثF،²ہ_¤د\\x1dOح\\x0c*ثع©\\u200cےغ».\\x00{تaT\\x16Œ†&4A\\x05¦mٹڑُü\\xa01يc\\x16ژ‰L–\\nicنv\\nںô™ڑ…ظOdتn7¯ھw#$jض\\x19k:<؟;َک1\\x10ëط‡\\x1c\\'kô\\u200c?ؤD4!\\x19زûھ\\x00Z\\x1b\\x01´خXقءD&َAع\\x189QC\\u200cہ0-ؤ>%\\x027ل‘\\x13VEل[½ٹ¹\\t\\x160K:أصz\\u200f@cIںب\\u200c\\x1b\\x1d«جص\\x02¯3مجT\\\\\\xadچ¸ZgLب1‘ة|°ژF\\x15¯ر«gù»Uح!\\x03·§سù°Uêڑ¸Z\\'g‹B]g¸Z&T×;\\x02عG¶Fi´±V3€9`aص؛¢‡ـXڈمùفé>§»1ضI7ؤë=w\\u200c<l¦¯¼×+–ضF,-ہ0‚½—aiY;u\\x0e@T\\x18\\xad%fi]Q`تقS\\x00\\xad\\xad€¬ق\\n\\x1dَqLd¼\\x11\\x18ˆ…X¼Q\\x1a°5Z\\x17\\x10*\\x17ةخ+‡rAbصخا(\\u200d\\x0c5\\x0bpY²´?C’wگ\\x07OH\\x7fy\\x11ء¼\\x115+”©آض-\"“/د*ْh\\x1f©BZ\\u200c5Z—ظ¯\\xad1%Uغ\\nµê©h¢fµA\\x11¦\\x122ش¬چ©Y\\'\\x12›F*پهQO3smSش,\\x04r{س/ضà0‘ة|°ٹئ¾\\x1cژƒن‘؛”@\\x14nٹڑُü\\xa01\\u200eّئ{\\xad«ŒKڑ)Xاl\\x1c|×\\u200f\\x03xى\\u200e\\'o¢ٹڑ…G\\x1dڑڈِّRD&َA*\\x1aufF¨Eû»u\\x7f س3ٌnھ¨Yxd£qtشCئQي©Yp—\\u200f¾أ\\x00+–??KئôSش,¼ہ؛q\\x1c±\\x1c‡‰Lوƒف×ًG\\x0f÷\\x07ةأ…)كi\\x14*\\x0bئ\\tu>\\x06ےdPYضخ»8ِ3\\x12lƒگ¯¥%5…âcmؤاBsءہبً±¬\\u200cعù6é«م\\x18cT\\x16Vگ\\u200fٍJG\\x13*\\x0b\\u200fûطùDآ/قذéص£ûهظف\\nذlbï*VضF¬¬#f\\x19™بxح3ûjا#سhح³<¾¼ôب+Z\\x16زھhحاƒ\\'Cث²vêپ\\x08اô°َنù\\u200f}ع\\x14si`(Z\\x16\\x1e\\u200d\\u200e8bµ\\n\\x13™L\\x02+f.#\\x0f\\x7fRù[u¬-\\'B؟R*BضF„,dغاصںQئL¼\\x02 tّواٍة\\x14‘\\x1bSص3ٍ\\x08–uؤش£-\\x03ث2،ê\\x17;گأظ1\\x12ى~ئـ,ـ®3ٌ‡ٹ›µ\\x117\\x0b•3â|d”1s°\\x0eWS<†œ³ü\\t\"¬؛îـlھî$گ\\x06ژ%8pk؟÷تd#\\x04\\n<ِi3,\\x0bؤ&صw\\x05ب\\x02ذ†6qt¬f\\x00YضNمXmث8ئا\\x1dfeءƒ(oّٹ•\\x05W9u>ڑ¢\\x19V–µس¸´اق\"fe\\u200c°ـ\\x13&ُچ²ê- beل\\x10\\t«?أتBگھ×إ\\x07\\n½چ<\\x15,\\x7f¶\\x05؟ô©ھXY\\x1b±²\\x0e®فƒ+N†•eB\\xad©\\x1fك6\\x19گ\\x05ْ@وپY\\x01²\\x10ےê\\x17S“½d÷ه\\x0c ثعi:?~(g\\xa0\\x16ّXٍ\\x08RT¬چ¨Xà5ؤ\\x15ô¨ظٌ\\x11Tعiôlكںkz€ه\\x7f\\x08‚ىEî’كT\\x01²ہة¤Iˆ±8\\x19@–µSفXط\\x1b£ˆb\\x0fش‚؟qï;kx\\x1cê\\xad™\\x00YG,\\x08´\\x15‘ة|ذ%\\x19wث\\x18\\'â©X×Cy\\x0bâگ†ف\\n\\xadê\\x1eG\\u200ffŒ$ï¸ک2تطS±Pê\\n§رب¨ًٍ×$èx\\x17…آع\\x08…\\x15b—®3(£Œ™r…7×،×—ه\\x7f.WXîh\\x05بBو›ك\\t\\u200cD\\u200d\\x0c ثع©;؛\\x17ض]Zھغe×)T\\n…µ\\x11\\nëè$ٍdPXضNيٌ\\x17¯\\u200eï؟¸ü=\\n\\x0bثىّk.—rù+\\x14ضVگTو½>:9=\\x19\\x14–µس(‚\\x18\\nحّ+€ت3خ …؟ع\\x08\\x7fup\\x14<V\\x7f\\x11\\x19ں;Œ³ْ}عwضhG{yl]”²Mèپ›6ص;‚\\x08\\x7fuؤ؛4[\\x06\\x7feBچ\\x1e\\x18;µ<\\u200fêzwêاp’\\x1ePّ«چًW¨–\\x1cژز\\x0c\\u200fتع©م@شüب²َ$,Œم×\\x06.H§¯\"amDآ\\x02\\x0b-ژ#s_.ي”q\\xa0_\\x08\\x1c÷-ل²دBW¥©„·HQ±ہ}ِGi\\'½\\'Cإ²vjç÷q\\u200dFiô•ے ـ=3\\x0eُ¨L€,X÷q\\x122z¹´س,¦eّ8îه1iˆVبŒC=*\\x13-ëˆuipط$îث\\u200d~uü;÷!\\u200cة\\x1am7‘ـ\\t\\n‘…·/ZLرBح ²¬\\u200cھ\\x1d&ق;Fd!¯Rھ6إإB@:u>قِ3\\\\,k§¹&|‡o\\x05جإ‚q¤;¯<ضؤإ::I?\\x19.ضئœ+¬هQفq’اٍےè4د\\x1b[صShؤإ:b\\xad™-أإ2،ْهC±\\x05\\x1c\\xa0\\x1e\\u200duEœfہ@›âb=?¨O—ˆQ\\x0c\\x07O†‹eي´¶hجھe.\\x16\\x12\\x0c›SS/\\x1b\\x15pMˆ¬£“\\n”AdmL؟آ\\'\\x1d†x±<*ُe²\\n\\x15-k+شھ×,يd\\x05\\x15‘±iاô«\\x13•بF·2–ے\\u200c\\x7f™\\x14mEثعˆ–ulرiWD&مà\\x10¯؟X°ط\\u200fX=ٍپƒW>ز\\x1bCصف»t\\x1fق¢\\x11—لb،¬<¹çِ}ّâحٍˆ\\x11ج\\\\\\x0e\\x14\\x17\\x0b»بں\\u200fMX’y¸2\\\\,kç\\u200e¨û¾\\x0fچQدإ؛êb+?5\\x02\\x13ذإخ\\x1c<?hژ\\xa0کxc\"أUcBµï_né\\x7fW\\x16\\x16O\\x14\\x0c÷÷ںî¼\\x08½\\u200fقd¬¶َلü4‘Iç)ھ\\x1aڈ4#أح\\x1amnز}ِ‹؟ح|\\x15\\x00ëùA;ژàe4‘ة8B\\\\\\x17\\x07£_“ہظO:\\x12ي«\\x08Xد\\x0fع\\x1e\\x07kحD&=¦`.\\x1c\\u200f£z³ضhcj¶Xk¥ؤ¾ٹ‹ُü\\xa0\\x1dG0ـLd2\\x0ez\\x03\\x06م¯[چ،ّw\\xadرzهء°إù\\tـٹع»ôPجً°ے.Tثـق7،f9#‡²\\u200fم{dگ‡c(ٌBً½ٌWف3ˆœس1ûéùفI0¬\\tصqˆàïw\\x128\\x11\\nصuه$\\x08ڈô—`XپgrMآ£Q\\'+ˆ=زx \\x18D$[£u\\x05]^àخ¤ٌ\\x19$.ءك\\x1bکصى„&ô¥(1\\x13™Œƒ”1àdء=g-ص\\x1bü_¦ق\\x04\\x06¨v\\x02iàک\\u200eôüît\\x05q8ُقض§\\x0bî9k´Nآ™©\\x00ْU´¬ç\\x07ي$DEگ،eY;ُک\\x0cق]\\x12¹<Y™بü¯\\x02d=?h»\\x1e5BءZچ×ڈg_]N\\x11†~C‡±ذز&&سٹ؟9X½c‡\\x00Y(Hح·¯o\\x11™ôک\\x15*’ûآ™YZھ+إ•œ”g؟\\x02d}\\tگuؤٹ7&2é¼Sہ—ƒù\\x0c!شضRف®ك\\x06ةآںûز„فد\\u200e¨ب÷\\u200d\\x15S›Pم;،\\xadٹPيج\\'\"•\\xad¥W\\x08\\x05p\\x12ء¹ك\\x1bsصي<©عکدôüîى€)\\x1c\\xadعy\\x04x\\x0cق`¬ر:ژ\\x1d<،ù)¯¨X_¢b\\x1d1ںةD&ث†Tçç\\x03D„ژk²Fë8@–ڑ؟c|\\x15!ëùAsع|:§MFë\\x16ŒV\\u200c\\x0f(فل|8-}\\x02صفZJz\\x1b+\\xad{£³عqDû³ˆLوأiفَكا\\x01ُ;;ڑن\\x17œ~™ùP\\nک`YGجgBµ¸جووü¤}ي&\\x07ک\\tç¹Y\\x18÷ٌMن_\" ^\\x1cRؤحآ¢\\x0e:،ˆŒçأ#±.ي\\x1aچ –Yà©Vو§beaڑ½ï!و3™ب¤أî\\nŒ\\x0f)jgغ‡/\\x7f·nè/\\u200dےç\\x07سM©ê\\x1d°ؤتBڑgüً‰°é¯ا`aƒîكQxAگG5&y‹Tط,$âذ$„\\x07$\\x13™L\\x02)مهhmْhTx‚ضùïھ\\x06™™\\x04¥¢oتVs\\x1a5ء\\nv\\x07(\"“q¸غ0ُْ\\x01Mv\\xa0\\x1dJ£ïb\\x02x&Q6و«¸Zد\\x0fعqDيگلjY;o؟P×v<\\x0e\\x17q}\\x028×8aةNRˆ\\xad/!¶ژکدd\"“I \\x15\\n’eش\\x03\\u200dأu\\u200f\\x03½!c_ـک¬î6ِOآ8‹م6خèهآلj¾ü:ré~Y\\x1eظ³uء5_گ\\'Aée¢mيL\\x11آ\\xad>Cغ2،:\\x0e\\x06§â2مa[X5à±H=\\xa0\\x140ء¶گp\\x11?|F\\x01{ط\\x16¶îٍ\\x1dپ\\x1c°^Z—.:\\x0fNس<d\\x17¯ڑB\\x01\\x13lkorںى\\x08*\"مصï9Z\\x18\\x07J\\x7fڈ|Z,ڈّ®Œپھ\\x10\\\\_Bp!y-جG\\x06ءeيش\\x05„@¦ل8Hڈم\\x08JؤF|\\x15کëùA=J÷X؛اD&َل.ةX\\'ںa\\x08µ5ْژ\\x1b\\x1f\"sپS¸®/ل؛ِ\\x06\\x15ô®«GûNئA*\\x1aµںF¯|ِwكqى\\x08\"M\\x18ع\\n×ُ%\\\\×\\x1ek°کبd\\x1c¤¢‘ؤ7zk²Fë| \\x14:³د•ï؛\\x10´ج\\x1b€¼آ¸?2¾k&q!#d\\x14tًeùïظ,+\\x19ڑے½é[=…Gن.D.إq$\\x02¸\\u200d?ً\\x02B.سa|،.\\x7f·™ڈ\\x0c>ي{3³؛م إف<%¾û#£¸\\x19ت\\x05`غًBحًٍ,©‡d¼(*¥ل\\x1f’wvaA[g ^&T\\x0fغe\\x08ٌ\\nٍہ3¥\\x0e)¥ؤ\\tâµا*-ب\\x02Hـ¢=”\\x0b— \\x1c\\u200dء#ةBWMدؤc¬\"w}‰ـµ3V\\x14“گ!w™P½\\x0c|ع\\x10ثگٌ\\x14نaOe&ل&iُv\\x02ٌ¼@é\\x0c;:أَ‚éO–رز†[ا·\\x04–اT\\'ّ\\x0e_…ِz~ذhîکwc\"cMلQ]×%3\"ہ\\xad¥z\\x1ci\\x16\\x1f¢خإ6.0\\xadW\\'ؤd›çwgNV\\x0fهآYْ7ج÷³Fkç‘ہ«\\x0cpEî‚™ه|\\x00{,حb\"“دحwçِ\\x190آ…\\xadر؛]گ~œPجٹـُ%r\\x172×âٍد(fOâآ$ ¦bô\\u200dةٍ_ô$3\\x0eAîْ\\x12¹\\x0b\\x0fyq\\x1c\\x19إىI\\\\¸!»ؤ\\xadخ6¦k7n0ز،¤p]ً¥ùإ\\x14“TLd²کب]\\u200e=ٌقذ\\t¸1¯\\u200dاu\\u200cے\\x0e”qOX«7\\x1d«{–’bژهOP:.،ذ<~\\x0b“0ئظY£صêF–‘ـرJ\\x1bكً®و\\x00چ5OàZجt\\u200d®بèüذ%Y\\x1am:ك†Wب()إëB®*-¦ّئگلuY;ُکؤ[T°*<¤ëü·\\x0fü©\\nزُ%H×\\x1e³TLd¼ü=¤\\x0b\\u200cùF~µµô\\x0e\\x0bظµ™\\x1bَحذê\\xady‚tي15ه›پt™P]\\x06\\xad#¦£\\x08<ش\\x0b{·MV%؟×\\nعêvق{²غDA»\\x06d ]°â½ٌƒط‚®gع\\x0e\\x1e–؟îp‰س_A؛\\xa0<üڑڈُOLd²‚H\\x1bƒµ\\x1d-POو؛ض¼|اQ4®/ر¸ِکƒb\"“\\x0e“\\x0b\\x1a3\\x11JAXKui\\x1d\\x19ّ0*?\\x0bأ\\xad\\xa0³^أ-&\\u200d<؟;3ـ<‚ëزµmAصخa\\x13tmê\\u200f¥\\x10\\\\H‡¢U\\x13/َ\\x19\\x04—µSOJ¼\\x12ا“’t3قL¥،\\xa0`[بZ¦\\x1eGk\\xadˆL–\\n½\\x07ïب\\n\\x18½طxطض‰R«چƒ“\\x0f\\x1b¥`‰°…c7کhEdزyR°x<\\x1cw\\u200dند¥¹\\x1eSç\\x15a\\x0b`\\nےهcâ‰‰Œ;_ع©êg‰\\xa0jké\\x15\\x02\\x0bھq\\x02ثسF\\x11¶¾Dطعci\\x0e\\x13™t\\u200dî¸ژ±`g»اj\\u200eگûùة\\\\lo\\x00VOG\\x11akڈُ8¾EdزyrIے–6]/¾¶z\"\\x17ئپgتؤk«‚m}\\t¶\\x15¬)8Lٹبd\\x1c¤k\\x7f{ثٹˆ\\x07ڈ‡ma\\x1c¨/—\\x19ا¥\\n»َA؛6¦q|3ـ-\\x13z\\x17ù/D‘à±¬´T„ذù_\\x1b\\x00®w‚ٍC\\x13l\\x0b9;ل\\x0c*\"“I ½غ–güëط\\x0c\\x1e¼u-¦ِ]G*\\x02\\x05قْ\\x12xkڈهHLd2\\x0eR©à\\x07چ2\\x10\\xadر:iHئت,&\\x15NMà-”î‰َ‘ٌC{گ\\x16l²ك8\\x0e„هA––7-Eغْ\\x12mkgسëعر™ë®§gء”Gپ©ر£\\x1fث£ˆK\"‘\\x18‘RjG?\\nٍµçڑJإv\\x0bب€·\\u200d?ذ<j\\x1cˆخ\\x1aY\\x15\\x1e¼\\x05«\\x02lطؤbR\\x10.\\x18ë^Gاڑ0&2ق\\x14\\x1eھuحا8\\x1aپهدµ\\xad\\x10&=\\x11ٹا…§ ?ژXaإD&م uچ¼·ل£¸çq\\u200cے~(i”¸•)\\x1e\\x17جy\\x1aGôةex\\\\ضN5‡N¾كASx\\x08\\x17Nط؟\\u200f‹\\x1a\\x19|\\nآ…ڑ‹شù\\x18a‘پpY;µَ ثژ6·çq]مH™Oٹا…؛گ4ژّ¾‘لqY;u\\x1c{؟T²™پ\\u200dا…إش*\\x16\\u200eٍھذ\\\\_Bsي\\u200cœڈ\"2ظ\\x14¬¹Yu^kةة\\\\&lsژ\\nْ®.ج„م\\x02´5h¹\\x0cژëثx\\xad\\x1dU¾{\\u200fعw\\x0eX»أ\\x16د\\x1c°J[\\x13ژkïؤôgp\\\\ً©“»èè+°w\\x1c|wn«ه61g¼·ص\\x03r!d½\\n/–اّ\\x16‘ةZâk4p=لâد8.0\\x0b2ِ·\"sپلâ7t¬‰a\"“خَ5ْس÷¦¼“\\x10®ر\\u200eƒŒ&A‘¹àق¤qDïK†جeي4\\x0eف¦ھ“uق“¹`jœ¨cر\\tQهخ«Td‚tµ…¤جdت@؛¾\\x1e؛\\x05S\\x03;:¬ \\x16ْ،”k¦َ‚\\x00ٍ%2×ق‰قدگ¹¬\\u200cھ\\x12ضqـ¯§tA% ¢\"3\\x0eُ€L”®½!¹¼“گ\\tٍbêV\\x00s@%°\\x0cٹ›g\\u200d\\n\\x14™\\x0b؟يWے_4/2d.k§¹گچ\\x03\\x1f=™ë؛ˆâإ¢َDب\\x1bA]¨‰ج\\x05کGPm\\x192\\x17â²¼Jہ=?î\\x03Vث(ض—é»RثDمBH\\\\ى{وحکA[?Tش\\x1dف{¼üe^´µ3ه=Tپ¹¾\\x04وj،ƒï>ب\\\\¢\\x19´َُڈكq>œZئ8ZN\\x1e/ ¥‹‰ئµَS\\x17.رEd¬خ<]K/ىW#8ف\\u200eû÷ء\\x1bLf1©K4ر¸°©âbت<\\x1f{\\x1a×µ8Pa³\\u200f‹“àش2ئqب:كàع\\x0b\\x0f\\x00ر¸à \\x0c\\u200cدذ¸\\u200d?ًz\\x00ذ™\\x05\\x11مƒخ{\\x1a×ïك‚:\\x08‰IP`.P\\x06ف©ْيؤٌgہ\\\\ضخëvü0k\\x01\\x1aءأ¸ذw\\xa06Tذءحتê9S\\tئُيؤٌg`\\\\_\\x0fمآ‡؟ت\\x0bچ>¼s†ے\\u200f\\xad\\x7fيس›\\x1e‡Rإؤه\\x02k*.\\xa0Œ*ِب-Œمَ7جG`yّôe<©âr،³´j¢%ڑلrY;uصىمWpڈèآ\\nr¾Téـ¾‰Xفإن³–±(â$db¹<r\\x0b“\\x00v[8wXhiy\\x02ْژ¬¸\\\\_âra{إخg”±çl،َm9¤N\\x1c\\x05ث#ƒ0م„T\\\\.ى`ZLQ\\x0fd¸\\\\ضN]Lîٹ\\x1cںyJ£¯üâثٍب“IéهBح²;2ŒŒ8\\x1f\\x19ç¶§o]ْ©پ\\tک2f،\\x05\\x17|ظc¥پ‰ث\\x05“2ِ8£پ=g\\x0bغ\\x12/f#sژه×¥MثTo;0\\x10ْتّùA\\nDأm\\u200dاa\"C‹ب„عم(lم „3HAq`ڑ©\\x1e“عچپىدïN\\x02BL¨ِّى×\"(ث&ب¯¨m>؟P‚9¥ئل\\x1dض0\\x7fم—Od%?\\x7f\\xa01ƒ\\x16x§\\x07+(ب¯@»ح\\u200etذ.j\\x1cقw\\n؟a\\x1cGB\\x1b?\\x7fہچأ9قX\\'\\x04y\\\\ï\\x13ژ\\nـWش8H17‰’هbَüît]=ي4gم0bؤ\\x1a}ه]\\x0c¼؟طàز¨:Oع8ض.x~wعy؛ُ\"Nzôھfچ¾\\u200cاعëضlàqˆ[2nô^،إHw\\x13™\\x1cGخ\\x19\\u200eû\\x07Hب(»ع\\x1a}اپR\\x12\\t—\\x1d\\x12îش|گbژ‘îدïNçƒn½بù«{;\\x1a\\x18ضh\\x1d\\x07آ•çw\\x1c8³ش8|\\x0c\\x18¬•¸¹\\x13ٹùù\\x03حو\\x06b,Pdƒذ¾4–=¯ ،کQ)×¯\\xa0XرہD&+ˆ®؛(ë\\x1cڈ ’Aôu7ر‘ْ®\\x10]{لo½fP¬b`\"م¾—vقU\\xa0\\x12ژMµ±<®²\\t_)\\\\¹bص\\x14„V\\x1dG¸\\xa0=؟;[\\u200e\\x1eإُû‡2\\x13حêڈِ\\x05ثC×%ü¦ً§«qگٹژQْدïNاA\\x17`•8\\u200eخ\\x07ةم=´;n^WJE\\x13ذ\\x0b!la\\x17\\x17‘ة؛rر`¸ب£ضûàâ؟—F«vّƒكâ\\u200e§b\\x15P´Eح\\x07©èXرàùفé|گٹ^\\x11ص62™<\\x16ىZ‡\\xad\\x0fUڈCiëBêz÷G,n°\\x17‘ة|°¶†\\x0b \\x1cR\\x1e\\x0b\\x06U¸ôث‚ًbR*ڑ0_\\x08Hژ‹)qwقK;صîپ،1\\\\L¤زs\\x14…]a¾\\u200d\\x1f47ں\\x18ئo\"“I \\x15½،شآp\\x1c¬ز\\x17‰نہ›·ع\\t¤—cHےَ»س\\u200c@ژiشc\\x1bïh’\\x07m3لبF\\x0c‚\\x1a\\x07iëoçdJ\\\\£ں?ذط\\x17\\xa0\\x15چ\\x17\\x13kîد\\'پN€؟XŒƒط^Hü\\t›\"أِz\\u200f@3ژmهDصے\\xadA\\x08\\x7fM^£\\x15ـ\\x0be7¼\\u200cô\\n®#\\x13\\x19/\\x7f\\x0fë؛خئ،\\x17ق\\x1a\\xad\\x16*\\x1e¤„÷eWD¯ç\\x07حقچر\\u200e&2é<+ع\\x0f;ٌ¯دMB\\xa0½d¬<Eôع‰è\\x05\\x0b=®•ج…ظ\\x13؛ًه\\x7fأہ\\x16û»ُث\\x7fP%®م¶\\'Ep\\x03´:\\x1eà\\u200cˆ^ب©چمx\\x14يd\\x12H\\x1bمûFسخc¼~ے\\x10ط¢|ïˆضR»”nة\\\\oü?LvآgmBص®A\\x1dثق-ثى¹زè+ڈ`ءD\\x0cي®0^د\\x0fعه\\x1fق\\x10Ldٍهù–,ىجw\\x1c$ڈüم\\x04گiWD¯ç\\x07ي8âé_à[“qگJ…ُ4ôZx¢\\x17\\x16س*Sx÷›\\xa0ص]\\u200f¤‚cMŒçwg*ط#؛~ےِµ؟-كI \\x15\\x0c…\\u200cعئJ\\x05\\x13ف+شV¸6EF\\x05{Z\\x17ئپô‰ل¦ \\x15Œbں‰è~”‚\\x13››è^ہر„م(C÷z\\u200f@£‚a[Œٍعƒ<ٹ£$@‰8نش8H1اl‹çwgëھ ہڑم~Xةس\\x1a\\xad‡شڑ\\tگG`®\\x1a\\x07]\\u200dc¶إَ»سq°ژق–لeيîP;\\x7fm€\\x01é6…ô\\x02\\x19ض[G1غآDئ\\'Si§jٹmX»ء\\x1a\\xad“ض¢n¸َêڑL\\x1c/àحâNب(وزNي\\x0c\\x02&آُ’…\\x10–“±ژnVVïX%x\\x17.و±َ\\x19\\x1dيa\\\\8مے&غکîزçزط3üهصفکˆ]°„cç3wcOàBçA¥\\x1f9(X\\x1eEء\\x13ؤ\\\\h\\x1aµwة}ح\\x14tè„\\x02×ڑ,\\x7fRج\\'Rر\\x061نضè»â\\x00\\x0c•—\\x03Eى‚ëقïف¥£\\x082>ëزخغ™\\x13صپG\\nحة/\\x7fW2Eُ{ٍ\\nRعک0]pضؤ\\x15”رئ\\u200dہُCzMû0\\x13½DN\\u200fêüق†2H\\x17—\"vلµ…&!ڑ¨\\x19b—µS\\'A`ˆح:*چ>ٍ×8D:\\x15ح‡\"v!q–ئ\\x11Mش\\x0c±ثع©م\\x08\\x11§Aن*¸ک¸ں)H\\x17r—©ëQ\\n\\x14‘ٌ&ِگ®ك?$ˆ\\x07ىƒ\\u200e±؛sغ,Q\\u200fطتOMگ.¬ہ°ّ‹ب¤ان§F6ذذ\\x14ُP/l\\x16 µ\\x13~jإëع‰×ص؛gى)¹ˆLئA7م\\x13evGj\\xa04عLB¦\\x12ٍ®x]د\\x0fڑûY¬è`\"“q°n\\x05}pن\"ُ¼.ج\\x07@?™ùPj™x]¨|\\x11×UF-{^×¥–‡Eôv–?ڈ~%kق\\x1fJ-\\x13؛\\x0b•Hâ8\\x12±×»GqaG¯‘\\x0b\\x11„گ@‘ہوىٹ×ُü\\xa0]L\\x1dچگQث\\u200d×…I@,ُp1ر}\\x19a>ٹہ\\x07Jˆ0ˆˆ×…\\nGٌثgش²ço،َمىë§Cحeو\\\\µغKA؛pمًٹ ضq0‘ٌ6ِü-,\\x1b<w‡û\\x00\\x0b\\u200eخ~~\\x02\\xadyإëع‰×…\\x07‡ًه‹ب¤َ.?\\x19\\u200c\\x07چ>v\\u200d„~à–&T°âuء†¢/\\x1fMر\\x0c¯ثع©ض\\x03€\\x03#Eày]8@ء¤N\\x1c\\xa0\\nف…çQ\\x1aGŒٌت\\xa0»¬\\u200cئڑk]>1ہآ،»\\x1ek.5\\x0eu3&t\\x17J>ئإ”¹\\x19{*\\x17¾/r\\x0f†َر*ٍk\\x1ckثJ”ضµ\"zلؤ£ùˆVi\\x11™l\\nRج?\\x1cٍqS´Bè<ê1¥6…زئDôBإس8\\t\\x19mىˆ^×G\\x15±gv5`ùدظf‰ث{¦\"zپ_G“\\x10uB†èeي¼W–Oہ\\x1bم\\x11ھ´ô\\n-\\'ü¥ï?\\x19÷«à^;ء½\\x10&\\x13\\'!£چ\\x1d¬ëZ\\x1c\\x07تإu\\x1e•قIhµ1ن1ˆŒiw³؛zî\"â|،âv\\x1cGF1—vê÷إKّpG·قkŒ\\x03\\x00êج8\\x14ٍ\\x0by‘n1ل-/Œ£ˆŒw´C~]›\\x02صbأژf،\\x05[ْ\\x15\"إ¬8_\\x00gRڈ£1ZD&=nuîفc¼\\x1ctV¶\\xad ‡ü؛V\\x10ق\\x19\\x12:Z!؟Pد›ئ\\x11uB\\x06ùeيTد\\x03\\n»ŒVگC~];ç\\x04n|\\x1e\\x1c¥گ_;!؟B\\x1a\\n|v\\x19ن—\\tصم\\x08(²¸‚ع\\x1bِ5\\tX\\x0e=ك\\x18/&¥ک\\x0bzث\"¢Pù\".ےŒbv\\x08¯k[\\x02o;\\\\L¤ک7\\x01„çq¨\\x17fB~m1‘\\x05u×ïُ6ظ\\x14¤sلژhضx4”\\x1cٍë\\x1a7,×جbR:ڑگ_ً;ؤùبèèزخ»کضدكذPbù\\xadُ{ثD¯\\u200e&lُش\\x03!؟ع\\xa0\\x01َؤ\\x14‘ة|´ژىëû.ںa<¹C~A~\\x03\\x062³?T¼\\x17ر؟\\x10€\\x18ç#£®\\x1dحë\\x1aاةxFط\\x1a,´ه\\x1c‘\\nù\\x05lŒ?ac\\t\\n\\x13™L\\x02ëـ\\x1fأأ®خ“\\x10‚\\x1d3دمٹَ\\x05F=u>ZyEdـyاي؛VؤرW[¦وX\\x1e™Y™XfإùBح\\x00?ژN¢W\\x11™ŒƒشُِëWچ}اAٍب5”پ;\\nî\\x05\";u>ھ‡\\x0cـثعyڈ#کY#>VگGç3ïjٹَµ\\x13çk‹u3Ld2\\t¤~‘\\x0b?B`[£ï¸A,Lm\\n¥®‰َµإj\\x1aàذ\\'شœمv]›\\x02ï\\x08£\\'6–\\x07²Sظ\\xadٹي\\x05ں\\x15\\xad¥hïeط^ضNUmH\"\\x1aِ\\u200cT:ئڑyd¸1\\\\=صFœ¯\\xad“*•ل|،\\x06ح\\u200e=ڑqtآïX\\x08\\u200cW9³¸½¢ءnڈ\\u200e…y‹e3\\u200dك\\u200cE„8¢×¥ؤVn\\tz€…€\\x17ى†ٌگew\\x03´؛\\u200c÷¯ت[,›پGچج’§\\x0b0ز/£yي0^ڈ²بنh*Œ×N\\x18/\\x04،\\x04َ،ˆLخ\\x1dV®بآ\\x0cwƒزز»\\xa0€{خt^±»گêï7l,ôa\"مخ;,×ُQ×~\"„i.–G!¢Œٌَ\\x06hُV\\x10a¼¶Xy\\x02إإ\\x12+ب\\x11؛®ه\\x0fآ~ک\\x04\\x16‚#[\\x1e•7*«غcR»±ـ\\x04Jpdzـ†p=·²a\\x08—cw]3…Heuخك¬¬nç½دzë$\\x0b\\x15خضdظگ®إ•rـy’\\x1fv^)X\"vm\\u200c\\x0c،\\x0c±\\x0b¥\\x0fépںu>ـ‡\\x07_^]‚\\tس…rƒل´ة`؛P\\x7f2t~ّüحٍأ/¯n¾ؤéBھ^ى|ووë¸[×ڑا\\\\ŒـA,\\x0fwb&ŒTq؛vâtmىط‡;¨ˆL–?ك|gم ùى8شح—گ][\\'C(ƒىعےOظظe¹خٍJxF{%N:¶oكُح\\x7fL§l#@%\\ntْ6j\\x02لGHHڈ\\x1c²ëڑڈ7آڑ\\'nF–GüTئ\\u200f؛‰ZأمˆŒàA†P،q-وƒTً»¯\\x01VU\\x17[ت\\x08~LّH\\x15²\\x0b\\x00\\x03¯‚\\x07ةB\\x19d—µس|‹ˆةœ½\\x168d×\\xad8rمP±ص„ىْ~مة”Avل5•N¦mZل6بمê‘IœP$/TJٌَِچî¹\\x0cةثعi¯\\x1e}Œى\\x00/àب_—b~}نسسMث\\x1aي\\x04آw}\\x07yCEd¾\\x13\\x1cژëZ\\x1c8j¦‹‰\\x15³(ƒK\\x16پ\"yلBE“\\x105E†نeي4§ؤ«\\'؛اˆkGٍآ¸Q\\x04W>^*|\\x17\\x1c\\x00شùh\\x05\\x17‘إ$°ژvش÷\\x18gêH^د%\\\\قK\\x15¾\\x0biGشùè“+\"‹خ“é\\x0bقؤش\\x1dنً]«ه¯¬`bv،ve¸`dک]¨Eيد\\xa0mں’£‚<\"‰2\\u200f‡›–5ـئd\\x10w\\'پ¹ض\\x0bik1\\tء îں’¢mىً]×$\\x1cع\\ttس²†\\u200c\\'m<H\\x16*¤\\xadEçIر\"i عbژظu\\x1dT\\x08\\x1b\\x14و\\x0c\\\\\\x14cçةَA\\x0bںûئ´ \\x13™ِط„ع‘ك؟\\u200e–ûC\\x10ْl\\x19}µ+f×َAكùpعکب¢َ¬wٌت99ٍ\\xadرv´\\x02I±~\\x16C\\x1d>5\\t¤wcرڈç\\x7f\\x17\\x1e,\\x13j÷\\xa0؟sِ,\\x16ن7xt×÷9TXUم غ8f\\x08=ے»\\x1c\\x07?\\x03÷q؛±2‘5ع|چں\\u200d،¦´\\x18ü\\x1bj\\x1c¤‚c²ذَ؟ثqگظ‹E5َهZ£\\u200cتخح‡°ک÷›ëصيڈک7d\"‹\\u200eAعxûûجj6X£\\u200cï·\\x0bٹô÷ \\x14¾S“@عکث\\x12ü\\x07\\x07Uآb6،ض™ƒ3w\\u200fW[ê^pz¤¸ٹ¤غ\\x15¨ëù\\xa0ےهƒgشD\\x16؟<›ة{_¥+h1k´\\x1bG&~hW\\xa0®çƒ~\\x1cƒ\\x136ل\\u200d¶v؛I`\\x0eق5\\t¤²\\x11آ×\\u200cFêa\\x00¦\\u200dZA¤چ·ً؛\\u200eüïr\\x1b‡\\x07âٌ\\x13KUs$?¹I#e_t\\u200d\\xa0]x\\nهûـَ؟«خ;\\x08\\x17n\\tï“1\\u200eّهY(‡RF±;صyz\\x15ژEV\\u200dے]v\\u200d\\x143\\x08\\x19³à\\'k´فB°!\\x12ٹY‘؛ِûƒnùwٌlه2j\"َm\\\\ع©\\u200ez\\u200cم¤\\x07[A,ڈ`4u³»aXƒ»(\\n~yk&fظکب¢ï¤ŒQَuو¨¶Fغ\\x1c|^\\t\\x0f×®è\\\\د\\x07\\u200e\\x1cؤ£´€´\\x16م`eüه$بk#گ\\x10ہ\\u200em\\u200eب@،\\u200e†a\\n\\'پىa~\\x03…\\x12ث ¹L¨\\u200cںˆ\\x18àا™ „¤†Dًè~\\x13³†\\u200c\\'\\n\\x1ck¬<ے»ـإd\\x0f#>>j.ايآ9\\x05\\x04Hآ—…D\\x17u\\x04ر«pL\\xady\\u200fwظyضہا>£ز[£\\u200c\\x06–إ\\u200cvإلz>èض|L\\xad1‘إڑg#ّ=>\\x0fë¹CًٍN\\'²î\\x11ڑ\\xad&پ4pج²y\\u200fw9\\t¬پ?xwس^vk´MB\\x1fہM\\x17P\\x05ك\\x02îط\\x1f\\xa0±´ٹ‰ج\\'،´سِîw\\\\ےص&په؟¨ہ™Pb\\nةµ\\x13’ëثد؛8ƒٹبb\\x1c¤Œ·د1‹\\x0e²Fغ¸ےà”\\x1aL\\x1aد‡²’\\x0b0«\\x06َئ,\\x1bdjـS¶\\x18\\x07=\\x1bƒ2?µf\\x1c¨ëٍ³\\x08\\x08\\x1cڈCYة\\x04êB\\x15فp³+\"‹qً\\x0bٍüµ`w`¯غGعفچ´nS\\xa0®\\u200c@]كکpc\"‹q°خ\\x05Rlٍ¤iچ¶ح½g€c»آw=\\x1f´أِ\\x13\\x0b®کبb\\x1cى³F¹ب™\\x17ةل».‡;ت<¨[\\u200dbvي÷\\x07}çأس“‰,:دلZ\\u200cم\\x08ؤ‰p×(كغ&AERى\\nسُ|ذw=¼6™ب¢ëü4|؛Rَ±ë$\\x0f؛u\"گhWؤ®çƒ~\\x1cٌ‚Z`\\\\‹q°ùغا\\x05چ¦€نپ9I¼ئb¬BY\\x13±\\x0b±\\u200fٌ\\\\zôًb\\x1cl\\u200f\\x02u8فد$ڈ\\x18»ج|(b\\x17آhœق\\u200fؤ*,&2\\x1fGi§.ٌ?\\x17ـ\\x1aق\\xa0¬ر*ڈ€÷ش8”\\x11]H[¦ï`1†ù(\"‹q„Pé\\u200f|\\n\\x0fپ»#|ل\\\\‚\\n\\u200cYWٹطµ\\x17rV\\x1dا\\x11=\\x19Ed1\\x0eزغˆ\\x18\\tyâِeu\\x12\\x10î¢زٍw…éz>èvtL\\x1b2‘EڈICأد2م-Y£\\xadَغ™@µى7+kdہ\\x11±\\x0b¹‡q\\x05=تw1\\x0eزذ P„ّج§\\x17ئ\\x14¸–حï“\\xa0rïٹطُ|ذOB<ژ\\nŒkرyRثبD›پ\\x1dى{ë$ىا¸r:]÷nVضp\\x12¼\\x15چKsœ„Œ\\x1fغء¸®ë\\x02\\x0e—ظ±تٍ e\\x0cm&\\x1e‡2¨\\x0b™«mمxmحہ»ِ\"شn\\x0eˆ\\x18›\\x04¸\\x07ù?p‰\\x13ڈTٹمµ\\x13ا\\x0b°ù8\\x1f\\x19—6s¹€Nک^[Y^پ,y>”؛&¤\\x17”\\x7f\\x1cGF]3¢\\x0bé¢³Tk¼Hù\\x00پ_÷4M}W\\x18/ً`½ٹژإ}Ld¾·\\x19ث\\x05Rٌ,½ع\\x1am{ûص\\x17\\x03R1G@oٹ+\\x13a¼>1ٌوùك•\\x7f£´س®\\x0e/~«€o’…à}Hdِî\\nنُ|ذ\\x1d°1غئD\\x16“@z\\x19Tء\\x19†ة\\x1amZî\\x07oxûS&ذMس\\x1a\\x1d°„÷ْؤ\\nK{\\x06ïeBmql\\\\îèڑ\\x04Ré¨\\xa0œHyع\\x15سëù\\xa0ں„xةث0½¬\\u200cِ£\\x02گ33>\\x1dسk{\\x03h7NYم\\x1d\\xad\\u200dڑ\\x0b[«j‡Xرg/\"‹إDع\\x1a\\x01\\x0cC§‘9ث\\x1cسë\\x1a\\x07\\x1eر3‹I½:\\x13س+¤\\x00ءYVD\\x16مpِ4ُْ\\x19³¹ë8H\\u200fچ(ھ„³ىFn\\n7…w\\x7f#q)h‡‚ëZŒأ\\x19ث\\x18\\x07\\u200d®‚Eيہ_ک\\x04$وd,\\x06إô\\x02„ف«‡XlةD\\x16\\u200c\\'\\x0b\\x19ڈ‡َMلن1طS†@â\\x11@é\\x04ïَ\\x06ز4\\u200fٍ\\x19½ىک^÷\\x0e\\x1dûâë\\nrz\\x19“گھ\\'°+¼×َAw2إê>&2ں\\x04Gîآ½ُّ|f\\x19\\x0bضh=ةN@©\\x12;A‘¾\\xa0چh1إû^†ôeيt\\',زc\\x07`\\n›ڈزh‘؟Nط=مئWذ¯\\u200c\\xa0_ںک5e\"‹ù uچ*ثسû\\u200dƒ~a\\u200fpcê&Dق™\\x14ô\\x0b¥S\\u200e|ؤ\\x04*\\x13YŒƒچëH‘¶†عœپ-—xJ¹9\\\\£S•@_ˆ¸\\x0c{»ˆ,ْN\\x065®\\x15ٌ9×رہ®چ\\x03\\x1eإ\\x1aِ°+؛×َA·،cq\\x1f\\x13Yt\\u200d\\nj,ëظU£ أع½Jd\\x03ذUموj\\n\\'پ\\x0cêک‚\\x04€fâ\\x1dˆء]ّu£Sڈ…vہ!2§‘²¢‰îُ‰yG{†îeBحbطz\\x04ِ`\\x1cنôئ-&c<(ذ×N\\xa0/Tjڈ;!cE3èثW|\\x1eŒƒU؛خلD\\x05\\x0b،¢‰î…\\x0cڈطùŒٹf؛\\x17|\\x0bسّN–‡t‚}؛+؛×َA·£cق‘‰جw4ƒ»€Kکڑر,؟أ·”8V\\x15َk\\'و×\\'و\\x1d™بb\\x1cنéئSلذ83\\x15حج¯\\x03/َتüT\\xa0/\\x14&ًْ,و\\x1d™ب¢َlFأً™ف/\\x18ô…âپ\\u200cظ-ُ²\\x02}ء]Kمˆ\\u200f½\\x0cèثعéجû\\u200f\\x1d+>7”Fغ}oO\\x05=كH®‘z و\\x17n7as\\x17‘إ|گژ>قكAçIèىï¶ْM\\u200eوj\\n;ïمإذZىü#²è<›رïhµy¸×e¢ژ‹\\x00“^¾YZأ¾“^ژ\\x19H{لp-ْNOرطûCبUفإ$\\x0f\\u200ffê4R*ڑà^ںکپ´gà^&شî=0|f÷$†{\\x1d“|\\u200d›¥5œ\\x042\\u200c\\x07)\\x18…أµک\\x04ژ\\x04{E\\x18تخD¯؟-\\x15‰،ˆ^ّg\\x7f\\x04إْ &²è<¹¨·>—«.\\x1b\\x12B\\x1cN7;2قV\\x11½گqB\\u200cڈ\\x1e—\\x0cرثع©ثو\\n\\xa0Wً¸0ئëم\\nMêخ+G6a¼>ƒd‹\\x0cئ\\x0b”Vے8ًظ\\u200f¦{—ه؟ہ—$n\\x12ٹè…ب\\x01ڑ„\\x18‹‘!zY;u\\x12\\xa0Eâ[si©\\n،ژ‘ج\\x14Qى.(;êq|و,\"َ5_„Zڈa¦ؤe\\x13r•û4\\x17\\x19}tَ±F§\\n\\x01»€/\\x0cê*\\x03ىع\\x19ہ\\x05ج×ô\"حٍ°ت2G¾‚wي\\x04ïآƒo\\x1cGFي–vڑU\\x06>ئىبgyـ\\x143¯\\t\\nق…@8؟ک\\x06I#\\x19x—µسئ\\x01ڑشى.ت\\x1c/Xqٍ\"\\xad8^{Akص\\'„AزH\\x11Yى\\x042uQاa\\x1a\\x7fؤH/`\\xadô\\x01z©إلN ½;ب\\x14ةp¼vFt-jN\\x06yDïdىz…ôB¤\\x0f\\xad\\xa0ءq”1چ™ض\\x05{rêedùم=^qt\\x19Ut/¸Zi\\x1cر\\x0b_Dو‹‰i]H\\x1e\\x1cق\\x12ىVءٍ¨ù“ \\x18c{‰uEt¯Pأ\\x16ïQ\\x19؛—\\tuقkvzàqسس½n—uوeVپ¾ِ\\x02ـj;:ھ‡\\x0cèثعi\\u200cےNë\"\\x04ù³¯ڈ£\\xad2إüB\\x04\\x10-¦¨\\x1e2ج/k§چم5ه»\\x04ù\\x13° هں¸‘\\\\£“‰ک_àŒ\\x05ف–a~يجü:_[´)½\\x10V\\x10\\x18ً‰ûـچط\\x1av\\u200dىلWt¸gک_`Xّ{éٌ×\\x17µ\\x0eàë ڈ÷جج\\x05م¦m\\nاAٹyگKRH]‹مˆm]\\x10WFîèz\\x1c‘<â\\t3\\x11…\\nےµ\\x13\\u200fë3بءبà؟¬\\u200cوôy÷\\u200dذèg)چ\\x16ùثWر;»¤؛¾i[أù u\\u200e\\x1aىèŒûڑq^؟؟ٌ\\x03S\\u200c\\x0f2«qَ•ل©ٹù…\"gî8‚ظ\\x1awtFG—vڑƒâغ\\x07\\u200eاک\\x7f–?؛§mزث\\nùµ\\x13ٍ\\x0b\\x01®،ï\\x19ن—µسژز£انئ¾{ن×\\x15اًة\\x04gكD®ر\\x02\"ن\\x17\\x02\\x1eâ8\\x12شMذ؛é`؛ê،\\n‚،l\\x01yùKEwجv\\u200d\\x04•IEœ¯-V7\\x01fàî×ü4bn\\x17üçس›6ثأJ\\x18ڑy<\\x0e•IEب¯چCSp9ت ؟L¨سثWpm\\u200e\\x0bf4#آN\\x17™!]ï\\nù\\x05\\x04;mèèzد ؟¬\\u200c6\\x0eD\\x04ؤخ³ثZ\\x12\\\\aإ‰[)a¾Bح³ë‡دطثŒي:ژc¾€œ\\x1a؟Vے8–„\\x17گٹِ\"â\\x17Jإا]œyJِ\\x04¯ëعس—¹\\x1dج\\x01G{!cI]ىn ×ً\\x08ٍ!^غ ¯\"Cüع™ّ\\x05ZظŒ‡JٍWبفط¯ح“\\xa0LçBق2+\\x01خع8\\t\\x19]ج\\x04¯م\\x08ج,ـâْمِR\\x03\\x1d\\x13‡;¬\\u200dڈ\\x0bx«u8:\\x193”/\\x18’\\u200fىا£ْôظ•ه1@هoؤeu¼uں\\x0fع›ٌئ?ز\\x7f—\\'m}ِ›P»<p’جےjCث[\\u200dےل\\x0fإûz>èû\\x1eŒz\\x13™ê-\\x13j}ك؛ٍ—Eس\\x06!TةMن\\x1d\\x1c\\nٍُ|ذu>Vت0‘Eç9\\nج¶‰²²Fغ`QRjm’!oJ- o\\x0cƒ\\x0fبغُùكEج»\\tµ~ل\\tcâc\\x0cٍH®S\\x0ek„yھخ“¦چI\\x13دے.;OJ\\x14ے5«0aچ¶\\u200c°eJِ\\x1e7ہkpِ?\\x1fô‹)œ™&²XLl\\x17د#?¬ر6ژ\\x1f*م\\x0cnJ¼£…\\x02ئ¥فك|b\\x02…‰,ئءoئء¤·vZ×_}ه\\x06}گٹgâمf\\x7fُS\\x10.m&²è:»«\\x07]çà-X/ë ´CQ½\\u200d\\x0fْ®\\x07؟œ‰,؛Nض,^/fد\\x04ضhgpژëحٍê\\x11ٹ\\x18\\\\^Z=لْf\"‹qگ\"\\x06¨bو¬¶Fë8\\x10ک©ب›ًb‹£ˆ\\x00_[,\\u200dٌüïê(ٍى.\\\\i~\\x08\\nضqةضhu¥\\x00ç”pٍ\\x1eٹُُ|ذ-¦XGأDو“p\\x7fA—?z\"cb:\\x0eg9cـ\\x7f0:ضG‘b}\\x1dؤْآ\\x01\\x1dôZ\\x11YŒƒô3\\nS…{¨}Yَg!ت=،”\\x15ىë ط×\\x16ƒُMdرyz >،e§“àن‘tً‚gf°ّhG+ط\\x17b¬üژژإLLd1\\x0e6r…§ء.{\\u200dû…إ„ں+³ک„پ|\\x14¨W5\\x11b،\\n\\x13YŒƒ\\nق\\u200fçچL\\x08k´®+\\\\J\\x12~ëC!ہ\\u200d\\x0f؛ح\\x1dknکبb\\x1cى‡>كَحح\\x062.‡آ@>\\x14\\x02ىù\\xa0ï|¼$فے»<aI\\u200e‚;0?aI\\u200fؤ‹²ى¼°ٹٌ\\u200féwBŒض7‘إ/د\\x01سغ”\\tlچ¶“©¯fخغX)و\\x1b\\x08ضےٍل\\x15\\x19¶Tآب,Bح،صG\\x02ژ–?)r\\x04ëg¶±B€ء\\x19E“\\x10/JEd>\\tŒô:ہê›\\x1d«,ڈ\\x02êٍ‚،¸_\\x07q؟ًd\\x1a\\x14Z†ûeيt\\x06ن8‘ةخززh›´#\\x13\\x15xـک\\xad‘\\xadCـ/شK‰مHx«ں/è.\\x18؟د”\\x13\\x14ن‘U’H-=nجضp\\x1cd8ا¬ƒç\\x7fWا\\x11s¼\\x10’ذضR¤c[£حًé\"شiC+ض×A¬¯-f\\x1aکبb#گ^ئصpِـaچ¶¾ƒ)’°|\\x14ëë(ج\\xadھ—؟ٌ`*\"‹qp|ُض\\x0f#\\x04قظ÷¶Sُغçب«\\x17\\x03„ô\\x0bمپ°_\\x1b—غ…\\x17¯ˆ,ئءz™ùےًâyش×uر–/\\x06Xٹھأن¬وXْ«أڈب¢أœڈ|2;âê1\\tmïجkٌ،\\x08_د\\x07\\u200c:‹)\\x05&²è<ëâَ;{g²F›©\\x06pdâv\\xad\\x08_¸ث{u\\x16³\\x0bLd1\\x0e§fu”Gص\\x08$ےF…عؤ8\\x14ل\\x0büa?ژXfأDومً„/Œم;×\\x08,ے\\u200fI¸شqS´Fj€°^[¬¸ٌüïJ\\nxL×ُ\\x16ض?ك‡7\\'k´-&p,\\x13&ژآzپٹD“\\x10^ALd1\\tخ^¾ü\\x17S®‘5عئپ\\x10;u»V„/¸<¨َQ\\x0f\\x14‘Eçة\\u200f\\u200e¼ْx§ء$گü\\x17\\x10UظùKW\\x0eWذ£D«\\x12مrه8K\\x0bùkرy§Œa¼ں\\x1c؟چ³´´T\\x7fnؤFëں[™أ\\x05شصz\\x1c¯¢\\x19–×Q„zمdVY)ب#Y4\\x11چy(–×َA§\\x08bA\\n\\x13Yüٍdق؛T؟پ]مY^ک)¼\\x14fِ®زئؤٍعb¢ح‘ay™P»\\u200d‰09S\\x04\\u200d\\u200e…½\\x0eہFf\\x1cتH&–×ئ•=®\\u200cگx:6،¶®قcv]\\x1d\\x07=#؟{´\\x1eف©o^ضp\\x1b“6ژ97àا&Œd\\x0fن؛قماo2µَ¤چ7$\\u200f%îش\\nو…ْ£\\u200f,ه°PLB\\x11™o\\n\\x0fَ؛(2}4Q<KY~ûژƒGh>\\x14ج\\x0bڈé4ژّ\\xa0SD\\x16م ا4bTB\\xa0¬}Ysش\\u200e>‰@ظCء¼\\u200d\\x0fْ“)\\u200d°÷ے®n\\x15E¨ُ\\x0b\\u200d\\n\\x0e!²/«B ئة÷3…ي:\\x08غ…\\x02\\x7fء¬د`»¬\\u200c¦\\xa0\\x06ُ}‚ذ\\x1fشtâàQط®£à³ھB‹إ5Ld±VH\\x05\\x7fQ[l´\\x17mï2¶\\x0bُP¤kٌFcچ\\x0e\\x1ebumïxùة°؛à\\x06½7L\\u200eهےگ¾\\x14×\\n\\tپ&«bطڈ›¬5ى1=\\x13s6َuؤ$â´L¨ِّ\\x07\\x1eë,v¢4ZهءّMشC8\\x14•ëù\\xa0غ¥±\\x1cˆ‰,–\\n\\x19¸?†ٹââئP.¼9uCص«FéZ‚rُ%iîصyحAF×\\x16،ْ›¢¼ن°_uة“®=ل:VWf\\x05ه\\x02\\x0bدںي±\\x10…‰,~xز\\u200cH,\\u200d^@\\x19â…يڑ¹¸)(\\x17~+\\x1aG\\x08;6‘ù8<”ë\\u200e\\x0fپ\\x1dسچہٍ9خء،\\xa0\\\\د\\x07فFˆy\\x1d&²\\x18\\x07éZ<*حط“ضh]|g.\\x0eGA¹\\x0e‚r،\\x02CPbEd1\\x0e2‚A*چa \\u200dؤ…ICٌ©وF‘V™\"q،P+-¦xل)\"‹خ“Q‹J\\x13ر\\x03ZZjغ\\x1e\\x05V\\x13> …â:\\x08إµإê\\x13&²è<ià\\x184jي´Eƒ,ڈؤ…Yپ¸گ{D؟{¼«\\x15‘E×Yµآ\\x1e\\x0bْ×س·قےخ÷7\\x13i\\xa0è[€R¸خ؟دءٹد¨b\\x0fضzےC،\\xadiّ\\x1fثƒَ™yچ¹aZ£+\\x05پ¸ق±عء‘\\x01q™P»Rl\\x7f!û$\\x08ل))َ.©è[\\x07ر·ق1ٌءD\\x16+ˆtë\\x0fü…ظ»¤§u½ے!}Iهy\\x036.ـWDك‚×)\\u200d™\\x19»×س´ذ\\x19V\"¸\\x04±\\x0c¼‡ٍ!Ua¶pNر’ڈ¯ہEd\\u200fk{lضû\\x1f(\\x07³xoûقvd¾ًِYے¤كPa¶\\x0eآl½cY\\x03\\x13YŒƒ”îد%Sئ£كc¶0Qذ<\\tمK\\x11·\\x0e\"n½cY\\x03\\x13YŒƒ•î‰\\x1cٹِ\\x17ژROـآQ؛½\\x134Idة‰چ@ؤ\\xadwL|x\\u200fwe³{‚ضُûژƒ‹يFحٍ\\'P±êF\\xad0[¸ّْMء\\x11ô0\\x072ک-\\x13ê\\x16ùّm¨v\\u200dôُ‰\\x12چ²َت\\x1f]ذWf¾؟\\x07I\\x10Ed±‚X\\x03؟9•\\x0eg\\x10s¶`™e\\\\=ٹ³\\x05\\x0c(\\u200eٍƒم(£پK;Ms!إ;®yٍT#’=sm»YV#µKp-Dپ…أ?\\x03×\\x02ا•|\\x0fّUGwل؛lH\\x1e5ھُ²Q&pل]صe3Hلبہµ\\x0eدح؛î>َˆ\\x1a–G\\u200cغج\\x1dNq¶\\x0eâl\\x01L\\x1c\\'!£پK;m\\x05}~س÷l–G\\u200d™شئٹ³…\\x14)؟ü\\x07)\\x1c\\x19خ–µس¼W0§f§؟Gnل”}_\\xa0کْ§خ\\xa0›p5ع\\t„ـzاٍ\\x0bèPآ\\u200eï\\x11Z×\\xadbœكc;پهqïN \\x01\\x0e…ـz>h¦ü;–_0‘ùYêiZّ}ےàm›ؤ±³üپxدؤيHپ¸\\x0e\\x02q½¹ّ\\x03\\x14Z\\x06ؤeBmSà\\x07\\u200d®+²\\u200d!\\u200dZW—\\x1e\\x1c®+Rج{T\\x0f\\x19&\\x17تـز\\t‹§؛\\xa0\\x1eX\\x08E?3V™\\x02q\\x1d\\x04âآ\\u200e*œLEd±کH1\\x03£4|ّ\\xad›‚\\x15ù·Oà•·#\\x05âBؤ£?¤bù\\x05\\x13YŒƒصïِ\\u200cfطx\\x10\\x17®¨\\x7f©¼\\x02إن:ˆةُژ•\\x18Ld1\\x0eR؟H،‰w\\n\\x0fâBç?(‚Qے¤\\x7fëFf\\nw‚\\x0f،~\\x0f2l2L.(g؟\\x13@*›e©\\x07ùَ\\x05\\x14uBS(ƒ™ک\\\\ïA†M\\x11YL\\x029¯\\x11\\x0b1U×\\u200dة…\\x13ظ\\x05_J\\'¼br،\\x189mٹکa“arY;ي„\\x05ث<œL\\x1eؤu¹*؛g.z\\x12Vô-¨\\x14êq<ژ2ô-k§ِ\\x18¬ِ©»\\u200cA\\\\°—›gڈ;/(\\x1f@)ّخاB\\x0b&2_6¥\\u200cضy JâدM¶ôïآ–®×¼BnپلK\\u200cڈWش\\x0crثعéŒœ)Y2بƒvگQhٹ¾…\\x14}\\x1aG|°ةذ·¬\\u200cِ\\x12‰\\x18تظيˆA\\\\x\\x01دDع(\\x10×Q\\x00Zصô‰•/Ld±کX1ےچ\\x7f_Sج\\x1eـuù6؛تh¼\\x13T´tAkµخ\\x0f\\x0e\\u200dŒإ\\\\عi‹\\tہ×ظصژه‘¼صM‚´?\\x15}ë ْV_/ع\\u200d`3ô-k§-¦mœ\\n]\\'پµ·/…«L\\x1fEك\\x02ه…6E¼¢\\x16‘إbٹٹ¹ث„ˆnxOëآ\\x05م5†Fٌ؛Rٹ™@\\\\بé\\t·ص\"²\\x18\\x07؟*‹\\nَu>œü\\x06ـLjs+(×AP.\\\\لأ82P.k§ùٍ®—ہ‰CصC¹0\\x0eشHJ(\\n\\x05ه:\\x08تُژu$Ld>\\x1f\\x1e²…~!G:h<\\x16؛2؛\\x12ِçحہ\\x1aفV\\tت…hî8\\t™4\\'\\x0fظ؛Oج\\x19v\\u200f`yxƒص†¾¹Wأ¾“¶\\x1e¤صd@\\\\‡\\x07k]}ڈىَ t¾¯گٌ¥#Fر·\\x0e¢o½\\x07¹4\\x19ْ–µس´أآو,چ¶Sّ›©¢r((×َAçˆ\\x19¤طd\\xa0\\\\ضNsŒ\\x01ë?s\\xadzˆ\\x17\\x1cP\\x08أجl\\x04¥\\xad\\tت…\\x04±¸\\x112عڑ،\\\\\\x7fكX\\x04م`!\\x14mد¤ط((\\x17آ{¼j‹إ#Ldq\\x04±؟ْحQ\\u200fxYًن.\\x04„ˆز½¤دn\\x08ضp\\x1b“^\\x1eنص\\x14€ض¢َ¬—\\x11’<ص\\x03$ڈWع”\\x1ePz™\\x00]ïAٹM\\x06ذ\\x05·¨7üaز\\x0cKىک^ٍِذ\\x1b°5ض\\'\\x13ضغط•÷|ذيèOP\\t&2\\u200c\\x0f\\x13ھ;\\x1aـإ™لOٍ\\x18\\x07قS×ژکSq»\\u200d\\x0fْq„\\x17\\x7f\\x13YŒƒ\\x1e\\u200d\\x11…\\x16ô²µT\\x06‹خے$4\\x19×qُث“ي\\x1cث¨<ے»xڑ5،ِث#éٹo\\x12$tُXf{£ئ¸ê1©àO¸‹>ے»ى1»£ء”کى]k´\\u200eـ©بêS\\x11؛\\u200d\\x0f؛µ\\x12SlLd±Vب}چ4ِYظQk´غ#غًùءں¥§\"t=\\x1fôم\\x08\\x0e\\x0c\\x13YŒƒ\\x0cو\\x13÷جé|8ùû\\x0cJ\\x18\\u200fç\\nâ\\x1aè„çƒ~\\x1c!XـD\\x16م O6^<C°ڑµش&ءEs*ڈ#ü«jSگ6ژ©)دے.7\\x05ا[o1ضبZْ\\x7fقçNEéz>è\\x7fùء©™\\x08¸¶v؛{é¸قzرbA\\x1e…»Uؤ>¼کê—÷\\x01×بهلKـَ؟ث_\\u200dT0r\\x0cf\\x01×ضh›„—\\x04lأn\\x10\\u200c\\'4×;V\"y\\u200fwصyFsل \\u200cظأضhç—é\\x1f@ش+ش©ذ\\\\د\\x07ف\\nٹEILd¾w=ڑ\\x0bٌ\\n(ê4;ƒX\\u200f‡½\\u200d¸?(4×Ih®wج¶1‘إ8طI\\nےOذئهث؛Iè+¥ھW(Xحj1‘bو|ھے>دے.\\x17\\x13)و\\x1f\\x1eKcçY{÷\\x11â²ٍ\\x05b‚Uçة}\\x1dS…\\u200dے]v\\u200d´ٌكgœîfg\\x10َ¸ہ\\tدh±\\x1b»5زbؤمzwùjإs\\n½z_ِ\\x17+ˆ´1\\x12q\\x07+ˆ„@—M¼!œ\\nآُ|ذoمxµ»ےw9\\t¤‚Gùقِeuù£\\u200dگp\\x07\\u200c\\n¼ُ|ذuکë*_K>\\x01û0،ع\\x17„|اû~i©\\nل™·»èé\\u200e*‚¼\\x00&َ\\x16|L\\x152‘إRل\\x1caء\\x0f®K\\u200dنQ\\tL½\\x10ہ\\x0eUû•شî+قض2à\\xadç\\x0b*+é\\u200eïَڑ«]\\x0fêzےû~$d\\x08¾mرy¢m½cq‘ç\\x7fWëـس³قےً؛\\x11’i¬¥¶خپƒZ{\\xad\\x10ٍ«:OOإ\\x0cbآڑدذ¶L¨ُ\\x0b„ˆQ؟lظxع\\x16~ù؟±½Fv‹¢m،ؤ\\x10-ےxط\\x14‘ùٍ/Bu\\x1c—Opٍ`iكغئف9ں¸ïJص\\x162–½َ½bQژ³ˆ,ْNZ\\x14îے©؟ؤ\\x13¹®فrبثڑBl\\u200c„طzإ¢\\x1c&²è<©ع÷‡#ہ\\u200f‡¥HB(`‘\\x08QA\\u200c\\x0bµْ}Jس+f\\x05=ے»ـ؛¤:_? ڈêك`\\x17³>FطڑRW\\n¦…\\x1c@·نChزµu\\x13\\x0eg\\x13jê\\nw£pCcڑض\\x06ïdآG¨ہZga]µ5\\x1fق¶Md±l\\x18¬µO±ٍضhS»\\x00q\\xadَùگa،VگW»\\x08گ\\t\\x06م\\u200e؟ث\\x15Djô…œ¦™\\xadR\\x1amم@ yf>”\\x06&ئ\\x16\\x1c\\x18q\\x1c‰طj\\x04[ق‹²»û€i¥أaƒ<B\\'3\\u200f+إط\\x02}ظoٹک,d\"َuه™Y¯\\x7f@Yخ\"\\x18\\xadر6\\x1f`·%ض•آm\\u200c„غzإd!\\x13YŒƒ\\n5\\u200c¸خ…ح\\x1dک\\\\ûG^@\\x15Xë$°\\x16œïa\\x05\\x15‘Eڈ\\tD\\n{qê}(چع/¯ژQإش\\x02k•VL<‰2L-k§\\xad|طû³•_\\x1am+¦Wxtu¸iV#\\x03±`®ê1عUص2\\x031أشآ‹D؟m_x’ë\\x15X\\x08\\xa0\\x0eٍç¯¯%%\\n€\\x1b„5\\x1c\\x07)b^¤ذe\\x19ز–\\t•\\x1f\\x15غ6\\x04Sà\\x16\\x11p\\\\¨ئ”8;\\x15^ë,ک«6\\tQ\\x07\\x14‘إتw†.:ڈ¢—“\\x17lûق¶â\\x10ü\\u200c\\x19‡r;\\x13^\\x0bLô¸ƒ3ِ¯اea1ءٍŒg\\x0e+î×ّ‘’w‚Rؤؤشآسmى|ئي\\\\ع©+\\x08VLt•x،‹$™\\x016أ‹*n\\x11……UWP¬\\'ٍüïê\\x16ل™ZXA›+ٌ\\x16\\'!hëشث¯bj\\u200cؤشê™9v\\x1ceکZضNغئ{—ےl&$ƒ´^PA‰ه¯@Z\\'پ´P\\x1f,¬\\xa0\\x0cHثعi\\u200cں\\x17&#ù»0™\\ne\\x02xU¬\\xa0\\x02ہj+(¾؛d@Zد\\x17ôه,\\xa0\\tfg\\x10ƒ·.ژdf\\x12”-Lx\\xad×/¾?fًZg\\x11j“€éœف§½<&ل³u÷7y\\x1bR¤\\xad“H[ًCإإôèـ¹N`r\\x16J\\x07FmجB@·e<·ٹ´u\\x12ië\\x15سgLdرy6sçک\\x1bk´9_`ef\\x16“\\x08ة:\\x0b\\x07«nٹکIc\"‹qگ\\x07ْ…§إظصژù[ب?’ژ\\x15\\x05فB9C\\x7f/چµQLdرy§hom<كر¬کپ\\x0bNX27\\x1fktµ#\\x00\\x17\\\\#q\\'d\\x14³\\x07p½\\u200fء\\u200e0Kg‚،CWع\\xadg—ثGyإâ:‰إ…\\x10ى8ژŒ…ىظZ\\x18\\x07کI3_\\x11ثƒ\\x05›Qsٹإ…2\\x1a~]إü\\x1a\\x13™¯+دضzة4+S×,\\x0fب‰‚°ہض\\x16jî\\u200f\\xa0=رôظًvء(\"‹خ“Y¼ےMK\\x00?\\x1dêش\"ŒزŒzP\\x00.°ںi\\x12bˆ\\\\\\x06ہeيT5wل…آ-د\\x03¸p\\x02l™\\x14p¤K©I ‹™\\x0bEءXث\\x00¸L¨]µ\\x1d95؛)<‹\\x0b·غo\\x1f\\x1b%u´bq،v\\x15MB¼ً\\x15‘إb\"م\\x19çهشٍ/چ¶Iûآز«\\x7fz\\x1cت‹M`®\\x17WO¾و#َJى™[¯\\x7f\\x7fبkˆ‹ةét\\x1c_)ڑ\\x0cB7صb\"/6c¨®خg¼ط\\x1e´…خoسlWk´Nآ\\x0f±!تw¤h\\\\\\'ر¸^±6ٹ‰,V\\x10éèïïo–،eچضخے\\x01ص•¸()0×I`®W¬“b\"‹qگخ\\u200eœبکn\\x7fq1‘¼Dâم™G\\xad\\x1fےtŒطه\\xa0–\\x0bMkرug\\n؟\\u200f]دھ3أا#؛^ے¾؟\\u200dû 7±¢u\\u200cDëآ\\x153Œ#Cë²vêزّà\"\\x14~wڈôآfqڈ¯ز}§\\x10]\\'!؛‚\\x12آ&.\"َIًب-ü¨½\\x11\\x16\\x01َضhغ\\x07\\x17 y}’*D\\x17¼ک^#ؤٹ)&²\\x18\\x07ù°q¶ج2\\t¬رv\\x18m¹إ¤44!؛^±bتYD\\x16مp/تک\\x0f¨„ظ~ِˆ.¬«]V\\x1a9\\x15¢ëù\\xa0»مإD\\x1a\\x13Yt\\u200dشٍ··\\x17F‹‰ص8îظJ#ـp¬‘µCˆ.@jâ6خèbOكآ/\\x0fOًô—\\'µü—s†)Z×I´.ہ]â82jظس؛0\\x0eW¢6؛2X\\x1e \\x10=\\tت‘M´®×\\'†\\x13eh](€èMH<éMƒAX^\\x1f¤ت‹M¨.”8ˆ?{ئXِè-\\x18gغ4•édy0±ُد®T1ٌ¹àB‹\\u200cدXب\\u200d·uYْ}‰\\xa0h\\x17°<ˆJRے*>×I|®× u&أç²vْ{هŒx\\x10ن÷}\\\\ؤ™قA\\x14ںë$>\\x17^سأ$dّ\\\\ضN3R>|³آKڑ‡rء²ؤ±“ً\\x15)(×YàXصa\\x17\\x0b£کبüè÷گ-ôثy¥م}ˆهٌ¶\\u200d‰nQP®“\\xa0\\\\¯X#إD\\x16م \\u200e‹طتک‡U¾¬3£ûؤWéx¼\\x19X#\\x15VàXm\\x12âM4Câ\\x02پ„Oد\\u200fr\\x16·1ثçˆb¨S-,\\x03‚rپB\\x1bwBF\\x15—vعNّq>خµ\\x13Hے\\x02V!#؛\\x14~\\x0b،H\\u200fْ9بû)\"‹eC\\x0fة\\xa0ء´]9¸ùxüضُj\\x0eجà h‡د ¥\\x7f\\t؟ُع\\x06gPو!ظ“µ°چ\\x11\\u200d;s•²<Œüخ\\x11£u‚زئ…\\xa0UwB¬ُrfH\\\\&شv(\\nzح.s\\u200dـ•vtفà«لژ&\\x1byگ\\x18”!q،\\x06„كرٹ¬e._–\\x07…]پ3ل(\\x10غکً[ء\\'\\x05غ2ƒك2،¦ک\\x11ح?›\\x04Oâآ\\x15ê\\x0fU&ëں¼ع)(\\x17ê\\x7fّح=ب\\x06ت@¹¬\\u200c6ژo؟–¢nَP.Œم7¦¶زو¾ٌY£إD|®W,\\x06\\x03%u\\x0fu~Hy>\\x17ْ5Hjb\\x19شH’o\\x06ٹةu\\x12“«/ْdo\\x06\\x19&—µس~xQ•دV\\x7fi´é\\n]ôèT ®çƒخ\\x18~ا£4\\x03â²vZçq‘ڑ\\x1d¥\\x1eؤu½\\x19¤^د\\x14ˆë$\\x10\\x17Œظ\\xa0Œ‹بbصگ\\u200dفڈ.ف¤\\u200fٍ$„(°n§Kأوو^\\n—<éهXِه,ج¬EçY/÷vح@/{\\x10\\x17&ل—©؟p*\\x10×َA·کbظ\\x17\\x13YŒƒيâE„K،{µ\\u200c°ç\\x16“زث\\x04âz\\nز…2 ®سƒµp\\x04لùl؛)ّI\\x19!x\\t·û\\nس\\x1a®+زثƒج،\\x0cˆ\\x0bçٹ×ث¸؟M\\x13?¼ü]@Xڑ\\tٹ¾\\x05ï¸×gƒج،\\x0c}ثع)‹مھس\\u200e7چzôô-ش[D¥ّؤeUر·NOكآï\\x16=vEd¾)<X\\x0b\\u200eْŒ©yvH±ü&ہر¤—\\x15ˆ\\x0bر\\x10\\u200e|`\\x1cرcWD\\x16م\\xa0lc$إجjûظ÷ضùغPس(qORP.نڑس8âƒN\\x06تeي´u…C\\'<„0¹\\x0b%i\\x12E\\x0eN\\x05هz>¨\\',&!عخ\\x19(—µس:ے‰¬ط ô\\x06\\x1eG9¬\\x15~\\x0b=¤ں;:ي2ّ-k§ظ8X€³ë5م·^ژI)¯×7ّjt–zü\\x16~ù\\x18fTD\\x16ثں³چ_pjM\\u200d0™ؤµm\\x08ںY?A)\\x12\\x17~5ڑڈxل+\"‹q„0®\\u200fآ\\x17\\x1dï\\x0cه\\x02O.£غ\\x14”\\x0bا¨\\x1fا ،(\\x03ه²vêN\\x00صb°چ9\\tù›z\\x0f؟ءWأإن\\x14َ†‹B¸\\xadfH\\\\X6½b¾J•O«…\\x05ùڈp\\x148\\u200cp…\"\\x0emçٍAw\\x1c…j7Ud¶کھP›„\\x1fhض\\x03\\x07ر£غ¢ü†$أٌة\\x04ظq¬Wù\\xa0ï<ûïھب¢َ„كzء\\x1aکv>\\x14BNىhôe\\x1cڑ]>èاءo:Ud1\\x0ezTFّç$ج¨6عtب¯+”أ+hü’ŒFH\\x1b‡²%Udرyٍdم\\twبf«+ˆr™ًٌ¶ژzD_.ںsـرهƒn\\x12BzH\\x15YŒأ9µ‘¤/ ùu\\x1c$ےé+´+²\\tْ2vj—\\x0fْqً\\x05£ٹ,ئء\\x19ث‘\\x15[[jغقإc\\x08“\\x01ے6ژُ*\\x1fô\\u200c\\x1fىèُ£rm§[ظ\\x1c¨ٌ؟(ô†\\x1e—gذط“چFH\\x1b‡ھ$Udٌss\\x10ِڈï\\'WڈI\\x08\\x17¼شڑ\\x1f›ةhڈTp¨JRE\\x16\\u200cg³÷7م0ضFëU\\x10ِé:K\\x1fے6~W.\\x1ftثوا¾£*²\\x18\\x07™ةًiuد\"ü°V\\x1bmمّvژ\\x06:@\\x05”\\x0bdSg&oxi§«D\\x15™wقC¹._\\x10\\x193µ\\u200cîw\\x1fڈڈ»®\\x14pلa•ç\\x0ft\\u200c-J|ه؛شS\\x15j¦\\x01ڑزWê(ڈ@فu:\\x0b\\u200fM)`دلآ—اc§ˆ,¦€\\x140^ê\\'\\x19\\x08¥C}ذّ\\x1fêئ\\xad\\u200dصًoJ\\x17ك\\x1fôû ^$ٹبb\\x1c¤‹÷ءéY\\x1ajs†RDKW\\x17ْ®ôo!cµµؤffùكy†c\\x15j®ؤQك\\u200cخ½¶J؟\\x0f¤ع\\x12\\x14.|\\'™ب!ƒ¥ٹ,~w~#ئ±8»ˆ–ïmjîف\\x0fD<g¢/J\\u200e\\x16عV›\\x036-ثے.ç€َ”ے>أgV»\\x03•ïmم8T5[t@iâآثھ\\u200cے\\x1b\\x1cFë7هٍ\\x05\\u200e¦D²ـt\\x12X)ƒت”ظ\\x08J){N\\x17œ\\x05ىقB\\x17×\\x11^U¨;TûٍœQ™•F;e&|,hZ)â‚ثjs\\x10/ں\\tLWù‚>ةT نë\\x02â4ه_\\x7f\\x16ة[\\u200c v}\\x11ڈà}\\x13!پ¥ٹج7´\\'vل\\u200c\\x1e9ى³µؤ„/\\x04&®]¥è‹Rذ\\x05¢صو#*„\\x04¼«|A؟\\'ژm؛\\'\\x18ق…KخP\\x11زECہ»ً\\u200eن؛\\x0e\\x05Iھبb>طu½÷p4ِyصF›}ƒgزؤق¾¹Y##سƒ¼6¤\\x0c†»^\\x02ن…~±ٌû7«o\\x1eهل5ZCچًoJY{¦\\x17ئ\\x11ï¬Ed1\\x1fdü¾ِmê±`¼\\x17Hڈ©ùPئٍح\\u200eê.L!\\xad\\x05؟ء:\\x02¬\\nµ³\\x13غcvپ-چ6…çقy¥â\\x16¤/|؟{\\x7fئ|D\\u200c‘ }صvع8p!صï\\u200c,ڈ§¹\\x03;}هغئ؟)\\x1dî،_\\x18اà¼تèًزNس}\\x7f،´[éE¯dِqذ\\x15\\x1fRJq\\x17âV=lC\\u200c\\x12|eFq{r\\x17\\x1e\\u200cڈYtsm´M\\x1aRƒ2‡”Râ\\u200dô…Ià‡\\x12|ه:J»\\nu“\\x10بèQ\\x08A،™\\x1d-ً^_xد½و\\x0e‰-Ud~21ق\\x0bw؛\\tق«6عMBçJ§\\x15$ک^hؤE€m\\x08\\x1e\\x08ê،ˆ,:Oةثكم3y¢ھك[;ڈ38s…\\x15¤/´Gê:ش÷¨\"‹qگ==¯v[\\x1bm¶كço\\x1dق‰\\x7fSِ´\\'\\x7fa>¢_ A\\u200f*_ذ\\u200c4؟\\u200e;aچDy„ç\\x0eڈa^WJ]{\\x08\\x18ئ\\x11ڈص\\x04\\x04\\x0c\\u200e\"»\\x19ع!ع\\x11,ô“ط24¨\\x14s!pص³4dٹ”ے]Y¢\\u200dنue,د=K,ےû$ê%£/ت¢ِن/¼rإ\\x0b_‚üU¾\\xa0[A(¥ح™×Q\\x08Yمزô¹\\x11\\\\£+ھg|،اٌjWD\\x16{—جâïw®إک\\t†R>ëŒeŒYicڈûآ8¢;\\xa0ˆ,ئA¾m\\x18\\x0cœ™PzرM\\x0f’ٌ؛7~éP\\x12¸/´Gدث!=¤ٹ,:د9ث،ْ;^\\x15ک\\tِإ†Mx!\\x05م\\x0b.pRءLوْ¯ٹج;ïٌ]H¸قzم‹كّk£ُôے\"I^½ç\\x08ئ\\x17\\x1a!\\x15ـUe}bپ«ب¢َ¤‚?[ب²®-µ\\x1eC+$®د‚ٌ…ِHï†â$Udرyز»ïً(پeمء^ک\\u200d÷قmXé;؛9Z£ƒاƒ½°a£َ1\\x01ِB؟بy\\xadآوجwؤٍX\\u200e\\x19غX€½ً\\u200eڈ’¬ھ+ن„T‘إ$گ²…\\x17rziًŒ¯+\\x15»3@è¦ ہ^è\\x19y²C\"H\\x15Yt\\u200d<ظ?ّ,gژ¯ٍ½يو¶¥\\x1c\\x147Gk¸کب \\x0eُ=0ژجC²\\x07uلG\\x05ىnfط³<*ت¬ث.¢/ت ِŒ¯\\n5Œ‚EPD\\x16َAعّ\\u200e\\nن–ز‹N‹açèm¬ô®§y،اQï\\x16‘EڈIïآsع¹\\x1cمµ“i^غ\\x1bٌµë·4AَآڈA*8„ôW‘إ8H\\x05ƒ\\x190}\\x13dڑ×ِUEَ¾¸cˆ`\\x16ڈًآ$D?|\\x11™w\\u200d‘\\\\\\x08¤ژ—\\x1f\\x16BٌآLT‚@xaT¤‚Cً~\\x15Yt\\u200dT0~ِî\\x00چ÷‡ٍ½ُ\\x0cْ tg\\x19§Œ¾¨Weڈًآ$D?J\\x02لU¾\\xa0غ–\\x08¼œZَLَ؛¶qآ\\x1f$h^ّ~ٹًzEإœ\\xa0yصvêï‹\\x1d\\x1a=îŒًْl=ـ[\\x1eG\\x02ل…/ُع\\x18?D8@\\x13\\x08¯عNë<¢‘GW5»U0آëƒkEf\\x12”Aى\\x11^[Hjآ¥:پًھBm\\x1cس\\x0c£(ڈ¥—9V\\x05ح\\x0bيyإŒR؟q>2ٹ™i^ًSO\\njشïm›\\x1b–Pf>”bِ`/جGt\\n\\x15‘إ!EٹyC\\x06ىى‚Q\\x1amمط\\x13ًM\\x0c_©k\\x0fِآ8¢k¨ˆ,ئAêz\\x03•m:\\x0e6«ے؛\\xa0-؛\\xad\\n´\\x17Fهu4J¾اإ”ٌT3ھ\\x0bgُô®\\x11ذ^âY—ئ!ذ^_ہ\\x00\\u200cس\\x1a®و0ژ\\x04ع«¶س67J\\\\† 0F{]ّ¼„ر)ذ^ّR¯®Qf<v>\\x13\\x04ئh¯ڈ{ûژڑ\"\\xa0ہ€=حŒC©kڈِعہgˆمX§-م÷ م\\x19U؛¢«ژ…\\x10\\x1f³®ز…¶•§عَ¼ذùّrگày•/èM€÷ّپصش\\x1cَ¼pَ[\\'…àk.\\xad<²غî\\x0fعƒى1بG(\"َم¨\\x08ص\\u200cًFŒضج\\u200fdùm\\x1b×gâ\\x1d\\xadشµ§|a>¢z(\"‹qگ\\x1d\\u200eFn\\u200fىXe*طُح\\t5\\'(_ک(R×GT\\x0fEd1\\x0eٹ\\x08C}ةءةDBً÷e¼¨7Tk¸ک|l62Râژخ¼&3µë\\x1d2تٌC‘\\x1e‡ٌگy„½±Zأ¾ûذى#”عہWf\\x1e“™غ¥ت\\'ص\\nحz¼\\x7f\\x00àص¯^گ=çk;¸L!.«Ed±jبvV»²v\\u200dففًr$V؟@~}Q\\\\إëهAnK\\x02ùUغizYXd6ژزh»ن\\x1dccƒوC ؟ً\\u200e¤¢\\x07¹-\\tنWm§³àzgXTرLےْ|ژL\\x18ک\\xa0\\x7fلû½\\x7fû\\x08\\x058ھب|]1ح\\x0bïw\\x0cإ®-5\\x15ٍ÷ثؤâ\\tن\\x17عَfôر!èىe،ˆ,:O\\u200fm8 ¦ءµLے‚bث¨\\x04Aےآ8ب¢\\x1ed¼$è_µ\\u200cç÷}ںےہٹ›0\\tH~{!ضhد¸V\\x05\\u200e\\x0bيyW7€VA;\\x14‘إ|ô*\\x1aمطQِ:\\\\؛\\x1d\\u200eë\\x1a,زص2\\'“zWِ °ي\\x18d¼$@`ّ\\x11z•{u¾/+_ڈ#\\x12\\x02d§ف¥:ھ\\x03\\x1fGتvِô/t>^V‹بâ—ïu.:\\x0fâ~¼i;ن\\x17„~g_wV¾ڈك„\\xad‘bِب/t>؛V\\x13ب/üٍ½¢½ُْ\\x06\\x17aà¯®“@ٍ(x”ٌê\\tن\\x17¾ںlçAخK\\x02ùUغ©غxt’ِjùZd`¶&,5\\x01üB5\\x0cRث؟x)M\\x00؟j;µëًذإُم(_è<B©؛إ/ںِ\\x05ه\\x0b_J؛8Tm©\"َإï¨]W؟„£شض\\x0fثC\\tب×qپِBدH\\x01‡ز UdرùقFVاژc{ف#t\\x04\\x08ُ´/0_è\\x19)à؟ّ––ہ|صvعٹ?fإ~¢üر½ئذ‘)(_hƒ”î ¹%Aùھي´¾#¸4(+‡ِ؛5ZW3„{¬,`دَعژî\\x15ث®;\\t\\u200d\\x17zLêُ7pi±ج\\u200fëمëن£پہyل;ةê\\nُ2ھبb™“âüء؟:{4p8¯ë‡GجTâ\\x05Jà¼ذI2€CéŒ*²\\x18\\x07)ZT$ڑوg:œ×}à\\'°dè‹rR{œ×\\x15\\x06\\x14®j\\tœWù\\x02َn=\\x17†©Wبل؟\\u200d»CS\\x10¼\\x11”1\\\\XZ\\x16\\x0f\\x02pvى|ئIيک\\\\èجUP2n]RµH\\x0bةXہ‚ل…$\\x06Rµ،èD\\x15™¯ ان؛:\\x0füخى¶أٍ(غگ\\tت\\x11\\x0c/t’´.\\x17A‚G\"ءًھBُü¼ق؛أ$8p\\x17\\x06‹\\x17üa¶\\x14\\xad \\x01îآ—’ض\\x1ddE$ہ]µ\\u200cعy\\\\م§A9¥ر6Xنة&Œ\\x16\\x01îآ÷“\\x02\\x0e¥\\x0fھبb1ُ\\x160~_شں‹Q\\t\\x0eـ\\x05!D“\\x0e\\x1f\\x08y\\x12.E;؛÷\\x17*Wفئ،ق\\x01:ے(éEç\\x1f،ْ£¾ك}فًءb\"yà£ضèeôEéeآy\\x1dƒ\\x1cƒ\\x04خ«|Aw–¾ل1ںîhزمغg\\x0cûوùP\\x160ل¼p-\\x0fاj\\x02ç…qگژFü^¼\\x11±\\x10ـ×فF #ٍے\\x00\\x00\\x00ےے\\x00\\x00\\x00ےےŒ][®67nـتہ\\x0b8س÷K`\\x1bˆمچ\\x0c‚\\x00yJ‚ج`²\\u200eTw‹j²(¶ّ=\\x19\\x16\\x7f\\x1d±%±Hٹ*\\u200eْ؟ے\\u200e\\x7f\\x7fùكك~Y†sےه/\\x7fےں؟\\u200e×ك\\x7fûeü—ه—ك\\x7f\\u200e÷ëےےkiّي—\\x19ےëں؟/س1/؟\\u200fُں؟ےْ×\\x7f/\"\\x7fT‘ه—؟üم·_\\u200f~\\x0b®Vèكھذz7ڈçد°NاP\\x7f£•ےسثڈû´\\u200cï¯تے\\x15*ü\\u200fë«ا\\x11éq5h=èO^z<\"\\x1d=\\x1e،ھا¸ں‡\\x1f<\\tMçْê:LلàدhًWƒ\\x1eüà\\'ل\\x11é\\x0c\\u200f\\x11z\\x07؟ح~ى$3ي«\\x1aüûصى‡\\x1f‡،=ِ§Aچ}:yى\"ٍ9v\\x11R\\x1f~Uëءحپ“ںخij-8ضcŒô¸\\x1a´\\x1eô\\'ےXئل\\x11éèٌ\\x08U=¦uo\\x0c\\u200d„و}xgٹG<E#¾\\x1aôˆwےه\\x1f‘خˆ\\x1f!5bڑآ?،:ةجûq¾_;Zٌم0Gc؟\\x1aôط\\u200cظy\\u200f-l×—ظ\\x11،:vىٍ،eFnswéٌüف*؟N«’\\x7f\\'ٹç\\x00£h™دq¸\\x1a´\\x1e´ل®Uَˆtôx„^=–ئ¢!™uغSs°Fc؟\\x1aôطكi¼?×5ِG¤3ِG¨ژ}›ڈئ\\x02\"!X\\u200c%³€¶hًWƒ\\x1e¼³÷مًˆt\\x06ے\\x08½ƒ?\\x19\\x01¯UCBا8\\x1d}°\\x1a‡\\x00tں\\x06=xgïE¤3ّë\\x0füِ‹Zحأô¹ْI~[ض¦<¯\\u200f\\x00tاپ@wlX\\xa0\\x04èJ?ïê?\\'mü\\x19أœü\\x16أV\\x00¹م@گ;nقx& Wْy§`ق¨§k\\u200e\\x10وn0;پ“0ژ\\x11ذق\\njرŒن„a»\\x16‘ïES„ش¢9¶\\x0fOM:}wب²\\x01|ه\\x17~ù1\\x02ع»AëلM\\x7f\\x11éèA\\x18؛,»Zجق|–N_½·eIlâ1‚ك»AëلM\\x7f\\x11éèAذ؛Lك‹؟tْê±l\\n\\x06âùˆ\\xa0x$(\\x1e½1*\"\\x1d=\\x08Z—ءy\\u200ecéH\\xad½p\\x1bDˆ;\\x12â\\x0eقك,\"\\u200cل\\x12ڑNغطüŒâ9”Nëذç\\u200e|\\xad\\x1d\\x19ج1‚ـ»A\\xad™ء;™E¤3xBسل\\x18ç/أ_:\\xadƒ\\x1fد3م,ڈ\\x11ْق\\nZ\\x0foّ‹HG\\x0f\\x03¬اد±¯ك“@ٍç¹¦lQ\\x04ؤم\\x03ˆ5ْ\\x1d<\\n\\x14‘ژ\\x1e\\x06X،ا8~\\x02qé´جاٌsخg\\x06ˆا\\x08ˆï\\x06=\\x1f\\n[”\\x01âزO\\x1d×¶ء?ژ£ّ‘ه÷}\\x7f\\xad9oٹ\\x08ٹG‚b\\x15@‹\\x1fZD:“`Pِّظئ\\u200c \\x12P\\\\zھ\\x1aîَ>\\'ذlٹPùnذ_قû،Eن{ًE¨ژ\\x0bغ¹¹²إ\\x1c±ü:N\\x194›\"T¾\\x1b´\\x1e\\x1e\\x05ٹHG\\x0fƒتûد؛أض4ٍ:U\\x0f’كژ=³£§\\x08•ï†Wڈ\\u200eôًPD:z\\x18Tق\\x7fو¥±کJOeزِ\\x1f qè×M\\x11\\u200fق\\nzؤق\\x06\\x15‘خˆ\\n\\u200fîبہ\\u200cحŒZ\\u200eٍ$?îَû\\xadhïN\\x11\\x1aك\\nzًق)-\"\\u200cء\\x1b4ق~\\x10إ\\x7f¥\\x0f±طuن\\x03e\\x01ك‘+1Eh|7èء{O´ˆt\\x06oذxûظخچً\\x10†§ôTضتvA„ڑ\\u200d0َ0E\\x10|7èء{“_D:ƒ7گٹءï\\x07ه\\x01®ء“\\x10\\x12\\x0fM_›—M„»“إف\\u200eô©‡\"ز\\x19¼ء]\\x0c~>¼م_zھ_~_w•\\xadچ—M\\x04¶“چz‘\\ts،c\\x11é\\x0cقd‘¯ءë4rc\\x12H~_t\\x12\"ق»\\x11îN\\x16ww\\u200ft\\x08(‹HG\\x0fƒ»غدٹ@ج…ى¥§:\\tغڑٍـو\\x08wï\\x06µü\\x0fïپ\\x16‘ïء\\x17،:®ُـ}üخBûp*°\\n÷î\\x1cپيف\\xa0\\x07ïM~\\x11é\\x0cق€çِ³\\x0fGس™\\x11“_:U6èج„ژs\\x04¶wƒضأ[ے\"زرأ€-ôک\\x06•\\x1côadéôص\\x03îs\"™8G\\x10|7h=¼9*\"\\x1d=\\x18‚çé3œ)\\u200cVےa\\\\¶fق‹جê\\x1c،ٌف\\xa0ًُخh\\x11éèAè:c]}9q¥س×\\x0fآi^آ©\\u200d#`¾\\x1b´\\x1eق\\x19-\"\\x1d=\\x0c0أ\\x19\\u200cچ7êŒTé´ê±\\xads¼¹#`\\u200dmfzك=<\\x14‘خà)ض\\u200c‡ه{Sگü2¶ci^L\\x11Fد„ر|Œ\\x05x(\"\\x1d=(6†ه\\'?\\x0b\\x0eFéé\\nثِ-\\x13\\x10د\\x11Fك\\nj\\x05±َ~\\n>\\x13\\x10\\x17،7q2\\x0cںa\\x19ثOS*ة8G\\x18}7h=¼‹ZD:“àN}چَàw\\x02ةدا\\x12:JK„رwƒ\\x1e¼wQ‹ب÷à‹P\\u200c\\x04\\x1cZ4c]پ9–ك¶TL¹Dp}7h=<<\\x14‘ژ\\x1e”±قگôiءVصƒنڈ\\x19é‹nچؤ¸Dp}7h=<<\\x14‘ژ\\x1e”±>ئµiî«\\x1e$\\x7fآ&&àz‰àْnPzl>‹ZD:zh¸\\u200d†ںqY›n]صƒن§]\\u200cءگY]\"Œ¾\\x1bôà½مZD:ƒ×\\x18چءOغ¢0عGA¥سg\\x13A~\\x19Rرأ\\x12aôف\\xa0ًُ>l\\x11éè،1ْڑ„C§-\\x1azگü<OHٍش_”\\x04X\"¸¾\\x1b´\\x1eق‡-\"\\x1d=èŒّ\\\\\\x0eW|\\x03ےN¥-\\xa0,و م¸.\\x11Fك\\nzً\\x1e\\x1eٹHgً\\x1a£¯qmا÷ژ&ùi:UL\\x1d#E\\x04×\\x0b…ش*™#)à\"زرC‡ب×bڑN\\x1fح•\\u200dêNک¶9<ةY\"`¾\\x1bش—_½—WD:#ض@{چ\\x18\\tS‡ئ¥§:b¸‚a¸؟Fh|7è\\x11{«YD¾G\\\\„ê`pشٌ¹VX~ز‰\\x06²ڑk\\x04ءwƒ\\x1e¼·ڑE¤3x\\n©×B_7\\x7fFPzz\\x17\\x08’؟‘]Y#°½\\x1bôˆ\\u200eض,\"\\u200c\\x113x\\u200dأgŒ_:}§g;أ#™5Bط»A\\x0fق{nE¤3xBجaڑ¾\\x07د\\x08;Œ™Sچ5\\x02غ»Aëل=·\"زرƒہv@ھخيززس»lئ#´„k\\x04«wƒ\\x1e±÷رٹHgؤtB|Lںُ¸cé´ْطç©ف‰طعD°؛R\\x14¼ْ\\x10¾ˆtôàز«Sںsy÷\\xa0tZ\\'aطغ±\\x02\\x1b\\u200d\\x08aWٹ‚•%\\x10d*\"\\x1d=¨ôêـ¾\\x03ةزé»چ\\']\\x1f\\x1df%ض\\x08aï\\x06µ®\\x16ï®\\x15‘ژ\\x1eTْ¼چ(oْ8!.\\u200cضuµ\\x1fKَ`‡ç#آف•’ض‹w×ٹHG\\x0f\\np—yj,&®غ\\x1aشء\\x0eچx‹p÷nذ_ق\\x03A\\x11ù\\x1eq\\x11R©\\x08ںeg™yTI}\\x1ep„µغƒ‘R\\x14±/قّ\\x17‘خ€Mّٹ\"\\x07]ںإç²ب\\x01•N«‚س¼g*س·\\x08پï\\x06\\u200eل½\\t*\"\\x1d=\\x0c\\x02Cڈeِئ؟ôôخخ©ê\\x00ùثG°»ظR,} +ئ¦ˆtFlٍذWYچٍ\\x01$ڑ-=½#ق‡شçژ°v{0².\\x1b•:\\xadƒ\\x7fD:ƒ×X;bًث¤²\\x1e~“–؟«ôط2\\x15\\x1d[„ہwƒZ6*8¨zdت¢K?e\\\\X6ëü\\x19\\xa0[ùَg\\x1eçش|D\\x08¼\\x11\\x02دچmüˆtوƒٍتاy|fكتكUغ¸يyً¦ˆ\\x10x#\\x04\\u200d½\\x0fWD:z\\x10\\x02#×َyU\\xa0tZُ@^\",îط\"ط½\\x1bôbٍî\\\\\\x11é\\x0c\\u200daWgـ\\x1a…–¥س×\\n\\x1aمjإ-آع»A\\x0f¾a@\\x1f„ى\\x0c\\u200dat\\u200cü\\t@ùcjؤ‹Z\\u200fل\\n“=‚ف»A\\n¾q/©ˆ|\\x0f¾\\x08صe°\\xad|ش\\x0cè2BWX™غ»{\\x04ءwƒ\\x1e¼÷ضٹHgًœq^‡دZïزé;\\tGت\\x06ي\\x11\\x04ك\\nZ\\x0fï\\xad\\x15‘ژ\\x1eœq^\\x1bE*¥§:ّ\\x19‡\\x16Qط¾G\\x10|7è\\x11{o\\xadˆtFLصذا4û¼Né©ژxآe¼D.sڈ ّnذƒ÷&؟ˆt\\x06o ّDeٹ*ë\\x14ے،ôT7ئ‰¥ٍ\\x0e>ŒPِ\\x08wï\\x06=xoç‹Hgً®6zٍ‰طزS\\x1dü²د™£•=\\x02غ»A\\n~ôéہ\"ز\\x19<…»أ‚|x\\u200eyç§tْê1¨zxBط=Bط»A\\x0fقg\\x06‹Hgً„°›·ٍ¥ں×ہؤ\\x01ص\\x1eaêف\\xa0‡ësپE¤3\\\\آشi@)×G©jéôE‚iN\\\\Yئ\\x05âà\\nغف\\xa0ُh\\x18ù\\x0c¼–~ê¸®ƒ\\x1d—œb!,ّ¦÷Ckوˆàُnذƒ÷»µˆ|OB\\x11ھƒG9ِç$°<’\\t،‘?\"x½\\x1bôà½WVD:ƒ\\'xإEAےهKOUأu^Coوˆ€ônذ#ِ®X\\x11éŒکcY\\\\wüJك”N_û²,™آد#‚×»Aéر¸½SD:zp„»M¾ن¶ôô®-ىŒDYز\\x11ءëف\\xa0\\x07ïيd\\x11é\\x0cقہ+\"ـaےôتJ§Uڈi;2†çˆگِnذzx¯¬ˆtô0H{üàX؟\\t¢â1”N_=’6(\\x02فƒ\"\\\\e\\t$R/\"\\x1d=\\\\„«دئ=è–Nكu¥î½²\\u200eŒ0÷\\xa0¨Vفے¯c\\x7fD:c§êھ\\u200eà\\u200d\\x10\\u200d”?V\\x07<¢V ³\\x11\"\\x04>è¸¶qc§ˆt\\x06o\\x10ّّپWï3k¥§2xنQ@ô\\x10¹ُG„µwƒ^ٍ\\n‹ںءعزO\\x1dجٹذïثg`ù\\x13—’¢ءں\\x11ضق\\nïà7f$A1[\\x11ù\\u200fـE¨\\x0e\\x1e)ïدٍT–\\x07\\x15J&#uF°{7h=¼مVD:zPb\\x19ر‰ك¤¥§ھىql™\\x12…3Bà»A\\x0fق{kE¤3xBà\\x19iژ¯\\x15T:}—?j\\x1aآ\\x15\\x14ءîi\\x13ثْHX¬M\\x11é\\x0c\\u200d`wشv¤‘†*\\u200cضءïوڑj¬G„ہçƒœ’cقN؟چ‹HG\\x0fƒہ(8o\\u200cç–\\u200dتàq\\x05ىˆ/7\\u200d\\x11ضق\\nzظxا\\xadˆtFLwŒf\\\\wwN~é©ژxXژw•\\x122\\u200c\\x11ھق\\njؤچë-E¤3bƒھغ\\x0f\\nµ>O\\nK§ïàOuFةƒڈ`ُو¹زƒ÷.Z\\x11é\\x0cقہ*\\x06?êzن†µ1ٍûدx®\\x19\\x17ي¦¤jذrچ…«ھ.ôئُ–\\x0c\\u200c•ôS>*î\\x18Mعulèa\\x10\\x19\\x15َ“¦i\\tث\\x19خ\\x08wï\\x06=\\x1f>\\u200cVD:َaRبûu{خ§سJOصعl¨jè»9(^j\\x07èOƒ\\x1e¼K§‰بçàEèµ‚‹JL\\x16çک„خںuœ\\x13\\x17a§›“ھ±‚\\u200d\\x06=x\\x17\\xa0‹Hgً\\x14مF×\\nھ\\x1e\\\\´\\x0c\\x1b”™„\\x00w§آ<ُî\\x04gٍE¤£\\x07لî8·ڈ;«\\x1e”r\\x1e¶-AX4EŒWOƒ\\u200d\\x0f\\x07\\x04\"زرأ@ًu§\\x05%.qضJ:\\xad‹o<أ;-¸u\\x15ي\\x04آففynد؟يذu‰P\\x19جْ3 ٍe\\x14sB\\x072B™\\x15\\x14@ًTH¬ê\\nâ?ùا\"\"\\u200c/¯!ّü9¦]-\\x08fٍّ³vْ(\\x0bùuز—¨¢¬صt“M5w´\\nw7\\x7f§هù·فIذہ|\\u200f\\xa0\"G]‡\\x1dœW!\\u200cV=گهRے râگMچ\\x16“\\n}7>[¸و#\\x11ْٹگŒ\\x0bق½Vؤءƒ“7ذ6Dg»سMrصœ\\x0f\\x1b\\x05o{\\x03\\x1e\\x12wŒ\\u200d? ,^کڈةشة4ِ‡ئhب¯«>4ٹ×U€ر\\x13Qa!Lâûج\"زظ\\x1f\\x1a£qh´c\\x1eكںَ5¤S™?„µْ^v8\\x1f\\x11A\\x16¼KC\\t·q.\\x16ë*Cگ%Bu\\\\ک\\x0e¥‡;Krٍ\\'r0ï/ـ\\x1f\\x11AضD\\x04Y›؟ق\"\"كَa\\x08¯0\\x1f(\\x01P@ل÷9ث/ع{\\nYM§ˆ ëiPˆا¤\\x08×|< غرC#1ôX0³ïد\\x15ءI§j\\u200f”#\\x15\\u200d\\x16L77Ukں\\x13Aضئ\\x04o—\\x1e\\x0f(wôذب}\\x1dھ\\u200dzك6وƒن7…؛6\\x1eڑnrھوط\\t¸™\\x10ِ\\x1aû#ز\\x19û#TmيtèLocOگü\\nj”÷\\x17¥ہ¦ˆ8ëiذkة{³\\x19â,éçص\\x03ـ|_ق“!خ‚\\xad]V½‡¢xhٹˆ³\\u200d\\x06\\xad‡·µ\\x19â,é§ê±کïë\\x0e،œ¼خ!ٍZٹp›ب²pUفلD†,k2نWّ¦(ٌWِزم6ث/:0RI\\'ض#ب^OD–µ\\xad.“\\'\"\\u200c=A8¼éKï\\n\\x7fذگeAoن7R8\\x11ل6ٌfل^µںڈDN\\x1bص•êR\\x1aئ¥¯CI4ؤ2ا©\\x0e\\x10”®4\\x07\\x11m\\x16n\\x0cY¬و+ل°K\\x19ع,\\x11ھ¾)bAµ\\u200c½ïdh³à“[\\x02ش\\x10«#ع¬‰h³@\\x18àو C›%\\u200eT=\\x10َ|ْN¥S‘G%£ِµ¢َ‘)¢حz\\x1a”]RGش%A,\"ك{آ0b\\u200c?8ھرمٍ{›ه‘\\x0bWz‡8\\x11‘iلz‘]W|0p\\xad«\\x0cV\\x17،ْ}ء.\\u200f½®,Vںëھc½\\x10\\'\"^-ذ\\x06گ\\x1e>àخًjI?ï؛ز\\'ح\\n\\x1bexµ0\\x7f£عک¼·£x›hµà¯ù=‘(\\xa0\\x06\\nھ±K¸Pغژ\\x0fؤF±<x\\u200dڑsئz\\x04‰p\\\\¸،9ً>G†aKْ©ki68ل\\u200e>C¶…9طp¼×ٍQXڈ\\x08·‰l\\x0bفùùبؤغ†G\\x0bمBx÷é;±¼=ü‰mT„غؤ»…tœ×#\\x13o—~قù0{µپ\\x19\\x16çOأ‰\\x19ا\\x137مUث\\'\\'ق-ؤ\\x01^ڈ\\x0cn\\x1bJ-ج‡cڑA\\x0eتزn،0yبذnل’fگ»!ع-ً\\xad¹±gh·\\u200d?ًو<گ“lاh²·\\n\\x03×µ\\'LŒ\\x1dو<\"\\x06.\\x14مع½ح7z€\\x13\\x19\\x06.\\x11ھki5t/®کءة[œ\\x0fs\\x1e\\x11\\x03×D\\x0c\\\\›\\x7f¾ED¾qغ0jء/عuY\\x18—w`]±<®‹\\x06‡زSؤ؛ُ4(ںأ_P\\x11‘خط\\t{q9÷س.\\x19ض-¬¥ظ”\\u200fئz\\\\گـعدؤ؛µù\\x0b*S†uK„*Vںƒِ\\x01\\x1bkةئط¨½زٍ±\\x1e\\x11n\\x13ëضئ\\x05ë×\\u200dبà¶aرآZ:ہVً\\u200f¼}%ù‹÷6ƒw7‰Vs>\\x08·ùbç¥Gââ“\\x08ص½چ\\x0cF3^«6توصدS\\x1f[ؤ1زM}صشƒٍن\\\\لxé‘ءmأ\\xaduل¶ظغچu¥د²/\\\\1E\\x1b!nG\\\\\\\\\\x13qqm“÷?2\\\\\\\\زO\\u200cڈS×\\x130s÷e£جYِu)\\'C²چCڑhں?\\xa0\\\\د‘&ï\\x7fd¸¸\\u200d?\\xa0°oص\\x07¤-=l|ژ\"¬ِثHن\\x0fF´\\\\\\x13رr!/ى0<Cث%\\u200e¼±…Y\\'>\\'hh¹®ط\"·د#Z®‰h¹¶رû\"\\x19Z.éGإقع\\x17ٌ\\u200fyé´®C°\\xa0+{ُêحَ\\x11\\u200cp\\x13-—®\\x10”ط;Cث5\\x15،ھاnâ¥ئ|ط¼:àFçt¢آ،)¢هz\\x1a\\x14\\u200dڈ®ضCD¾ٌ¼pwU=@كِ‰\\x1f,\\x7fâ\\x11¨D¼\\x141tپ±دْ†£دéd\\x18؛¤ںھاj^‰َ8h\\x18؛.ـؤµي÷\\x17]¨ڑ\"†®§Aد‡ڈ_3\\x0c]زدë—کœ¹?×+\\u200c¾ûأِّ±\\x1eQ\\x1cN\\x0c]\\x1bW\\u200f\\x00\\x073\\x0c]\"”×ƒً\\x1ct.حœ\\x1cïَ(\\x0e\\'².¼¢ميn\\x06دK?ï÷ف´ك×طç„ç ™m\\u200dg²\\x1eQ\\x1cNd]\\x1b—\\x0c\\\\َ‘‰أ\\n\\x0f×xإ¦|\\x1b\\x04 î„&Uَة#ژگ›ب؛6ےج\\x07HeîMك±LŒؤ¦\\x12¢±\\x13Lصع¥،\"Q¥ءG¼]x€أڑ#U© ًگلي’~\\u200des}î…‰=ً¹\\nY×%„µ•°¥\\x11o×D¼]›؟¢!\"ك_قPr]م\\x1aُ\"ِye\\'؟dˆ¤¦ˆحëiP¶ش_×\\x10‘ژ\\x1e¦ھ\\x0czجي\\x12E‰)\\x0c›×=\\x1fت[م\\x15\\x14T\\x7fOؤو…S\\'gx2l^زد»‚&ے6ھ\\x17Bv-Q½\\x15Qx،Hا,\\x7f¸¾~ًڈHçثS´l®\\x0342ل†حë^qلµ“)bَz\\x1aقe³ْ›\\x1b\"ز\\x19<¥آ»ƒ7صâ×vù\\x18|„»Dل\\x05f|ےه3q´،ن‚_sڑغkقj’ü9!±ù\\u200fآ\\x1cظحکصٹ£‰آ\\x0bد¢x=2¸k(¹.=†ï³-’دوg\"\\n¯‰(¼ضسû¥\\x19\\n/éçچw:ù\\x19Cل…¸-\\x19\\'ـ4\\\\حù°qôê\\x1fےہ\\x03x\\t4.Bص\\x0f2üè\\xad\\x1dMè\\u200cجûEؤ^\\x13\\x11{\\xad\\u200f2ٹˆ|onCع…u5ڑzLڈm,\\x0fو,µ?آ¼كM¯صڑ\\x0fâû\\x02k¼غ\\x1f\\x19¾/¼ہcخëژQك\\x16kنگYق–°„û<âûڑˆïkُ\\x17WD¤3\\x1f6.F¥“I(غڈ\\x03ںةP\\x7f]5\\x05بx¾؟ً\\x0cûوكjخ‡=أFzبدGو\\x0cغ\\x10|a\\\\›©?ِus,ںŒ?o\\u200f\\xad¦\\x1e„ـ‡¯O)ـ]\\u200cùà<·~×\\xa0‘/3„`W¾س,¬0\\x7f\\x19\\x11‚MD\\x08¶ٍه\\nؤ;E¤£\\x07پّˆ“؟÷ç¸2¤سjك\\x16<9™ہء›\\x7f«9\\x1f6/¾2?ُ¥G\\x06د\\nء×چƒكç\\x14$ںإء›\\x7f«©‡ح‹;*\\xa0Kڈ\\x0c\\u200d\\x1b‚¯\\x0b×f}Nلمh–ںq؛ْ\\u200fâ}\\x1eإرؤ\\n†j\\x05؟د3q´لْ؛î%کzeںgbypBEgw\\x115\\x18¸H\\xadWî\\x1f\\x07\\x11‘خ\\u200d\\xa0ع³Y؟-جءâek¹VM؟‰\\x12×(G,a\\x13±„\\xadچ‹-\\x19–0éGِêژµ،0ہدپ!\\x0c»jî\\x0c\\x1b\\x7fˆ}\\x11a\\x18^\"\\xa0ùًک‘!\\x0c“~ھ\\x1e\\xa0îkع\\x1c‰O\\naطu\\x17ءن–آ\\\\_D\\x18†«\\x0f¤‡اŒ\\x0caکôSُ\\x00†«ùًg^†;ىھَ5\\x1c‡a]`D#6\\x11چطت/¢ءFehؤD¨êqh.Lدmدٍا`rب،چٹ\\x18إpإ‰وأںفe\\x18إ¤ںھGô}ë؛²کڈgeُ~\\n}ـˆ\\\\\\x0c¼j¤‡÷q3نbزOص\\x03‡نں\\x18nxئ®ڑ_<§\\u200dب†D<c\\x13ٌŒل’±أŒ\\x0cدکôَ®«\\u200eûŒقًŒ]1ٹ!-\\x08د¼\"ت1„ôv>\\x1aw\\\\2”cزOصcoّƒ†s\\x0ccW\\x13€ےŒ÷D„غؤ?و^\\x10¸ِv\\x06·\\nںط\\x157کَذ\\x06fط:4ن€ôœإzDYqâ\\x1f[™®يز#\\x13‡\\x1bj±ëûڑْü†\\x1e\\x16أٌھ‘>?\\n\\u200eَˆٹ\\x0c\\x10EkةçE2TdزOح‹Lْ\\n”ئ½HCEvفï4qIXَ\\x1b±’لJ\\néلدë2¬dزد»·حم}ق¯5\\x04e×قض×\\x12â\\u200e\\x11q•ل³‘\\x1e\\x1e32\\\\eزڈزCïـ†\\x1e\\x1c·\\'ُˆزوؤU†k–خضf¸ت&CCv\\xad\\x13soطال,\\x7f\\x18ں8ô©\"ع²‰hثـَ{طç\\x19ع2\\x11ھû\\x03—\\x1d\\x14ِ5وأb8\\u200d:jû`tŒ\\x11ر–MD[†ƒ\\x13?\\x1f™ْ4CCv\\xadwَ(¤¯÷`ùإذDئِ*ت«\\x13m\\x19x¨½\\x1e™8ـذگ]¾\\x05ط\\x07ك_c>ىy6¬[ê>ْM\\x1eضٹأ‰آlmـµ(\"ك1\\xa0a\\'»|ïي;\\x0egù]s\\x14«ƒ9^W\\x11\\u200d\\x13›\\x19\\u200d/َِ‘ءsCTvإل\\x1d~\\x00–كًbûû‹÷y„çؤq¶ْw\\x1bہ÷•ب«[خ²»fـ\\x07LNh\\x0e\\x1fرB:\\x02\\x7fµµ‚ˆطl]<âeˆح\\u200d?\\xa0*êجSx\\u200f¥\\x1e\\'oقaŒ³!\\x11±\\x19J\\x12,â5nXdˆح¤\\x1f}ہْإخéه‘؟HD\\x17\\x11ا\\x19.9‘\\x1eقآf8خ¤ںڑ¹Djيس2Yژ³»R3Cـs³‹5×\\x15eذ\\u200e\\x13\\x0eS†îL„ھ\\x1e£ة\\xa0û[¶†îىت<kٹ™ّ¦êM4ضشƒ¢ïظgu2tgx.صœجœِض£÷ذY~77گآH#\"A›ˆ\\x04\\n\\x0c¸خآfHذ¤ں:\\x1fàKo\\u200d´H\\x16ءً،a>V\\x13}‡QkDچ†ا\\x04ي\\u200fhـ¶بP£I?U\\x0f°Y}f\\x11,5عe‘أ×\\x1cً\\x10cdl)نn\\\\·بP£=\\x7f@\\x1b[\\xa0ت×1Féô5\\x06:“\\x13²•£´$زمءb)أ\\x06ے‘_L\\x19¸.üi¯±]\\n\\u200f؛c>\\'ڈ‹زQق<âCأپپ]A\\u200fU\\n\\x11ùِ™,صظ]§ُُ°\\u200dtْ*{ھŒ‹u”ذOûث?\\nھڑإ_¬\\x10‘دء‹گٍْْ¶³;ًٍِHk\\x06_~ژّذ\\u200d\\x06=xçه‰Hgً†كىھàْ|FF:}•ف@œً\\u200fB=‚jٌ™ّذضةa‚ˆtôàJ4ےî¨tTاژـe‚7xژ8ذ\\u200d\\x06=\\x07.S#\"\\u200c±َچ/MRè+\\n¤سj‚fs\\x03&آ3¼²\\x1am\\x04آeU\\\\UJ2ں\\x7fغaâ\\x12،:®aض\\'ٹ®2تةأH*ü‹\"Q\\x10فEzPVـكجy\\u200fmW\\x0fbFأc\\'حJé‚ثزéëW\\x19ض†(»?GجhOƒ^W\\x0e\\x12D¤³®(B\\x06ُز—ك*\\u200cضŒ\\x08®D7،گ\\nl\\x00ر`ٍ³èàoوˆHG\\x0f[ٌ}ط\\x1b_چuEٍ¸\\xa0®ôˆ÷G\\x00رَM™¦وclط¨\\x04DK?¯؟·j\\x7fدùكN~5\\x15\\x13\\x11Zم!Œh\\x7f\\x10Z«çقë>ODشد\\x1fx]¦c\\x07kّûs\\u200f·“?\\nSTt:Œ´{\\xa0\\x071£\\xad\\u200ffخَo{û¼ôَ®w½ح}†\\\\:}çدœp„ë*bF›‰\\x19\\n\\x14©ىْ‰ب÷\\u200f ¦³sü¾I(\\u200cV=rqف\\x1c1£=\\nz\\x7f¸¼‡ˆtô\\xa0\\x1b\\\\×CdïدïڈB·Vُط\\x07-\\x1fْT\\x113\\x1a^(´ِت؟و!\"\\x1d=\\x18دMصپثگK§/\\u200dkڈJ\\x15ˆ“فچXزوBپVC\\n.\\x1e\\u200e\\x03”S\\x0fنwô\\xa08\\x1b…خj>\\\\FV:}}أQ=Œاƒڈ@¼P”½ƒ÷ژm†\\x1am6TgWء;ب\\nZژھ€¸“_q(\\\\\\x7fرٌ\\x17ˆ´##Eءµ؟¤َüغ®‘ز ~كs1uZ\\x1c×I§ï$(Gکç \\x02n¢FC$é\\nS¢$m6Tg÷¥\\x03د\\x14ي…\\x16U9ئ#ژ ڑHذVے„\\x07ژeïففYٍْPْ\\x1a±\\x7f{J:zأ\\x08شE\\'B\\xa0›s¬‘\\x16أ²$³م\\x0e\\x18E¤3v}\\x10چ±ڈƒ؟\\x11%=½ƒ\\x07ڈ}\\x14´Etg3ر\\u200caں¸ُ‘،;“~شZ\\u200e¤خsٍم°&ب¸Aش\\x1fىQ¢;أ9چ×م‰ڈ؟؟¼،/»؟¼©aw{شة#„\\x08\\'!ٹœ\\x0b×ک\\x18تإ_ئAص^bة\\x1bخ²{ً`\\x16hDôb(\\u200c<ٍ\\x7fلàƒأè™ˆح\\x16>ص\\x00DeˆحDH-gے^گ\\x17Zc›\\x18QکحDa¶ً\\x13ش×ˆ3\\xa0j(ة®د½ں_¯eI§UCً+§ض|„¯Dg¶ّk7s\\x11é¬y؛“\\x052\\x15Wَ-=½ƒ×ىidغo\\u200d°–}$â2ـGً»4qہ<\\x1b\"²ث¶\\x7fgH½ünNضأ5\\x1f،*\\x11—پےحë‘AUCDv£ھ؟\\x1d4;!Eثإ\\x1f>\\x02Ub(س¯¯H¼XD:K…Au0%Rق<²<j5آ¯\\x1d\\x05»DKوق¨¸ِk&طeZ2\\x14m+\\'ط\\u200c$K§oPbêڈB3\\x1fQ”حDQ¶\\x1cق;بP”I?/ض®\\nKixة®¥…*Œ„\\x13\\x1cٌ’لJڑqm–أ;\\n\\x19^2éG9\\n\\\\ظ\\u200fçâ„@ى\\x1f\\x7fî\\x08U‰پLû¢²و‹ب÷ڑ7Œbدُto\\x1e\\u200cذ\\u200dy[~ژ(ب\\u200d†7\\x10Geڈ³0…-¬3x\\x1dہ>×س\\u200e1†ل\\x1d»5شلz\\x180فـa-3O¼c‹؟»€<wآں)Bu\\x03\\u200dx\\x1aه\\u200e¹z(éô][x±#²67·Wsً6ُ¼ّG و\\x0cظک\\x08صءƒح¹™\\x12\\x17gŒةئہ<کI،Gdcsa\\x12«N¥\\x7f\\x04BD:+ˆ£V}c»\\x0e\\u200d…fpŒُد’\"†1”ىXkمo)ˆHgً:\\x7f|{ؤàسًّˆ\\n#ظ%ےل\\x11G´bxف\\u200c\\x06ك°َ™\\x08–iآئ،3x\\x02غqR~\\ty\\n\\x11—ط\\\\ˆآقeس°َ\\x19°-\\u200e¼{ٌ\\\\صznط \\x0eyA[\\x11يفˆ@\\x0c‡gِثû‡\\x1dDن{ظ\\x18B°\\x1b<\\u200eَںزس\\x1b°\\x0cê”ٹ>wD\\x156\\x13U\\x18^گpv>C\\x15&\\u200e¼ں{ل-\\x03X5ü`yںà¦ïj™Jâ\\x07\\x03}ڈ\\x1f|&n5ü`×¸6¾y\\x7f\\n\\u200dڈ…Oُ\\\\\\x12\\x7fî(X-Œ\\\\uuû›\\x05s\\x11é,\\x10†صخê6L`·]Q\\x15:<ّ\\x0b\\x1a›ںûءجwً\\u200fگ!Cے…\\x07\\x1aï]ٍ®\\x15شq;د\\u200c…ئر\\x14U‡[3\\nV\\x0b÷ض;xoW2œ_x”ش\\n\\u200f3èfù¬\\x1eQ2ک8؟\\x16ےضؤœلü\\x12،w\\x12ئض$ّŒqک\\xa0¹ة·ڑث†°tُ®d!îê¬y{\\x16غcذں™\\n\\x0cy–¦÷ئث?ٹa‰ف\\x0b\\x0f\\u200dxk“پUCـuف®6\\\\Yق«dyَ6qœي»y»ڑَa“ؤ‹\\x7fه\\x03×½\\x13قq\\x11\\x12\\x07َ°\\x17C\\u200eY:ةں£a\\x1f\\x08دط\"ْ/ش¶[°ُ/Lˆب÷؛2ج^×\\xad}g‹Hâ\\x1c\\n\\x1fdxz\\x1eq\\x7fحؤ\\u200e…¢S·’ٹHgنؤ+‚§U\\u200eط\\xad\\x0cvM»2”vAؤ÷5\\x17ق\\xadjGWï\\\\\\x16‘خطù„ِûءdù»o2$wB{سwµv\\x01Q\\x7fل\\xadi?\\x07\\t.‘¹ôSاص©Xµٍ—¯a\\x1e©ŒîS##\\x1a€2±€پeفë‘‰u\\n«×إm||\\x16¯>\\x03’تچ[ڈج[” u‹ô\\xa0°×؟چٌüغق!ç\\u200e\\x07ô¸F®é€/ç„L}@کp¸ù·ڑ‹ة\\u200dذ.‹wD\\x0bwWgSط2«\\x13ُ\\x15ں\\t\\x07&\\x04أ\\x0bl™2«ˆ\\x10l&B°eqDµ\"زرأAµRأ_D–Në&ت=v3G„`Oƒت^ù\\x0b?\"زرCG´ط\\x14\\u200cG{¤سW\\x0f“لچپ\"ت<\\x17\"¯jl\\u200e5\\xa09C\\x08&Bد¸ژ\\x1f[فز(O2\\x04bگںS\\x17F!\\x15ln\"\\x04[üأ\\x1eد؟يmnCًuü¬xpD\\xadwïr°<ê™شB\\x0c]ظˆ\\x10\\x0c\\x1c,ضهًڈ|ˆب÷؛2\\x04_—\\x1eوMt\\x0fâ,\\x0f¦ْوة\\x01پxD\\x086\\x13!\\x18ّ“\\x1ch\\x14‘ژ\\x1e\\x1aؤڈںm0\\tR_\\u200dd\\x08ء ڈ{+j\\u200fBً‹\\x08ءوBجU÷‡؟\\x06$\"\\x1d=t8چùX؟\\x1fƒ’Ne?پˆLgُBüˆ\\x08ءوBجُêلٌ#C\\x08&\\u200eشq\\u200cچ½mHہ®9H=,6G$`Oƒ²µ\\u200f‘\\x0f\\x11éجپ\\x0e¬ڈ\\x1f<}¨َد>APکإھ®£¹m\\x10¯¥(°.d\\\\ï\\x1cxا6C\\x026\\x1bR/è±\\x1b2جئ\\u200dذک\\x7fémˆiآ\\x1cdD\\x026\\x172®W\\x0fïطfHہ¤\\x1fù¾\\x0bn©\\x7f–ى\\x19\\x120ى،qد\\\\ع\\u200coخ\\xad–OE$`( ÷6*\\x13n\\x1bR¯ëûڑ«\\x01\\u200fش•نWK²\\x1aدG„لD\\x08\\x06J\\x01¯G&ـ6\\x04_ّ¾ˆˆڑ¾\\u200d\\x1c‰°<H\\t2ط\\x17\\x11‚حD\\x08\\x06Fl§G†\\x10Lْ‘u…G\\x1dع\\x04F¢‡!\\x04ƒ½\\x029·ز;œڈˆ\\x10l&B0\\x10©{=2•Z†àëآpَ¶‚O\"°üaHَأ’ïˆ\\x10\\x0coهY_dٍظط\\x0c!کôَb™ءpï‹\\x18B°\\x0bَA[ّ\\u200fآcٍˆ\\x10l&B0¼جوç#\\x13ˆ—~ê؛\\x1atèنùَهïVyـ…ت\\x14(D„`3\\x11‚لùh¯G&\\x10/\\u200eشq\\x1dكڈ\"تك\\xad¾½zى…ـءˆ\\x03l&\\x0e°إ؟\\x17#\"ك\\x10n8½®\\xadjقïٌ\\x10خٍ»>¢\\x0bظ\\x06وˆ\\x03ىiP®HمvM†\\x03Lْy?iہ3SM”…ً]ا7<\\x07QI\\x17ٌ~-چ\\x1b5\\x19ق¯ظpz!t\\x03\\t¯Zض¾p„هqaPmç0d½)؛Z°M\\x1c`x]ہoƒ\\x0cl\\x1b\\x0e0èq\\x18.“ئZز،ْqqE§nœف\\x14]M=(KîكVء\\x15ھD–ـp€a\\\\\\x11\\x07r]Kْ\\x1c\\x1aٍ»ظC،yچ8ہPؤaaآ؟\\xad\"\"ك{غpza>Nc–ü|گüپاr2!kؤ\\x01†g0\\xad\\x1eچ\\x1b5\\x19\\x0e0é§îيسـœkè،َçکڈةگگ‡)„ˆ\\x03l&\\x0e°¥q£&أ\\x01&\\u200e¼0aj3|کQ:}mڑ\\tKآ2¥›r«µ?ˆ\\x03lٌoفج\\x19\\x0e0\\x11zا¥·mم\\x18قp€a\\x1dâ5»L™Rؤ\\x016\\x13\\x07طâكa\\x11‘خ\\u200fx°½êپ+ةM;*û¼üف*o\\u200dd\\x0e_ٍ™#\\x0e°§Aaں\\x7f‡ED:zط0|\\u200cŒ\\u200eٌ)6أ\\x01v¥NVي\\x0e†îùMرص\\\\W”Jo\\\\؟)ô^\\x1d=,&¯xہç\\x13\\x07\\ngط¥\\x07J¯\\x12nmؤ\\x016\\x13\\x07ط¢Hn¤ْ3أ\\x01&\\u200e¼a¸لunج‡N½_a¸qçC<؟)·ڑَAإdچ\\x0b:…®«3\\x1f\\x16ںqz\\u200fة«:\\x1b\\x0e0„ي ‘Œj>nئ\\xadوط-†د\\u200f\\u200c–9أû%Boھةـ\\u200dnجپإًuIqغ‚.#Hں\\x13\\x1bطىكiy\\u200fm/}^ْy×’¦ح÷l`زé«w\\x08w\\x11\\x01طL\\x04`sمvN†\\x00Lْ©Cا•Jµ==l—N«ü~‘بض_¬GTجM\\x04`sم®K†\\x00l6„^XضxX\\xa0é\\x16\\tL°<کà2p\\x17\\x11€aـئچآ\\x14;÷<C\\x00&\\u200eش¥\\x01\\u200dٹدى\\xa0!\\x00ƒY\\x02\\x13Z&‹\\x13\\x11€ح…ˆK²œط¢^ڈL´m\\x08½.s\\x19\\x10\\xa0شù°0؟آ>7a…آ¾ˆ\\x00\\x0cûءخGمFR†\\x00Lْy·v\\'[k\\x08ہ.½م-\\x11%ج‰َ\\x0b_آOAو2•لًآPl•±Oذ²<\\u200d>H-¥(ٍ.4\\\\ïRٍ%°\\x19ْ/\\xa0‹ھ\\x0c¼?©\\x1eWC\\x0f’Gإlو0,¢ےBإ»]J»Oذ\\x16‘o¤6t^اد|\\x18Z&ں\\x10$yDü)\\x0f0b\\x02Cv—ôً\\x19„\"زرأ¢0PS{€\\x1eµ\\nsطeڑ\\n÷E\\x14!\\x01Vع¨\\u200e4¼\\x1e9\\x12ژ¼?DنS\\x0f\\x11zQط$*]¢ظةمT0a¢à\\xa0Fzطب{ِجْد؟يx\\x1f\"TM”y4ق\\x17…°üٹ\\x0cBآ#_n\\x1a°†7ّ4¨ùًجْ\"ز™\\x0f{è½âx³\\tة\\x052¤س:\\x7fx–§é؛XبX\"®°§Aëلى®ˆtô\\xa0Coـ\"\\u200eضƒنws@\\x1bEz\\x08¨£uُ@iµ»\\u200fêءَo»ëٹ \\x19)د¯ب[:\\xad™\\x13شك\\x06‘\\x05طl¢±\\x13lû›\\x07د؟يژ\\u200c¢يحdk\\x1d/ٹtZ×زiکّ£èn‰ّء\\u200d\\x06½–ـل‹ˆtض\\x12Eغً×›ک\\\\÷\\x04ةoڑ\\u200d7dھF’)ڑ\\x0f[cژj\"ok\\x13\\x17¢ں? صƒہp€ہWکلن·àe?قغAچ9²پ\\x16û|u؟ˆtوƒ¢mdد؟ُ°ٍ¶\\u200fîc>‚Coœ!گ\\x1eخ\\x17\\x11‘ژ\\x1e\\x16أQL،\\x0f\\x7f]\\xad¼tْbŒ)¬\\n1<â\\x07[ˆ\\x1fج\\x11\\x13ü±ˆب·\\x1e†\\x1fى\\n\\x7fL\\x01—ثضJ§uںمش@ح_tXŒ<C°?ˆ\\x1f\\x0cUبn\\x7f\\x14‘ژ\\x1e6\\x1bژ—$?iV\\u200d\\x01½ûiأ%“„¯¾Dü`Oƒ²W¾ْ\\\\D:z\\x10†ïkû\\x05{±W†\\x1fى:ôVص(´·#N°…8ءfے*€ˆtئخ¸ml§ك\\x13هïضµ´‡TZpف£ُCXي_\\x02x\\u200fm\\x0fï\\nYط»®\\n؟³÷eY>i_o\\x06®–\\x0fH”`¸\\x05ه÷ء\\x03ة\\u200c9\\xa0b5û4mc\\x0e\\x08çMح]l_#J0<lkي«/ش\\x16‘ژ\\x1e\\\\|ِ\\u200eآ„tZç/\\x17{£؛>ZW„غ\\u200f}€çكv×•چ¥ء £}@\\x17³J§¢\\x07^èصظèè.\\x12\\n#\"=\\x08·\\x17ï\\x7fdHأ\\u200d?ًعK¼ض§c‹ئ\\u200f°¸\\ng%szڈ\\x00=زƒpغ\\x178?ے¶;\\x1f\\x16·\\'\\x04I_iNé´خ\\x07\\u200dتتؤ¬\\x11\\xad\\x18’¤v\\x7fّ\\x02g\\x11ùق\\x1f¥ںw\\u200c\\x18ür9\\x1dé´تغْوذےˆhإPDDz¸\\\\ˆˆtô°¸چ‹ùں¹\\x10éTô\\x00\\x05b¦P\\x1bقr°®ˆa\\x0cô\"خîf\\x18ئ\\u200d?\\xa0÷G#o`Xإژ\\x1fPAk\\x1f>Œ‘n’°\\x16f\\x10ءکf¹+\\'y8ƒ¾§©3\\x07\\x16·ءe«ڈ_¼\\x0fX:\\xads€kƒ‰#\\x0cش3Fs@\\x18>»\\x02µçكِِ¶،\\x1dC~p\\x08NJإwby\\x18µf|N~شM\\x1dضœ\\x0fٹ½\\u200e3\\x07¨Mحج‡إdجا·\\x0fX:}çأب‡ùڈˆŒ\\x0cG?vo{¾z\\x11é¬+‹ل\\xa0چْژ‘\\x0cy\\x19و\\x0fg\\x18j>b\\x1b\\x15a8‘‘پ©حïيLىmxئ0®\\tï\\x7f©ںيôد\\x05o0قك¯خاjXYم}\\x1ea8q”پ.دë‘¨\\\\Cپ·\\x1d×f^طuyg\\'\\x7f\\x1aغ\\x1c¯«\\x08أ‰®\\x0cœ…^ڈDه\\x1aêçŒ\\x1eبuh_ؤûT,ڈ2تL¾6¢+C„LûأûT\\x19؛2é§®“حن¦|ژح0—a\\x1d\\u200dو\\n…p\\x7fDجe`H¶zxîz\\x11ùقç¥ںW\\x0fNکbO°Lvى\\x11n\\x13‡\\x19\\x08kفZتpکپ د¬¥uû~Yذةں†ü#ج\\x7fDtf`t£9ً9َ\\x0c\\u200c™ô#s°Mْh¥ل‹\\x18f3ن\\npخڑ8¾\\x07ظL€لؤl\\x06ٹf?\\x1f\\x0fجwضز#TُpئصPںaàxر!“¸‰Xحpهڑ&ہ\\x1b¥\\x0c«™ô#\\x03‡©ش\\t(\\x1fx\\x1bV³»\\x1c:S.¸D¬fOƒJ@ù²`\\x11éL\\x00•Œں¦\\x1cس\\x07\\x16…MMô>F0¨؟؟0`چ\\x08خpم“و£a\\\\3\\xa0m\\x08ث®ٍXFحث(Y\\xa0Fٹ\\\\;¾للKؤo¶\\x10؟\\x19\\x1c7؟\\t2@mّح®’qَhƒ\\x078–Gشھ6s<\\x07\\x11P\\x13ص\\x19¶ک×#\\x03ش†ê\\x0ck|3µQ\\n=,°مرضشZٹXدPگh×’çx\\x17‘ï=aXد®زwَ}]چ—tZ÷„½ظ\\x17خGؤ…†T>éل\\x1dہ\\x0c\\x17ڑôSا…÷F؟j£œ<خô2\\x0eyD‹\\x06دکôً¶¶ˆtوأ‚ِ1ڑ€ا¯+أگv_uذپH<\\x1f\\x01Y\\x1a\\x0c\\x07éل\\x0f\\'3diزO\\u200cڈةPھû¤ڑ!Kƒ\\x1eI{u3–µ\\x02ضBe&\\x07فˆ~ف>دً¦پچC9Q\\'کc\\x0c•ڈ\\x0f,XقbxTN\\x0bٍ’ہù \\n5$V¼\\x1e™ہغP¢Aڈسط+ڈل$?\\x1aتg5\\x08J ـ4hحù°پ7قmôz$\\n×–آ³ِ¬«\\x13ڈ$کG|ـU+\\'oKëمùˆ\\x02ïBpِ®+ڈ\\x1f\\x19bµ…ˆز†mے¼yïنAµڑIضق<fحù°ةsگBّùبà9\\x11¥،<E\\x07¬چu¥\\x03uج\\x1f®Œ5ي4¯«\\x08د\\x0bءظ;\\x1f\\n{•ءsC”vüœ&ںأ›\\x0e\\u200f\\x15\\x11«\\n†\\x14%ق\\x1f\\x11±\\x1a.j\\x19»‹ت^7\\x1fEن\\x1b?\\x0cmع…çxک\\u200f\\u200eyü y¼ع®“ش،ں\\x18ر¬-D³\\x06ق<¯Gâ¦·ôSٌم؛كù\\u200f\\x1azطdû9¬z]…ءkD¹\\x06z8;\\x1f¾FXD:َAx\\x0eْ•f‚F\\x12·هï¾\\u200f•)\\x04\\n\\x13!\\x11هعB”kسل÷y\\x11éèa\\x13é»1Wى|b\\x7f\\x18ٹ6¬أءœتؤَ\\x11\\x05لD¹¦ں\\x14گ\\x03پ\"زرأ\\x06لû9éâ\\x08ںک2\\x14mW¬\\x15\\x10G’½ٹ(×–آ‚VيصليU\\x11éèa\\x13éûv|\\'\\xa0\\nûعu•ôشv!bد\\x01Oeà—\\x14\\x16´W\\x0f\\x7f°‘a_{\\u200fہ{¸´/†\\x05¨1\\x1f\\x14أï†s<¶W\\x11\\u200d\\x13ûعن9÷qkê6\\x05\\u200cù°ٌِ>\\x18»ëq°tZs*à¸ح\\x1c4EىkثفًوH@\\xa0âيn\\x06دK?u\\\\ژ6ىعغ6ظ¾ïھ\\x12‚÷A„غؤ²6)^ç؛ں3¸يXس\\x0cMh\\x03\\'(\\x0eكv\\u200cM\\x0c\\x0f0\"–µ…Xض&\\x7f\\x01@D¾×\\x0f±¦ي£±û~\\u200e°|L\\x7f°DجjOƒZ3چ\"َB‚ض\\x19»إق}4‡“~\\x0eˆY-ةt·DجjOƒضأاH\\x19f5é§®\\u200ec2wُ\\\\¾–کصہ-سِQhODجj\\x0b1«M\\u200dة^D:َa±\\x1a;آا©هo½ù’ˆ¼k‰\\x08ش\\u200d\\x06\\u200eظ}ê&C\\xa0&\\u200eش،\\xa0ًلَ\\x0c’بشژصœéاzD!v!5«P¶ùشM\\x11é|v‚dنّ”I÷©4\"S;\\x06S\\x07\\x16¦nn®³VHGdj !q\\x10گ!Sأs\\x04وـ¨›‚byـ©ت¤h#2µ…بشP\\'وُب@2‘£\\x1dSP—,®7ث¯ƒ††0U\\x10‘©-D¦\\x06ZR¯G\\x06’‰\\x1c\\n©±د\\x17qنïض\\u200et\\x18V¦Xڈ\\x08ھ‰Lmٍ\\x1cى \\x15O¸HDژ¶ƒ\\x11ط›T†g“ژ\\x0eأ†ˆ@\\nµë6Œَ¼ë\"ٍ½·™\\x10ي4çظ>يDٍ¸\\x1e“؛G\\x15\\x11¨-D\\xa06ٌ§CM|\\x11éèءP\\u200eح(#\\u200c*wP×ë„aCD\\xa0\\x06س@َل1#C\\xa0&\\u200e¼G’8گz\\x7f¾®‹\\x08شًP—†ک°ق#\"P[ˆ@\\nµ–no\\x17‘خ|PX=ىيô½ط(\"\\\\ƒë¤س†aّ\\x13\\x11¨ل،+ڑ\\x0fo£ٹHG\\x0f\\n«·\\x00\\x03ھ\\x1e\\x1c†مqطVڑٹ\\\\§ˆMm!65ًٍّùب¤ة‰\\x1dmاëcحc،ھ‡إüc¼ngش_¼®¢°؛P¥U_¤q_!أ¦†(ع`ّ¾›Zژ†½\"جا\\x13ڈMك…ç#\\n«‰Ymjـ]ب0«ل\\x159«اfêح\\x1azگü\\x11شپ±\\x1eQ}\\x1a1«Mچ»\\x0bE¤³?(d6§H\\u200f%G<\\u200egُ^7½\\x0eأ05bVأ;ˆvں{rv\\x11éèaٌù\\x18ج\\x1d)ڈçجؤ†ث\\\\j\\x7f„x\\x1e1«ل\\x05Jزأû¸Eن[\\x0ffJأئmْ¬²دI\\x1e‡²يعzZW\\x11³\\x1a\\u200d\\x01%=¼ڈ›aV“~\\x04\\x07qف^¯\\x13\\x7fجZ:\\xadٍ&DQa\"ë\\x11صھ\\x11³\\x1aJ³œفح0«-ؤ”\\x06؛`]گéS\\x08F\\u200f:–5\\x0fلؤë*:ِ&fµة“ه/\\x19f5\\x11Réûخ|XüWـk<\\x03\\x17`¶¢>âR›<\\x1d;قخMxçجچ†\\'ˆ?=*ا¥\\x06²ê\\x04ٍE\\\\jàڑ²;bِ\\x07\\x15E¤³³-\"مn÷w!\\x08q©ل…k}\\x00\\x16Fل\\x11—\\x1aèWI\\x0fïلf¸ش¤\\x1fYI\\x1bق\\x16\\u200e<8\".5ؤ\\x1b!JDüi #\\xa0±{¯6أں&\\u200eش±غ\\'#<j—N«¼=”‰ws„ع…ا¬zQ\\u200d\\x1e\\x1fw{3{آ¢0œعïC\\x16âOƒ\\tkï!قغQن]ˆزھ\\x1e\\u200dژ\\x1d›.£‡Emن¼؟oê•Nكè*§Gؤ¥†g\\x05ى؛ٍtى\"ٍ½·‰Km\\x1f\\n\\x0f¥Or²|ژ·r‰ˆص\\u200d\\x06•ٌœü!K†XMْ©ë\\x1d§\\x06joûC/\"Vأث%:Z\\n£ً›ا¬…\\x19D¬65nءdˆص\\x16\"J[Wsˆه½\\x0f–?ًٍىû\\x0bيUD¬¶\\x10±عش¸\\x05“!V“~d>ضح°)yïƒ‰صrOأà-ؤ\\x00أ‰X\\n$Hخ‹*\"\\u200c\\u200ea£êهىـ,f\"6ًىھù\\x08³\\t\\x11±عBؤjسن½ء\\x0c±ڑôَخا¬³N\\x1e?کXحً°…¯5âَDَA\\x18ق¸=R\\x08ر:َa£jً´~¾ïِ\\x0cH1،\\x1c£ئڈ°ّم&AkîsآَئM’\\x0cثعآ,kH‹4‹د$Z\"ù\\nءRj]ExN,k“çiا\\x0b.\\t\\x1c$ض4نDع\\x19\\u200fھ‡إ\\x7f\\x04ل:+\\x12fز#–5l.‹ƒ\\u200d§]D:ëٹً\\x1cOض¹L:1«m0خjخ¢ج\\x14¢àِ\\u200dx\\x1a\\x14ِچخ7\\x14‘د±‹Pإ>¼,ے•asٍ\\xa0tkْءض§Z#fµ§Aëل2\\x08\"زرأfز7¼كھ~خ\\x17‘N_ںط\\x14®F§– fŒوƒ2é\\u200fRجَo;7‹E¨عZگج\\x7feBX~أ\\nإDF\\x07gV‘\\x1e¶à|ٍœود؟يêA\\x0c-6CمN\\x04¤سھ7è…•قرقئ™`¤اƒ½صW÷\\x17K\\u200d\\x7fغصƒ0\\\\s0\\x17»$\\x1dص±£ق\"‘\\xad]#fµ§Aي\\tد›-\"\\u200c=ءŒ+وِ¼ث\\x0eJ§ï\\x1c\\x18وچبےX#fµ§Aëلü\\x0f\\x11éèaq\\x1bI5Cwت¶V:}\\u200eyS\\\\\\x17غع {ژ»\\x0f\\x06\\'P،ب\\u200f\\xa0ˆtô°ظًm4·خ\\x1b{‚نءë”ًد×›@\\xadل\\x7f<\\nï|Œ\\u200fٍ‚ˆtô\\xa08\\x1c|lح½Z÷\\x07ةogû]\\x00ئŒ \\x0e\\x073\\x1bح‡‹ûD¤£\\x07\\u200cn\\x0f¦ذ¥±?H\\x1e\\x0f]6\\u200e.ز#bVأn$=\\\\nJD¾ُ fµëIة¦o!َءٍ¹ّ\\x154ْپ\\xad%fµر\\x13ƒ?ے¶gkK?ص\\u200fœf\\x7f¸¢;éôفçc;Kحَ\\x11axa8\\x13ج\\x18ùéچ?P\\x06ےہ|g>ّ¦7?àًgي¨êڑ{\\n\\nــر\\x1cXـئ=5g£\\n\\tZgى\\x16·7³µ}aù3 إn\\x07ٹلŒ?\\x18±¬\\xad…يى\\u200c\\x03ڈ\\x19E¤£‡إي\\n¬iحک§î\\t+؟\\x0f(Dy\\x7fQق\\x19\\x14üر|طüùè™ءں\\x7fغف\\x13„ل8rûôk\\x0b»غë?\\x1a?8تéàN~¤‡چ½ا£a£\\x12\\x17إ\\u200d?ً®\\x13ـضذك×إKN\\u200f\\x00فàû‹rذxq3زƒ0üًٌز\\u200eo»َa1\\x199·دs€g@*‡گثé¬\\x11ثعس\\xa00ühىڈDى-\\u200e¼>«ءŒ†\\xad¥ط\\x1b%7©ùˆ0ü¦_Szىق§*\"\\u200c}n1\\x19ِCïڈئ؛\"yPèdôˆXضp\\xadةb¸؟° \"كz\\x10ث\\x1a\\x1e*m_¬\\x17{إٍkêBد\\x1a±¬=\\nz>¼OUˆط:zp\\x1cn\\x02q؟®J§o\\x1cnrlaـ\\x17±¬\\xadؤ²6ْ‹\\x0c\"زرأb8ٍ\\tع^yكگ\\x18×¶حTˆD¹آ5b\\\\{\\x1aô|x{•a\\\\“~قïk.â5ô üاَظح|\\x10ùT\\x11م\\x1aX~i\\x7fّüN\\x11éج‡إgش\\x0eëکأçwˆq\\nد²g*>ٌDV€\\x1f…ù¬ْ%»÷¯2Œkد\\x1fPx€·x›•vuں\\x13\\u200fأ‘ITو\\xad\\x11معس\\xa0×•اڈBژض™\\x0fت¥م&فg\\x0cHŒkë\\x0eژ¶\\x04\\u200dك\\x04g\\xadX–\\x18×@gàüف\"زرأâ9^Bشك×انؤ¸¶\\u200d¦ز%ج‘ـ„hM=\\x1e\\\\\\xadëت؟\\x00€ççî-شرƒٌظنnـ\\x19چtْْ‰ئ؟ٹُˆًœ\\x18×p_تدGâl\\x1cڈ\"فت¾1 ژ¢كں;أdù\\n‡u\\x19{\\x151®\\x01w\\xad½ع¼؟›a\\\\“~ھ\\x1eب¬|îsb\\\\[q£·\\x19¯گفچ\\x18×@\\x04Hzxü(\"كëٹطشp6غ®8\\x17{Eًٍ\\x7fµف\\nم¨›\\x1c\\xadµ?ˆ}mô·hض\\x0cûڑ\\x08ة|àB´ا>bhC¨•²Q\\x11معJŒk8Zq{\"أ¸&\\u200eبطq¼ô\\x1d;\\x11معl«زأügؤ¸¶\\x12معèدأE¤³–,†£6îَء4éTô\\u200dŒK\\x15ضSaf\\x03\\x0c\\'\\x02¶رں‡?ے¶\\x17\\x03\\x12،\\x1a.\\x06ê½êc\\x0e–\\x07I“عغٌ|D1y!B«ک1z_½ˆtوأbّ¸›‡ك¼\\xad%\\x026نڈµM\\x0bs\\x0b\\x11\\x01غJ\\x04l£gٍ\\x13‘ژ\\x1e\\x16أاچ\\u200c\\x01نغˆ€\\nù±\\x0ca\\x0bxa£µD¸يدہں\\x7fغ]K\\x16·G\\\\÷k®چj_I~7Œma¼tَ£5ي+هز\\u200e\\x198ژه\\x13\\u200f\\x07\\x11°چ&\\\\jن?Y\\x1eؤ(™³چˆ€\\n§é\\x16ï\\x1açلEن{-\\x11\\x01غ\\x04’A…غ®\\x16L\\u200fnµQ¸إ\\u200c9×ڈ\\x08طًNھص£qِ—!`“~قq™ا?½_[:\\xadٍ;®O؟؟ذFE\\x04lx5ˆôًqF†€Mْ©طgIط½چ\"\\x026<\\\\\\x1d\\u200dهك\\x1cg\\xad=A¤kH(9ـخگ®پَخّ²xيD}R\\x7f\\tـةïê¹<ٍû\"¢µ•ˆض\\x06ےN®ˆtِ\\x01cµy[½ٌفI~3ٌ]¼~\"¬&¢5ًصّ9Hـ C\\t¤™\\x03lçِ£«b_I\\x1eéع\\x14ئEDkk!H\\x13¬\\x1eN\\x1fO\\x14‘خ|\\x10V\\x1fوù\\x02ںے0ؤlx\\x01`4\\x0cAa>êوAkî\\t›?\\x1f\\x1ag|\\x19¢µص\\x10\\xada\\\\xZ³™\\x07¨َa±}²ç8،د\\x11\\x11\\xad\\xad… ي\\u200c\\x0fï“\\x17‘خ|X\\x1c\\x06ءKûئdصأتدH«)c\\x10ص\\x0cمzVà\\x7f\\x10رعà‰½\\u200d\\x7fغَ?ˆh\\n\\x0f9êّظçkY\\u200f4ùعذضFDkب\\x1a\\x19œہ\\x056·د3Dkزد‹\\x13و\\x15\\x18؟?ˆh\\nثP×م…َ\\x11\\x11\\xad\\xadD´64خûٹب÷؛*B¯\\x1eوژƒدم°üپwسق_¬Gt\\x06NDkأل\\x08\\x15×\"زرأود\\'°\"7\\u200e;ظ\\x1fD´†\\x187َ8ِ\\x1a\\x11\\xad=\\no\\u200dsًDk\"زرأbّ4حْ\\u200f’ڈُˆh\\n\\x0f8¤b½›×¬ew‰hmً\\x04e¨$MّçDœ†\\\\ؤ7\\x0e²<.I¨u\\x15\\u200d؟FDk¨µ¦}îَç\\x19¢5éGِ\\x07J™غµDu]Yü‡\\u200cLصˆDDk+\\x11\\xad!«çيUو<¼ôSُ°7,½\\x7fNٍم¨§C\\x15i’ںxَڑ5×\\x15لyمü5C´¶\\x12qڑ½bإE(ˆأY~F©–ْصڈةzDq8\\x11\\xad\\nچَ×\"زظç\\x1aں÷ںs7/&y\\x7f—H×\\xa0w†ذ\\x1dرK€çDہ†2^؟®2q8\\x11°چ–¼ةم9ثƒے5“›ٹ\\x08طV\"`\\x1bvïï\\x16‘ïù B5<½\\xa0\\u200e+ڈƒ,\\x7fڑ—ZB\\x1cŒبطضBٹV\\u200eDےr¹ˆtô°çل#ê^>َ;Dئ6\\x1eو\\x05ِ0ژٹبطPعgيîî\\u200eف\\x0c\\x19›ôSَ\\x03`ùْ<ï#26ً<‡gJ\\x11\\x01\\x1bîwذط=f\\x14‘خ\\x1c\\x10†مYںد³\\x18\"c›lژ-^K\\x17\\x0e·lmaH«kة؟؛ژ+n\\t\\x0c\\'¦µù4نٹقا%y<¥¥}‘ً,و&BkêA\\x18î\\tٌض\\x0c3›\\x08ص³کحœ\\x11yںٹکظp\\x06¥!#ض#تں\\x133غذ8sح0³\\xadؤ´\\x06ت\\x0em£üù\\x12ة\\x03ù´\\x0f\\x16ïڈ¨¦چکظ†ئ™k\\x11éى\\x0f:\\x03\\x07ùڈْہچuEٍ›y\\x025جAGجl+1³پxدa_\\x11éèAgà\\x00ںo\\x1bإgوئ—Œ×U„لؤج6x¦<”\\xaddِ¹=\\x03G*M×Vّ\\x1c41¹m«ر;Œة#–6ش@X»ë™ٍDن{>ک¥m6\\x05ِ\\x1eأYقbL8\\x1f\\x11KغJ,mّën]eXع¤\\x1f±W\\x1bbسfn\\\\bژزi•ا+pJ>ض#ٹة‰¥mX}ژ$أز¶\\x12ë\\x1a^ًض±“·»,\\x1fف‹\\'_=biCحڈ]W\\u200d¹PD:ëٹjشPنِyFC,m¨\\xa0زٌٍ|DxN,mأêيU†¥\\nغشن¦7گ\\x06+=\\x1aûƒنيم@±\\x1eQژ\\u200cXع\\x06دڑ·\\x16‘خ|\\x10اKôآ[ف\\x1f$\\x0f¶ô&قً؛ٹًœXعًض€كç™کœXع¶أـ\\x19ً19³؛،ب?\\x13ثق$j-ےٹXع†صû»\\x19–6ش\\x0eظuµ›—\\x06\\x1bûـتï\\x11ë!دG\\x14“\\x13K\\x1b\\u200d ٌَ‘©i#ض5ًl|ٍ½¬,\\x7f¨…ہcڈ0œکظp\\nؤڈ=ƒلؤ´†»~عو8\\x0e‹•هٌ~o&ڈ\\x1b1³\\xadؤج6x¦<\\x11ùقغؤ´\\x06 ûِ©X~6¶6Œ\\u200c\"f¶•کظ†إçE2جlزO\\xadا;جù¤÷ص‰™m\\x1bح}•0\\x0e؟‰ذZ{›کظ\\x06إر\\x7f›Eـ-ث0³‰Pص\\x03¶َ\\x133ˆة\\néزًىïfTkژ\\u200cpغ³±\\xad\\x1966\\x11ھ~QT?$8Q:\\x15ù‹،8ƒ\\x137\\x15ZSڈ\\x07?k\\x1c>{?*أح¶\\x12×عv\\x15²½؟ئZ\"ـژى\\x18ظ¨ˆ›m%n¶aِ6*أح&\\u200eشµt~³ؤ²<â’ج£‰kؤحِ4¨3\\x1aد•\\'\"\\x1d\\x1bإµèA}]]W$\\x7fک:¶0^ٹxعVâi\\x1bf_k›لi“~ê|کë¯üB\\x1bréؤس\\x06ç9U«pس¢5÷‡\\xadi\\x1b<Oغڑلi\\x13،ڑك±¶ضç\\x13ˆ§ي؛،’©\\x05»iرڑzطڑ¶aِ~T†§\\nى@¶~ç4¯îù\\\\:ةمjY»¶پِyؤس¶\\x12O\\x1bگشù\"Eن{\\x7f\\x10ï\\x1aق¶ù®Egy<…گ9\\x13ˆxعضآ—Vي®ç7\\x13‘ژ\\x1et·l05j>/آ<mxف¨Ykآَ\\x11إلؤس†Gوü|dî‡3ï\\x1aüيf~@ى\\x15ثمص×f^‹ُˆîٹ\\x13O\\x1bز\\x00^ڈ\\x07ٍ;َaمpPu~ك…%\\u200d6ًX¥خّ#\\u200d¶•xع†ةغف\\x0cO›ôSk.\\x0c\\n\\x15\\x17`آî\\x12O\\x1b^»NفصˆxعpuسوE\\x1a÷\\x042<mزOص\\x03w/¾×•چأg;\\x7fa>!âi[\\x0b\\t[فç\\u200d§MD:ëتâ3>¯خSù8¼üفٹ78<m\\u200dïً\\u200fˆٍê…/يصأû‰\\x19\\u200d6¤/\\n~`×vô y¤ƒ2\\u200fîM£ضآAâi\\x1b\\x1a÷\\x042<m¸مfُ\\x18ح¹Sأî’<\\x12\\x12j>Bے*âiƒQ±û£qO\\xa0ˆtض•إَe\\x0eخV«ف%ùفœفFq\\x14Bنِ9àس\\xa0ü]\\x7fg@D>ُ\\x10،\\x1a\\x17ل€ٍë¼ئةo¦V!ض#à{ء]Zڑ\\x0f—o\\x13‘ژ\\x1e\\x16د‘ـùؤ\\x0fé´ْاHj$ً\\x1ciîh>èlـs¶=ے¶SC)Bùù°µq{v>\\x02<\\x07\\x1f–\\u200cڈء\\u200csˆHg>,\\u200dc¹wض\\x15ةgُ\\x08ٍêبMگ\\x1eخîٹHG\\x0f\\x1bo÷ُ ù¬\\x1eA^\\x1d0Jz8?QD:zX|îëAٍY=‚¼:xBI\\x0fç\\'ٹHG\\x0f‹ç}=H>«G€çàD$=œں(\"\\x1d=(Oقف\\x1f$ںص#ب«ƒ‹‰ôhطفD^]ْةغ+‹çi{\\x15نطء>Kz¸ّ\\\\D:َaٌ¹؟®H>9\\x1f\\x11\\x7f\\x1bnzi=`+½½*\"كz\\x10\\x1f[W\\x0f–دê\\x11ل¹هoƒ\\x1e.ںˆ#ï[صژ\\x1eôڑYo\\x7f\\x10ك[v]ف\\x1cl\\n\\x7f\\x179zڑ\\x0fW».\"\\x1d=\\x08ں»zXù\\x13دژ4َء6\\u200fہ‘Pà—\\x14¢¶\\x12\\x7f`><~d¸ـ\\u200d?ًrچœ\\x03X2شد\\x06\\u200e\\x7fâو¢إَ´\\x1e\\x11\\u200d[.7èلٌ#أه¶\\x15!±W}=,\\u200d§ُˆً¼pھ½َليU\\x11é¬+‹د}=H>»®\"<؟Iقjüپùpùؤ\\xadˆtô°ّـ×ƒن³zDx^ˆعê|ّ»O[†ثM„ٍëتâyz]Ex~“¼©ùًwں¶\"ز™\\x0f‹د\\u200eù ùى|Dxn¹ـ@\\x0bذہڈؤ™ùVْةد‡إَى|D\\\\nxإأâ‡ç:\\x14‘ïù n¶م0ُ”®®G:\\xadzOو¬9؛k³E\\\\nOƒ^Wقكحp¹I?2®¾\\x1e\\x16ےد¬\\x1eQ|n¹ـ°®¼؟[D:َaٌ¹¯\\x07لyVڈ\\x08د\\x0bQغk¯<~d¸ـpخ|¯دü|\\x10\\u200dgُˆًـr¹چ§çضغ2\\\\n\"Tُ°¼ث.؟ëنq\\x17-¸\\'„—\\xad\\x02ںتٍ·aى\\x1eû2ümد\\x1fP>صh^ئs¹P+?\\u200fœھVگـءˆ²\\nصصض,ùë\\x03\"زظ\\x06\\x16†ûغ€`û{ùüُïےù\\x1fےٌڈ?ےِڈ؟\\u200e\\u200fے\\x00\\x00\\x00ےے\\x00\\x00\\x00ےے\\\\چK\\nآ@\\x10D¯2ô\\x01\\x1cم\\'‚$پ€.]é\\x05&¤çƒةtىiرم›\\x08³ذ]½‚zUMئلإ°\\x0b1©\\x01\\xadش°^\\x1d@qp>g،éغîAu$Bc&ڈ¦G^h\\x0bت\\x12I\\x06فTءEbىدجؤé\\x17Uz0ع\\x1aعâxع•›\\x12T|ژ\\x1dٍU–E›nّ\\u200d¯\\x0bک-ْO£_ؤ÷ن\\x11¥ù\\x00\\x00\\x00ےے\\x03\\x00PK\\x03\\x04\\x14\\x00\\x06\\x00\\x08\\x00\\x00\\x00!\\x00ء\\x17\\x10¾N\\x07\\x00\\x00ئ \\x00\\x00\\x13\\x00\\x00\\x00xl/theme/theme1.xmlىYح‹\\x1b7\\x14؟\\x17ْ?\\x0cswü5مڈ%قàدl“ف$d\\u200c”\\x1cµ¶ىQV32’¼\\x1b\\x13\\x02%9ُR(¤¥—Bo=”ز@\\x03\\n½ôڈ\\t$´é\\x1fر\\'حط#\\xadه$›lJZv\\n‹G\\u200f½§§÷\\u200d~zَtٌز½کzGک\\x0bآ’–_¾Pٍ=œŒطک$س–\\x7fk8(4|OH”Œ\\x11e\\tnù\\x0b,üKغں~r\\x11mة\\x08اط\\x03ùDl،–\\x1fI9غ*\\x16إ\\x08†‘¸ہf8پك&ŒاHآ#ں\\x16ا\\x1c\\x1dƒقک\\x16+¥R\\xad\\x18#’ّ^‚bP{}2!#ى\\n•J\\x7f{©¼Oل1‘B\\nŒ(كWھ±%،±مأ²Bˆ…èRî\\x1d!عٍa\\u200d1;\\x1eâ{ز÷(\\x12\\x12~hù%\\u200eç\\x17·/\\x16رV&Dه\\x06YCn\\xa0ے2¹L`|Xرsٍéءjز \\x08ƒZ{¥_\\x03¨\\\\اُë\\u200eZ؟¶ز§\\x01h4‚•¦¶ط:ë•nگa\\nPْص،»WïUث\\x16قذ_]³¹\\x1dھڈ…×\\xa0T\\x7f°†\\x1f\\x0c؛àE\\x0b¯A)>\\\\أ‡\\u200cf§gë×\\xa0\\x14_[أ×Kي^P·ôkPDIr¸†.…µjw¹ع\\x15dآèژ\\x13ق\\x0cƒA½’)دQگ\\n«ىRSLX\"7هZŒî2>\\x00€\\x02R$Iâةإ\\x0cOذ\\x08²¸‹(9àؤغ%س\\x08\\x12o†\\x12&`¸T)\\nJUّ¯>پ\\u200f¦#ٹ¶02¤•]`‰X\\x1bRِxbؤةL¶ü+\\xa0ص7 /\\u200d={\\u200fًéَ‡؟=\\x7fôèùأ_²¹µ*Kn\\x07%SSîصڈ_ے\\u200e\\u200e\\x17ق_؟\\u200fًêٌ7éش\\'ٌآؤ؟üùث—؟ےٌ:ُ°âـ\\x15/¾}ٍٍé“\\x17ك}ُçOڈ\\x1dعغ\\x1c\\x1dکً!‰±ً®لcï&‹aپ\\x0eûٌ\\x01?\\u200cؤ0Bؤ’@\\x11èv¨îثب\\x02^[ êآu°يآغ\\x1cXئ\\x05¼<؟kظ؛\\x1fٌ¹$ژ™¯F±\\x05ـcŒv\\x18w:àھڑثًًp\\u200dLف“َ¹‰»‰ذ‘kî.J¬\\x00÷ç3\\xa0WâRظچ°eو\\nٹ\\x12‰¦8ءزS؟±CŒ\\x1d«»Cˆه×=2âL°‰ôî\\x10¯ƒˆس%Cr`%R.´Cbˆثآe „عٍحقm¯أ¨kص=|d#a[ ê0~ˆ©هئثh.QىR9D15\\x1d¾‹dن2r\\x7fءG&®/$Dzٹ)َْc,„Kو:‡ُ\\x1aA؟\\n\\x0cم\\x0eû\\x1e]ؤ6’Krèز¹‹\\x183‘=vطچP<sعL’بؤ~&\\x0e!E‘wƒI\\x17|ڈظ;D=C\\x1cP²1ـ·\\t¶آ\\u200ef\"¸\\x05نjڑ”\\'ˆْeخ\\x1d±¼Œ™½\\x1f\\x17t‚°‹eع<¶طµح‰3;:َ©•ع»\\x18StŒئ\\x18{·>sXذa3ثç¹رW\"`•\\x1dىJ¬+بخUُœ`\\x01e’ھkض)r—\\x08+e÷ٌ”m°goq‚x\\x16(‰\\x11ك¤ù\\x1aDفJ]8هœTz\\u200cژ\\x0eMà5\\x02ه\\x1fن‹س)×\\x05è0’»؟Iëچ\\x08Yg—z\\x16î|]p+~o³ا`_ق=ي¾\\x04\\x19|j\\x19 ِ·ِح\\x10Qk‚<a†\\x08\\n\\x0c\\x17ف‚ˆ\\x15\\u200f\\\\D\\u200c«Zlî”›ط›6\\x0f\\x03\\x14FV½\\x13“نچإد‰²\\'üwت\\x1ew\\x01s\\x06\\x05ڈ[ٌû”:›(eçDپ³\\t÷\\x1f,kzh\\u200dـہp’¬sضyUs^صّےûھfس^>¯eخk™َZئُُِAj™¼|پت&ïٍè\\u200dO¼±ه3!”îث\\x05إ»Bw}\\x04¼رŒ\\x070¨غQ؛\\'¹j\\x01خ\"ّڑ5ک,ـ”#-مq&?\\'2عڈذ\\x0cZCeفہœٹLُTx3&\\xa0c¤‡u+\\x15ںذ\\xadûNَxڈچسNg¹¬؛ڑ©\\x0b\\x05’ùx)\\\\چC—J¦èZ=ïق\\xadشë~èTwY—\\x06(ظس\\x18aLf\\x1bQu\\x18Q_\\x0eB\\x14^g„^ظ™XرtXرPê—،ZFqه\\n0m\\x15\\x15xهِàE½ه‡AعA†f\\x1c”çc\\x15§´™¼Œ®\\nخ™Fz“3©™\\x01Pb/3 ڈtSظ؛qyjuiھ½E¤-#Œt³چ0ز0‚\\x17ل,;ح–ûYئ؛™‡ش2O¹b¹\\x1br3êچ\\x0f\\x11kE\"\\'¸پ&&Sذؤ;nùµj\\x08·*#4kù\\x13è\\x18أ×x\\x06¹#ش[\\x17¢S¸v\\x19I\\u200dnّwa–\\x19\\x17²‡D”:\\\\“Nت\\x061‘ک{”ؤ-_-\\x7f•\\n4ر\\x1c¢m+W€\\x10>Zمڑ@+\\x1f›q\\x10t;بx2ء#i†ف\\x18Q\\u200dN\\x1fپلS®p\\u200fھإك\\x1d¬$ظ\\x1cآ½\\x1fچڈ½\\x03:ç7\\x11¤XX/+\\x07ژ‰€‹ƒrêح1پ›°\\x15‘هùwâ`تh×¼ٹز9”ژ#:‹Pv¢کd\\u200dآ5‰®جرO+\\x1f\\x18Oظڑء،ë.<کھ\\x03ِ½Oف7\\x1fصتs\\x06iوg¦إ*êشt“é‡;ن\\n«ٍCش²*¥n\\u200eN-r®k.¹\\x0e\\x12صyJ¼لش}‹\\x03ء0-ںج2MY¼Nأٹ³³Qغ´3,\\x08\\x0cOش6ّmuF8=ٌ®\\'?ب\\u200cجZu@,ëJ\\u200cّْتـ¼صf\\x07wپ<zp\\x7f8§RèPBo—#(ْز\\x1bب”6`‹ـ“Yچ\\x08ك¼9\\'-ے~)l\\x07فJط-”\\x1aa؟\\x10TƒR،\\x11¶«…v\\x18Vث\\u200e°\\\\êu*\\x0fà`‘Q\\\\\\x0eسëْ\\x01\\\\aذEvi¯ا×.îمه-ح…\\x11‹‹L_ج\\x17µلْâ¾\\\\ظ|qï\\x11 \\u200cûµت\\xa0Ymvj…fµ=(\\x04½N£ذىض:…^\\xad[ï\\nzف°ر\\x1c<ً½#\\n\\x0eعصnPë7\\nµr·[\\x08j%e~£Y¨\\x07•J;¨·\\x1b\\u200e\\xa0\\u200e +c`ه)}d¾\\x00÷j»¶ے\\x01\\x00\\x00ےے\\x03\\x00PK\\x03\\x04\\x14\\x00\\x06\\x00\\x08\\x00\\x00\\x00!\\x00Eش پء\\x03\\x00\\x00ù\\x0b\\x00\\x00\\n\\x00\\x00\\x00xl/styles.xmlشV]ڈ›8\\x14}_iے\\x03ٍ¼.أG€\\t\\x11P5ة چش\\xad*ح¬´¯\\x0eکؤZc#cfI«\\u200f÷½6$!ڑi3M¥J‹¢`›ësد=¾¾vٍ®¯™ُLdK\\x05O‘wë\"‹ًB””oSô×Snد‘ص*جKج\\x04\\')ع“\\x16½ث~ے-iص\\u200d‘ا\\x1d!ت\\x02\\x08ق¦h§T³pœ¶ط‘\\x1a··¢!\\x1c¾TBضXAWn\\u200c¶‘\\x04—\\xad\\u200dT3اwفب©1هh@Xشإ[@j,ےé\\x1a»\\x10uƒ\\x15فPFصق`!«.\\x16\\x0f[.$ق0\\xa0ع{\\x01.¬ق‹¤oُ\\x12~ٌء‘ùٍآWM\\x0b)ZQ©[ہvDUر‚¼¤\\x1c;±ƒ‹\\x13\\x12\\xa0_‡ن…ژëںإكث+‘\\x02G’gھ—ًبKئWbEG¬\\x18e\\tïê¼V\\xadUˆژ«\\x14ùا!kٍّPBزD\\x01²†e^‰\\x12„/K§®\\u200c=<ب9@œظ‡çِ7\\x7fــ¸·.<عق\\x19}fI%ّ¹k=گ%يgë\\x193ًë\\x19x\\\\“،؟آŒn$5\\x18ƒهً؟\\x01ذ·دqŒWpN\\x19;‹[\\x0fd\\tنœ\"’çذ±ئِس¾پ\\xa09lڈءµ±»`½•xïùلd‚c\\x1cfةFب\\x12¶مTٌa(K\\x18©\\x14ؤ\"év§كJ4ً؟\\x11JA؛fIIٌVpج´„‡\\x19س™°چaا¦Hي`اeI!کگ\\x16î”\\x00%\\n\\x0f\\n?¢_´5\\x1c\\x0c…‹¦@َہٍ¢ي\\x10جë±ŒAµ@\\u200c0ِ¨ƒù»:êنAH}5ة2(dz%u‚ê&,تط\\x1c4\\x19:Z«)ع€=پچ®‚µْjt†›†ي?vُ†بـ\\x14B-¶eFs`wê}’B‘B\\nUX/اڈ\\x07s…×÷ŒnyM¾M$K`S\\n&ض؟\\x127O¤7¤µp}ُm–\\x10ن«’أّ¹6ç*,MٍںT9م7ه²\\x13’~\\x06\\x01u\\x1d(€?‘Hںbٹ\\x16س‘‹Œازُ\\u200e4yءùُُüصـكگà/کےz}M©ے؟èkj\\x01ى\\u200fI‰9+0اRaq8uRôQoi6IéMG™¢ü•â\\x02کe\\x7f*Wو¤Sْ\\u200db\\nظؤ‹U’\\nwL=\\x1d?¦èش\\u200f“”´«}t°ْDں…2\\x10):µ?è\\x13آسµëنb¤üہُE\\x01ü\"«رsMu4V¦5\\u200dَگ[p]Zt\\x14ھç—UèG^ىقظwَ`f\\x07ءٍق\\u200d¯W±\\x1d¸a¼ِ–\\u200f]îح¾ڑ\\x13d\\x12P–@¥ّذآپ\\x02o«“\\x14€î—wٌْ>÷ي¹»œغءŒ„v\\x1c.×v\\x18¬–ëu\\x1e»¾»ْ:¹£\\u200eؤ\\nح\\\\+،<yء¢epڈ“£ج£¸ڈ§±\\x14M:ƒp&\\x16\\xa0=ه\\x1eû‘û>ô\\\\;ں¹\\u200d\\x1dDxnد£Yhç،ç¯#ذ$جأ\\t÷ًتغ—ëxقp\\'شنأ…¢5a”\\x1f²نگ\\x1bسQH\\x0fè~\\'\\x08ç°\\x12خéخ\\u200d\\u200e\\x07\\x00\\x00ےے\\x03\\x00PK\\x03\\x04\\x14\\x00\\x06\\x00\\x08\\x00\\x00\\x00!\\x00âجPضإ\\x00\\x00\\x00#\\x01\\x00\\x00\\x14\\x00\\x00\\x00xl/sharedStrings.xmldدAj\\x031\\x0c\\x05ذ}،w0ع7\\u200d†0´إv\\xa0Izپ$\\x0703jئ`ثSK.حيë’Ea²üïK ™يOٹê\\x1b\\x0b‡L\\x16\\u200dW\\x1d(¤!ڈپ.\\x16خ§ڈ§\\x17P,\\u200dF\\x1f3،…+2lفمƒa\\x16صv‰-L\"َ›ض<Lک<¯ٍŒشڑد\\\\’—\\x16ثEَ\\\\ذڈ<!Jٹzفu½N>\\x10¨!W\\x12\\x0b›~\\u200e\\nھRّھ¸»Q\\x0fخppFـق\\x0b\\x1a-خè؟|³]-¥فy]ْ{½£#ئ¸\\x1c;\\x1fص>اèث²8ش’ےM·\\'ف/\\x00\\x00\\x00ےے\\x03\\x00PK\\x03\\x04\\x14\\x00\\x06\\x00\\x08\\x00\\x00\\x00!\\x00Féم*B\\x01\\x00\\x00i\\x02\\x00\\x00\\x11\\x00\\x08\\x01docProps/core.xml ¢\\x04\\x01(\\xa0\\x00\\x01\\x00\\x00\\x00\\x00\\x00\\x00\\x00\\x00\\x00\\x00\\x00\\x00\\x00\\x00\\x00\\x00\\x00\\x00\\x00\\x00\\x00\\x00\\x00\\x00\\x00\\x00\\x00\\x00\\x00\\x00\\x00\\x00\\x00\\x00\\x00\\x00\\x00\\x00\\x00\\x00\\x00\\x00\\x00\\x00\\x00\\x00\\x00\\x00\\x00\\x00\\x00\\x00\\x00\\x00\\x00\\x00\\x00\\x00\\x00\\x00\\x00\\x00\\x00\\x00\\x00\\x00\\x00\\x00\\x00\\x00\\x00\\x00\\x00\\x00\\x00\\x00\\x00\\x00\\x00\\x00\\x00\\x00\\x00\\x00\\x00\\x00\\x00\\x00\\x00\\x00\\x00\\x00\\x00\\x00\\x00\\x00\\x00\\x00\\x00\\x00\\x00\\x00\\x00\\x00\\x00\\x00\\x00\\x00\\x00\\x00\\x00\\x00\\x00\\x00\\x00\\x00\\x00\\x00\\x00\\x00\\x00\\x00\\x00\\x00\\x00\\x00\\x00\\x00\\x00\\x00\\x00\\x00\\x00\\x00\\x00\\x00\\x00\\x00\\x00\\x00\\x00\\x00\\x00\\x00\\x00\\x00\\x00\\x00\\x00\\x00\\x00\\x00\\x00\\x00\\x00\\x00\\x00\\x00\\x00\\x00\\x00\\x00\\x00\\x00\\x00\\x00\\x00\\x00\\x00\\x00\\x00\\x00\\x00\\x00\\x00\\x00\\x00\\x00\\x00\\x00\\x00\\x00\\x00\\x00\\x00\\x00\\x00\\x00\\x00\\x00\\x00\\x00\\x00\\x00\\x00\\x00\\x00\\x00\\x00\\x00\\x00\\x00\\x00\\x00\\x00\\x00\\x00\\x00\\x00\\x00\\x00\\x00\\x00\\x00\\x00\\x00\\x00\\x00\\x00\\x00\\x00\\x00\\x00\\x00\\x00\\x00\\x00\\x00\\x00\\x00\\x00\\x00\\x00\\x00\\x00\\x00\\x00\\x00\\x00\\x00\\x00\\x00\\x00\\x00\\x00\\x00\\x00\\x00\\x00\\x00\\x00\\x00\\x00\\x00\\x00\\x00”’]Kأ0\\x18…ï\\x05ےCة}›¶›c†¶أ\\x0fvه@p¢x\\x17’wk±ù ‰vû÷¦\\x1f«صyمM 9\\'OخyI¶:ˆ:ّ\\x04c+%s”D1\\n@2إ+¹درَv\\x1d.Q`\\x1d•œضJBژژ`رھ¸¼بک&L\\x19x4Jƒq\\x15طہ“¤%Lç¨tN\\x13Œ-+AP\\x1by‡ôâN\\x19A\\u200cكڑ=ض”½س=à4ژ\\x17X€£œ:ٹ[`¨G\"\\x1aگœچH\\u200eaê\\x0eہ\\x19†\\x1a\\x04Hgq\\x12%ّغëہ\\x08ûç…N™8Eهژعw\\x1aâNظœُâè>طj46M\\x135³.†دںà×حأSW5¬d;+\\x06¨ب8#ج\\x00uت\\x14\\x1bUR\\x01ü¦ôK†\\'B;ؤڑZ·ٌَقUہoڈ؟¼ç؛çv5z8ًہ\\x07#}چ“ٍ2»»ك®Q‘ئé<Œ—a\\x1ao“+’ؤd¾xkںےq؟\\nع\\x1fˆ!ؤ؟ˆ×\\x13â\\tPdّىs\\x14_\\x00\\x00\\x00ےے\\x03\\x00PK\\x03\\x04\\x14\\x00\\x06\\x00\\x08\\x00\\x00\\x00!\\x00hr‰àƒ\\x01\\x00\\x00\\x06\\x03\\x00\\x00\\x10\\x00\\x08\\x01docProps/app.xml ¢\\x04\\x01(\\xa0\\x00\\x01\\x00\\x00\\x00\\x00\\x00\\x00\\x00\\x00\\x00\\x00\\x00\\x00\\x00\\x00\\x00\\x00\\x00\\x00\\x00\\x00\\x00\\x00\\x00\\x00\\x00\\x00\\x00\\x00\\x00\\x00\\x00\\x00\\x00\\x00\\x00\\x00\\x00\\x00\\x00\\x00\\x00\\x00\\x00\\x00\\x00\\x00\\x00\\x00\\x00\\x00\\x00\\x00\\x00\\x00\\x00\\x00\\x00\\x00\\x00\\x00\\x00\\x00\\x00\\x00\\x00\\x00\\x00\\x00\\x00\\x00\\x00\\x00\\x00\\x00\\x00\\x00\\x00\\x00\\x00\\x00\\x00\\x00\\x00\\x00\\x00\\x00\\x00\\x00\\x00\\x00\\x00\\x00\\x00\\x00\\x00\\x00\\x00\\x00\\x00\\x00\\x00\\x00\\x00\\x00\\x00\\x00\\x00\\x00\\x00\\x00\\x00\\x00\\x00\\x00\\x00\\x00\\x00\\x00\\x00\\x00\\x00\\x00\\x00\\x00\\x00\\x00\\x00\\x00\\x00\\x00\\x00\\x00\\x00\\x00\\x00\\x00\\x00\\x00\\x00\\x00\\x00\\x00\\x00\\x00\\x00\\x00\\x00\\x00\\x00\\x00\\x00\\x00\\x00\\x00\\x00\\x00\\x00\\x00\\x00\\x00\\x00\\x00\\x00\\x00\\x00\\x00\\x00\\x00\\x00\\x00\\x00\\x00\\x00\\x00\\x00\\x00\\x00\\x00\\x00\\x00\\x00\\x00\\x00\\x00\\x00\\x00\\x00\\x00\\x00\\x00\\x00\\x00\\x00\\x00\\x00\\x00\\x00\\x00\\x00\\x00\\x00\\x00\\x00\\x00\\x00\\x00\\x00\\x00\\x00\\x00\\x00\\x00\\x00\\x00\\x00\\x00\\x00\\x00\\x00\\x00\\x00\\x00\\x00\\x00\\x00\\x00\\x00\\x00\\x00\\x00\\x00\\x00\\x00\\x00\\x00\\x00\\x00\\x00\\x00\\x00\\x00\\x00\\x00\\x00\\x00\\x00\\x00\\x00\\x00\\x00\\x00\\x00\\x00\\x00\\x00\\x00œ’MOم0\\x10†ïHû\\x1f\"ك©سî\\n،ت1B…\\x15\\x07ذV´°gمL\\x1a\\x0b×ژ<Cشî¯g’¨%…=q›/؟َّµصصnë³\\x16\\x12؛\\x18\\n1\\u200cن\"ƒ`céآ¦\\x10Oëكç—\"C2،4>\\x06(ؤ\\x1eP\\\\é\\x1fgj™b\\x03‰\\x1c`ئ\\x12\\x01\\x0bQ\\x135s)رض°58لvàN\\x15سض\\x10§i#cU9\\x0b7ر¾m!گœهù…„\\x1dA(،<oژ‚bPœ·ô]ر2عژ\\x0fں×û†پµ؛n\\x1aï¬!¾¥~p6EŒ\\x15e·;\\x0b^ةqS1ف\\nى[r´×¹’مT\\xad¬ٌ°`a]\\x19ڈ\\xa0نGAفپéL[\\x1a—P«–و-Xٹ)C÷ڈm›‰ىإ t8…hMr&\\x10cucCزا¾AJْoL¯X\\x03\\x10*ة\\x03C±\\x0fا³مط\\u200eزس~€ƒسءN`\\x00لئ)âع‘\\x07üS-M¢ے\\x10Oاؤ=أہ;à°sµ\\t\\x1bب\\x1e\\nءWخ\\u200fê¼ٌسژ{\\x17^ٌ©Yا\\x1b>uًً´¨VµIP²يGڈڈ\\x05uاِ%ك‰,ْيهaوk£{ٌçل[ëéإ$ے™َcژjJ~|`\\u200e\\x0e\\x00\\x00ےے\\x03\\x00PK\\x01\\x02-\\x00\\x14\\x00\\x06\\x00\\x08\\x00\\x00\\x00!\\x00bî\\u200ch^\\x01\\x00\\x00گ\\x04\\x00\\x00\\x13\\x00\\x00\\x00\\x00\\x00\\x00\\x00\\x00\\x00\\x00\\x00\\x00\\x00\\x00\\x00\\x00\\x00[Content_Types].xmlPK\\x01\\x02-\\x00\\x14\\x00\\x06\\x00\\x08\\x00\\x00\\x00!\\x00µU0#ô\\x00\\x00\\x00L\\x02\\x00\\x00\\x0b\\x00\\x00\\x00\\x00\\x00\\x00\\x00\\x00\\x00\\x00\\x00\\x00\\x00—\\x03\\x00\\x00_rels/.relsPK\\x01\\x02-\\x00\\x14\\x00\\x06\\x00\\x08\\x00\\x00\\x00!\\x00”`\\u200f¶ں\\x02\\x00\\x00\\x18\\x06\\x00\\x00\\x0f\\x00\\x00\\x00\\x00\\x00\\x00\\x00\\x00\\x00\\x00\\x00\\x00\\x00¼\\x06\\x00\\x00xl/workbook.xmlPK\\x01\\x02-\\x00\\x14\\x00\\x06\\x00\\x08\\x00\\x00\\x00!\\x00پ>”—َ\\x00\\x00\\x00؛\\x02\\x00\\x00\\x1a\\x00\\x00\\x00\\x00\\x00\\x00\\x00\\x00\\x00\\x00\\x00\\x00\\x00ˆ\\t\\x00\\x00xl/_rels/workbook.xml.relsPK\\x01\\x02-\\x00\\x14\\x00\\x06\\x00\\x08\\x00\\x00\\x00!\\x00Bـ&\\x07N\\x0e\\x02\\x00h\\xa0\\n\\x00\\x18\\x00\\x00\\x00\\x00\\x00\\x00\\x00\\x00\\x00\\x00\\x00\\x00\\x00»\\x0b\\x00\\x00xl/worksheets/sheet1.xmlPK\\x01\\x02-\\x00\\x14\\x00\\x06\\x00\\x08\\x00\\x00\\x00!\\x00ء\\x17\\x10¾N\\x07\\x00\\x00ئ \\x00\\x00\\x13\\x00\\x00\\x00\\x00\\x00\\x00\\x00\\x00\\x00\\x00\\x00\\x00\\x00?\\x1a\\x02\\x00xl/theme/theme1.xmlPK\\x01\\x02-\\x00\\x14\\x00\\x06\\x00\\x08\\x00\\x00\\x00!\\x00Eش پء\\x03\\x00\\x00ù\\x0b\\x00\\x00\\n\\x00\\x00\\x00\\x00\\x00\\x00\\x00\\x00\\x00\\x00\\x00\\x00\\x00¾!\\x02\\x00xl/styles.xmlPK\\x01\\x02-\\x00\\x14\\x00\\x06\\x00\\x08\\x00\\x00\\x00!\\x00âجPضإ\\x00\\x00\\x00#\\x01\\x00\\x00\\x14\\x00\\x00\\x00\\x00\\x00\\x00\\x00\\x00\\x00\\x00\\x00\\x00\\x00ھ%\\x02\\x00xl/sharedStrings.xmlPK\\x01\\x02-\\x00\\x14\\x00\\x06\\x00\\x08\\x00\\x00\\x00!\\x00Féم*B\\x01\\x00\\x00i\\x02\\x00\\x00\\x11\\x00\\x00\\x00\\x00\\x00\\x00\\x00\\x00\\x00\\x00\\x00\\x00\\x00،&\\x02\\x00docProps/core.xmlPK\\x01\\x02-\\x00\\x14\\x00\\x06\\x00\\x08\\x00\\x00\\x00!\\x00hr‰àƒ\\x01\\x00\\x00\\x06\\x03\\x00\\x00\\x10\\x00\\x00\\x00\\x00\\x00\\x00\\x00\\x00\\x00\\x00\\x00\\x00\\x00\\x1a)\\x02\\x00docProps/app.xmlPK\\x05\\x06\\x00\\x00\\x00\\x00\\n\\x00\\n\\x00€\\x02\\x00\\x00س+\\x02\\x00\\x00\\x00'"
      ]
     },
     "execution_count": 27,
     "metadata": {},
     "output_type": "execute_result"
    }
   ],
   "source": [
    "file.read()"
   ]
  },
  {
   "cell_type": "code",
   "execution_count": 28,
   "id": "6ace612e",
   "metadata": {},
   "outputs": [
    {
     "data": {
      "text/plain": [
       "'r'"
      ]
     },
     "execution_count": 28,
     "metadata": {},
     "output_type": "execute_result"
    }
   ],
   "source": [
    "file.mode"
   ]
  },
  {
   "cell_type": "code",
   "execution_count": 30,
   "id": "45342f6f",
   "metadata": {},
   "outputs": [
    {
     "data": {
      "text/plain": [
       "'C:/Users/MohamedAhmed/Downloads/3F448400.xlsx'"
      ]
     },
     "execution_count": 30,
     "metadata": {},
     "output_type": "execute_result"
    }
   ],
   "source": [
    "file.name"
   ]
  },
  {
   "cell_type": "code",
   "execution_count": 31,
   "id": "fbfdfabc",
   "metadata": {},
   "outputs": [],
   "source": [
    "file.close()"
   ]
  },
  {
   "cell_type": "code",
   "execution_count": null,
   "id": "0c300a88",
   "metadata": {},
   "outputs": [],
   "source": [
    "with open(\"C:/Users/MohamedAhmed/Downloads/3F448400.xlsx\")"
   ]
  }
 ],
 "metadata": {
  "kernelspec": {
   "display_name": "Python 3 (ipykernel)",
   "language": "python",
   "name": "python3"
  },
  "language_info": {
   "codemirror_mode": {
    "name": "ipython",
    "version": 3
   },
   "file_extension": ".py",
   "mimetype": "text/x-python",
   "name": "python",
   "nbconvert_exporter": "python",
   "pygments_lexer": "ipython3",
   "version": "3.12.4"
  }
 },
 "nbformat": 4,
 "nbformat_minor": 5
}
